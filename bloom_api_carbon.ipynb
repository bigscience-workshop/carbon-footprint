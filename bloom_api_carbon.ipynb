{
 "cells": [
  {
   "cell_type": "code",
   "execution_count": 1,
   "id": "48f7fdd0",
   "metadata": {},
   "outputs": [],
   "source": [
    "import os\n",
    "import matplotlib\n",
    "import numpy as np\n",
    "import pandas as pd\n",
    "import csv\n",
    "import datetime\n",
    "from collections import Counter\n",
    "\n",
    "pd.set_option('display.max_columns', 1000)  # or 1000\n",
    "pd.set_option('display.max_rows', 1000)  # or 1000\n",
    "pd.set_option('display.max_colwidth', None) \n",
    "pd.options.plotting.backend = \"plotly\""
   ]
  },
  {
   "cell_type": "code",
   "execution_count": 2,
   "id": "8d88f29c",
   "metadata": {},
   "outputs": [],
   "source": [
    "directory = \"API-logs/\""
   ]
  },
  {
   "cell_type": "markdown",
   "id": "a34f4cf2",
   "metadata": {},
   "source": [
    "### Code Carbon logs"
   ]
  },
  {
   "cell_type": "code",
   "execution_count": 3,
   "id": "1b752384",
   "metadata": {},
   "outputs": [],
   "source": [
    "carbondf = pd.DataFrame(columns = ['date', 'timestamp', 'RAM energy', 'GPU energy', 'CPU energy', 'Energy consumed'])"
   ]
  },
  {
   "cell_type": "code",
   "execution_count": 4,
   "id": "fd2c88a3",
   "metadata": {},
   "outputs": [
    {
     "data": {
      "text/plain": [
       "143138"
      ]
     },
     "execution_count": 4,
     "metadata": {},
     "output_type": "execute_result"
    }
   ],
   "source": [
    "ins=[]\n",
    "with open(directory+'carbon.log' , 'r') as f:\n",
    "    lines = f.readlines() # readlines creates a list of the lines\n",
    "    for line in lines:\n",
    "        if 'Sep' in line:\n",
    "            ins.append(lines.index(line))\n",
    "len(lines)"
   ]
  },
  {
   "cell_type": "code",
   "execution_count": 5,
   "id": "5f423497",
   "metadata": {},
   "outputs": [
    {
     "name": "stdout",
     "output_type": "stream",
     "text": [
      "13408\n",
      "36577\n",
      "36573\n",
      "36577\n",
      "20003\n"
     ]
    }
   ],
   "source": [
    "alldates, sep22, sep23, sep24, sep25, sep26= [], [], [], [], [], []\n",
    "sep22 = lines[ins[0]:ins[1]]\n",
    "print(len(sep22))\n",
    "alldates.append(sep22)\n",
    "sep23 = lines[ins[1]:ins[2]]\n",
    "print(len(sep23))\n",
    "alldates.append(sep23)\n",
    "sep24 = lines[ins[2]:ins[3]]\n",
    "alldates.append(sep24)\n",
    "print(len(sep24))\n",
    "sep25 = lines[ins[3]:ins[4]]\n",
    "alldates.append(sep25)\n",
    "print(len(sep25))\n",
    "sep26 = lines[ins[4]:len(lines)]\n",
    "alldates.append(sep26)\n",
    "print(len(sep26))"
   ]
  },
  {
   "cell_type": "code",
   "execution_count": 6,
   "id": "ae398086",
   "metadata": {},
   "outputs": [
    {
     "name": "stdout",
     "output_type": "stream",
     "text": [
      "22/Sep/2022\n",
      "13408\n",
      "23/Sep/2022\n",
      "36577\n",
      "24/Sep/2022\n",
      "36573\n",
      "25/Sep/2022\n",
      "36577\n",
      "26/Sep/2022\n",
      "20003\n"
     ]
    }
   ],
   "source": [
    "count=0\n",
    "for day in alldates: \n",
    "    date= day[0].replace('\\n','')\n",
    "    print(date)\n",
    "    print(len(day))\n",
    "    for i in range(1, len(day), 4):\n",
    "        for line in day[i:i + 4]:\n",
    "            try:\n",
    "                time = line.split('@')[1].split(']')[0].strip()\n",
    "            except:\n",
    "                continue\n",
    "            if 'RAM :' in line: \n",
    "                ram_nrj = line.split('Energy consumed for RAM :')[1].split('RAM')[0].replace('kWh.','')\n",
    "            elif 'GPUs'in line:\n",
    "                gpu_nrj = line.split('Energy consumed for all GPUs :')[1].split('All GPUs')[0].replace('kWh.','')\n",
    "            elif 'CPUs' in line:\n",
    "                cpu_nrj= line.split('Energy consumed for all CPUs :')[1].split('All CPUs')[0].replace('kWh.','')\n",
    "            elif ' electricity used since the begining.' in line:\n",
    "                total_nrj = line.split(' electricity used since the begining.')[0].split(']')[1].replace(' of','').replace('kWh','')\n",
    "        carbondf.loc[count] = [date, time, ram_nrj, gpu_nrj, cpu_nrj, total_nrj]\n",
    "        count+=1"
   ]
  },
  {
   "cell_type": "code",
   "execution_count": 7,
   "id": "c1c382d1",
   "metadata": {},
   "outputs": [],
   "source": [
    "carbondf[\"Energy consumed\"] = pd.to_numeric(carbondf[\"Energy consumed\"])"
   ]
  },
  {
   "cell_type": "code",
   "execution_count": 8,
   "id": "f3d02df1",
   "metadata": {},
   "outputs": [
    {
     "data": {
      "text/plain": [
       "(35784, 6)"
      ]
     },
     "execution_count": 8,
     "metadata": {},
     "output_type": "execute_result"
    }
   ],
   "source": [
    "carbondf.shape"
   ]
  },
  {
   "cell_type": "code",
   "execution_count": 9,
   "id": "8f2ced67",
   "metadata": {},
   "outputs": [
    {
     "data": {
      "text/plain": [
       "23/Sep/2022    9144\n",
       "25/Sep/2022    9144\n",
       "24/Sep/2022    9143\n",
       "26/Sep/2022    5001\n",
       "22/Sep/2022    3352\n",
       "Name: date, dtype: int64"
      ]
     },
     "execution_count": 9,
     "metadata": {},
     "output_type": "execute_result"
    }
   ],
   "source": [
    "carbondf.date.value_counts()"
   ]
  },
  {
   "cell_type": "code",
   "execution_count": 10,
   "id": "1359b315",
   "metadata": {},
   "outputs": [],
   "source": [
    "#carbondf = carbondf.sort_values('Energy consumed')\n",
    "#carbondf = carbondf.reset_index(drop=True)"
   ]
  },
  {
   "cell_type": "code",
   "execution_count": 11,
   "id": "0cf1179f",
   "metadata": {},
   "outputs": [
    {
     "data": {
      "text/html": [
       "<div>\n",
       "<style scoped>\n",
       "    .dataframe tbody tr th:only-of-type {\n",
       "        vertical-align: middle;\n",
       "    }\n",
       "\n",
       "    .dataframe tbody tr th {\n",
       "        vertical-align: top;\n",
       "    }\n",
       "\n",
       "    .dataframe thead th {\n",
       "        text-align: right;\n",
       "    }\n",
       "</style>\n",
       "<table border=\"1\" class=\"dataframe\">\n",
       "  <thead>\n",
       "    <tr style=\"text-align: right;\">\n",
       "      <th></th>\n",
       "      <th>date</th>\n",
       "      <th>timestamp</th>\n",
       "      <th>RAM energy</th>\n",
       "      <th>GPU energy</th>\n",
       "      <th>CPU energy</th>\n",
       "      <th>Energy consumed</th>\n",
       "    </tr>\n",
       "  </thead>\n",
       "  <tbody>\n",
       "    <tr>\n",
       "      <th>0</th>\n",
       "      <td>22/Sep/2022</td>\n",
       "      <td>15:12:02</td>\n",
       "      <td>0.001395</td>\n",
       "      <td>0.006703</td>\n",
       "      <td>0.000125</td>\n",
       "      <td>0.008222</td>\n",
       "    </tr>\n",
       "    <tr>\n",
       "      <th>1</th>\n",
       "      <td>22/Sep/2022</td>\n",
       "      <td>15:12:12</td>\n",
       "      <td>0.002708</td>\n",
       "      <td>0.013103</td>\n",
       "      <td>0.000243</td>\n",
       "      <td>0.016054</td>\n",
       "    </tr>\n",
       "    <tr>\n",
       "      <th>2</th>\n",
       "      <td>22/Sep/2022</td>\n",
       "      <td>15:12:22</td>\n",
       "      <td>0.004022</td>\n",
       "      <td>0.021320</td>\n",
       "      <td>0.000361</td>\n",
       "      <td>0.025703</td>\n",
       "    </tr>\n",
       "    <tr>\n",
       "      <th>3</th>\n",
       "      <td>22/Sep/2022</td>\n",
       "      <td>15:12:32</td>\n",
       "      <td>0.005333</td>\n",
       "      <td>0.024947</td>\n",
       "      <td>0.000478</td>\n",
       "      <td>0.030758</td>\n",
       "    </tr>\n",
       "    <tr>\n",
       "      <th>4</th>\n",
       "      <td>22/Sep/2022</td>\n",
       "      <td>15:12:42</td>\n",
       "      <td>0.006658</td>\n",
       "      <td>0.028631</td>\n",
       "      <td>0.000597</td>\n",
       "      <td>0.035886</td>\n",
       "    </tr>\n",
       "  </tbody>\n",
       "</table>\n",
       "</div>"
      ],
      "text/plain": [
       "          date timestamp   RAM energy   GPU energy   CPU energy  \\\n",
       "0  22/Sep/2022  15:12:02   0.001395     0.006703     0.000125     \n",
       "1  22/Sep/2022  15:12:12   0.002708     0.013103     0.000243     \n",
       "2  22/Sep/2022  15:12:22   0.004022     0.021320     0.000361     \n",
       "3  22/Sep/2022  15:12:32   0.005333     0.024947     0.000478     \n",
       "4  22/Sep/2022  15:12:42   0.006658     0.028631     0.000597     \n",
       "\n",
       "   Energy consumed  \n",
       "0         0.008222  \n",
       "1         0.016054  \n",
       "2         0.025703  \n",
       "3         0.030758  \n",
       "4         0.035886  "
      ]
     },
     "execution_count": 11,
     "metadata": {},
     "output_type": "execute_result"
    }
   ],
   "source": [
    "carbondf.head()"
   ]
  },
  {
   "cell_type": "code",
   "execution_count": 12,
   "id": "811a7c50",
   "metadata": {},
   "outputs": [],
   "source": [
    "carbondf['time'] = carbondf['date'] + ' ' + carbondf['timestamp'].astype(str)"
   ]
  },
  {
   "cell_type": "code",
   "execution_count": 13,
   "id": "dda02fbd",
   "metadata": {},
   "outputs": [],
   "source": [
    "carbondf['time'] = pd.to_datetime(carbondf['time'] , format= \"%d/%b/%Y %H:%M:%S\")"
   ]
  },
  {
   "cell_type": "code",
   "execution_count": 262,
   "id": "752af6d0",
   "metadata": {},
   "outputs": [
    {
     "data": {
      "text/html": [
       "<div>\n",
       "<style scoped>\n",
       "    .dataframe tbody tr th:only-of-type {\n",
       "        vertical-align: middle;\n",
       "    }\n",
       "\n",
       "    .dataframe tbody tr th {\n",
       "        vertical-align: top;\n",
       "    }\n",
       "\n",
       "    .dataframe thead th {\n",
       "        text-align: right;\n",
       "    }\n",
       "</style>\n",
       "<table border=\"1\" class=\"dataframe\">\n",
       "  <thead>\n",
       "    <tr style=\"text-align: right;\">\n",
       "      <th></th>\n",
       "      <th>date</th>\n",
       "      <th>timestamp</th>\n",
       "      <th>RAM energy</th>\n",
       "      <th>GPU energy</th>\n",
       "      <th>CPU energy</th>\n",
       "      <th>Energy consumed</th>\n",
       "      <th>time</th>\n",
       "    </tr>\n",
       "  </thead>\n",
       "  <tbody>\n",
       "    <tr>\n",
       "      <th>35779</th>\n",
       "      <td>26/Sep/2022</td>\n",
       "      <td>13:07:07</td>\n",
       "      <td>44.674263</td>\n",
       "      <td>149.981416</td>\n",
       "      <td>3.991420</td>\n",
       "      <td>198.645777</td>\n",
       "      <td>2022-09-26 13:07:07</td>\n",
       "    </tr>\n",
       "    <tr>\n",
       "      <th>35780</th>\n",
       "      <td>26/Sep/2022</td>\n",
       "      <td>13:07:08</td>\n",
       "      <td>44.674263</td>\n",
       "      <td>149.985048</td>\n",
       "      <td>3.991539</td>\n",
       "      <td>198.650850</td>\n",
       "      <td>2022-09-26 13:07:08</td>\n",
       "    </tr>\n",
       "    <tr>\n",
       "      <th>35781</th>\n",
       "      <td>26/Sep/2022</td>\n",
       "      <td>13:07:08</td>\n",
       "      <td>44.674263</td>\n",
       "      <td>149.985048</td>\n",
       "      <td>3.991539</td>\n",
       "      <td>198.650850</td>\n",
       "      <td>2022-09-26 13:07:08</td>\n",
       "    </tr>\n",
       "    <tr>\n",
       "      <th>35782</th>\n",
       "      <td>26/Sep/2022</td>\n",
       "      <td>13:07:17</td>\n",
       "      <td>44.675578</td>\n",
       "      <td>149.991459</td>\n",
       "      <td>3.991539</td>\n",
       "      <td>198.650850</td>\n",
       "      <td>2022-09-26 13:07:17</td>\n",
       "    </tr>\n",
       "    <tr>\n",
       "      <th>35783</th>\n",
       "      <td>26/Sep/2022</td>\n",
       "      <td>13:07:18</td>\n",
       "      <td>44.675578</td>\n",
       "      <td>149.991459</td>\n",
       "      <td>3.991657</td>\n",
       "      <td>198.658694</td>\n",
       "      <td>2022-09-26 13:07:18</td>\n",
       "    </tr>\n",
       "  </tbody>\n",
       "</table>\n",
       "</div>"
      ],
      "text/plain": [
       "              date timestamp    RAM energy     GPU energy   CPU energy  \\\n",
       "35779  26/Sep/2022  13:07:07   44.674263     149.981416     3.991420     \n",
       "35780  26/Sep/2022  13:07:08   44.674263     149.985048     3.991539     \n",
       "35781  26/Sep/2022  13:07:08   44.674263     149.985048     3.991539     \n",
       "35782  26/Sep/2022  13:07:17   44.675578     149.991459     3.991539     \n",
       "35783  26/Sep/2022  13:07:18   44.675578     149.991459     3.991657     \n",
       "\n",
       "       Energy consumed                time  \n",
       "35779       198.645777 2022-09-26 13:07:07  \n",
       "35780       198.650850 2022-09-26 13:07:08  \n",
       "35781       198.650850 2022-09-26 13:07:08  \n",
       "35782       198.650850 2022-09-26 13:07:17  \n",
       "35783       198.658694 2022-09-26 13:07:18  "
      ]
     },
     "execution_count": 262,
     "metadata": {},
     "output_type": "execute_result"
    }
   ],
   "source": [
    "carbondf.tail()"
   ]
  },
  {
   "cell_type": "markdown",
   "id": "4f6559b5",
   "metadata": {},
   "source": [
    "## Energy consumption by 15 min"
   ]
  },
  {
   "cell_type": "code",
   "execution_count": 394,
   "id": "06301bbb",
   "metadata": {},
   "outputs": [
    {
     "data": {
      "text/html": [
       "<div>\n",
       "<style scoped>\n",
       "    .dataframe tbody tr th:only-of-type {\n",
       "        vertical-align: middle;\n",
       "    }\n",
       "\n",
       "    .dataframe tbody tr th {\n",
       "        vertical-align: top;\n",
       "    }\n",
       "\n",
       "    .dataframe thead th {\n",
       "        text-align: right;\n",
       "    }\n",
       "</style>\n",
       "<table border=\"1\" class=\"dataframe\">\n",
       "  <thead>\n",
       "    <tr style=\"text-align: right;\">\n",
       "      <th></th>\n",
       "      <th>date</th>\n",
       "      <th>timestamp</th>\n",
       "      <th>RAM energy</th>\n",
       "      <th>GPU energy</th>\n",
       "      <th>CPU energy</th>\n",
       "      <th>Energy consumed</th>\n",
       "    </tr>\n",
       "    <tr>\n",
       "      <th>time</th>\n",
       "      <th></th>\n",
       "      <th></th>\n",
       "      <th></th>\n",
       "      <th></th>\n",
       "      <th></th>\n",
       "      <th></th>\n",
       "    </tr>\n",
       "  </thead>\n",
       "  <tbody>\n",
       "    <tr>\n",
       "      <th>2022-09-26 12:20:00</th>\n",
       "      <td>26/Sep/2022</td>\n",
       "      <td>12:29:57</td>\n",
       "      <td>44.379839</td>\n",
       "      <td>148.984825</td>\n",
       "      <td>3.965095</td>\n",
       "      <td>197.319061</td>\n",
       "    </tr>\n",
       "    <tr>\n",
       "      <th>2022-09-26 12:30:00</th>\n",
       "      <td>26/Sep/2022</td>\n",
       "      <td>12:39:58</td>\n",
       "      <td>44.459049</td>\n",
       "      <td>149.254942</td>\n",
       "      <td>3.972296</td>\n",
       "      <td>197.686286</td>\n",
       "    </tr>\n",
       "    <tr>\n",
       "      <th>2022-09-26 12:40:00</th>\n",
       "      <td>26/Sep/2022</td>\n",
       "      <td>12:49:57</td>\n",
       "      <td>44.538203</td>\n",
       "      <td>149.543014</td>\n",
       "      <td>3.979260</td>\n",
       "      <td>198.052738</td>\n",
       "    </tr>\n",
       "    <tr>\n",
       "      <th>2022-09-26 12:50:00</th>\n",
       "      <td>26/Sep/2022</td>\n",
       "      <td>12:59:58</td>\n",
       "      <td>44.617507</td>\n",
       "      <td>149.795291</td>\n",
       "      <td>3.986463</td>\n",
       "      <td>198.399261</td>\n",
       "    </tr>\n",
       "    <tr>\n",
       "      <th>2022-09-26 13:00:00</th>\n",
       "      <td>26/Sep/2022</td>\n",
       "      <td>13:07:18</td>\n",
       "      <td>44.675578</td>\n",
       "      <td>149.991459</td>\n",
       "      <td>3.991657</td>\n",
       "      <td>198.658694</td>\n",
       "    </tr>\n",
       "  </tbody>\n",
       "</table>\n",
       "</div>"
      ],
      "text/plain": [
       "                            date timestamp    RAM energy     GPU energy  \\\n",
       "time                                                                      \n",
       "2022-09-26 12:20:00  26/Sep/2022  12:29:57   44.379839     148.984825     \n",
       "2022-09-26 12:30:00  26/Sep/2022  12:39:58   44.459049     149.254942     \n",
       "2022-09-26 12:40:00  26/Sep/2022  12:49:57   44.538203     149.543014     \n",
       "2022-09-26 12:50:00  26/Sep/2022  12:59:58   44.617507     149.795291     \n",
       "2022-09-26 13:00:00  26/Sep/2022  13:07:18   44.675578     149.991459     \n",
       "\n",
       "                      CPU energy  Energy consumed  \n",
       "time                                               \n",
       "2022-09-26 12:20:00   3.965095         197.319061  \n",
       "2022-09-26 12:30:00   3.972296         197.686286  \n",
       "2022-09-26 12:40:00   3.979260         198.052738  \n",
       "2022-09-26 12:50:00   3.986463         198.399261  \n",
       "2022-09-26 13:00:00   3.991657         198.658694  "
      ]
     },
     "execution_count": 394,
     "metadata": {},
     "output_type": "execute_result"
    }
   ],
   "source": [
    "carbonhourdf = carbondf.groupby(pd.Grouper(key = 'time', freq='10min')).last()\n",
    "carbonhourdf.tail()"
   ]
  },
  {
   "cell_type": "code",
   "execution_count": 395,
   "id": "0b945abe",
   "metadata": {},
   "outputs": [],
   "source": [
    "carbonhourdf['Energy by interval'] = carbonhourdf[\"Energy consumed\"].diff()"
   ]
  },
  {
   "cell_type": "code",
   "execution_count": 396,
   "id": "2475ce95",
   "metadata": {},
   "outputs": [
    {
     "data": {
      "text/plain": [
       "(556, 7)"
      ]
     },
     "execution_count": 396,
     "metadata": {},
     "output_type": "execute_result"
    }
   ],
   "source": [
    "carbonhourdf = carbonhourdf.iloc[7:-1 , :]\n",
    "carbonhourdf.shape"
   ]
  },
  {
   "cell_type": "code",
   "execution_count": 397,
   "id": "a5700c0f",
   "metadata": {},
   "outputs": [
    {
     "data": {
      "text/html": [
       "<div>\n",
       "<style scoped>\n",
       "    .dataframe tbody tr th:only-of-type {\n",
       "        vertical-align: middle;\n",
       "    }\n",
       "\n",
       "    .dataframe tbody tr th {\n",
       "        vertical-align: top;\n",
       "    }\n",
       "\n",
       "    .dataframe thead th {\n",
       "        text-align: right;\n",
       "    }\n",
       "</style>\n",
       "<table border=\"1\" class=\"dataframe\">\n",
       "  <thead>\n",
       "    <tr style=\"text-align: right;\">\n",
       "      <th></th>\n",
       "      <th>date</th>\n",
       "      <th>timestamp</th>\n",
       "      <th>RAM energy</th>\n",
       "      <th>GPU energy</th>\n",
       "      <th>CPU energy</th>\n",
       "      <th>Energy consumed</th>\n",
       "      <th>Energy by interval</th>\n",
       "    </tr>\n",
       "    <tr>\n",
       "      <th>time</th>\n",
       "      <th></th>\n",
       "      <th></th>\n",
       "      <th></th>\n",
       "      <th></th>\n",
       "      <th></th>\n",
       "      <th></th>\n",
       "      <th></th>\n",
       "    </tr>\n",
       "  </thead>\n",
       "  <tbody>\n",
       "    <tr>\n",
       "      <th>2022-09-22 16:20:00</th>\n",
       "      <td>22/Sep/2022</td>\n",
       "      <td>16:29:52</td>\n",
       "      <td>0.616152</td>\n",
       "      <td>2.986218</td>\n",
       "      <td>0.055257</td>\n",
       "      <td>3.651571</td>\n",
       "      <td>0.460664</td>\n",
       "    </tr>\n",
       "    <tr>\n",
       "      <th>2022-09-22 16:30:00</th>\n",
       "      <td>22/Sep/2022</td>\n",
       "      <td>16:39:52</td>\n",
       "      <td>0.695054</td>\n",
       "      <td>3.367438</td>\n",
       "      <td>0.062223</td>\n",
       "      <td>4.123394</td>\n",
       "      <td>0.471823</td>\n",
       "    </tr>\n",
       "    <tr>\n",
       "      <th>2022-09-22 16:40:00</th>\n",
       "      <td>22/Sep/2022</td>\n",
       "      <td>16:49:53</td>\n",
       "      <td>0.773883</td>\n",
       "      <td>3.757831</td>\n",
       "      <td>0.069425</td>\n",
       "      <td>4.592904</td>\n",
       "      <td>0.469510</td>\n",
       "    </tr>\n",
       "    <tr>\n",
       "      <th>2022-09-22 16:50:00</th>\n",
       "      <td>22/Sep/2022</td>\n",
       "      <td>16:59:52</td>\n",
       "      <td>0.852737</td>\n",
       "      <td>4.133765</td>\n",
       "      <td>0.076390</td>\n",
       "      <td>5.061579</td>\n",
       "      <td>0.468675</td>\n",
       "    </tr>\n",
       "    <tr>\n",
       "      <th>2022-09-22 17:00:00</th>\n",
       "      <td>22/Sep/2022</td>\n",
       "      <td>17:09:53</td>\n",
       "      <td>0.931576</td>\n",
       "      <td>4.517707</td>\n",
       "      <td>0.083592</td>\n",
       "      <td>5.525039</td>\n",
       "      <td>0.463460</td>\n",
       "    </tr>\n",
       "  </tbody>\n",
       "</table>\n",
       "</div>"
      ],
      "text/plain": [
       "                            date timestamp   RAM energy   GPU energy  \\\n",
       "time                                                                   \n",
       "2022-09-22 16:20:00  22/Sep/2022  16:29:52   0.616152     2.986218     \n",
       "2022-09-22 16:30:00  22/Sep/2022  16:39:52   0.695054     3.367438     \n",
       "2022-09-22 16:40:00  22/Sep/2022  16:49:53   0.773883     3.757831     \n",
       "2022-09-22 16:50:00  22/Sep/2022  16:59:52   0.852737     4.133765     \n",
       "2022-09-22 17:00:00  22/Sep/2022  17:09:53   0.931576     4.517707     \n",
       "\n",
       "                      CPU energy  Energy consumed  Energy by interval  \n",
       "time                                                                   \n",
       "2022-09-22 16:20:00   0.055257           3.651571            0.460664  \n",
       "2022-09-22 16:30:00   0.062223           4.123394            0.471823  \n",
       "2022-09-22 16:40:00   0.069425           4.592904            0.469510  \n",
       "2022-09-22 16:50:00   0.076390           5.061579            0.468675  \n",
       "2022-09-22 17:00:00   0.083592           5.525039            0.463460  "
      ]
     },
     "execution_count": 397,
     "metadata": {},
     "output_type": "execute_result"
    }
   ],
   "source": [
    "carbonhourdf.head()"
   ]
  },
  {
   "cell_type": "code",
   "execution_count": 398,
   "id": "a3f7c13e",
   "metadata": {},
   "outputs": [
    {
     "data": {
      "text/html": [
       "<div>\n",
       "<style scoped>\n",
       "    .dataframe tbody tr th:only-of-type {\n",
       "        vertical-align: middle;\n",
       "    }\n",
       "\n",
       "    .dataframe tbody tr th {\n",
       "        vertical-align: top;\n",
       "    }\n",
       "\n",
       "    .dataframe thead th {\n",
       "        text-align: right;\n",
       "    }\n",
       "</style>\n",
       "<table border=\"1\" class=\"dataframe\">\n",
       "  <thead>\n",
       "    <tr style=\"text-align: right;\">\n",
       "      <th></th>\n",
       "      <th>date</th>\n",
       "      <th>timestamp</th>\n",
       "      <th>RAM energy</th>\n",
       "      <th>GPU energy</th>\n",
       "      <th>CPU energy</th>\n",
       "      <th>Energy consumed</th>\n",
       "      <th>Energy by interval</th>\n",
       "    </tr>\n",
       "    <tr>\n",
       "      <th>time</th>\n",
       "      <th></th>\n",
       "      <th></th>\n",
       "      <th></th>\n",
       "      <th></th>\n",
       "      <th></th>\n",
       "      <th></th>\n",
       "      <th></th>\n",
       "    </tr>\n",
       "  </thead>\n",
       "  <tbody>\n",
       "    <tr>\n",
       "      <th>2022-09-26 12:10:00</th>\n",
       "      <td>26/Sep/2022</td>\n",
       "      <td>12:19:58</td>\n",
       "      <td>44.300638</td>\n",
       "      <td>148.691290</td>\n",
       "      <td>3.958129</td>\n",
       "      <td>196.950057</td>\n",
       "      <td>0.365278</td>\n",
       "    </tr>\n",
       "    <tr>\n",
       "      <th>2022-09-26 12:20:00</th>\n",
       "      <td>26/Sep/2022</td>\n",
       "      <td>12:29:57</td>\n",
       "      <td>44.379839</td>\n",
       "      <td>148.984825</td>\n",
       "      <td>3.965095</td>\n",
       "      <td>197.319061</td>\n",
       "      <td>0.369004</td>\n",
       "    </tr>\n",
       "    <tr>\n",
       "      <th>2022-09-26 12:30:00</th>\n",
       "      <td>26/Sep/2022</td>\n",
       "      <td>12:39:58</td>\n",
       "      <td>44.459049</td>\n",
       "      <td>149.254942</td>\n",
       "      <td>3.972296</td>\n",
       "      <td>197.686286</td>\n",
       "      <td>0.367225</td>\n",
       "    </tr>\n",
       "    <tr>\n",
       "      <th>2022-09-26 12:40:00</th>\n",
       "      <td>26/Sep/2022</td>\n",
       "      <td>12:49:57</td>\n",
       "      <td>44.538203</td>\n",
       "      <td>149.543014</td>\n",
       "      <td>3.979260</td>\n",
       "      <td>198.052738</td>\n",
       "      <td>0.366452</td>\n",
       "    </tr>\n",
       "    <tr>\n",
       "      <th>2022-09-26 12:50:00</th>\n",
       "      <td>26/Sep/2022</td>\n",
       "      <td>12:59:58</td>\n",
       "      <td>44.617507</td>\n",
       "      <td>149.795291</td>\n",
       "      <td>3.986463</td>\n",
       "      <td>198.399261</td>\n",
       "      <td>0.346523</td>\n",
       "    </tr>\n",
       "  </tbody>\n",
       "</table>\n",
       "</div>"
      ],
      "text/plain": [
       "                            date timestamp    RAM energy     GPU energy  \\\n",
       "time                                                                      \n",
       "2022-09-26 12:10:00  26/Sep/2022  12:19:58   44.300638     148.691290     \n",
       "2022-09-26 12:20:00  26/Sep/2022  12:29:57   44.379839     148.984825     \n",
       "2022-09-26 12:30:00  26/Sep/2022  12:39:58   44.459049     149.254942     \n",
       "2022-09-26 12:40:00  26/Sep/2022  12:49:57   44.538203     149.543014     \n",
       "2022-09-26 12:50:00  26/Sep/2022  12:59:58   44.617507     149.795291     \n",
       "\n",
       "                      CPU energy  Energy consumed  Energy by interval  \n",
       "time                                                                   \n",
       "2022-09-26 12:10:00   3.958129         196.950057            0.365278  \n",
       "2022-09-26 12:20:00   3.965095         197.319061            0.369004  \n",
       "2022-09-26 12:30:00   3.972296         197.686286            0.367225  \n",
       "2022-09-26 12:40:00   3.979260         198.052738            0.366452  \n",
       "2022-09-26 12:50:00   3.986463         198.399261            0.346523  "
      ]
     },
     "execution_count": 398,
     "metadata": {},
     "output_type": "execute_result"
    }
   ],
   "source": [
    "carbonhourdf.tail()"
   ]
  },
  {
   "cell_type": "markdown",
   "id": "9537603a",
   "metadata": {},
   "source": [
    "### Server logs"
   ]
  },
  {
   "cell_type": "code",
   "execution_count": 94,
   "id": "0caa4cf1",
   "metadata": {},
   "outputs": [
    {
     "data": {
      "text/plain": [
       "54481"
      ]
     },
     "execution_count": 94,
     "metadata": {},
     "output_type": "execute_result"
    }
   ],
   "source": [
    "with open(directory+'time-server.log','r') as f:\n",
    "    lines = f.readlines() # readlines creates a list of the lines\n",
    "len(lines)"
   ]
  },
  {
   "cell_type": "code",
   "execution_count": 95,
   "id": "05746262",
   "metadata": {},
   "outputs": [],
   "source": [
    "requestdf = pd.DataFrame(columns = ['date', 'requests'])"
   ]
  },
  {
   "cell_type": "code",
   "execution_count": 96,
   "id": "113d7286",
   "metadata": {},
   "outputs": [],
   "source": [
    "import re\n",
    "count=0\n",
    "for line in lines:\n",
    "    if \"POST /generate HTTP/1.1\" in line:\n",
    "        time = line.split('[')[1].split(']')[0]\n",
    "        code = line.split(\"POST /generate HTTP/1.1\")[1]\n",
    "        code= re.sub(\"[^0-9]\", \"\", code)\n",
    "        code= code.replace('0400','400')\n",
    "        requestdf.loc[count] = [time, code]\n",
    "        count+=1"
   ]
  },
  {
   "cell_type": "code",
   "execution_count": 97,
   "id": "e0e8b5ae",
   "metadata": {},
   "outputs": [],
   "source": [
    "requestdf['date'] = pd.to_datetime(requestdf['date'] , format= \"%d/%b/%Y %H:%M:%S\")"
   ]
  },
  {
   "cell_type": "code",
   "execution_count": 98,
   "id": "1ec258be",
   "metadata": {},
   "outputs": [],
   "source": [
    "requestdf['requests'] = pd.to_numeric(requestdf['requests'])"
   ]
  },
  {
   "cell_type": "code",
   "execution_count": 100,
   "id": "e5334698",
   "metadata": {},
   "outputs": [
    {
     "data": {
      "text/plain": [
       "200    53332\n",
       "400     1149\n",
       "Name: requests, dtype: int64"
      ]
     },
     "execution_count": 100,
     "metadata": {},
     "output_type": "execute_result"
    }
   ],
   "source": [
    "requestdf.requests.value_counts()"
   ]
  },
  {
   "cell_type": "markdown",
   "id": "0cf2260f",
   "metadata": {},
   "source": [
    "200 = OK we answered\n",
    "\n",
    "400 = used bad request\n",
    "\n",
    "503 = refused because no more room in the queue"
   ]
  },
  {
   "cell_type": "markdown",
   "id": "30cafcb8",
   "metadata": {},
   "source": [
    "### Average number of requests per hour"
   ]
  },
  {
   "cell_type": "code",
   "execution_count": 401,
   "id": "9c263684",
   "metadata": {},
   "outputs": [
    {
     "data": {
      "text/plain": [
       "date\n",
       "2022-09-26 12:30:00    137\n",
       "2022-09-26 12:40:00    139\n",
       "2022-09-26 12:50:00     75\n",
       "2022-09-26 13:00:00    112\n",
       "2022-09-26 13:10:00     27\n",
       "Freq: 10T, Name: requests, dtype: int64"
      ]
     },
     "execution_count": 401,
     "metadata": {},
     "output_type": "execute_result"
    }
   ],
   "source": [
    "requesthourdf = requestdf.groupby(pd.Grouper(key = 'date', freq='60min')).count()\n",
    "requesthourdf['requests'].describe()"
   ]
  },
  {
   "cell_type": "markdown",
   "id": "d0b4d308",
   "metadata": {},
   "source": [
    "### Number of requests per 15 minutes"
   ]
  },
  {
   "cell_type": "code",
   "execution_count": 410,
   "id": "250cf1e2",
   "metadata": {},
   "outputs": [
    {
     "data": {
      "text/html": [
       "<div>\n",
       "<style scoped>\n",
       "    .dataframe tbody tr th:only-of-type {\n",
       "        vertical-align: middle;\n",
       "    }\n",
       "\n",
       "    .dataframe tbody tr th {\n",
       "        vertical-align: top;\n",
       "    }\n",
       "\n",
       "    .dataframe thead th {\n",
       "        text-align: right;\n",
       "    }\n",
       "</style>\n",
       "<table border=\"1\" class=\"dataframe\">\n",
       "  <thead>\n",
       "    <tr style=\"text-align: right;\">\n",
       "      <th></th>\n",
       "      <th>requests</th>\n",
       "    </tr>\n",
       "    <tr>\n",
       "      <th>date</th>\n",
       "      <th></th>\n",
       "    </tr>\n",
       "  </thead>\n",
       "  <tbody>\n",
       "    <tr>\n",
       "      <th>2022-09-26 12:10:00</th>\n",
       "      <td>129</td>\n",
       "    </tr>\n",
       "    <tr>\n",
       "      <th>2022-09-26 12:20:00</th>\n",
       "      <td>133</td>\n",
       "    </tr>\n",
       "    <tr>\n",
       "      <th>2022-09-26 12:30:00</th>\n",
       "      <td>137</td>\n",
       "    </tr>\n",
       "    <tr>\n",
       "      <th>2022-09-26 12:40:00</th>\n",
       "      <td>139</td>\n",
       "    </tr>\n",
       "    <tr>\n",
       "      <th>2022-09-26 12:50:00</th>\n",
       "      <td>75</td>\n",
       "    </tr>\n",
       "  </tbody>\n",
       "</table>\n",
       "</div>"
      ],
      "text/plain": [
       "                     requests\n",
       "date                         \n",
       "2022-09-26 12:10:00       129\n",
       "2022-09-26 12:20:00       133\n",
       "2022-09-26 12:30:00       137\n",
       "2022-09-26 12:40:00       139\n",
       "2022-09-26 12:50:00        75"
      ]
     },
     "execution_count": 410,
     "metadata": {},
     "output_type": "execute_result"
    }
   ],
   "source": [
    "requesthourdf = requestdf.groupby(pd.Grouper(key = 'date', freq='10min')).count()\n",
    "requesthourdf = requesthourdf.iloc[7:-2 , :]\n",
    "requesthourdf.tail()"
   ]
  },
  {
   "cell_type": "code",
   "execution_count": 411,
   "id": "93513052",
   "metadata": {},
   "outputs": [
    {
     "data": {
      "text/html": [
       "<div>\n",
       "<style scoped>\n",
       "    .dataframe tbody tr th:only-of-type {\n",
       "        vertical-align: middle;\n",
       "    }\n",
       "\n",
       "    .dataframe tbody tr th {\n",
       "        vertical-align: top;\n",
       "    }\n",
       "\n",
       "    .dataframe thead th {\n",
       "        text-align: right;\n",
       "    }\n",
       "</style>\n",
       "<table border=\"1\" class=\"dataframe\">\n",
       "  <thead>\n",
       "    <tr style=\"text-align: right;\">\n",
       "      <th></th>\n",
       "      <th>requests</th>\n",
       "    </tr>\n",
       "    <tr>\n",
       "      <th>date</th>\n",
       "      <th></th>\n",
       "    </tr>\n",
       "  </thead>\n",
       "  <tbody>\n",
       "    <tr>\n",
       "      <th>2022-09-22 16:20:00</th>\n",
       "      <td>237</td>\n",
       "    </tr>\n",
       "    <tr>\n",
       "      <th>2022-09-22 16:30:00</th>\n",
       "      <td>243</td>\n",
       "    </tr>\n",
       "    <tr>\n",
       "      <th>2022-09-22 16:40:00</th>\n",
       "      <td>213</td>\n",
       "    </tr>\n",
       "    <tr>\n",
       "      <th>2022-09-22 16:50:00</th>\n",
       "      <td>227</td>\n",
       "    </tr>\n",
       "    <tr>\n",
       "      <th>2022-09-22 17:00:00</th>\n",
       "      <td>208</td>\n",
       "    </tr>\n",
       "  </tbody>\n",
       "</table>\n",
       "</div>"
      ],
      "text/plain": [
       "                     requests\n",
       "date                         \n",
       "2022-09-22 16:20:00       237\n",
       "2022-09-22 16:30:00       243\n",
       "2022-09-22 16:40:00       213\n",
       "2022-09-22 16:50:00       227\n",
       "2022-09-22 17:00:00       208"
      ]
     },
     "execution_count": 411,
     "metadata": {},
     "output_type": "execute_result"
    }
   ],
   "source": [
    "requesthourdf.head()\n",
    "#2022-09-22 16:20:00"
   ]
  },
  {
   "cell_type": "code",
   "execution_count": 412,
   "id": "ce69fac6",
   "metadata": {},
   "outputs": [
    {
     "data": {
      "text/plain": [
       "(556, 1)"
      ]
     },
     "execution_count": 412,
     "metadata": {},
     "output_type": "execute_result"
    }
   ],
   "source": [
    "requesthourdf.shape"
   ]
  },
  {
   "cell_type": "markdown",
   "id": "3abe6bd2",
   "metadata": {},
   "source": [
    "### Merging the carbon and request DFs"
   ]
  },
  {
   "cell_type": "code",
   "execution_count": 413,
   "id": "ef18021f",
   "metadata": {},
   "outputs": [
    {
     "data": {
      "text/plain": [
       "(556, 8)"
      ]
     },
     "execution_count": 413,
     "metadata": {},
     "output_type": "execute_result"
    }
   ],
   "source": [
    "alllogdf = pd.concat([carbonhourdf,requesthourdf], axis=1)\n",
    "alllogdf['date']= alllogdf.index\n",
    "alllogdf.shape"
   ]
  },
  {
   "cell_type": "markdown",
   "id": "092849f1",
   "metadata": {},
   "source": [
    "Total time for logs:"
   ]
  },
  {
   "cell_type": "code",
   "execution_count": 419,
   "id": "7c4a1d34",
   "metadata": {},
   "outputs": [
    {
     "data": {
      "text/plain": [
       "Timedelta('3 days 20:30:00')"
      ]
     },
     "execution_count": 419,
     "metadata": {},
     "output_type": "execute_result"
    }
   ],
   "source": [
    "alllogdf_diff = alllogdf.iloc[[0, -1]]\n",
    "alllogdf_diff['date'].iloc[1] -  alllogdf_diff['date'].iloc[0]"
   ]
  },
  {
   "cell_type": "code",
   "execution_count": 274,
   "id": "a579b00f",
   "metadata": {},
   "outputs": [
    {
     "data": {
      "text/html": [
       "<div>\n",
       "<style scoped>\n",
       "    .dataframe tbody tr th:only-of-type {\n",
       "        vertical-align: middle;\n",
       "    }\n",
       "\n",
       "    .dataframe tbody tr th {\n",
       "        vertical-align: top;\n",
       "    }\n",
       "\n",
       "    .dataframe thead th {\n",
       "        text-align: right;\n",
       "    }\n",
       "</style>\n",
       "<table border=\"1\" class=\"dataframe\">\n",
       "  <thead>\n",
       "    <tr style=\"text-align: right;\">\n",
       "      <th></th>\n",
       "      <th>date</th>\n",
       "      <th>timestamp</th>\n",
       "      <th>RAM energy</th>\n",
       "      <th>GPU energy</th>\n",
       "      <th>CPU energy</th>\n",
       "      <th>Energy consumed</th>\n",
       "      <th>Energy by interval</th>\n",
       "      <th>requests</th>\n",
       "    </tr>\n",
       "  </thead>\n",
       "  <tbody>\n",
       "    <tr>\n",
       "      <th>2022-09-26 11:45:00</th>\n",
       "      <td>2022-09-26 11:45:00</td>\n",
       "      <td>11:59:57</td>\n",
       "      <td>44.141909</td>\n",
       "      <td>148.180237</td>\n",
       "      <td>3.943960</td>\n",
       "      <td>196.266107</td>\n",
       "      <td>0.503662</td>\n",
       "      <td>140</td>\n",
       "    </tr>\n",
       "    <tr>\n",
       "      <th>2022-09-26 12:00:00</th>\n",
       "      <td>2022-09-26 12:00:00</td>\n",
       "      <td>12:14:57</td>\n",
       "      <td>44.261019</td>\n",
       "      <td>148.551300</td>\n",
       "      <td>3.954586</td>\n",
       "      <td>196.762001</td>\n",
       "      <td>0.495894</td>\n",
       "      <td>115</td>\n",
       "    </tr>\n",
       "    <tr>\n",
       "      <th>2022-09-26 12:15:00</th>\n",
       "      <td>2022-09-26 12:15:00</td>\n",
       "      <td>12:29:57</td>\n",
       "      <td>44.379839</td>\n",
       "      <td>148.984825</td>\n",
       "      <td>3.965095</td>\n",
       "      <td>197.319061</td>\n",
       "      <td>0.557060</td>\n",
       "      <td>206</td>\n",
       "    </tr>\n",
       "    <tr>\n",
       "      <th>2022-09-26 12:30:00</th>\n",
       "      <td>2022-09-26 12:30:00</td>\n",
       "      <td>12:44:57</td>\n",
       "      <td>44.498630</td>\n",
       "      <td>149.395452</td>\n",
       "      <td>3.975719</td>\n",
       "      <td>197.868487</td>\n",
       "      <td>0.549426</td>\n",
       "      <td>209</td>\n",
       "    </tr>\n",
       "    <tr>\n",
       "      <th>2022-09-26 12:45:00</th>\n",
       "      <td>2022-09-26 12:45:00</td>\n",
       "      <td>12:59:58</td>\n",
       "      <td>44.617507</td>\n",
       "      <td>149.795291</td>\n",
       "      <td>3.986463</td>\n",
       "      <td>198.399261</td>\n",
       "      <td>0.530774</td>\n",
       "      <td>142</td>\n",
       "    </tr>\n",
       "  </tbody>\n",
       "</table>\n",
       "</div>"
      ],
      "text/plain": [
       "                                   date timestamp    RAM energy  \\\n",
       "2022-09-26 11:45:00 2022-09-26 11:45:00  11:59:57   44.141909     \n",
       "2022-09-26 12:00:00 2022-09-26 12:00:00  12:14:57   44.261019     \n",
       "2022-09-26 12:15:00 2022-09-26 12:15:00  12:29:57   44.379839     \n",
       "2022-09-26 12:30:00 2022-09-26 12:30:00  12:44:57   44.498630     \n",
       "2022-09-26 12:45:00 2022-09-26 12:45:00  12:59:58   44.617507     \n",
       "\n",
       "                        GPU energy   CPU energy  Energy consumed  \\\n",
       "2022-09-26 11:45:00   148.180237     3.943960         196.266107   \n",
       "2022-09-26 12:00:00   148.551300     3.954586         196.762001   \n",
       "2022-09-26 12:15:00   148.984825     3.965095         197.319061   \n",
       "2022-09-26 12:30:00   149.395452     3.975719         197.868487   \n",
       "2022-09-26 12:45:00   149.795291     3.986463         198.399261   \n",
       "\n",
       "                     Energy by interval  requests  \n",
       "2022-09-26 11:45:00            0.503662       140  \n",
       "2022-09-26 12:00:00            0.495894       115  \n",
       "2022-09-26 12:15:00            0.557060       206  \n",
       "2022-09-26 12:30:00            0.549426       209  \n",
       "2022-09-26 12:45:00            0.530774       142  "
      ]
     },
     "execution_count": 274,
     "metadata": {},
     "output_type": "execute_result"
    }
   ],
   "source": [
    "alllogdf.tail()"
   ]
  },
  {
   "cell_type": "markdown",
   "id": "f3187102",
   "metadata": {},
   "source": [
    "### Tons of carbon"
   ]
  },
  {
   "cell_type": "code",
   "execution_count": 449,
   "id": "58d58a76",
   "metadata": {},
   "outputs": [
    {
     "data": {
      "text/plain": [
       "0.078169308834"
      ]
     },
     "execution_count": 449,
     "metadata": {},
     "output_type": "execute_result"
    }
   ],
   "source": [
    "((198.399261 * 394.0) /1e6)"
   ]
  },
  {
   "cell_type": "code",
   "execution_count": 220,
   "id": "db5bf54f",
   "metadata": {},
   "outputs": [],
   "source": [
    "alllogdf[\"normalized energy\"] = alllogdf['Energy by interval'] / alllogdf['Energy by interval'].max()\n",
    "alllogdf[\"normalized requests\"] = alllogdf[\"requests\"] / alllogdf[\"requests\"].max()"
   ]
  },
  {
   "cell_type": "code",
   "execution_count": 221,
   "id": "56fa4372",
   "metadata": {},
   "outputs": [],
   "source": [
    "alllogdf['log energy'] = np.log10(alllogdf['Energy by interval'] )\n",
    "alllogdf['log requests'] = np.log10(alllogdf['requests'] )"
   ]
  },
  {
   "cell_type": "markdown",
   "id": "73a9b3de",
   "metadata": {},
   "source": [
    "### Plotting raw values"
   ]
  },
  {
   "cell_type": "code",
   "execution_count": 222,
   "id": "9c122bdd",
   "metadata": {
    "scrolled": false
   },
   "outputs": [
    {
     "data": {
      "application/vnd.plotly.v1+json": {
       "config": {
        "plotlyServerURL": "https://plot.ly"
       },
       "data": [
        {
         "hovertemplate": "variable=requests<br>date=%{x}<br>value=%{y}<extra></extra>",
         "legendgroup": "requests",
         "line": {
          "color": "#636efa",
          "dash": "solid"
         },
         "marker": {
          "symbol": "circle"
         },
         "mode": "lines",
         "name": "requests",
         "orientation": "v",
         "showlegend": true,
         "type": "scatter",
         "x": [
          "2022-09-22T15:15:00",
          "2022-09-22T15:30:00",
          "2022-09-22T15:45:00",
          "2022-09-22T16:00:00",
          "2022-09-22T16:15:00",
          "2022-09-22T16:30:00",
          "2022-09-22T16:45:00",
          "2022-09-22T17:00:00",
          "2022-09-22T17:15:00",
          "2022-09-22T17:30:00",
          "2022-09-22T17:45:00",
          "2022-09-22T18:00:00",
          "2022-09-22T18:15:00",
          "2022-09-22T18:30:00",
          "2022-09-22T18:45:00",
          "2022-09-22T19:00:00",
          "2022-09-22T19:15:00",
          "2022-09-22T19:30:00",
          "2022-09-22T19:45:00",
          "2022-09-22T20:00:00",
          "2022-09-22T20:15:00",
          "2022-09-22T20:30:00",
          "2022-09-22T20:45:00",
          "2022-09-22T21:00:00",
          "2022-09-22T21:15:00",
          "2022-09-22T21:30:00",
          "2022-09-22T21:45:00",
          "2022-09-22T22:00:00",
          "2022-09-22T22:15:00",
          "2022-09-22T22:30:00",
          "2022-09-22T22:45:00",
          "2022-09-22T23:00:00",
          "2022-09-22T23:15:00",
          "2022-09-22T23:30:00",
          "2022-09-22T23:45:00",
          "2022-09-23T00:00:00",
          "2022-09-23T00:15:00",
          "2022-09-23T00:30:00",
          "2022-09-23T00:45:00",
          "2022-09-23T01:00:00",
          "2022-09-23T01:15:00",
          "2022-09-23T01:30:00",
          "2022-09-23T01:45:00",
          "2022-09-23T02:00:00",
          "2022-09-23T02:15:00",
          "2022-09-23T02:30:00",
          "2022-09-23T02:45:00",
          "2022-09-23T03:00:00",
          "2022-09-23T03:15:00",
          "2022-09-23T03:30:00",
          "2022-09-23T03:45:00",
          "2022-09-23T04:00:00",
          "2022-09-23T04:15:00",
          "2022-09-23T04:30:00",
          "2022-09-23T04:45:00",
          "2022-09-23T05:00:00",
          "2022-09-23T05:15:00",
          "2022-09-23T05:30:00",
          "2022-09-23T05:45:00",
          "2022-09-23T06:00:00",
          "2022-09-23T06:15:00",
          "2022-09-23T06:30:00",
          "2022-09-23T06:45:00",
          "2022-09-23T07:00:00",
          "2022-09-23T07:15:00",
          "2022-09-23T07:30:00",
          "2022-09-23T07:45:00",
          "2022-09-23T08:00:00",
          "2022-09-23T08:15:00",
          "2022-09-23T08:30:00",
          "2022-09-23T08:45:00",
          "2022-09-23T09:00:00",
          "2022-09-23T09:15:00",
          "2022-09-23T09:30:00",
          "2022-09-23T09:45:00",
          "2022-09-23T10:00:00",
          "2022-09-23T10:15:00",
          "2022-09-23T10:30:00",
          "2022-09-23T10:45:00",
          "2022-09-23T11:00:00",
          "2022-09-23T11:15:00",
          "2022-09-23T11:30:00",
          "2022-09-23T11:45:00",
          "2022-09-23T12:00:00",
          "2022-09-23T12:15:00",
          "2022-09-23T12:30:00",
          "2022-09-23T12:45:00",
          "2022-09-23T13:00:00",
          "2022-09-23T13:15:00",
          "2022-09-23T13:30:00",
          "2022-09-23T13:45:00",
          "2022-09-23T14:00:00",
          "2022-09-23T14:15:00",
          "2022-09-23T14:30:00",
          "2022-09-23T14:45:00",
          "2022-09-23T15:00:00",
          "2022-09-23T15:15:00",
          "2022-09-23T15:30:00",
          "2022-09-23T15:45:00",
          "2022-09-23T16:00:00",
          "2022-09-23T16:15:00",
          "2022-09-23T16:30:00",
          "2022-09-23T16:45:00",
          "2022-09-23T17:00:00",
          "2022-09-23T17:15:00",
          "2022-09-23T17:30:00",
          "2022-09-23T17:45:00",
          "2022-09-23T18:00:00",
          "2022-09-23T18:15:00",
          "2022-09-23T18:30:00",
          "2022-09-23T18:45:00",
          "2022-09-23T19:00:00",
          "2022-09-23T19:15:00",
          "2022-09-23T19:30:00",
          "2022-09-23T19:45:00",
          "2022-09-23T20:00:00",
          "2022-09-23T20:15:00",
          "2022-09-23T20:30:00",
          "2022-09-23T20:45:00",
          "2022-09-23T21:00:00",
          "2022-09-23T21:15:00",
          "2022-09-23T21:30:00",
          "2022-09-23T21:45:00",
          "2022-09-23T22:00:00",
          "2022-09-23T22:15:00",
          "2022-09-23T22:30:00",
          "2022-09-23T22:45:00",
          "2022-09-23T23:00:00",
          "2022-09-23T23:15:00",
          "2022-09-23T23:30:00",
          "2022-09-23T23:45:00",
          "2022-09-24T00:00:00",
          "2022-09-24T00:15:00",
          "2022-09-24T00:30:00",
          "2022-09-24T00:45:00",
          "2022-09-24T01:00:00",
          "2022-09-24T01:15:00",
          "2022-09-24T01:30:00",
          "2022-09-24T01:45:00",
          "2022-09-24T02:00:00",
          "2022-09-24T02:15:00",
          "2022-09-24T02:30:00",
          "2022-09-24T02:45:00",
          "2022-09-24T03:00:00",
          "2022-09-24T03:15:00",
          "2022-09-24T03:30:00",
          "2022-09-24T03:45:00",
          "2022-09-24T04:00:00",
          "2022-09-24T04:15:00",
          "2022-09-24T04:30:00",
          "2022-09-24T04:45:00",
          "2022-09-24T05:00:00",
          "2022-09-24T05:15:00",
          "2022-09-24T05:30:00",
          "2022-09-24T05:45:00",
          "2022-09-24T06:00:00",
          "2022-09-24T06:15:00",
          "2022-09-24T06:30:00",
          "2022-09-24T06:45:00",
          "2022-09-24T07:00:00",
          "2022-09-24T07:15:00",
          "2022-09-24T07:30:00",
          "2022-09-24T07:45:00",
          "2022-09-24T08:00:00",
          "2022-09-24T08:15:00",
          "2022-09-24T08:30:00",
          "2022-09-24T08:45:00",
          "2022-09-24T09:00:00",
          "2022-09-24T09:15:00",
          "2022-09-24T09:30:00",
          "2022-09-24T09:45:00",
          "2022-09-24T10:00:00",
          "2022-09-24T10:15:00",
          "2022-09-24T10:30:00",
          "2022-09-24T10:45:00",
          "2022-09-24T11:00:00",
          "2022-09-24T11:15:00",
          "2022-09-24T11:30:00",
          "2022-09-24T11:45:00",
          "2022-09-24T12:00:00",
          "2022-09-24T12:15:00",
          "2022-09-24T12:30:00",
          "2022-09-24T12:45:00",
          "2022-09-24T13:00:00",
          "2022-09-24T13:15:00",
          "2022-09-24T13:30:00",
          "2022-09-24T13:45:00",
          "2022-09-24T14:00:00",
          "2022-09-24T14:15:00",
          "2022-09-24T14:30:00",
          "2022-09-24T14:45:00",
          "2022-09-24T15:00:00",
          "2022-09-24T15:15:00",
          "2022-09-24T15:30:00",
          "2022-09-24T15:45:00",
          "2022-09-24T16:00:00",
          "2022-09-24T16:15:00",
          "2022-09-24T16:30:00",
          "2022-09-24T16:45:00",
          "2022-09-24T17:00:00",
          "2022-09-24T17:15:00",
          "2022-09-24T17:30:00",
          "2022-09-24T17:45:00",
          "2022-09-24T18:00:00",
          "2022-09-24T18:15:00",
          "2022-09-24T18:30:00",
          "2022-09-24T18:45:00",
          "2022-09-24T19:00:00",
          "2022-09-24T19:15:00",
          "2022-09-24T19:30:00",
          "2022-09-24T19:45:00",
          "2022-09-24T20:00:00",
          "2022-09-24T20:15:00",
          "2022-09-24T20:30:00",
          "2022-09-24T20:45:00",
          "2022-09-24T21:00:00",
          "2022-09-24T21:15:00",
          "2022-09-24T21:30:00",
          "2022-09-24T21:45:00",
          "2022-09-24T22:00:00",
          "2022-09-24T22:15:00",
          "2022-09-24T22:30:00",
          "2022-09-24T22:45:00",
          "2022-09-24T23:00:00",
          "2022-09-24T23:15:00",
          "2022-09-24T23:30:00",
          "2022-09-24T23:45:00",
          "2022-09-25T00:00:00",
          "2022-09-25T00:15:00",
          "2022-09-25T00:30:00",
          "2022-09-25T00:45:00",
          "2022-09-25T01:00:00",
          "2022-09-25T01:15:00",
          "2022-09-25T01:30:00",
          "2022-09-25T01:45:00",
          "2022-09-25T02:00:00",
          "2022-09-25T02:15:00",
          "2022-09-25T02:30:00",
          "2022-09-25T02:45:00",
          "2022-09-25T03:00:00",
          "2022-09-25T03:15:00",
          "2022-09-25T03:30:00",
          "2022-09-25T03:45:00",
          "2022-09-25T04:00:00",
          "2022-09-25T04:15:00",
          "2022-09-25T04:30:00",
          "2022-09-25T04:45:00",
          "2022-09-25T05:00:00",
          "2022-09-25T05:15:00",
          "2022-09-25T05:30:00",
          "2022-09-25T05:45:00",
          "2022-09-25T06:00:00",
          "2022-09-25T06:15:00",
          "2022-09-25T06:30:00",
          "2022-09-25T06:45:00",
          "2022-09-25T07:00:00",
          "2022-09-25T07:15:00",
          "2022-09-25T07:30:00",
          "2022-09-25T07:45:00",
          "2022-09-25T08:00:00",
          "2022-09-25T08:15:00",
          "2022-09-25T08:30:00",
          "2022-09-25T08:45:00",
          "2022-09-25T09:00:00",
          "2022-09-25T09:15:00",
          "2022-09-25T09:30:00",
          "2022-09-25T09:45:00",
          "2022-09-25T10:00:00",
          "2022-09-25T10:15:00",
          "2022-09-25T10:30:00",
          "2022-09-25T10:45:00",
          "2022-09-25T11:00:00",
          "2022-09-25T11:15:00",
          "2022-09-25T11:30:00",
          "2022-09-25T11:45:00",
          "2022-09-25T12:00:00",
          "2022-09-25T12:15:00",
          "2022-09-25T12:30:00",
          "2022-09-25T12:45:00",
          "2022-09-25T13:00:00",
          "2022-09-25T13:15:00",
          "2022-09-25T13:30:00",
          "2022-09-25T13:45:00",
          "2022-09-25T14:00:00",
          "2022-09-25T14:15:00",
          "2022-09-25T14:30:00",
          "2022-09-25T14:45:00",
          "2022-09-25T15:00:00",
          "2022-09-25T15:15:00",
          "2022-09-25T15:30:00",
          "2022-09-25T15:45:00",
          "2022-09-25T16:00:00",
          "2022-09-25T16:15:00",
          "2022-09-25T16:30:00",
          "2022-09-25T16:45:00",
          "2022-09-25T17:00:00",
          "2022-09-25T17:15:00",
          "2022-09-25T17:30:00",
          "2022-09-25T17:45:00",
          "2022-09-25T18:00:00",
          "2022-09-25T18:15:00",
          "2022-09-25T18:30:00",
          "2022-09-25T18:45:00",
          "2022-09-25T19:00:00",
          "2022-09-25T19:15:00",
          "2022-09-25T19:30:00",
          "2022-09-25T19:45:00",
          "2022-09-25T20:00:00",
          "2022-09-25T20:15:00",
          "2022-09-25T20:30:00",
          "2022-09-25T20:45:00",
          "2022-09-25T21:00:00",
          "2022-09-25T21:15:00",
          "2022-09-25T21:30:00",
          "2022-09-25T21:45:00",
          "2022-09-25T22:00:00",
          "2022-09-25T22:15:00",
          "2022-09-25T22:30:00",
          "2022-09-25T22:45:00",
          "2022-09-25T23:00:00",
          "2022-09-25T23:15:00",
          "2022-09-25T23:30:00",
          "2022-09-25T23:45:00",
          "2022-09-26T00:00:00",
          "2022-09-26T00:15:00",
          "2022-09-26T00:30:00",
          "2022-09-26T00:45:00",
          "2022-09-26T01:00:00",
          "2022-09-26T01:15:00",
          "2022-09-26T01:30:00",
          "2022-09-26T01:45:00",
          "2022-09-26T02:00:00",
          "2022-09-26T02:15:00",
          "2022-09-26T02:30:00",
          "2022-09-26T02:45:00",
          "2022-09-26T03:00:00",
          "2022-09-26T03:15:00",
          "2022-09-26T03:30:00",
          "2022-09-26T03:45:00",
          "2022-09-26T04:00:00",
          "2022-09-26T04:15:00",
          "2022-09-26T04:30:00",
          "2022-09-26T04:45:00",
          "2022-09-26T05:00:00",
          "2022-09-26T05:15:00",
          "2022-09-26T05:30:00",
          "2022-09-26T05:45:00",
          "2022-09-26T06:00:00",
          "2022-09-26T06:15:00",
          "2022-09-26T06:30:00",
          "2022-09-26T06:45:00",
          "2022-09-26T07:00:00",
          "2022-09-26T07:15:00",
          "2022-09-26T07:30:00",
          "2022-09-26T07:45:00",
          "2022-09-26T08:00:00",
          "2022-09-26T08:15:00",
          "2022-09-26T08:30:00",
          "2022-09-26T08:45:00",
          "2022-09-26T09:00:00",
          "2022-09-26T09:15:00",
          "2022-09-26T09:30:00",
          "2022-09-26T09:45:00",
          "2022-09-26T10:00:00",
          "2022-09-26T10:15:00",
          "2022-09-26T10:30:00",
          "2022-09-26T10:45:00",
          "2022-09-26T11:00:00",
          "2022-09-26T11:15:00",
          "2022-09-26T11:30:00",
          "2022-09-26T11:45:00",
          "2022-09-26T12:00:00",
          "2022-09-26T12:15:00",
          "2022-09-26T12:30:00",
          "2022-09-26T12:45:00"
         ],
         "xaxis": "x",
         "y": [
          322,
          315,
          701,
          571,
          355,
          351,
          332,
          309,
          332,
          428,
          357,
          355,
          401,
          401,
          387,
          419,
          395,
          409,
          357,
          314,
          283,
          221,
          188,
          118,
          124,
          49,
          129,
          120,
          60,
          129,
          139,
          151,
          196,
          194,
          67,
          21,
          236,
          139,
          50,
          64,
          66,
          26,
          76,
          101,
          114,
          119,
          67,
          50,
          36,
          36,
          54,
          50,
          121,
          116,
          65,
          83,
          107,
          105,
          69,
          58,
          108,
          140,
          102,
          139,
          156,
          117,
          58,
          30,
          70,
          90,
          130,
          68,
          135,
          172,
          318,
          311,
          296,
          267,
          288,
          140,
          68,
          108,
          179,
          163,
          153,
          251,
          396,
          399,
          392,
          382,
          391,
          299,
          312,
          343,
          242,
          290,
          321,
          380,
          112,
          59,
          51,
          44,
          119,
          238,
          267,
          258,
          124,
          100,
          50,
          106,
          58,
          82,
          105,
          17,
          53,
          97,
          151,
          190,
          125,
          136,
          180,
          99,
          189,
          39,
          41,
          99,
          44,
          110,
          104,
          100,
          128,
          68,
          121,
          138,
          79,
          124,
          8,
          8,
          21,
          69,
          66,
          63,
          36,
          21,
          49,
          30,
          41,
          44,
          58,
          64,
          116,
          52,
          66,
          33,
          84,
          139,
          145,
          66,
          134,
          91,
          61,
          97,
          65,
          122,
          168,
          179,
          121,
          69,
          84,
          129,
          71,
          98,
          78,
          123,
          112,
          81,
          161,
          210,
          107,
          59,
          92,
          37,
          26,
          26,
          59,
          43,
          86,
          185,
          182,
          174,
          235,
          86,
          104,
          147,
          105,
          75,
          157,
          144,
          96,
          143,
          197,
          102,
          158,
          172,
          142,
          66,
          118,
          73,
          113,
          36,
          70,
          117,
          174,
          170,
          191,
          104,
          80,
          126,
          201,
          239,
          73,
          79,
          24,
          112,
          19,
          46,
          58,
          74,
          19,
          42,
          86,
          41,
          25,
          117,
          127,
          90,
          58,
          80,
          132,
          65,
          49,
          72,
          116,
          112,
          63,
          43,
          107,
          69,
          92,
          66,
          35,
          87,
          20,
          20,
          74,
          82,
          62,
          31,
          31,
          105,
          30,
          28,
          39,
          51,
          36,
          81,
          108,
          55,
          103,
          124,
          119,
          83,
          23,
          50,
          78,
          94,
          129,
          183,
          246,
          230,
          179,
          187,
          161,
          197,
          331,
          119,
          85,
          77,
          100,
          117,
          175,
          162,
          152,
          134,
          156,
          74,
          92,
          217,
          237,
          277,
          118,
          80,
          204,
          353,
          405,
          230,
          134,
          224,
          128,
          157,
          194,
          388,
          395,
          317,
          207,
          430,
          460,
          238,
          238,
          243,
          153,
          131,
          159,
          143,
          97,
          289,
          230,
          48,
          90,
          220,
          156,
          115,
          218,
          229,
          376,
          124,
          159,
          378,
          47,
          42,
          22,
          22,
          44,
          22,
          14,
          47,
          29,
          157,
          177,
          53,
          154,
          241,
          177,
          123,
          127,
          155,
          139,
          113,
          203,
          157,
          130,
          104,
          215,
          213,
          287,
          208,
          148,
          258,
          253,
          202,
          140,
          115,
          206,
          209,
          142
         ],
         "yaxis": "y"
        }
       ],
       "layout": {
        "legend": {
         "title": {
          "text": "variable"
         },
         "tracegroupgap": 0
        },
        "margin": {
         "t": 60
        },
        "template": {
         "data": {
          "bar": [
           {
            "error_x": {
             "color": "#2a3f5f"
            },
            "error_y": {
             "color": "#2a3f5f"
            },
            "marker": {
             "line": {
              "color": "#E5ECF6",
              "width": 0.5
             },
             "pattern": {
              "fillmode": "overlay",
              "size": 10,
              "solidity": 0.2
             }
            },
            "type": "bar"
           }
          ],
          "barpolar": [
           {
            "marker": {
             "line": {
              "color": "#E5ECF6",
              "width": 0.5
             },
             "pattern": {
              "fillmode": "overlay",
              "size": 10,
              "solidity": 0.2
             }
            },
            "type": "barpolar"
           }
          ],
          "carpet": [
           {
            "aaxis": {
             "endlinecolor": "#2a3f5f",
             "gridcolor": "white",
             "linecolor": "white",
             "minorgridcolor": "white",
             "startlinecolor": "#2a3f5f"
            },
            "baxis": {
             "endlinecolor": "#2a3f5f",
             "gridcolor": "white",
             "linecolor": "white",
             "minorgridcolor": "white",
             "startlinecolor": "#2a3f5f"
            },
            "type": "carpet"
           }
          ],
          "choropleth": [
           {
            "colorbar": {
             "outlinewidth": 0,
             "ticks": ""
            },
            "type": "choropleth"
           }
          ],
          "contour": [
           {
            "colorbar": {
             "outlinewidth": 0,
             "ticks": ""
            },
            "colorscale": [
             [
              0,
              "#0d0887"
             ],
             [
              0.1111111111111111,
              "#46039f"
             ],
             [
              0.2222222222222222,
              "#7201a8"
             ],
             [
              0.3333333333333333,
              "#9c179e"
             ],
             [
              0.4444444444444444,
              "#bd3786"
             ],
             [
              0.5555555555555556,
              "#d8576b"
             ],
             [
              0.6666666666666666,
              "#ed7953"
             ],
             [
              0.7777777777777778,
              "#fb9f3a"
             ],
             [
              0.8888888888888888,
              "#fdca26"
             ],
             [
              1,
              "#f0f921"
             ]
            ],
            "type": "contour"
           }
          ],
          "contourcarpet": [
           {
            "colorbar": {
             "outlinewidth": 0,
             "ticks": ""
            },
            "type": "contourcarpet"
           }
          ],
          "heatmap": [
           {
            "colorbar": {
             "outlinewidth": 0,
             "ticks": ""
            },
            "colorscale": [
             [
              0,
              "#0d0887"
             ],
             [
              0.1111111111111111,
              "#46039f"
             ],
             [
              0.2222222222222222,
              "#7201a8"
             ],
             [
              0.3333333333333333,
              "#9c179e"
             ],
             [
              0.4444444444444444,
              "#bd3786"
             ],
             [
              0.5555555555555556,
              "#d8576b"
             ],
             [
              0.6666666666666666,
              "#ed7953"
             ],
             [
              0.7777777777777778,
              "#fb9f3a"
             ],
             [
              0.8888888888888888,
              "#fdca26"
             ],
             [
              1,
              "#f0f921"
             ]
            ],
            "type": "heatmap"
           }
          ],
          "heatmapgl": [
           {
            "colorbar": {
             "outlinewidth": 0,
             "ticks": ""
            },
            "colorscale": [
             [
              0,
              "#0d0887"
             ],
             [
              0.1111111111111111,
              "#46039f"
             ],
             [
              0.2222222222222222,
              "#7201a8"
             ],
             [
              0.3333333333333333,
              "#9c179e"
             ],
             [
              0.4444444444444444,
              "#bd3786"
             ],
             [
              0.5555555555555556,
              "#d8576b"
             ],
             [
              0.6666666666666666,
              "#ed7953"
             ],
             [
              0.7777777777777778,
              "#fb9f3a"
             ],
             [
              0.8888888888888888,
              "#fdca26"
             ],
             [
              1,
              "#f0f921"
             ]
            ],
            "type": "heatmapgl"
           }
          ],
          "histogram": [
           {
            "marker": {
             "pattern": {
              "fillmode": "overlay",
              "size": 10,
              "solidity": 0.2
             }
            },
            "type": "histogram"
           }
          ],
          "histogram2d": [
           {
            "colorbar": {
             "outlinewidth": 0,
             "ticks": ""
            },
            "colorscale": [
             [
              0,
              "#0d0887"
             ],
             [
              0.1111111111111111,
              "#46039f"
             ],
             [
              0.2222222222222222,
              "#7201a8"
             ],
             [
              0.3333333333333333,
              "#9c179e"
             ],
             [
              0.4444444444444444,
              "#bd3786"
             ],
             [
              0.5555555555555556,
              "#d8576b"
             ],
             [
              0.6666666666666666,
              "#ed7953"
             ],
             [
              0.7777777777777778,
              "#fb9f3a"
             ],
             [
              0.8888888888888888,
              "#fdca26"
             ],
             [
              1,
              "#f0f921"
             ]
            ],
            "type": "histogram2d"
           }
          ],
          "histogram2dcontour": [
           {
            "colorbar": {
             "outlinewidth": 0,
             "ticks": ""
            },
            "colorscale": [
             [
              0,
              "#0d0887"
             ],
             [
              0.1111111111111111,
              "#46039f"
             ],
             [
              0.2222222222222222,
              "#7201a8"
             ],
             [
              0.3333333333333333,
              "#9c179e"
             ],
             [
              0.4444444444444444,
              "#bd3786"
             ],
             [
              0.5555555555555556,
              "#d8576b"
             ],
             [
              0.6666666666666666,
              "#ed7953"
             ],
             [
              0.7777777777777778,
              "#fb9f3a"
             ],
             [
              0.8888888888888888,
              "#fdca26"
             ],
             [
              1,
              "#f0f921"
             ]
            ],
            "type": "histogram2dcontour"
           }
          ],
          "mesh3d": [
           {
            "colorbar": {
             "outlinewidth": 0,
             "ticks": ""
            },
            "type": "mesh3d"
           }
          ],
          "parcoords": [
           {
            "line": {
             "colorbar": {
              "outlinewidth": 0,
              "ticks": ""
             }
            },
            "type": "parcoords"
           }
          ],
          "pie": [
           {
            "automargin": true,
            "type": "pie"
           }
          ],
          "scatter": [
           {
            "fillpattern": {
             "fillmode": "overlay",
             "size": 10,
             "solidity": 0.2
            },
            "type": "scatter"
           }
          ],
          "scatter3d": [
           {
            "line": {
             "colorbar": {
              "outlinewidth": 0,
              "ticks": ""
             }
            },
            "marker": {
             "colorbar": {
              "outlinewidth": 0,
              "ticks": ""
             }
            },
            "type": "scatter3d"
           }
          ],
          "scattercarpet": [
           {
            "marker": {
             "colorbar": {
              "outlinewidth": 0,
              "ticks": ""
             }
            },
            "type": "scattercarpet"
           }
          ],
          "scattergeo": [
           {
            "marker": {
             "colorbar": {
              "outlinewidth": 0,
              "ticks": ""
             }
            },
            "type": "scattergeo"
           }
          ],
          "scattergl": [
           {
            "marker": {
             "colorbar": {
              "outlinewidth": 0,
              "ticks": ""
             }
            },
            "type": "scattergl"
           }
          ],
          "scattermapbox": [
           {
            "marker": {
             "colorbar": {
              "outlinewidth": 0,
              "ticks": ""
             }
            },
            "type": "scattermapbox"
           }
          ],
          "scatterpolar": [
           {
            "marker": {
             "colorbar": {
              "outlinewidth": 0,
              "ticks": ""
             }
            },
            "type": "scatterpolar"
           }
          ],
          "scatterpolargl": [
           {
            "marker": {
             "colorbar": {
              "outlinewidth": 0,
              "ticks": ""
             }
            },
            "type": "scatterpolargl"
           }
          ],
          "scatterternary": [
           {
            "marker": {
             "colorbar": {
              "outlinewidth": 0,
              "ticks": ""
             }
            },
            "type": "scatterternary"
           }
          ],
          "surface": [
           {
            "colorbar": {
             "outlinewidth": 0,
             "ticks": ""
            },
            "colorscale": [
             [
              0,
              "#0d0887"
             ],
             [
              0.1111111111111111,
              "#46039f"
             ],
             [
              0.2222222222222222,
              "#7201a8"
             ],
             [
              0.3333333333333333,
              "#9c179e"
             ],
             [
              0.4444444444444444,
              "#bd3786"
             ],
             [
              0.5555555555555556,
              "#d8576b"
             ],
             [
              0.6666666666666666,
              "#ed7953"
             ],
             [
              0.7777777777777778,
              "#fb9f3a"
             ],
             [
              0.8888888888888888,
              "#fdca26"
             ],
             [
              1,
              "#f0f921"
             ]
            ],
            "type": "surface"
           }
          ],
          "table": [
           {
            "cells": {
             "fill": {
              "color": "#EBF0F8"
             },
             "line": {
              "color": "white"
             }
            },
            "header": {
             "fill": {
              "color": "#C8D4E3"
             },
             "line": {
              "color": "white"
             }
            },
            "type": "table"
           }
          ]
         },
         "layout": {
          "annotationdefaults": {
           "arrowcolor": "#2a3f5f",
           "arrowhead": 0,
           "arrowwidth": 1
          },
          "autotypenumbers": "strict",
          "coloraxis": {
           "colorbar": {
            "outlinewidth": 0,
            "ticks": ""
           }
          },
          "colorscale": {
           "diverging": [
            [
             0,
             "#8e0152"
            ],
            [
             0.1,
             "#c51b7d"
            ],
            [
             0.2,
             "#de77ae"
            ],
            [
             0.3,
             "#f1b6da"
            ],
            [
             0.4,
             "#fde0ef"
            ],
            [
             0.5,
             "#f7f7f7"
            ],
            [
             0.6,
             "#e6f5d0"
            ],
            [
             0.7,
             "#b8e186"
            ],
            [
             0.8,
             "#7fbc41"
            ],
            [
             0.9,
             "#4d9221"
            ],
            [
             1,
             "#276419"
            ]
           ],
           "sequential": [
            [
             0,
             "#0d0887"
            ],
            [
             0.1111111111111111,
             "#46039f"
            ],
            [
             0.2222222222222222,
             "#7201a8"
            ],
            [
             0.3333333333333333,
             "#9c179e"
            ],
            [
             0.4444444444444444,
             "#bd3786"
            ],
            [
             0.5555555555555556,
             "#d8576b"
            ],
            [
             0.6666666666666666,
             "#ed7953"
            ],
            [
             0.7777777777777778,
             "#fb9f3a"
            ],
            [
             0.8888888888888888,
             "#fdca26"
            ],
            [
             1,
             "#f0f921"
            ]
           ],
           "sequentialminus": [
            [
             0,
             "#0d0887"
            ],
            [
             0.1111111111111111,
             "#46039f"
            ],
            [
             0.2222222222222222,
             "#7201a8"
            ],
            [
             0.3333333333333333,
             "#9c179e"
            ],
            [
             0.4444444444444444,
             "#bd3786"
            ],
            [
             0.5555555555555556,
             "#d8576b"
            ],
            [
             0.6666666666666666,
             "#ed7953"
            ],
            [
             0.7777777777777778,
             "#fb9f3a"
            ],
            [
             0.8888888888888888,
             "#fdca26"
            ],
            [
             1,
             "#f0f921"
            ]
           ]
          },
          "colorway": [
           "#636efa",
           "#EF553B",
           "#00cc96",
           "#ab63fa",
           "#FFA15A",
           "#19d3f3",
           "#FF6692",
           "#B6E880",
           "#FF97FF",
           "#FECB52"
          ],
          "font": {
           "color": "#2a3f5f"
          },
          "geo": {
           "bgcolor": "white",
           "lakecolor": "white",
           "landcolor": "#E5ECF6",
           "showlakes": true,
           "showland": true,
           "subunitcolor": "white"
          },
          "hoverlabel": {
           "align": "left"
          },
          "hovermode": "closest",
          "mapbox": {
           "style": "light"
          },
          "paper_bgcolor": "white",
          "plot_bgcolor": "#E5ECF6",
          "polar": {
           "angularaxis": {
            "gridcolor": "white",
            "linecolor": "white",
            "ticks": ""
           },
           "bgcolor": "#E5ECF6",
           "radialaxis": {
            "gridcolor": "white",
            "linecolor": "white",
            "ticks": ""
           }
          },
          "scene": {
           "xaxis": {
            "backgroundcolor": "#E5ECF6",
            "gridcolor": "white",
            "gridwidth": 2,
            "linecolor": "white",
            "showbackground": true,
            "ticks": "",
            "zerolinecolor": "white"
           },
           "yaxis": {
            "backgroundcolor": "#E5ECF6",
            "gridcolor": "white",
            "gridwidth": 2,
            "linecolor": "white",
            "showbackground": true,
            "ticks": "",
            "zerolinecolor": "white"
           },
           "zaxis": {
            "backgroundcolor": "#E5ECF6",
            "gridcolor": "white",
            "gridwidth": 2,
            "linecolor": "white",
            "showbackground": true,
            "ticks": "",
            "zerolinecolor": "white"
           }
          },
          "shapedefaults": {
           "line": {
            "color": "#2a3f5f"
           }
          },
          "ternary": {
           "aaxis": {
            "gridcolor": "white",
            "linecolor": "white",
            "ticks": ""
           },
           "baxis": {
            "gridcolor": "white",
            "linecolor": "white",
            "ticks": ""
           },
           "bgcolor": "#E5ECF6",
           "caxis": {
            "gridcolor": "white",
            "linecolor": "white",
            "ticks": ""
           }
          },
          "title": {
           "x": 0.05
          },
          "xaxis": {
           "automargin": true,
           "gridcolor": "white",
           "linecolor": "white",
           "ticks": "",
           "title": {
            "standoff": 15
           },
           "zerolinecolor": "white",
           "zerolinewidth": 2
          },
          "yaxis": {
           "automargin": true,
           "gridcolor": "white",
           "linecolor": "white",
           "ticks": "",
           "title": {
            "standoff": 15
           },
           "zerolinecolor": "white",
           "zerolinewidth": 2
          }
         }
        },
        "xaxis": {
         "anchor": "y",
         "domain": [
          0,
          1
         ],
         "title": {
          "text": "date"
         }
        },
        "yaxis": {
         "anchor": "x",
         "domain": [
          0,
          1
         ],
         "title": {
          "text": "value"
         }
        }
       }
      },
      "text/html": [
       "<div>                            <div id=\"849da56f-3f4b-4a3b-aaca-c3c1cbc0a51e\" class=\"plotly-graph-div\" style=\"height:525px; width:100%;\"></div>            <script type=\"text/javascript\">                require([\"plotly\"], function(Plotly) {                    window.PLOTLYENV=window.PLOTLYENV || {};                                    if (document.getElementById(\"849da56f-3f4b-4a3b-aaca-c3c1cbc0a51e\")) {                    Plotly.newPlot(                        \"849da56f-3f4b-4a3b-aaca-c3c1cbc0a51e\",                        [{\"hovertemplate\":\"variable=requests<br>date=%{x}<br>value=%{y}<extra></extra>\",\"legendgroup\":\"requests\",\"line\":{\"color\":\"#636efa\",\"dash\":\"solid\"},\"marker\":{\"symbol\":\"circle\"},\"mode\":\"lines\",\"name\":\"requests\",\"orientation\":\"v\",\"showlegend\":true,\"x\":[\"2022-09-22T15:15:00\",\"2022-09-22T15:30:00\",\"2022-09-22T15:45:00\",\"2022-09-22T16:00:00\",\"2022-09-22T16:15:00\",\"2022-09-22T16:30:00\",\"2022-09-22T16:45:00\",\"2022-09-22T17:00:00\",\"2022-09-22T17:15:00\",\"2022-09-22T17:30:00\",\"2022-09-22T17:45:00\",\"2022-09-22T18:00:00\",\"2022-09-22T18:15:00\",\"2022-09-22T18:30:00\",\"2022-09-22T18:45:00\",\"2022-09-22T19:00:00\",\"2022-09-22T19:15:00\",\"2022-09-22T19:30:00\",\"2022-09-22T19:45:00\",\"2022-09-22T20:00:00\",\"2022-09-22T20:15:00\",\"2022-09-22T20:30:00\",\"2022-09-22T20:45:00\",\"2022-09-22T21:00:00\",\"2022-09-22T21:15:00\",\"2022-09-22T21:30:00\",\"2022-09-22T21:45:00\",\"2022-09-22T22:00:00\",\"2022-09-22T22:15:00\",\"2022-09-22T22:30:00\",\"2022-09-22T22:45:00\",\"2022-09-22T23:00:00\",\"2022-09-22T23:15:00\",\"2022-09-22T23:30:00\",\"2022-09-22T23:45:00\",\"2022-09-23T00:00:00\",\"2022-09-23T00:15:00\",\"2022-09-23T00:30:00\",\"2022-09-23T00:45:00\",\"2022-09-23T01:00:00\",\"2022-09-23T01:15:00\",\"2022-09-23T01:30:00\",\"2022-09-23T01:45:00\",\"2022-09-23T02:00:00\",\"2022-09-23T02:15:00\",\"2022-09-23T02:30:00\",\"2022-09-23T02:45:00\",\"2022-09-23T03:00:00\",\"2022-09-23T03:15:00\",\"2022-09-23T03:30:00\",\"2022-09-23T03:45:00\",\"2022-09-23T04:00:00\",\"2022-09-23T04:15:00\",\"2022-09-23T04:30:00\",\"2022-09-23T04:45:00\",\"2022-09-23T05:00:00\",\"2022-09-23T05:15:00\",\"2022-09-23T05:30:00\",\"2022-09-23T05:45:00\",\"2022-09-23T06:00:00\",\"2022-09-23T06:15:00\",\"2022-09-23T06:30:00\",\"2022-09-23T06:45:00\",\"2022-09-23T07:00:00\",\"2022-09-23T07:15:00\",\"2022-09-23T07:30:00\",\"2022-09-23T07:45:00\",\"2022-09-23T08:00:00\",\"2022-09-23T08:15:00\",\"2022-09-23T08:30:00\",\"2022-09-23T08:45:00\",\"2022-09-23T09:00:00\",\"2022-09-23T09:15:00\",\"2022-09-23T09:30:00\",\"2022-09-23T09:45:00\",\"2022-09-23T10:00:00\",\"2022-09-23T10:15:00\",\"2022-09-23T10:30:00\",\"2022-09-23T10:45:00\",\"2022-09-23T11:00:00\",\"2022-09-23T11:15:00\",\"2022-09-23T11:30:00\",\"2022-09-23T11:45:00\",\"2022-09-23T12:00:00\",\"2022-09-23T12:15:00\",\"2022-09-23T12:30:00\",\"2022-09-23T12:45:00\",\"2022-09-23T13:00:00\",\"2022-09-23T13:15:00\",\"2022-09-23T13:30:00\",\"2022-09-23T13:45:00\",\"2022-09-23T14:00:00\",\"2022-09-23T14:15:00\",\"2022-09-23T14:30:00\",\"2022-09-23T14:45:00\",\"2022-09-23T15:00:00\",\"2022-09-23T15:15:00\",\"2022-09-23T15:30:00\",\"2022-09-23T15:45:00\",\"2022-09-23T16:00:00\",\"2022-09-23T16:15:00\",\"2022-09-23T16:30:00\",\"2022-09-23T16:45:00\",\"2022-09-23T17:00:00\",\"2022-09-23T17:15:00\",\"2022-09-23T17:30:00\",\"2022-09-23T17:45:00\",\"2022-09-23T18:00:00\",\"2022-09-23T18:15:00\",\"2022-09-23T18:30:00\",\"2022-09-23T18:45:00\",\"2022-09-23T19:00:00\",\"2022-09-23T19:15:00\",\"2022-09-23T19:30:00\",\"2022-09-23T19:45:00\",\"2022-09-23T20:00:00\",\"2022-09-23T20:15:00\",\"2022-09-23T20:30:00\",\"2022-09-23T20:45:00\",\"2022-09-23T21:00:00\",\"2022-09-23T21:15:00\",\"2022-09-23T21:30:00\",\"2022-09-23T21:45:00\",\"2022-09-23T22:00:00\",\"2022-09-23T22:15:00\",\"2022-09-23T22:30:00\",\"2022-09-23T22:45:00\",\"2022-09-23T23:00:00\",\"2022-09-23T23:15:00\",\"2022-09-23T23:30:00\",\"2022-09-23T23:45:00\",\"2022-09-24T00:00:00\",\"2022-09-24T00:15:00\",\"2022-09-24T00:30:00\",\"2022-09-24T00:45:00\",\"2022-09-24T01:00:00\",\"2022-09-24T01:15:00\",\"2022-09-24T01:30:00\",\"2022-09-24T01:45:00\",\"2022-09-24T02:00:00\",\"2022-09-24T02:15:00\",\"2022-09-24T02:30:00\",\"2022-09-24T02:45:00\",\"2022-09-24T03:00:00\",\"2022-09-24T03:15:00\",\"2022-09-24T03:30:00\",\"2022-09-24T03:45:00\",\"2022-09-24T04:00:00\",\"2022-09-24T04:15:00\",\"2022-09-24T04:30:00\",\"2022-09-24T04:45:00\",\"2022-09-24T05:00:00\",\"2022-09-24T05:15:00\",\"2022-09-24T05:30:00\",\"2022-09-24T05:45:00\",\"2022-09-24T06:00:00\",\"2022-09-24T06:15:00\",\"2022-09-24T06:30:00\",\"2022-09-24T06:45:00\",\"2022-09-24T07:00:00\",\"2022-09-24T07:15:00\",\"2022-09-24T07:30:00\",\"2022-09-24T07:45:00\",\"2022-09-24T08:00:00\",\"2022-09-24T08:15:00\",\"2022-09-24T08:30:00\",\"2022-09-24T08:45:00\",\"2022-09-24T09:00:00\",\"2022-09-24T09:15:00\",\"2022-09-24T09:30:00\",\"2022-09-24T09:45:00\",\"2022-09-24T10:00:00\",\"2022-09-24T10:15:00\",\"2022-09-24T10:30:00\",\"2022-09-24T10:45:00\",\"2022-09-24T11:00:00\",\"2022-09-24T11:15:00\",\"2022-09-24T11:30:00\",\"2022-09-24T11:45:00\",\"2022-09-24T12:00:00\",\"2022-09-24T12:15:00\",\"2022-09-24T12:30:00\",\"2022-09-24T12:45:00\",\"2022-09-24T13:00:00\",\"2022-09-24T13:15:00\",\"2022-09-24T13:30:00\",\"2022-09-24T13:45:00\",\"2022-09-24T14:00:00\",\"2022-09-24T14:15:00\",\"2022-09-24T14:30:00\",\"2022-09-24T14:45:00\",\"2022-09-24T15:00:00\",\"2022-09-24T15:15:00\",\"2022-09-24T15:30:00\",\"2022-09-24T15:45:00\",\"2022-09-24T16:00:00\",\"2022-09-24T16:15:00\",\"2022-09-24T16:30:00\",\"2022-09-24T16:45:00\",\"2022-09-24T17:00:00\",\"2022-09-24T17:15:00\",\"2022-09-24T17:30:00\",\"2022-09-24T17:45:00\",\"2022-09-24T18:00:00\",\"2022-09-24T18:15:00\",\"2022-09-24T18:30:00\",\"2022-09-24T18:45:00\",\"2022-09-24T19:00:00\",\"2022-09-24T19:15:00\",\"2022-09-24T19:30:00\",\"2022-09-24T19:45:00\",\"2022-09-24T20:00:00\",\"2022-09-24T20:15:00\",\"2022-09-24T20:30:00\",\"2022-09-24T20:45:00\",\"2022-09-24T21:00:00\",\"2022-09-24T21:15:00\",\"2022-09-24T21:30:00\",\"2022-09-24T21:45:00\",\"2022-09-24T22:00:00\",\"2022-09-24T22:15:00\",\"2022-09-24T22:30:00\",\"2022-09-24T22:45:00\",\"2022-09-24T23:00:00\",\"2022-09-24T23:15:00\",\"2022-09-24T23:30:00\",\"2022-09-24T23:45:00\",\"2022-09-25T00:00:00\",\"2022-09-25T00:15:00\",\"2022-09-25T00:30:00\",\"2022-09-25T00:45:00\",\"2022-09-25T01:00:00\",\"2022-09-25T01:15:00\",\"2022-09-25T01:30:00\",\"2022-09-25T01:45:00\",\"2022-09-25T02:00:00\",\"2022-09-25T02:15:00\",\"2022-09-25T02:30:00\",\"2022-09-25T02:45:00\",\"2022-09-25T03:00:00\",\"2022-09-25T03:15:00\",\"2022-09-25T03:30:00\",\"2022-09-25T03:45:00\",\"2022-09-25T04:00:00\",\"2022-09-25T04:15:00\",\"2022-09-25T04:30:00\",\"2022-09-25T04:45:00\",\"2022-09-25T05:00:00\",\"2022-09-25T05:15:00\",\"2022-09-25T05:30:00\",\"2022-09-25T05:45:00\",\"2022-09-25T06:00:00\",\"2022-09-25T06:15:00\",\"2022-09-25T06:30:00\",\"2022-09-25T06:45:00\",\"2022-09-25T07:00:00\",\"2022-09-25T07:15:00\",\"2022-09-25T07:30:00\",\"2022-09-25T07:45:00\",\"2022-09-25T08:00:00\",\"2022-09-25T08:15:00\",\"2022-09-25T08:30:00\",\"2022-09-25T08:45:00\",\"2022-09-25T09:00:00\",\"2022-09-25T09:15:00\",\"2022-09-25T09:30:00\",\"2022-09-25T09:45:00\",\"2022-09-25T10:00:00\",\"2022-09-25T10:15:00\",\"2022-09-25T10:30:00\",\"2022-09-25T10:45:00\",\"2022-09-25T11:00:00\",\"2022-09-25T11:15:00\",\"2022-09-25T11:30:00\",\"2022-09-25T11:45:00\",\"2022-09-25T12:00:00\",\"2022-09-25T12:15:00\",\"2022-09-25T12:30:00\",\"2022-09-25T12:45:00\",\"2022-09-25T13:00:00\",\"2022-09-25T13:15:00\",\"2022-09-25T13:30:00\",\"2022-09-25T13:45:00\",\"2022-09-25T14:00:00\",\"2022-09-25T14:15:00\",\"2022-09-25T14:30:00\",\"2022-09-25T14:45:00\",\"2022-09-25T15:00:00\",\"2022-09-25T15:15:00\",\"2022-09-25T15:30:00\",\"2022-09-25T15:45:00\",\"2022-09-25T16:00:00\",\"2022-09-25T16:15:00\",\"2022-09-25T16:30:00\",\"2022-09-25T16:45:00\",\"2022-09-25T17:00:00\",\"2022-09-25T17:15:00\",\"2022-09-25T17:30:00\",\"2022-09-25T17:45:00\",\"2022-09-25T18:00:00\",\"2022-09-25T18:15:00\",\"2022-09-25T18:30:00\",\"2022-09-25T18:45:00\",\"2022-09-25T19:00:00\",\"2022-09-25T19:15:00\",\"2022-09-25T19:30:00\",\"2022-09-25T19:45:00\",\"2022-09-25T20:00:00\",\"2022-09-25T20:15:00\",\"2022-09-25T20:30:00\",\"2022-09-25T20:45:00\",\"2022-09-25T21:00:00\",\"2022-09-25T21:15:00\",\"2022-09-25T21:30:00\",\"2022-09-25T21:45:00\",\"2022-09-25T22:00:00\",\"2022-09-25T22:15:00\",\"2022-09-25T22:30:00\",\"2022-09-25T22:45:00\",\"2022-09-25T23:00:00\",\"2022-09-25T23:15:00\",\"2022-09-25T23:30:00\",\"2022-09-25T23:45:00\",\"2022-09-26T00:00:00\",\"2022-09-26T00:15:00\",\"2022-09-26T00:30:00\",\"2022-09-26T00:45:00\",\"2022-09-26T01:00:00\",\"2022-09-26T01:15:00\",\"2022-09-26T01:30:00\",\"2022-09-26T01:45:00\",\"2022-09-26T02:00:00\",\"2022-09-26T02:15:00\",\"2022-09-26T02:30:00\",\"2022-09-26T02:45:00\",\"2022-09-26T03:00:00\",\"2022-09-26T03:15:00\",\"2022-09-26T03:30:00\",\"2022-09-26T03:45:00\",\"2022-09-26T04:00:00\",\"2022-09-26T04:15:00\",\"2022-09-26T04:30:00\",\"2022-09-26T04:45:00\",\"2022-09-26T05:00:00\",\"2022-09-26T05:15:00\",\"2022-09-26T05:30:00\",\"2022-09-26T05:45:00\",\"2022-09-26T06:00:00\",\"2022-09-26T06:15:00\",\"2022-09-26T06:30:00\",\"2022-09-26T06:45:00\",\"2022-09-26T07:00:00\",\"2022-09-26T07:15:00\",\"2022-09-26T07:30:00\",\"2022-09-26T07:45:00\",\"2022-09-26T08:00:00\",\"2022-09-26T08:15:00\",\"2022-09-26T08:30:00\",\"2022-09-26T08:45:00\",\"2022-09-26T09:00:00\",\"2022-09-26T09:15:00\",\"2022-09-26T09:30:00\",\"2022-09-26T09:45:00\",\"2022-09-26T10:00:00\",\"2022-09-26T10:15:00\",\"2022-09-26T10:30:00\",\"2022-09-26T10:45:00\",\"2022-09-26T11:00:00\",\"2022-09-26T11:15:00\",\"2022-09-26T11:30:00\",\"2022-09-26T11:45:00\",\"2022-09-26T12:00:00\",\"2022-09-26T12:15:00\",\"2022-09-26T12:30:00\",\"2022-09-26T12:45:00\"],\"xaxis\":\"x\",\"y\":[322,315,701,571,355,351,332,309,332,428,357,355,401,401,387,419,395,409,357,314,283,221,188,118,124,49,129,120,60,129,139,151,196,194,67,21,236,139,50,64,66,26,76,101,114,119,67,50,36,36,54,50,121,116,65,83,107,105,69,58,108,140,102,139,156,117,58,30,70,90,130,68,135,172,318,311,296,267,288,140,68,108,179,163,153,251,396,399,392,382,391,299,312,343,242,290,321,380,112,59,51,44,119,238,267,258,124,100,50,106,58,82,105,17,53,97,151,190,125,136,180,99,189,39,41,99,44,110,104,100,128,68,121,138,79,124,8,8,21,69,66,63,36,21,49,30,41,44,58,64,116,52,66,33,84,139,145,66,134,91,61,97,65,122,168,179,121,69,84,129,71,98,78,123,112,81,161,210,107,59,92,37,26,26,59,43,86,185,182,174,235,86,104,147,105,75,157,144,96,143,197,102,158,172,142,66,118,73,113,36,70,117,174,170,191,104,80,126,201,239,73,79,24,112,19,46,58,74,19,42,86,41,25,117,127,90,58,80,132,65,49,72,116,112,63,43,107,69,92,66,35,87,20,20,74,82,62,31,31,105,30,28,39,51,36,81,108,55,103,124,119,83,23,50,78,94,129,183,246,230,179,187,161,197,331,119,85,77,100,117,175,162,152,134,156,74,92,217,237,277,118,80,204,353,405,230,134,224,128,157,194,388,395,317,207,430,460,238,238,243,153,131,159,143,97,289,230,48,90,220,156,115,218,229,376,124,159,378,47,42,22,22,44,22,14,47,29,157,177,53,154,241,177,123,127,155,139,113,203,157,130,104,215,213,287,208,148,258,253,202,140,115,206,209,142],\"yaxis\":\"y\",\"type\":\"scatter\"}],                        {\"template\":{\"data\":{\"histogram2dcontour\":[{\"type\":\"histogram2dcontour\",\"colorbar\":{\"outlinewidth\":0,\"ticks\":\"\"},\"colorscale\":[[0.0,\"#0d0887\"],[0.1111111111111111,\"#46039f\"],[0.2222222222222222,\"#7201a8\"],[0.3333333333333333,\"#9c179e\"],[0.4444444444444444,\"#bd3786\"],[0.5555555555555556,\"#d8576b\"],[0.6666666666666666,\"#ed7953\"],[0.7777777777777778,\"#fb9f3a\"],[0.8888888888888888,\"#fdca26\"],[1.0,\"#f0f921\"]]}],\"choropleth\":[{\"type\":\"choropleth\",\"colorbar\":{\"outlinewidth\":0,\"ticks\":\"\"}}],\"histogram2d\":[{\"type\":\"histogram2d\",\"colorbar\":{\"outlinewidth\":0,\"ticks\":\"\"},\"colorscale\":[[0.0,\"#0d0887\"],[0.1111111111111111,\"#46039f\"],[0.2222222222222222,\"#7201a8\"],[0.3333333333333333,\"#9c179e\"],[0.4444444444444444,\"#bd3786\"],[0.5555555555555556,\"#d8576b\"],[0.6666666666666666,\"#ed7953\"],[0.7777777777777778,\"#fb9f3a\"],[0.8888888888888888,\"#fdca26\"],[1.0,\"#f0f921\"]]}],\"heatmap\":[{\"type\":\"heatmap\",\"colorbar\":{\"outlinewidth\":0,\"ticks\":\"\"},\"colorscale\":[[0.0,\"#0d0887\"],[0.1111111111111111,\"#46039f\"],[0.2222222222222222,\"#7201a8\"],[0.3333333333333333,\"#9c179e\"],[0.4444444444444444,\"#bd3786\"],[0.5555555555555556,\"#d8576b\"],[0.6666666666666666,\"#ed7953\"],[0.7777777777777778,\"#fb9f3a\"],[0.8888888888888888,\"#fdca26\"],[1.0,\"#f0f921\"]]}],\"heatmapgl\":[{\"type\":\"heatmapgl\",\"colorbar\":{\"outlinewidth\":0,\"ticks\":\"\"},\"colorscale\":[[0.0,\"#0d0887\"],[0.1111111111111111,\"#46039f\"],[0.2222222222222222,\"#7201a8\"],[0.3333333333333333,\"#9c179e\"],[0.4444444444444444,\"#bd3786\"],[0.5555555555555556,\"#d8576b\"],[0.6666666666666666,\"#ed7953\"],[0.7777777777777778,\"#fb9f3a\"],[0.8888888888888888,\"#fdca26\"],[1.0,\"#f0f921\"]]}],\"contourcarpet\":[{\"type\":\"contourcarpet\",\"colorbar\":{\"outlinewidth\":0,\"ticks\":\"\"}}],\"contour\":[{\"type\":\"contour\",\"colorbar\":{\"outlinewidth\":0,\"ticks\":\"\"},\"colorscale\":[[0.0,\"#0d0887\"],[0.1111111111111111,\"#46039f\"],[0.2222222222222222,\"#7201a8\"],[0.3333333333333333,\"#9c179e\"],[0.4444444444444444,\"#bd3786\"],[0.5555555555555556,\"#d8576b\"],[0.6666666666666666,\"#ed7953\"],[0.7777777777777778,\"#fb9f3a\"],[0.8888888888888888,\"#fdca26\"],[1.0,\"#f0f921\"]]}],\"surface\":[{\"type\":\"surface\",\"colorbar\":{\"outlinewidth\":0,\"ticks\":\"\"},\"colorscale\":[[0.0,\"#0d0887\"],[0.1111111111111111,\"#46039f\"],[0.2222222222222222,\"#7201a8\"],[0.3333333333333333,\"#9c179e\"],[0.4444444444444444,\"#bd3786\"],[0.5555555555555556,\"#d8576b\"],[0.6666666666666666,\"#ed7953\"],[0.7777777777777778,\"#fb9f3a\"],[0.8888888888888888,\"#fdca26\"],[1.0,\"#f0f921\"]]}],\"mesh3d\":[{\"type\":\"mesh3d\",\"colorbar\":{\"outlinewidth\":0,\"ticks\":\"\"}}],\"scatter\":[{\"fillpattern\":{\"fillmode\":\"overlay\",\"size\":10,\"solidity\":0.2},\"type\":\"scatter\"}],\"parcoords\":[{\"type\":\"parcoords\",\"line\":{\"colorbar\":{\"outlinewidth\":0,\"ticks\":\"\"}}}],\"scatterpolargl\":[{\"type\":\"scatterpolargl\",\"marker\":{\"colorbar\":{\"outlinewidth\":0,\"ticks\":\"\"}}}],\"bar\":[{\"error_x\":{\"color\":\"#2a3f5f\"},\"error_y\":{\"color\":\"#2a3f5f\"},\"marker\":{\"line\":{\"color\":\"#E5ECF6\",\"width\":0.5},\"pattern\":{\"fillmode\":\"overlay\",\"size\":10,\"solidity\":0.2}},\"type\":\"bar\"}],\"scattergeo\":[{\"type\":\"scattergeo\",\"marker\":{\"colorbar\":{\"outlinewidth\":0,\"ticks\":\"\"}}}],\"scatterpolar\":[{\"type\":\"scatterpolar\",\"marker\":{\"colorbar\":{\"outlinewidth\":0,\"ticks\":\"\"}}}],\"histogram\":[{\"marker\":{\"pattern\":{\"fillmode\":\"overlay\",\"size\":10,\"solidity\":0.2}},\"type\":\"histogram\"}],\"scattergl\":[{\"type\":\"scattergl\",\"marker\":{\"colorbar\":{\"outlinewidth\":0,\"ticks\":\"\"}}}],\"scatter3d\":[{\"type\":\"scatter3d\",\"line\":{\"colorbar\":{\"outlinewidth\":0,\"ticks\":\"\"}},\"marker\":{\"colorbar\":{\"outlinewidth\":0,\"ticks\":\"\"}}}],\"scattermapbox\":[{\"type\":\"scattermapbox\",\"marker\":{\"colorbar\":{\"outlinewidth\":0,\"ticks\":\"\"}}}],\"scatterternary\":[{\"type\":\"scatterternary\",\"marker\":{\"colorbar\":{\"outlinewidth\":0,\"ticks\":\"\"}}}],\"scattercarpet\":[{\"type\":\"scattercarpet\",\"marker\":{\"colorbar\":{\"outlinewidth\":0,\"ticks\":\"\"}}}],\"carpet\":[{\"aaxis\":{\"endlinecolor\":\"#2a3f5f\",\"gridcolor\":\"white\",\"linecolor\":\"white\",\"minorgridcolor\":\"white\",\"startlinecolor\":\"#2a3f5f\"},\"baxis\":{\"endlinecolor\":\"#2a3f5f\",\"gridcolor\":\"white\",\"linecolor\":\"white\",\"minorgridcolor\":\"white\",\"startlinecolor\":\"#2a3f5f\"},\"type\":\"carpet\"}],\"table\":[{\"cells\":{\"fill\":{\"color\":\"#EBF0F8\"},\"line\":{\"color\":\"white\"}},\"header\":{\"fill\":{\"color\":\"#C8D4E3\"},\"line\":{\"color\":\"white\"}},\"type\":\"table\"}],\"barpolar\":[{\"marker\":{\"line\":{\"color\":\"#E5ECF6\",\"width\":0.5},\"pattern\":{\"fillmode\":\"overlay\",\"size\":10,\"solidity\":0.2}},\"type\":\"barpolar\"}],\"pie\":[{\"automargin\":true,\"type\":\"pie\"}]},\"layout\":{\"autotypenumbers\":\"strict\",\"colorway\":[\"#636efa\",\"#EF553B\",\"#00cc96\",\"#ab63fa\",\"#FFA15A\",\"#19d3f3\",\"#FF6692\",\"#B6E880\",\"#FF97FF\",\"#FECB52\"],\"font\":{\"color\":\"#2a3f5f\"},\"hovermode\":\"closest\",\"hoverlabel\":{\"align\":\"left\"},\"paper_bgcolor\":\"white\",\"plot_bgcolor\":\"#E5ECF6\",\"polar\":{\"bgcolor\":\"#E5ECF6\",\"angularaxis\":{\"gridcolor\":\"white\",\"linecolor\":\"white\",\"ticks\":\"\"},\"radialaxis\":{\"gridcolor\":\"white\",\"linecolor\":\"white\",\"ticks\":\"\"}},\"ternary\":{\"bgcolor\":\"#E5ECF6\",\"aaxis\":{\"gridcolor\":\"white\",\"linecolor\":\"white\",\"ticks\":\"\"},\"baxis\":{\"gridcolor\":\"white\",\"linecolor\":\"white\",\"ticks\":\"\"},\"caxis\":{\"gridcolor\":\"white\",\"linecolor\":\"white\",\"ticks\":\"\"}},\"coloraxis\":{\"colorbar\":{\"outlinewidth\":0,\"ticks\":\"\"}},\"colorscale\":{\"sequential\":[[0.0,\"#0d0887\"],[0.1111111111111111,\"#46039f\"],[0.2222222222222222,\"#7201a8\"],[0.3333333333333333,\"#9c179e\"],[0.4444444444444444,\"#bd3786\"],[0.5555555555555556,\"#d8576b\"],[0.6666666666666666,\"#ed7953\"],[0.7777777777777778,\"#fb9f3a\"],[0.8888888888888888,\"#fdca26\"],[1.0,\"#f0f921\"]],\"sequentialminus\":[[0.0,\"#0d0887\"],[0.1111111111111111,\"#46039f\"],[0.2222222222222222,\"#7201a8\"],[0.3333333333333333,\"#9c179e\"],[0.4444444444444444,\"#bd3786\"],[0.5555555555555556,\"#d8576b\"],[0.6666666666666666,\"#ed7953\"],[0.7777777777777778,\"#fb9f3a\"],[0.8888888888888888,\"#fdca26\"],[1.0,\"#f0f921\"]],\"diverging\":[[0,\"#8e0152\"],[0.1,\"#c51b7d\"],[0.2,\"#de77ae\"],[0.3,\"#f1b6da\"],[0.4,\"#fde0ef\"],[0.5,\"#f7f7f7\"],[0.6,\"#e6f5d0\"],[0.7,\"#b8e186\"],[0.8,\"#7fbc41\"],[0.9,\"#4d9221\"],[1,\"#276419\"]]},\"xaxis\":{\"gridcolor\":\"white\",\"linecolor\":\"white\",\"ticks\":\"\",\"title\":{\"standoff\":15},\"zerolinecolor\":\"white\",\"automargin\":true,\"zerolinewidth\":2},\"yaxis\":{\"gridcolor\":\"white\",\"linecolor\":\"white\",\"ticks\":\"\",\"title\":{\"standoff\":15},\"zerolinecolor\":\"white\",\"automargin\":true,\"zerolinewidth\":2},\"scene\":{\"xaxis\":{\"backgroundcolor\":\"#E5ECF6\",\"gridcolor\":\"white\",\"linecolor\":\"white\",\"showbackground\":true,\"ticks\":\"\",\"zerolinecolor\":\"white\",\"gridwidth\":2},\"yaxis\":{\"backgroundcolor\":\"#E5ECF6\",\"gridcolor\":\"white\",\"linecolor\":\"white\",\"showbackground\":true,\"ticks\":\"\",\"zerolinecolor\":\"white\",\"gridwidth\":2},\"zaxis\":{\"backgroundcolor\":\"#E5ECF6\",\"gridcolor\":\"white\",\"linecolor\":\"white\",\"showbackground\":true,\"ticks\":\"\",\"zerolinecolor\":\"white\",\"gridwidth\":2}},\"shapedefaults\":{\"line\":{\"color\":\"#2a3f5f\"}},\"annotationdefaults\":{\"arrowcolor\":\"#2a3f5f\",\"arrowhead\":0,\"arrowwidth\":1},\"geo\":{\"bgcolor\":\"white\",\"landcolor\":\"#E5ECF6\",\"subunitcolor\":\"white\",\"showland\":true,\"showlakes\":true,\"lakecolor\":\"white\"},\"title\":{\"x\":0.05},\"mapbox\":{\"style\":\"light\"}}},\"xaxis\":{\"anchor\":\"y\",\"domain\":[0.0,1.0],\"title\":{\"text\":\"date\"}},\"yaxis\":{\"anchor\":\"x\",\"domain\":[0.0,1.0],\"title\":{\"text\":\"value\"}},\"legend\":{\"title\":{\"text\":\"variable\"},\"tracegroupgap\":0},\"margin\":{\"t\":60}},                        {\"responsive\": true}                    ).then(function(){\n",
       "                            \n",
       "var gd = document.getElementById('849da56f-3f4b-4a3b-aaca-c3c1cbc0a51e');\n",
       "var x = new MutationObserver(function (mutations, observer) {{\n",
       "        var display = window.getComputedStyle(gd).display;\n",
       "        if (!display || display === 'none') {{\n",
       "            console.log([gd, 'removed!']);\n",
       "            Plotly.purge(gd);\n",
       "            observer.disconnect();\n",
       "        }}\n",
       "}});\n",
       "\n",
       "// Listen for the removal of the full notebook cells\n",
       "var notebookContainer = gd.closest('#notebook-container');\n",
       "if (notebookContainer) {{\n",
       "    x.observe(notebookContainer, {childList: true});\n",
       "}}\n",
       "\n",
       "// Listen for the clearing of the current output cell\n",
       "var outputEl = gd.closest('.output');\n",
       "if (outputEl) {{\n",
       "    x.observe(outputEl, {childList: true});\n",
       "}}\n",
       "\n",
       "                        })                };                });            </script>        </div>"
      ]
     },
     "metadata": {},
     "output_type": "display_data"
    }
   ],
   "source": [
    "alllogdf.plot(x=\"date\", y=[\"requests\"], kind=\"line\")"
   ]
  },
  {
   "cell_type": "code",
   "execution_count": 416,
   "id": "d0b6eb5e",
   "metadata": {},
   "outputs": [
    {
     "data": {
      "application/vnd.plotly.v1+json": {
       "config": {
        "plotlyServerURL": "https://plot.ly"
       },
       "data": [
        {
         "hovertemplate": "requests=%{x}<br>Energy by interval=%{y}<extra></extra>",
         "legendgroup": "",
         "marker": {
          "color": "#636efa",
          "symbol": "circle"
         },
         "mode": "markers",
         "name": "",
         "orientation": "v",
         "showlegend": false,
         "type": "scatter",
         "x": [
          237,
          243,
          213,
          227,
          208,
          212,
          221,
          304,
          254,
          227,
          217,
          255,
          284,
          276,
          241,
          271,
          270,
          271,
          273,
          278,
          242,
          246,
          209,
          226,
          162,
          137,
          164,
          108,
          76,
          97,
          69,
          36,
          34,
          108,
          77,
          66,
          37,
          82,
          112,
          74,
          100,
          99,
          148,
          123,
          90,
          48,
          10,
          42,
          205,
          110,
          43,
          36,
          42,
          43,
          45,
          3,
          49,
          50,
          64,
          86,
          65,
          70,
          58,
          58,
          24,
          38,
          24,
          19,
          27,
          44,
          9,
          81,
          81,
          83,
          52,
          46,
          52,
          63,
          75,
          57,
          92,
          25,
          27,
          81,
          58,
          97,
          58,
          87,
          100,
          91,
          104,
          85,
          45,
          45,
          21,
          25,
          54,
          65,
          60,
          95,
          38,
          54,
          111,
          89,
          181,
          220,
          211,
          208,
          188,
          182,
          173,
          200,
          136,
          19,
          53,
          74,
          69,
          144,
          123,
          90,
          103,
          135,
          214,
          298,
          271,
          270,
          250,
          230,
          315,
          228,
          203,
          194,
          214,
          233,
          180,
          172,
          162,
          235,
          214,
          270,
          150,
          72,
          42,
          30,
          38,
          29,
          39,
          95,
          169,
          153,
          183,
          170,
          130,
          82,
          68,
          39,
          43,
          80,
          39,
          45,
          61,
          50,
          76,
          10,
          18,
          42,
          71,
          45,
          132,
          143,
          93,
          79,
          84,
          127,
          105,
          72,
          108,
          108,
          29,
          16,
          35,
          68,
          49,
          26,
          74,
          74,
          66,
          52,
          83,
          93,
          47,
          74,
          68,
          109,
          47,
          61,
          109,
          15,
          8,
          6,
          6,
          17,
          45,
          33,
          57,
          43,
          33,
          23,
          13,
          34,
          23,
          9,
          40,
          22,
          30,
          46,
          26,
          26,
          71,
          83,
          35,
          41,
          42,
          18,
          23,
          76,
          76,
          112,
          96,
          50,
          60,
          90,
          81,
          21,
          50,
          77,
          32,
          53,
          79,
          92,
          119,
          96,
          147,
          57,
          53,
          44,
          56,
          83,
          70,
          47,
          71,
          61,
          44,
          83,
          74,
          78,
          43,
          84,
          115,
          101,
          142,
          74,
          42,
          49,
          60,
          18,
          27,
          18,
          15,
          21,
          49,
          32,
          40,
          57,
          129,
          115,
          123,
          94,
          146,
          169,
          61,
          62,
          67,
          112,
          82,
          58,
          54,
          66,
          112,
          100,
          83,
          57,
          86,
          105,
          149,
          60,
          88,
          112,
          129,
          106,
          79,
          35,
          80,
          69,
          55,
          71,
          60,
          20,
          38,
          48,
          70,
          92,
          129,
          114,
          65,
          182,
          82,
          39,
          63,
          113,
          96,
          118,
          134,
          138,
          40,
          45,
          44,
          14,
          52,
          73,
          6,
          44,
          20,
          40,
          45,
          29,
          19,
          27,
          32,
          69,
          29,
          20,
          17,
          49,
          110,
          85,
          44,
          58,
          46,
          51,
          69,
          92,
          52,
          29,
          33,
          37,
          52,
          99,
          65,
          74,
          36,
          30,
          34,
          86,
          40,
          62,
          59,
          53,
          17,
          31,
          54,
          36,
          17,
          1,
          56,
          37,
          40,
          69,
          35,
          28,
          11,
          23,
          45,
          86,
          4,
          14,
          19,
          34,
          30,
          34,
          23,
          45,
          73,
          71,
          42,
          28,
          88,
          75,
          95,
          73,
          56,
          31,
          19,
          27,
          44,
          57,
          65,
          76,
          82,
          121,
          90,
          218,
          169,
          97,
          143,
          142,
          104,
          102,
          126,
          170,
          232,
          105,
          30,
          69,
          69,
          25,
          83,
          64,
          124,
          104,
          116,
          97,
          101,
          87,
          98,
          105,
          53,
          58,
          55,
          120,
          218,
          116,
          242,
          77,
          76,
          55,
          84,
          145,
          235,
          276,
          247,
          183,
          101,
          80,
          172,
          103,
          77,
          119,
          81,
          151,
          241,
          320,
          222,
          192,
          194,
          138,
          221,
          344,
          325,
          162,
          130,
          184,
          174,
          128,
          94,
          103,
          91,
          96,
          108,
          70,
          62,
          68,
          330,
          121,
          29,
          48,
          61,
          28,
          313,
          35,
          78,
          114,
          141,
          142,
          352,
          111,
          71,
          108,
          104,
          354,
          47,
          24,
          40,
          5,
          19,
          14,
          16,
          36,
          18,
          9,
          9,
          37,
          25,
          14,
          120,
          59,
          155,
          50,
          42,
          115,
          156,
          152,
          110,
          62,
          101,
          87,
          122,
          74,
          98,
          87,
          74,
          155,
          133,
          81,
          73,
          49,
          121,
          149,
          120,
          184,
          196,
          163,
          83,
          110,
          184,
          161,
          166,
          153,
          91,
          98,
          59,
          129,
          133,
          137,
          139,
          75
         ],
         "xaxis": "x",
         "y": [
          0.46066399999999996,
          0.4718230000000001,
          0.46950999999999965,
          0.4686750000000002,
          0.46345999999999954,
          0.45858300000000085,
          0.47153399999999923,
          0.48345600000000033,
          0.467587,
          0.46306199999999986,
          0.45532200000000067,
          0.47366699999999895,
          0.4870440000000009,
          0.4839380000000002,
          0.4956979999999991,
          0.4683330000000012,
          0.476621999999999,
          0.4778830000000003,
          0.48903100000000066,
          0.4727359999999994,
          0.4747059999999994,
          0.4735610000000001,
          0.458164,
          0.4645790000000005,
          0.3949750000000005,
          0.3730139999999995,
          0.3772570000000002,
          0.3546969999999998,
          0.33888199999999813,
          0.34315300000000093,
          0.32422400000000096,
          0.32555400000000034,
          0.3268519999999988,
          0.34976500000000144,
          0.33123999999999754,
          0.33632300000000015,
          0.3361280000000022,
          0.3282670000000003,
          0.35777399999999915,
          0.3331969999999984,
          0.36165300000000045,
          0.3567500000000017,
          0.3709959999999981,
          0.3787310000000019,
          0.3367249999999977,
          0.3170490000000008,
          0.29898700000000034,
          0.3231970000000004,
          0.39260499999999965,
          0.35213800000000006,
          0.3096369999999986,
          0.3090670000000024,
          0.3164699999999989,
          0.3173659999999998,
          0.3131389999999996,
          0.29662899999999937,
          0.3183920000000029,
          0.32802199999999715,
          0.3243260000000028,
          0.3377069999999982,
          0.3271940000000022,
          0.3465619999999987,
          0.31227699999999814,
          0.3373380000000026,
          0.29639999999999844,
          0.3241809999999994,
          0.3057949999999998,
          0.30976400000000126,
          0.2963880000000003,
          0.31380300000000005,
          0.2930969999999995,
          0.34824899999999914,
          0.3338470000000022,
          0.33241299999999896,
          0.30141300000000015,
          0.31867099999999837,
          0.3127410000000026,
          0.3254869999999954,
          0.3355670000000046,
          0.32330799999999726,
          0.33814900000000137,
          0.3315940000000026,
          0.31844199999999745,
          0.3275170000000003,
          0.3210589999999982,
          0.35326299999999833,
          0.321747000000002,
          0.3541919999999976,
          0.3373760000000061,
          0.3555649999999986,
          0.34241099999999847,
          0.3421960000000013,
          0.3105249999999984,
          0.31531400000000076,
          0.3020270000000025,
          0.32172299999999865,
          0.3247299999999953,
          0.3389620000000022,
          0.3359179999999995,
          0.36278500000000236,
          0.3125009999999975,
          0.35465900000000516,
          0.3890259999999941,
          0.3623100000000008,
          0.43003000000000213,
          0.46312400000000054,
          0.46464699999999937,
          0.4624469999999974,
          0.4400280000000052,
          0.45085399999999964,
          0.44889999999999475,
          0.4710540000000023,
          0.3997230000000016,
          0.3031689999999969,
          0.32501300000000555,
          0.3503729999999976,
          0.3316560000000024,
          0.36721899999999863,
          0.34936299999999676,
          0.33809300000000064,
          0.33580200000000104,
          0.3926700000000025,
          0.4424499999999938,
          0.47139300000000617,
          0.45689799999999536,
          0.4720000000000013,
          0.45568099999999845,
          0.4759829999999994,
          0.4718110000000024,
          0.45955399999999713,
          0.44639100000000553,
          0.4579400000000007,
          0.4478809999999953,
          0.47025500000000164,
          0.42193799999999726,
          0.4457400000000007,
          0.4603740000000016,
          0.4735820000000004,
          0.4483099999999993,
          0.48849400000000287,
          0.38820499999999925,
          0.3460139999999967,
          0.3050130000000024,
          0.31075399999999576,
          0.31591500000000394,
          0.3098639999999975,
          0.30234500000000253,
          0.35094099999999884,
          0.3705940000000041,
          0.37121799999999894,
          0.3827789999999993,
          0.3662470000000013,
          0.3405169999999984,
          0.3362639999999999,
          0.3063009999999977,
          0.3272260000000031,
          0.32665899999999937,
          0.35860699999999923,
          0.3180240000000012,
          0.35387599999999964,
          0.33507900000000035,
          0.3326359999999937,
          0.33873700000000895,
          0.3063899999999933,
          0.30332500000000095,
          0.3319230000000033,
          0.32403099999999085,
          0.32405400000000384,
          0.3516350000000017,
          0.3900720000000035,
          0.34656900000000235,
          0.3500569999999925,
          0.33255100000000937,
          0.4013399999999905,
          0.3468950000000035,
          0.3269779999999969,
          0.3372930000000025,
          0.34856700000000274,
          0.3091830000000044,
          0.3100689999999986,
          0.30765299999998774,
          0.33887700000001075,
          0.33387799999999856,
          0.31136399999999753,
          0.31489500000000703,
          0.3297399999999868,
          0.318279000000004,
          0.34176399999999774,
          0.33330000000000837,
          0.33381799999999373,
          0.3026260000000036,
          0.3433809999999937,
          0.3204980000000006,
          0.34700700000000495,
          0.3080970000000036,
          0.3190319999999929,
          0.3559620000000052,
          0.30870399999999165,
          0.2909180000000049,
          0.29856900000000053,
          0.2908180000000016,
          0.307146000000003,
          0.30641399999998953,
          0.3072970000000055,
          0.30390800000000695,
          0.31786400000000015,
          0.3112609999999876,
          0.3057930000000084,
          0.2965870000000024,
          0.3320489999999978,
          0.32281000000000404,
          0.3001259999999917,
          0.30558999999999514,
          0.30833300000000463,
          0.2976210000000066,
          0.3323429999999945,
          0.30128799999999956,
          0.31618699999999933,
          0.31644400000000417,
          0.3515569999999997,
          0.31283100000000275,
          0.32136299999999096,
          0.30585200000000157,
          0.30838400000000377,
          0.29671500000000606,
          0.33987199999999973,
          0.3177919999999972,
          0.38171400000000233,
          0.34799599999999486,
          0.3322430000000054,
          0.3212349999999873,
          0.3813050000000118,
          0.3406909999999925,
          0.31209900000000346,
          0.3111300000000057,
          0.3450889999999873,
          0.30900300000000414,
          0.32678200000000857,
          0.332177999999999,
          0.34428599999999676,
          0.36909299999999234,
          0.3666120000000035,
          0.3698969999999946,
          0.3313270000000017,
          0.3262990000000059,
          0.3148439999999937,
          0.3265140000000031,
          0.3340029999999956,
          0.32535900000000595,
          0.32659400000000005,
          0.32154300000000546,
          0.337151999999989,
          0.3207580000000121,
          0.3412969999999973,
          0.3258069999999975,
          0.3496669999999966,
          0.35350800000000504,
          0.36535999999999547,
          0.36384999999999934,
          0.36787200000000553,
          0.3481309999999951,
          0.32968600000000947,
          0.3160599999999931,
          0.33763199999999927,
          0.33602000000000487,
          0.30641399999998953,
          0.31329900000000066,
          0.304774000000009,
          0.3114089999999976,
          0.30696899999999516,
          0.31999199999999917,
          0.3403059999999982,
          0.32781700000001024,
          0.3350859999999898,
          0.39553000000000793,
          0.3948639999999983,
          0.36256699999999853,
          0.336078999999998,
          0.3704529999999977,
          0.3942480000000046,
          0.31042600000000675,
          0.33602899999999636,
          0.3080059999999918,
          0.35423500000000274,
          0.349962000000005,
          0.35980999999999597,
          0.3287820000000039,
          0.3489900000000006,
          0.36744199999999694,
          0.38187000000000637,
          0.3589179999999885,
          0.3271410000000117,
          0.3411049999999989,
          0.35101099999999974,
          0.36817700000000286,
          0.34093099999999765,
          0.35112900000000025,
          0.3639960000000002,
          0.3674970000000002,
          0.3561169999999976,
          0.349228999999994,
          0.3504350000000045,
          0.33531100000000436,
          0.333170999999993,
          0.3573680000000081,
          0.35866299999999285,
          0.33733399999999847,
          0.3141420000000039,
          0.31281299999999135,
          0.33278400000000374,
          0.35060699999999656,
          0.339808000000005,
          0.3575000000000017,
          0.3659990000000022,
          0.3141909999999939,
          0.32951599999999814,
          0.3375790000000052,
          0.32860100000000614,
          0.32970399999999245,
          0.3684340000000077,
          0.33825399999999206,
          0.3412490000000048,
          0.36525899999999467,
          0.3695770000000067,
          0.30987299999999607,
          0.3138050000000021,
          0.3154079999999908,
          0.3099510000000123,
          0.31770999999999106,
          0.34606999999999744,
          0.2913090000000125,
          0.3281080000000003,
          0.30830199999999763,
          0.3251190000000008,
          0.31995299999999816,
          0.3252679999999941,
          0.29831400000000485,
          0.31054799999999716,
          0.31255500000000325,
          0.34019499999999425,
          0.3025000000000091,
          0.30938700000000097,
          0.29598000000000013,
          0.32522699999999816,
          0.3404599999999931,
          0.3604739999999964,
          0.30131099999999833,
          0.322763000000009,
          0.31727200000000266,
          0.3277999999999963,
          0.3163629999999955,
          0.3346090000000004,
          0.33826000000000533,
          0.33126299999999276,
          0.3226590000000158,
          0.3256309999999871,
          0.3127619999999922,
          0.35110400000002073,
          0.32153099999999313,
          0.34757099999998786,
          0.3050760000000139,
          0.3195100000000082,
          0.30085099999999443,
          0.3301060000000007,
          0.3037750000000017,
          0.3217719999999815,
          0.3182549999999935,
          0.33207500000000323,
          0.3145580000000052,
          0.31242800000001125,
          0.30111299999998664,
          0.32552599999999643,
          0.29648800000001074,
          0.29752500000000737,
          0.30534900000000675,
          0.3137919999999781,
          0.3104069999999979,
          0.3369830000000036,
          0.29515600000001996,
          0.3153169999999932,
          0.2936339999999973,
          0.3075049999999919,
          0.3115270000000123,
          0.3425589999999943,
          0.2908299999999997,
          0.3123459999999909,
          0.30054699999999457,
          0.3276080000000263,
          0.31424099999998134,
          0.3319189999999992,
          0.2977170000000058,
          0.33279099999998607,
          0.33613900000000285,
          0.3611539999999991,
          0.300863000000021,
          0.3364949999999851,
          0.3332359999999994,
          0.3488240000000076,
          0.3534270000000106,
          0.34329599999998095,
          0.32157900000001405,
          0.3181329999999889,
          0.2994559999999922,
          0.32092099999999846,
          0.32121600000002104,
          0.33384399999999914,
          0.3204680000000053,
          0.3403669999999863,
          0.33184199999999464,
          0.3774449999999945,
          0.3233730000000037,
          0.35467400000001703,
          0.34328800000000115,
          0.34974399999998695,
          0.3485340000000008,
          0.38598799999999756,
          0.3573300000000188,
          0.3802519999999845,
          0.36213300000000004,
          0.396096,
          0.38386299999999096,
          0.3943840000000023,
          0.30255100000002244,
          0.3447829999999783,
          0.32561700000002247,
          0.32358899999999835,
          0.35114099999998416,
          0.3501850000000104,
          0.3735539999999844,
          0.3809310000000039,
          0.34269700000001535,
          0.3715259999999887,
          0.3577370000000144,
          0.3766109999999969,
          0.37475699999998824,
          0.37783300000000963,
          0.31225999999998066,
          0.32727400000001694,
          0.32744800000000396,
          0.40892800000000307,
          0.4388669999999877,
          0.3737959999999987,
          0.44585599999999204,
          0.32989299999999844,
          0.3241430000000207,
          0.3410509999999931,
          0.35259600000000546,
          0.4194789999999955,
          0.47071499999998423,
          0.5048470000000123,
          0.4235170000000039,
          0.39797400000000493,
          0.3311569999999904,
          0.33398500000001263,
          0.37443700000000035,
          0.35454499999997324,
          0.32128900000000726,
          0.359595000000013,
          0.32561699999999405,
          0.3971259999999859,
          0.46718400000000315,
          0.4932450000000017,
          0.4347940000000108,
          0.399312000000009,
          0.3868009999999913,
          0.37129699999999843,
          0.4430110000000127,
          0.4646709999999814,
          0.46238800000000424,
          0.3772329999999897,
          0.35484400000001415,
          0.37486200000000736,
          0.3752009999999757,
          0.35678500000000213,
          0.3276230000000169,
          0.35345499999999674,
          0.3512660000000096,
          0.359913999999975,
          0.34383600000001024,
          0.33789500000000317,
          0.3303369999999859,
          0.33984600000002274,
          0.4531559999999786,
          0.3870640000000094,
          0.31789000000000556,
          0.33617000000000985,
          0.32908199999999965,
          0.3109350000000006,
          0.39655799999999886,
          0.30366999999998256,
          0.3184710000000166,
          0.35244999999997617,
          0.357151000000016,
          0.36212000000000444,
          0.45097099999998136,
          0.3365090000000066,
          0.3228860000000111,
          0.36386199999998325,
          0.33316500000000815,
          0.38687300000000846,
          0.30880500000000666,
          0.3134319999999775,
          0.30156900000000064,
          0.3032709999999952,
          0.297204000000022,
          0.3028860000000009,
          0.3026739999999961,
          0.3082279999999855,
          0.28779700000001185,
          0.3001199999999926,
          0.290805000000006,
          0.32545999999999253,
          0.29831500000000233,
          0.30733299999999986,
          0.3620200000000011,
          0.3297579999999982,
          0.3905120000000011,
          0.33187800000001744,
          0.32033500000000004,
          0.37598299999999085,
          0.3762830000000008,
          0.389144999999985,
          0.3515600000000063,
          0.3289000000000044,
          0.334510999999992,
          0.34312099999999646,
          0.3606640000000141,
          0.32085899999998446,
          0.33447900000001596,
          0.34274899999999775,
          0.33160499999999615,
          0.3844760000000065,
          0.36786200000000235,
          0.3247389999999939,
          0.31551200000001245,
          0.31800399999997353,
          0.37254400000000487,
          0.40207800000001725,
          0.3921179999999822,
          0.39541600000001154,
          0.39507699999998636,
          0.4201050000000066,
          0.3391809999999964,
          0.365791999999999,
          0.40138200000001234,
          0.39491599999999494,
          0.3600800000000106,
          0.38239999999998986,
          0.37787600000001476,
          0.33687499999999204,
          0.3186719999999923,
          0.36527799999998933,
          0.3690040000000181,
          0.3672249999999906,
          0.36645200000000955,
          0.3465229999999906
         ],
         "yaxis": "y"
        }
       ],
       "layout": {
        "legend": {
         "tracegroupgap": 0
        },
        "margin": {
         "t": 60
        },
        "template": {
         "data": {
          "bar": [
           {
            "error_x": {
             "color": "#2a3f5f"
            },
            "error_y": {
             "color": "#2a3f5f"
            },
            "marker": {
             "line": {
              "color": "#E5ECF6",
              "width": 0.5
             },
             "pattern": {
              "fillmode": "overlay",
              "size": 10,
              "solidity": 0.2
             }
            },
            "type": "bar"
           }
          ],
          "barpolar": [
           {
            "marker": {
             "line": {
              "color": "#E5ECF6",
              "width": 0.5
             },
             "pattern": {
              "fillmode": "overlay",
              "size": 10,
              "solidity": 0.2
             }
            },
            "type": "barpolar"
           }
          ],
          "carpet": [
           {
            "aaxis": {
             "endlinecolor": "#2a3f5f",
             "gridcolor": "white",
             "linecolor": "white",
             "minorgridcolor": "white",
             "startlinecolor": "#2a3f5f"
            },
            "baxis": {
             "endlinecolor": "#2a3f5f",
             "gridcolor": "white",
             "linecolor": "white",
             "minorgridcolor": "white",
             "startlinecolor": "#2a3f5f"
            },
            "type": "carpet"
           }
          ],
          "choropleth": [
           {
            "colorbar": {
             "outlinewidth": 0,
             "ticks": ""
            },
            "type": "choropleth"
           }
          ],
          "contour": [
           {
            "colorbar": {
             "outlinewidth": 0,
             "ticks": ""
            },
            "colorscale": [
             [
              0,
              "#0d0887"
             ],
             [
              0.1111111111111111,
              "#46039f"
             ],
             [
              0.2222222222222222,
              "#7201a8"
             ],
             [
              0.3333333333333333,
              "#9c179e"
             ],
             [
              0.4444444444444444,
              "#bd3786"
             ],
             [
              0.5555555555555556,
              "#d8576b"
             ],
             [
              0.6666666666666666,
              "#ed7953"
             ],
             [
              0.7777777777777778,
              "#fb9f3a"
             ],
             [
              0.8888888888888888,
              "#fdca26"
             ],
             [
              1,
              "#f0f921"
             ]
            ],
            "type": "contour"
           }
          ],
          "contourcarpet": [
           {
            "colorbar": {
             "outlinewidth": 0,
             "ticks": ""
            },
            "type": "contourcarpet"
           }
          ],
          "heatmap": [
           {
            "colorbar": {
             "outlinewidth": 0,
             "ticks": ""
            },
            "colorscale": [
             [
              0,
              "#0d0887"
             ],
             [
              0.1111111111111111,
              "#46039f"
             ],
             [
              0.2222222222222222,
              "#7201a8"
             ],
             [
              0.3333333333333333,
              "#9c179e"
             ],
             [
              0.4444444444444444,
              "#bd3786"
             ],
             [
              0.5555555555555556,
              "#d8576b"
             ],
             [
              0.6666666666666666,
              "#ed7953"
             ],
             [
              0.7777777777777778,
              "#fb9f3a"
             ],
             [
              0.8888888888888888,
              "#fdca26"
             ],
             [
              1,
              "#f0f921"
             ]
            ],
            "type": "heatmap"
           }
          ],
          "heatmapgl": [
           {
            "colorbar": {
             "outlinewidth": 0,
             "ticks": ""
            },
            "colorscale": [
             [
              0,
              "#0d0887"
             ],
             [
              0.1111111111111111,
              "#46039f"
             ],
             [
              0.2222222222222222,
              "#7201a8"
             ],
             [
              0.3333333333333333,
              "#9c179e"
             ],
             [
              0.4444444444444444,
              "#bd3786"
             ],
             [
              0.5555555555555556,
              "#d8576b"
             ],
             [
              0.6666666666666666,
              "#ed7953"
             ],
             [
              0.7777777777777778,
              "#fb9f3a"
             ],
             [
              0.8888888888888888,
              "#fdca26"
             ],
             [
              1,
              "#f0f921"
             ]
            ],
            "type": "heatmapgl"
           }
          ],
          "histogram": [
           {
            "marker": {
             "pattern": {
              "fillmode": "overlay",
              "size": 10,
              "solidity": 0.2
             }
            },
            "type": "histogram"
           }
          ],
          "histogram2d": [
           {
            "colorbar": {
             "outlinewidth": 0,
             "ticks": ""
            },
            "colorscale": [
             [
              0,
              "#0d0887"
             ],
             [
              0.1111111111111111,
              "#46039f"
             ],
             [
              0.2222222222222222,
              "#7201a8"
             ],
             [
              0.3333333333333333,
              "#9c179e"
             ],
             [
              0.4444444444444444,
              "#bd3786"
             ],
             [
              0.5555555555555556,
              "#d8576b"
             ],
             [
              0.6666666666666666,
              "#ed7953"
             ],
             [
              0.7777777777777778,
              "#fb9f3a"
             ],
             [
              0.8888888888888888,
              "#fdca26"
             ],
             [
              1,
              "#f0f921"
             ]
            ],
            "type": "histogram2d"
           }
          ],
          "histogram2dcontour": [
           {
            "colorbar": {
             "outlinewidth": 0,
             "ticks": ""
            },
            "colorscale": [
             [
              0,
              "#0d0887"
             ],
             [
              0.1111111111111111,
              "#46039f"
             ],
             [
              0.2222222222222222,
              "#7201a8"
             ],
             [
              0.3333333333333333,
              "#9c179e"
             ],
             [
              0.4444444444444444,
              "#bd3786"
             ],
             [
              0.5555555555555556,
              "#d8576b"
             ],
             [
              0.6666666666666666,
              "#ed7953"
             ],
             [
              0.7777777777777778,
              "#fb9f3a"
             ],
             [
              0.8888888888888888,
              "#fdca26"
             ],
             [
              1,
              "#f0f921"
             ]
            ],
            "type": "histogram2dcontour"
           }
          ],
          "mesh3d": [
           {
            "colorbar": {
             "outlinewidth": 0,
             "ticks": ""
            },
            "type": "mesh3d"
           }
          ],
          "parcoords": [
           {
            "line": {
             "colorbar": {
              "outlinewidth": 0,
              "ticks": ""
             }
            },
            "type": "parcoords"
           }
          ],
          "pie": [
           {
            "automargin": true,
            "type": "pie"
           }
          ],
          "scatter": [
           {
            "fillpattern": {
             "fillmode": "overlay",
             "size": 10,
             "solidity": 0.2
            },
            "type": "scatter"
           }
          ],
          "scatter3d": [
           {
            "line": {
             "colorbar": {
              "outlinewidth": 0,
              "ticks": ""
             }
            },
            "marker": {
             "colorbar": {
              "outlinewidth": 0,
              "ticks": ""
             }
            },
            "type": "scatter3d"
           }
          ],
          "scattercarpet": [
           {
            "marker": {
             "colorbar": {
              "outlinewidth": 0,
              "ticks": ""
             }
            },
            "type": "scattercarpet"
           }
          ],
          "scattergeo": [
           {
            "marker": {
             "colorbar": {
              "outlinewidth": 0,
              "ticks": ""
             }
            },
            "type": "scattergeo"
           }
          ],
          "scattergl": [
           {
            "marker": {
             "colorbar": {
              "outlinewidth": 0,
              "ticks": ""
             }
            },
            "type": "scattergl"
           }
          ],
          "scattermapbox": [
           {
            "marker": {
             "colorbar": {
              "outlinewidth": 0,
              "ticks": ""
             }
            },
            "type": "scattermapbox"
           }
          ],
          "scatterpolar": [
           {
            "marker": {
             "colorbar": {
              "outlinewidth": 0,
              "ticks": ""
             }
            },
            "type": "scatterpolar"
           }
          ],
          "scatterpolargl": [
           {
            "marker": {
             "colorbar": {
              "outlinewidth": 0,
              "ticks": ""
             }
            },
            "type": "scatterpolargl"
           }
          ],
          "scatterternary": [
           {
            "marker": {
             "colorbar": {
              "outlinewidth": 0,
              "ticks": ""
             }
            },
            "type": "scatterternary"
           }
          ],
          "surface": [
           {
            "colorbar": {
             "outlinewidth": 0,
             "ticks": ""
            },
            "colorscale": [
             [
              0,
              "#0d0887"
             ],
             [
              0.1111111111111111,
              "#46039f"
             ],
             [
              0.2222222222222222,
              "#7201a8"
             ],
             [
              0.3333333333333333,
              "#9c179e"
             ],
             [
              0.4444444444444444,
              "#bd3786"
             ],
             [
              0.5555555555555556,
              "#d8576b"
             ],
             [
              0.6666666666666666,
              "#ed7953"
             ],
             [
              0.7777777777777778,
              "#fb9f3a"
             ],
             [
              0.8888888888888888,
              "#fdca26"
             ],
             [
              1,
              "#f0f921"
             ]
            ],
            "type": "surface"
           }
          ],
          "table": [
           {
            "cells": {
             "fill": {
              "color": "#EBF0F8"
             },
             "line": {
              "color": "white"
             }
            },
            "header": {
             "fill": {
              "color": "#C8D4E3"
             },
             "line": {
              "color": "white"
             }
            },
            "type": "table"
           }
          ]
         },
         "layout": {
          "annotationdefaults": {
           "arrowcolor": "#2a3f5f",
           "arrowhead": 0,
           "arrowwidth": 1
          },
          "autotypenumbers": "strict",
          "coloraxis": {
           "colorbar": {
            "outlinewidth": 0,
            "ticks": ""
           }
          },
          "colorscale": {
           "diverging": [
            [
             0,
             "#8e0152"
            ],
            [
             0.1,
             "#c51b7d"
            ],
            [
             0.2,
             "#de77ae"
            ],
            [
             0.3,
             "#f1b6da"
            ],
            [
             0.4,
             "#fde0ef"
            ],
            [
             0.5,
             "#f7f7f7"
            ],
            [
             0.6,
             "#e6f5d0"
            ],
            [
             0.7,
             "#b8e186"
            ],
            [
             0.8,
             "#7fbc41"
            ],
            [
             0.9,
             "#4d9221"
            ],
            [
             1,
             "#276419"
            ]
           ],
           "sequential": [
            [
             0,
             "#0d0887"
            ],
            [
             0.1111111111111111,
             "#46039f"
            ],
            [
             0.2222222222222222,
             "#7201a8"
            ],
            [
             0.3333333333333333,
             "#9c179e"
            ],
            [
             0.4444444444444444,
             "#bd3786"
            ],
            [
             0.5555555555555556,
             "#d8576b"
            ],
            [
             0.6666666666666666,
             "#ed7953"
            ],
            [
             0.7777777777777778,
             "#fb9f3a"
            ],
            [
             0.8888888888888888,
             "#fdca26"
            ],
            [
             1,
             "#f0f921"
            ]
           ],
           "sequentialminus": [
            [
             0,
             "#0d0887"
            ],
            [
             0.1111111111111111,
             "#46039f"
            ],
            [
             0.2222222222222222,
             "#7201a8"
            ],
            [
             0.3333333333333333,
             "#9c179e"
            ],
            [
             0.4444444444444444,
             "#bd3786"
            ],
            [
             0.5555555555555556,
             "#d8576b"
            ],
            [
             0.6666666666666666,
             "#ed7953"
            ],
            [
             0.7777777777777778,
             "#fb9f3a"
            ],
            [
             0.8888888888888888,
             "#fdca26"
            ],
            [
             1,
             "#f0f921"
            ]
           ]
          },
          "colorway": [
           "#636efa",
           "#EF553B",
           "#00cc96",
           "#ab63fa",
           "#FFA15A",
           "#19d3f3",
           "#FF6692",
           "#B6E880",
           "#FF97FF",
           "#FECB52"
          ],
          "font": {
           "color": "#2a3f5f"
          },
          "geo": {
           "bgcolor": "white",
           "lakecolor": "white",
           "landcolor": "#E5ECF6",
           "showlakes": true,
           "showland": true,
           "subunitcolor": "white"
          },
          "hoverlabel": {
           "align": "left"
          },
          "hovermode": "closest",
          "mapbox": {
           "style": "light"
          },
          "paper_bgcolor": "white",
          "plot_bgcolor": "#E5ECF6",
          "polar": {
           "angularaxis": {
            "gridcolor": "white",
            "linecolor": "white",
            "ticks": ""
           },
           "bgcolor": "#E5ECF6",
           "radialaxis": {
            "gridcolor": "white",
            "linecolor": "white",
            "ticks": ""
           }
          },
          "scene": {
           "xaxis": {
            "backgroundcolor": "#E5ECF6",
            "gridcolor": "white",
            "gridwidth": 2,
            "linecolor": "white",
            "showbackground": true,
            "ticks": "",
            "zerolinecolor": "white"
           },
           "yaxis": {
            "backgroundcolor": "#E5ECF6",
            "gridcolor": "white",
            "gridwidth": 2,
            "linecolor": "white",
            "showbackground": true,
            "ticks": "",
            "zerolinecolor": "white"
           },
           "zaxis": {
            "backgroundcolor": "#E5ECF6",
            "gridcolor": "white",
            "gridwidth": 2,
            "linecolor": "white",
            "showbackground": true,
            "ticks": "",
            "zerolinecolor": "white"
           }
          },
          "shapedefaults": {
           "line": {
            "color": "#2a3f5f"
           }
          },
          "ternary": {
           "aaxis": {
            "gridcolor": "white",
            "linecolor": "white",
            "ticks": ""
           },
           "baxis": {
            "gridcolor": "white",
            "linecolor": "white",
            "ticks": ""
           },
           "bgcolor": "#E5ECF6",
           "caxis": {
            "gridcolor": "white",
            "linecolor": "white",
            "ticks": ""
           }
          },
          "title": {
           "x": 0.05
          },
          "xaxis": {
           "automargin": true,
           "gridcolor": "white",
           "linecolor": "white",
           "ticks": "",
           "title": {
            "standoff": 15
           },
           "zerolinecolor": "white",
           "zerolinewidth": 2
          },
          "yaxis": {
           "automargin": true,
           "gridcolor": "white",
           "linecolor": "white",
           "ticks": "",
           "title": {
            "standoff": 15
           },
           "zerolinecolor": "white",
           "zerolinewidth": 2
          }
         }
        },
        "xaxis": {
         "anchor": "y",
         "domain": [
          0,
          1
         ],
         "title": {
          "text": "Number of requests received in a 10-minute interval"
         }
        },
        "yaxis": {
         "anchor": "x",
         "domain": [
          0,
          1
         ],
         "title": {
          "text": "Energy consumption (kWh)"
         }
        }
       }
      },
      "text/html": [
       "<div>                            <div id=\"4b8386cd-1372-4946-a6be-7e21ffcc611e\" class=\"plotly-graph-div\" style=\"height:525px; width:100%;\"></div>            <script type=\"text/javascript\">                require([\"plotly\"], function(Plotly) {                    window.PLOTLYENV=window.PLOTLYENV || {};                                    if (document.getElementById(\"4b8386cd-1372-4946-a6be-7e21ffcc611e\")) {                    Plotly.newPlot(                        \"4b8386cd-1372-4946-a6be-7e21ffcc611e\",                        [{\"hovertemplate\":\"requests=%{x}<br>Energy by interval=%{y}<extra></extra>\",\"legendgroup\":\"\",\"marker\":{\"color\":\"#636efa\",\"symbol\":\"circle\"},\"mode\":\"markers\",\"name\":\"\",\"orientation\":\"v\",\"showlegend\":false,\"x\":[237,243,213,227,208,212,221,304,254,227,217,255,284,276,241,271,270,271,273,278,242,246,209,226,162,137,164,108,76,97,69,36,34,108,77,66,37,82,112,74,100,99,148,123,90,48,10,42,205,110,43,36,42,43,45,3,49,50,64,86,65,70,58,58,24,38,24,19,27,44,9,81,81,83,52,46,52,63,75,57,92,25,27,81,58,97,58,87,100,91,104,85,45,45,21,25,54,65,60,95,38,54,111,89,181,220,211,208,188,182,173,200,136,19,53,74,69,144,123,90,103,135,214,298,271,270,250,230,315,228,203,194,214,233,180,172,162,235,214,270,150,72,42,30,38,29,39,95,169,153,183,170,130,82,68,39,43,80,39,45,61,50,76,10,18,42,71,45,132,143,93,79,84,127,105,72,108,108,29,16,35,68,49,26,74,74,66,52,83,93,47,74,68,109,47,61,109,15,8,6,6,17,45,33,57,43,33,23,13,34,23,9,40,22,30,46,26,26,71,83,35,41,42,18,23,76,76,112,96,50,60,90,81,21,50,77,32,53,79,92,119,96,147,57,53,44,56,83,70,47,71,61,44,83,74,78,43,84,115,101,142,74,42,49,60,18,27,18,15,21,49,32,40,57,129,115,123,94,146,169,61,62,67,112,82,58,54,66,112,100,83,57,86,105,149,60,88,112,129,106,79,35,80,69,55,71,60,20,38,48,70,92,129,114,65,182,82,39,63,113,96,118,134,138,40,45,44,14,52,73,6,44,20,40,45,29,19,27,32,69,29,20,17,49,110,85,44,58,46,51,69,92,52,29,33,37,52,99,65,74,36,30,34,86,40,62,59,53,17,31,54,36,17,1,56,37,40,69,35,28,11,23,45,86,4,14,19,34,30,34,23,45,73,71,42,28,88,75,95,73,56,31,19,27,44,57,65,76,82,121,90,218,169,97,143,142,104,102,126,170,232,105,30,69,69,25,83,64,124,104,116,97,101,87,98,105,53,58,55,120,218,116,242,77,76,55,84,145,235,276,247,183,101,80,172,103,77,119,81,151,241,320,222,192,194,138,221,344,325,162,130,184,174,128,94,103,91,96,108,70,62,68,330,121,29,48,61,28,313,35,78,114,141,142,352,111,71,108,104,354,47,24,40,5,19,14,16,36,18,9,9,37,25,14,120,59,155,50,42,115,156,152,110,62,101,87,122,74,98,87,74,155,133,81,73,49,121,149,120,184,196,163,83,110,184,161,166,153,91,98,59,129,133,137,139,75],\"xaxis\":\"x\",\"y\":[0.46066399999999996,0.4718230000000001,0.46950999999999965,0.4686750000000002,0.46345999999999954,0.45858300000000085,0.47153399999999923,0.48345600000000033,0.467587,0.46306199999999986,0.45532200000000067,0.47366699999999895,0.4870440000000009,0.4839380000000002,0.4956979999999991,0.4683330000000012,0.476621999999999,0.4778830000000003,0.48903100000000066,0.4727359999999994,0.4747059999999994,0.4735610000000001,0.458164,0.4645790000000005,0.3949750000000005,0.3730139999999995,0.3772570000000002,0.3546969999999998,0.33888199999999813,0.34315300000000093,0.32422400000000096,0.32555400000000034,0.3268519999999988,0.34976500000000144,0.33123999999999754,0.33632300000000015,0.3361280000000022,0.3282670000000003,0.35777399999999915,0.3331969999999984,0.36165300000000045,0.3567500000000017,0.3709959999999981,0.3787310000000019,0.3367249999999977,0.3170490000000008,0.29898700000000034,0.3231970000000004,0.39260499999999965,0.35213800000000006,0.3096369999999986,0.3090670000000024,0.3164699999999989,0.3173659999999998,0.3131389999999996,0.29662899999999937,0.3183920000000029,0.32802199999999715,0.3243260000000028,0.3377069999999982,0.3271940000000022,0.3465619999999987,0.31227699999999814,0.3373380000000026,0.29639999999999844,0.3241809999999994,0.3057949999999998,0.30976400000000126,0.2963880000000003,0.31380300000000005,0.2930969999999995,0.34824899999999914,0.3338470000000022,0.33241299999999896,0.30141300000000015,0.31867099999999837,0.3127410000000026,0.3254869999999954,0.3355670000000046,0.32330799999999726,0.33814900000000137,0.3315940000000026,0.31844199999999745,0.3275170000000003,0.3210589999999982,0.35326299999999833,0.321747000000002,0.3541919999999976,0.3373760000000061,0.3555649999999986,0.34241099999999847,0.3421960000000013,0.3105249999999984,0.31531400000000076,0.3020270000000025,0.32172299999999865,0.3247299999999953,0.3389620000000022,0.3359179999999995,0.36278500000000236,0.3125009999999975,0.35465900000000516,0.3890259999999941,0.3623100000000008,0.43003000000000213,0.46312400000000054,0.46464699999999937,0.4624469999999974,0.4400280000000052,0.45085399999999964,0.44889999999999475,0.4710540000000023,0.3997230000000016,0.3031689999999969,0.32501300000000555,0.3503729999999976,0.3316560000000024,0.36721899999999863,0.34936299999999676,0.33809300000000064,0.33580200000000104,0.3926700000000025,0.4424499999999938,0.47139300000000617,0.45689799999999536,0.4720000000000013,0.45568099999999845,0.4759829999999994,0.4718110000000024,0.45955399999999713,0.44639100000000553,0.4579400000000007,0.4478809999999953,0.47025500000000164,0.42193799999999726,0.4457400000000007,0.4603740000000016,0.4735820000000004,0.4483099999999993,0.48849400000000287,0.38820499999999925,0.3460139999999967,0.3050130000000024,0.31075399999999576,0.31591500000000394,0.3098639999999975,0.30234500000000253,0.35094099999999884,0.3705940000000041,0.37121799999999894,0.3827789999999993,0.3662470000000013,0.3405169999999984,0.3362639999999999,0.3063009999999977,0.3272260000000031,0.32665899999999937,0.35860699999999923,0.3180240000000012,0.35387599999999964,0.33507900000000035,0.3326359999999937,0.33873700000000895,0.3063899999999933,0.30332500000000095,0.3319230000000033,0.32403099999999085,0.32405400000000384,0.3516350000000017,0.3900720000000035,0.34656900000000235,0.3500569999999925,0.33255100000000937,0.4013399999999905,0.3468950000000035,0.3269779999999969,0.3372930000000025,0.34856700000000274,0.3091830000000044,0.3100689999999986,0.30765299999998774,0.33887700000001075,0.33387799999999856,0.31136399999999753,0.31489500000000703,0.3297399999999868,0.318279000000004,0.34176399999999774,0.33330000000000837,0.33381799999999373,0.3026260000000036,0.3433809999999937,0.3204980000000006,0.34700700000000495,0.3080970000000036,0.3190319999999929,0.3559620000000052,0.30870399999999165,0.2909180000000049,0.29856900000000053,0.2908180000000016,0.307146000000003,0.30641399999998953,0.3072970000000055,0.30390800000000695,0.31786400000000015,0.3112609999999876,0.3057930000000084,0.2965870000000024,0.3320489999999978,0.32281000000000404,0.3001259999999917,0.30558999999999514,0.30833300000000463,0.2976210000000066,0.3323429999999945,0.30128799999999956,0.31618699999999933,0.31644400000000417,0.3515569999999997,0.31283100000000275,0.32136299999999096,0.30585200000000157,0.30838400000000377,0.29671500000000606,0.33987199999999973,0.3177919999999972,0.38171400000000233,0.34799599999999486,0.3322430000000054,0.3212349999999873,0.3813050000000118,0.3406909999999925,0.31209900000000346,0.3111300000000057,0.3450889999999873,0.30900300000000414,0.32678200000000857,0.332177999999999,0.34428599999999676,0.36909299999999234,0.3666120000000035,0.3698969999999946,0.3313270000000017,0.3262990000000059,0.3148439999999937,0.3265140000000031,0.3340029999999956,0.32535900000000595,0.32659400000000005,0.32154300000000546,0.337151999999989,0.3207580000000121,0.3412969999999973,0.3258069999999975,0.3496669999999966,0.35350800000000504,0.36535999999999547,0.36384999999999934,0.36787200000000553,0.3481309999999951,0.32968600000000947,0.3160599999999931,0.33763199999999927,0.33602000000000487,0.30641399999998953,0.31329900000000066,0.304774000000009,0.3114089999999976,0.30696899999999516,0.31999199999999917,0.3403059999999982,0.32781700000001024,0.3350859999999898,0.39553000000000793,0.3948639999999983,0.36256699999999853,0.336078999999998,0.3704529999999977,0.3942480000000046,0.31042600000000675,0.33602899999999636,0.3080059999999918,0.35423500000000274,0.349962000000005,0.35980999999999597,0.3287820000000039,0.3489900000000006,0.36744199999999694,0.38187000000000637,0.3589179999999885,0.3271410000000117,0.3411049999999989,0.35101099999999974,0.36817700000000286,0.34093099999999765,0.35112900000000025,0.3639960000000002,0.3674970000000002,0.3561169999999976,0.349228999999994,0.3504350000000045,0.33531100000000436,0.333170999999993,0.3573680000000081,0.35866299999999285,0.33733399999999847,0.3141420000000039,0.31281299999999135,0.33278400000000374,0.35060699999999656,0.339808000000005,0.3575000000000017,0.3659990000000022,0.3141909999999939,0.32951599999999814,0.3375790000000052,0.32860100000000614,0.32970399999999245,0.3684340000000077,0.33825399999999206,0.3412490000000048,0.36525899999999467,0.3695770000000067,0.30987299999999607,0.3138050000000021,0.3154079999999908,0.3099510000000123,0.31770999999999106,0.34606999999999744,0.2913090000000125,0.3281080000000003,0.30830199999999763,0.3251190000000008,0.31995299999999816,0.3252679999999941,0.29831400000000485,0.31054799999999716,0.31255500000000325,0.34019499999999425,0.3025000000000091,0.30938700000000097,0.29598000000000013,0.32522699999999816,0.3404599999999931,0.3604739999999964,0.30131099999999833,0.322763000000009,0.31727200000000266,0.3277999999999963,0.3163629999999955,0.3346090000000004,0.33826000000000533,0.33126299999999276,0.3226590000000158,0.3256309999999871,0.3127619999999922,0.35110400000002073,0.32153099999999313,0.34757099999998786,0.3050760000000139,0.3195100000000082,0.30085099999999443,0.3301060000000007,0.3037750000000017,0.3217719999999815,0.3182549999999935,0.33207500000000323,0.3145580000000052,0.31242800000001125,0.30111299999998664,0.32552599999999643,0.29648800000001074,0.29752500000000737,0.30534900000000675,0.3137919999999781,0.3104069999999979,0.3369830000000036,0.29515600000001996,0.3153169999999932,0.2936339999999973,0.3075049999999919,0.3115270000000123,0.3425589999999943,0.2908299999999997,0.3123459999999909,0.30054699999999457,0.3276080000000263,0.31424099999998134,0.3319189999999992,0.2977170000000058,0.33279099999998607,0.33613900000000285,0.3611539999999991,0.300863000000021,0.3364949999999851,0.3332359999999994,0.3488240000000076,0.3534270000000106,0.34329599999998095,0.32157900000001405,0.3181329999999889,0.2994559999999922,0.32092099999999846,0.32121600000002104,0.33384399999999914,0.3204680000000053,0.3403669999999863,0.33184199999999464,0.3774449999999945,0.3233730000000037,0.35467400000001703,0.34328800000000115,0.34974399999998695,0.3485340000000008,0.38598799999999756,0.3573300000000188,0.3802519999999845,0.36213300000000004,0.396096,0.38386299999999096,0.3943840000000023,0.30255100000002244,0.3447829999999783,0.32561700000002247,0.32358899999999835,0.35114099999998416,0.3501850000000104,0.3735539999999844,0.3809310000000039,0.34269700000001535,0.3715259999999887,0.3577370000000144,0.3766109999999969,0.37475699999998824,0.37783300000000963,0.31225999999998066,0.32727400000001694,0.32744800000000396,0.40892800000000307,0.4388669999999877,0.3737959999999987,0.44585599999999204,0.32989299999999844,0.3241430000000207,0.3410509999999931,0.35259600000000546,0.4194789999999955,0.47071499999998423,0.5048470000000123,0.4235170000000039,0.39797400000000493,0.3311569999999904,0.33398500000001263,0.37443700000000035,0.35454499999997324,0.32128900000000726,0.359595000000013,0.32561699999999405,0.3971259999999859,0.46718400000000315,0.4932450000000017,0.4347940000000108,0.399312000000009,0.3868009999999913,0.37129699999999843,0.4430110000000127,0.4646709999999814,0.46238800000000424,0.3772329999999897,0.35484400000001415,0.37486200000000736,0.3752009999999757,0.35678500000000213,0.3276230000000169,0.35345499999999674,0.3512660000000096,0.359913999999975,0.34383600000001024,0.33789500000000317,0.3303369999999859,0.33984600000002274,0.4531559999999786,0.3870640000000094,0.31789000000000556,0.33617000000000985,0.32908199999999965,0.3109350000000006,0.39655799999999886,0.30366999999998256,0.3184710000000166,0.35244999999997617,0.357151000000016,0.36212000000000444,0.45097099999998136,0.3365090000000066,0.3228860000000111,0.36386199999998325,0.33316500000000815,0.38687300000000846,0.30880500000000666,0.3134319999999775,0.30156900000000064,0.3032709999999952,0.297204000000022,0.3028860000000009,0.3026739999999961,0.3082279999999855,0.28779700000001185,0.3001199999999926,0.290805000000006,0.32545999999999253,0.29831500000000233,0.30733299999999986,0.3620200000000011,0.3297579999999982,0.3905120000000011,0.33187800000001744,0.32033500000000004,0.37598299999999085,0.3762830000000008,0.389144999999985,0.3515600000000063,0.3289000000000044,0.334510999999992,0.34312099999999646,0.3606640000000141,0.32085899999998446,0.33447900000001596,0.34274899999999775,0.33160499999999615,0.3844760000000065,0.36786200000000235,0.3247389999999939,0.31551200000001245,0.31800399999997353,0.37254400000000487,0.40207800000001725,0.3921179999999822,0.39541600000001154,0.39507699999998636,0.4201050000000066,0.3391809999999964,0.365791999999999,0.40138200000001234,0.39491599999999494,0.3600800000000106,0.38239999999998986,0.37787600000001476,0.33687499999999204,0.3186719999999923,0.36527799999998933,0.3690040000000181,0.3672249999999906,0.36645200000000955,0.3465229999999906],\"yaxis\":\"y\",\"type\":\"scatter\"}],                        {\"template\":{\"data\":{\"histogram2dcontour\":[{\"type\":\"histogram2dcontour\",\"colorbar\":{\"outlinewidth\":0,\"ticks\":\"\"},\"colorscale\":[[0.0,\"#0d0887\"],[0.1111111111111111,\"#46039f\"],[0.2222222222222222,\"#7201a8\"],[0.3333333333333333,\"#9c179e\"],[0.4444444444444444,\"#bd3786\"],[0.5555555555555556,\"#d8576b\"],[0.6666666666666666,\"#ed7953\"],[0.7777777777777778,\"#fb9f3a\"],[0.8888888888888888,\"#fdca26\"],[1.0,\"#f0f921\"]]}],\"choropleth\":[{\"type\":\"choropleth\",\"colorbar\":{\"outlinewidth\":0,\"ticks\":\"\"}}],\"histogram2d\":[{\"type\":\"histogram2d\",\"colorbar\":{\"outlinewidth\":0,\"ticks\":\"\"},\"colorscale\":[[0.0,\"#0d0887\"],[0.1111111111111111,\"#46039f\"],[0.2222222222222222,\"#7201a8\"],[0.3333333333333333,\"#9c179e\"],[0.4444444444444444,\"#bd3786\"],[0.5555555555555556,\"#d8576b\"],[0.6666666666666666,\"#ed7953\"],[0.7777777777777778,\"#fb9f3a\"],[0.8888888888888888,\"#fdca26\"],[1.0,\"#f0f921\"]]}],\"heatmap\":[{\"type\":\"heatmap\",\"colorbar\":{\"outlinewidth\":0,\"ticks\":\"\"},\"colorscale\":[[0.0,\"#0d0887\"],[0.1111111111111111,\"#46039f\"],[0.2222222222222222,\"#7201a8\"],[0.3333333333333333,\"#9c179e\"],[0.4444444444444444,\"#bd3786\"],[0.5555555555555556,\"#d8576b\"],[0.6666666666666666,\"#ed7953\"],[0.7777777777777778,\"#fb9f3a\"],[0.8888888888888888,\"#fdca26\"],[1.0,\"#f0f921\"]]}],\"heatmapgl\":[{\"type\":\"heatmapgl\",\"colorbar\":{\"outlinewidth\":0,\"ticks\":\"\"},\"colorscale\":[[0.0,\"#0d0887\"],[0.1111111111111111,\"#46039f\"],[0.2222222222222222,\"#7201a8\"],[0.3333333333333333,\"#9c179e\"],[0.4444444444444444,\"#bd3786\"],[0.5555555555555556,\"#d8576b\"],[0.6666666666666666,\"#ed7953\"],[0.7777777777777778,\"#fb9f3a\"],[0.8888888888888888,\"#fdca26\"],[1.0,\"#f0f921\"]]}],\"contourcarpet\":[{\"type\":\"contourcarpet\",\"colorbar\":{\"outlinewidth\":0,\"ticks\":\"\"}}],\"contour\":[{\"type\":\"contour\",\"colorbar\":{\"outlinewidth\":0,\"ticks\":\"\"},\"colorscale\":[[0.0,\"#0d0887\"],[0.1111111111111111,\"#46039f\"],[0.2222222222222222,\"#7201a8\"],[0.3333333333333333,\"#9c179e\"],[0.4444444444444444,\"#bd3786\"],[0.5555555555555556,\"#d8576b\"],[0.6666666666666666,\"#ed7953\"],[0.7777777777777778,\"#fb9f3a\"],[0.8888888888888888,\"#fdca26\"],[1.0,\"#f0f921\"]]}],\"surface\":[{\"type\":\"surface\",\"colorbar\":{\"outlinewidth\":0,\"ticks\":\"\"},\"colorscale\":[[0.0,\"#0d0887\"],[0.1111111111111111,\"#46039f\"],[0.2222222222222222,\"#7201a8\"],[0.3333333333333333,\"#9c179e\"],[0.4444444444444444,\"#bd3786\"],[0.5555555555555556,\"#d8576b\"],[0.6666666666666666,\"#ed7953\"],[0.7777777777777778,\"#fb9f3a\"],[0.8888888888888888,\"#fdca26\"],[1.0,\"#f0f921\"]]}],\"mesh3d\":[{\"type\":\"mesh3d\",\"colorbar\":{\"outlinewidth\":0,\"ticks\":\"\"}}],\"scatter\":[{\"fillpattern\":{\"fillmode\":\"overlay\",\"size\":10,\"solidity\":0.2},\"type\":\"scatter\"}],\"parcoords\":[{\"type\":\"parcoords\",\"line\":{\"colorbar\":{\"outlinewidth\":0,\"ticks\":\"\"}}}],\"scatterpolargl\":[{\"type\":\"scatterpolargl\",\"marker\":{\"colorbar\":{\"outlinewidth\":0,\"ticks\":\"\"}}}],\"bar\":[{\"error_x\":{\"color\":\"#2a3f5f\"},\"error_y\":{\"color\":\"#2a3f5f\"},\"marker\":{\"line\":{\"color\":\"#E5ECF6\",\"width\":0.5},\"pattern\":{\"fillmode\":\"overlay\",\"size\":10,\"solidity\":0.2}},\"type\":\"bar\"}],\"scattergeo\":[{\"type\":\"scattergeo\",\"marker\":{\"colorbar\":{\"outlinewidth\":0,\"ticks\":\"\"}}}],\"scatterpolar\":[{\"type\":\"scatterpolar\",\"marker\":{\"colorbar\":{\"outlinewidth\":0,\"ticks\":\"\"}}}],\"histogram\":[{\"marker\":{\"pattern\":{\"fillmode\":\"overlay\",\"size\":10,\"solidity\":0.2}},\"type\":\"histogram\"}],\"scattergl\":[{\"type\":\"scattergl\",\"marker\":{\"colorbar\":{\"outlinewidth\":0,\"ticks\":\"\"}}}],\"scatter3d\":[{\"type\":\"scatter3d\",\"line\":{\"colorbar\":{\"outlinewidth\":0,\"ticks\":\"\"}},\"marker\":{\"colorbar\":{\"outlinewidth\":0,\"ticks\":\"\"}}}],\"scattermapbox\":[{\"type\":\"scattermapbox\",\"marker\":{\"colorbar\":{\"outlinewidth\":0,\"ticks\":\"\"}}}],\"scatterternary\":[{\"type\":\"scatterternary\",\"marker\":{\"colorbar\":{\"outlinewidth\":0,\"ticks\":\"\"}}}],\"scattercarpet\":[{\"type\":\"scattercarpet\",\"marker\":{\"colorbar\":{\"outlinewidth\":0,\"ticks\":\"\"}}}],\"carpet\":[{\"aaxis\":{\"endlinecolor\":\"#2a3f5f\",\"gridcolor\":\"white\",\"linecolor\":\"white\",\"minorgridcolor\":\"white\",\"startlinecolor\":\"#2a3f5f\"},\"baxis\":{\"endlinecolor\":\"#2a3f5f\",\"gridcolor\":\"white\",\"linecolor\":\"white\",\"minorgridcolor\":\"white\",\"startlinecolor\":\"#2a3f5f\"},\"type\":\"carpet\"}],\"table\":[{\"cells\":{\"fill\":{\"color\":\"#EBF0F8\"},\"line\":{\"color\":\"white\"}},\"header\":{\"fill\":{\"color\":\"#C8D4E3\"},\"line\":{\"color\":\"white\"}},\"type\":\"table\"}],\"barpolar\":[{\"marker\":{\"line\":{\"color\":\"#E5ECF6\",\"width\":0.5},\"pattern\":{\"fillmode\":\"overlay\",\"size\":10,\"solidity\":0.2}},\"type\":\"barpolar\"}],\"pie\":[{\"automargin\":true,\"type\":\"pie\"}]},\"layout\":{\"autotypenumbers\":\"strict\",\"colorway\":[\"#636efa\",\"#EF553B\",\"#00cc96\",\"#ab63fa\",\"#FFA15A\",\"#19d3f3\",\"#FF6692\",\"#B6E880\",\"#FF97FF\",\"#FECB52\"],\"font\":{\"color\":\"#2a3f5f\"},\"hovermode\":\"closest\",\"hoverlabel\":{\"align\":\"left\"},\"paper_bgcolor\":\"white\",\"plot_bgcolor\":\"#E5ECF6\",\"polar\":{\"bgcolor\":\"#E5ECF6\",\"angularaxis\":{\"gridcolor\":\"white\",\"linecolor\":\"white\",\"ticks\":\"\"},\"radialaxis\":{\"gridcolor\":\"white\",\"linecolor\":\"white\",\"ticks\":\"\"}},\"ternary\":{\"bgcolor\":\"#E5ECF6\",\"aaxis\":{\"gridcolor\":\"white\",\"linecolor\":\"white\",\"ticks\":\"\"},\"baxis\":{\"gridcolor\":\"white\",\"linecolor\":\"white\",\"ticks\":\"\"},\"caxis\":{\"gridcolor\":\"white\",\"linecolor\":\"white\",\"ticks\":\"\"}},\"coloraxis\":{\"colorbar\":{\"outlinewidth\":0,\"ticks\":\"\"}},\"colorscale\":{\"sequential\":[[0.0,\"#0d0887\"],[0.1111111111111111,\"#46039f\"],[0.2222222222222222,\"#7201a8\"],[0.3333333333333333,\"#9c179e\"],[0.4444444444444444,\"#bd3786\"],[0.5555555555555556,\"#d8576b\"],[0.6666666666666666,\"#ed7953\"],[0.7777777777777778,\"#fb9f3a\"],[0.8888888888888888,\"#fdca26\"],[1.0,\"#f0f921\"]],\"sequentialminus\":[[0.0,\"#0d0887\"],[0.1111111111111111,\"#46039f\"],[0.2222222222222222,\"#7201a8\"],[0.3333333333333333,\"#9c179e\"],[0.4444444444444444,\"#bd3786\"],[0.5555555555555556,\"#d8576b\"],[0.6666666666666666,\"#ed7953\"],[0.7777777777777778,\"#fb9f3a\"],[0.8888888888888888,\"#fdca26\"],[1.0,\"#f0f921\"]],\"diverging\":[[0,\"#8e0152\"],[0.1,\"#c51b7d\"],[0.2,\"#de77ae\"],[0.3,\"#f1b6da\"],[0.4,\"#fde0ef\"],[0.5,\"#f7f7f7\"],[0.6,\"#e6f5d0\"],[0.7,\"#b8e186\"],[0.8,\"#7fbc41\"],[0.9,\"#4d9221\"],[1,\"#276419\"]]},\"xaxis\":{\"gridcolor\":\"white\",\"linecolor\":\"white\",\"ticks\":\"\",\"title\":{\"standoff\":15},\"zerolinecolor\":\"white\",\"automargin\":true,\"zerolinewidth\":2},\"yaxis\":{\"gridcolor\":\"white\",\"linecolor\":\"white\",\"ticks\":\"\",\"title\":{\"standoff\":15},\"zerolinecolor\":\"white\",\"automargin\":true,\"zerolinewidth\":2},\"scene\":{\"xaxis\":{\"backgroundcolor\":\"#E5ECF6\",\"gridcolor\":\"white\",\"linecolor\":\"white\",\"showbackground\":true,\"ticks\":\"\",\"zerolinecolor\":\"white\",\"gridwidth\":2},\"yaxis\":{\"backgroundcolor\":\"#E5ECF6\",\"gridcolor\":\"white\",\"linecolor\":\"white\",\"showbackground\":true,\"ticks\":\"\",\"zerolinecolor\":\"white\",\"gridwidth\":2},\"zaxis\":{\"backgroundcolor\":\"#E5ECF6\",\"gridcolor\":\"white\",\"linecolor\":\"white\",\"showbackground\":true,\"ticks\":\"\",\"zerolinecolor\":\"white\",\"gridwidth\":2}},\"shapedefaults\":{\"line\":{\"color\":\"#2a3f5f\"}},\"annotationdefaults\":{\"arrowcolor\":\"#2a3f5f\",\"arrowhead\":0,\"arrowwidth\":1},\"geo\":{\"bgcolor\":\"white\",\"landcolor\":\"#E5ECF6\",\"subunitcolor\":\"white\",\"showland\":true,\"showlakes\":true,\"lakecolor\":\"white\"},\"title\":{\"x\":0.05},\"mapbox\":{\"style\":\"light\"}}},\"xaxis\":{\"anchor\":\"y\",\"domain\":[0.0,1.0],\"title\":{\"text\":\"Number of requests received in a 10-minute interval\"}},\"yaxis\":{\"anchor\":\"x\",\"domain\":[0.0,1.0],\"title\":{\"text\":\"Energy consumption (kWh)\"}},\"legend\":{\"tracegroupgap\":0},\"margin\":{\"t\":60}},                        {\"responsive\": true}                    ).then(function(){\n",
       "                            \n",
       "var gd = document.getElementById('4b8386cd-1372-4946-a6be-7e21ffcc611e');\n",
       "var x = new MutationObserver(function (mutations, observer) {{\n",
       "        var display = window.getComputedStyle(gd).display;\n",
       "        if (!display || display === 'none') {{\n",
       "            console.log([gd, 'removed!']);\n",
       "            Plotly.purge(gd);\n",
       "            observer.disconnect();\n",
       "        }}\n",
       "}});\n",
       "\n",
       "// Listen for the removal of the full notebook cells\n",
       "var notebookContainer = gd.closest('#notebook-container');\n",
       "if (notebookContainer) {{\n",
       "    x.observe(notebookContainer, {childList: true});\n",
       "}}\n",
       "\n",
       "// Listen for the clearing of the current output cell\n",
       "var outputEl = gd.closest('.output');\n",
       "if (outputEl) {{\n",
       "    x.observe(outputEl, {childList: true});\n",
       "}}\n",
       "\n",
       "                        })                };                });            </script>        </div>"
      ]
     },
     "metadata": {},
     "output_type": "display_data"
    }
   ],
   "source": [
    "fig= alllogdf.plot(kind=\"scatter\", x=\"requests\", y=\"Energy by interval\")\n",
    "fig.update_layout(\n",
    "    xaxis_title= \"Number of requests received in a 10-minute interval\",\n",
    "    yaxis_title=\"Energy consumption (kWh)\",\n",
    ")"
   ]
  },
  {
   "cell_type": "markdown",
   "id": "58db1ce8",
   "metadata": {},
   "source": [
    "### Trying to fit quadratic curve"
   ]
  },
  {
   "cell_type": "code",
   "execution_count": 417,
   "id": "90bb84ad",
   "metadata": {},
   "outputs": [],
   "source": [
    "x= alllogdf[\"requests\"]\n",
    "y= alllogdf[\"Energy by interval\"]"
   ]
  },
  {
   "cell_type": "code",
   "execution_count": 418,
   "id": "1f6165a7",
   "metadata": {},
   "outputs": [
    {
     "data": {
      "image/png": "[encoded data removed]",
      "text/plain": [
       "<Figure size 432x288 with 1 Axes>"
      ]
     },
     "metadata": {
      "needs_background": "light"
     },
     "output_type": "display_data"
    }
   ],
   "source": [
    "import numpy as np\n",
    "from scipy.optimize import curve_fit\n",
    "\n",
    "a, b, c = np.polyfit(x, y, 2)\n",
    "\n",
    "fit_equation = lambda x: a * x ** 2 + b * x + c\n",
    "\n",
    "def plot_fit(X, Y, f):\n",
    "    X_fit = np.linspace(min(X), max(X), 1000)\n",
    "    Y_fit = f(X_fit)\n",
    "\n",
    "    fig, ax1 = plt.subplots()\n",
    "    ax1.plot(X_fit, Y_fit, color='r', alpha=0.5, label='Polynomial fit')\n",
    "    ax1.scatter(X, Y, s=4, color='b', label='Data points')\n",
    "    ax1.set_title('Polynomial fit to data')\n",
    "    ax1.legend()\n",
    "    plt.show()\n",
    "    \n",
    "plot_fit(x, y, fit_equation)\n"
   ]
  },
  {
   "cell_type": "markdown",
   "id": "3aba5578",
   "metadata": {},
   "source": [
    "#### Calculating intercept:"
   ]
  },
  {
   "cell_type": "code",
   "execution_count": 227,
   "id": "e5949250",
   "metadata": {},
   "outputs": [
    {
     "data": {
      "text/plain": [
       "0.4293112651910953"
      ]
     },
     "execution_count": 227,
     "metadata": {},
     "output_type": "execute_result"
    }
   ],
   "source": [
    "fit_equation(0)"
   ]
  },
  {
   "cell_type": "markdown",
   "id": "143450e7",
   "metadata": {},
   "source": [
    "### Plotting normalized values"
   ]
  },
  {
   "cell_type": "code",
   "execution_count": 226,
   "id": "f490fee2",
   "metadata": {},
   "outputs": [
    {
     "data": {
      "application/vnd.plotly.v1+json": {
       "config": {
        "plotlyServerURL": "https://plot.ly"
       },
       "data": [
        {
         "hovertemplate": "variable=normalized energy<br>date=%{x}<br>value=%{y}<extra></extra>",
         "legendgroup": "normalized energy",
         "line": {
          "color": "#636efa",
          "dash": "solid"
         },
         "marker": {
          "symbol": "circle"
         },
         "mode": "lines",
         "name": "normalized energy",
         "orientation": "v",
         "showlegend": true,
         "type": "scatter",
         "x": [
          "2022-09-22T15:15:00",
          "2022-09-22T15:30:00",
          "2022-09-22T15:45:00",
          "2022-09-22T16:00:00",
          "2022-09-22T16:15:00",
          "2022-09-22T16:30:00",
          "2022-09-22T16:45:00",
          "2022-09-22T17:00:00",
          "2022-09-22T17:15:00",
          "2022-09-22T17:30:00",
          "2022-09-22T17:45:00",
          "2022-09-22T18:00:00",
          "2022-09-22T18:15:00",
          "2022-09-22T18:30:00",
          "2022-09-22T18:45:00",
          "2022-09-22T19:00:00",
          "2022-09-22T19:15:00",
          "2022-09-22T19:30:00",
          "2022-09-22T19:45:00",
          "2022-09-22T20:00:00",
          "2022-09-22T20:15:00",
          "2022-09-22T20:30:00",
          "2022-09-22T20:45:00",
          "2022-09-22T21:00:00",
          "2022-09-22T21:15:00",
          "2022-09-22T21:30:00",
          "2022-09-22T21:45:00",
          "2022-09-22T22:00:00",
          "2022-09-22T22:15:00",
          "2022-09-22T22:30:00",
          "2022-09-22T22:45:00",
          "2022-09-22T23:00:00",
          "2022-09-22T23:15:00",
          "2022-09-22T23:30:00",
          "2022-09-22T23:45:00",
          "2022-09-23T00:00:00",
          "2022-09-23T00:15:00",
          "2022-09-23T00:30:00",
          "2022-09-23T00:45:00",
          "2022-09-23T01:00:00",
          "2022-09-23T01:15:00",
          "2022-09-23T01:30:00",
          "2022-09-23T01:45:00",
          "2022-09-23T02:00:00",
          "2022-09-23T02:15:00",
          "2022-09-23T02:30:00",
          "2022-09-23T02:45:00",
          "2022-09-23T03:00:00",
          "2022-09-23T03:15:00",
          "2022-09-23T03:30:00",
          "2022-09-23T03:45:00",
          "2022-09-23T04:00:00",
          "2022-09-23T04:15:00",
          "2022-09-23T04:30:00",
          "2022-09-23T04:45:00",
          "2022-09-23T05:00:00",
          "2022-09-23T05:15:00",
          "2022-09-23T05:30:00",
          "2022-09-23T05:45:00",
          "2022-09-23T06:00:00",
          "2022-09-23T06:15:00",
          "2022-09-23T06:30:00",
          "2022-09-23T06:45:00",
          "2022-09-23T07:00:00",
          "2022-09-23T07:15:00",
          "2022-09-23T07:30:00",
          "2022-09-23T07:45:00",
          "2022-09-23T08:00:00",
          "2022-09-23T08:15:00",
          "2022-09-23T08:30:00",
          "2022-09-23T08:45:00",
          "2022-09-23T09:00:00",
          "2022-09-23T09:15:00",
          "2022-09-23T09:30:00",
          "2022-09-23T09:45:00",
          "2022-09-23T10:00:00",
          "2022-09-23T10:15:00",
          "2022-09-23T10:30:00",
          "2022-09-23T10:45:00",
          "2022-09-23T11:00:00",
          "2022-09-23T11:15:00",
          "2022-09-23T11:30:00",
          "2022-09-23T11:45:00",
          "2022-09-23T12:00:00",
          "2022-09-23T12:15:00",
          "2022-09-23T12:30:00",
          "2022-09-23T12:45:00",
          "2022-09-23T13:00:00",
          "2022-09-23T13:15:00",
          "2022-09-23T13:30:00",
          "2022-09-23T13:45:00",
          "2022-09-23T14:00:00",
          "2022-09-23T14:15:00",
          "2022-09-23T14:30:00",
          "2022-09-23T14:45:00",
          "2022-09-23T15:00:00",
          "2022-09-23T15:15:00",
          "2022-09-23T15:30:00",
          "2022-09-23T15:45:00",
          "2022-09-23T16:00:00",
          "2022-09-23T16:15:00",
          "2022-09-23T16:30:00",
          "2022-09-23T16:45:00",
          "2022-09-23T17:00:00",
          "2022-09-23T17:15:00",
          "2022-09-23T17:30:00",
          "2022-09-23T17:45:00",
          "2022-09-23T18:00:00",
          "2022-09-23T18:15:00",
          "2022-09-23T18:30:00",
          "2022-09-23T18:45:00",
          "2022-09-23T19:00:00",
          "2022-09-23T19:15:00",
          "2022-09-23T19:30:00",
          "2022-09-23T19:45:00",
          "2022-09-23T20:00:00",
          "2022-09-23T20:15:00",
          "2022-09-23T20:30:00",
          "2022-09-23T20:45:00",
          "2022-09-23T21:00:00",
          "2022-09-23T21:15:00",
          "2022-09-23T21:30:00",
          "2022-09-23T21:45:00",
          "2022-09-23T22:00:00",
          "2022-09-23T22:15:00",
          "2022-09-23T22:30:00",
          "2022-09-23T22:45:00",
          "2022-09-23T23:00:00",
          "2022-09-23T23:15:00",
          "2022-09-23T23:30:00",
          "2022-09-23T23:45:00",
          "2022-09-24T00:00:00",
          "2022-09-24T00:15:00",
          "2022-09-24T00:30:00",
          "2022-09-24T00:45:00",
          "2022-09-24T01:00:00",
          "2022-09-24T01:15:00",
          "2022-09-24T01:30:00",
          "2022-09-24T01:45:00",
          "2022-09-24T02:00:00",
          "2022-09-24T02:15:00",
          "2022-09-24T02:30:00",
          "2022-09-24T02:45:00",
          "2022-09-24T03:00:00",
          "2022-09-24T03:15:00",
          "2022-09-24T03:30:00",
          "2022-09-24T03:45:00",
          "2022-09-24T04:00:00",
          "2022-09-24T04:15:00",
          "2022-09-24T04:30:00",
          "2022-09-24T04:45:00",
          "2022-09-24T05:00:00",
          "2022-09-24T05:15:00",
          "2022-09-24T05:30:00",
          "2022-09-24T05:45:00",
          "2022-09-24T06:00:00",
          "2022-09-24T06:15:00",
          "2022-09-24T06:30:00",
          "2022-09-24T06:45:00",
          "2022-09-24T07:00:00",
          "2022-09-24T07:15:00",
          "2022-09-24T07:30:00",
          "2022-09-24T07:45:00",
          "2022-09-24T08:00:00",
          "2022-09-24T08:15:00",
          "2022-09-24T08:30:00",
          "2022-09-24T08:45:00",
          "2022-09-24T09:00:00",
          "2022-09-24T09:15:00",
          "2022-09-24T09:30:00",
          "2022-09-24T09:45:00",
          "2022-09-24T10:00:00",
          "2022-09-24T10:15:00",
          "2022-09-24T10:30:00",
          "2022-09-24T10:45:00",
          "2022-09-24T11:00:00",
          "2022-09-24T11:15:00",
          "2022-09-24T11:30:00",
          "2022-09-24T11:45:00",
          "2022-09-24T12:00:00",
          "2022-09-24T12:15:00",
          "2022-09-24T12:30:00",
          "2022-09-24T12:45:00",
          "2022-09-24T13:00:00",
          "2022-09-24T13:15:00",
          "2022-09-24T13:30:00",
          "2022-09-24T13:45:00",
          "2022-09-24T14:00:00",
          "2022-09-24T14:15:00",
          "2022-09-24T14:30:00",
          "2022-09-24T14:45:00",
          "2022-09-24T15:00:00",
          "2022-09-24T15:15:00",
          "2022-09-24T15:30:00",
          "2022-09-24T15:45:00",
          "2022-09-24T16:00:00",
          "2022-09-24T16:15:00",
          "2022-09-24T16:30:00",
          "2022-09-24T16:45:00",
          "2022-09-24T17:00:00",
          "2022-09-24T17:15:00",
          "2022-09-24T17:30:00",
          "2022-09-24T17:45:00",
          "2022-09-24T18:00:00",
          "2022-09-24T18:15:00",
          "2022-09-24T18:30:00",
          "2022-09-24T18:45:00",
          "2022-09-24T19:00:00",
          "2022-09-24T19:15:00",
          "2022-09-24T19:30:00",
          "2022-09-24T19:45:00",
          "2022-09-24T20:00:00",
          "2022-09-24T20:15:00",
          "2022-09-24T20:30:00",
          "2022-09-24T20:45:00",
          "2022-09-24T21:00:00",
          "2022-09-24T21:15:00",
          "2022-09-24T21:30:00",
          "2022-09-24T21:45:00",
          "2022-09-24T22:00:00",
          "2022-09-24T22:15:00",
          "2022-09-24T22:30:00",
          "2022-09-24T22:45:00",
          "2022-09-24T23:00:00",
          "2022-09-24T23:15:00",
          "2022-09-24T23:30:00",
          "2022-09-24T23:45:00",
          "2022-09-25T00:00:00",
          "2022-09-25T00:15:00",
          "2022-09-25T00:30:00",
          "2022-09-25T00:45:00",
          "2022-09-25T01:00:00",
          "2022-09-25T01:15:00",
          "2022-09-25T01:30:00",
          "2022-09-25T01:45:00",
          "2022-09-25T02:00:00",
          "2022-09-25T02:15:00",
          "2022-09-25T02:30:00",
          "2022-09-25T02:45:00",
          "2022-09-25T03:00:00",
          "2022-09-25T03:15:00",
          "2022-09-25T03:30:00",
          "2022-09-25T03:45:00",
          "2022-09-25T04:00:00",
          "2022-09-25T04:15:00",
          "2022-09-25T04:30:00",
          "2022-09-25T04:45:00",
          "2022-09-25T05:00:00",
          "2022-09-25T05:15:00",
          "2022-09-25T05:30:00",
          "2022-09-25T05:45:00",
          "2022-09-25T06:00:00",
          "2022-09-25T06:15:00",
          "2022-09-25T06:30:00",
          "2022-09-25T06:45:00",
          "2022-09-25T07:00:00",
          "2022-09-25T07:15:00",
          "2022-09-25T07:30:00",
          "2022-09-25T07:45:00",
          "2022-09-25T08:00:00",
          "2022-09-25T08:15:00",
          "2022-09-25T08:30:00",
          "2022-09-25T08:45:00",
          "2022-09-25T09:00:00",
          "2022-09-25T09:15:00",
          "2022-09-25T09:30:00",
          "2022-09-25T09:45:00",
          "2022-09-25T10:00:00",
          "2022-09-25T10:15:00",
          "2022-09-25T10:30:00",
          "2022-09-25T10:45:00",
          "2022-09-25T11:00:00",
          "2022-09-25T11:15:00",
          "2022-09-25T11:30:00",
          "2022-09-25T11:45:00",
          "2022-09-25T12:00:00",
          "2022-09-25T12:15:00",
          "2022-09-25T12:30:00",
          "2022-09-25T12:45:00",
          "2022-09-25T13:00:00",
          "2022-09-25T13:15:00",
          "2022-09-25T13:30:00",
          "2022-09-25T13:45:00",
          "2022-09-25T14:00:00",
          "2022-09-25T14:15:00",
          "2022-09-25T14:30:00",
          "2022-09-25T14:45:00",
          "2022-09-25T15:00:00",
          "2022-09-25T15:15:00",
          "2022-09-25T15:30:00",
          "2022-09-25T15:45:00",
          "2022-09-25T16:00:00",
          "2022-09-25T16:15:00",
          "2022-09-25T16:30:00",
          "2022-09-25T16:45:00",
          "2022-09-25T17:00:00",
          "2022-09-25T17:15:00",
          "2022-09-25T17:30:00",
          "2022-09-25T17:45:00",
          "2022-09-25T18:00:00",
          "2022-09-25T18:15:00",
          "2022-09-25T18:30:00",
          "2022-09-25T18:45:00",
          "2022-09-25T19:00:00",
          "2022-09-25T19:15:00",
          "2022-09-25T19:30:00",
          "2022-09-25T19:45:00",
          "2022-09-25T20:00:00",
          "2022-09-25T20:15:00",
          "2022-09-25T20:30:00",
          "2022-09-25T20:45:00",
          "2022-09-25T21:00:00",
          "2022-09-25T21:15:00",
          "2022-09-25T21:30:00",
          "2022-09-25T21:45:00",
          "2022-09-25T22:00:00",
          "2022-09-25T22:15:00",
          "2022-09-25T22:30:00",
          "2022-09-25T22:45:00",
          "2022-09-25T23:00:00",
          "2022-09-25T23:15:00",
          "2022-09-25T23:30:00",
          "2022-09-25T23:45:00",
          "2022-09-26T00:00:00",
          "2022-09-26T00:15:00",
          "2022-09-26T00:30:00",
          "2022-09-26T00:45:00",
          "2022-09-26T01:00:00",
          "2022-09-26T01:15:00",
          "2022-09-26T01:30:00",
          "2022-09-26T01:45:00",
          "2022-09-26T02:00:00",
          "2022-09-26T02:15:00",
          "2022-09-26T02:30:00",
          "2022-09-26T02:45:00",
          "2022-09-26T03:00:00",
          "2022-09-26T03:15:00",
          "2022-09-26T03:30:00",
          "2022-09-26T03:45:00",
          "2022-09-26T04:00:00",
          "2022-09-26T04:15:00",
          "2022-09-26T04:30:00",
          "2022-09-26T04:45:00",
          "2022-09-26T05:00:00",
          "2022-09-26T05:15:00",
          "2022-09-26T05:30:00",
          "2022-09-26T05:45:00",
          "2022-09-26T06:00:00",
          "2022-09-26T06:15:00",
          "2022-09-26T06:30:00",
          "2022-09-26T06:45:00",
          "2022-09-26T07:00:00",
          "2022-09-26T07:15:00",
          "2022-09-26T07:30:00",
          "2022-09-26T07:45:00",
          "2022-09-26T08:00:00",
          "2022-09-26T08:15:00",
          "2022-09-26T08:30:00",
          "2022-09-26T08:45:00",
          "2022-09-26T09:00:00",
          "2022-09-26T09:15:00",
          "2022-09-26T09:30:00",
          "2022-09-26T09:45:00",
          "2022-09-26T10:00:00",
          "2022-09-26T10:15:00",
          "2022-09-26T10:30:00",
          "2022-09-26T10:45:00",
          "2022-09-26T11:00:00",
          "2022-09-26T11:15:00",
          "2022-09-26T11:30:00",
          "2022-09-26T11:45:00",
          "2022-09-26T12:00:00",
          "2022-09-26T12:15:00",
          "2022-09-26T12:30:00",
          "2022-09-26T12:45:00"
         ],
         "xaxis": "x",
         "y": [
          0.8421116257678788,
          1,
          0.9513590223711438,
          0.9350021352780787,
          0.9088255970566017,
          0.9261837653165136,
          0.9265911106731054,
          0.92708912322197,
          0.904095134851023,
          0.9438034230150132,
          0.9143549817680098,
          0.9272993659866625,
          0.9333924641109038,
          0.9531657961302177,
          0.9494904897999428,
          0.9468269767747441,
          0.950004270556158,
          0.933743306724483,
          0.9334791892513374,
          0.9202522913176319,
          0.8112519299628792,
          0.7465917676817451,
          0.7053552774218973,
          0.6725902565618739,
          0.6496514569166583,
          0.6417450149469464,
          0.6751249958936968,
          0.6711882001248284,
          0.6476791169803913,
          0.6577037548043759,
          0.6815925889425415,
          0.7132472652015402,
          0.7182418448802574,
          0.7435879241812057,
          0.6131414868105494,
          0.5889123221970384,
          0.7445379586741555,
          0.6623829703360619,
          0.6133201931605395,
          0.6226759961893499,
          0.6216655169015449,
          0.5933431884629282,
          0.6458316086856534,
          0.6445793502184558,
          0.6552820209585793,
          0.6607693571170419,
          0.6482244341513125,
          0.6086160113005488,
          0.6086580598534838,
          0.5932577773397728,
          0.6155789888637048,
          0.6021326500443454,
          0.6792878026346084,
          0.6342866528694836,
          0.617310863637855,
          0.6265668013534367,
          0.65301665516902,
          0.652247955060603,
          0.6526382181925768,
          0.6220478959298301,
          0.6486304654906171,
          0.6861233205216648,
          0.6662658913964692,
          0.6663683847442593,
          0.6941020334417438,
          0.6525777733977217,
          0.6194369435958073,
          0.606137774711739,
          0.6401813343845408,
          0.6505712690121945,
          0.7129384711408937,
          0.6448592358989554,
          0.7429874182845427,
          0.75131171774909,
          0.8983896718241874,
          0.9040635984363194,
          0.892358332512075,
          0.8787911041030192,
          0.9224742945369685,
          0.7174954830656073,
          0.6331894484412472,
          0.6774810288755295,
          0.7012489734239987,
          0.6684405899937551,
          0.6761381032160585,
          0.8051351795276068,
          0.9116454781380445,
          0.9060044019578781,
          0.9133563286357227,
          0.9359337735291208,
          0.9133458164974866,
          0.8739476364114259,
          0.902882296902199,
          0.9056062547222481,
          0.8524608258598608,
          0.9093275516573095,
          0.9069938569692155,
          0.9361794947603601,
          0.6704865148976653,
          0.5984993922670147,
          0.6257468545711339,
          0.5952156630859663,
          0.670380079498047,
          0.7215965309943878,
          0.7561354751814964,
          0.7110186918957979,
          0.6595381229263164,
          0.6287704083308695,
          0.6329305870372197,
          0.6802273249893175,
          0.6738766794783412,
          0.6534805032686184,
          0.6690148155448278,
          0.5925376958706989,
          0.6447909070004255,
          0.6345231759797676,
          0.6791261785092391,
          0.7374435793830624,
          0.6904963700272702,
          0.6997115732071928,
          0.7204599060477638,
          0.6289215203179841,
          0.7019651128412446,
          0.6066147629841255,
          0.6113544233106619,
          0.6555421963798874,
          0.637607174534349,
          0.6122295588187066,
          0.6530560756873843,
          0.674341841595225,
          0.6513465392069822,
          0.6062034755757075,
          0.6638007949804475,
          0.6613882592556063,
          0.6186432771590994,
          0.6744771853749901,
          0.5811767024736373,
          0.5782884924936855,
          0.5997713609933946,
          0.607196872638873,
          0.5985703492000967,
          0.6205656844387378,
          0.6079327223153058,
          0.6082152360303574,
          0.6420012483164171,
          0.5844236391708547,
          0.6166525409809029,
          0.59476364114188,
          0.628917578266156,
          0.6064071482539932,
          0.686832889852512,
          0.6189954337899476,
          0.6162412535724849,
          0.6027830885976273,
          0.6389251338655105,
          0.6723497913997526,
          0.7040859367300648,
          0.6365901251601406,
          0.7231326171939271,
          0.6475595414079617,
          0.6190479944811373,
          0.6632081731874733,
          0.6256772116553373,
          0.6546434085608187,
          0.719236555960699,
          0.7243835616438441,
          0.6787713938438202,
          0.6213803751519366,
          0.6501376433100096,
          0.665033343188463,
          0.6305298774678907,
          0.6377438323313901,
          0.6492743339575051,
          0.6545606254722247,
          0.681494037646584,
          0.7100252948326231,
          0.712684865805989,
          0.730794651949685,
          0.6432587628527329,
          0.6311408955027663,
          0.6693577740547346,
          0.618606484675259,
          0.5961854078381263,
          0.603311323543909,
          0.6297230708583667,
          0.6624946618048074,
          0.6557392989717744,
          0.7691061397457499,
          0.7459045366446507,
          0.6780092638218299,
          0.7684346769159911,
          0.6156670280214122,
          0.6385112184225218,
          0.6801695082290424,
          0.7179540750960831,
          0.6483440097237374,
          0.7250852468709885,
          0.7236096054663137,
          0.6796675536283369,
          0.684124700239803,
          0.7091186229098982,
          0.6737571039059068,
          0.7139187280312805,
          0.7028783548503682,
          0.706855885154877,
          0.6777136099339808,
          0.6611609342662778,
          0.6855806313853003,
          0.6985591800532193,
          0.6159547978055866,
          0.6451588318386419,
          0.6765927531947062,
          0.700385664071485,
          0.6963857954732093,
          0.6303853355671561,
          0.6500167537203179,
          0.6585920304851992,
          0.6763417758943535,
          0.7006655497519846,
          0.7447744817844254,
          0.627991196084235,
          0.6280358726717314,
          0.6060418514503475,
          0.6596629545678547,
          0.5953404947275047,
          0.6192989717814714,
          0.6441667487927524,
          0.6470786110837283,
          0.5927426825662793,
          0.6110653395092116,
          0.6547248776321367,
          0.6035951512762366,
          0.5893577740547447,
          0.6466042508458938,
          0.7017890345257926,
          0.6131493709142287,
          0.6237955389113485,
          0.6431102789001704,
          0.6430130416214842,
          0.6531782792943707,
          0.6505660129430905,
          0.6338030945106843,
          0.666413061331765,
          0.6486974803718617,
          0.6313892447685671,
          0.6106317138070454,
          0.6382983476232666,
          0.5999632075161587,
          0.6402089287474024,
          0.6494727505666867,
          0.610749975362185,
          0.6157064485398045,
          0.5972983804736888,
          0.5832528497749797,
          0.6212621135967783,
          0.6356532308400116,
          0.6028684997207734,
          0.5999172169113863,
          0.6043218028317,
          0.6457304293551626,
          0.595905522157608,
          0.6055688052297703,
          0.6302657599947779,
          0.6376873295883536,
          0.6025833579711697,
          0.6537525048454433,
          0.6997956703130441,
          0.6086304654906408,
          0.6667468217206931,
          0.6892296573699851,
          0.6846371669787539,
          0.6344850694786885,
          0.5995979107124945,
          0.6389343319864986,
          0.6435215663085884,
          0.631227620643207,
          0.6731671101474846,
          0.7094247889359928,
          0.6775099372556764,
          0.6937354226208129,
          0.6749002989389109,
          0.7381426365756735,
          0.7382477579580157,
          0.7116809566045781,
          0.789047665976797,
          0.7167123287671542,
          0.6521231234190459,
          0.6349318353536523,
          0.6795414079695039,
          0.7008731644821357,
          0.7506823034722662,
          0.6838592687493767,
          0.7247146939982575,
          0.7284044545185545,
          0.7553851713150183,
          0.6176472520613632,
          0.6529838047370357,
          0.8162504516934291,
          0.7889412305771787,
          0.800872507473485,
          0.6444045859203077,
          0.6803797509937268,
          0.7822870470746599,
          0.947130514766261,
          0.8912834663775915,
          0.7304043888177204,
          0.6665484051115301,
          0.7255359547977802,
          0.6545382871784765,
          0.6821694425281709,
          0.7400413915442877,
          0.9283781741730092,
          0.9049689563417775,
          0.7930107420912509,
          0.7278459971748686,
          0.8992188167274315,
          0.9010768371604148,
          0.733514667717878,
          0.7210223054433337,
          0.7268617982326352,
          0.6654827370979973,
          0.677177490883987,
          0.7217712952925266,
          0.6682921060412018,
          0.6615827338129412,
          0.7524706809894716,
          0.7981564337571013,
          0.6219782530140335,
          0.669887323018311,
          0.6807345356591457,
          0.6479511185571836,
          0.6335823396077919,
          0.7173220327847165,
          0.7050346572057526,
          0.805559607108813,
          0.6676350974015538,
          0.6725482080089156,
          0.7029466837489075,
          0.623041292992977,
          0.5882881639893839,
          0.5970132387240851,
          0.5950448408396556,
          0.6056883808021859,
          0.5700863966361246,
          0.5845694950888652,
          0.615367432081735,
          0.60812456883807,
          0.6966604250846049,
          0.7254873361584558,
          0.6261371177030984,
          0.724930192832046,
          0.7565152261752248,
          0.711226306625921,
          0.652533096810244,
          0.6700673433855351,
          0.6724207483328438,
          0.6626234354981925,
          0.6598784534016618,
          0.7314424624683823,
          0.683126047107496,
          0.6415518544069202,
          0.6551900397490206,
          0.7805394040931601,
          0.765098387043781,
          0.7888729016786395,
          0.7705804671331488,
          0.7077914654577674,
          0.7789494431851924,
          0.7405512302486866,
          0.7798548010906412,
          0.6618205709404965,
          0.6516132847146844,
          0.7319864656220321,
          0.7219552577116161,
          0.6974462074176381
         ],
         "yaxis": "y"
        },
        {
         "hovertemplate": "variable=normalized requests<br>date=%{x}<br>value=%{y}<extra></extra>",
         "legendgroup": "normalized requests",
         "line": {
          "color": "#EF553B",
          "dash": "solid"
         },
         "marker": {
          "symbol": "circle"
         },
         "mode": "lines",
         "name": "normalized requests",
         "orientation": "v",
         "showlegend": true,
         "type": "scatter",
         "x": [
          "2022-09-22T15:15:00",
          "2022-09-22T15:30:00",
          "2022-09-22T15:45:00",
          "2022-09-22T16:00:00",
          "2022-09-22T16:15:00",
          "2022-09-22T16:30:00",
          "2022-09-22T16:45:00",
          "2022-09-22T17:00:00",
          "2022-09-22T17:15:00",
          "2022-09-22T17:30:00",
          "2022-09-22T17:45:00",
          "2022-09-22T18:00:00",
          "2022-09-22T18:15:00",
          "2022-09-22T18:30:00",
          "2022-09-22T18:45:00",
          "2022-09-22T19:00:00",
          "2022-09-22T19:15:00",
          "2022-09-22T19:30:00",
          "2022-09-22T19:45:00",
          "2022-09-22T20:00:00",
          "2022-09-22T20:15:00",
          "2022-09-22T20:30:00",
          "2022-09-22T20:45:00",
          "2022-09-22T21:00:00",
          "2022-09-22T21:15:00",
          "2022-09-22T21:30:00",
          "2022-09-22T21:45:00",
          "2022-09-22T22:00:00",
          "2022-09-22T22:15:00",
          "2022-09-22T22:30:00",
          "2022-09-22T22:45:00",
          "2022-09-22T23:00:00",
          "2022-09-22T23:15:00",
          "2022-09-22T23:30:00",
          "2022-09-22T23:45:00",
          "2022-09-23T00:00:00",
          "2022-09-23T00:15:00",
          "2022-09-23T00:30:00",
          "2022-09-23T00:45:00",
          "2022-09-23T01:00:00",
          "2022-09-23T01:15:00",
          "2022-09-23T01:30:00",
          "2022-09-23T01:45:00",
          "2022-09-23T02:00:00",
          "2022-09-23T02:15:00",
          "2022-09-23T02:30:00",
          "2022-09-23T02:45:00",
          "2022-09-23T03:00:00",
          "2022-09-23T03:15:00",
          "2022-09-23T03:30:00",
          "2022-09-23T03:45:00",
          "2022-09-23T04:00:00",
          "2022-09-23T04:15:00",
          "2022-09-23T04:30:00",
          "2022-09-23T04:45:00",
          "2022-09-23T05:00:00",
          "2022-09-23T05:15:00",
          "2022-09-23T05:30:00",
          "2022-09-23T05:45:00",
          "2022-09-23T06:00:00",
          "2022-09-23T06:15:00",
          "2022-09-23T06:30:00",
          "2022-09-23T06:45:00",
          "2022-09-23T07:00:00",
          "2022-09-23T07:15:00",
          "2022-09-23T07:30:00",
          "2022-09-23T07:45:00",
          "2022-09-23T08:00:00",
          "2022-09-23T08:15:00",
          "2022-09-23T08:30:00",
          "2022-09-23T08:45:00",
          "2022-09-23T09:00:00",
          "2022-09-23T09:15:00",
          "2022-09-23T09:30:00",
          "2022-09-23T09:45:00",
          "2022-09-23T10:00:00",
          "2022-09-23T10:15:00",
          "2022-09-23T10:30:00",
          "2022-09-23T10:45:00",
          "2022-09-23T11:00:00",
          "2022-09-23T11:15:00",
          "2022-09-23T11:30:00",
          "2022-09-23T11:45:00",
          "2022-09-23T12:00:00",
          "2022-09-23T12:15:00",
          "2022-09-23T12:30:00",
          "2022-09-23T12:45:00",
          "2022-09-23T13:00:00",
          "2022-09-23T13:15:00",
          "2022-09-23T13:30:00",
          "2022-09-23T13:45:00",
          "2022-09-23T14:00:00",
          "2022-09-23T14:15:00",
          "2022-09-23T14:30:00",
          "2022-09-23T14:45:00",
          "2022-09-23T15:00:00",
          "2022-09-23T15:15:00",
          "2022-09-23T15:30:00",
          "2022-09-23T15:45:00",
          "2022-09-23T16:00:00",
          "2022-09-23T16:15:00",
          "2022-09-23T16:30:00",
          "2022-09-23T16:45:00",
          "2022-09-23T17:00:00",
          "2022-09-23T17:15:00",
          "2022-09-23T17:30:00",
          "2022-09-23T17:45:00",
          "2022-09-23T18:00:00",
          "2022-09-23T18:15:00",
          "2022-09-23T18:30:00",
          "2022-09-23T18:45:00",
          "2022-09-23T19:00:00",
          "2022-09-23T19:15:00",
          "2022-09-23T19:30:00",
          "2022-09-23T19:45:00",
          "2022-09-23T20:00:00",
          "2022-09-23T20:15:00",
          "2022-09-23T20:30:00",
          "2022-09-23T20:45:00",
          "2022-09-23T21:00:00",
          "2022-09-23T21:15:00",
          "2022-09-23T21:30:00",
          "2022-09-23T21:45:00",
          "2022-09-23T22:00:00",
          "2022-09-23T22:15:00",
          "2022-09-23T22:30:00",
          "2022-09-23T22:45:00",
          "2022-09-23T23:00:00",
          "2022-09-23T23:15:00",
          "2022-09-23T23:30:00",
          "2022-09-23T23:45:00",
          "2022-09-24T00:00:00",
          "2022-09-24T00:15:00",
          "2022-09-24T00:30:00",
          "2022-09-24T00:45:00",
          "2022-09-24T01:00:00",
          "2022-09-24T01:15:00",
          "2022-09-24T01:30:00",
          "2022-09-24T01:45:00",
          "2022-09-24T02:00:00",
          "2022-09-24T02:15:00",
          "2022-09-24T02:30:00",
          "2022-09-24T02:45:00",
          "2022-09-24T03:00:00",
          "2022-09-24T03:15:00",
          "2022-09-24T03:30:00",
          "2022-09-24T03:45:00",
          "2022-09-24T04:00:00",
          "2022-09-24T04:15:00",
          "2022-09-24T04:30:00",
          "2022-09-24T04:45:00",
          "2022-09-24T05:00:00",
          "2022-09-24T05:15:00",
          "2022-09-24T05:30:00",
          "2022-09-24T05:45:00",
          "2022-09-24T06:00:00",
          "2022-09-24T06:15:00",
          "2022-09-24T06:30:00",
          "2022-09-24T06:45:00",
          "2022-09-24T07:00:00",
          "2022-09-24T07:15:00",
          "2022-09-24T07:30:00",
          "2022-09-24T07:45:00",
          "2022-09-24T08:00:00",
          "2022-09-24T08:15:00",
          "2022-09-24T08:30:00",
          "2022-09-24T08:45:00",
          "2022-09-24T09:00:00",
          "2022-09-24T09:15:00",
          "2022-09-24T09:30:00",
          "2022-09-24T09:45:00",
          "2022-09-24T10:00:00",
          "2022-09-24T10:15:00",
          "2022-09-24T10:30:00",
          "2022-09-24T10:45:00",
          "2022-09-24T11:00:00",
          "2022-09-24T11:15:00",
          "2022-09-24T11:30:00",
          "2022-09-24T11:45:00",
          "2022-09-24T12:00:00",
          "2022-09-24T12:15:00",
          "2022-09-24T12:30:00",
          "2022-09-24T12:45:00",
          "2022-09-24T13:00:00",
          "2022-09-24T13:15:00",
          "2022-09-24T13:30:00",
          "2022-09-24T13:45:00",
          "2022-09-24T14:00:00",
          "2022-09-24T14:15:00",
          "2022-09-24T14:30:00",
          "2022-09-24T14:45:00",
          "2022-09-24T15:00:00",
          "2022-09-24T15:15:00",
          "2022-09-24T15:30:00",
          "2022-09-24T15:45:00",
          "2022-09-24T16:00:00",
          "2022-09-24T16:15:00",
          "2022-09-24T16:30:00",
          "2022-09-24T16:45:00",
          "2022-09-24T17:00:00",
          "2022-09-24T17:15:00",
          "2022-09-24T17:30:00",
          "2022-09-24T17:45:00",
          "2022-09-24T18:00:00",
          "2022-09-24T18:15:00",
          "2022-09-24T18:30:00",
          "2022-09-24T18:45:00",
          "2022-09-24T19:00:00",
          "2022-09-24T19:15:00",
          "2022-09-24T19:30:00",
          "2022-09-24T19:45:00",
          "2022-09-24T20:00:00",
          "2022-09-24T20:15:00",
          "2022-09-24T20:30:00",
          "2022-09-24T20:45:00",
          "2022-09-24T21:00:00",
          "2022-09-24T21:15:00",
          "2022-09-24T21:30:00",
          "2022-09-24T21:45:00",
          "2022-09-24T22:00:00",
          "2022-09-24T22:15:00",
          "2022-09-24T22:30:00",
          "2022-09-24T22:45:00",
          "2022-09-24T23:00:00",
          "2022-09-24T23:15:00",
          "2022-09-24T23:30:00",
          "2022-09-24T23:45:00",
          "2022-09-25T00:00:00",
          "2022-09-25T00:15:00",
          "2022-09-25T00:30:00",
          "2022-09-25T00:45:00",
          "2022-09-25T01:00:00",
          "2022-09-25T01:15:00",
          "2022-09-25T01:30:00",
          "2022-09-25T01:45:00",
          "2022-09-25T02:00:00",
          "2022-09-25T02:15:00",
          "2022-09-25T02:30:00",
          "2022-09-25T02:45:00",
          "2022-09-25T03:00:00",
          "2022-09-25T03:15:00",
          "2022-09-25T03:30:00",
          "2022-09-25T03:45:00",
          "2022-09-25T04:00:00",
          "2022-09-25T04:15:00",
          "2022-09-25T04:30:00",
          "2022-09-25T04:45:00",
          "2022-09-25T05:00:00",
          "2022-09-25T05:15:00",
          "2022-09-25T05:30:00",
          "2022-09-25T05:45:00",
          "2022-09-25T06:00:00",
          "2022-09-25T06:15:00",
          "2022-09-25T06:30:00",
          "2022-09-25T06:45:00",
          "2022-09-25T07:00:00",
          "2022-09-25T07:15:00",
          "2022-09-25T07:30:00",
          "2022-09-25T07:45:00",
          "2022-09-25T08:00:00",
          "2022-09-25T08:15:00",
          "2022-09-25T08:30:00",
          "2022-09-25T08:45:00",
          "2022-09-25T09:00:00",
          "2022-09-25T09:15:00",
          "2022-09-25T09:30:00",
          "2022-09-25T09:45:00",
          "2022-09-25T10:00:00",
          "2022-09-25T10:15:00",
          "2022-09-25T10:30:00",
          "2022-09-25T10:45:00",
          "2022-09-25T11:00:00",
          "2022-09-25T11:15:00",
          "2022-09-25T11:30:00",
          "2022-09-25T11:45:00",
          "2022-09-25T12:00:00",
          "2022-09-25T12:15:00",
          "2022-09-25T12:30:00",
          "2022-09-25T12:45:00",
          "2022-09-25T13:00:00",
          "2022-09-25T13:15:00",
          "2022-09-25T13:30:00",
          "2022-09-25T13:45:00",
          "2022-09-25T14:00:00",
          "2022-09-25T14:15:00",
          "2022-09-25T14:30:00",
          "2022-09-25T14:45:00",
          "2022-09-25T15:00:00",
          "2022-09-25T15:15:00",
          "2022-09-25T15:30:00",
          "2022-09-25T15:45:00",
          "2022-09-25T16:00:00",
          "2022-09-25T16:15:00",
          "2022-09-25T16:30:00",
          "2022-09-25T16:45:00",
          "2022-09-25T17:00:00",
          "2022-09-25T17:15:00",
          "2022-09-25T17:30:00",
          "2022-09-25T17:45:00",
          "2022-09-25T18:00:00",
          "2022-09-25T18:15:00",
          "2022-09-25T18:30:00",
          "2022-09-25T18:45:00",
          "2022-09-25T19:00:00",
          "2022-09-25T19:15:00",
          "2022-09-25T19:30:00",
          "2022-09-25T19:45:00",
          "2022-09-25T20:00:00",
          "2022-09-25T20:15:00",
          "2022-09-25T20:30:00",
          "2022-09-25T20:45:00",
          "2022-09-25T21:00:00",
          "2022-09-25T21:15:00",
          "2022-09-25T21:30:00",
          "2022-09-25T21:45:00",
          "2022-09-25T22:00:00",
          "2022-09-25T22:15:00",
          "2022-09-25T22:30:00",
          "2022-09-25T22:45:00",
          "2022-09-25T23:00:00",
          "2022-09-25T23:15:00",
          "2022-09-25T23:30:00",
          "2022-09-25T23:45:00",
          "2022-09-26T00:00:00",
          "2022-09-26T00:15:00",
          "2022-09-26T00:30:00",
          "2022-09-26T00:45:00",
          "2022-09-26T01:00:00",
          "2022-09-26T01:15:00",
          "2022-09-26T01:30:00",
          "2022-09-26T01:45:00",
          "2022-09-26T02:00:00",
          "2022-09-26T02:15:00",
          "2022-09-26T02:30:00",
          "2022-09-26T02:45:00",
          "2022-09-26T03:00:00",
          "2022-09-26T03:15:00",
          "2022-09-26T03:30:00",
          "2022-09-26T03:45:00",
          "2022-09-26T04:00:00",
          "2022-09-26T04:15:00",
          "2022-09-26T04:30:00",
          "2022-09-26T04:45:00",
          "2022-09-26T05:00:00",
          "2022-09-26T05:15:00",
          "2022-09-26T05:30:00",
          "2022-09-26T05:45:00",
          "2022-09-26T06:00:00",
          "2022-09-26T06:15:00",
          "2022-09-26T06:30:00",
          "2022-09-26T06:45:00",
          "2022-09-26T07:00:00",
          "2022-09-26T07:15:00",
          "2022-09-26T07:30:00",
          "2022-09-26T07:45:00",
          "2022-09-26T08:00:00",
          "2022-09-26T08:15:00",
          "2022-09-26T08:30:00",
          "2022-09-26T08:45:00",
          "2022-09-26T09:00:00",
          "2022-09-26T09:15:00",
          "2022-09-26T09:30:00",
          "2022-09-26T09:45:00",
          "2022-09-26T10:00:00",
          "2022-09-26T10:15:00",
          "2022-09-26T10:30:00",
          "2022-09-26T10:45:00",
          "2022-09-26T11:00:00",
          "2022-09-26T11:15:00",
          "2022-09-26T11:30:00",
          "2022-09-26T11:45:00",
          "2022-09-26T12:00:00",
          "2022-09-26T12:15:00",
          "2022-09-26T12:30:00",
          "2022-09-26T12:45:00"
         ],
         "xaxis": "x",
         "y": [
          0.4593437945791726,
          0.44935805991440797,
          1,
          0.8145506419400856,
          0.5064194008559201,
          0.5007132667617689,
          0.47360912981455067,
          0.44079885877318115,
          0.47360912981455067,
          0.6105563480741797,
          0.5092724679029957,
          0.5064194008559201,
          0.572039942938659,
          0.572039942938659,
          0.5520684736091298,
          0.5977175463623395,
          0.5634807417974322,
          0.5834522111269614,
          0.5092724679029957,
          0.4479315263908702,
          0.4037089871611983,
          0.3152639087018545,
          0.268188302425107,
          0.16833095577746077,
          0.1768901569186876,
          0.06990014265335236,
          0.1840228245363766,
          0.17118402282453637,
          0.08559201141226819,
          0.1840228245363766,
          0.19828815977175462,
          0.21540656205420827,
          0.2796005706134094,
          0.2767475035663338,
          0.09557774607703282,
          0.029957203994293864,
          0.33666191155492153,
          0.19828815977175462,
          0.07132667617689016,
          0.0912981455064194,
          0.09415121255349501,
          0.037089871611982884,
          0.10841654778887304,
          0.14407988587731813,
          0.16262482168330955,
          0.16975748930099857,
          0.09557774607703282,
          0.07132667617689016,
          0.05135520684736091,
          0.05135520684736091,
          0.07703281027104136,
          0.07132667617689016,
          0.17261055634807418,
          0.16547788873038516,
          0.09272467902995721,
          0.11840228245363767,
          0.15263908701854492,
          0.14978601997146934,
          0.09843081312410841,
          0.08273894436519258,
          0.15406562054208273,
          0.19971469329529243,
          0.14550641940085593,
          0.19828815977175462,
          0.2225392296718973,
          0.16690442225392296,
          0.08273894436519258,
          0.042796005706134094,
          0.09985734664764621,
          0.12838801711840228,
          0.18544935805991442,
          0.09700427960057062,
          0.19258202567760344,
          0.24536376604850213,
          0.4536376604850214,
          0.44365192582025675,
          0.4222539229671897,
          0.38088445078459343,
          0.4108416547788873,
          0.19971469329529243,
          0.09700427960057062,
          0.15406562054208273,
          0.2553495007132668,
          0.23252496433666192,
          0.21825962910128388,
          0.35805991440798857,
          0.5649072753209701,
          0.5691868758915835,
          0.5592011412268189,
          0.5449358059914408,
          0.557774607703281,
          0.42653352353780316,
          0.4450784593437946,
          0.4893009985734665,
          0.34522111269614836,
          0.4136947218259629,
          0.4579172610556348,
          0.5420827389443652,
          0.15977175463623394,
          0.08416547788873038,
          0.07275320970042796,
          0.06276747503566334,
          0.16975748930099857,
          0.33951497860199714,
          0.38088445078459343,
          0.3680456490727532,
          0.1768901569186876,
          0.14265335235378032,
          0.07132667617689016,
          0.15121255349500715,
          0.08273894436519258,
          0.11697574893009986,
          0.14978601997146934,
          0.024251069900142655,
          0.07560627674750357,
          0.1383737517831669,
          0.21540656205420827,
          0.2710413694721826,
          0.1783166904422254,
          0.19400855920114124,
          0.25677603423680456,
          0.14122681883024252,
          0.26961483594864477,
          0.05563480741797432,
          0.05848787446504993,
          0.14122681883024252,
          0.06276747503566334,
          0.15691868758915833,
          0.14835948644793154,
          0.14265335235378032,
          0.1825962910128388,
          0.09700427960057062,
          0.17261055634807418,
          0.19686162624821682,
          0.11269614835948645,
          0.1768901569186876,
          0.011412268188302425,
          0.011412268188302425,
          0.029957203994293864,
          0.09843081312410841,
          0.09415121255349501,
          0.0898716119828816,
          0.05135520684736091,
          0.029957203994293864,
          0.06990014265335236,
          0.042796005706134094,
          0.05848787446504993,
          0.06276747503566334,
          0.08273894436519258,
          0.0912981455064194,
          0.16547788873038516,
          0.07417974322396577,
          0.09415121255349501,
          0.047075606276747506,
          0.11982881597717546,
          0.19828815977175462,
          0.20684736091298145,
          0.09415121255349501,
          0.19115549215406563,
          0.12981455064194009,
          0.08701854493580599,
          0.1383737517831669,
          0.09272467902995721,
          0.17403708987161198,
          0.2396576319543509,
          0.2553495007132668,
          0.17261055634807418,
          0.09843081312410841,
          0.11982881597717546,
          0.1840228245363766,
          0.10128388017118402,
          0.1398002853067047,
          0.11126961483594865,
          0.1754636233951498,
          0.15977175463623394,
          0.11554921540656206,
          0.2296718972895863,
          0.2995720399429387,
          0.15263908701854492,
          0.08416547788873038,
          0.1312410841654779,
          0.052781740370898715,
          0.037089871611982884,
          0.037089871611982884,
          0.08416547788873038,
          0.06134094151212553,
          0.12268188302425106,
          0.26390870185449355,
          0.25962910128388017,
          0.24821683309557774,
          0.33523537803138376,
          0.12268188302425106,
          0.14835948644793154,
          0.20970042796005706,
          0.14978601997146934,
          0.10699001426533523,
          0.2239657631954351,
          0.20542082738944364,
          0.1369472182596291,
          0.20399429386590584,
          0.2810271041369472,
          0.14550641940085593,
          0.2253922967189729,
          0.24536376604850213,
          0.20256776034236804,
          0.09415121255349501,
          0.16833095577746077,
          0.10413694721825963,
          0.16119828815977175,
          0.05135520684736091,
          0.09985734664764621,
          0.16690442225392296,
          0.24821683309557774,
          0.24251069900142652,
          0.2724679029957204,
          0.14835948644793154,
          0.11412268188302425,
          0.1797432239657632,
          0.2867332382310984,
          0.340941512125535,
          0.10413694721825963,
          0.11269614835948645,
          0.034236804564907276,
          0.15977175463623394,
          0.02710413694721826,
          0.06562054208273894,
          0.08273894436519258,
          0.10556348074179743,
          0.02710413694721826,
          0.05991440798858773,
          0.12268188302425106,
          0.05848787446504993,
          0.03566333808844508,
          0.16690442225392296,
          0.181169757489301,
          0.12838801711840228,
          0.08273894436519258,
          0.11412268188302425,
          0.18830242510699002,
          0.09272467902995721,
          0.06990014265335236,
          0.10271041369472182,
          0.16547788873038516,
          0.15977175463623394,
          0.0898716119828816,
          0.06134094151212553,
          0.15263908701854492,
          0.09843081312410841,
          0.1312410841654779,
          0.09415121255349501,
          0.04992867332382311,
          0.12410841654778887,
          0.028530670470756064,
          0.028530670470756064,
          0.10556348074179743,
          0.11697574893009986,
          0.0884450784593438,
          0.0442225392296719,
          0.0442225392296719,
          0.14978601997146934,
          0.042796005706134094,
          0.039942938659058486,
          0.05563480741797432,
          0.07275320970042796,
          0.05135520684736091,
          0.11554921540656206,
          0.15406562054208273,
          0.07845934379457917,
          0.14693295292439373,
          0.1768901569186876,
          0.16975748930099857,
          0.11840228245363767,
          0.03281027104136947,
          0.07132667617689016,
          0.11126961483594865,
          0.1340941512125535,
          0.1840228245363766,
          0.26105563480741795,
          0.3509272467902996,
          0.3281027104136947,
          0.2553495007132668,
          0.26676176890156916,
          0.2296718972895863,
          0.2810271041369472,
          0.47218259629101283,
          0.16975748930099857,
          0.12125534950071326,
          0.10984308131241084,
          0.14265335235378032,
          0.16690442225392296,
          0.24964336661911554,
          0.23109843081312412,
          0.21683309557774608,
          0.19115549215406563,
          0.2225392296718973,
          0.10556348074179743,
          0.1312410841654779,
          0.3095577746077033,
          0.33808844507845937,
          0.39514978601997147,
          0.16833095577746077,
          0.11412268188302425,
          0.29101283880171186,
          0.5035663338088445,
          0.5777460770328102,
          0.3281027104136947,
          0.19115549215406563,
          0.3195435092724679,
          0.1825962910128388,
          0.2239657631954351,
          0.2767475035663338,
          0.5534950071326676,
          0.5634807417974322,
          0.4522111269614836,
          0.29529243937232524,
          0.6134094151212554,
          0.6562054208273894,
          0.33951497860199714,
          0.33951497860199714,
          0.3466476462196862,
          0.21825962910128388,
          0.18687589158345222,
          0.2268188302425107,
          0.20399429386590584,
          0.1383737517831669,
          0.4122681883024251,
          0.3281027104136947,
          0.06847360912981455,
          0.12838801711840228,
          0.31383737517831667,
          0.2225392296718973,
          0.16405135520684735,
          0.31098430813124106,
          0.32667617689015693,
          0.536376604850214,
          0.1768901569186876,
          0.2268188302425107,
          0.5392296718972895,
          0.06704707560627675,
          0.05991440798858773,
          0.03138373751783167,
          0.03138373751783167,
          0.06276747503566334,
          0.03138373751783167,
          0.019971469329529243,
          0.06704707560627675,
          0.04136947218259629,
          0.2239657631954351,
          0.2524964336661912,
          0.07560627674750357,
          0.21968616262482168,
          0.3437945791726106,
          0.2524964336661912,
          0.1754636233951498,
          0.181169757489301,
          0.2211126961483595,
          0.19828815977175462,
          0.16119828815977175,
          0.289586305278174,
          0.2239657631954351,
          0.18544935805991442,
          0.14835948644793154,
          0.3067047075606277,
          0.30385164051355207,
          0.4094151212553495,
          0.2967189728958631,
          0.21112696148359486,
          0.3680456490727532,
          0.3609129814550642,
          0.28815977175463625,
          0.19971469329529243,
          0.16405135520684735,
          0.29386590584878747,
          0.29814550641940085,
          0.20256776034236804
         ],
         "yaxis": "y"
        }
       ],
       "layout": {
        "legend": {
         "title": {
          "text": "variable"
         },
         "tracegroupgap": 0
        },
        "margin": {
         "t": 60
        },
        "template": {
         "data": {
          "bar": [
           {
            "error_x": {
             "color": "#2a3f5f"
            },
            "error_y": {
             "color": "#2a3f5f"
            },
            "marker": {
             "line": {
              "color": "#E5ECF6",
              "width": 0.5
             },
             "pattern": {
              "fillmode": "overlay",
              "size": 10,
              "solidity": 0.2
             }
            },
            "type": "bar"
           }
          ],
          "barpolar": [
           {
            "marker": {
             "line": {
              "color": "#E5ECF6",
              "width": 0.5
             },
             "pattern": {
              "fillmode": "overlay",
              "size": 10,
              "solidity": 0.2
             }
            },
            "type": "barpolar"
           }
          ],
          "carpet": [
           {
            "aaxis": {
             "endlinecolor": "#2a3f5f",
             "gridcolor": "white",
             "linecolor": "white",
             "minorgridcolor": "white",
             "startlinecolor": "#2a3f5f"
            },
            "baxis": {
             "endlinecolor": "#2a3f5f",
             "gridcolor": "white",
             "linecolor": "white",
             "minorgridcolor": "white",
             "startlinecolor": "#2a3f5f"
            },
            "type": "carpet"
           }
          ],
          "choropleth": [
           {
            "colorbar": {
             "outlinewidth": 0,
             "ticks": ""
            },
            "type": "choropleth"
           }
          ],
          "contour": [
           {
            "colorbar": {
             "outlinewidth": 0,
             "ticks": ""
            },
            "colorscale": [
             [
              0,
              "#0d0887"
             ],
             [
              0.1111111111111111,
              "#46039f"
             ],
             [
              0.2222222222222222,
              "#7201a8"
             ],
             [
              0.3333333333333333,
              "#9c179e"
             ],
             [
              0.4444444444444444,
              "#bd3786"
             ],
             [
              0.5555555555555556,
              "#d8576b"
             ],
             [
              0.6666666666666666,
              "#ed7953"
             ],
             [
              0.7777777777777778,
              "#fb9f3a"
             ],
             [
              0.8888888888888888,
              "#fdca26"
             ],
             [
              1,
              "#f0f921"
             ]
            ],
            "type": "contour"
           }
          ],
          "contourcarpet": [
           {
            "colorbar": {
             "outlinewidth": 0,
             "ticks": ""
            },
            "type": "contourcarpet"
           }
          ],
          "heatmap": [
           {
            "colorbar": {
             "outlinewidth": 0,
             "ticks": ""
            },
            "colorscale": [
             [
              0,
              "#0d0887"
             ],
             [
              0.1111111111111111,
              "#46039f"
             ],
             [
              0.2222222222222222,
              "#7201a8"
             ],
             [
              0.3333333333333333,
              "#9c179e"
             ],
             [
              0.4444444444444444,
              "#bd3786"
             ],
             [
              0.5555555555555556,
              "#d8576b"
             ],
             [
              0.6666666666666666,
              "#ed7953"
             ],
             [
              0.7777777777777778,
              "#fb9f3a"
             ],
             [
              0.8888888888888888,
              "#fdca26"
             ],
             [
              1,
              "#f0f921"
             ]
            ],
            "type": "heatmap"
           }
          ],
          "heatmapgl": [
           {
            "colorbar": {
             "outlinewidth": 0,
             "ticks": ""
            },
            "colorscale": [
             [
              0,
              "#0d0887"
             ],
             [
              0.1111111111111111,
              "#46039f"
             ],
             [
              0.2222222222222222,
              "#7201a8"
             ],
             [
              0.3333333333333333,
              "#9c179e"
             ],
             [
              0.4444444444444444,
              "#bd3786"
             ],
             [
              0.5555555555555556,
              "#d8576b"
             ],
             [
              0.6666666666666666,
              "#ed7953"
             ],
             [
              0.7777777777777778,
              "#fb9f3a"
             ],
             [
              0.8888888888888888,
              "#fdca26"
             ],
             [
              1,
              "#f0f921"
             ]
            ],
            "type": "heatmapgl"
           }
          ],
          "histogram": [
           {
            "marker": {
             "pattern": {
              "fillmode": "overlay",
              "size": 10,
              "solidity": 0.2
             }
            },
            "type": "histogram"
           }
          ],
          "histogram2d": [
           {
            "colorbar": {
             "outlinewidth": 0,
             "ticks": ""
            },
            "colorscale": [
             [
              0,
              "#0d0887"
             ],
             [
              0.1111111111111111,
              "#46039f"
             ],
             [
              0.2222222222222222,
              "#7201a8"
             ],
             [
              0.3333333333333333,
              "#9c179e"
             ],
             [
              0.4444444444444444,
              "#bd3786"
             ],
             [
              0.5555555555555556,
              "#d8576b"
             ],
             [
              0.6666666666666666,
              "#ed7953"
             ],
             [
              0.7777777777777778,
              "#fb9f3a"
             ],
             [
              0.8888888888888888,
              "#fdca26"
             ],
             [
              1,
              "#f0f921"
             ]
            ],
            "type": "histogram2d"
           }
          ],
          "histogram2dcontour": [
           {
            "colorbar": {
             "outlinewidth": 0,
             "ticks": ""
            },
            "colorscale": [
             [
              0,
              "#0d0887"
             ],
             [
              0.1111111111111111,
              "#46039f"
             ],
             [
              0.2222222222222222,
              "#7201a8"
             ],
             [
              0.3333333333333333,
              "#9c179e"
             ],
             [
              0.4444444444444444,
              "#bd3786"
             ],
             [
              0.5555555555555556,
              "#d8576b"
             ],
             [
              0.6666666666666666,
              "#ed7953"
             ],
             [
              0.7777777777777778,
              "#fb9f3a"
             ],
             [
              0.8888888888888888,
              "#fdca26"
             ],
             [
              1,
              "#f0f921"
             ]
            ],
            "type": "histogram2dcontour"
           }
          ],
          "mesh3d": [
           {
            "colorbar": {
             "outlinewidth": 0,
             "ticks": ""
            },
            "type": "mesh3d"
           }
          ],
          "parcoords": [
           {
            "line": {
             "colorbar": {
              "outlinewidth": 0,
              "ticks": ""
             }
            },
            "type": "parcoords"
           }
          ],
          "pie": [
           {
            "automargin": true,
            "type": "pie"
           }
          ],
          "scatter": [
           {
            "fillpattern": {
             "fillmode": "overlay",
             "size": 10,
             "solidity": 0.2
            },
            "type": "scatter"
           }
          ],
          "scatter3d": [
           {
            "line": {
             "colorbar": {
              "outlinewidth": 0,
              "ticks": ""
             }
            },
            "marker": {
             "colorbar": {
              "outlinewidth": 0,
              "ticks": ""
             }
            },
            "type": "scatter3d"
           }
          ],
          "scattercarpet": [
           {
            "marker": {
             "colorbar": {
              "outlinewidth": 0,
              "ticks": ""
             }
            },
            "type": "scattercarpet"
           }
          ],
          "scattergeo": [
           {
            "marker": {
             "colorbar": {
              "outlinewidth": 0,
              "ticks": ""
             }
            },
            "type": "scattergeo"
           }
          ],
          "scattergl": [
           {
            "marker": {
             "colorbar": {
              "outlinewidth": 0,
              "ticks": ""
             }
            },
            "type": "scattergl"
           }
          ],
          "scattermapbox": [
           {
            "marker": {
             "colorbar": {
              "outlinewidth": 0,
              "ticks": ""
             }
            },
            "type": "scattermapbox"
           }
          ],
          "scatterpolar": [
           {
            "marker": {
             "colorbar": {
              "outlinewidth": 0,
              "ticks": ""
             }
            },
            "type": "scatterpolar"
           }
          ],
          "scatterpolargl": [
           {
            "marker": {
             "colorbar": {
              "outlinewidth": 0,
              "ticks": ""
             }
            },
            "type": "scatterpolargl"
           }
          ],
          "scatterternary": [
           {
            "marker": {
             "colorbar": {
              "outlinewidth": 0,
              "ticks": ""
             }
            },
            "type": "scatterternary"
           }
          ],
          "surface": [
           {
            "colorbar": {
             "outlinewidth": 0,
             "ticks": ""
            },
            "colorscale": [
             [
              0,
              "#0d0887"
             ],
             [
              0.1111111111111111,
              "#46039f"
             ],
             [
              0.2222222222222222,
              "#7201a8"
             ],
             [
              0.3333333333333333,
              "#9c179e"
             ],
             [
              0.4444444444444444,
              "#bd3786"
             ],
             [
              0.5555555555555556,
              "#d8576b"
             ],
             [
              0.6666666666666666,
              "#ed7953"
             ],
             [
              0.7777777777777778,
              "#fb9f3a"
             ],
             [
              0.8888888888888888,
              "#fdca26"
             ],
             [
              1,
              "#f0f921"
             ]
            ],
            "type": "surface"
           }
          ],
          "table": [
           {
            "cells": {
             "fill": {
              "color": "#EBF0F8"
             },
             "line": {
              "color": "white"
             }
            },
            "header": {
             "fill": {
              "color": "#C8D4E3"
             },
             "line": {
              "color": "white"
             }
            },
            "type": "table"
           }
          ]
         },
         "layout": {
          "annotationdefaults": {
           "arrowcolor": "#2a3f5f",
           "arrowhead": 0,
           "arrowwidth": 1
          },
          "autotypenumbers": "strict",
          "coloraxis": {
           "colorbar": {
            "outlinewidth": 0,
            "ticks": ""
           }
          },
          "colorscale": {
           "diverging": [
            [
             0,
             "#8e0152"
            ],
            [
             0.1,
             "#c51b7d"
            ],
            [
             0.2,
             "#de77ae"
            ],
            [
             0.3,
             "#f1b6da"
            ],
            [
             0.4,
             "#fde0ef"
            ],
            [
             0.5,
             "#f7f7f7"
            ],
            [
             0.6,
             "#e6f5d0"
            ],
            [
             0.7,
             "#b8e186"
            ],
            [
             0.8,
             "#7fbc41"
            ],
            [
             0.9,
             "#4d9221"
            ],
            [
             1,
             "#276419"
            ]
           ],
           "sequential": [
            [
             0,
             "#0d0887"
            ],
            [
             0.1111111111111111,
             "#46039f"
            ],
            [
             0.2222222222222222,
             "#7201a8"
            ],
            [
             0.3333333333333333,
             "#9c179e"
            ],
            [
             0.4444444444444444,
             "#bd3786"
            ],
            [
             0.5555555555555556,
             "#d8576b"
            ],
            [
             0.6666666666666666,
             "#ed7953"
            ],
            [
             0.7777777777777778,
             "#fb9f3a"
            ],
            [
             0.8888888888888888,
             "#fdca26"
            ],
            [
             1,
             "#f0f921"
            ]
           ],
           "sequentialminus": [
            [
             0,
             "#0d0887"
            ],
            [
             0.1111111111111111,
             "#46039f"
            ],
            [
             0.2222222222222222,
             "#7201a8"
            ],
            [
             0.3333333333333333,
             "#9c179e"
            ],
            [
             0.4444444444444444,
             "#bd3786"
            ],
            [
             0.5555555555555556,
             "#d8576b"
            ],
            [
             0.6666666666666666,
             "#ed7953"
            ],
            [
             0.7777777777777778,
             "#fb9f3a"
            ],
            [
             0.8888888888888888,
             "#fdca26"
            ],
            [
             1,
             "#f0f921"
            ]
           ]
          },
          "colorway": [
           "#636efa",
           "#EF553B",
           "#00cc96",
           "#ab63fa",
           "#FFA15A",
           "#19d3f3",
           "#FF6692",
           "#B6E880",
           "#FF97FF",
           "#FECB52"
          ],
          "font": {
           "color": "#2a3f5f"
          },
          "geo": {
           "bgcolor": "white",
           "lakecolor": "white",
           "landcolor": "#E5ECF6",
           "showlakes": true,
           "showland": true,
           "subunitcolor": "white"
          },
          "hoverlabel": {
           "align": "left"
          },
          "hovermode": "closest",
          "mapbox": {
           "style": "light"
          },
          "paper_bgcolor": "white",
          "plot_bgcolor": "#E5ECF6",
          "polar": {
           "angularaxis": {
            "gridcolor": "white",
            "linecolor": "white",
            "ticks": ""
           },
           "bgcolor": "#E5ECF6",
           "radialaxis": {
            "gridcolor": "white",
            "linecolor": "white",
            "ticks": ""
           }
          },
          "scene": {
           "xaxis": {
            "backgroundcolor": "#E5ECF6",
            "gridcolor": "white",
            "gridwidth": 2,
            "linecolor": "white",
            "showbackground": true,
            "ticks": "",
            "zerolinecolor": "white"
           },
           "yaxis": {
            "backgroundcolor": "#E5ECF6",
            "gridcolor": "white",
            "gridwidth": 2,
            "linecolor": "white",
            "showbackground": true,
            "ticks": "",
            "zerolinecolor": "white"
           },
           "zaxis": {
            "backgroundcolor": "#E5ECF6",
            "gridcolor": "white",
            "gridwidth": 2,
            "linecolor": "white",
            "showbackground": true,
            "ticks": "",
            "zerolinecolor": "white"
           }
          },
          "shapedefaults": {
           "line": {
            "color": "#2a3f5f"
           }
          },
          "ternary": {
           "aaxis": {
            "gridcolor": "white",
            "linecolor": "white",
            "ticks": ""
           },
           "baxis": {
            "gridcolor": "white",
            "linecolor": "white",
            "ticks": ""
           },
           "bgcolor": "#E5ECF6",
           "caxis": {
            "gridcolor": "white",
            "linecolor": "white",
            "ticks": ""
           }
          },
          "title": {
           "x": 0.05
          },
          "xaxis": {
           "automargin": true,
           "gridcolor": "white",
           "linecolor": "white",
           "ticks": "",
           "title": {
            "standoff": 15
           },
           "zerolinecolor": "white",
           "zerolinewidth": 2
          },
          "yaxis": {
           "automargin": true,
           "gridcolor": "white",
           "linecolor": "white",
           "ticks": "",
           "title": {
            "standoff": 15
           },
           "zerolinecolor": "white",
           "zerolinewidth": 2
          }
         }
        },
        "xaxis": {
         "anchor": "y",
         "domain": [
          0,
          1
         ],
         "title": {
          "text": "date"
         }
        },
        "yaxis": {
         "anchor": "x",
         "domain": [
          0,
          1
         ],
         "title": {
          "text": "value"
         }
        }
       }
      },
      "text/html": [
       "<div>                            <div id=\"5ebaf4b9-411f-46d9-bc07-5e8fd3a7056b\" class=\"plotly-graph-div\" style=\"height:525px; width:100%;\"></div>            <script type=\"text/javascript\">                require([\"plotly\"], function(Plotly) {                    window.PLOTLYENV=window.PLOTLYENV || {};                                    if (document.getElementById(\"5ebaf4b9-411f-46d9-bc07-5e8fd3a7056b\")) {                    Plotly.newPlot(                        \"5ebaf4b9-411f-46d9-bc07-5e8fd3a7056b\",                        [{\"hovertemplate\":\"variable=normalized energy<br>date=%{x}<br>value=%{y}<extra></extra>\",\"legendgroup\":\"normalized energy\",\"line\":{\"color\":\"#636efa\",\"dash\":\"solid\"},\"marker\":{\"symbol\":\"circle\"},\"mode\":\"lines\",\"name\":\"normalized energy\",\"orientation\":\"v\",\"showlegend\":true,\"x\":[\"2022-09-22T15:15:00\",\"2022-09-22T15:30:00\",\"2022-09-22T15:45:00\",\"2022-09-22T16:00:00\",\"2022-09-22T16:15:00\",\"2022-09-22T16:30:00\",\"2022-09-22T16:45:00\",\"2022-09-22T17:00:00\",\"2022-09-22T17:15:00\",\"2022-09-22T17:30:00\",\"2022-09-22T17:45:00\",\"2022-09-22T18:00:00\",\"2022-09-22T18:15:00\",\"2022-09-22T18:30:00\",\"2022-09-22T18:45:00\",\"2022-09-22T19:00:00\",\"2022-09-22T19:15:00\",\"2022-09-22T19:30:00\",\"2022-09-22T19:45:00\",\"2022-09-22T20:00:00\",\"2022-09-22T20:15:00\",\"2022-09-22T20:30:00\",\"2022-09-22T20:45:00\",\"2022-09-22T21:00:00\",\"2022-09-22T21:15:00\",\"2022-09-22T21:30:00\",\"2022-09-22T21:45:00\",\"2022-09-22T22:00:00\",\"2022-09-22T22:15:00\",\"2022-09-22T22:30:00\",\"2022-09-22T22:45:00\",\"2022-09-22T23:00:00\",\"2022-09-22T23:15:00\",\"2022-09-22T23:30:00\",\"2022-09-22T23:45:00\",\"2022-09-23T00:00:00\",\"2022-09-23T00:15:00\",\"2022-09-23T00:30:00\",\"2022-09-23T00:45:00\",\"2022-09-23T01:00:00\",\"2022-09-23T01:15:00\",\"2022-09-23T01:30:00\",\"2022-09-23T01:45:00\",\"2022-09-23T02:00:00\",\"2022-09-23T02:15:00\",\"2022-09-23T02:30:00\",\"2022-09-23T02:45:00\",\"2022-09-23T03:00:00\",\"2022-09-23T03:15:00\",\"2022-09-23T03:30:00\",\"2022-09-23T03:45:00\",\"2022-09-23T04:00:00\",\"2022-09-23T04:15:00\",\"2022-09-23T04:30:00\",\"2022-09-23T04:45:00\",\"2022-09-23T05:00:00\",\"2022-09-23T05:15:00\",\"2022-09-23T05:30:00\",\"2022-09-23T05:45:00\",\"2022-09-23T06:00:00\",\"2022-09-23T06:15:00\",\"2022-09-23T06:30:00\",\"2022-09-23T06:45:00\",\"2022-09-23T07:00:00\",\"2022-09-23T07:15:00\",\"2022-09-23T07:30:00\",\"2022-09-23T07:45:00\",\"2022-09-23T08:00:00\",\"2022-09-23T08:15:00\",\"2022-09-23T08:30:00\",\"2022-09-23T08:45:00\",\"2022-09-23T09:00:00\",\"2022-09-23T09:15:00\",\"2022-09-23T09:30:00\",\"2022-09-23T09:45:00\",\"2022-09-23T10:00:00\",\"2022-09-23T10:15:00\",\"2022-09-23T10:30:00\",\"2022-09-23T10:45:00\",\"2022-09-23T11:00:00\",\"2022-09-23T11:15:00\",\"2022-09-23T11:30:00\",\"2022-09-23T11:45:00\",\"2022-09-23T12:00:00\",\"2022-09-23T12:15:00\",\"2022-09-23T12:30:00\",\"2022-09-23T12:45:00\",\"2022-09-23T13:00:00\",\"2022-09-23T13:15:00\",\"2022-09-23T13:30:00\",\"2022-09-23T13:45:00\",\"2022-09-23T14:00:00\",\"2022-09-23T14:15:00\",\"2022-09-23T14:30:00\",\"2022-09-23T14:45:00\",\"2022-09-23T15:00:00\",\"2022-09-23T15:15:00\",\"2022-09-23T15:30:00\",\"2022-09-23T15:45:00\",\"2022-09-23T16:00:00\",\"2022-09-23T16:15:00\",\"2022-09-23T16:30:00\",\"2022-09-23T16:45:00\",\"2022-09-23T17:00:00\",\"2022-09-23T17:15:00\",\"2022-09-23T17:30:00\",\"2022-09-23T17:45:00\",\"2022-09-23T18:00:00\",\"2022-09-23T18:15:00\",\"2022-09-23T18:30:00\",\"2022-09-23T18:45:00\",\"2022-09-23T19:00:00\",\"2022-09-23T19:15:00\",\"2022-09-23T19:30:00\",\"2022-09-23T19:45:00\",\"2022-09-23T20:00:00\",\"2022-09-23T20:15:00\",\"2022-09-23T20:30:00\",\"2022-09-23T20:45:00\",\"2022-09-23T21:00:00\",\"2022-09-23T21:15:00\",\"2022-09-23T21:30:00\",\"2022-09-23T21:45:00\",\"2022-09-23T22:00:00\",\"2022-09-23T22:15:00\",\"2022-09-23T22:30:00\",\"2022-09-23T22:45:00\",\"2022-09-23T23:00:00\",\"2022-09-23T23:15:00\",\"2022-09-23T23:30:00\",\"2022-09-23T23:45:00\",\"2022-09-24T00:00:00\",\"2022-09-24T00:15:00\",\"2022-09-24T00:30:00\",\"2022-09-24T00:45:00\",\"2022-09-24T01:00:00\",\"2022-09-24T01:15:00\",\"2022-09-24T01:30:00\",\"2022-09-24T01:45:00\",\"2022-09-24T02:00:00\",\"2022-09-24T02:15:00\",\"2022-09-24T02:30:00\",\"2022-09-24T02:45:00\",\"2022-09-24T03:00:00\",\"2022-09-24T03:15:00\",\"2022-09-24T03:30:00\",\"2022-09-24T03:45:00\",\"2022-09-24T04:00:00\",\"2022-09-24T04:15:00\",\"2022-09-24T04:30:00\",\"2022-09-24T04:45:00\",\"2022-09-24T05:00:00\",\"2022-09-24T05:15:00\",\"2022-09-24T05:30:00\",\"2022-09-24T05:45:00\",\"2022-09-24T06:00:00\",\"2022-09-24T06:15:00\",\"2022-09-24T06:30:00\",\"2022-09-24T06:45:00\",\"2022-09-24T07:00:00\",\"2022-09-24T07:15:00\",\"2022-09-24T07:30:00\",\"2022-09-24T07:45:00\",\"2022-09-24T08:00:00\",\"2022-09-24T08:15:00\",\"2022-09-24T08:30:00\",\"2022-09-24T08:45:00\",\"2022-09-24T09:00:00\",\"2022-09-24T09:15:00\",\"2022-09-24T09:30:00\",\"2022-09-24T09:45:00\",\"2022-09-24T10:00:00\",\"2022-09-24T10:15:00\",\"2022-09-24T10:30:00\",\"2022-09-24T10:45:00\",\"2022-09-24T11:00:00\",\"2022-09-24T11:15:00\",\"2022-09-24T11:30:00\",\"2022-09-24T11:45:00\",\"2022-09-24T12:00:00\",\"2022-09-24T12:15:00\",\"2022-09-24T12:30:00\",\"2022-09-24T12:45:00\",\"2022-09-24T13:00:00\",\"2022-09-24T13:15:00\",\"2022-09-24T13:30:00\",\"2022-09-24T13:45:00\",\"2022-09-24T14:00:00\",\"2022-09-24T14:15:00\",\"2022-09-24T14:30:00\",\"2022-09-24T14:45:00\",\"2022-09-24T15:00:00\",\"2022-09-24T15:15:00\",\"2022-09-24T15:30:00\",\"2022-09-24T15:45:00\",\"2022-09-24T16:00:00\",\"2022-09-24T16:15:00\",\"2022-09-24T16:30:00\",\"2022-09-24T16:45:00\",\"2022-09-24T17:00:00\",\"2022-09-24T17:15:00\",\"2022-09-24T17:30:00\",\"2022-09-24T17:45:00\",\"2022-09-24T18:00:00\",\"2022-09-24T18:15:00\",\"2022-09-24T18:30:00\",\"2022-09-24T18:45:00\",\"2022-09-24T19:00:00\",\"2022-09-24T19:15:00\",\"2022-09-24T19:30:00\",\"2022-09-24T19:45:00\",\"2022-09-24T20:00:00\",\"2022-09-24T20:15:00\",\"2022-09-24T20:30:00\",\"2022-09-24T20:45:00\",\"2022-09-24T21:00:00\",\"2022-09-24T21:15:00\",\"2022-09-24T21:30:00\",\"2022-09-24T21:45:00\",\"2022-09-24T22:00:00\",\"2022-09-24T22:15:00\",\"2022-09-24T22:30:00\",\"2022-09-24T22:45:00\",\"2022-09-24T23:00:00\",\"2022-09-24T23:15:00\",\"2022-09-24T23:30:00\",\"2022-09-24T23:45:00\",\"2022-09-25T00:00:00\",\"2022-09-25T00:15:00\",\"2022-09-25T00:30:00\",\"2022-09-25T00:45:00\",\"2022-09-25T01:00:00\",\"2022-09-25T01:15:00\",\"2022-09-25T01:30:00\",\"2022-09-25T01:45:00\",\"2022-09-25T02:00:00\",\"2022-09-25T02:15:00\",\"2022-09-25T02:30:00\",\"2022-09-25T02:45:00\",\"2022-09-25T03:00:00\",\"2022-09-25T03:15:00\",\"2022-09-25T03:30:00\",\"2022-09-25T03:45:00\",\"2022-09-25T04:00:00\",\"2022-09-25T04:15:00\",\"2022-09-25T04:30:00\",\"2022-09-25T04:45:00\",\"2022-09-25T05:00:00\",\"2022-09-25T05:15:00\",\"2022-09-25T05:30:00\",\"2022-09-25T05:45:00\",\"2022-09-25T06:00:00\",\"2022-09-25T06:15:00\",\"2022-09-25T06:30:00\",\"2022-09-25T06:45:00\",\"2022-09-25T07:00:00\",\"2022-09-25T07:15:00\",\"2022-09-25T07:30:00\",\"2022-09-25T07:45:00\",\"2022-09-25T08:00:00\",\"2022-09-25T08:15:00\",\"2022-09-25T08:30:00\",\"2022-09-25T08:45:00\",\"2022-09-25T09:00:00\",\"2022-09-25T09:15:00\",\"2022-09-25T09:30:00\",\"2022-09-25T09:45:00\",\"2022-09-25T10:00:00\",\"2022-09-25T10:15:00\",\"2022-09-25T10:30:00\",\"2022-09-25T10:45:00\",\"2022-09-25T11:00:00\",\"2022-09-25T11:15:00\",\"2022-09-25T11:30:00\",\"2022-09-25T11:45:00\",\"2022-09-25T12:00:00\",\"2022-09-25T12:15:00\",\"2022-09-25T12:30:00\",\"2022-09-25T12:45:00\",\"2022-09-25T13:00:00\",\"2022-09-25T13:15:00\",\"2022-09-25T13:30:00\",\"2022-09-25T13:45:00\",\"2022-09-25T14:00:00\",\"2022-09-25T14:15:00\",\"2022-09-25T14:30:00\",\"2022-09-25T14:45:00\",\"2022-09-25T15:00:00\",\"2022-09-25T15:15:00\",\"2022-09-25T15:30:00\",\"2022-09-25T15:45:00\",\"2022-09-25T16:00:00\",\"2022-09-25T16:15:00\",\"2022-09-25T16:30:00\",\"2022-09-25T16:45:00\",\"2022-09-25T17:00:00\",\"2022-09-25T17:15:00\",\"2022-09-25T17:30:00\",\"2022-09-25T17:45:00\",\"2022-09-25T18:00:00\",\"2022-09-25T18:15:00\",\"2022-09-25T18:30:00\",\"2022-09-25T18:45:00\",\"2022-09-25T19:00:00\",\"2022-09-25T19:15:00\",\"2022-09-25T19:30:00\",\"2022-09-25T19:45:00\",\"2022-09-25T20:00:00\",\"2022-09-25T20:15:00\",\"2022-09-25T20:30:00\",\"2022-09-25T20:45:00\",\"2022-09-25T21:00:00\",\"2022-09-25T21:15:00\",\"2022-09-25T21:30:00\",\"2022-09-25T21:45:00\",\"2022-09-25T22:00:00\",\"2022-09-25T22:15:00\",\"2022-09-25T22:30:00\",\"2022-09-25T22:45:00\",\"2022-09-25T23:00:00\",\"2022-09-25T23:15:00\",\"2022-09-25T23:30:00\",\"2022-09-25T23:45:00\",\"2022-09-26T00:00:00\",\"2022-09-26T00:15:00\",\"2022-09-26T00:30:00\",\"2022-09-26T00:45:00\",\"2022-09-26T01:00:00\",\"2022-09-26T01:15:00\",\"2022-09-26T01:30:00\",\"2022-09-26T01:45:00\",\"2022-09-26T02:00:00\",\"2022-09-26T02:15:00\",\"2022-09-26T02:30:00\",\"2022-09-26T02:45:00\",\"2022-09-26T03:00:00\",\"2022-09-26T03:15:00\",\"2022-09-26T03:30:00\",\"2022-09-26T03:45:00\",\"2022-09-26T04:00:00\",\"2022-09-26T04:15:00\",\"2022-09-26T04:30:00\",\"2022-09-26T04:45:00\",\"2022-09-26T05:00:00\",\"2022-09-26T05:15:00\",\"2022-09-26T05:30:00\",\"2022-09-26T05:45:00\",\"2022-09-26T06:00:00\",\"2022-09-26T06:15:00\",\"2022-09-26T06:30:00\",\"2022-09-26T06:45:00\",\"2022-09-26T07:00:00\",\"2022-09-26T07:15:00\",\"2022-09-26T07:30:00\",\"2022-09-26T07:45:00\",\"2022-09-26T08:00:00\",\"2022-09-26T08:15:00\",\"2022-09-26T08:30:00\",\"2022-09-26T08:45:00\",\"2022-09-26T09:00:00\",\"2022-09-26T09:15:00\",\"2022-09-26T09:30:00\",\"2022-09-26T09:45:00\",\"2022-09-26T10:00:00\",\"2022-09-26T10:15:00\",\"2022-09-26T10:30:00\",\"2022-09-26T10:45:00\",\"2022-09-26T11:00:00\",\"2022-09-26T11:15:00\",\"2022-09-26T11:30:00\",\"2022-09-26T11:45:00\",\"2022-09-26T12:00:00\",\"2022-09-26T12:15:00\",\"2022-09-26T12:30:00\",\"2022-09-26T12:45:00\"],\"xaxis\":\"x\",\"y\":[0.8421116257678788,1.0,0.9513590223711438,0.9350021352780787,0.9088255970566017,0.9261837653165136,0.9265911106731054,0.92708912322197,0.904095134851023,0.9438034230150132,0.9143549817680098,0.9272993659866625,0.9333924641109038,0.9531657961302177,0.9494904897999428,0.9468269767747441,0.950004270556158,0.933743306724483,0.9334791892513374,0.9202522913176319,0.8112519299628792,0.7465917676817451,0.7053552774218973,0.6725902565618739,0.6496514569166583,0.6417450149469464,0.6751249958936968,0.6711882001248284,0.6476791169803913,0.6577037548043759,0.6815925889425415,0.7132472652015402,0.7182418448802574,0.7435879241812057,0.6131414868105494,0.5889123221970384,0.7445379586741555,0.6623829703360619,0.6133201931605395,0.6226759961893499,0.6216655169015449,0.5933431884629282,0.6458316086856534,0.6445793502184558,0.6552820209585793,0.6607693571170419,0.6482244341513125,0.6086160113005488,0.6086580598534838,0.5932577773397728,0.6155789888637048,0.6021326500443454,0.6792878026346084,0.6342866528694836,0.617310863637855,0.6265668013534367,0.65301665516902,0.652247955060603,0.6526382181925768,0.6220478959298301,0.6486304654906171,0.6861233205216648,0.6662658913964692,0.6663683847442593,0.6941020334417438,0.6525777733977217,0.6194369435958073,0.606137774711739,0.6401813343845408,0.6505712690121945,0.7129384711408937,0.6448592358989554,0.7429874182845427,0.75131171774909,0.8983896718241874,0.9040635984363194,0.892358332512075,0.8787911041030192,0.9224742945369685,0.7174954830656073,0.6331894484412472,0.6774810288755295,0.7012489734239987,0.6684405899937551,0.6761381032160585,0.8051351795276068,0.9116454781380445,0.9060044019578781,0.9133563286357227,0.9359337735291208,0.9133458164974866,0.8739476364114259,0.902882296902199,0.9056062547222481,0.8524608258598608,0.9093275516573095,0.9069938569692155,0.9361794947603601,0.6704865148976653,0.5984993922670147,0.6257468545711339,0.5952156630859663,0.670380079498047,0.7215965309943878,0.7561354751814964,0.7110186918957979,0.6595381229263164,0.6287704083308695,0.6329305870372197,0.6802273249893175,0.6738766794783412,0.6534805032686184,0.6690148155448278,0.5925376958706989,0.6447909070004255,0.6345231759797676,0.6791261785092391,0.7374435793830624,0.6904963700272702,0.6997115732071928,0.7204599060477638,0.6289215203179841,0.7019651128412446,0.6066147629841255,0.6113544233106619,0.6555421963798874,0.637607174534349,0.6122295588187066,0.6530560756873843,0.674341841595225,0.6513465392069822,0.6062034755757075,0.6638007949804475,0.6613882592556063,0.6186432771590994,0.6744771853749901,0.5811767024736373,0.5782884924936855,0.5997713609933946,0.607196872638873,0.5985703492000967,0.6205656844387378,0.6079327223153058,0.6082152360303574,0.6420012483164171,0.5844236391708547,0.6166525409809029,0.59476364114188,0.628917578266156,0.6064071482539932,0.686832889852512,0.6189954337899476,0.6162412535724849,0.6027830885976273,0.6389251338655105,0.6723497913997526,0.7040859367300648,0.6365901251601406,0.7231326171939271,0.6475595414079617,0.6190479944811373,0.6632081731874733,0.6256772116553373,0.6546434085608187,0.719236555960699,0.7243835616438441,0.6787713938438202,0.6213803751519366,0.6501376433100096,0.665033343188463,0.6305298774678907,0.6377438323313901,0.6492743339575051,0.6545606254722247,0.681494037646584,0.7100252948326231,0.712684865805989,0.730794651949685,0.6432587628527329,0.6311408955027663,0.6693577740547346,0.618606484675259,0.5961854078381263,0.603311323543909,0.6297230708583667,0.6624946618048074,0.6557392989717744,0.7691061397457499,0.7459045366446507,0.6780092638218299,0.7684346769159911,0.6156670280214122,0.6385112184225218,0.6801695082290424,0.7179540750960831,0.6483440097237374,0.7250852468709885,0.7236096054663137,0.6796675536283369,0.684124700239803,0.7091186229098982,0.6737571039059068,0.7139187280312805,0.7028783548503682,0.706855885154877,0.6777136099339808,0.6611609342662778,0.6855806313853003,0.6985591800532193,0.6159547978055866,0.6451588318386419,0.6765927531947062,0.700385664071485,0.6963857954732093,0.6303853355671561,0.6500167537203179,0.6585920304851992,0.6763417758943535,0.7006655497519846,0.7447744817844254,0.627991196084235,0.6280358726717314,0.6060418514503475,0.6596629545678547,0.5953404947275047,0.6192989717814714,0.6441667487927524,0.6470786110837283,0.5927426825662793,0.6110653395092116,0.6547248776321367,0.6035951512762366,0.5893577740547447,0.6466042508458938,0.7017890345257926,0.6131493709142287,0.6237955389113485,0.6431102789001704,0.6430130416214842,0.6531782792943707,0.6505660129430905,0.6338030945106843,0.666413061331765,0.6486974803718617,0.6313892447685671,0.6106317138070454,0.6382983476232666,0.5999632075161587,0.6402089287474024,0.6494727505666867,0.610749975362185,0.6157064485398045,0.5972983804736888,0.5832528497749797,0.6212621135967783,0.6356532308400116,0.6028684997207734,0.5999172169113863,0.6043218028317,0.6457304293551626,0.595905522157608,0.6055688052297703,0.6302657599947779,0.6376873295883536,0.6025833579711697,0.6537525048454433,0.6997956703130441,0.6086304654906408,0.6667468217206931,0.6892296573699851,0.6846371669787539,0.6344850694786885,0.5995979107124945,0.6389343319864986,0.6435215663085884,0.631227620643207,0.6731671101474846,0.7094247889359928,0.6775099372556764,0.6937354226208129,0.6749002989389109,0.7381426365756735,0.7382477579580157,0.7116809566045781,0.789047665976797,0.7167123287671542,0.6521231234190459,0.6349318353536523,0.6795414079695039,0.7008731644821357,0.7506823034722662,0.6838592687493767,0.7247146939982575,0.7284044545185545,0.7553851713150183,0.6176472520613632,0.6529838047370357,0.8162504516934291,0.7889412305771787,0.800872507473485,0.6444045859203077,0.6803797509937268,0.7822870470746599,0.947130514766261,0.8912834663775915,0.7304043888177204,0.6665484051115301,0.7255359547977802,0.6545382871784765,0.6821694425281709,0.7400413915442877,0.9283781741730092,0.9049689563417775,0.7930107420912509,0.7278459971748686,0.8992188167274315,0.9010768371604148,0.733514667717878,0.7210223054433337,0.7268617982326352,0.6654827370979973,0.677177490883987,0.7217712952925266,0.6682921060412018,0.6615827338129412,0.7524706809894716,0.7981564337571013,0.6219782530140335,0.669887323018311,0.6807345356591457,0.6479511185571836,0.6335823396077919,0.7173220327847165,0.7050346572057526,0.805559607108813,0.6676350974015538,0.6725482080089156,0.7029466837489075,0.623041292992977,0.5882881639893839,0.5970132387240851,0.5950448408396556,0.6056883808021859,0.5700863966361246,0.5845694950888652,0.615367432081735,0.60812456883807,0.6966604250846049,0.7254873361584558,0.6261371177030984,0.724930192832046,0.7565152261752248,0.711226306625921,0.652533096810244,0.6700673433855351,0.6724207483328438,0.6626234354981925,0.6598784534016618,0.7314424624683823,0.683126047107496,0.6415518544069202,0.6551900397490206,0.7805394040931601,0.765098387043781,0.7888729016786395,0.7705804671331488,0.7077914654577674,0.7789494431851924,0.7405512302486866,0.7798548010906412,0.6618205709404965,0.6516132847146844,0.7319864656220321,0.7219552577116161,0.6974462074176381],\"yaxis\":\"y\",\"type\":\"scatter\"},{\"hovertemplate\":\"variable=normalized requests<br>date=%{x}<br>value=%{y}<extra></extra>\",\"legendgroup\":\"normalized requests\",\"line\":{\"color\":\"#EF553B\",\"dash\":\"solid\"},\"marker\":{\"symbol\":\"circle\"},\"mode\":\"lines\",\"name\":\"normalized requests\",\"orientation\":\"v\",\"showlegend\":true,\"x\":[\"2022-09-22T15:15:00\",\"2022-09-22T15:30:00\",\"2022-09-22T15:45:00\",\"2022-09-22T16:00:00\",\"2022-09-22T16:15:00\",\"2022-09-22T16:30:00\",\"2022-09-22T16:45:00\",\"2022-09-22T17:00:00\",\"2022-09-22T17:15:00\",\"2022-09-22T17:30:00\",\"2022-09-22T17:45:00\",\"2022-09-22T18:00:00\",\"2022-09-22T18:15:00\",\"2022-09-22T18:30:00\",\"2022-09-22T18:45:00\",\"2022-09-22T19:00:00\",\"2022-09-22T19:15:00\",\"2022-09-22T19:30:00\",\"2022-09-22T19:45:00\",\"2022-09-22T20:00:00\",\"2022-09-22T20:15:00\",\"2022-09-22T20:30:00\",\"2022-09-22T20:45:00\",\"2022-09-22T21:00:00\",\"2022-09-22T21:15:00\",\"2022-09-22T21:30:00\",\"2022-09-22T21:45:00\",\"2022-09-22T22:00:00\",\"2022-09-22T22:15:00\",\"2022-09-22T22:30:00\",\"2022-09-22T22:45:00\",\"2022-09-22T23:00:00\",\"2022-09-22T23:15:00\",\"2022-09-22T23:30:00\",\"2022-09-22T23:45:00\",\"2022-09-23T00:00:00\",\"2022-09-23T00:15:00\",\"2022-09-23T00:30:00\",\"2022-09-23T00:45:00\",\"2022-09-23T01:00:00\",\"2022-09-23T01:15:00\",\"2022-09-23T01:30:00\",\"2022-09-23T01:45:00\",\"2022-09-23T02:00:00\",\"2022-09-23T02:15:00\",\"2022-09-23T02:30:00\",\"2022-09-23T02:45:00\",\"2022-09-23T03:00:00\",\"2022-09-23T03:15:00\",\"2022-09-23T03:30:00\",\"2022-09-23T03:45:00\",\"2022-09-23T04:00:00\",\"2022-09-23T04:15:00\",\"2022-09-23T04:30:00\",\"2022-09-23T04:45:00\",\"2022-09-23T05:00:00\",\"2022-09-23T05:15:00\",\"2022-09-23T05:30:00\",\"2022-09-23T05:45:00\",\"2022-09-23T06:00:00\",\"2022-09-23T06:15:00\",\"2022-09-23T06:30:00\",\"2022-09-23T06:45:00\",\"2022-09-23T07:00:00\",\"2022-09-23T07:15:00\",\"2022-09-23T07:30:00\",\"2022-09-23T07:45:00\",\"2022-09-23T08:00:00\",\"2022-09-23T08:15:00\",\"2022-09-23T08:30:00\",\"2022-09-23T08:45:00\",\"2022-09-23T09:00:00\",\"2022-09-23T09:15:00\",\"2022-09-23T09:30:00\",\"2022-09-23T09:45:00\",\"2022-09-23T10:00:00\",\"2022-09-23T10:15:00\",\"2022-09-23T10:30:00\",\"2022-09-23T10:45:00\",\"2022-09-23T11:00:00\",\"2022-09-23T11:15:00\",\"2022-09-23T11:30:00\",\"2022-09-23T11:45:00\",\"2022-09-23T12:00:00\",\"2022-09-23T12:15:00\",\"2022-09-23T12:30:00\",\"2022-09-23T12:45:00\",\"2022-09-23T13:00:00\",\"2022-09-23T13:15:00\",\"2022-09-23T13:30:00\",\"2022-09-23T13:45:00\",\"2022-09-23T14:00:00\",\"2022-09-23T14:15:00\",\"2022-09-23T14:30:00\",\"2022-09-23T14:45:00\",\"2022-09-23T15:00:00\",\"2022-09-23T15:15:00\",\"2022-09-23T15:30:00\",\"2022-09-23T15:45:00\",\"2022-09-23T16:00:00\",\"2022-09-23T16:15:00\",\"2022-09-23T16:30:00\",\"2022-09-23T16:45:00\",\"2022-09-23T17:00:00\",\"2022-09-23T17:15:00\",\"2022-09-23T17:30:00\",\"2022-09-23T17:45:00\",\"2022-09-23T18:00:00\",\"2022-09-23T18:15:00\",\"2022-09-23T18:30:00\",\"2022-09-23T18:45:00\",\"2022-09-23T19:00:00\",\"2022-09-23T19:15:00\",\"2022-09-23T19:30:00\",\"2022-09-23T19:45:00\",\"2022-09-23T20:00:00\",\"2022-09-23T20:15:00\",\"2022-09-23T20:30:00\",\"2022-09-23T20:45:00\",\"2022-09-23T21:00:00\",\"2022-09-23T21:15:00\",\"2022-09-23T21:30:00\",\"2022-09-23T21:45:00\",\"2022-09-23T22:00:00\",\"2022-09-23T22:15:00\",\"2022-09-23T22:30:00\",\"2022-09-23T22:45:00\",\"2022-09-23T23:00:00\",\"2022-09-23T23:15:00\",\"2022-09-23T23:30:00\",\"2022-09-23T23:45:00\",\"2022-09-24T00:00:00\",\"2022-09-24T00:15:00\",\"2022-09-24T00:30:00\",\"2022-09-24T00:45:00\",\"2022-09-24T01:00:00\",\"2022-09-24T01:15:00\",\"2022-09-24T01:30:00\",\"2022-09-24T01:45:00\",\"2022-09-24T02:00:00\",\"2022-09-24T02:15:00\",\"2022-09-24T02:30:00\",\"2022-09-24T02:45:00\",\"2022-09-24T03:00:00\",\"2022-09-24T03:15:00\",\"2022-09-24T03:30:00\",\"2022-09-24T03:45:00\",\"2022-09-24T04:00:00\",\"2022-09-24T04:15:00\",\"2022-09-24T04:30:00\",\"2022-09-24T04:45:00\",\"2022-09-24T05:00:00\",\"2022-09-24T05:15:00\",\"2022-09-24T05:30:00\",\"2022-09-24T05:45:00\",\"2022-09-24T06:00:00\",\"2022-09-24T06:15:00\",\"2022-09-24T06:30:00\",\"2022-09-24T06:45:00\",\"2022-09-24T07:00:00\",\"2022-09-24T07:15:00\",\"2022-09-24T07:30:00\",\"2022-09-24T07:45:00\",\"2022-09-24T08:00:00\",\"2022-09-24T08:15:00\",\"2022-09-24T08:30:00\",\"2022-09-24T08:45:00\",\"2022-09-24T09:00:00\",\"2022-09-24T09:15:00\",\"2022-09-24T09:30:00\",\"2022-09-24T09:45:00\",\"2022-09-24T10:00:00\",\"2022-09-24T10:15:00\",\"2022-09-24T10:30:00\",\"2022-09-24T10:45:00\",\"2022-09-24T11:00:00\",\"2022-09-24T11:15:00\",\"2022-09-24T11:30:00\",\"2022-09-24T11:45:00\",\"2022-09-24T12:00:00\",\"2022-09-24T12:15:00\",\"2022-09-24T12:30:00\",\"2022-09-24T12:45:00\",\"2022-09-24T13:00:00\",\"2022-09-24T13:15:00\",\"2022-09-24T13:30:00\",\"2022-09-24T13:45:00\",\"2022-09-24T14:00:00\",\"2022-09-24T14:15:00\",\"2022-09-24T14:30:00\",\"2022-09-24T14:45:00\",\"2022-09-24T15:00:00\",\"2022-09-24T15:15:00\",\"2022-09-24T15:30:00\",\"2022-09-24T15:45:00\",\"2022-09-24T16:00:00\",\"2022-09-24T16:15:00\",\"2022-09-24T16:30:00\",\"2022-09-24T16:45:00\",\"2022-09-24T17:00:00\",\"2022-09-24T17:15:00\",\"2022-09-24T17:30:00\",\"2022-09-24T17:45:00\",\"2022-09-24T18:00:00\",\"2022-09-24T18:15:00\",\"2022-09-24T18:30:00\",\"2022-09-24T18:45:00\",\"2022-09-24T19:00:00\",\"2022-09-24T19:15:00\",\"2022-09-24T19:30:00\",\"2022-09-24T19:45:00\",\"2022-09-24T20:00:00\",\"2022-09-24T20:15:00\",\"2022-09-24T20:30:00\",\"2022-09-24T20:45:00\",\"2022-09-24T21:00:00\",\"2022-09-24T21:15:00\",\"2022-09-24T21:30:00\",\"2022-09-24T21:45:00\",\"2022-09-24T22:00:00\",\"2022-09-24T22:15:00\",\"2022-09-24T22:30:00\",\"2022-09-24T22:45:00\",\"2022-09-24T23:00:00\",\"2022-09-24T23:15:00\",\"2022-09-24T23:30:00\",\"2022-09-24T23:45:00\",\"2022-09-25T00:00:00\",\"2022-09-25T00:15:00\",\"2022-09-25T00:30:00\",\"2022-09-25T00:45:00\",\"2022-09-25T01:00:00\",\"2022-09-25T01:15:00\",\"2022-09-25T01:30:00\",\"2022-09-25T01:45:00\",\"2022-09-25T02:00:00\",\"2022-09-25T02:15:00\",\"2022-09-25T02:30:00\",\"2022-09-25T02:45:00\",\"2022-09-25T03:00:00\",\"2022-09-25T03:15:00\",\"2022-09-25T03:30:00\",\"2022-09-25T03:45:00\",\"2022-09-25T04:00:00\",\"2022-09-25T04:15:00\",\"2022-09-25T04:30:00\",\"2022-09-25T04:45:00\",\"2022-09-25T05:00:00\",\"2022-09-25T05:15:00\",\"2022-09-25T05:30:00\",\"2022-09-25T05:45:00\",\"2022-09-25T06:00:00\",\"2022-09-25T06:15:00\",\"2022-09-25T06:30:00\",\"2022-09-25T06:45:00\",\"2022-09-25T07:00:00\",\"2022-09-25T07:15:00\",\"2022-09-25T07:30:00\",\"2022-09-25T07:45:00\",\"2022-09-25T08:00:00\",\"2022-09-25T08:15:00\",\"2022-09-25T08:30:00\",\"2022-09-25T08:45:00\",\"2022-09-25T09:00:00\",\"2022-09-25T09:15:00\",\"2022-09-25T09:30:00\",\"2022-09-25T09:45:00\",\"2022-09-25T10:00:00\",\"2022-09-25T10:15:00\",\"2022-09-25T10:30:00\",\"2022-09-25T10:45:00\",\"2022-09-25T11:00:00\",\"2022-09-25T11:15:00\",\"2022-09-25T11:30:00\",\"2022-09-25T11:45:00\",\"2022-09-25T12:00:00\",\"2022-09-25T12:15:00\",\"2022-09-25T12:30:00\",\"2022-09-25T12:45:00\",\"2022-09-25T13:00:00\",\"2022-09-25T13:15:00\",\"2022-09-25T13:30:00\",\"2022-09-25T13:45:00\",\"2022-09-25T14:00:00\",\"2022-09-25T14:15:00\",\"2022-09-25T14:30:00\",\"2022-09-25T14:45:00\",\"2022-09-25T15:00:00\",\"2022-09-25T15:15:00\",\"2022-09-25T15:30:00\",\"2022-09-25T15:45:00\",\"2022-09-25T16:00:00\",\"2022-09-25T16:15:00\",\"2022-09-25T16:30:00\",\"2022-09-25T16:45:00\",\"2022-09-25T17:00:00\",\"2022-09-25T17:15:00\",\"2022-09-25T17:30:00\",\"2022-09-25T17:45:00\",\"2022-09-25T18:00:00\",\"2022-09-25T18:15:00\",\"2022-09-25T18:30:00\",\"2022-09-25T18:45:00\",\"2022-09-25T19:00:00\",\"2022-09-25T19:15:00\",\"2022-09-25T19:30:00\",\"2022-09-25T19:45:00\",\"2022-09-25T20:00:00\",\"2022-09-25T20:15:00\",\"2022-09-25T20:30:00\",\"2022-09-25T20:45:00\",\"2022-09-25T21:00:00\",\"2022-09-25T21:15:00\",\"2022-09-25T21:30:00\",\"2022-09-25T21:45:00\",\"2022-09-25T22:00:00\",\"2022-09-25T22:15:00\",\"2022-09-25T22:30:00\",\"2022-09-25T22:45:00\",\"2022-09-25T23:00:00\",\"2022-09-25T23:15:00\",\"2022-09-25T23:30:00\",\"2022-09-25T23:45:00\",\"2022-09-26T00:00:00\",\"2022-09-26T00:15:00\",\"2022-09-26T00:30:00\",\"2022-09-26T00:45:00\",\"2022-09-26T01:00:00\",\"2022-09-26T01:15:00\",\"2022-09-26T01:30:00\",\"2022-09-26T01:45:00\",\"2022-09-26T02:00:00\",\"2022-09-26T02:15:00\",\"2022-09-26T02:30:00\",\"2022-09-26T02:45:00\",\"2022-09-26T03:00:00\",\"2022-09-26T03:15:00\",\"2022-09-26T03:30:00\",\"2022-09-26T03:45:00\",\"2022-09-26T04:00:00\",\"2022-09-26T04:15:00\",\"2022-09-26T04:30:00\",\"2022-09-26T04:45:00\",\"2022-09-26T05:00:00\",\"2022-09-26T05:15:00\",\"2022-09-26T05:30:00\",\"2022-09-26T05:45:00\",\"2022-09-26T06:00:00\",\"2022-09-26T06:15:00\",\"2022-09-26T06:30:00\",\"2022-09-26T06:45:00\",\"2022-09-26T07:00:00\",\"2022-09-26T07:15:00\",\"2022-09-26T07:30:00\",\"2022-09-26T07:45:00\",\"2022-09-26T08:00:00\",\"2022-09-26T08:15:00\",\"2022-09-26T08:30:00\",\"2022-09-26T08:45:00\",\"2022-09-26T09:00:00\",\"2022-09-26T09:15:00\",\"2022-09-26T09:30:00\",\"2022-09-26T09:45:00\",\"2022-09-26T10:00:00\",\"2022-09-26T10:15:00\",\"2022-09-26T10:30:00\",\"2022-09-26T10:45:00\",\"2022-09-26T11:00:00\",\"2022-09-26T11:15:00\",\"2022-09-26T11:30:00\",\"2022-09-26T11:45:00\",\"2022-09-26T12:00:00\",\"2022-09-26T12:15:00\",\"2022-09-26T12:30:00\",\"2022-09-26T12:45:00\"],\"xaxis\":\"x\",\"y\":[0.4593437945791726,0.44935805991440797,1.0,0.8145506419400856,0.5064194008559201,0.5007132667617689,0.47360912981455067,0.44079885877318115,0.47360912981455067,0.6105563480741797,0.5092724679029957,0.5064194008559201,0.572039942938659,0.572039942938659,0.5520684736091298,0.5977175463623395,0.5634807417974322,0.5834522111269614,0.5092724679029957,0.4479315263908702,0.4037089871611983,0.3152639087018545,0.268188302425107,0.16833095577746077,0.1768901569186876,0.06990014265335236,0.1840228245363766,0.17118402282453637,0.08559201141226819,0.1840228245363766,0.19828815977175462,0.21540656205420827,0.2796005706134094,0.2767475035663338,0.09557774607703282,0.029957203994293864,0.33666191155492153,0.19828815977175462,0.07132667617689016,0.0912981455064194,0.09415121255349501,0.037089871611982884,0.10841654778887304,0.14407988587731813,0.16262482168330955,0.16975748930099857,0.09557774607703282,0.07132667617689016,0.05135520684736091,0.05135520684736091,0.07703281027104136,0.07132667617689016,0.17261055634807418,0.16547788873038516,0.09272467902995721,0.11840228245363767,0.15263908701854492,0.14978601997146934,0.09843081312410841,0.08273894436519258,0.15406562054208273,0.19971469329529243,0.14550641940085593,0.19828815977175462,0.2225392296718973,0.16690442225392296,0.08273894436519258,0.042796005706134094,0.09985734664764621,0.12838801711840228,0.18544935805991442,0.09700427960057062,0.19258202567760344,0.24536376604850213,0.4536376604850214,0.44365192582025675,0.4222539229671897,0.38088445078459343,0.4108416547788873,0.19971469329529243,0.09700427960057062,0.15406562054208273,0.2553495007132668,0.23252496433666192,0.21825962910128388,0.35805991440798857,0.5649072753209701,0.5691868758915835,0.5592011412268189,0.5449358059914408,0.557774607703281,0.42653352353780316,0.4450784593437946,0.4893009985734665,0.34522111269614836,0.4136947218259629,0.4579172610556348,0.5420827389443652,0.15977175463623394,0.08416547788873038,0.07275320970042796,0.06276747503566334,0.16975748930099857,0.33951497860199714,0.38088445078459343,0.3680456490727532,0.1768901569186876,0.14265335235378032,0.07132667617689016,0.15121255349500715,0.08273894436519258,0.11697574893009986,0.14978601997146934,0.024251069900142655,0.07560627674750357,0.1383737517831669,0.21540656205420827,0.2710413694721826,0.1783166904422254,0.19400855920114124,0.25677603423680456,0.14122681883024252,0.26961483594864477,0.05563480741797432,0.05848787446504993,0.14122681883024252,0.06276747503566334,0.15691868758915833,0.14835948644793154,0.14265335235378032,0.1825962910128388,0.09700427960057062,0.17261055634807418,0.19686162624821682,0.11269614835948645,0.1768901569186876,0.011412268188302425,0.011412268188302425,0.029957203994293864,0.09843081312410841,0.09415121255349501,0.0898716119828816,0.05135520684736091,0.029957203994293864,0.06990014265335236,0.042796005706134094,0.05848787446504993,0.06276747503566334,0.08273894436519258,0.0912981455064194,0.16547788873038516,0.07417974322396577,0.09415121255349501,0.047075606276747506,0.11982881597717546,0.19828815977175462,0.20684736091298145,0.09415121255349501,0.19115549215406563,0.12981455064194009,0.08701854493580599,0.1383737517831669,0.09272467902995721,0.17403708987161198,0.2396576319543509,0.2553495007132668,0.17261055634807418,0.09843081312410841,0.11982881597717546,0.1840228245363766,0.10128388017118402,0.1398002853067047,0.11126961483594865,0.1754636233951498,0.15977175463623394,0.11554921540656206,0.2296718972895863,0.2995720399429387,0.15263908701854492,0.08416547788873038,0.1312410841654779,0.052781740370898715,0.037089871611982884,0.037089871611982884,0.08416547788873038,0.06134094151212553,0.12268188302425106,0.26390870185449355,0.25962910128388017,0.24821683309557774,0.33523537803138376,0.12268188302425106,0.14835948644793154,0.20970042796005706,0.14978601997146934,0.10699001426533523,0.2239657631954351,0.20542082738944364,0.1369472182596291,0.20399429386590584,0.2810271041369472,0.14550641940085593,0.2253922967189729,0.24536376604850213,0.20256776034236804,0.09415121255349501,0.16833095577746077,0.10413694721825963,0.16119828815977175,0.05135520684736091,0.09985734664764621,0.16690442225392296,0.24821683309557774,0.24251069900142652,0.2724679029957204,0.14835948644793154,0.11412268188302425,0.1797432239657632,0.2867332382310984,0.340941512125535,0.10413694721825963,0.11269614835948645,0.034236804564907276,0.15977175463623394,0.02710413694721826,0.06562054208273894,0.08273894436519258,0.10556348074179743,0.02710413694721826,0.05991440798858773,0.12268188302425106,0.05848787446504993,0.03566333808844508,0.16690442225392296,0.181169757489301,0.12838801711840228,0.08273894436519258,0.11412268188302425,0.18830242510699002,0.09272467902995721,0.06990014265335236,0.10271041369472182,0.16547788873038516,0.15977175463623394,0.0898716119828816,0.06134094151212553,0.15263908701854492,0.09843081312410841,0.1312410841654779,0.09415121255349501,0.04992867332382311,0.12410841654778887,0.028530670470756064,0.028530670470756064,0.10556348074179743,0.11697574893009986,0.0884450784593438,0.0442225392296719,0.0442225392296719,0.14978601997146934,0.042796005706134094,0.039942938659058486,0.05563480741797432,0.07275320970042796,0.05135520684736091,0.11554921540656206,0.15406562054208273,0.07845934379457917,0.14693295292439373,0.1768901569186876,0.16975748930099857,0.11840228245363767,0.03281027104136947,0.07132667617689016,0.11126961483594865,0.1340941512125535,0.1840228245363766,0.26105563480741795,0.3509272467902996,0.3281027104136947,0.2553495007132668,0.26676176890156916,0.2296718972895863,0.2810271041369472,0.47218259629101283,0.16975748930099857,0.12125534950071326,0.10984308131241084,0.14265335235378032,0.16690442225392296,0.24964336661911554,0.23109843081312412,0.21683309557774608,0.19115549215406563,0.2225392296718973,0.10556348074179743,0.1312410841654779,0.3095577746077033,0.33808844507845937,0.39514978601997147,0.16833095577746077,0.11412268188302425,0.29101283880171186,0.5035663338088445,0.5777460770328102,0.3281027104136947,0.19115549215406563,0.3195435092724679,0.1825962910128388,0.2239657631954351,0.2767475035663338,0.5534950071326676,0.5634807417974322,0.4522111269614836,0.29529243937232524,0.6134094151212554,0.6562054208273894,0.33951497860199714,0.33951497860199714,0.3466476462196862,0.21825962910128388,0.18687589158345222,0.2268188302425107,0.20399429386590584,0.1383737517831669,0.4122681883024251,0.3281027104136947,0.06847360912981455,0.12838801711840228,0.31383737517831667,0.2225392296718973,0.16405135520684735,0.31098430813124106,0.32667617689015693,0.536376604850214,0.1768901569186876,0.2268188302425107,0.5392296718972895,0.06704707560627675,0.05991440798858773,0.03138373751783167,0.03138373751783167,0.06276747503566334,0.03138373751783167,0.019971469329529243,0.06704707560627675,0.04136947218259629,0.2239657631954351,0.2524964336661912,0.07560627674750357,0.21968616262482168,0.3437945791726106,0.2524964336661912,0.1754636233951498,0.181169757489301,0.2211126961483595,0.19828815977175462,0.16119828815977175,0.289586305278174,0.2239657631954351,0.18544935805991442,0.14835948644793154,0.3067047075606277,0.30385164051355207,0.4094151212553495,0.2967189728958631,0.21112696148359486,0.3680456490727532,0.3609129814550642,0.28815977175463625,0.19971469329529243,0.16405135520684735,0.29386590584878747,0.29814550641940085,0.20256776034236804],\"yaxis\":\"y\",\"type\":\"scatter\"}],                        {\"template\":{\"data\":{\"histogram2dcontour\":[{\"type\":\"histogram2dcontour\",\"colorbar\":{\"outlinewidth\":0,\"ticks\":\"\"},\"colorscale\":[[0.0,\"#0d0887\"],[0.1111111111111111,\"#46039f\"],[0.2222222222222222,\"#7201a8\"],[0.3333333333333333,\"#9c179e\"],[0.4444444444444444,\"#bd3786\"],[0.5555555555555556,\"#d8576b\"],[0.6666666666666666,\"#ed7953\"],[0.7777777777777778,\"#fb9f3a\"],[0.8888888888888888,\"#fdca26\"],[1.0,\"#f0f921\"]]}],\"choropleth\":[{\"type\":\"choropleth\",\"colorbar\":{\"outlinewidth\":0,\"ticks\":\"\"}}],\"histogram2d\":[{\"type\":\"histogram2d\",\"colorbar\":{\"outlinewidth\":0,\"ticks\":\"\"},\"colorscale\":[[0.0,\"#0d0887\"],[0.1111111111111111,\"#46039f\"],[0.2222222222222222,\"#7201a8\"],[0.3333333333333333,\"#9c179e\"],[0.4444444444444444,\"#bd3786\"],[0.5555555555555556,\"#d8576b\"],[0.6666666666666666,\"#ed7953\"],[0.7777777777777778,\"#fb9f3a\"],[0.8888888888888888,\"#fdca26\"],[1.0,\"#f0f921\"]]}],\"heatmap\":[{\"type\":\"heatmap\",\"colorbar\":{\"outlinewidth\":0,\"ticks\":\"\"},\"colorscale\":[[0.0,\"#0d0887\"],[0.1111111111111111,\"#46039f\"],[0.2222222222222222,\"#7201a8\"],[0.3333333333333333,\"#9c179e\"],[0.4444444444444444,\"#bd3786\"],[0.5555555555555556,\"#d8576b\"],[0.6666666666666666,\"#ed7953\"],[0.7777777777777778,\"#fb9f3a\"],[0.8888888888888888,\"#fdca26\"],[1.0,\"#f0f921\"]]}],\"heatmapgl\":[{\"type\":\"heatmapgl\",\"colorbar\":{\"outlinewidth\":0,\"ticks\":\"\"},\"colorscale\":[[0.0,\"#0d0887\"],[0.1111111111111111,\"#46039f\"],[0.2222222222222222,\"#7201a8\"],[0.3333333333333333,\"#9c179e\"],[0.4444444444444444,\"#bd3786\"],[0.5555555555555556,\"#d8576b\"],[0.6666666666666666,\"#ed7953\"],[0.7777777777777778,\"#fb9f3a\"],[0.8888888888888888,\"#fdca26\"],[1.0,\"#f0f921\"]]}],\"contourcarpet\":[{\"type\":\"contourcarpet\",\"colorbar\":{\"outlinewidth\":0,\"ticks\":\"\"}}],\"contour\":[{\"type\":\"contour\",\"colorbar\":{\"outlinewidth\":0,\"ticks\":\"\"},\"colorscale\":[[0.0,\"#0d0887\"],[0.1111111111111111,\"#46039f\"],[0.2222222222222222,\"#7201a8\"],[0.3333333333333333,\"#9c179e\"],[0.4444444444444444,\"#bd3786\"],[0.5555555555555556,\"#d8576b\"],[0.6666666666666666,\"#ed7953\"],[0.7777777777777778,\"#fb9f3a\"],[0.8888888888888888,\"#fdca26\"],[1.0,\"#f0f921\"]]}],\"surface\":[{\"type\":\"surface\",\"colorbar\":{\"outlinewidth\":0,\"ticks\":\"\"},\"colorscale\":[[0.0,\"#0d0887\"],[0.1111111111111111,\"#46039f\"],[0.2222222222222222,\"#7201a8\"],[0.3333333333333333,\"#9c179e\"],[0.4444444444444444,\"#bd3786\"],[0.5555555555555556,\"#d8576b\"],[0.6666666666666666,\"#ed7953\"],[0.7777777777777778,\"#fb9f3a\"],[0.8888888888888888,\"#fdca26\"],[1.0,\"#f0f921\"]]}],\"mesh3d\":[{\"type\":\"mesh3d\",\"colorbar\":{\"outlinewidth\":0,\"ticks\":\"\"}}],\"scatter\":[{\"fillpattern\":{\"fillmode\":\"overlay\",\"size\":10,\"solidity\":0.2},\"type\":\"scatter\"}],\"parcoords\":[{\"type\":\"parcoords\",\"line\":{\"colorbar\":{\"outlinewidth\":0,\"ticks\":\"\"}}}],\"scatterpolargl\":[{\"type\":\"scatterpolargl\",\"marker\":{\"colorbar\":{\"outlinewidth\":0,\"ticks\":\"\"}}}],\"bar\":[{\"error_x\":{\"color\":\"#2a3f5f\"},\"error_y\":{\"color\":\"#2a3f5f\"},\"marker\":{\"line\":{\"color\":\"#E5ECF6\",\"width\":0.5},\"pattern\":{\"fillmode\":\"overlay\",\"size\":10,\"solidity\":0.2}},\"type\":\"bar\"}],\"scattergeo\":[{\"type\":\"scattergeo\",\"marker\":{\"colorbar\":{\"outlinewidth\":0,\"ticks\":\"\"}}}],\"scatterpolar\":[{\"type\":\"scatterpolar\",\"marker\":{\"colorbar\":{\"outlinewidth\":0,\"ticks\":\"\"}}}],\"histogram\":[{\"marker\":{\"pattern\":{\"fillmode\":\"overlay\",\"size\":10,\"solidity\":0.2}},\"type\":\"histogram\"}],\"scattergl\":[{\"type\":\"scattergl\",\"marker\":{\"colorbar\":{\"outlinewidth\":0,\"ticks\":\"\"}}}],\"scatter3d\":[{\"type\":\"scatter3d\",\"line\":{\"colorbar\":{\"outlinewidth\":0,\"ticks\":\"\"}},\"marker\":{\"colorbar\":{\"outlinewidth\":0,\"ticks\":\"\"}}}],\"scattermapbox\":[{\"type\":\"scattermapbox\",\"marker\":{\"colorbar\":{\"outlinewidth\":0,\"ticks\":\"\"}}}],\"scatterternary\":[{\"type\":\"scatterternary\",\"marker\":{\"colorbar\":{\"outlinewidth\":0,\"ticks\":\"\"}}}],\"scattercarpet\":[{\"type\":\"scattercarpet\",\"marker\":{\"colorbar\":{\"outlinewidth\":0,\"ticks\":\"\"}}}],\"carpet\":[{\"aaxis\":{\"endlinecolor\":\"#2a3f5f\",\"gridcolor\":\"white\",\"linecolor\":\"white\",\"minorgridcolor\":\"white\",\"startlinecolor\":\"#2a3f5f\"},\"baxis\":{\"endlinecolor\":\"#2a3f5f\",\"gridcolor\":\"white\",\"linecolor\":\"white\",\"minorgridcolor\":\"white\",\"startlinecolor\":\"#2a3f5f\"},\"type\":\"carpet\"}],\"table\":[{\"cells\":{\"fill\":{\"color\":\"#EBF0F8\"},\"line\":{\"color\":\"white\"}},\"header\":{\"fill\":{\"color\":\"#C8D4E3\"},\"line\":{\"color\":\"white\"}},\"type\":\"table\"}],\"barpolar\":[{\"marker\":{\"line\":{\"color\":\"#E5ECF6\",\"width\":0.5},\"pattern\":{\"fillmode\":\"overlay\",\"size\":10,\"solidity\":0.2}},\"type\":\"barpolar\"}],\"pie\":[{\"automargin\":true,\"type\":\"pie\"}]},\"layout\":{\"autotypenumbers\":\"strict\",\"colorway\":[\"#636efa\",\"#EF553B\",\"#00cc96\",\"#ab63fa\",\"#FFA15A\",\"#19d3f3\",\"#FF6692\",\"#B6E880\",\"#FF97FF\",\"#FECB52\"],\"font\":{\"color\":\"#2a3f5f\"},\"hovermode\":\"closest\",\"hoverlabel\":{\"align\":\"left\"},\"paper_bgcolor\":\"white\",\"plot_bgcolor\":\"#E5ECF6\",\"polar\":{\"bgcolor\":\"#E5ECF6\",\"angularaxis\":{\"gridcolor\":\"white\",\"linecolor\":\"white\",\"ticks\":\"\"},\"radialaxis\":{\"gridcolor\":\"white\",\"linecolor\":\"white\",\"ticks\":\"\"}},\"ternary\":{\"bgcolor\":\"#E5ECF6\",\"aaxis\":{\"gridcolor\":\"white\",\"linecolor\":\"white\",\"ticks\":\"\"},\"baxis\":{\"gridcolor\":\"white\",\"linecolor\":\"white\",\"ticks\":\"\"},\"caxis\":{\"gridcolor\":\"white\",\"linecolor\":\"white\",\"ticks\":\"\"}},\"coloraxis\":{\"colorbar\":{\"outlinewidth\":0,\"ticks\":\"\"}},\"colorscale\":{\"sequential\":[[0.0,\"#0d0887\"],[0.1111111111111111,\"#46039f\"],[0.2222222222222222,\"#7201a8\"],[0.3333333333333333,\"#9c179e\"],[0.4444444444444444,\"#bd3786\"],[0.5555555555555556,\"#d8576b\"],[0.6666666666666666,\"#ed7953\"],[0.7777777777777778,\"#fb9f3a\"],[0.8888888888888888,\"#fdca26\"],[1.0,\"#f0f921\"]],\"sequentialminus\":[[0.0,\"#0d0887\"],[0.1111111111111111,\"#46039f\"],[0.2222222222222222,\"#7201a8\"],[0.3333333333333333,\"#9c179e\"],[0.4444444444444444,\"#bd3786\"],[0.5555555555555556,\"#d8576b\"],[0.6666666666666666,\"#ed7953\"],[0.7777777777777778,\"#fb9f3a\"],[0.8888888888888888,\"#fdca26\"],[1.0,\"#f0f921\"]],\"diverging\":[[0,\"#8e0152\"],[0.1,\"#c51b7d\"],[0.2,\"#de77ae\"],[0.3,\"#f1b6da\"],[0.4,\"#fde0ef\"],[0.5,\"#f7f7f7\"],[0.6,\"#e6f5d0\"],[0.7,\"#b8e186\"],[0.8,\"#7fbc41\"],[0.9,\"#4d9221\"],[1,\"#276419\"]]},\"xaxis\":{\"gridcolor\":\"white\",\"linecolor\":\"white\",\"ticks\":\"\",\"title\":{\"standoff\":15},\"zerolinecolor\":\"white\",\"automargin\":true,\"zerolinewidth\":2},\"yaxis\":{\"gridcolor\":\"white\",\"linecolor\":\"white\",\"ticks\":\"\",\"title\":{\"standoff\":15},\"zerolinecolor\":\"white\",\"automargin\":true,\"zerolinewidth\":2},\"scene\":{\"xaxis\":{\"backgroundcolor\":\"#E5ECF6\",\"gridcolor\":\"white\",\"linecolor\":\"white\",\"showbackground\":true,\"ticks\":\"\",\"zerolinecolor\":\"white\",\"gridwidth\":2},\"yaxis\":{\"backgroundcolor\":\"#E5ECF6\",\"gridcolor\":\"white\",\"linecolor\":\"white\",\"showbackground\":true,\"ticks\":\"\",\"zerolinecolor\":\"white\",\"gridwidth\":2},\"zaxis\":{\"backgroundcolor\":\"#E5ECF6\",\"gridcolor\":\"white\",\"linecolor\":\"white\",\"showbackground\":true,\"ticks\":\"\",\"zerolinecolor\":\"white\",\"gridwidth\":2}},\"shapedefaults\":{\"line\":{\"color\":\"#2a3f5f\"}},\"annotationdefaults\":{\"arrowcolor\":\"#2a3f5f\",\"arrowhead\":0,\"arrowwidth\":1},\"geo\":{\"bgcolor\":\"white\",\"landcolor\":\"#E5ECF6\",\"subunitcolor\":\"white\",\"showland\":true,\"showlakes\":true,\"lakecolor\":\"white\"},\"title\":{\"x\":0.05},\"mapbox\":{\"style\":\"light\"}}},\"xaxis\":{\"anchor\":\"y\",\"domain\":[0.0,1.0],\"title\":{\"text\":\"date\"}},\"yaxis\":{\"anchor\":\"x\",\"domain\":[0.0,1.0],\"title\":{\"text\":\"value\"}},\"legend\":{\"title\":{\"text\":\"variable\"},\"tracegroupgap\":0},\"margin\":{\"t\":60}},                        {\"responsive\": true}                    ).then(function(){\n",
       "                            \n",
       "var gd = document.getElementById('5ebaf4b9-411f-46d9-bc07-5e8fd3a7056b');\n",
       "var x = new MutationObserver(function (mutations, observer) {{\n",
       "        var display = window.getComputedStyle(gd).display;\n",
       "        if (!display || display === 'none') {{\n",
       "            console.log([gd, 'removed!']);\n",
       "            Plotly.purge(gd);\n",
       "            observer.disconnect();\n",
       "        }}\n",
       "}});\n",
       "\n",
       "// Listen for the removal of the full notebook cells\n",
       "var notebookContainer = gd.closest('#notebook-container');\n",
       "if (notebookContainer) {{\n",
       "    x.observe(notebookContainer, {childList: true});\n",
       "}}\n",
       "\n",
       "// Listen for the clearing of the current output cell\n",
       "var outputEl = gd.closest('.output');\n",
       "if (outputEl) {{\n",
       "    x.observe(outputEl, {childList: true});\n",
       "}}\n",
       "\n",
       "                        })                };                });            </script>        </div>"
      ]
     },
     "metadata": {},
     "output_type": "display_data"
    }
   ],
   "source": [
    "alllogdf.plot(x=\"date\", y=[\"normalized energy\", \"normalized requests\"], kind=\"line\")"
   ]
  },
  {
   "cell_type": "code",
   "execution_count": null,
   "id": "a09b28d7",
   "metadata": {},
   "outputs": [],
   "source": []
  },
  {
   "cell_type": "code",
   "execution_count": null,
   "id": "78db1e39",
   "metadata": {},
   "outputs": [],
   "source": []
  }
 ],
 "metadata": {
  "kernelspec": {
   "display_name": "Python 3 (ipykernel)",
   "language": "python",
   "name": "python3"
  },
  "language_info": {
   "codemirror_mode": {
    "name": "ipython",
    "version": 3
   },
   "file_extension": ".py",
   "mimetype": "text/x-python",
   "name": "python",
   "nbconvert_exporter": "python",
   "pygments_lexer": "ipython3",
   "version": "3.9.12"
  }
 },
 "nbformat": 4,
 "nbformat_minor": 5
}
