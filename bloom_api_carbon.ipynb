{
 "cells": [
  {
   "cell_type": "code",
   "execution_count": 1,
   "id": "48f7fdd0",
   "metadata": {},
   "outputs": [],
   "source": [
    "import os\n",
    "import matplotlib\n",
    "import numpy as np\n",
    "import pandas as pd\n",
    "import csv\n",
    "import datetime\n",
    "from collections import Counter\n",
    "\n",
    "pd.set_option('display.max_columns', 1000)  # or 1000\n",
    "pd.set_option('display.max_rows', 1000)  # or 1000\n",
    "pd.set_option('display.max_colwidth', None) \n",
    "pd.options.plotting.backend = \"plotly\""
   ]
  },
  {
   "cell_type": "code",
   "execution_count": 2,
   "id": "8d88f29c",
   "metadata": {},
   "outputs": [],
   "source": [
    "directory = \"API-logs/\""
   ]
  },
  {
   "cell_type": "markdown",
   "id": "a34f4cf2",
   "metadata": {},
   "source": [
    "### Code Carbon logs"
   ]
  },
  {
   "cell_type": "code",
   "execution_count": 3,
   "id": "1b752384",
   "metadata": {},
   "outputs": [],
   "source": [
    "carbondf = pd.DataFrame(columns = ['date', 'timestamp', 'RAM energy', 'GPU energy', 'CPU energy', 'Energy consumed'])"
   ]
  },
  {
   "cell_type": "code",
   "execution_count": 4,
   "id": "fd2c88a3",
   "metadata": {},
   "outputs": [
    {
     "data": {
      "text/plain": [
       "143138"
      ]
     },
     "execution_count": 4,
     "metadata": {},
     "output_type": "execute_result"
    }
   ],
   "source": [
    "ins=[]\n",
    "with open(directory+'carbon.log' , 'r') as f:\n",
    "    lines = f.readlines() # readlines creates a list of the lines\n",
    "    for line in lines:\n",
    "        if 'Sep' in line:\n",
    "            ins.append(lines.index(line))\n",
    "len(lines)"
   ]
  },
  {
   "cell_type": "code",
   "execution_count": 5,
   "id": "35c9a001",
   "metadata": {},
   "outputs": [
    {
     "name": "stdout",
     "output_type": "stream",
     "text": [
      "13408\n",
      "36577\n",
      "36573\n",
      "36577\n",
      "20003\n"
     ]
    }
   ],
   "source": [
    "alldates, sep22, sep23, sep24, sep25, sep26= [], [], [], [], [], []\n",
    "sep22 = lines[ins[0]:ins[1]]\n",
    "print(len(sep22))\n",
    "alldates.append(sep22)\n",
    "sep23 = lines[ins[1]:ins[2]]\n",
    "print(len(sep23))\n",
    "alldates.append(sep23)\n",
    "sep24 = lines[ins[2]:ins[3]]\n",
    "alldates.append(sep24)\n",
    "print(len(sep24))\n",
    "sep25 = lines[ins[3]:ins[4]]\n",
    "alldates.append(sep25)\n",
    "print(len(sep25))\n",
    "sep26 = lines[ins[4]:len(lines)]\n",
    "alldates.append(sep26)\n",
    "print(len(sep26))"
   ]
  },
  {
   "cell_type": "code",
   "execution_count": 6,
   "id": "ae398086",
   "metadata": {},
   "outputs": [
    {
     "name": "stdout",
     "output_type": "stream",
     "text": [
      "22/Sep/2022\n",
      "13408\n",
      "23/Sep/2022\n",
      "36577\n",
      "24/Sep/2022\n",
      "36573\n",
      "25/Sep/2022\n",
      "36577\n",
      "26/Sep/2022\n",
      "20003\n"
     ]
    }
   ],
   "source": [
    "count=0\n",
    "for day in alldates: \n",
    "    date= day[0].replace('\\n','')\n",
    "    print(date)\n",
    "    print(len(day))\n",
    "    for i in range(1, len(day), 4):\n",
    "        for line in day[i:i + 4]:\n",
    "            try:\n",
    "                time = line.split('@')[1].split(']')[0].strip()\n",
    "            except:\n",
    "                continue\n",
    "            if 'RAM :' in line: \n",
    "                ram_nrj = line.split('Energy consumed for RAM :')[1].split('RAM')[0].replace('kWh.','')\n",
    "            elif 'GPUs'in line:\n",
    "                gpu_nrj = line.split('Energy consumed for all GPUs :')[1].split('All GPUs')[0].replace('kWh.','')\n",
    "            elif 'CPUs' in line:\n",
    "                cpu_nrj= line.split('Energy consumed for all CPUs :')[1].split('All CPUs')[0].replace('kWh.','')\n",
    "            elif ' electricity used since the begining.' in line:\n",
    "                total_nrj = line.split(' electricity used since the begining.')[0].split(']')[1].replace(' of','').replace('kWh','')\n",
    "        carbondf.loc[count] = [date, time, ram_nrj, gpu_nrj, cpu_nrj, total_nrj]\n",
    "        count+=1"
   ]
  },
  {
   "cell_type": "code",
   "execution_count": 7,
   "id": "c1c382d1",
   "metadata": {},
   "outputs": [],
   "source": [
    "carbondf[\"Energy consumed\"] = pd.to_numeric(carbondf[\"Energy consumed\"])"
   ]
  },
  {
   "cell_type": "code",
   "execution_count": 8,
   "id": "ead2d610",
   "metadata": {},
   "outputs": [
    {
     "data": {
      "text/plain": [
       "(35784, 6)"
      ]
     },
     "execution_count": 8,
     "metadata": {},
     "output_type": "execute_result"
    }
   ],
   "source": [
    "carbondf.shape"
   ]
  },
  {
   "cell_type": "code",
   "execution_count": 9,
   "id": "8f2ced67",
   "metadata": {},
   "outputs": [
    {
     "data": {
      "text/plain": [
       "23/Sep/2022    9144\n",
       "25/Sep/2022    9144\n",
       "24/Sep/2022    9143\n",
       "26/Sep/2022    5001\n",
       "22/Sep/2022    3352\n",
       "Name: date, dtype: int64"
      ]
     },
     "execution_count": 9,
     "metadata": {},
     "output_type": "execute_result"
    }
   ],
   "source": [
    "carbondf.date.value_counts()"
   ]
  },
  {
   "cell_type": "code",
   "execution_count": 10,
   "id": "f26a187f",
   "metadata": {},
   "outputs": [],
   "source": [
    "#carbondf = carbondf.sort_values('Energy consumed')\n",
    "#carbondf = carbondf.reset_index(drop=True)"
   ]
  },
  {
   "cell_type": "code",
   "execution_count": 11,
   "id": "988357d2",
   "metadata": {},
   "outputs": [
    {
     "data": {
      "text/html": [
       "<div>\n",
       "<style scoped>\n",
       "    .dataframe tbody tr th:only-of-type {\n",
       "        vertical-align: middle;\n",
       "    }\n",
       "\n",
       "    .dataframe tbody tr th {\n",
       "        vertical-align: top;\n",
       "    }\n",
       "\n",
       "    .dataframe thead th {\n",
       "        text-align: right;\n",
       "    }\n",
       "</style>\n",
       "<table border=\"1\" class=\"dataframe\">\n",
       "  <thead>\n",
       "    <tr style=\"text-align: right;\">\n",
       "      <th></th>\n",
       "      <th>date</th>\n",
       "      <th>timestamp</th>\n",
       "      <th>RAM energy</th>\n",
       "      <th>GPU energy</th>\n",
       "      <th>CPU energy</th>\n",
       "      <th>Energy consumed</th>\n",
       "    </tr>\n",
       "  </thead>\n",
       "  <tbody>\n",
       "    <tr>\n",
       "      <th>0</th>\n",
       "      <td>22/Sep/2022</td>\n",
       "      <td>15:12:02</td>\n",
       "      <td>0.001395</td>\n",
       "      <td>0.006703</td>\n",
       "      <td>0.000125</td>\n",
       "      <td>0.008222</td>\n",
       "    </tr>\n",
       "    <tr>\n",
       "      <th>1</th>\n",
       "      <td>22/Sep/2022</td>\n",
       "      <td>15:12:12</td>\n",
       "      <td>0.002708</td>\n",
       "      <td>0.013103</td>\n",
       "      <td>0.000243</td>\n",
       "      <td>0.016054</td>\n",
       "    </tr>\n",
       "    <tr>\n",
       "      <th>2</th>\n",
       "      <td>22/Sep/2022</td>\n",
       "      <td>15:12:22</td>\n",
       "      <td>0.004022</td>\n",
       "      <td>0.021320</td>\n",
       "      <td>0.000361</td>\n",
       "      <td>0.025703</td>\n",
       "    </tr>\n",
       "    <tr>\n",
       "      <th>3</th>\n",
       "      <td>22/Sep/2022</td>\n",
       "      <td>15:12:32</td>\n",
       "      <td>0.005333</td>\n",
       "      <td>0.024947</td>\n",
       "      <td>0.000478</td>\n",
       "      <td>0.030758</td>\n",
       "    </tr>\n",
       "    <tr>\n",
       "      <th>4</th>\n",
       "      <td>22/Sep/2022</td>\n",
       "      <td>15:12:42</td>\n",
       "      <td>0.006658</td>\n",
       "      <td>0.028631</td>\n",
       "      <td>0.000597</td>\n",
       "      <td>0.035886</td>\n",
       "    </tr>\n",
       "  </tbody>\n",
       "</table>\n",
       "</div>"
      ],
      "text/plain": [
       "          date timestamp   RAM energy   GPU energy   CPU energy  \\\n",
       "0  22/Sep/2022  15:12:02   0.001395     0.006703     0.000125     \n",
       "1  22/Sep/2022  15:12:12   0.002708     0.013103     0.000243     \n",
       "2  22/Sep/2022  15:12:22   0.004022     0.021320     0.000361     \n",
       "3  22/Sep/2022  15:12:32   0.005333     0.024947     0.000478     \n",
       "4  22/Sep/2022  15:12:42   0.006658     0.028631     0.000597     \n",
       "\n",
       "   Energy consumed  \n",
       "0         0.008222  \n",
       "1         0.016054  \n",
       "2         0.025703  \n",
       "3         0.030758  \n",
       "4         0.035886  "
      ]
     },
     "execution_count": 11,
     "metadata": {},
     "output_type": "execute_result"
    }
   ],
   "source": [
    "carbondf.head()"
   ]
  },
  {
   "cell_type": "code",
   "execution_count": 12,
   "id": "e7e752aa",
   "metadata": {},
   "outputs": [],
   "source": [
    "carbondf['time'] = carbondf['date'] + ' ' + carbondf['timestamp'].astype(str)"
   ]
  },
  {
   "cell_type": "code",
   "execution_count": 13,
   "id": "59e7fb6a",
   "metadata": {},
   "outputs": [],
   "source": [
    "carbondf['time'] = pd.to_datetime(carbondf['time'] , format= \"%d/%b/%Y %H:%M:%S\")"
   ]
  },
  {
   "cell_type": "code",
   "execution_count": 55,
   "id": "86d4c640",
   "metadata": {},
   "outputs": [
    {
     "data": {
      "text/html": [
       "<div>\n",
       "<style scoped>\n",
       "    .dataframe tbody tr th:only-of-type {\n",
       "        vertical-align: middle;\n",
       "    }\n",
       "\n",
       "    .dataframe tbody tr th {\n",
       "        vertical-align: top;\n",
       "    }\n",
       "\n",
       "    .dataframe thead th {\n",
       "        text-align: right;\n",
       "    }\n",
       "</style>\n",
       "<table border=\"1\" class=\"dataframe\">\n",
       "  <thead>\n",
       "    <tr style=\"text-align: right;\">\n",
       "      <th></th>\n",
       "      <th>date</th>\n",
       "      <th>timestamp</th>\n",
       "      <th>RAM energy</th>\n",
       "      <th>GPU energy</th>\n",
       "      <th>CPU energy</th>\n",
       "      <th>Energy consumed</th>\n",
       "      <th>time</th>\n",
       "    </tr>\n",
       "  </thead>\n",
       "  <tbody>\n",
       "    <tr>\n",
       "      <th>0</th>\n",
       "      <td>22/Sep/2022</td>\n",
       "      <td>15:12:02</td>\n",
       "      <td>0.001395</td>\n",
       "      <td>0.006703</td>\n",
       "      <td>0.000125</td>\n",
       "      <td>0.008222</td>\n",
       "      <td>2022-09-22 15:12:02</td>\n",
       "    </tr>\n",
       "    <tr>\n",
       "      <th>1</th>\n",
       "      <td>22/Sep/2022</td>\n",
       "      <td>15:12:12</td>\n",
       "      <td>0.002708</td>\n",
       "      <td>0.013103</td>\n",
       "      <td>0.000243</td>\n",
       "      <td>0.016054</td>\n",
       "      <td>2022-09-22 15:12:12</td>\n",
       "    </tr>\n",
       "    <tr>\n",
       "      <th>2</th>\n",
       "      <td>22/Sep/2022</td>\n",
       "      <td>15:12:22</td>\n",
       "      <td>0.004022</td>\n",
       "      <td>0.021320</td>\n",
       "      <td>0.000361</td>\n",
       "      <td>0.025703</td>\n",
       "      <td>2022-09-22 15:12:22</td>\n",
       "    </tr>\n",
       "    <tr>\n",
       "      <th>3</th>\n",
       "      <td>22/Sep/2022</td>\n",
       "      <td>15:12:32</td>\n",
       "      <td>0.005333</td>\n",
       "      <td>0.024947</td>\n",
       "      <td>0.000478</td>\n",
       "      <td>0.030758</td>\n",
       "      <td>2022-09-22 15:12:32</td>\n",
       "    </tr>\n",
       "    <tr>\n",
       "      <th>4</th>\n",
       "      <td>22/Sep/2022</td>\n",
       "      <td>15:12:42</td>\n",
       "      <td>0.006658</td>\n",
       "      <td>0.028631</td>\n",
       "      <td>0.000597</td>\n",
       "      <td>0.035886</td>\n",
       "      <td>2022-09-22 15:12:42</td>\n",
       "    </tr>\n",
       "  </tbody>\n",
       "</table>\n",
       "</div>"
      ],
      "text/plain": [
       "          date timestamp   RAM energy   GPU energy   CPU energy  \\\n",
       "0  22/Sep/2022  15:12:02   0.001395     0.006703     0.000125     \n",
       "1  22/Sep/2022  15:12:12   0.002708     0.013103     0.000243     \n",
       "2  22/Sep/2022  15:12:22   0.004022     0.021320     0.000361     \n",
       "3  22/Sep/2022  15:12:32   0.005333     0.024947     0.000478     \n",
       "4  22/Sep/2022  15:12:42   0.006658     0.028631     0.000597     \n",
       "\n",
       "   Energy consumed                time  \n",
       "0         0.008222 2022-09-22 15:12:02  \n",
       "1         0.016054 2022-09-22 15:12:12  \n",
       "2         0.025703 2022-09-22 15:12:22  \n",
       "3         0.030758 2022-09-22 15:12:32  \n",
       "4         0.035886 2022-09-22 15:12:42  "
      ]
     },
     "execution_count": 55,
     "metadata": {},
     "output_type": "execute_result"
    }
   ],
   "source": [
    "carbondf.head()"
   ]
  },
  {
   "cell_type": "markdown",
   "id": "a170a7ee",
   "metadata": {},
   "source": [
    "## Energy consumption by 15 min"
   ]
  },
  {
   "cell_type": "code",
   "execution_count": 74,
   "id": "06301bbb",
   "metadata": {},
   "outputs": [
    {
     "data": {
      "text/html": [
       "<div>\n",
       "<style scoped>\n",
       "    .dataframe tbody tr th:only-of-type {\n",
       "        vertical-align: middle;\n",
       "    }\n",
       "\n",
       "    .dataframe tbody tr th {\n",
       "        vertical-align: top;\n",
       "    }\n",
       "\n",
       "    .dataframe thead th {\n",
       "        text-align: right;\n",
       "    }\n",
       "</style>\n",
       "<table border=\"1\" class=\"dataframe\">\n",
       "  <thead>\n",
       "    <tr style=\"text-align: right;\">\n",
       "      <th></th>\n",
       "      <th>date</th>\n",
       "      <th>timestamp</th>\n",
       "      <th>RAM energy</th>\n",
       "      <th>GPU energy</th>\n",
       "      <th>CPU energy</th>\n",
       "      <th>Energy consumed</th>\n",
       "    </tr>\n",
       "    <tr>\n",
       "      <th>time</th>\n",
       "      <th></th>\n",
       "      <th></th>\n",
       "      <th></th>\n",
       "      <th></th>\n",
       "      <th></th>\n",
       "      <th></th>\n",
       "    </tr>\n",
       "  </thead>\n",
       "  <tbody>\n",
       "    <tr>\n",
       "      <th>2022-09-22 15:00:00</th>\n",
       "      <td>22/Sep/2022</td>\n",
       "      <td>15:14:52</td>\n",
       "      <td>0.023764</td>\n",
       "      <td>0.096576</td>\n",
       "      <td>0.002132</td>\n",
       "      <td>0.122471</td>\n",
       "    </tr>\n",
       "    <tr>\n",
       "      <th>2022-09-22 15:15:00</th>\n",
       "      <td>22/Sep/2022</td>\n",
       "      <td>15:29:52</td>\n",
       "      <td>0.142635</td>\n",
       "      <td>0.615689</td>\n",
       "      <td>0.012757</td>\n",
       "      <td>0.763339</td>\n",
       "    </tr>\n",
       "    <tr>\n",
       "      <th>2022-09-22 15:30:00</th>\n",
       "      <td>22/Sep/2022</td>\n",
       "      <td>15:44:52</td>\n",
       "      <td>0.261070</td>\n",
       "      <td>1.247989</td>\n",
       "      <td>0.023264</td>\n",
       "      <td>1.524364</td>\n",
       "    </tr>\n",
       "    <tr>\n",
       "      <th>2022-09-22 15:45:00</th>\n",
       "      <td>22/Sep/2022</td>\n",
       "      <td>15:59:52</td>\n",
       "      <td>0.379544</td>\n",
       "      <td>1.836246</td>\n",
       "      <td>0.033890</td>\n",
       "      <td>2.248372</td>\n",
       "    </tr>\n",
       "    <tr>\n",
       "      <th>2022-09-22 16:00:00</th>\n",
       "      <td>22/Sep/2022</td>\n",
       "      <td>16:14:52</td>\n",
       "      <td>0.497802</td>\n",
       "      <td>2.417497</td>\n",
       "      <td>0.044633</td>\n",
       "      <td>2.959932</td>\n",
       "    </tr>\n",
       "  </tbody>\n",
       "</table>\n",
       "</div>"
      ],
      "text/plain": [
       "                            date timestamp   RAM energy   GPU energy  \\\n",
       "time                                                                   \n",
       "2022-09-22 15:00:00  22/Sep/2022  15:14:52   0.023764     0.096576     \n",
       "2022-09-22 15:15:00  22/Sep/2022  15:29:52   0.142635     0.615689     \n",
       "2022-09-22 15:30:00  22/Sep/2022  15:44:52   0.261070     1.247989     \n",
       "2022-09-22 15:45:00  22/Sep/2022  15:59:52   0.379544     1.836246     \n",
       "2022-09-22 16:00:00  22/Sep/2022  16:14:52   0.497802     2.417497     \n",
       "\n",
       "                      CPU energy  Energy consumed  \n",
       "time                                               \n",
       "2022-09-22 15:00:00   0.002132           0.122471  \n",
       "2022-09-22 15:15:00   0.012757           0.763339  \n",
       "2022-09-22 15:30:00   0.023264           1.524364  \n",
       "2022-09-22 15:45:00   0.033890           2.248372  \n",
       "2022-09-22 16:00:00   0.044633           2.959932  "
      ]
     },
     "execution_count": 74,
     "metadata": {},
     "output_type": "execute_result"
    }
   ],
   "source": [
    "carbonhourdf = carbondf.groupby(pd.Grouper(key = 'time', freq='15min')).last()\n",
    "carbonhourdf.head()"
   ]
  },
  {
   "cell_type": "code",
   "execution_count": 75,
   "id": "13ba356d",
   "metadata": {},
   "outputs": [],
   "source": [
    "carbonhourdf['Energy by interval'] = carbonhourdf[\"Energy consumed\"].diff()"
   ]
  },
  {
   "cell_type": "code",
   "execution_count": 76,
   "id": "22a3435b",
   "metadata": {},
   "outputs": [
    {
     "data": {
      "text/html": [
       "<div>\n",
       "<style scoped>\n",
       "    .dataframe tbody tr th:only-of-type {\n",
       "        vertical-align: middle;\n",
       "    }\n",
       "\n",
       "    .dataframe tbody tr th {\n",
       "        vertical-align: top;\n",
       "    }\n",
       "\n",
       "    .dataframe thead th {\n",
       "        text-align: right;\n",
       "    }\n",
       "</style>\n",
       "<table border=\"1\" class=\"dataframe\">\n",
       "  <thead>\n",
       "    <tr style=\"text-align: right;\">\n",
       "      <th></th>\n",
       "      <th>date</th>\n",
       "      <th>timestamp</th>\n",
       "      <th>RAM energy</th>\n",
       "      <th>GPU energy</th>\n",
       "      <th>CPU energy</th>\n",
       "      <th>Energy consumed</th>\n",
       "      <th>Energy by interval</th>\n",
       "    </tr>\n",
       "    <tr>\n",
       "      <th>time</th>\n",
       "      <th></th>\n",
       "      <th></th>\n",
       "      <th></th>\n",
       "      <th></th>\n",
       "      <th></th>\n",
       "      <th></th>\n",
       "      <th></th>\n",
       "    </tr>\n",
       "  </thead>\n",
       "  <tbody>\n",
       "    <tr>\n",
       "      <th>2022-09-22 15:00:00</th>\n",
       "      <td>22/Sep/2022</td>\n",
       "      <td>15:14:52</td>\n",
       "      <td>0.023764</td>\n",
       "      <td>0.096576</td>\n",
       "      <td>0.002132</td>\n",
       "      <td>0.122471</td>\n",
       "      <td>NaN</td>\n",
       "    </tr>\n",
       "    <tr>\n",
       "      <th>2022-09-22 15:15:00</th>\n",
       "      <td>22/Sep/2022</td>\n",
       "      <td>15:29:52</td>\n",
       "      <td>0.142635</td>\n",
       "      <td>0.615689</td>\n",
       "      <td>0.012757</td>\n",
       "      <td>0.763339</td>\n",
       "      <td>0.640868</td>\n",
       "    </tr>\n",
       "    <tr>\n",
       "      <th>2022-09-22 15:30:00</th>\n",
       "      <td>22/Sep/2022</td>\n",
       "      <td>15:44:52</td>\n",
       "      <td>0.261070</td>\n",
       "      <td>1.247989</td>\n",
       "      <td>0.023264</td>\n",
       "      <td>1.524364</td>\n",
       "      <td>0.761025</td>\n",
       "    </tr>\n",
       "    <tr>\n",
       "      <th>2022-09-22 15:45:00</th>\n",
       "      <td>22/Sep/2022</td>\n",
       "      <td>15:59:52</td>\n",
       "      <td>0.379544</td>\n",
       "      <td>1.836246</td>\n",
       "      <td>0.033890</td>\n",
       "      <td>2.248372</td>\n",
       "      <td>0.724008</td>\n",
       "    </tr>\n",
       "    <tr>\n",
       "      <th>2022-09-22 16:00:00</th>\n",
       "      <td>22/Sep/2022</td>\n",
       "      <td>16:14:52</td>\n",
       "      <td>0.497802</td>\n",
       "      <td>2.417497</td>\n",
       "      <td>0.044633</td>\n",
       "      <td>2.959932</td>\n",
       "      <td>0.711560</td>\n",
       "    </tr>\n",
       "  </tbody>\n",
       "</table>\n",
       "</div>"
      ],
      "text/plain": [
       "                            date timestamp   RAM energy   GPU energy  \\\n",
       "time                                                                   \n",
       "2022-09-22 15:00:00  22/Sep/2022  15:14:52   0.023764     0.096576     \n",
       "2022-09-22 15:15:00  22/Sep/2022  15:29:52   0.142635     0.615689     \n",
       "2022-09-22 15:30:00  22/Sep/2022  15:44:52   0.261070     1.247989     \n",
       "2022-09-22 15:45:00  22/Sep/2022  15:59:52   0.379544     1.836246     \n",
       "2022-09-22 16:00:00  22/Sep/2022  16:14:52   0.497802     2.417497     \n",
       "\n",
       "                      CPU energy  Energy consumed  Energy by interval  \n",
       "time                                                                   \n",
       "2022-09-22 15:00:00   0.002132           0.122471                 NaN  \n",
       "2022-09-22 15:15:00   0.012757           0.763339            0.640868  \n",
       "2022-09-22 15:30:00   0.023264           1.524364            0.761025  \n",
       "2022-09-22 15:45:00   0.033890           2.248372            0.724008  \n",
       "2022-09-22 16:00:00   0.044633           2.959932            0.711560  "
      ]
     },
     "execution_count": 76,
     "metadata": {},
     "output_type": "execute_result"
    }
   ],
   "source": [
    "carbonhourdf.head()"
   ]
  },
  {
   "cell_type": "code",
   "execution_count": 77,
   "id": "f67d744a",
   "metadata": {},
   "outputs": [
    {
     "data": {
      "text/plain": [
       "(375, 7)"
      ]
     },
     "execution_count": 77,
     "metadata": {},
     "output_type": "execute_result"
    }
   ],
   "source": [
    "carbonhourdf = carbonhourdf.iloc[1:-1 , :]\n",
    "carbonhourdf.shape"
   ]
  },
  {
   "cell_type": "code",
   "execution_count": 78,
   "id": "42295a24",
   "metadata": {},
   "outputs": [
    {
     "data": {
      "text/html": [
       "<div>\n",
       "<style scoped>\n",
       "    .dataframe tbody tr th:only-of-type {\n",
       "        vertical-align: middle;\n",
       "    }\n",
       "\n",
       "    .dataframe tbody tr th {\n",
       "        vertical-align: top;\n",
       "    }\n",
       "\n",
       "    .dataframe thead th {\n",
       "        text-align: right;\n",
       "    }\n",
       "</style>\n",
       "<table border=\"1\" class=\"dataframe\">\n",
       "  <thead>\n",
       "    <tr style=\"text-align: right;\">\n",
       "      <th></th>\n",
       "      <th>date</th>\n",
       "      <th>timestamp</th>\n",
       "      <th>RAM energy</th>\n",
       "      <th>GPU energy</th>\n",
       "      <th>CPU energy</th>\n",
       "      <th>Energy consumed</th>\n",
       "      <th>Energy by interval</th>\n",
       "    </tr>\n",
       "    <tr>\n",
       "      <th>time</th>\n",
       "      <th></th>\n",
       "      <th></th>\n",
       "      <th></th>\n",
       "      <th></th>\n",
       "      <th></th>\n",
       "      <th></th>\n",
       "      <th></th>\n",
       "    </tr>\n",
       "  </thead>\n",
       "  <tbody>\n",
       "    <tr>\n",
       "      <th>2022-09-26 11:45:00</th>\n",
       "      <td>26/Sep/2022</td>\n",
       "      <td>11:59:57</td>\n",
       "      <td>44.141909</td>\n",
       "      <td>148.180237</td>\n",
       "      <td>3.943960</td>\n",
       "      <td>196.266107</td>\n",
       "      <td>0.503662</td>\n",
       "    </tr>\n",
       "    <tr>\n",
       "      <th>2022-09-26 12:00:00</th>\n",
       "      <td>26/Sep/2022</td>\n",
       "      <td>12:14:57</td>\n",
       "      <td>44.261019</td>\n",
       "      <td>148.551300</td>\n",
       "      <td>3.954586</td>\n",
       "      <td>196.762001</td>\n",
       "      <td>0.495894</td>\n",
       "    </tr>\n",
       "    <tr>\n",
       "      <th>2022-09-26 12:15:00</th>\n",
       "      <td>26/Sep/2022</td>\n",
       "      <td>12:29:57</td>\n",
       "      <td>44.379839</td>\n",
       "      <td>148.984825</td>\n",
       "      <td>3.965095</td>\n",
       "      <td>197.319061</td>\n",
       "      <td>0.557060</td>\n",
       "    </tr>\n",
       "    <tr>\n",
       "      <th>2022-09-26 12:30:00</th>\n",
       "      <td>26/Sep/2022</td>\n",
       "      <td>12:44:57</td>\n",
       "      <td>44.498630</td>\n",
       "      <td>149.395452</td>\n",
       "      <td>3.975719</td>\n",
       "      <td>197.868487</td>\n",
       "      <td>0.549426</td>\n",
       "    </tr>\n",
       "    <tr>\n",
       "      <th>2022-09-26 12:45:00</th>\n",
       "      <td>26/Sep/2022</td>\n",
       "      <td>12:59:58</td>\n",
       "      <td>44.617507</td>\n",
       "      <td>149.795291</td>\n",
       "      <td>3.986463</td>\n",
       "      <td>198.399261</td>\n",
       "      <td>0.530774</td>\n",
       "    </tr>\n",
       "  </tbody>\n",
       "</table>\n",
       "</div>"
      ],
      "text/plain": [
       "                            date timestamp    RAM energy     GPU energy  \\\n",
       "time                                                                      \n",
       "2022-09-26 11:45:00  26/Sep/2022  11:59:57   44.141909     148.180237     \n",
       "2022-09-26 12:00:00  26/Sep/2022  12:14:57   44.261019     148.551300     \n",
       "2022-09-26 12:15:00  26/Sep/2022  12:29:57   44.379839     148.984825     \n",
       "2022-09-26 12:30:00  26/Sep/2022  12:44:57   44.498630     149.395452     \n",
       "2022-09-26 12:45:00  26/Sep/2022  12:59:58   44.617507     149.795291     \n",
       "\n",
       "                      CPU energy  Energy consumed  Energy by interval  \n",
       "time                                                                   \n",
       "2022-09-26 11:45:00   3.943960         196.266107            0.503662  \n",
       "2022-09-26 12:00:00   3.954586         196.762001            0.495894  \n",
       "2022-09-26 12:15:00   3.965095         197.319061            0.557060  \n",
       "2022-09-26 12:30:00   3.975719         197.868487            0.549426  \n",
       "2022-09-26 12:45:00   3.986463         198.399261            0.530774  "
      ]
     },
     "execution_count": 78,
     "metadata": {},
     "output_type": "execute_result"
    }
   ],
   "source": [
    "carbonhourdf.tail()"
   ]
  },
  {
   "cell_type": "markdown",
   "id": "9537603a",
   "metadata": {},
   "source": [
    "### Server logs"
   ]
  },
  {
   "cell_type": "code",
   "execution_count": 18,
   "id": "0caa4cf1",
   "metadata": {},
   "outputs": [
    {
     "data": {
      "text/plain": [
       "54481"
      ]
     },
     "execution_count": 18,
     "metadata": {},
     "output_type": "execute_result"
    }
   ],
   "source": [
    "with open(directory+'time-server.log','r') as f:\n",
    "    lines = f.readlines() # readlines creates a list of the lines\n",
    "len(lines)"
   ]
  },
  {
   "cell_type": "code",
   "execution_count": 19,
   "id": "48b03504",
   "metadata": {},
   "outputs": [],
   "source": [
    "requestdf = pd.DataFrame(columns = ['date', 'requests'])"
   ]
  },
  {
   "cell_type": "code",
   "execution_count": 20,
   "id": "113d7286",
   "metadata": {},
   "outputs": [],
   "source": [
    "import re\n",
    "count=0\n",
    "for line in lines:\n",
    "    if \"POST /generate HTTP/1.1\" in line:\n",
    "        time = line.split('[')[1].split(']')[0]\n",
    "        code = line.split(\"POST /generate HTTP/1.1\")[1]\n",
    "        code= re.sub(\"[^0-9]\", \"\", code)\n",
    "        code= code.replace('0400','400')\n",
    "        requestdf.loc[count] = [time, code]\n",
    "        count+=1"
   ]
  },
  {
   "cell_type": "code",
   "execution_count": 21,
   "id": "bb8e7f67",
   "metadata": {},
   "outputs": [],
   "source": [
    "requestdf['date'] = pd.to_datetime(requestdf['date'] , format= \"%d/%b/%Y %H:%M:%S\")"
   ]
  },
  {
   "cell_type": "code",
   "execution_count": 40,
   "id": "c801050d",
   "metadata": {},
   "outputs": [],
   "source": [
    "requestdf['requests'] = pd.to_numeric(requestdf['requests'])"
   ]
  },
  {
   "cell_type": "code",
   "execution_count": 61,
   "id": "72a06493",
   "metadata": {},
   "outputs": [
    {
     "data": {
      "text/plain": [
       "200    53332\n",
       "400     1149\n",
       "Name: request, dtype: int64"
      ]
     },
     "execution_count": 61,
     "metadata": {},
     "output_type": "execute_result"
    }
   ],
   "source": [
    "requestdf.request.value_counts()"
   ]
  },
  {
   "cell_type": "markdown",
   "id": "b5ce72a6",
   "metadata": {},
   "source": [
    "200 = OK we answered\n",
    "\n",
    "400 = used bad request\n",
    "\n",
    "503 = refused because no more room in the queue"
   ]
  },
  {
   "cell_type": "markdown",
   "id": "5c4139c1",
   "metadata": {},
   "source": [
    "### Number of requests per 15 minutes"
   ]
  },
  {
   "cell_type": "code",
   "execution_count": 79,
   "id": "250cf1e2",
   "metadata": {},
   "outputs": [
    {
     "data": {
      "text/html": [
       "<div>\n",
       "<style scoped>\n",
       "    .dataframe tbody tr th:only-of-type {\n",
       "        vertical-align: middle;\n",
       "    }\n",
       "\n",
       "    .dataframe tbody tr th {\n",
       "        vertical-align: top;\n",
       "    }\n",
       "\n",
       "    .dataframe thead th {\n",
       "        text-align: right;\n",
       "    }\n",
       "</style>\n",
       "<table border=\"1\" class=\"dataframe\">\n",
       "  <thead>\n",
       "    <tr style=\"text-align: right;\">\n",
       "      <th></th>\n",
       "      <th>request</th>\n",
       "    </tr>\n",
       "    <tr>\n",
       "      <th>date</th>\n",
       "      <th></th>\n",
       "    </tr>\n",
       "  </thead>\n",
       "  <tbody>\n",
       "    <tr>\n",
       "      <th>2022-09-26 11:45:00</th>\n",
       "      <td>140</td>\n",
       "    </tr>\n",
       "    <tr>\n",
       "      <th>2022-09-26 12:00:00</th>\n",
       "      <td>115</td>\n",
       "    </tr>\n",
       "    <tr>\n",
       "      <th>2022-09-26 12:15:00</th>\n",
       "      <td>206</td>\n",
       "    </tr>\n",
       "    <tr>\n",
       "      <th>2022-09-26 12:30:00</th>\n",
       "      <td>209</td>\n",
       "    </tr>\n",
       "    <tr>\n",
       "      <th>2022-09-26 12:45:00</th>\n",
       "      <td>142</td>\n",
       "    </tr>\n",
       "  </tbody>\n",
       "</table>\n",
       "</div>"
      ],
      "text/plain": [
       "                     request\n",
       "date                        \n",
       "2022-09-26 11:45:00      140\n",
       "2022-09-26 12:00:00      115\n",
       "2022-09-26 12:15:00      206\n",
       "2022-09-26 12:30:00      209\n",
       "2022-09-26 12:45:00      142"
      ]
     },
     "execution_count": 79,
     "metadata": {},
     "output_type": "execute_result"
    }
   ],
   "source": [
    "requesthourdf = requestdf.groupby(pd.Grouper(key = 'date', freq='15min')).count()\n",
    "requesthourdf = requesthourdf.iloc[:-1 , :]\n",
    "requesthourdf.tail()"
   ]
  },
  {
   "cell_type": "code",
   "execution_count": 80,
   "id": "e2c49ddc",
   "metadata": {},
   "outputs": [
    {
     "data": {
      "text/html": [
       "<div>\n",
       "<style scoped>\n",
       "    .dataframe tbody tr th:only-of-type {\n",
       "        vertical-align: middle;\n",
       "    }\n",
       "\n",
       "    .dataframe tbody tr th {\n",
       "        vertical-align: top;\n",
       "    }\n",
       "\n",
       "    .dataframe thead th {\n",
       "        text-align: right;\n",
       "    }\n",
       "</style>\n",
       "<table border=\"1\" class=\"dataframe\">\n",
       "  <thead>\n",
       "    <tr style=\"text-align: right;\">\n",
       "      <th></th>\n",
       "      <th>date</th>\n",
       "      <th>timestamp</th>\n",
       "      <th>RAM energy</th>\n",
       "      <th>GPU energy</th>\n",
       "      <th>CPU energy</th>\n",
       "      <th>Energy consumed</th>\n",
       "      <th>Energy by interval</th>\n",
       "      <th>request</th>\n",
       "    </tr>\n",
       "  </thead>\n",
       "  <tbody>\n",
       "    <tr>\n",
       "      <th>2022-09-22 15:15:00</th>\n",
       "      <td>2022-09-22 15:15:00</td>\n",
       "      <td>15:29:52</td>\n",
       "      <td>0.142635</td>\n",
       "      <td>0.615689</td>\n",
       "      <td>0.012757</td>\n",
       "      <td>0.763339</td>\n",
       "      <td>0.640868</td>\n",
       "      <td>322</td>\n",
       "    </tr>\n",
       "    <tr>\n",
       "      <th>2022-09-22 15:30:00</th>\n",
       "      <td>2022-09-22 15:30:00</td>\n",
       "      <td>15:44:52</td>\n",
       "      <td>0.261070</td>\n",
       "      <td>1.247989</td>\n",
       "      <td>0.023264</td>\n",
       "      <td>1.524364</td>\n",
       "      <td>0.761025</td>\n",
       "      <td>315</td>\n",
       "    </tr>\n",
       "    <tr>\n",
       "      <th>2022-09-22 15:45:00</th>\n",
       "      <td>2022-09-22 15:45:00</td>\n",
       "      <td>15:59:52</td>\n",
       "      <td>0.379544</td>\n",
       "      <td>1.836246</td>\n",
       "      <td>0.033890</td>\n",
       "      <td>2.248372</td>\n",
       "      <td>0.724008</td>\n",
       "      <td>701</td>\n",
       "    </tr>\n",
       "    <tr>\n",
       "      <th>2022-09-22 16:00:00</th>\n",
       "      <td>2022-09-22 16:00:00</td>\n",
       "      <td>16:14:52</td>\n",
       "      <td>0.497802</td>\n",
       "      <td>2.417497</td>\n",
       "      <td>0.044633</td>\n",
       "      <td>2.959932</td>\n",
       "      <td>0.711560</td>\n",
       "      <td>571</td>\n",
       "    </tr>\n",
       "    <tr>\n",
       "      <th>2022-09-22 16:15:00</th>\n",
       "      <td>2022-09-22 16:15:00</td>\n",
       "      <td>16:29:52</td>\n",
       "      <td>0.616152</td>\n",
       "      <td>2.986218</td>\n",
       "      <td>0.055257</td>\n",
       "      <td>3.651571</td>\n",
       "      <td>0.691639</td>\n",
       "      <td>355</td>\n",
       "    </tr>\n",
       "  </tbody>\n",
       "</table>\n",
       "</div>"
      ],
      "text/plain": [
       "                                   date timestamp   RAM energy   GPU energy  \\\n",
       "2022-09-22 15:15:00 2022-09-22 15:15:00  15:29:52   0.142635     0.615689     \n",
       "2022-09-22 15:30:00 2022-09-22 15:30:00  15:44:52   0.261070     1.247989     \n",
       "2022-09-22 15:45:00 2022-09-22 15:45:00  15:59:52   0.379544     1.836246     \n",
       "2022-09-22 16:00:00 2022-09-22 16:00:00  16:14:52   0.497802     2.417497     \n",
       "2022-09-22 16:15:00 2022-09-22 16:15:00  16:29:52   0.616152     2.986218     \n",
       "\n",
       "                      CPU energy  Energy consumed  Energy by interval  request  \n",
       "2022-09-22 15:15:00   0.012757           0.763339            0.640868      322  \n",
       "2022-09-22 15:30:00   0.023264           1.524364            0.761025      315  \n",
       "2022-09-22 15:45:00   0.033890           2.248372            0.724008      701  \n",
       "2022-09-22 16:00:00   0.044633           2.959932            0.711560      571  \n",
       "2022-09-22 16:15:00   0.055257           3.651571            0.691639      355  "
      ]
     },
     "execution_count": 80,
     "metadata": {},
     "output_type": "execute_result"
    }
   ],
   "source": [
    "alllogdf = pd.concat([carbonhourdf,requesthourdf], axis=1)\n",
    "alllogdf['date']= alllogdf.index\n",
    "alllogdf.head()"
   ]
  },
  {
   "cell_type": "code",
   "execution_count": 86,
   "id": "80e2a5aa",
   "metadata": {},
   "outputs": [
    {
     "data": {
      "text/html": [
       "<div>\n",
       "<style scoped>\n",
       "    .dataframe tbody tr th:only-of-type {\n",
       "        vertical-align: middle;\n",
       "    }\n",
       "\n",
       "    .dataframe tbody tr th {\n",
       "        vertical-align: top;\n",
       "    }\n",
       "\n",
       "    .dataframe thead th {\n",
       "        text-align: right;\n",
       "    }\n",
       "</style>\n",
       "<table border=\"1\" class=\"dataframe\">\n",
       "  <thead>\n",
       "    <tr style=\"text-align: right;\">\n",
       "      <th></th>\n",
       "      <th>date</th>\n",
       "      <th>timestamp</th>\n",
       "      <th>RAM energy</th>\n",
       "      <th>GPU energy</th>\n",
       "      <th>CPU energy</th>\n",
       "      <th>Energy consumed</th>\n",
       "      <th>Energy by interval</th>\n",
       "      <th>request</th>\n",
       "      <th>normalized energy</th>\n",
       "      <th>normalized requests</th>\n",
       "      <th>log energy</th>\n",
       "      <th>log requests</th>\n",
       "    </tr>\n",
       "  </thead>\n",
       "  <tbody>\n",
       "    <tr>\n",
       "      <th>2022-09-22 15:45:00</th>\n",
       "      <td>2022-09-22 15:45:00</td>\n",
       "      <td>15:59:52</td>\n",
       "      <td>0.379544</td>\n",
       "      <td>1.836246</td>\n",
       "      <td>0.033890</td>\n",
       "      <td>2.248372</td>\n",
       "      <td>0.724008</td>\n",
       "      <td>701</td>\n",
       "      <td>0.951359</td>\n",
       "      <td>1.0</td>\n",
       "      <td>-0.140257</td>\n",
       "      <td>2.845718</td>\n",
       "    </tr>\n",
       "  </tbody>\n",
       "</table>\n",
       "</div>"
      ],
      "text/plain": [
       "                                   date timestamp   RAM energy   GPU energy  \\\n",
       "2022-09-22 15:45:00 2022-09-22 15:45:00  15:59:52   0.379544     1.836246     \n",
       "\n",
       "                      CPU energy  Energy consumed  Energy by interval  \\\n",
       "2022-09-22 15:45:00   0.033890           2.248372            0.724008   \n",
       "\n",
       "                     request  normalized energy  normalized requests  \\\n",
       "2022-09-22 15:45:00      701           0.951359                  1.0   \n",
       "\n",
       "                     log energy  log requests  \n",
       "2022-09-22 15:45:00   -0.140257      2.845718  "
      ]
     },
     "execution_count": 86,
     "metadata": {},
     "output_type": "execute_result"
    }
   ],
   "source": [
    "alllogdf[alllogdf['request']== 701]"
   ]
  },
  {
   "cell_type": "code",
   "execution_count": 82,
   "id": "825db23e",
   "metadata": {},
   "outputs": [],
   "source": [
    "alllogdf[\"normalized energy\"] = alllogdf['Energy by interval'] / alllogdf['Energy by interval'].max()\n",
    "alllogdf[\"normalized requests\"] = alllogdf[\"request\"] / alllogdf[\"request\"].max()"
   ]
  },
  {
   "cell_type": "code",
   "execution_count": 83,
   "id": "8965ed89",
   "metadata": {},
   "outputs": [],
   "source": [
    "alllogdf['log energy'] = np.log10(alllogdf['Energy by interval'] )\n",
    "alllogdf['log requests'] = np.log10(alllogdf['request'] )"
   ]
  },
  {
   "cell_type": "markdown",
   "id": "dbedc46a",
   "metadata": {},
   "source": [
    "### Plotting raw values"
   ]
  },
  {
   "cell_type": "code",
   "execution_count": 84,
   "id": "c1658140",
   "metadata": {},
   "outputs": [
    {
     "data": {
      "application/vnd.plotly.v1+json": {
       "config": {
        "plotlyServerURL": "https://plot.ly"
       },
       "data": [
        {
         "hovertemplate": "variable=Energy by interval<br>date=%{x}<br>value=%{y}<extra></extra>",
         "legendgroup": "Energy by interval",
         "line": {
          "color": "#636efa",
          "dash": "solid"
         },
         "marker": {
          "symbol": "circle"
         },
         "mode": "lines",
         "name": "Energy by interval",
         "orientation": "v",
         "showlegend": true,
         "type": "scatter",
         "x": [
          "2022-09-22T15:15:00",
          "2022-09-22T15:30:00",
          "2022-09-22T15:45:00",
          "2022-09-22T16:00:00",
          "2022-09-22T16:15:00",
          "2022-09-22T16:30:00",
          "2022-09-22T16:45:00",
          "2022-09-22T17:00:00",
          "2022-09-22T17:15:00",
          "2022-09-22T17:30:00",
          "2022-09-22T17:45:00",
          "2022-09-22T18:00:00",
          "2022-09-22T18:15:00",
          "2022-09-22T18:30:00",
          "2022-09-22T18:45:00",
          "2022-09-22T19:00:00",
          "2022-09-22T19:15:00",
          "2022-09-22T19:30:00",
          "2022-09-22T19:45:00",
          "2022-09-22T20:00:00",
          "2022-09-22T20:15:00",
          "2022-09-22T20:30:00",
          "2022-09-22T20:45:00",
          "2022-09-22T21:00:00",
          "2022-09-22T21:15:00",
          "2022-09-22T21:30:00",
          "2022-09-22T21:45:00",
          "2022-09-22T22:00:00",
          "2022-09-22T22:15:00",
          "2022-09-22T22:30:00",
          "2022-09-22T22:45:00",
          "2022-09-22T23:00:00",
          "2022-09-22T23:15:00",
          "2022-09-22T23:30:00",
          "2022-09-22T23:45:00",
          "2022-09-23T00:00:00",
          "2022-09-23T00:15:00",
          "2022-09-23T00:30:00",
          "2022-09-23T00:45:00",
          "2022-09-23T01:00:00",
          "2022-09-23T01:15:00",
          "2022-09-23T01:30:00",
          "2022-09-23T01:45:00",
          "2022-09-23T02:00:00",
          "2022-09-23T02:15:00",
          "2022-09-23T02:30:00",
          "2022-09-23T02:45:00",
          "2022-09-23T03:00:00",
          "2022-09-23T03:15:00",
          "2022-09-23T03:30:00",
          "2022-09-23T03:45:00",
          "2022-09-23T04:00:00",
          "2022-09-23T04:15:00",
          "2022-09-23T04:30:00",
          "2022-09-23T04:45:00",
          "2022-09-23T05:00:00",
          "2022-09-23T05:15:00",
          "2022-09-23T05:30:00",
          "2022-09-23T05:45:00",
          "2022-09-23T06:00:00",
          "2022-09-23T06:15:00",
          "2022-09-23T06:30:00",
          "2022-09-23T06:45:00",
          "2022-09-23T07:00:00",
          "2022-09-23T07:15:00",
          "2022-09-23T07:30:00",
          "2022-09-23T07:45:00",
          "2022-09-23T08:00:00",
          "2022-09-23T08:15:00",
          "2022-09-23T08:30:00",
          "2022-09-23T08:45:00",
          "2022-09-23T09:00:00",
          "2022-09-23T09:15:00",
          "2022-09-23T09:30:00",
          "2022-09-23T09:45:00",
          "2022-09-23T10:00:00",
          "2022-09-23T10:15:00",
          "2022-09-23T10:30:00",
          "2022-09-23T10:45:00",
          "2022-09-23T11:00:00",
          "2022-09-23T11:15:00",
          "2022-09-23T11:30:00",
          "2022-09-23T11:45:00",
          "2022-09-23T12:00:00",
          "2022-09-23T12:15:00",
          "2022-09-23T12:30:00",
          "2022-09-23T12:45:00",
          "2022-09-23T13:00:00",
          "2022-09-23T13:15:00",
          "2022-09-23T13:30:00",
          "2022-09-23T13:45:00",
          "2022-09-23T14:00:00",
          "2022-09-23T14:15:00",
          "2022-09-23T14:30:00",
          "2022-09-23T14:45:00",
          "2022-09-23T15:00:00",
          "2022-09-23T15:15:00",
          "2022-09-23T15:30:00",
          "2022-09-23T15:45:00",
          "2022-09-23T16:00:00",
          "2022-09-23T16:15:00",
          "2022-09-23T16:30:00",
          "2022-09-23T16:45:00",
          "2022-09-23T17:00:00",
          "2022-09-23T17:15:00",
          "2022-09-23T17:30:00",
          "2022-09-23T17:45:00",
          "2022-09-23T18:00:00",
          "2022-09-23T18:15:00",
          "2022-09-23T18:30:00",
          "2022-09-23T18:45:00",
          "2022-09-23T19:00:00",
          "2022-09-23T19:15:00",
          "2022-09-23T19:30:00",
          "2022-09-23T19:45:00",
          "2022-09-23T20:00:00",
          "2022-09-23T20:15:00",
          "2022-09-23T20:30:00",
          "2022-09-23T20:45:00",
          "2022-09-23T21:00:00",
          "2022-09-23T21:15:00",
          "2022-09-23T21:30:00",
          "2022-09-23T21:45:00",
          "2022-09-23T22:00:00",
          "2022-09-23T22:15:00",
          "2022-09-23T22:30:00",
          "2022-09-23T22:45:00",
          "2022-09-23T23:00:00",
          "2022-09-23T23:15:00",
          "2022-09-23T23:30:00",
          "2022-09-23T23:45:00",
          "2022-09-24T00:00:00",
          "2022-09-24T00:15:00",
          "2022-09-24T00:30:00",
          "2022-09-24T00:45:00",
          "2022-09-24T01:00:00",
          "2022-09-24T01:15:00",
          "2022-09-24T01:30:00",
          "2022-09-24T01:45:00",
          "2022-09-24T02:00:00",
          "2022-09-24T02:15:00",
          "2022-09-24T02:30:00",
          "2022-09-24T02:45:00",
          "2022-09-24T03:00:00",
          "2022-09-24T03:15:00",
          "2022-09-24T03:30:00",
          "2022-09-24T03:45:00",
          "2022-09-24T04:00:00",
          "2022-09-24T04:15:00",
          "2022-09-24T04:30:00",
          "2022-09-24T04:45:00",
          "2022-09-24T05:00:00",
          "2022-09-24T05:15:00",
          "2022-09-24T05:30:00",
          "2022-09-24T05:45:00",
          "2022-09-24T06:00:00",
          "2022-09-24T06:15:00",
          "2022-09-24T06:30:00",
          "2022-09-24T06:45:00",
          "2022-09-24T07:00:00",
          "2022-09-24T07:15:00",
          "2022-09-24T07:30:00",
          "2022-09-24T07:45:00",
          "2022-09-24T08:00:00",
          "2022-09-24T08:15:00",
          "2022-09-24T08:30:00",
          "2022-09-24T08:45:00",
          "2022-09-24T09:00:00",
          "2022-09-24T09:15:00",
          "2022-09-24T09:30:00",
          "2022-09-24T09:45:00",
          "2022-09-24T10:00:00",
          "2022-09-24T10:15:00",
          "2022-09-24T10:30:00",
          "2022-09-24T10:45:00",
          "2022-09-24T11:00:00",
          "2022-09-24T11:15:00",
          "2022-09-24T11:30:00",
          "2022-09-24T11:45:00",
          "2022-09-24T12:00:00",
          "2022-09-24T12:15:00",
          "2022-09-24T12:30:00",
          "2022-09-24T12:45:00",
          "2022-09-24T13:00:00",
          "2022-09-24T13:15:00",
          "2022-09-24T13:30:00",
          "2022-09-24T13:45:00",
          "2022-09-24T14:00:00",
          "2022-09-24T14:15:00",
          "2022-09-24T14:30:00",
          "2022-09-24T14:45:00",
          "2022-09-24T15:00:00",
          "2022-09-24T15:15:00",
          "2022-09-24T15:30:00",
          "2022-09-24T15:45:00",
          "2022-09-24T16:00:00",
          "2022-09-24T16:15:00",
          "2022-09-24T16:30:00",
          "2022-09-24T16:45:00",
          "2022-09-24T17:00:00",
          "2022-09-24T17:15:00",
          "2022-09-24T17:30:00",
          "2022-09-24T17:45:00",
          "2022-09-24T18:00:00",
          "2022-09-24T18:15:00",
          "2022-09-24T18:30:00",
          "2022-09-24T18:45:00",
          "2022-09-24T19:00:00",
          "2022-09-24T19:15:00",
          "2022-09-24T19:30:00",
          "2022-09-24T19:45:00",
          "2022-09-24T20:00:00",
          "2022-09-24T20:15:00",
          "2022-09-24T20:30:00",
          "2022-09-24T20:45:00",
          "2022-09-24T21:00:00",
          "2022-09-24T21:15:00",
          "2022-09-24T21:30:00",
          "2022-09-24T21:45:00",
          "2022-09-24T22:00:00",
          "2022-09-24T22:15:00",
          "2022-09-24T22:30:00",
          "2022-09-24T22:45:00",
          "2022-09-24T23:00:00",
          "2022-09-24T23:15:00",
          "2022-09-24T23:30:00",
          "2022-09-24T23:45:00",
          "2022-09-25T00:00:00",
          "2022-09-25T00:15:00",
          "2022-09-25T00:30:00",
          "2022-09-25T00:45:00",
          "2022-09-25T01:00:00",
          "2022-09-25T01:15:00",
          "2022-09-25T01:30:00",
          "2022-09-25T01:45:00",
          "2022-09-25T02:00:00",
          "2022-09-25T02:15:00",
          "2022-09-25T02:30:00",
          "2022-09-25T02:45:00",
          "2022-09-25T03:00:00",
          "2022-09-25T03:15:00",
          "2022-09-25T03:30:00",
          "2022-09-25T03:45:00",
          "2022-09-25T04:00:00",
          "2022-09-25T04:15:00",
          "2022-09-25T04:30:00",
          "2022-09-25T04:45:00",
          "2022-09-25T05:00:00",
          "2022-09-25T05:15:00",
          "2022-09-25T05:30:00",
          "2022-09-25T05:45:00",
          "2022-09-25T06:00:00",
          "2022-09-25T06:15:00",
          "2022-09-25T06:30:00",
          "2022-09-25T06:45:00",
          "2022-09-25T07:00:00",
          "2022-09-25T07:15:00",
          "2022-09-25T07:30:00",
          "2022-09-25T07:45:00",
          "2022-09-25T08:00:00",
          "2022-09-25T08:15:00",
          "2022-09-25T08:30:00",
          "2022-09-25T08:45:00",
          "2022-09-25T09:00:00",
          "2022-09-25T09:15:00",
          "2022-09-25T09:30:00",
          "2022-09-25T09:45:00",
          "2022-09-25T10:00:00",
          "2022-09-25T10:15:00",
          "2022-09-25T10:30:00",
          "2022-09-25T10:45:00",
          "2022-09-25T11:00:00",
          "2022-09-25T11:15:00",
          "2022-09-25T11:30:00",
          "2022-09-25T11:45:00",
          "2022-09-25T12:00:00",
          "2022-09-25T12:15:00",
          "2022-09-25T12:30:00",
          "2022-09-25T12:45:00",
          "2022-09-25T13:00:00",
          "2022-09-25T13:15:00",
          "2022-09-25T13:30:00",
          "2022-09-25T13:45:00",
          "2022-09-25T14:00:00",
          "2022-09-25T14:15:00",
          "2022-09-25T14:30:00",
          "2022-09-25T14:45:00",
          "2022-09-25T15:00:00",
          "2022-09-25T15:15:00",
          "2022-09-25T15:30:00",
          "2022-09-25T15:45:00",
          "2022-09-25T16:00:00",
          "2022-09-25T16:15:00",
          "2022-09-25T16:30:00",
          "2022-09-25T16:45:00",
          "2022-09-25T17:00:00",
          "2022-09-25T17:15:00",
          "2022-09-25T17:30:00",
          "2022-09-25T17:45:00",
          "2022-09-25T18:00:00",
          "2022-09-25T18:15:00",
          "2022-09-25T18:30:00",
          "2022-09-25T18:45:00",
          "2022-09-25T19:00:00",
          "2022-09-25T19:15:00",
          "2022-09-25T19:30:00",
          "2022-09-25T19:45:00",
          "2022-09-25T20:00:00",
          "2022-09-25T20:15:00",
          "2022-09-25T20:30:00",
          "2022-09-25T20:45:00",
          "2022-09-25T21:00:00",
          "2022-09-25T21:15:00",
          "2022-09-25T21:30:00",
          "2022-09-25T21:45:00",
          "2022-09-25T22:00:00",
          "2022-09-25T22:15:00",
          "2022-09-25T22:30:00",
          "2022-09-25T22:45:00",
          "2022-09-25T23:00:00",
          "2022-09-25T23:15:00",
          "2022-09-25T23:30:00",
          "2022-09-25T23:45:00",
          "2022-09-26T00:00:00",
          "2022-09-26T00:15:00",
          "2022-09-26T00:30:00",
          "2022-09-26T00:45:00",
          "2022-09-26T01:00:00",
          "2022-09-26T01:15:00",
          "2022-09-26T01:30:00",
          "2022-09-26T01:45:00",
          "2022-09-26T02:00:00",
          "2022-09-26T02:15:00",
          "2022-09-26T02:30:00",
          "2022-09-26T02:45:00",
          "2022-09-26T03:00:00",
          "2022-09-26T03:15:00",
          "2022-09-26T03:30:00",
          "2022-09-26T03:45:00",
          "2022-09-26T04:00:00",
          "2022-09-26T04:15:00",
          "2022-09-26T04:30:00",
          "2022-09-26T04:45:00",
          "2022-09-26T05:00:00",
          "2022-09-26T05:15:00",
          "2022-09-26T05:30:00",
          "2022-09-26T05:45:00",
          "2022-09-26T06:00:00",
          "2022-09-26T06:15:00",
          "2022-09-26T06:30:00",
          "2022-09-26T06:45:00",
          "2022-09-26T07:00:00",
          "2022-09-26T07:15:00",
          "2022-09-26T07:30:00",
          "2022-09-26T07:45:00",
          "2022-09-26T08:00:00",
          "2022-09-26T08:15:00",
          "2022-09-26T08:30:00",
          "2022-09-26T08:45:00",
          "2022-09-26T09:00:00",
          "2022-09-26T09:15:00",
          "2022-09-26T09:30:00",
          "2022-09-26T09:45:00",
          "2022-09-26T10:00:00",
          "2022-09-26T10:15:00",
          "2022-09-26T10:30:00",
          "2022-09-26T10:45:00",
          "2022-09-26T11:00:00",
          "2022-09-26T11:15:00",
          "2022-09-26T11:30:00",
          "2022-09-26T11:45:00",
          "2022-09-26T12:00:00",
          "2022-09-26T12:15:00",
          "2022-09-26T12:30:00",
          "2022-09-26T12:45:00"
         ],
         "xaxis": "x",
         "y": [
          0.640868,
          0.7610250000000001,
          0.7240079999999998,
          0.71156,
          0.6916390000000003,
          0.7048489999999998,
          0.7051590000000001,
          0.7055379999999998,
          0.6880389999999998,
          0.7182580000000005,
          0.6958469999999997,
          0.7056979999999999,
          0.7103350000000006,
          0.725382999999999,
          0.7225860000000015,
          0.7205589999999997,
          0.7229770000000002,
          0.7106019999999997,
          0.7104009999999992,
          0.7003350000000008,
          0.6173830000000002,
          0.5681750000000001,
          0.5367929999999994,
          0.5118580000000001,
          0.49440099999999987,
          0.48838399999999993,
          0.5137870000000007,
          0.5107909999999976,
          0.49290000000000234,
          0.5005290000000002,
          0.5187089999999976,
          0.5427990000000023,
          0.546599999999998,
          0.5658890000000021,
          0.46661599999999837,
          0.44817700000000116,
          0.5666119999999992,
          0.5040900000000015,
          0.4667519999999996,
          0.47387200000000007,
          0.4731029999999983,
          0.451549,
          0.49149399999999943,
          0.49054100000000034,
          0.49868600000000285,
          0.5028619999999968,
          0.4933150000000026,
          0.46317200000000014,
          0.4632039999999975,
          0.45148400000000066,
          0.46847100000000097,
          0.4582379999999979,
          0.5169550000000029,
          0.4827079999999988,
          0.4697889999999987,
          0.4768329999999992,
          0.49696200000000346,
          0.4963769999999954,
          0.49667400000000583,
          0.473393999999999,
          0.49362399999999695,
          0.522157,
          0.507044999999998,
          0.507123,
          0.5282290000000032,
          0.4966280000000012,
          0.47140699999999924,
          0.4612860000000012,
          0.48719399999999524,
          0.49510100000000534,
          0.5425639999999987,
          0.4907540000000026,
          0.5654319999999942,
          0.5717670000000012,
          0.6836970000000022,
          0.688015,
          0.6791070000000019,
          0.6687820000000002,
          0.7020259999999965,
          0.5460320000000038,
          0.4818730000000002,
          0.5155799999999999,
          0.5336679999999987,
          0.5086999999999975,
          0.514558000000001,
          0.612727999999997,
          0.6937850000000054,
          0.6894919999999942,
          0.6950870000000009,
          0.7122689999999992,
          0.6950789999999998,
          0.6650960000000055,
          0.6871159999999961,
          0.6891889999999989,
          0.6487440000000007,
          0.692021000000004,
          0.6902449999999973,
          0.7124560000000031,
          0.5102569999999957,
          0.4554730000000049,
          0.4762089999999972,
          0.45297399999999755,
          0.5101760000000013,
          0.549153000000004,
          0.5754379999999983,
          0.5411029999999997,
          0.501925,
          0.47851,
          0.4816760000000002,
          0.5176699999999954,
          0.5128370000000047,
          0.4973150000000004,
          0.5091370000000026,
          0.45093599999999867,
          0.49070199999999886,
          0.48288800000000265,
          0.5168319999999937,
          0.5612129999999951,
          0.5254850000000033,
          0.5324980000000039,
          0.5482879999999994,
          0.47862499999999386,
          0.5342130000000083,
          0.4616489999999942,
          0.46525599999999656,
          0.4988840000000039,
          0.48523500000000297,
          0.46592200000000616,
          0.49699199999999166,
          0.5131910000000062,
          0.49569099999999366,
          0.46133600000000285,
          0.5051689999999951,
          0.5033329999999978,
          0.47080300000000364,
          0.5132940000000019,
          0.44228999999999985,
          0.44009200000000703,
          0.4564409999999981,
          0.4620919999999984,
          0.45552700000000357,
          0.4722659999999905,
          0.4626520000000056,
          0.4628670000000028,
          0.48857900000000143,
          0.44476099999999974,
          0.4692879999999917,
          0.4526299999999992,
          0.47862200000000144,
          0.4614909999999952,
          0.522697000000008,
          0.4710709999999949,
          0.46897500000000036,
          0.4587330000000094,
          0.48623800000000017,
          0.5116749999999968,
          0.5358269999999976,
          0.48446099999999603,
          0.5503220000000084,
          0.49280899999999406,
          0.4711110000000076,
          0.5047179999999969,
          0.47615600000000313,
          0.4981999999999971,
          0.547356999999991,
          0.5512740000000065,
          0.5165619999999933,
          0.4728860000000026,
          0.49477100000000007,
          0.5061070000000001,
          0.4798490000000015,
          0.4853389999999962,
          0.4941140000000104,
          0.49813699999999983,
          0.5186339999999916,
          0.540346999999997,
          0.5423710000000028,
          0.556153000000009,
          0.4895360000000011,
          0.4803139999999928,
          0.5093980000000045,
          0.47077499999998906,
          0.4537120000000101,
          0.4591350000000034,
          0.47923499999998853,
          0.5041750000000036,
          0.49903399999999465,
          0.5853090000000094,
          0.5676519999999954,
          0.5159820000000082,
          0.5847979999999922,
          0.46853799999999524,
          0.48592299999999966,
          0.517626000000007,
          0.5463809999999967,
          0.49340600000000734,
          0.5518079999999941,
          0.5506850000000014,
          0.5172440000000051,
          0.5206359999999961,
          0.5396570000000054,
          0.5127459999999928,
          0.5433100000000053,
          0.5349080000000015,
          0.5379349999999903,
          0.5157570000000078,
          0.5031599999999941,
          0.5217439999999982,
          0.5316210000000012,
          0.46875699999999654,
          0.49098200000000247,
          0.5149040000000014,
          0.5330110000000019,
          0.5299669999999992,
          0.47973899999999503,
          0.494679000000005,
          0.5012049999999988,
          0.5147130000000004,
          0.5332240000000041,
          0.5667919999999924,
          0.47791700000000503,
          0.47795100000000446,
          0.46121300000000076,
          0.5020200000000017,
          0.4530689999999993,
          0.47130199999999434,
          0.4902270000000044,
          0.4924429999999944,
          0.4510920000000027,
          0.4650359999999978,
          0.4982619999999969,
          0.45935099999999807,
          0.4485160000000121,
          0.49208199999999636,
          0.5340789999999913,
          0.466622000000001,
          0.474724000000009,
          0.48942300000000216,
          0.48934899999999004,
          0.49708499999999844,
          0.49509700000001544,
          0.48233999999999355,
          0.5071570000000065,
          0.4936749999999961,
          0.4805029999999988,
          0.4647060000000067,
          0.48576099999999656,
          0.45658699999998476,
          0.48721499999999196,
          0.49426500000001283,
          0.46479600000000687,
          0.46856800000000476,
          0.45455899999998906,
          0.443870000000004,
          0.4727959999999882,
          0.48374800000001983,
          0.4587980000000016,
          0.45655199999998786,
          0.45990399999999454,
          0.49141700000001265,
          0.45349899999999366,
          0.46085299999998597,
          0.47964800000002583,
          0.48529599999997686,
          0.45858100000000945,
          0.4975220000000036,
          0.5325619999999844,
          0.463183000000015,
          0.5074109999999905,
          0.5245209999999929,
          0.5210260000000062,
          0.482859000000019,
          0.4563089999999761,
          0.48624500000002513,
          0.4897359999999935,
          0.4803799999999967,
          0.5122969999999896,
          0.539890000000014,
          0.5156020000000012,
          0.5279500000000041,
          0.5136159999999848,
          0.5617450000000019,
          0.5618249999999989,
          0.5416069999999991,
          0.6004849999999919,
          0.5454360000000236,
          0.49628199999997946,
          0.48319900000001326,
          0.5171479999999917,
          0.5333820000000173,
          0.5712879999999814,
          0.5204339999999945,
          0.5515260000000239,
          0.554333999999983,
          0.5748670000000118,
          0.47004499999999894,
          0.4969370000000026,
          0.6211869999999919,
          0.6004039999999975,
          0.609484000000009,
          0.4904080000000022,
          0.517786000000001,
          0.5953399999999931,
          0.7207899999999938,
          0.6782890000000066,
          0.5558560000000057,
          0.5072600000000023,
          0.5521509999999807,
          0.4981200000000001,
          0.5191480000000013,
          0.5631899999999916,
          0.7065190000000143,
          0.6887040000000013,
          0.6035009999999943,
          0.5539090000000044,
          0.6843279999999936,
          0.6857420000000047,
          0.5582229999999981,
          0.5487160000000131,
          0.5531599999999912,
          0.5064490000000035,
          0.5153489999999863,
          0.5492859999999951,
          0.5085870000000057,
          0.5034809999999936,
          0.5726490000000126,
          0.6074169999999981,
          0.4733410000000049,
          0.5098010000000102,
          0.5180560000000014,
          0.49310699999998064,
          0.4821720000000198,
          0.545899999999989,
          0.5365490000000079,
          0.6130509999999845,
          0.5080870000000175,
          0.511825999999985,
          0.5349600000000123,
          0.4741499999999803,
          0.4477020000000209,
          0.4543419999999969,
          0.4528439999999989,
          0.4609439999999836,
          0.43385000000000673,
          0.4448720000000037,
          0.46831000000000245,
          0.46279799999999227,
          0.5301760000000115,
          0.5521139999999889,
          0.47650600000000054,
          0.5516900000000078,
          0.5757270000000005,
          0.5412609999999916,
          0.49659400000001597,
          0.5099379999999769,
          0.5117290000000025,
          0.504273000000012,
          0.5021839999999997,
          0.5566460000000006,
          0.5198759999999822,
          0.48823700000002646,
          0.4986159999999984,
          0.5940099999999973,
          0.5822589999999934,
          0.6003519999999867,
          0.5864310000000046,
          0.5386469999999974,
          0.5928000000000111,
          0.5635780000000068,
          0.5934890000000053,
          0.5036619999999914,
          0.49589399999999273,
          0.557060000000007,
          0.5494259999999827,
          0.5307740000000081
         ],
         "yaxis": "y"
        },
        {
         "hovertemplate": "variable=request<br>date=%{x}<br>value=%{y}<extra></extra>",
         "legendgroup": "request",
         "line": {
          "color": "#EF553B",
          "dash": "solid"
         },
         "marker": {
          "symbol": "circle"
         },
         "mode": "lines",
         "name": "request",
         "orientation": "v",
         "showlegend": true,
         "type": "scatter",
         "x": [
          "2022-09-22T15:15:00",
          "2022-09-22T15:30:00",
          "2022-09-22T15:45:00",
          "2022-09-22T16:00:00",
          "2022-09-22T16:15:00",
          "2022-09-22T16:30:00",
          "2022-09-22T16:45:00",
          "2022-09-22T17:00:00",
          "2022-09-22T17:15:00",
          "2022-09-22T17:30:00",
          "2022-09-22T17:45:00",
          "2022-09-22T18:00:00",
          "2022-09-22T18:15:00",
          "2022-09-22T18:30:00",
          "2022-09-22T18:45:00",
          "2022-09-22T19:00:00",
          "2022-09-22T19:15:00",
          "2022-09-22T19:30:00",
          "2022-09-22T19:45:00",
          "2022-09-22T20:00:00",
          "2022-09-22T20:15:00",
          "2022-09-22T20:30:00",
          "2022-09-22T20:45:00",
          "2022-09-22T21:00:00",
          "2022-09-22T21:15:00",
          "2022-09-22T21:30:00",
          "2022-09-22T21:45:00",
          "2022-09-22T22:00:00",
          "2022-09-22T22:15:00",
          "2022-09-22T22:30:00",
          "2022-09-22T22:45:00",
          "2022-09-22T23:00:00",
          "2022-09-22T23:15:00",
          "2022-09-22T23:30:00",
          "2022-09-22T23:45:00",
          "2022-09-23T00:00:00",
          "2022-09-23T00:15:00",
          "2022-09-23T00:30:00",
          "2022-09-23T00:45:00",
          "2022-09-23T01:00:00",
          "2022-09-23T01:15:00",
          "2022-09-23T01:30:00",
          "2022-09-23T01:45:00",
          "2022-09-23T02:00:00",
          "2022-09-23T02:15:00",
          "2022-09-23T02:30:00",
          "2022-09-23T02:45:00",
          "2022-09-23T03:00:00",
          "2022-09-23T03:15:00",
          "2022-09-23T03:30:00",
          "2022-09-23T03:45:00",
          "2022-09-23T04:00:00",
          "2022-09-23T04:15:00",
          "2022-09-23T04:30:00",
          "2022-09-23T04:45:00",
          "2022-09-23T05:00:00",
          "2022-09-23T05:15:00",
          "2022-09-23T05:30:00",
          "2022-09-23T05:45:00",
          "2022-09-23T06:00:00",
          "2022-09-23T06:15:00",
          "2022-09-23T06:30:00",
          "2022-09-23T06:45:00",
          "2022-09-23T07:00:00",
          "2022-09-23T07:15:00",
          "2022-09-23T07:30:00",
          "2022-09-23T07:45:00",
          "2022-09-23T08:00:00",
          "2022-09-23T08:15:00",
          "2022-09-23T08:30:00",
          "2022-09-23T08:45:00",
          "2022-09-23T09:00:00",
          "2022-09-23T09:15:00",
          "2022-09-23T09:30:00",
          "2022-09-23T09:45:00",
          "2022-09-23T10:00:00",
          "2022-09-23T10:15:00",
          "2022-09-23T10:30:00",
          "2022-09-23T10:45:00",
          "2022-09-23T11:00:00",
          "2022-09-23T11:15:00",
          "2022-09-23T11:30:00",
          "2022-09-23T11:45:00",
          "2022-09-23T12:00:00",
          "2022-09-23T12:15:00",
          "2022-09-23T12:30:00",
          "2022-09-23T12:45:00",
          "2022-09-23T13:00:00",
          "2022-09-23T13:15:00",
          "2022-09-23T13:30:00",
          "2022-09-23T13:45:00",
          "2022-09-23T14:00:00",
          "2022-09-23T14:15:00",
          "2022-09-23T14:30:00",
          "2022-09-23T14:45:00",
          "2022-09-23T15:00:00",
          "2022-09-23T15:15:00",
          "2022-09-23T15:30:00",
          "2022-09-23T15:45:00",
          "2022-09-23T16:00:00",
          "2022-09-23T16:15:00",
          "2022-09-23T16:30:00",
          "2022-09-23T16:45:00",
          "2022-09-23T17:00:00",
          "2022-09-23T17:15:00",
          "2022-09-23T17:30:00",
          "2022-09-23T17:45:00",
          "2022-09-23T18:00:00",
          "2022-09-23T18:15:00",
          "2022-09-23T18:30:00",
          "2022-09-23T18:45:00",
          "2022-09-23T19:00:00",
          "2022-09-23T19:15:00",
          "2022-09-23T19:30:00",
          "2022-09-23T19:45:00",
          "2022-09-23T20:00:00",
          "2022-09-23T20:15:00",
          "2022-09-23T20:30:00",
          "2022-09-23T20:45:00",
          "2022-09-23T21:00:00",
          "2022-09-23T21:15:00",
          "2022-09-23T21:30:00",
          "2022-09-23T21:45:00",
          "2022-09-23T22:00:00",
          "2022-09-23T22:15:00",
          "2022-09-23T22:30:00",
          "2022-09-23T22:45:00",
          "2022-09-23T23:00:00",
          "2022-09-23T23:15:00",
          "2022-09-23T23:30:00",
          "2022-09-23T23:45:00",
          "2022-09-24T00:00:00",
          "2022-09-24T00:15:00",
          "2022-09-24T00:30:00",
          "2022-09-24T00:45:00",
          "2022-09-24T01:00:00",
          "2022-09-24T01:15:00",
          "2022-09-24T01:30:00",
          "2022-09-24T01:45:00",
          "2022-09-24T02:00:00",
          "2022-09-24T02:15:00",
          "2022-09-24T02:30:00",
          "2022-09-24T02:45:00",
          "2022-09-24T03:00:00",
          "2022-09-24T03:15:00",
          "2022-09-24T03:30:00",
          "2022-09-24T03:45:00",
          "2022-09-24T04:00:00",
          "2022-09-24T04:15:00",
          "2022-09-24T04:30:00",
          "2022-09-24T04:45:00",
          "2022-09-24T05:00:00",
          "2022-09-24T05:15:00",
          "2022-09-24T05:30:00",
          "2022-09-24T05:45:00",
          "2022-09-24T06:00:00",
          "2022-09-24T06:15:00",
          "2022-09-24T06:30:00",
          "2022-09-24T06:45:00",
          "2022-09-24T07:00:00",
          "2022-09-24T07:15:00",
          "2022-09-24T07:30:00",
          "2022-09-24T07:45:00",
          "2022-09-24T08:00:00",
          "2022-09-24T08:15:00",
          "2022-09-24T08:30:00",
          "2022-09-24T08:45:00",
          "2022-09-24T09:00:00",
          "2022-09-24T09:15:00",
          "2022-09-24T09:30:00",
          "2022-09-24T09:45:00",
          "2022-09-24T10:00:00",
          "2022-09-24T10:15:00",
          "2022-09-24T10:30:00",
          "2022-09-24T10:45:00",
          "2022-09-24T11:00:00",
          "2022-09-24T11:15:00",
          "2022-09-24T11:30:00",
          "2022-09-24T11:45:00",
          "2022-09-24T12:00:00",
          "2022-09-24T12:15:00",
          "2022-09-24T12:30:00",
          "2022-09-24T12:45:00",
          "2022-09-24T13:00:00",
          "2022-09-24T13:15:00",
          "2022-09-24T13:30:00",
          "2022-09-24T13:45:00",
          "2022-09-24T14:00:00",
          "2022-09-24T14:15:00",
          "2022-09-24T14:30:00",
          "2022-09-24T14:45:00",
          "2022-09-24T15:00:00",
          "2022-09-24T15:15:00",
          "2022-09-24T15:30:00",
          "2022-09-24T15:45:00",
          "2022-09-24T16:00:00",
          "2022-09-24T16:15:00",
          "2022-09-24T16:30:00",
          "2022-09-24T16:45:00",
          "2022-09-24T17:00:00",
          "2022-09-24T17:15:00",
          "2022-09-24T17:30:00",
          "2022-09-24T17:45:00",
          "2022-09-24T18:00:00",
          "2022-09-24T18:15:00",
          "2022-09-24T18:30:00",
          "2022-09-24T18:45:00",
          "2022-09-24T19:00:00",
          "2022-09-24T19:15:00",
          "2022-09-24T19:30:00",
          "2022-09-24T19:45:00",
          "2022-09-24T20:00:00",
          "2022-09-24T20:15:00",
          "2022-09-24T20:30:00",
          "2022-09-24T20:45:00",
          "2022-09-24T21:00:00",
          "2022-09-24T21:15:00",
          "2022-09-24T21:30:00",
          "2022-09-24T21:45:00",
          "2022-09-24T22:00:00",
          "2022-09-24T22:15:00",
          "2022-09-24T22:30:00",
          "2022-09-24T22:45:00",
          "2022-09-24T23:00:00",
          "2022-09-24T23:15:00",
          "2022-09-24T23:30:00",
          "2022-09-24T23:45:00",
          "2022-09-25T00:00:00",
          "2022-09-25T00:15:00",
          "2022-09-25T00:30:00",
          "2022-09-25T00:45:00",
          "2022-09-25T01:00:00",
          "2022-09-25T01:15:00",
          "2022-09-25T01:30:00",
          "2022-09-25T01:45:00",
          "2022-09-25T02:00:00",
          "2022-09-25T02:15:00",
          "2022-09-25T02:30:00",
          "2022-09-25T02:45:00",
          "2022-09-25T03:00:00",
          "2022-09-25T03:15:00",
          "2022-09-25T03:30:00",
          "2022-09-25T03:45:00",
          "2022-09-25T04:00:00",
          "2022-09-25T04:15:00",
          "2022-09-25T04:30:00",
          "2022-09-25T04:45:00",
          "2022-09-25T05:00:00",
          "2022-09-25T05:15:00",
          "2022-09-25T05:30:00",
          "2022-09-25T05:45:00",
          "2022-09-25T06:00:00",
          "2022-09-25T06:15:00",
          "2022-09-25T06:30:00",
          "2022-09-25T06:45:00",
          "2022-09-25T07:00:00",
          "2022-09-25T07:15:00",
          "2022-09-25T07:30:00",
          "2022-09-25T07:45:00",
          "2022-09-25T08:00:00",
          "2022-09-25T08:15:00",
          "2022-09-25T08:30:00",
          "2022-09-25T08:45:00",
          "2022-09-25T09:00:00",
          "2022-09-25T09:15:00",
          "2022-09-25T09:30:00",
          "2022-09-25T09:45:00",
          "2022-09-25T10:00:00",
          "2022-09-25T10:15:00",
          "2022-09-25T10:30:00",
          "2022-09-25T10:45:00",
          "2022-09-25T11:00:00",
          "2022-09-25T11:15:00",
          "2022-09-25T11:30:00",
          "2022-09-25T11:45:00",
          "2022-09-25T12:00:00",
          "2022-09-25T12:15:00",
          "2022-09-25T12:30:00",
          "2022-09-25T12:45:00",
          "2022-09-25T13:00:00",
          "2022-09-25T13:15:00",
          "2022-09-25T13:30:00",
          "2022-09-25T13:45:00",
          "2022-09-25T14:00:00",
          "2022-09-25T14:15:00",
          "2022-09-25T14:30:00",
          "2022-09-25T14:45:00",
          "2022-09-25T15:00:00",
          "2022-09-25T15:15:00",
          "2022-09-25T15:30:00",
          "2022-09-25T15:45:00",
          "2022-09-25T16:00:00",
          "2022-09-25T16:15:00",
          "2022-09-25T16:30:00",
          "2022-09-25T16:45:00",
          "2022-09-25T17:00:00",
          "2022-09-25T17:15:00",
          "2022-09-25T17:30:00",
          "2022-09-25T17:45:00",
          "2022-09-25T18:00:00",
          "2022-09-25T18:15:00",
          "2022-09-25T18:30:00",
          "2022-09-25T18:45:00",
          "2022-09-25T19:00:00",
          "2022-09-25T19:15:00",
          "2022-09-25T19:30:00",
          "2022-09-25T19:45:00",
          "2022-09-25T20:00:00",
          "2022-09-25T20:15:00",
          "2022-09-25T20:30:00",
          "2022-09-25T20:45:00",
          "2022-09-25T21:00:00",
          "2022-09-25T21:15:00",
          "2022-09-25T21:30:00",
          "2022-09-25T21:45:00",
          "2022-09-25T22:00:00",
          "2022-09-25T22:15:00",
          "2022-09-25T22:30:00",
          "2022-09-25T22:45:00",
          "2022-09-25T23:00:00",
          "2022-09-25T23:15:00",
          "2022-09-25T23:30:00",
          "2022-09-25T23:45:00",
          "2022-09-26T00:00:00",
          "2022-09-26T00:15:00",
          "2022-09-26T00:30:00",
          "2022-09-26T00:45:00",
          "2022-09-26T01:00:00",
          "2022-09-26T01:15:00",
          "2022-09-26T01:30:00",
          "2022-09-26T01:45:00",
          "2022-09-26T02:00:00",
          "2022-09-26T02:15:00",
          "2022-09-26T02:30:00",
          "2022-09-26T02:45:00",
          "2022-09-26T03:00:00",
          "2022-09-26T03:15:00",
          "2022-09-26T03:30:00",
          "2022-09-26T03:45:00",
          "2022-09-26T04:00:00",
          "2022-09-26T04:15:00",
          "2022-09-26T04:30:00",
          "2022-09-26T04:45:00",
          "2022-09-26T05:00:00",
          "2022-09-26T05:15:00",
          "2022-09-26T05:30:00",
          "2022-09-26T05:45:00",
          "2022-09-26T06:00:00",
          "2022-09-26T06:15:00",
          "2022-09-26T06:30:00",
          "2022-09-26T06:45:00",
          "2022-09-26T07:00:00",
          "2022-09-26T07:15:00",
          "2022-09-26T07:30:00",
          "2022-09-26T07:45:00",
          "2022-09-26T08:00:00",
          "2022-09-26T08:15:00",
          "2022-09-26T08:30:00",
          "2022-09-26T08:45:00",
          "2022-09-26T09:00:00",
          "2022-09-26T09:15:00",
          "2022-09-26T09:30:00",
          "2022-09-26T09:45:00",
          "2022-09-26T10:00:00",
          "2022-09-26T10:15:00",
          "2022-09-26T10:30:00",
          "2022-09-26T10:45:00",
          "2022-09-26T11:00:00",
          "2022-09-26T11:15:00",
          "2022-09-26T11:30:00",
          "2022-09-26T11:45:00",
          "2022-09-26T12:00:00",
          "2022-09-26T12:15:00",
          "2022-09-26T12:30:00",
          "2022-09-26T12:45:00"
         ],
         "xaxis": "x",
         "y": [
          322,
          315,
          701,
          571,
          355,
          351,
          332,
          309,
          332,
          428,
          357,
          355,
          401,
          401,
          387,
          419,
          395,
          409,
          357,
          314,
          283,
          221,
          188,
          118,
          124,
          49,
          129,
          120,
          60,
          129,
          139,
          151,
          196,
          194,
          67,
          21,
          236,
          139,
          50,
          64,
          66,
          26,
          76,
          101,
          114,
          119,
          67,
          50,
          36,
          36,
          54,
          50,
          121,
          116,
          65,
          83,
          107,
          105,
          69,
          58,
          108,
          140,
          102,
          139,
          156,
          117,
          58,
          30,
          70,
          90,
          130,
          68,
          135,
          172,
          318,
          311,
          296,
          267,
          288,
          140,
          68,
          108,
          179,
          163,
          153,
          251,
          396,
          399,
          392,
          382,
          391,
          299,
          312,
          343,
          242,
          290,
          321,
          380,
          112,
          59,
          51,
          44,
          119,
          238,
          267,
          258,
          124,
          100,
          50,
          106,
          58,
          82,
          105,
          17,
          53,
          97,
          151,
          190,
          125,
          136,
          180,
          99,
          189,
          39,
          41,
          99,
          44,
          110,
          104,
          100,
          128,
          68,
          121,
          138,
          79,
          124,
          8,
          8,
          21,
          69,
          66,
          63,
          36,
          21,
          49,
          30,
          41,
          44,
          58,
          64,
          116,
          52,
          66,
          33,
          84,
          139,
          145,
          66,
          134,
          91,
          61,
          97,
          65,
          122,
          168,
          179,
          121,
          69,
          84,
          129,
          71,
          98,
          78,
          123,
          112,
          81,
          161,
          210,
          107,
          59,
          92,
          37,
          26,
          26,
          59,
          43,
          86,
          185,
          182,
          174,
          235,
          86,
          104,
          147,
          105,
          75,
          157,
          144,
          96,
          143,
          197,
          102,
          158,
          172,
          142,
          66,
          118,
          73,
          113,
          36,
          70,
          117,
          174,
          170,
          191,
          104,
          80,
          126,
          201,
          239,
          73,
          79,
          24,
          112,
          19,
          46,
          58,
          74,
          19,
          42,
          86,
          41,
          25,
          117,
          127,
          90,
          58,
          80,
          132,
          65,
          49,
          72,
          116,
          112,
          63,
          43,
          107,
          69,
          92,
          66,
          35,
          87,
          20,
          20,
          74,
          82,
          62,
          31,
          31,
          105,
          30,
          28,
          39,
          51,
          36,
          81,
          108,
          55,
          103,
          124,
          119,
          83,
          23,
          50,
          78,
          94,
          129,
          183,
          246,
          230,
          179,
          187,
          161,
          197,
          331,
          119,
          85,
          77,
          100,
          117,
          175,
          162,
          152,
          134,
          156,
          74,
          92,
          217,
          237,
          277,
          118,
          80,
          204,
          353,
          405,
          230,
          134,
          224,
          128,
          157,
          194,
          388,
          395,
          317,
          207,
          430,
          460,
          238,
          238,
          243,
          153,
          131,
          159,
          143,
          97,
          289,
          230,
          48,
          90,
          220,
          156,
          115,
          218,
          229,
          376,
          124,
          159,
          378,
          47,
          42,
          22,
          22,
          44,
          22,
          14,
          47,
          29,
          157,
          177,
          53,
          154,
          241,
          177,
          123,
          127,
          155,
          139,
          113,
          203,
          157,
          130,
          104,
          215,
          213,
          287,
          208,
          148,
          258,
          253,
          202,
          140,
          115,
          206,
          209,
          142
         ],
         "yaxis": "y"
        }
       ],
       "layout": {
        "legend": {
         "title": {
          "text": "variable"
         },
         "tracegroupgap": 0
        },
        "margin": {
         "t": 60
        },
        "template": {
         "data": {
          "bar": [
           {
            "error_x": {
             "color": "#2a3f5f"
            },
            "error_y": {
             "color": "#2a3f5f"
            },
            "marker": {
             "line": {
              "color": "#E5ECF6",
              "width": 0.5
             },
             "pattern": {
              "fillmode": "overlay",
              "size": 10,
              "solidity": 0.2
             }
            },
            "type": "bar"
           }
          ],
          "barpolar": [
           {
            "marker": {
             "line": {
              "color": "#E5ECF6",
              "width": 0.5
             },
             "pattern": {
              "fillmode": "overlay",
              "size": 10,
              "solidity": 0.2
             }
            },
            "type": "barpolar"
           }
          ],
          "carpet": [
           {
            "aaxis": {
             "endlinecolor": "#2a3f5f",
             "gridcolor": "white",
             "linecolor": "white",
             "minorgridcolor": "white",
             "startlinecolor": "#2a3f5f"
            },
            "baxis": {
             "endlinecolor": "#2a3f5f",
             "gridcolor": "white",
             "linecolor": "white",
             "minorgridcolor": "white",
             "startlinecolor": "#2a3f5f"
            },
            "type": "carpet"
           }
          ],
          "choropleth": [
           {
            "colorbar": {
             "outlinewidth": 0,
             "ticks": ""
            },
            "type": "choropleth"
           }
          ],
          "contour": [
           {
            "colorbar": {
             "outlinewidth": 0,
             "ticks": ""
            },
            "colorscale": [
             [
              0,
              "#0d0887"
             ],
             [
              0.1111111111111111,
              "#46039f"
             ],
             [
              0.2222222222222222,
              "#7201a8"
             ],
             [
              0.3333333333333333,
              "#9c179e"
             ],
             [
              0.4444444444444444,
              "#bd3786"
             ],
             [
              0.5555555555555556,
              "#d8576b"
             ],
             [
              0.6666666666666666,
              "#ed7953"
             ],
             [
              0.7777777777777778,
              "#fb9f3a"
             ],
             [
              0.8888888888888888,
              "#fdca26"
             ],
             [
              1,
              "#f0f921"
             ]
            ],
            "type": "contour"
           }
          ],
          "contourcarpet": [
           {
            "colorbar": {
             "outlinewidth": 0,
             "ticks": ""
            },
            "type": "contourcarpet"
           }
          ],
          "heatmap": [
           {
            "colorbar": {
             "outlinewidth": 0,
             "ticks": ""
            },
            "colorscale": [
             [
              0,
              "#0d0887"
             ],
             [
              0.1111111111111111,
              "#46039f"
             ],
             [
              0.2222222222222222,
              "#7201a8"
             ],
             [
              0.3333333333333333,
              "#9c179e"
             ],
             [
              0.4444444444444444,
              "#bd3786"
             ],
             [
              0.5555555555555556,
              "#d8576b"
             ],
             [
              0.6666666666666666,
              "#ed7953"
             ],
             [
              0.7777777777777778,
              "#fb9f3a"
             ],
             [
              0.8888888888888888,
              "#fdca26"
             ],
             [
              1,
              "#f0f921"
             ]
            ],
            "type": "heatmap"
           }
          ],
          "heatmapgl": [
           {
            "colorbar": {
             "outlinewidth": 0,
             "ticks": ""
            },
            "colorscale": [
             [
              0,
              "#0d0887"
             ],
             [
              0.1111111111111111,
              "#46039f"
             ],
             [
              0.2222222222222222,
              "#7201a8"
             ],
             [
              0.3333333333333333,
              "#9c179e"
             ],
             [
              0.4444444444444444,
              "#bd3786"
             ],
             [
              0.5555555555555556,
              "#d8576b"
             ],
             [
              0.6666666666666666,
              "#ed7953"
             ],
             [
              0.7777777777777778,
              "#fb9f3a"
             ],
             [
              0.8888888888888888,
              "#fdca26"
             ],
             [
              1,
              "#f0f921"
             ]
            ],
            "type": "heatmapgl"
           }
          ],
          "histogram": [
           {
            "marker": {
             "pattern": {
              "fillmode": "overlay",
              "size": 10,
              "solidity": 0.2
             }
            },
            "type": "histogram"
           }
          ],
          "histogram2d": [
           {
            "colorbar": {
             "outlinewidth": 0,
             "ticks": ""
            },
            "colorscale": [
             [
              0,
              "#0d0887"
             ],
             [
              0.1111111111111111,
              "#46039f"
             ],
             [
              0.2222222222222222,
              "#7201a8"
             ],
             [
              0.3333333333333333,
              "#9c179e"
             ],
             [
              0.4444444444444444,
              "#bd3786"
             ],
             [
              0.5555555555555556,
              "#d8576b"
             ],
             [
              0.6666666666666666,
              "#ed7953"
             ],
             [
              0.7777777777777778,
              "#fb9f3a"
             ],
             [
              0.8888888888888888,
              "#fdca26"
             ],
             [
              1,
              "#f0f921"
             ]
            ],
            "type": "histogram2d"
           }
          ],
          "histogram2dcontour": [
           {
            "colorbar": {
             "outlinewidth": 0,
             "ticks": ""
            },
            "colorscale": [
             [
              0,
              "#0d0887"
             ],
             [
              0.1111111111111111,
              "#46039f"
             ],
             [
              0.2222222222222222,
              "#7201a8"
             ],
             [
              0.3333333333333333,
              "#9c179e"
             ],
             [
              0.4444444444444444,
              "#bd3786"
             ],
             [
              0.5555555555555556,
              "#d8576b"
             ],
             [
              0.6666666666666666,
              "#ed7953"
             ],
             [
              0.7777777777777778,
              "#fb9f3a"
             ],
             [
              0.8888888888888888,
              "#fdca26"
             ],
             [
              1,
              "#f0f921"
             ]
            ],
            "type": "histogram2dcontour"
           }
          ],
          "mesh3d": [
           {
            "colorbar": {
             "outlinewidth": 0,
             "ticks": ""
            },
            "type": "mesh3d"
           }
          ],
          "parcoords": [
           {
            "line": {
             "colorbar": {
              "outlinewidth": 0,
              "ticks": ""
             }
            },
            "type": "parcoords"
           }
          ],
          "pie": [
           {
            "automargin": true,
            "type": "pie"
           }
          ],
          "scatter": [
           {
            "fillpattern": {
             "fillmode": "overlay",
             "size": 10,
             "solidity": 0.2
            },
            "type": "scatter"
           }
          ],
          "scatter3d": [
           {
            "line": {
             "colorbar": {
              "outlinewidth": 0,
              "ticks": ""
             }
            },
            "marker": {
             "colorbar": {
              "outlinewidth": 0,
              "ticks": ""
             }
            },
            "type": "scatter3d"
           }
          ],
          "scattercarpet": [
           {
            "marker": {
             "colorbar": {
              "outlinewidth": 0,
              "ticks": ""
             }
            },
            "type": "scattercarpet"
           }
          ],
          "scattergeo": [
           {
            "marker": {
             "colorbar": {
              "outlinewidth": 0,
              "ticks": ""
             }
            },
            "type": "scattergeo"
           }
          ],
          "scattergl": [
           {
            "marker": {
             "colorbar": {
              "outlinewidth": 0,
              "ticks": ""
             }
            },
            "type": "scattergl"
           }
          ],
          "scattermapbox": [
           {
            "marker": {
             "colorbar": {
              "outlinewidth": 0,
              "ticks": ""
             }
            },
            "type": "scattermapbox"
           }
          ],
          "scatterpolar": [
           {
            "marker": {
             "colorbar": {
              "outlinewidth": 0,
              "ticks": ""
             }
            },
            "type": "scatterpolar"
           }
          ],
          "scatterpolargl": [
           {
            "marker": {
             "colorbar": {
              "outlinewidth": 0,
              "ticks": ""
             }
            },
            "type": "scatterpolargl"
           }
          ],
          "scatterternary": [
           {
            "marker": {
             "colorbar": {
              "outlinewidth": 0,
              "ticks": ""
             }
            },
            "type": "scatterternary"
           }
          ],
          "surface": [
           {
            "colorbar": {
             "outlinewidth": 0,
             "ticks": ""
            },
            "colorscale": [
             [
              0,
              "#0d0887"
             ],
             [
              0.1111111111111111,
              "#46039f"
             ],
             [
              0.2222222222222222,
              "#7201a8"
             ],
             [
              0.3333333333333333,
              "#9c179e"
             ],
             [
              0.4444444444444444,
              "#bd3786"
             ],
             [
              0.5555555555555556,
              "#d8576b"
             ],
             [
              0.6666666666666666,
              "#ed7953"
             ],
             [
              0.7777777777777778,
              "#fb9f3a"
             ],
             [
              0.8888888888888888,
              "#fdca26"
             ],
             [
              1,
              "#f0f921"
             ]
            ],
            "type": "surface"
           }
          ],
          "table": [
           {
            "cells": {
             "fill": {
              "color": "#EBF0F8"
             },
             "line": {
              "color": "white"
             }
            },
            "header": {
             "fill": {
              "color": "#C8D4E3"
             },
             "line": {
              "color": "white"
             }
            },
            "type": "table"
           }
          ]
         },
         "layout": {
          "annotationdefaults": {
           "arrowcolor": "#2a3f5f",
           "arrowhead": 0,
           "arrowwidth": 1
          },
          "autotypenumbers": "strict",
          "coloraxis": {
           "colorbar": {
            "outlinewidth": 0,
            "ticks": ""
           }
          },
          "colorscale": {
           "diverging": [
            [
             0,
             "#8e0152"
            ],
            [
             0.1,
             "#c51b7d"
            ],
            [
             0.2,
             "#de77ae"
            ],
            [
             0.3,
             "#f1b6da"
            ],
            [
             0.4,
             "#fde0ef"
            ],
            [
             0.5,
             "#f7f7f7"
            ],
            [
             0.6,
             "#e6f5d0"
            ],
            [
             0.7,
             "#b8e186"
            ],
            [
             0.8,
             "#7fbc41"
            ],
            [
             0.9,
             "#4d9221"
            ],
            [
             1,
             "#276419"
            ]
           ],
           "sequential": [
            [
             0,
             "#0d0887"
            ],
            [
             0.1111111111111111,
             "#46039f"
            ],
            [
             0.2222222222222222,
             "#7201a8"
            ],
            [
             0.3333333333333333,
             "#9c179e"
            ],
            [
             0.4444444444444444,
             "#bd3786"
            ],
            [
             0.5555555555555556,
             "#d8576b"
            ],
            [
             0.6666666666666666,
             "#ed7953"
            ],
            [
             0.7777777777777778,
             "#fb9f3a"
            ],
            [
             0.8888888888888888,
             "#fdca26"
            ],
            [
             1,
             "#f0f921"
            ]
           ],
           "sequentialminus": [
            [
             0,
             "#0d0887"
            ],
            [
             0.1111111111111111,
             "#46039f"
            ],
            [
             0.2222222222222222,
             "#7201a8"
            ],
            [
             0.3333333333333333,
             "#9c179e"
            ],
            [
             0.4444444444444444,
             "#bd3786"
            ],
            [
             0.5555555555555556,
             "#d8576b"
            ],
            [
             0.6666666666666666,
             "#ed7953"
            ],
            [
             0.7777777777777778,
             "#fb9f3a"
            ],
            [
             0.8888888888888888,
             "#fdca26"
            ],
            [
             1,
             "#f0f921"
            ]
           ]
          },
          "colorway": [
           "#636efa",
           "#EF553B",
           "#00cc96",
           "#ab63fa",
           "#FFA15A",
           "#19d3f3",
           "#FF6692",
           "#B6E880",
           "#FF97FF",
           "#FECB52"
          ],
          "font": {
           "color": "#2a3f5f"
          },
          "geo": {
           "bgcolor": "white",
           "lakecolor": "white",
           "landcolor": "#E5ECF6",
           "showlakes": true,
           "showland": true,
           "subunitcolor": "white"
          },
          "hoverlabel": {
           "align": "left"
          },
          "hovermode": "closest",
          "mapbox": {
           "style": "light"
          },
          "paper_bgcolor": "white",
          "plot_bgcolor": "#E5ECF6",
          "polar": {
           "angularaxis": {
            "gridcolor": "white",
            "linecolor": "white",
            "ticks": ""
           },
           "bgcolor": "#E5ECF6",
           "radialaxis": {
            "gridcolor": "white",
            "linecolor": "white",
            "ticks": ""
           }
          },
          "scene": {
           "xaxis": {
            "backgroundcolor": "#E5ECF6",
            "gridcolor": "white",
            "gridwidth": 2,
            "linecolor": "white",
            "showbackground": true,
            "ticks": "",
            "zerolinecolor": "white"
           },
           "yaxis": {
            "backgroundcolor": "#E5ECF6",
            "gridcolor": "white",
            "gridwidth": 2,
            "linecolor": "white",
            "showbackground": true,
            "ticks": "",
            "zerolinecolor": "white"
           },
           "zaxis": {
            "backgroundcolor": "#E5ECF6",
            "gridcolor": "white",
            "gridwidth": 2,
            "linecolor": "white",
            "showbackground": true,
            "ticks": "",
            "zerolinecolor": "white"
           }
          },
          "shapedefaults": {
           "line": {
            "color": "#2a3f5f"
           }
          },
          "ternary": {
           "aaxis": {
            "gridcolor": "white",
            "linecolor": "white",
            "ticks": ""
           },
           "baxis": {
            "gridcolor": "white",
            "linecolor": "white",
            "ticks": ""
           },
           "bgcolor": "#E5ECF6",
           "caxis": {
            "gridcolor": "white",
            "linecolor": "white",
            "ticks": ""
           }
          },
          "title": {
           "x": 0.05
          },
          "xaxis": {
           "automargin": true,
           "gridcolor": "white",
           "linecolor": "white",
           "ticks": "",
           "title": {
            "standoff": 15
           },
           "zerolinecolor": "white",
           "zerolinewidth": 2
          },
          "yaxis": {
           "automargin": true,
           "gridcolor": "white",
           "linecolor": "white",
           "ticks": "",
           "title": {
            "standoff": 15
           },
           "zerolinecolor": "white",
           "zerolinewidth": 2
          }
         }
        },
        "xaxis": {
         "anchor": "y",
         "domain": [
          0,
          1
         ],
         "title": {
          "text": "date"
         }
        },
        "yaxis": {
         "anchor": "x",
         "domain": [
          0,
          1
         ],
         "title": {
          "text": "value"
         }
        }
       }
      },
      "text/html": [
       "<div>                            <div id=\"ecbfed84-1229-4e47-9261-4167bb33f926\" class=\"plotly-graph-div\" style=\"height:525px; width:100%;\"></div>            <script type=\"text/javascript\">                require([\"plotly\"], function(Plotly) {                    window.PLOTLYENV=window.PLOTLYENV || {};                                    if (document.getElementById(\"ecbfed84-1229-4e47-9261-4167bb33f926\")) {                    Plotly.newPlot(                        \"ecbfed84-1229-4e47-9261-4167bb33f926\",                        [{\"hovertemplate\":\"variable=Energy by interval<br>date=%{x}<br>value=%{y}<extra></extra>\",\"legendgroup\":\"Energy by interval\",\"line\":{\"color\":\"#636efa\",\"dash\":\"solid\"},\"marker\":{\"symbol\":\"circle\"},\"mode\":\"lines\",\"name\":\"Energy by interval\",\"orientation\":\"v\",\"showlegend\":true,\"x\":[\"2022-09-22T15:15:00\",\"2022-09-22T15:30:00\",\"2022-09-22T15:45:00\",\"2022-09-22T16:00:00\",\"2022-09-22T16:15:00\",\"2022-09-22T16:30:00\",\"2022-09-22T16:45:00\",\"2022-09-22T17:00:00\",\"2022-09-22T17:15:00\",\"2022-09-22T17:30:00\",\"2022-09-22T17:45:00\",\"2022-09-22T18:00:00\",\"2022-09-22T18:15:00\",\"2022-09-22T18:30:00\",\"2022-09-22T18:45:00\",\"2022-09-22T19:00:00\",\"2022-09-22T19:15:00\",\"2022-09-22T19:30:00\",\"2022-09-22T19:45:00\",\"2022-09-22T20:00:00\",\"2022-09-22T20:15:00\",\"2022-09-22T20:30:00\",\"2022-09-22T20:45:00\",\"2022-09-22T21:00:00\",\"2022-09-22T21:15:00\",\"2022-09-22T21:30:00\",\"2022-09-22T21:45:00\",\"2022-09-22T22:00:00\",\"2022-09-22T22:15:00\",\"2022-09-22T22:30:00\",\"2022-09-22T22:45:00\",\"2022-09-22T23:00:00\",\"2022-09-22T23:15:00\",\"2022-09-22T23:30:00\",\"2022-09-22T23:45:00\",\"2022-09-23T00:00:00\",\"2022-09-23T00:15:00\",\"2022-09-23T00:30:00\",\"2022-09-23T00:45:00\",\"2022-09-23T01:00:00\",\"2022-09-23T01:15:00\",\"2022-09-23T01:30:00\",\"2022-09-23T01:45:00\",\"2022-09-23T02:00:00\",\"2022-09-23T02:15:00\",\"2022-09-23T02:30:00\",\"2022-09-23T02:45:00\",\"2022-09-23T03:00:00\",\"2022-09-23T03:15:00\",\"2022-09-23T03:30:00\",\"2022-09-23T03:45:00\",\"2022-09-23T04:00:00\",\"2022-09-23T04:15:00\",\"2022-09-23T04:30:00\",\"2022-09-23T04:45:00\",\"2022-09-23T05:00:00\",\"2022-09-23T05:15:00\",\"2022-09-23T05:30:00\",\"2022-09-23T05:45:00\",\"2022-09-23T06:00:00\",\"2022-09-23T06:15:00\",\"2022-09-23T06:30:00\",\"2022-09-23T06:45:00\",\"2022-09-23T07:00:00\",\"2022-09-23T07:15:00\",\"2022-09-23T07:30:00\",\"2022-09-23T07:45:00\",\"2022-09-23T08:00:00\",\"2022-09-23T08:15:00\",\"2022-09-23T08:30:00\",\"2022-09-23T08:45:00\",\"2022-09-23T09:00:00\",\"2022-09-23T09:15:00\",\"2022-09-23T09:30:00\",\"2022-09-23T09:45:00\",\"2022-09-23T10:00:00\",\"2022-09-23T10:15:00\",\"2022-09-23T10:30:00\",\"2022-09-23T10:45:00\",\"2022-09-23T11:00:00\",\"2022-09-23T11:15:00\",\"2022-09-23T11:30:00\",\"2022-09-23T11:45:00\",\"2022-09-23T12:00:00\",\"2022-09-23T12:15:00\",\"2022-09-23T12:30:00\",\"2022-09-23T12:45:00\",\"2022-09-23T13:00:00\",\"2022-09-23T13:15:00\",\"2022-09-23T13:30:00\",\"2022-09-23T13:45:00\",\"2022-09-23T14:00:00\",\"2022-09-23T14:15:00\",\"2022-09-23T14:30:00\",\"2022-09-23T14:45:00\",\"2022-09-23T15:00:00\",\"2022-09-23T15:15:00\",\"2022-09-23T15:30:00\",\"2022-09-23T15:45:00\",\"2022-09-23T16:00:00\",\"2022-09-23T16:15:00\",\"2022-09-23T16:30:00\",\"2022-09-23T16:45:00\",\"2022-09-23T17:00:00\",\"2022-09-23T17:15:00\",\"2022-09-23T17:30:00\",\"2022-09-23T17:45:00\",\"2022-09-23T18:00:00\",\"2022-09-23T18:15:00\",\"2022-09-23T18:30:00\",\"2022-09-23T18:45:00\",\"2022-09-23T19:00:00\",\"2022-09-23T19:15:00\",\"2022-09-23T19:30:00\",\"2022-09-23T19:45:00\",\"2022-09-23T20:00:00\",\"2022-09-23T20:15:00\",\"2022-09-23T20:30:00\",\"2022-09-23T20:45:00\",\"2022-09-23T21:00:00\",\"2022-09-23T21:15:00\",\"2022-09-23T21:30:00\",\"2022-09-23T21:45:00\",\"2022-09-23T22:00:00\",\"2022-09-23T22:15:00\",\"2022-09-23T22:30:00\",\"2022-09-23T22:45:00\",\"2022-09-23T23:00:00\",\"2022-09-23T23:15:00\",\"2022-09-23T23:30:00\",\"2022-09-23T23:45:00\",\"2022-09-24T00:00:00\",\"2022-09-24T00:15:00\",\"2022-09-24T00:30:00\",\"2022-09-24T00:45:00\",\"2022-09-24T01:00:00\",\"2022-09-24T01:15:00\",\"2022-09-24T01:30:00\",\"2022-09-24T01:45:00\",\"2022-09-24T02:00:00\",\"2022-09-24T02:15:00\",\"2022-09-24T02:30:00\",\"2022-09-24T02:45:00\",\"2022-09-24T03:00:00\",\"2022-09-24T03:15:00\",\"2022-09-24T03:30:00\",\"2022-09-24T03:45:00\",\"2022-09-24T04:00:00\",\"2022-09-24T04:15:00\",\"2022-09-24T04:30:00\",\"2022-09-24T04:45:00\",\"2022-09-24T05:00:00\",\"2022-09-24T05:15:00\",\"2022-09-24T05:30:00\",\"2022-09-24T05:45:00\",\"2022-09-24T06:00:00\",\"2022-09-24T06:15:00\",\"2022-09-24T06:30:00\",\"2022-09-24T06:45:00\",\"2022-09-24T07:00:00\",\"2022-09-24T07:15:00\",\"2022-09-24T07:30:00\",\"2022-09-24T07:45:00\",\"2022-09-24T08:00:00\",\"2022-09-24T08:15:00\",\"2022-09-24T08:30:00\",\"2022-09-24T08:45:00\",\"2022-09-24T09:00:00\",\"2022-09-24T09:15:00\",\"2022-09-24T09:30:00\",\"2022-09-24T09:45:00\",\"2022-09-24T10:00:00\",\"2022-09-24T10:15:00\",\"2022-09-24T10:30:00\",\"2022-09-24T10:45:00\",\"2022-09-24T11:00:00\",\"2022-09-24T11:15:00\",\"2022-09-24T11:30:00\",\"2022-09-24T11:45:00\",\"2022-09-24T12:00:00\",\"2022-09-24T12:15:00\",\"2022-09-24T12:30:00\",\"2022-09-24T12:45:00\",\"2022-09-24T13:00:00\",\"2022-09-24T13:15:00\",\"2022-09-24T13:30:00\",\"2022-09-24T13:45:00\",\"2022-09-24T14:00:00\",\"2022-09-24T14:15:00\",\"2022-09-24T14:30:00\",\"2022-09-24T14:45:00\",\"2022-09-24T15:00:00\",\"2022-09-24T15:15:00\",\"2022-09-24T15:30:00\",\"2022-09-24T15:45:00\",\"2022-09-24T16:00:00\",\"2022-09-24T16:15:00\",\"2022-09-24T16:30:00\",\"2022-09-24T16:45:00\",\"2022-09-24T17:00:00\",\"2022-09-24T17:15:00\",\"2022-09-24T17:30:00\",\"2022-09-24T17:45:00\",\"2022-09-24T18:00:00\",\"2022-09-24T18:15:00\",\"2022-09-24T18:30:00\",\"2022-09-24T18:45:00\",\"2022-09-24T19:00:00\",\"2022-09-24T19:15:00\",\"2022-09-24T19:30:00\",\"2022-09-24T19:45:00\",\"2022-09-24T20:00:00\",\"2022-09-24T20:15:00\",\"2022-09-24T20:30:00\",\"2022-09-24T20:45:00\",\"2022-09-24T21:00:00\",\"2022-09-24T21:15:00\",\"2022-09-24T21:30:00\",\"2022-09-24T21:45:00\",\"2022-09-24T22:00:00\",\"2022-09-24T22:15:00\",\"2022-09-24T22:30:00\",\"2022-09-24T22:45:00\",\"2022-09-24T23:00:00\",\"2022-09-24T23:15:00\",\"2022-09-24T23:30:00\",\"2022-09-24T23:45:00\",\"2022-09-25T00:00:00\",\"2022-09-25T00:15:00\",\"2022-09-25T00:30:00\",\"2022-09-25T00:45:00\",\"2022-09-25T01:00:00\",\"2022-09-25T01:15:00\",\"2022-09-25T01:30:00\",\"2022-09-25T01:45:00\",\"2022-09-25T02:00:00\",\"2022-09-25T02:15:00\",\"2022-09-25T02:30:00\",\"2022-09-25T02:45:00\",\"2022-09-25T03:00:00\",\"2022-09-25T03:15:00\",\"2022-09-25T03:30:00\",\"2022-09-25T03:45:00\",\"2022-09-25T04:00:00\",\"2022-09-25T04:15:00\",\"2022-09-25T04:30:00\",\"2022-09-25T04:45:00\",\"2022-09-25T05:00:00\",\"2022-09-25T05:15:00\",\"2022-09-25T05:30:00\",\"2022-09-25T05:45:00\",\"2022-09-25T06:00:00\",\"2022-09-25T06:15:00\",\"2022-09-25T06:30:00\",\"2022-09-25T06:45:00\",\"2022-09-25T07:00:00\",\"2022-09-25T07:15:00\",\"2022-09-25T07:30:00\",\"2022-09-25T07:45:00\",\"2022-09-25T08:00:00\",\"2022-09-25T08:15:00\",\"2022-09-25T08:30:00\",\"2022-09-25T08:45:00\",\"2022-09-25T09:00:00\",\"2022-09-25T09:15:00\",\"2022-09-25T09:30:00\",\"2022-09-25T09:45:00\",\"2022-09-25T10:00:00\",\"2022-09-25T10:15:00\",\"2022-09-25T10:30:00\",\"2022-09-25T10:45:00\",\"2022-09-25T11:00:00\",\"2022-09-25T11:15:00\",\"2022-09-25T11:30:00\",\"2022-09-25T11:45:00\",\"2022-09-25T12:00:00\",\"2022-09-25T12:15:00\",\"2022-09-25T12:30:00\",\"2022-09-25T12:45:00\",\"2022-09-25T13:00:00\",\"2022-09-25T13:15:00\",\"2022-09-25T13:30:00\",\"2022-09-25T13:45:00\",\"2022-09-25T14:00:00\",\"2022-09-25T14:15:00\",\"2022-09-25T14:30:00\",\"2022-09-25T14:45:00\",\"2022-09-25T15:00:00\",\"2022-09-25T15:15:00\",\"2022-09-25T15:30:00\",\"2022-09-25T15:45:00\",\"2022-09-25T16:00:00\",\"2022-09-25T16:15:00\",\"2022-09-25T16:30:00\",\"2022-09-25T16:45:00\",\"2022-09-25T17:00:00\",\"2022-09-25T17:15:00\",\"2022-09-25T17:30:00\",\"2022-09-25T17:45:00\",\"2022-09-25T18:00:00\",\"2022-09-25T18:15:00\",\"2022-09-25T18:30:00\",\"2022-09-25T18:45:00\",\"2022-09-25T19:00:00\",\"2022-09-25T19:15:00\",\"2022-09-25T19:30:00\",\"2022-09-25T19:45:00\",\"2022-09-25T20:00:00\",\"2022-09-25T20:15:00\",\"2022-09-25T20:30:00\",\"2022-09-25T20:45:00\",\"2022-09-25T21:00:00\",\"2022-09-25T21:15:00\",\"2022-09-25T21:30:00\",\"2022-09-25T21:45:00\",\"2022-09-25T22:00:00\",\"2022-09-25T22:15:00\",\"2022-09-25T22:30:00\",\"2022-09-25T22:45:00\",\"2022-09-25T23:00:00\",\"2022-09-25T23:15:00\",\"2022-09-25T23:30:00\",\"2022-09-25T23:45:00\",\"2022-09-26T00:00:00\",\"2022-09-26T00:15:00\",\"2022-09-26T00:30:00\",\"2022-09-26T00:45:00\",\"2022-09-26T01:00:00\",\"2022-09-26T01:15:00\",\"2022-09-26T01:30:00\",\"2022-09-26T01:45:00\",\"2022-09-26T02:00:00\",\"2022-09-26T02:15:00\",\"2022-09-26T02:30:00\",\"2022-09-26T02:45:00\",\"2022-09-26T03:00:00\",\"2022-09-26T03:15:00\",\"2022-09-26T03:30:00\",\"2022-09-26T03:45:00\",\"2022-09-26T04:00:00\",\"2022-09-26T04:15:00\",\"2022-09-26T04:30:00\",\"2022-09-26T04:45:00\",\"2022-09-26T05:00:00\",\"2022-09-26T05:15:00\",\"2022-09-26T05:30:00\",\"2022-09-26T05:45:00\",\"2022-09-26T06:00:00\",\"2022-09-26T06:15:00\",\"2022-09-26T06:30:00\",\"2022-09-26T06:45:00\",\"2022-09-26T07:00:00\",\"2022-09-26T07:15:00\",\"2022-09-26T07:30:00\",\"2022-09-26T07:45:00\",\"2022-09-26T08:00:00\",\"2022-09-26T08:15:00\",\"2022-09-26T08:30:00\",\"2022-09-26T08:45:00\",\"2022-09-26T09:00:00\",\"2022-09-26T09:15:00\",\"2022-09-26T09:30:00\",\"2022-09-26T09:45:00\",\"2022-09-26T10:00:00\",\"2022-09-26T10:15:00\",\"2022-09-26T10:30:00\",\"2022-09-26T10:45:00\",\"2022-09-26T11:00:00\",\"2022-09-26T11:15:00\",\"2022-09-26T11:30:00\",\"2022-09-26T11:45:00\",\"2022-09-26T12:00:00\",\"2022-09-26T12:15:00\",\"2022-09-26T12:30:00\",\"2022-09-26T12:45:00\"],\"xaxis\":\"x\",\"y\":[0.640868,0.7610250000000001,0.7240079999999998,0.71156,0.6916390000000003,0.7048489999999998,0.7051590000000001,0.7055379999999998,0.6880389999999998,0.7182580000000005,0.6958469999999997,0.7056979999999999,0.7103350000000006,0.725382999999999,0.7225860000000015,0.7205589999999997,0.7229770000000002,0.7106019999999997,0.7104009999999992,0.7003350000000008,0.6173830000000002,0.5681750000000001,0.5367929999999994,0.5118580000000001,0.49440099999999987,0.48838399999999993,0.5137870000000007,0.5107909999999976,0.49290000000000234,0.5005290000000002,0.5187089999999976,0.5427990000000023,0.546599999999998,0.5658890000000021,0.46661599999999837,0.44817700000000116,0.5666119999999992,0.5040900000000015,0.4667519999999996,0.47387200000000007,0.4731029999999983,0.451549,0.49149399999999943,0.49054100000000034,0.49868600000000285,0.5028619999999968,0.4933150000000026,0.46317200000000014,0.4632039999999975,0.45148400000000066,0.46847100000000097,0.4582379999999979,0.5169550000000029,0.4827079999999988,0.4697889999999987,0.4768329999999992,0.49696200000000346,0.4963769999999954,0.49667400000000583,0.473393999999999,0.49362399999999695,0.522157,0.507044999999998,0.507123,0.5282290000000032,0.4966280000000012,0.47140699999999924,0.4612860000000012,0.48719399999999524,0.49510100000000534,0.5425639999999987,0.4907540000000026,0.5654319999999942,0.5717670000000012,0.6836970000000022,0.688015,0.6791070000000019,0.6687820000000002,0.7020259999999965,0.5460320000000038,0.4818730000000002,0.5155799999999999,0.5336679999999987,0.5086999999999975,0.514558000000001,0.612727999999997,0.6937850000000054,0.6894919999999942,0.6950870000000009,0.7122689999999992,0.6950789999999998,0.6650960000000055,0.6871159999999961,0.6891889999999989,0.6487440000000007,0.692021000000004,0.6902449999999973,0.7124560000000031,0.5102569999999957,0.4554730000000049,0.4762089999999972,0.45297399999999755,0.5101760000000013,0.549153000000004,0.5754379999999983,0.5411029999999997,0.501925,0.47851,0.4816760000000002,0.5176699999999954,0.5128370000000047,0.4973150000000004,0.5091370000000026,0.45093599999999867,0.49070199999999886,0.48288800000000265,0.5168319999999937,0.5612129999999951,0.5254850000000033,0.5324980000000039,0.5482879999999994,0.47862499999999386,0.5342130000000083,0.4616489999999942,0.46525599999999656,0.4988840000000039,0.48523500000000297,0.46592200000000616,0.49699199999999166,0.5131910000000062,0.49569099999999366,0.46133600000000285,0.5051689999999951,0.5033329999999978,0.47080300000000364,0.5132940000000019,0.44228999999999985,0.44009200000000703,0.4564409999999981,0.4620919999999984,0.45552700000000357,0.4722659999999905,0.4626520000000056,0.4628670000000028,0.48857900000000143,0.44476099999999974,0.4692879999999917,0.4526299999999992,0.47862200000000144,0.4614909999999952,0.522697000000008,0.4710709999999949,0.46897500000000036,0.4587330000000094,0.48623800000000017,0.5116749999999968,0.5358269999999976,0.48446099999999603,0.5503220000000084,0.49280899999999406,0.4711110000000076,0.5047179999999969,0.47615600000000313,0.4981999999999971,0.547356999999991,0.5512740000000065,0.5165619999999933,0.4728860000000026,0.49477100000000007,0.5061070000000001,0.4798490000000015,0.4853389999999962,0.4941140000000104,0.49813699999999983,0.5186339999999916,0.540346999999997,0.5423710000000028,0.556153000000009,0.4895360000000011,0.4803139999999928,0.5093980000000045,0.47077499999998906,0.4537120000000101,0.4591350000000034,0.47923499999998853,0.5041750000000036,0.49903399999999465,0.5853090000000094,0.5676519999999954,0.5159820000000082,0.5847979999999922,0.46853799999999524,0.48592299999999966,0.517626000000007,0.5463809999999967,0.49340600000000734,0.5518079999999941,0.5506850000000014,0.5172440000000051,0.5206359999999961,0.5396570000000054,0.5127459999999928,0.5433100000000053,0.5349080000000015,0.5379349999999903,0.5157570000000078,0.5031599999999941,0.5217439999999982,0.5316210000000012,0.46875699999999654,0.49098200000000247,0.5149040000000014,0.5330110000000019,0.5299669999999992,0.47973899999999503,0.494679000000005,0.5012049999999988,0.5147130000000004,0.5332240000000041,0.5667919999999924,0.47791700000000503,0.47795100000000446,0.46121300000000076,0.5020200000000017,0.4530689999999993,0.47130199999999434,0.4902270000000044,0.4924429999999944,0.4510920000000027,0.4650359999999978,0.4982619999999969,0.45935099999999807,0.4485160000000121,0.49208199999999636,0.5340789999999913,0.466622000000001,0.474724000000009,0.48942300000000216,0.48934899999999004,0.49708499999999844,0.49509700000001544,0.48233999999999355,0.5071570000000065,0.4936749999999961,0.4805029999999988,0.4647060000000067,0.48576099999999656,0.45658699999998476,0.48721499999999196,0.49426500000001283,0.46479600000000687,0.46856800000000476,0.45455899999998906,0.443870000000004,0.4727959999999882,0.48374800000001983,0.4587980000000016,0.45655199999998786,0.45990399999999454,0.49141700000001265,0.45349899999999366,0.46085299999998597,0.47964800000002583,0.48529599999997686,0.45858100000000945,0.4975220000000036,0.5325619999999844,0.463183000000015,0.5074109999999905,0.5245209999999929,0.5210260000000062,0.482859000000019,0.4563089999999761,0.48624500000002513,0.4897359999999935,0.4803799999999967,0.5122969999999896,0.539890000000014,0.5156020000000012,0.5279500000000041,0.5136159999999848,0.5617450000000019,0.5618249999999989,0.5416069999999991,0.6004849999999919,0.5454360000000236,0.49628199999997946,0.48319900000001326,0.5171479999999917,0.5333820000000173,0.5712879999999814,0.5204339999999945,0.5515260000000239,0.554333999999983,0.5748670000000118,0.47004499999999894,0.4969370000000026,0.6211869999999919,0.6004039999999975,0.609484000000009,0.4904080000000022,0.517786000000001,0.5953399999999931,0.7207899999999938,0.6782890000000066,0.5558560000000057,0.5072600000000023,0.5521509999999807,0.4981200000000001,0.5191480000000013,0.5631899999999916,0.7065190000000143,0.6887040000000013,0.6035009999999943,0.5539090000000044,0.6843279999999936,0.6857420000000047,0.5582229999999981,0.5487160000000131,0.5531599999999912,0.5064490000000035,0.5153489999999863,0.5492859999999951,0.5085870000000057,0.5034809999999936,0.5726490000000126,0.6074169999999981,0.4733410000000049,0.5098010000000102,0.5180560000000014,0.49310699999998064,0.4821720000000198,0.545899999999989,0.5365490000000079,0.6130509999999845,0.5080870000000175,0.511825999999985,0.5349600000000123,0.4741499999999803,0.4477020000000209,0.4543419999999969,0.4528439999999989,0.4609439999999836,0.43385000000000673,0.4448720000000037,0.46831000000000245,0.46279799999999227,0.5301760000000115,0.5521139999999889,0.47650600000000054,0.5516900000000078,0.5757270000000005,0.5412609999999916,0.49659400000001597,0.5099379999999769,0.5117290000000025,0.504273000000012,0.5021839999999997,0.5566460000000006,0.5198759999999822,0.48823700000002646,0.4986159999999984,0.5940099999999973,0.5822589999999934,0.6003519999999867,0.5864310000000046,0.5386469999999974,0.5928000000000111,0.5635780000000068,0.5934890000000053,0.5036619999999914,0.49589399999999273,0.557060000000007,0.5494259999999827,0.5307740000000081],\"yaxis\":\"y\",\"type\":\"scatter\"},{\"hovertemplate\":\"variable=request<br>date=%{x}<br>value=%{y}<extra></extra>\",\"legendgroup\":\"request\",\"line\":{\"color\":\"#EF553B\",\"dash\":\"solid\"},\"marker\":{\"symbol\":\"circle\"},\"mode\":\"lines\",\"name\":\"request\",\"orientation\":\"v\",\"showlegend\":true,\"x\":[\"2022-09-22T15:15:00\",\"2022-09-22T15:30:00\",\"2022-09-22T15:45:00\",\"2022-09-22T16:00:00\",\"2022-09-22T16:15:00\",\"2022-09-22T16:30:00\",\"2022-09-22T16:45:00\",\"2022-09-22T17:00:00\",\"2022-09-22T17:15:00\",\"2022-09-22T17:30:00\",\"2022-09-22T17:45:00\",\"2022-09-22T18:00:00\",\"2022-09-22T18:15:00\",\"2022-09-22T18:30:00\",\"2022-09-22T18:45:00\",\"2022-09-22T19:00:00\",\"2022-09-22T19:15:00\",\"2022-09-22T19:30:00\",\"2022-09-22T19:45:00\",\"2022-09-22T20:00:00\",\"2022-09-22T20:15:00\",\"2022-09-22T20:30:00\",\"2022-09-22T20:45:00\",\"2022-09-22T21:00:00\",\"2022-09-22T21:15:00\",\"2022-09-22T21:30:00\",\"2022-09-22T21:45:00\",\"2022-09-22T22:00:00\",\"2022-09-22T22:15:00\",\"2022-09-22T22:30:00\",\"2022-09-22T22:45:00\",\"2022-09-22T23:00:00\",\"2022-09-22T23:15:00\",\"2022-09-22T23:30:00\",\"2022-09-22T23:45:00\",\"2022-09-23T00:00:00\",\"2022-09-23T00:15:00\",\"2022-09-23T00:30:00\",\"2022-09-23T00:45:00\",\"2022-09-23T01:00:00\",\"2022-09-23T01:15:00\",\"2022-09-23T01:30:00\",\"2022-09-23T01:45:00\",\"2022-09-23T02:00:00\",\"2022-09-23T02:15:00\",\"2022-09-23T02:30:00\",\"2022-09-23T02:45:00\",\"2022-09-23T03:00:00\",\"2022-09-23T03:15:00\",\"2022-09-23T03:30:00\",\"2022-09-23T03:45:00\",\"2022-09-23T04:00:00\",\"2022-09-23T04:15:00\",\"2022-09-23T04:30:00\",\"2022-09-23T04:45:00\",\"2022-09-23T05:00:00\",\"2022-09-23T05:15:00\",\"2022-09-23T05:30:00\",\"2022-09-23T05:45:00\",\"2022-09-23T06:00:00\",\"2022-09-23T06:15:00\",\"2022-09-23T06:30:00\",\"2022-09-23T06:45:00\",\"2022-09-23T07:00:00\",\"2022-09-23T07:15:00\",\"2022-09-23T07:30:00\",\"2022-09-23T07:45:00\",\"2022-09-23T08:00:00\",\"2022-09-23T08:15:00\",\"2022-09-23T08:30:00\",\"2022-09-23T08:45:00\",\"2022-09-23T09:00:00\",\"2022-09-23T09:15:00\",\"2022-09-23T09:30:00\",\"2022-09-23T09:45:00\",\"2022-09-23T10:00:00\",\"2022-09-23T10:15:00\",\"2022-09-23T10:30:00\",\"2022-09-23T10:45:00\",\"2022-09-23T11:00:00\",\"2022-09-23T11:15:00\",\"2022-09-23T11:30:00\",\"2022-09-23T11:45:00\",\"2022-09-23T12:00:00\",\"2022-09-23T12:15:00\",\"2022-09-23T12:30:00\",\"2022-09-23T12:45:00\",\"2022-09-23T13:00:00\",\"2022-09-23T13:15:00\",\"2022-09-23T13:30:00\",\"2022-09-23T13:45:00\",\"2022-09-23T14:00:00\",\"2022-09-23T14:15:00\",\"2022-09-23T14:30:00\",\"2022-09-23T14:45:00\",\"2022-09-23T15:00:00\",\"2022-09-23T15:15:00\",\"2022-09-23T15:30:00\",\"2022-09-23T15:45:00\",\"2022-09-23T16:00:00\",\"2022-09-23T16:15:00\",\"2022-09-23T16:30:00\",\"2022-09-23T16:45:00\",\"2022-09-23T17:00:00\",\"2022-09-23T17:15:00\",\"2022-09-23T17:30:00\",\"2022-09-23T17:45:00\",\"2022-09-23T18:00:00\",\"2022-09-23T18:15:00\",\"2022-09-23T18:30:00\",\"2022-09-23T18:45:00\",\"2022-09-23T19:00:00\",\"2022-09-23T19:15:00\",\"2022-09-23T19:30:00\",\"2022-09-23T19:45:00\",\"2022-09-23T20:00:00\",\"2022-09-23T20:15:00\",\"2022-09-23T20:30:00\",\"2022-09-23T20:45:00\",\"2022-09-23T21:00:00\",\"2022-09-23T21:15:00\",\"2022-09-23T21:30:00\",\"2022-09-23T21:45:00\",\"2022-09-23T22:00:00\",\"2022-09-23T22:15:00\",\"2022-09-23T22:30:00\",\"2022-09-23T22:45:00\",\"2022-09-23T23:00:00\",\"2022-09-23T23:15:00\",\"2022-09-23T23:30:00\",\"2022-09-23T23:45:00\",\"2022-09-24T00:00:00\",\"2022-09-24T00:15:00\",\"2022-09-24T00:30:00\",\"2022-09-24T00:45:00\",\"2022-09-24T01:00:00\",\"2022-09-24T01:15:00\",\"2022-09-24T01:30:00\",\"2022-09-24T01:45:00\",\"2022-09-24T02:00:00\",\"2022-09-24T02:15:00\",\"2022-09-24T02:30:00\",\"2022-09-24T02:45:00\",\"2022-09-24T03:00:00\",\"2022-09-24T03:15:00\",\"2022-09-24T03:30:00\",\"2022-09-24T03:45:00\",\"2022-09-24T04:00:00\",\"2022-09-24T04:15:00\",\"2022-09-24T04:30:00\",\"2022-09-24T04:45:00\",\"2022-09-24T05:00:00\",\"2022-09-24T05:15:00\",\"2022-09-24T05:30:00\",\"2022-09-24T05:45:00\",\"2022-09-24T06:00:00\",\"2022-09-24T06:15:00\",\"2022-09-24T06:30:00\",\"2022-09-24T06:45:00\",\"2022-09-24T07:00:00\",\"2022-09-24T07:15:00\",\"2022-09-24T07:30:00\",\"2022-09-24T07:45:00\",\"2022-09-24T08:00:00\",\"2022-09-24T08:15:00\",\"2022-09-24T08:30:00\",\"2022-09-24T08:45:00\",\"2022-09-24T09:00:00\",\"2022-09-24T09:15:00\",\"2022-09-24T09:30:00\",\"2022-09-24T09:45:00\",\"2022-09-24T10:00:00\",\"2022-09-24T10:15:00\",\"2022-09-24T10:30:00\",\"2022-09-24T10:45:00\",\"2022-09-24T11:00:00\",\"2022-09-24T11:15:00\",\"2022-09-24T11:30:00\",\"2022-09-24T11:45:00\",\"2022-09-24T12:00:00\",\"2022-09-24T12:15:00\",\"2022-09-24T12:30:00\",\"2022-09-24T12:45:00\",\"2022-09-24T13:00:00\",\"2022-09-24T13:15:00\",\"2022-09-24T13:30:00\",\"2022-09-24T13:45:00\",\"2022-09-24T14:00:00\",\"2022-09-24T14:15:00\",\"2022-09-24T14:30:00\",\"2022-09-24T14:45:00\",\"2022-09-24T15:00:00\",\"2022-09-24T15:15:00\",\"2022-09-24T15:30:00\",\"2022-09-24T15:45:00\",\"2022-09-24T16:00:00\",\"2022-09-24T16:15:00\",\"2022-09-24T16:30:00\",\"2022-09-24T16:45:00\",\"2022-09-24T17:00:00\",\"2022-09-24T17:15:00\",\"2022-09-24T17:30:00\",\"2022-09-24T17:45:00\",\"2022-09-24T18:00:00\",\"2022-09-24T18:15:00\",\"2022-09-24T18:30:00\",\"2022-09-24T18:45:00\",\"2022-09-24T19:00:00\",\"2022-09-24T19:15:00\",\"2022-09-24T19:30:00\",\"2022-09-24T19:45:00\",\"2022-09-24T20:00:00\",\"2022-09-24T20:15:00\",\"2022-09-24T20:30:00\",\"2022-09-24T20:45:00\",\"2022-09-24T21:00:00\",\"2022-09-24T21:15:00\",\"2022-09-24T21:30:00\",\"2022-09-24T21:45:00\",\"2022-09-24T22:00:00\",\"2022-09-24T22:15:00\",\"2022-09-24T22:30:00\",\"2022-09-24T22:45:00\",\"2022-09-24T23:00:00\",\"2022-09-24T23:15:00\",\"2022-09-24T23:30:00\",\"2022-09-24T23:45:00\",\"2022-09-25T00:00:00\",\"2022-09-25T00:15:00\",\"2022-09-25T00:30:00\",\"2022-09-25T00:45:00\",\"2022-09-25T01:00:00\",\"2022-09-25T01:15:00\",\"2022-09-25T01:30:00\",\"2022-09-25T01:45:00\",\"2022-09-25T02:00:00\",\"2022-09-25T02:15:00\",\"2022-09-25T02:30:00\",\"2022-09-25T02:45:00\",\"2022-09-25T03:00:00\",\"2022-09-25T03:15:00\",\"2022-09-25T03:30:00\",\"2022-09-25T03:45:00\",\"2022-09-25T04:00:00\",\"2022-09-25T04:15:00\",\"2022-09-25T04:30:00\",\"2022-09-25T04:45:00\",\"2022-09-25T05:00:00\",\"2022-09-25T05:15:00\",\"2022-09-25T05:30:00\",\"2022-09-25T05:45:00\",\"2022-09-25T06:00:00\",\"2022-09-25T06:15:00\",\"2022-09-25T06:30:00\",\"2022-09-25T06:45:00\",\"2022-09-25T07:00:00\",\"2022-09-25T07:15:00\",\"2022-09-25T07:30:00\",\"2022-09-25T07:45:00\",\"2022-09-25T08:00:00\",\"2022-09-25T08:15:00\",\"2022-09-25T08:30:00\",\"2022-09-25T08:45:00\",\"2022-09-25T09:00:00\",\"2022-09-25T09:15:00\",\"2022-09-25T09:30:00\",\"2022-09-25T09:45:00\",\"2022-09-25T10:00:00\",\"2022-09-25T10:15:00\",\"2022-09-25T10:30:00\",\"2022-09-25T10:45:00\",\"2022-09-25T11:00:00\",\"2022-09-25T11:15:00\",\"2022-09-25T11:30:00\",\"2022-09-25T11:45:00\",\"2022-09-25T12:00:00\",\"2022-09-25T12:15:00\",\"2022-09-25T12:30:00\",\"2022-09-25T12:45:00\",\"2022-09-25T13:00:00\",\"2022-09-25T13:15:00\",\"2022-09-25T13:30:00\",\"2022-09-25T13:45:00\",\"2022-09-25T14:00:00\",\"2022-09-25T14:15:00\",\"2022-09-25T14:30:00\",\"2022-09-25T14:45:00\",\"2022-09-25T15:00:00\",\"2022-09-25T15:15:00\",\"2022-09-25T15:30:00\",\"2022-09-25T15:45:00\",\"2022-09-25T16:00:00\",\"2022-09-25T16:15:00\",\"2022-09-25T16:30:00\",\"2022-09-25T16:45:00\",\"2022-09-25T17:00:00\",\"2022-09-25T17:15:00\",\"2022-09-25T17:30:00\",\"2022-09-25T17:45:00\",\"2022-09-25T18:00:00\",\"2022-09-25T18:15:00\",\"2022-09-25T18:30:00\",\"2022-09-25T18:45:00\",\"2022-09-25T19:00:00\",\"2022-09-25T19:15:00\",\"2022-09-25T19:30:00\",\"2022-09-25T19:45:00\",\"2022-09-25T20:00:00\",\"2022-09-25T20:15:00\",\"2022-09-25T20:30:00\",\"2022-09-25T20:45:00\",\"2022-09-25T21:00:00\",\"2022-09-25T21:15:00\",\"2022-09-25T21:30:00\",\"2022-09-25T21:45:00\",\"2022-09-25T22:00:00\",\"2022-09-25T22:15:00\",\"2022-09-25T22:30:00\",\"2022-09-25T22:45:00\",\"2022-09-25T23:00:00\",\"2022-09-25T23:15:00\",\"2022-09-25T23:30:00\",\"2022-09-25T23:45:00\",\"2022-09-26T00:00:00\",\"2022-09-26T00:15:00\",\"2022-09-26T00:30:00\",\"2022-09-26T00:45:00\",\"2022-09-26T01:00:00\",\"2022-09-26T01:15:00\",\"2022-09-26T01:30:00\",\"2022-09-26T01:45:00\",\"2022-09-26T02:00:00\",\"2022-09-26T02:15:00\",\"2022-09-26T02:30:00\",\"2022-09-26T02:45:00\",\"2022-09-26T03:00:00\",\"2022-09-26T03:15:00\",\"2022-09-26T03:30:00\",\"2022-09-26T03:45:00\",\"2022-09-26T04:00:00\",\"2022-09-26T04:15:00\",\"2022-09-26T04:30:00\",\"2022-09-26T04:45:00\",\"2022-09-26T05:00:00\",\"2022-09-26T05:15:00\",\"2022-09-26T05:30:00\",\"2022-09-26T05:45:00\",\"2022-09-26T06:00:00\",\"2022-09-26T06:15:00\",\"2022-09-26T06:30:00\",\"2022-09-26T06:45:00\",\"2022-09-26T07:00:00\",\"2022-09-26T07:15:00\",\"2022-09-26T07:30:00\",\"2022-09-26T07:45:00\",\"2022-09-26T08:00:00\",\"2022-09-26T08:15:00\",\"2022-09-26T08:30:00\",\"2022-09-26T08:45:00\",\"2022-09-26T09:00:00\",\"2022-09-26T09:15:00\",\"2022-09-26T09:30:00\",\"2022-09-26T09:45:00\",\"2022-09-26T10:00:00\",\"2022-09-26T10:15:00\",\"2022-09-26T10:30:00\",\"2022-09-26T10:45:00\",\"2022-09-26T11:00:00\",\"2022-09-26T11:15:00\",\"2022-09-26T11:30:00\",\"2022-09-26T11:45:00\",\"2022-09-26T12:00:00\",\"2022-09-26T12:15:00\",\"2022-09-26T12:30:00\",\"2022-09-26T12:45:00\"],\"xaxis\":\"x\",\"y\":[322.0,315.0,701.0,571.0,355.0,351.0,332.0,309.0,332.0,428.0,357.0,355.0,401.0,401.0,387.0,419.0,395.0,409.0,357.0,314.0,283.0,221.0,188.0,118.0,124.0,49.0,129.0,120.0,60.0,129.0,139.0,151.0,196.0,194.0,67.0,21.0,236.0,139.0,50.0,64.0,66.0,26.0,76.0,101.0,114.0,119.0,67.0,50.0,36.0,36.0,54.0,50.0,121.0,116.0,65.0,83.0,107.0,105.0,69.0,58.0,108.0,140.0,102.0,139.0,156.0,117.0,58.0,30.0,70.0,90.0,130.0,68.0,135.0,172.0,318.0,311.0,296.0,267.0,288.0,140.0,68.0,108.0,179.0,163.0,153.0,251.0,396.0,399.0,392.0,382.0,391.0,299.0,312.0,343.0,242.0,290.0,321.0,380.0,112.0,59.0,51.0,44.0,119.0,238.0,267.0,258.0,124.0,100.0,50.0,106.0,58.0,82.0,105.0,17.0,53.0,97.0,151.0,190.0,125.0,136.0,180.0,99.0,189.0,39.0,41.0,99.0,44.0,110.0,104.0,100.0,128.0,68.0,121.0,138.0,79.0,124.0,8.0,8.0,21.0,69.0,66.0,63.0,36.0,21.0,49.0,30.0,41.0,44.0,58.0,64.0,116.0,52.0,66.0,33.0,84.0,139.0,145.0,66.0,134.0,91.0,61.0,97.0,65.0,122.0,168.0,179.0,121.0,69.0,84.0,129.0,71.0,98.0,78.0,123.0,112.0,81.0,161.0,210.0,107.0,59.0,92.0,37.0,26.0,26.0,59.0,43.0,86.0,185.0,182.0,174.0,235.0,86.0,104.0,147.0,105.0,75.0,157.0,144.0,96.0,143.0,197.0,102.0,158.0,172.0,142.0,66.0,118.0,73.0,113.0,36.0,70.0,117.0,174.0,170.0,191.0,104.0,80.0,126.0,201.0,239.0,73.0,79.0,24.0,112.0,19.0,46.0,58.0,74.0,19.0,42.0,86.0,41.0,25.0,117.0,127.0,90.0,58.0,80.0,132.0,65.0,49.0,72.0,116.0,112.0,63.0,43.0,107.0,69.0,92.0,66.0,35.0,87.0,20.0,20.0,74.0,82.0,62.0,31.0,31.0,105.0,30.0,28.0,39.0,51.0,36.0,81.0,108.0,55.0,103.0,124.0,119.0,83.0,23.0,50.0,78.0,94.0,129.0,183.0,246.0,230.0,179.0,187.0,161.0,197.0,331.0,119.0,85.0,77.0,100.0,117.0,175.0,162.0,152.0,134.0,156.0,74.0,92.0,217.0,237.0,277.0,118.0,80.0,204.0,353.0,405.0,230.0,134.0,224.0,128.0,157.0,194.0,388.0,395.0,317.0,207.0,430.0,460.0,238.0,238.0,243.0,153.0,131.0,159.0,143.0,97.0,289.0,230.0,48.0,90.0,220.0,156.0,115.0,218.0,229.0,376.0,124.0,159.0,378.0,47.0,42.0,22.0,22.0,44.0,22.0,14.0,47.0,29.0,157.0,177.0,53.0,154.0,241.0,177.0,123.0,127.0,155.0,139.0,113.0,203.0,157.0,130.0,104.0,215.0,213.0,287.0,208.0,148.0,258.0,253.0,202.0,140.0,115.0,206.0,209.0,142.0],\"yaxis\":\"y\",\"type\":\"scatter\"}],                        {\"template\":{\"data\":{\"histogram2dcontour\":[{\"type\":\"histogram2dcontour\",\"colorbar\":{\"outlinewidth\":0,\"ticks\":\"\"},\"colorscale\":[[0.0,\"#0d0887\"],[0.1111111111111111,\"#46039f\"],[0.2222222222222222,\"#7201a8\"],[0.3333333333333333,\"#9c179e\"],[0.4444444444444444,\"#bd3786\"],[0.5555555555555556,\"#d8576b\"],[0.6666666666666666,\"#ed7953\"],[0.7777777777777778,\"#fb9f3a\"],[0.8888888888888888,\"#fdca26\"],[1.0,\"#f0f921\"]]}],\"choropleth\":[{\"type\":\"choropleth\",\"colorbar\":{\"outlinewidth\":0,\"ticks\":\"\"}}],\"histogram2d\":[{\"type\":\"histogram2d\",\"colorbar\":{\"outlinewidth\":0,\"ticks\":\"\"},\"colorscale\":[[0.0,\"#0d0887\"],[0.1111111111111111,\"#46039f\"],[0.2222222222222222,\"#7201a8\"],[0.3333333333333333,\"#9c179e\"],[0.4444444444444444,\"#bd3786\"],[0.5555555555555556,\"#d8576b\"],[0.6666666666666666,\"#ed7953\"],[0.7777777777777778,\"#fb9f3a\"],[0.8888888888888888,\"#fdca26\"],[1.0,\"#f0f921\"]]}],\"heatmap\":[{\"type\":\"heatmap\",\"colorbar\":{\"outlinewidth\":0,\"ticks\":\"\"},\"colorscale\":[[0.0,\"#0d0887\"],[0.1111111111111111,\"#46039f\"],[0.2222222222222222,\"#7201a8\"],[0.3333333333333333,\"#9c179e\"],[0.4444444444444444,\"#bd3786\"],[0.5555555555555556,\"#d8576b\"],[0.6666666666666666,\"#ed7953\"],[0.7777777777777778,\"#fb9f3a\"],[0.8888888888888888,\"#fdca26\"],[1.0,\"#f0f921\"]]}],\"heatmapgl\":[{\"type\":\"heatmapgl\",\"colorbar\":{\"outlinewidth\":0,\"ticks\":\"\"},\"colorscale\":[[0.0,\"#0d0887\"],[0.1111111111111111,\"#46039f\"],[0.2222222222222222,\"#7201a8\"],[0.3333333333333333,\"#9c179e\"],[0.4444444444444444,\"#bd3786\"],[0.5555555555555556,\"#d8576b\"],[0.6666666666666666,\"#ed7953\"],[0.7777777777777778,\"#fb9f3a\"],[0.8888888888888888,\"#fdca26\"],[1.0,\"#f0f921\"]]}],\"contourcarpet\":[{\"type\":\"contourcarpet\",\"colorbar\":{\"outlinewidth\":0,\"ticks\":\"\"}}],\"contour\":[{\"type\":\"contour\",\"colorbar\":{\"outlinewidth\":0,\"ticks\":\"\"},\"colorscale\":[[0.0,\"#0d0887\"],[0.1111111111111111,\"#46039f\"],[0.2222222222222222,\"#7201a8\"],[0.3333333333333333,\"#9c179e\"],[0.4444444444444444,\"#bd3786\"],[0.5555555555555556,\"#d8576b\"],[0.6666666666666666,\"#ed7953\"],[0.7777777777777778,\"#fb9f3a\"],[0.8888888888888888,\"#fdca26\"],[1.0,\"#f0f921\"]]}],\"surface\":[{\"type\":\"surface\",\"colorbar\":{\"outlinewidth\":0,\"ticks\":\"\"},\"colorscale\":[[0.0,\"#0d0887\"],[0.1111111111111111,\"#46039f\"],[0.2222222222222222,\"#7201a8\"],[0.3333333333333333,\"#9c179e\"],[0.4444444444444444,\"#bd3786\"],[0.5555555555555556,\"#d8576b\"],[0.6666666666666666,\"#ed7953\"],[0.7777777777777778,\"#fb9f3a\"],[0.8888888888888888,\"#fdca26\"],[1.0,\"#f0f921\"]]}],\"mesh3d\":[{\"type\":\"mesh3d\",\"colorbar\":{\"outlinewidth\":0,\"ticks\":\"\"}}],\"scatter\":[{\"fillpattern\":{\"fillmode\":\"overlay\",\"size\":10,\"solidity\":0.2},\"type\":\"scatter\"}],\"parcoords\":[{\"type\":\"parcoords\",\"line\":{\"colorbar\":{\"outlinewidth\":0,\"ticks\":\"\"}}}],\"scatterpolargl\":[{\"type\":\"scatterpolargl\",\"marker\":{\"colorbar\":{\"outlinewidth\":0,\"ticks\":\"\"}}}],\"bar\":[{\"error_x\":{\"color\":\"#2a3f5f\"},\"error_y\":{\"color\":\"#2a3f5f\"},\"marker\":{\"line\":{\"color\":\"#E5ECF6\",\"width\":0.5},\"pattern\":{\"fillmode\":\"overlay\",\"size\":10,\"solidity\":0.2}},\"type\":\"bar\"}],\"scattergeo\":[{\"type\":\"scattergeo\",\"marker\":{\"colorbar\":{\"outlinewidth\":0,\"ticks\":\"\"}}}],\"scatterpolar\":[{\"type\":\"scatterpolar\",\"marker\":{\"colorbar\":{\"outlinewidth\":0,\"ticks\":\"\"}}}],\"histogram\":[{\"marker\":{\"pattern\":{\"fillmode\":\"overlay\",\"size\":10,\"solidity\":0.2}},\"type\":\"histogram\"}],\"scattergl\":[{\"type\":\"scattergl\",\"marker\":{\"colorbar\":{\"outlinewidth\":0,\"ticks\":\"\"}}}],\"scatter3d\":[{\"type\":\"scatter3d\",\"line\":{\"colorbar\":{\"outlinewidth\":0,\"ticks\":\"\"}},\"marker\":{\"colorbar\":{\"outlinewidth\":0,\"ticks\":\"\"}}}],\"scattermapbox\":[{\"type\":\"scattermapbox\",\"marker\":{\"colorbar\":{\"outlinewidth\":0,\"ticks\":\"\"}}}],\"scatterternary\":[{\"type\":\"scatterternary\",\"marker\":{\"colorbar\":{\"outlinewidth\":0,\"ticks\":\"\"}}}],\"scattercarpet\":[{\"type\":\"scattercarpet\",\"marker\":{\"colorbar\":{\"outlinewidth\":0,\"ticks\":\"\"}}}],\"carpet\":[{\"aaxis\":{\"endlinecolor\":\"#2a3f5f\",\"gridcolor\":\"white\",\"linecolor\":\"white\",\"minorgridcolor\":\"white\",\"startlinecolor\":\"#2a3f5f\"},\"baxis\":{\"endlinecolor\":\"#2a3f5f\",\"gridcolor\":\"white\",\"linecolor\":\"white\",\"minorgridcolor\":\"white\",\"startlinecolor\":\"#2a3f5f\"},\"type\":\"carpet\"}],\"table\":[{\"cells\":{\"fill\":{\"color\":\"#EBF0F8\"},\"line\":{\"color\":\"white\"}},\"header\":{\"fill\":{\"color\":\"#C8D4E3\"},\"line\":{\"color\":\"white\"}},\"type\":\"table\"}],\"barpolar\":[{\"marker\":{\"line\":{\"color\":\"#E5ECF6\",\"width\":0.5},\"pattern\":{\"fillmode\":\"overlay\",\"size\":10,\"solidity\":0.2}},\"type\":\"barpolar\"}],\"pie\":[{\"automargin\":true,\"type\":\"pie\"}]},\"layout\":{\"autotypenumbers\":\"strict\",\"colorway\":[\"#636efa\",\"#EF553B\",\"#00cc96\",\"#ab63fa\",\"#FFA15A\",\"#19d3f3\",\"#FF6692\",\"#B6E880\",\"#FF97FF\",\"#FECB52\"],\"font\":{\"color\":\"#2a3f5f\"},\"hovermode\":\"closest\",\"hoverlabel\":{\"align\":\"left\"},\"paper_bgcolor\":\"white\",\"plot_bgcolor\":\"#E5ECF6\",\"polar\":{\"bgcolor\":\"#E5ECF6\",\"angularaxis\":{\"gridcolor\":\"white\",\"linecolor\":\"white\",\"ticks\":\"\"},\"radialaxis\":{\"gridcolor\":\"white\",\"linecolor\":\"white\",\"ticks\":\"\"}},\"ternary\":{\"bgcolor\":\"#E5ECF6\",\"aaxis\":{\"gridcolor\":\"white\",\"linecolor\":\"white\",\"ticks\":\"\"},\"baxis\":{\"gridcolor\":\"white\",\"linecolor\":\"white\",\"ticks\":\"\"},\"caxis\":{\"gridcolor\":\"white\",\"linecolor\":\"white\",\"ticks\":\"\"}},\"coloraxis\":{\"colorbar\":{\"outlinewidth\":0,\"ticks\":\"\"}},\"colorscale\":{\"sequential\":[[0.0,\"#0d0887\"],[0.1111111111111111,\"#46039f\"],[0.2222222222222222,\"#7201a8\"],[0.3333333333333333,\"#9c179e\"],[0.4444444444444444,\"#bd3786\"],[0.5555555555555556,\"#d8576b\"],[0.6666666666666666,\"#ed7953\"],[0.7777777777777778,\"#fb9f3a\"],[0.8888888888888888,\"#fdca26\"],[1.0,\"#f0f921\"]],\"sequentialminus\":[[0.0,\"#0d0887\"],[0.1111111111111111,\"#46039f\"],[0.2222222222222222,\"#7201a8\"],[0.3333333333333333,\"#9c179e\"],[0.4444444444444444,\"#bd3786\"],[0.5555555555555556,\"#d8576b\"],[0.6666666666666666,\"#ed7953\"],[0.7777777777777778,\"#fb9f3a\"],[0.8888888888888888,\"#fdca26\"],[1.0,\"#f0f921\"]],\"diverging\":[[0,\"#8e0152\"],[0.1,\"#c51b7d\"],[0.2,\"#de77ae\"],[0.3,\"#f1b6da\"],[0.4,\"#fde0ef\"],[0.5,\"#f7f7f7\"],[0.6,\"#e6f5d0\"],[0.7,\"#b8e186\"],[0.8,\"#7fbc41\"],[0.9,\"#4d9221\"],[1,\"#276419\"]]},\"xaxis\":{\"gridcolor\":\"white\",\"linecolor\":\"white\",\"ticks\":\"\",\"title\":{\"standoff\":15},\"zerolinecolor\":\"white\",\"automargin\":true,\"zerolinewidth\":2},\"yaxis\":{\"gridcolor\":\"white\",\"linecolor\":\"white\",\"ticks\":\"\",\"title\":{\"standoff\":15},\"zerolinecolor\":\"white\",\"automargin\":true,\"zerolinewidth\":2},\"scene\":{\"xaxis\":{\"backgroundcolor\":\"#E5ECF6\",\"gridcolor\":\"white\",\"linecolor\":\"white\",\"showbackground\":true,\"ticks\":\"\",\"zerolinecolor\":\"white\",\"gridwidth\":2},\"yaxis\":{\"backgroundcolor\":\"#E5ECF6\",\"gridcolor\":\"white\",\"linecolor\":\"white\",\"showbackground\":true,\"ticks\":\"\",\"zerolinecolor\":\"white\",\"gridwidth\":2},\"zaxis\":{\"backgroundcolor\":\"#E5ECF6\",\"gridcolor\":\"white\",\"linecolor\":\"white\",\"showbackground\":true,\"ticks\":\"\",\"zerolinecolor\":\"white\",\"gridwidth\":2}},\"shapedefaults\":{\"line\":{\"color\":\"#2a3f5f\"}},\"annotationdefaults\":{\"arrowcolor\":\"#2a3f5f\",\"arrowhead\":0,\"arrowwidth\":1},\"geo\":{\"bgcolor\":\"white\",\"landcolor\":\"#E5ECF6\",\"subunitcolor\":\"white\",\"showland\":true,\"showlakes\":true,\"lakecolor\":\"white\"},\"title\":{\"x\":0.05},\"mapbox\":{\"style\":\"light\"}}},\"xaxis\":{\"anchor\":\"y\",\"domain\":[0.0,1.0],\"title\":{\"text\":\"date\"}},\"yaxis\":{\"anchor\":\"x\",\"domain\":[0.0,1.0],\"title\":{\"text\":\"value\"}},\"legend\":{\"title\":{\"text\":\"variable\"},\"tracegroupgap\":0},\"margin\":{\"t\":60}},                        {\"responsive\": true}                    ).then(function(){\n",
       "                            \n",
       "var gd = document.getElementById('ecbfed84-1229-4e47-9261-4167bb33f926');\n",
       "var x = new MutationObserver(function (mutations, observer) {{\n",
       "        var display = window.getComputedStyle(gd).display;\n",
       "        if (!display || display === 'none') {{\n",
       "            console.log([gd, 'removed!']);\n",
       "            Plotly.purge(gd);\n",
       "            observer.disconnect();\n",
       "        }}\n",
       "}});\n",
       "\n",
       "// Listen for the removal of the full notebook cells\n",
       "var notebookContainer = gd.closest('#notebook-container');\n",
       "if (notebookContainer) {{\n",
       "    x.observe(notebookContainer, {childList: true});\n",
       "}}\n",
       "\n",
       "// Listen for the clearing of the current output cell\n",
       "var outputEl = gd.closest('.output');\n",
       "if (outputEl) {{\n",
       "    x.observe(outputEl, {childList: true});\n",
       "}}\n",
       "\n",
       "                        })                };                });            </script>        </div>"
      ]
     },
     "metadata": {},
     "output_type": "display_data"
    }
   ],
   "source": [
    "alllogdf.plot(x=\"date\", y=[\"Energy by interval\", \"request\"], kind=\"line\")"
   ]
  },
  {
   "cell_type": "code",
   "execution_count": 85,
   "id": "5a7588c4",
   "metadata": {},
   "outputs": [
    {
     "data": {
      "application/vnd.plotly.v1+json": {
       "config": {
        "plotlyServerURL": "https://plot.ly"
       },
       "data": [
        {
         "hovertemplate": "request=%{x}<br>Energy by interval=%{y}<extra></extra>",
         "legendgroup": "",
         "marker": {
          "color": "#636efa",
          "symbol": "circle"
         },
         "mode": "markers",
         "name": "",
         "orientation": "v",
         "showlegend": false,
         "type": "scatter",
         "x": [
          322,
          315,
          701,
          571,
          355,
          351,
          332,
          309,
          332,
          428,
          357,
          355,
          401,
          401,
          387,
          419,
          395,
          409,
          357,
          314,
          283,
          221,
          188,
          118,
          124,
          49,
          129,
          120,
          60,
          129,
          139,
          151,
          196,
          194,
          67,
          21,
          236,
          139,
          50,
          64,
          66,
          26,
          76,
          101,
          114,
          119,
          67,
          50,
          36,
          36,
          54,
          50,
          121,
          116,
          65,
          83,
          107,
          105,
          69,
          58,
          108,
          140,
          102,
          139,
          156,
          117,
          58,
          30,
          70,
          90,
          130,
          68,
          135,
          172,
          318,
          311,
          296,
          267,
          288,
          140,
          68,
          108,
          179,
          163,
          153,
          251,
          396,
          399,
          392,
          382,
          391,
          299,
          312,
          343,
          242,
          290,
          321,
          380,
          112,
          59,
          51,
          44,
          119,
          238,
          267,
          258,
          124,
          100,
          50,
          106,
          58,
          82,
          105,
          17,
          53,
          97,
          151,
          190,
          125,
          136,
          180,
          99,
          189,
          39,
          41,
          99,
          44,
          110,
          104,
          100,
          128,
          68,
          121,
          138,
          79,
          124,
          8,
          8,
          21,
          69,
          66,
          63,
          36,
          21,
          49,
          30,
          41,
          44,
          58,
          64,
          116,
          52,
          66,
          33,
          84,
          139,
          145,
          66,
          134,
          91,
          61,
          97,
          65,
          122,
          168,
          179,
          121,
          69,
          84,
          129,
          71,
          98,
          78,
          123,
          112,
          81,
          161,
          210,
          107,
          59,
          92,
          37,
          26,
          26,
          59,
          43,
          86,
          185,
          182,
          174,
          235,
          86,
          104,
          147,
          105,
          75,
          157,
          144,
          96,
          143,
          197,
          102,
          158,
          172,
          142,
          66,
          118,
          73,
          113,
          36,
          70,
          117,
          174,
          170,
          191,
          104,
          80,
          126,
          201,
          239,
          73,
          79,
          24,
          112,
          19,
          46,
          58,
          74,
          19,
          42,
          86,
          41,
          25,
          117,
          127,
          90,
          58,
          80,
          132,
          65,
          49,
          72,
          116,
          112,
          63,
          43,
          107,
          69,
          92,
          66,
          35,
          87,
          20,
          20,
          74,
          82,
          62,
          31,
          31,
          105,
          30,
          28,
          39,
          51,
          36,
          81,
          108,
          55,
          103,
          124,
          119,
          83,
          23,
          50,
          78,
          94,
          129,
          183,
          246,
          230,
          179,
          187,
          161,
          197,
          331,
          119,
          85,
          77,
          100,
          117,
          175,
          162,
          152,
          134,
          156,
          74,
          92,
          217,
          237,
          277,
          118,
          80,
          204,
          353,
          405,
          230,
          134,
          224,
          128,
          157,
          194,
          388,
          395,
          317,
          207,
          430,
          460,
          238,
          238,
          243,
          153,
          131,
          159,
          143,
          97,
          289,
          230,
          48,
          90,
          220,
          156,
          115,
          218,
          229,
          376,
          124,
          159,
          378,
          47,
          42,
          22,
          22,
          44,
          22,
          14,
          47,
          29,
          157,
          177,
          53,
          154,
          241,
          177,
          123,
          127,
          155,
          139,
          113,
          203,
          157,
          130,
          104,
          215,
          213,
          287,
          208,
          148,
          258,
          253,
          202,
          140,
          115,
          206,
          209,
          142
         ],
         "xaxis": "x",
         "y": [
          0.640868,
          0.7610250000000001,
          0.7240079999999998,
          0.71156,
          0.6916390000000003,
          0.7048489999999998,
          0.7051590000000001,
          0.7055379999999998,
          0.6880389999999998,
          0.7182580000000005,
          0.6958469999999997,
          0.7056979999999999,
          0.7103350000000006,
          0.725382999999999,
          0.7225860000000015,
          0.7205589999999997,
          0.7229770000000002,
          0.7106019999999997,
          0.7104009999999992,
          0.7003350000000008,
          0.6173830000000002,
          0.5681750000000001,
          0.5367929999999994,
          0.5118580000000001,
          0.49440099999999987,
          0.48838399999999993,
          0.5137870000000007,
          0.5107909999999976,
          0.49290000000000234,
          0.5005290000000002,
          0.5187089999999976,
          0.5427990000000023,
          0.546599999999998,
          0.5658890000000021,
          0.46661599999999837,
          0.44817700000000116,
          0.5666119999999992,
          0.5040900000000015,
          0.4667519999999996,
          0.47387200000000007,
          0.4731029999999983,
          0.451549,
          0.49149399999999943,
          0.49054100000000034,
          0.49868600000000285,
          0.5028619999999968,
          0.4933150000000026,
          0.46317200000000014,
          0.4632039999999975,
          0.45148400000000066,
          0.46847100000000097,
          0.4582379999999979,
          0.5169550000000029,
          0.4827079999999988,
          0.4697889999999987,
          0.4768329999999992,
          0.49696200000000346,
          0.4963769999999954,
          0.49667400000000583,
          0.473393999999999,
          0.49362399999999695,
          0.522157,
          0.507044999999998,
          0.507123,
          0.5282290000000032,
          0.4966280000000012,
          0.47140699999999924,
          0.4612860000000012,
          0.48719399999999524,
          0.49510100000000534,
          0.5425639999999987,
          0.4907540000000026,
          0.5654319999999942,
          0.5717670000000012,
          0.6836970000000022,
          0.688015,
          0.6791070000000019,
          0.6687820000000002,
          0.7020259999999965,
          0.5460320000000038,
          0.4818730000000002,
          0.5155799999999999,
          0.5336679999999987,
          0.5086999999999975,
          0.514558000000001,
          0.612727999999997,
          0.6937850000000054,
          0.6894919999999942,
          0.6950870000000009,
          0.7122689999999992,
          0.6950789999999998,
          0.6650960000000055,
          0.6871159999999961,
          0.6891889999999989,
          0.6487440000000007,
          0.692021000000004,
          0.6902449999999973,
          0.7124560000000031,
          0.5102569999999957,
          0.4554730000000049,
          0.4762089999999972,
          0.45297399999999755,
          0.5101760000000013,
          0.549153000000004,
          0.5754379999999983,
          0.5411029999999997,
          0.501925,
          0.47851,
          0.4816760000000002,
          0.5176699999999954,
          0.5128370000000047,
          0.4973150000000004,
          0.5091370000000026,
          0.45093599999999867,
          0.49070199999999886,
          0.48288800000000265,
          0.5168319999999937,
          0.5612129999999951,
          0.5254850000000033,
          0.5324980000000039,
          0.5482879999999994,
          0.47862499999999386,
          0.5342130000000083,
          0.4616489999999942,
          0.46525599999999656,
          0.4988840000000039,
          0.48523500000000297,
          0.46592200000000616,
          0.49699199999999166,
          0.5131910000000062,
          0.49569099999999366,
          0.46133600000000285,
          0.5051689999999951,
          0.5033329999999978,
          0.47080300000000364,
          0.5132940000000019,
          0.44228999999999985,
          0.44009200000000703,
          0.4564409999999981,
          0.4620919999999984,
          0.45552700000000357,
          0.4722659999999905,
          0.4626520000000056,
          0.4628670000000028,
          0.48857900000000143,
          0.44476099999999974,
          0.4692879999999917,
          0.4526299999999992,
          0.47862200000000144,
          0.4614909999999952,
          0.522697000000008,
          0.4710709999999949,
          0.46897500000000036,
          0.4587330000000094,
          0.48623800000000017,
          0.5116749999999968,
          0.5358269999999976,
          0.48446099999999603,
          0.5503220000000084,
          0.49280899999999406,
          0.4711110000000076,
          0.5047179999999969,
          0.47615600000000313,
          0.4981999999999971,
          0.547356999999991,
          0.5512740000000065,
          0.5165619999999933,
          0.4728860000000026,
          0.49477100000000007,
          0.5061070000000001,
          0.4798490000000015,
          0.4853389999999962,
          0.4941140000000104,
          0.49813699999999983,
          0.5186339999999916,
          0.540346999999997,
          0.5423710000000028,
          0.556153000000009,
          0.4895360000000011,
          0.4803139999999928,
          0.5093980000000045,
          0.47077499999998906,
          0.4537120000000101,
          0.4591350000000034,
          0.47923499999998853,
          0.5041750000000036,
          0.49903399999999465,
          0.5853090000000094,
          0.5676519999999954,
          0.5159820000000082,
          0.5847979999999922,
          0.46853799999999524,
          0.48592299999999966,
          0.517626000000007,
          0.5463809999999967,
          0.49340600000000734,
          0.5518079999999941,
          0.5506850000000014,
          0.5172440000000051,
          0.5206359999999961,
          0.5396570000000054,
          0.5127459999999928,
          0.5433100000000053,
          0.5349080000000015,
          0.5379349999999903,
          0.5157570000000078,
          0.5031599999999941,
          0.5217439999999982,
          0.5316210000000012,
          0.46875699999999654,
          0.49098200000000247,
          0.5149040000000014,
          0.5330110000000019,
          0.5299669999999992,
          0.47973899999999503,
          0.494679000000005,
          0.5012049999999988,
          0.5147130000000004,
          0.5332240000000041,
          0.5667919999999924,
          0.47791700000000503,
          0.47795100000000446,
          0.46121300000000076,
          0.5020200000000017,
          0.4530689999999993,
          0.47130199999999434,
          0.4902270000000044,
          0.4924429999999944,
          0.4510920000000027,
          0.4650359999999978,
          0.4982619999999969,
          0.45935099999999807,
          0.4485160000000121,
          0.49208199999999636,
          0.5340789999999913,
          0.466622000000001,
          0.474724000000009,
          0.48942300000000216,
          0.48934899999999004,
          0.49708499999999844,
          0.49509700000001544,
          0.48233999999999355,
          0.5071570000000065,
          0.4936749999999961,
          0.4805029999999988,
          0.4647060000000067,
          0.48576099999999656,
          0.45658699999998476,
          0.48721499999999196,
          0.49426500000001283,
          0.46479600000000687,
          0.46856800000000476,
          0.45455899999998906,
          0.443870000000004,
          0.4727959999999882,
          0.48374800000001983,
          0.4587980000000016,
          0.45655199999998786,
          0.45990399999999454,
          0.49141700000001265,
          0.45349899999999366,
          0.46085299999998597,
          0.47964800000002583,
          0.48529599999997686,
          0.45858100000000945,
          0.4975220000000036,
          0.5325619999999844,
          0.463183000000015,
          0.5074109999999905,
          0.5245209999999929,
          0.5210260000000062,
          0.482859000000019,
          0.4563089999999761,
          0.48624500000002513,
          0.4897359999999935,
          0.4803799999999967,
          0.5122969999999896,
          0.539890000000014,
          0.5156020000000012,
          0.5279500000000041,
          0.5136159999999848,
          0.5617450000000019,
          0.5618249999999989,
          0.5416069999999991,
          0.6004849999999919,
          0.5454360000000236,
          0.49628199999997946,
          0.48319900000001326,
          0.5171479999999917,
          0.5333820000000173,
          0.5712879999999814,
          0.5204339999999945,
          0.5515260000000239,
          0.554333999999983,
          0.5748670000000118,
          0.47004499999999894,
          0.4969370000000026,
          0.6211869999999919,
          0.6004039999999975,
          0.609484000000009,
          0.4904080000000022,
          0.517786000000001,
          0.5953399999999931,
          0.7207899999999938,
          0.6782890000000066,
          0.5558560000000057,
          0.5072600000000023,
          0.5521509999999807,
          0.4981200000000001,
          0.5191480000000013,
          0.5631899999999916,
          0.7065190000000143,
          0.6887040000000013,
          0.6035009999999943,
          0.5539090000000044,
          0.6843279999999936,
          0.6857420000000047,
          0.5582229999999981,
          0.5487160000000131,
          0.5531599999999912,
          0.5064490000000035,
          0.5153489999999863,
          0.5492859999999951,
          0.5085870000000057,
          0.5034809999999936,
          0.5726490000000126,
          0.6074169999999981,
          0.4733410000000049,
          0.5098010000000102,
          0.5180560000000014,
          0.49310699999998064,
          0.4821720000000198,
          0.545899999999989,
          0.5365490000000079,
          0.6130509999999845,
          0.5080870000000175,
          0.511825999999985,
          0.5349600000000123,
          0.4741499999999803,
          0.4477020000000209,
          0.4543419999999969,
          0.4528439999999989,
          0.4609439999999836,
          0.43385000000000673,
          0.4448720000000037,
          0.46831000000000245,
          0.46279799999999227,
          0.5301760000000115,
          0.5521139999999889,
          0.47650600000000054,
          0.5516900000000078,
          0.5757270000000005,
          0.5412609999999916,
          0.49659400000001597,
          0.5099379999999769,
          0.5117290000000025,
          0.504273000000012,
          0.5021839999999997,
          0.5566460000000006,
          0.5198759999999822,
          0.48823700000002646,
          0.4986159999999984,
          0.5940099999999973,
          0.5822589999999934,
          0.6003519999999867,
          0.5864310000000046,
          0.5386469999999974,
          0.5928000000000111,
          0.5635780000000068,
          0.5934890000000053,
          0.5036619999999914,
          0.49589399999999273,
          0.557060000000007,
          0.5494259999999827,
          0.5307740000000081
         ],
         "yaxis": "y"
        }
       ],
       "layout": {
        "legend": {
         "tracegroupgap": 0
        },
        "margin": {
         "t": 60
        },
        "template": {
         "data": {
          "bar": [
           {
            "error_x": {
             "color": "#2a3f5f"
            },
            "error_y": {
             "color": "#2a3f5f"
            },
            "marker": {
             "line": {
              "color": "#E5ECF6",
              "width": 0.5
             },
             "pattern": {
              "fillmode": "overlay",
              "size": 10,
              "solidity": 0.2
             }
            },
            "type": "bar"
           }
          ],
          "barpolar": [
           {
            "marker": {
             "line": {
              "color": "#E5ECF6",
              "width": 0.5
             },
             "pattern": {
              "fillmode": "overlay",
              "size": 10,
              "solidity": 0.2
             }
            },
            "type": "barpolar"
           }
          ],
          "carpet": [
           {
            "aaxis": {
             "endlinecolor": "#2a3f5f",
             "gridcolor": "white",
             "linecolor": "white",
             "minorgridcolor": "white",
             "startlinecolor": "#2a3f5f"
            },
            "baxis": {
             "endlinecolor": "#2a3f5f",
             "gridcolor": "white",
             "linecolor": "white",
             "minorgridcolor": "white",
             "startlinecolor": "#2a3f5f"
            },
            "type": "carpet"
           }
          ],
          "choropleth": [
           {
            "colorbar": {
             "outlinewidth": 0,
             "ticks": ""
            },
            "type": "choropleth"
           }
          ],
          "contour": [
           {
            "colorbar": {
             "outlinewidth": 0,
             "ticks": ""
            },
            "colorscale": [
             [
              0,
              "#0d0887"
             ],
             [
              0.1111111111111111,
              "#46039f"
             ],
             [
              0.2222222222222222,
              "#7201a8"
             ],
             [
              0.3333333333333333,
              "#9c179e"
             ],
             [
              0.4444444444444444,
              "#bd3786"
             ],
             [
              0.5555555555555556,
              "#d8576b"
             ],
             [
              0.6666666666666666,
              "#ed7953"
             ],
             [
              0.7777777777777778,
              "#fb9f3a"
             ],
             [
              0.8888888888888888,
              "#fdca26"
             ],
             [
              1,
              "#f0f921"
             ]
            ],
            "type": "contour"
           }
          ],
          "contourcarpet": [
           {
            "colorbar": {
             "outlinewidth": 0,
             "ticks": ""
            },
            "type": "contourcarpet"
           }
          ],
          "heatmap": [
           {
            "colorbar": {
             "outlinewidth": 0,
             "ticks": ""
            },
            "colorscale": [
             [
              0,
              "#0d0887"
             ],
             [
              0.1111111111111111,
              "#46039f"
             ],
             [
              0.2222222222222222,
              "#7201a8"
             ],
             [
              0.3333333333333333,
              "#9c179e"
             ],
             [
              0.4444444444444444,
              "#bd3786"
             ],
             [
              0.5555555555555556,
              "#d8576b"
             ],
             [
              0.6666666666666666,
              "#ed7953"
             ],
             [
              0.7777777777777778,
              "#fb9f3a"
             ],
             [
              0.8888888888888888,
              "#fdca26"
             ],
             [
              1,
              "#f0f921"
             ]
            ],
            "type": "heatmap"
           }
          ],
          "heatmapgl": [
           {
            "colorbar": {
             "outlinewidth": 0,
             "ticks": ""
            },
            "colorscale": [
             [
              0,
              "#0d0887"
             ],
             [
              0.1111111111111111,
              "#46039f"
             ],
             [
              0.2222222222222222,
              "#7201a8"
             ],
             [
              0.3333333333333333,
              "#9c179e"
             ],
             [
              0.4444444444444444,
              "#bd3786"
             ],
             [
              0.5555555555555556,
              "#d8576b"
             ],
             [
              0.6666666666666666,
              "#ed7953"
             ],
             [
              0.7777777777777778,
              "#fb9f3a"
             ],
             [
              0.8888888888888888,
              "#fdca26"
             ],
             [
              1,
              "#f0f921"
             ]
            ],
            "type": "heatmapgl"
           }
          ],
          "histogram": [
           {
            "marker": {
             "pattern": {
              "fillmode": "overlay",
              "size": 10,
              "solidity": 0.2
             }
            },
            "type": "histogram"
           }
          ],
          "histogram2d": [
           {
            "colorbar": {
             "outlinewidth": 0,
             "ticks": ""
            },
            "colorscale": [
             [
              0,
              "#0d0887"
             ],
             [
              0.1111111111111111,
              "#46039f"
             ],
             [
              0.2222222222222222,
              "#7201a8"
             ],
             [
              0.3333333333333333,
              "#9c179e"
             ],
             [
              0.4444444444444444,
              "#bd3786"
             ],
             [
              0.5555555555555556,
              "#d8576b"
             ],
             [
              0.6666666666666666,
              "#ed7953"
             ],
             [
              0.7777777777777778,
              "#fb9f3a"
             ],
             [
              0.8888888888888888,
              "#fdca26"
             ],
             [
              1,
              "#f0f921"
             ]
            ],
            "type": "histogram2d"
           }
          ],
          "histogram2dcontour": [
           {
            "colorbar": {
             "outlinewidth": 0,
             "ticks": ""
            },
            "colorscale": [
             [
              0,
              "#0d0887"
             ],
             [
              0.1111111111111111,
              "#46039f"
             ],
             [
              0.2222222222222222,
              "#7201a8"
             ],
             [
              0.3333333333333333,
              "#9c179e"
             ],
             [
              0.4444444444444444,
              "#bd3786"
             ],
             [
              0.5555555555555556,
              "#d8576b"
             ],
             [
              0.6666666666666666,
              "#ed7953"
             ],
             [
              0.7777777777777778,
              "#fb9f3a"
             ],
             [
              0.8888888888888888,
              "#fdca26"
             ],
             [
              1,
              "#f0f921"
             ]
            ],
            "type": "histogram2dcontour"
           }
          ],
          "mesh3d": [
           {
            "colorbar": {
             "outlinewidth": 0,
             "ticks": ""
            },
            "type": "mesh3d"
           }
          ],
          "parcoords": [
           {
            "line": {
             "colorbar": {
              "outlinewidth": 0,
              "ticks": ""
             }
            },
            "type": "parcoords"
           }
          ],
          "pie": [
           {
            "automargin": true,
            "type": "pie"
           }
          ],
          "scatter": [
           {
            "fillpattern": {
             "fillmode": "overlay",
             "size": 10,
             "solidity": 0.2
            },
            "type": "scatter"
           }
          ],
          "scatter3d": [
           {
            "line": {
             "colorbar": {
              "outlinewidth": 0,
              "ticks": ""
             }
            },
            "marker": {
             "colorbar": {
              "outlinewidth": 0,
              "ticks": ""
             }
            },
            "type": "scatter3d"
           }
          ],
          "scattercarpet": [
           {
            "marker": {
             "colorbar": {
              "outlinewidth": 0,
              "ticks": ""
             }
            },
            "type": "scattercarpet"
           }
          ],
          "scattergeo": [
           {
            "marker": {
             "colorbar": {
              "outlinewidth": 0,
              "ticks": ""
             }
            },
            "type": "scattergeo"
           }
          ],
          "scattergl": [
           {
            "marker": {
             "colorbar": {
              "outlinewidth": 0,
              "ticks": ""
             }
            },
            "type": "scattergl"
           }
          ],
          "scattermapbox": [
           {
            "marker": {
             "colorbar": {
              "outlinewidth": 0,
              "ticks": ""
             }
            },
            "type": "scattermapbox"
           }
          ],
          "scatterpolar": [
           {
            "marker": {
             "colorbar": {
              "outlinewidth": 0,
              "ticks": ""
             }
            },
            "type": "scatterpolar"
           }
          ],
          "scatterpolargl": [
           {
            "marker": {
             "colorbar": {
              "outlinewidth": 0,
              "ticks": ""
             }
            },
            "type": "scatterpolargl"
           }
          ],
          "scatterternary": [
           {
            "marker": {
             "colorbar": {
              "outlinewidth": 0,
              "ticks": ""
             }
            },
            "type": "scatterternary"
           }
          ],
          "surface": [
           {
            "colorbar": {
             "outlinewidth": 0,
             "ticks": ""
            },
            "colorscale": [
             [
              0,
              "#0d0887"
             ],
             [
              0.1111111111111111,
              "#46039f"
             ],
             [
              0.2222222222222222,
              "#7201a8"
             ],
             [
              0.3333333333333333,
              "#9c179e"
             ],
             [
              0.4444444444444444,
              "#bd3786"
             ],
             [
              0.5555555555555556,
              "#d8576b"
             ],
             [
              0.6666666666666666,
              "#ed7953"
             ],
             [
              0.7777777777777778,
              "#fb9f3a"
             ],
             [
              0.8888888888888888,
              "#fdca26"
             ],
             [
              1,
              "#f0f921"
             ]
            ],
            "type": "surface"
           }
          ],
          "table": [
           {
            "cells": {
             "fill": {
              "color": "#EBF0F8"
             },
             "line": {
              "color": "white"
             }
            },
            "header": {
             "fill": {
              "color": "#C8D4E3"
             },
             "line": {
              "color": "white"
             }
            },
            "type": "table"
           }
          ]
         },
         "layout": {
          "annotationdefaults": {
           "arrowcolor": "#2a3f5f",
           "arrowhead": 0,
           "arrowwidth": 1
          },
          "autotypenumbers": "strict",
          "coloraxis": {
           "colorbar": {
            "outlinewidth": 0,
            "ticks": ""
           }
          },
          "colorscale": {
           "diverging": [
            [
             0,
             "#8e0152"
            ],
            [
             0.1,
             "#c51b7d"
            ],
            [
             0.2,
             "#de77ae"
            ],
            [
             0.3,
             "#f1b6da"
            ],
            [
             0.4,
             "#fde0ef"
            ],
            [
             0.5,
             "#f7f7f7"
            ],
            [
             0.6,
             "#e6f5d0"
            ],
            [
             0.7,
             "#b8e186"
            ],
            [
             0.8,
             "#7fbc41"
            ],
            [
             0.9,
             "#4d9221"
            ],
            [
             1,
             "#276419"
            ]
           ],
           "sequential": [
            [
             0,
             "#0d0887"
            ],
            [
             0.1111111111111111,
             "#46039f"
            ],
            [
             0.2222222222222222,
             "#7201a8"
            ],
            [
             0.3333333333333333,
             "#9c179e"
            ],
            [
             0.4444444444444444,
             "#bd3786"
            ],
            [
             0.5555555555555556,
             "#d8576b"
            ],
            [
             0.6666666666666666,
             "#ed7953"
            ],
            [
             0.7777777777777778,
             "#fb9f3a"
            ],
            [
             0.8888888888888888,
             "#fdca26"
            ],
            [
             1,
             "#f0f921"
            ]
           ],
           "sequentialminus": [
            [
             0,
             "#0d0887"
            ],
            [
             0.1111111111111111,
             "#46039f"
            ],
            [
             0.2222222222222222,
             "#7201a8"
            ],
            [
             0.3333333333333333,
             "#9c179e"
            ],
            [
             0.4444444444444444,
             "#bd3786"
            ],
            [
             0.5555555555555556,
             "#d8576b"
            ],
            [
             0.6666666666666666,
             "#ed7953"
            ],
            [
             0.7777777777777778,
             "#fb9f3a"
            ],
            [
             0.8888888888888888,
             "#fdca26"
            ],
            [
             1,
             "#f0f921"
            ]
           ]
          },
          "colorway": [
           "#636efa",
           "#EF553B",
           "#00cc96",
           "#ab63fa",
           "#FFA15A",
           "#19d3f3",
           "#FF6692",
           "#B6E880",
           "#FF97FF",
           "#FECB52"
          ],
          "font": {
           "color": "#2a3f5f"
          },
          "geo": {
           "bgcolor": "white",
           "lakecolor": "white",
           "landcolor": "#E5ECF6",
           "showlakes": true,
           "showland": true,
           "subunitcolor": "white"
          },
          "hoverlabel": {
           "align": "left"
          },
          "hovermode": "closest",
          "mapbox": {
           "style": "light"
          },
          "paper_bgcolor": "white",
          "plot_bgcolor": "#E5ECF6",
          "polar": {
           "angularaxis": {
            "gridcolor": "white",
            "linecolor": "white",
            "ticks": ""
           },
           "bgcolor": "#E5ECF6",
           "radialaxis": {
            "gridcolor": "white",
            "linecolor": "white",
            "ticks": ""
           }
          },
          "scene": {
           "xaxis": {
            "backgroundcolor": "#E5ECF6",
            "gridcolor": "white",
            "gridwidth": 2,
            "linecolor": "white",
            "showbackground": true,
            "ticks": "",
            "zerolinecolor": "white"
           },
           "yaxis": {
            "backgroundcolor": "#E5ECF6",
            "gridcolor": "white",
            "gridwidth": 2,
            "linecolor": "white",
            "showbackground": true,
            "ticks": "",
            "zerolinecolor": "white"
           },
           "zaxis": {
            "backgroundcolor": "#E5ECF6",
            "gridcolor": "white",
            "gridwidth": 2,
            "linecolor": "white",
            "showbackground": true,
            "ticks": "",
            "zerolinecolor": "white"
           }
          },
          "shapedefaults": {
           "line": {
            "color": "#2a3f5f"
           }
          },
          "ternary": {
           "aaxis": {
            "gridcolor": "white",
            "linecolor": "white",
            "ticks": ""
           },
           "baxis": {
            "gridcolor": "white",
            "linecolor": "white",
            "ticks": ""
           },
           "bgcolor": "#E5ECF6",
           "caxis": {
            "gridcolor": "white",
            "linecolor": "white",
            "ticks": ""
           }
          },
          "title": {
           "x": 0.05
          },
          "xaxis": {
           "automargin": true,
           "gridcolor": "white",
           "linecolor": "white",
           "ticks": "",
           "title": {
            "standoff": 15
           },
           "zerolinecolor": "white",
           "zerolinewidth": 2
          },
          "yaxis": {
           "automargin": true,
           "gridcolor": "white",
           "linecolor": "white",
           "ticks": "",
           "title": {
            "standoff": 15
           },
           "zerolinecolor": "white",
           "zerolinewidth": 2
          }
         }
        },
        "xaxis": {
         "anchor": "y",
         "domain": [
          0,
          1
         ],
         "title": {
          "text": "request"
         }
        },
        "yaxis": {
         "anchor": "x",
         "domain": [
          0,
          1
         ],
         "title": {
          "text": "Energy by interval"
         }
        }
       }
      },
      "text/html": [
       "<div>                            <div id=\"6ff54153-3fd1-42e9-9f97-e77b6d8600dd\" class=\"plotly-graph-div\" style=\"height:525px; width:100%;\"></div>            <script type=\"text/javascript\">                require([\"plotly\"], function(Plotly) {                    window.PLOTLYENV=window.PLOTLYENV || {};                                    if (document.getElementById(\"6ff54153-3fd1-42e9-9f97-e77b6d8600dd\")) {                    Plotly.newPlot(                        \"6ff54153-3fd1-42e9-9f97-e77b6d8600dd\",                        [{\"hovertemplate\":\"request=%{x}<br>Energy by interval=%{y}<extra></extra>\",\"legendgroup\":\"\",\"marker\":{\"color\":\"#636efa\",\"symbol\":\"circle\"},\"mode\":\"markers\",\"name\":\"\",\"orientation\":\"v\",\"showlegend\":false,\"x\":[322,315,701,571,355,351,332,309,332,428,357,355,401,401,387,419,395,409,357,314,283,221,188,118,124,49,129,120,60,129,139,151,196,194,67,21,236,139,50,64,66,26,76,101,114,119,67,50,36,36,54,50,121,116,65,83,107,105,69,58,108,140,102,139,156,117,58,30,70,90,130,68,135,172,318,311,296,267,288,140,68,108,179,163,153,251,396,399,392,382,391,299,312,343,242,290,321,380,112,59,51,44,119,238,267,258,124,100,50,106,58,82,105,17,53,97,151,190,125,136,180,99,189,39,41,99,44,110,104,100,128,68,121,138,79,124,8,8,21,69,66,63,36,21,49,30,41,44,58,64,116,52,66,33,84,139,145,66,134,91,61,97,65,122,168,179,121,69,84,129,71,98,78,123,112,81,161,210,107,59,92,37,26,26,59,43,86,185,182,174,235,86,104,147,105,75,157,144,96,143,197,102,158,172,142,66,118,73,113,36,70,117,174,170,191,104,80,126,201,239,73,79,24,112,19,46,58,74,19,42,86,41,25,117,127,90,58,80,132,65,49,72,116,112,63,43,107,69,92,66,35,87,20,20,74,82,62,31,31,105,30,28,39,51,36,81,108,55,103,124,119,83,23,50,78,94,129,183,246,230,179,187,161,197,331,119,85,77,100,117,175,162,152,134,156,74,92,217,237,277,118,80,204,353,405,230,134,224,128,157,194,388,395,317,207,430,460,238,238,243,153,131,159,143,97,289,230,48,90,220,156,115,218,229,376,124,159,378,47,42,22,22,44,22,14,47,29,157,177,53,154,241,177,123,127,155,139,113,203,157,130,104,215,213,287,208,148,258,253,202,140,115,206,209,142],\"xaxis\":\"x\",\"y\":[0.640868,0.7610250000000001,0.7240079999999998,0.71156,0.6916390000000003,0.7048489999999998,0.7051590000000001,0.7055379999999998,0.6880389999999998,0.7182580000000005,0.6958469999999997,0.7056979999999999,0.7103350000000006,0.725382999999999,0.7225860000000015,0.7205589999999997,0.7229770000000002,0.7106019999999997,0.7104009999999992,0.7003350000000008,0.6173830000000002,0.5681750000000001,0.5367929999999994,0.5118580000000001,0.49440099999999987,0.48838399999999993,0.5137870000000007,0.5107909999999976,0.49290000000000234,0.5005290000000002,0.5187089999999976,0.5427990000000023,0.546599999999998,0.5658890000000021,0.46661599999999837,0.44817700000000116,0.5666119999999992,0.5040900000000015,0.4667519999999996,0.47387200000000007,0.4731029999999983,0.451549,0.49149399999999943,0.49054100000000034,0.49868600000000285,0.5028619999999968,0.4933150000000026,0.46317200000000014,0.4632039999999975,0.45148400000000066,0.46847100000000097,0.4582379999999979,0.5169550000000029,0.4827079999999988,0.4697889999999987,0.4768329999999992,0.49696200000000346,0.4963769999999954,0.49667400000000583,0.473393999999999,0.49362399999999695,0.522157,0.507044999999998,0.507123,0.5282290000000032,0.4966280000000012,0.47140699999999924,0.4612860000000012,0.48719399999999524,0.49510100000000534,0.5425639999999987,0.4907540000000026,0.5654319999999942,0.5717670000000012,0.6836970000000022,0.688015,0.6791070000000019,0.6687820000000002,0.7020259999999965,0.5460320000000038,0.4818730000000002,0.5155799999999999,0.5336679999999987,0.5086999999999975,0.514558000000001,0.612727999999997,0.6937850000000054,0.6894919999999942,0.6950870000000009,0.7122689999999992,0.6950789999999998,0.6650960000000055,0.6871159999999961,0.6891889999999989,0.6487440000000007,0.692021000000004,0.6902449999999973,0.7124560000000031,0.5102569999999957,0.4554730000000049,0.4762089999999972,0.45297399999999755,0.5101760000000013,0.549153000000004,0.5754379999999983,0.5411029999999997,0.501925,0.47851,0.4816760000000002,0.5176699999999954,0.5128370000000047,0.4973150000000004,0.5091370000000026,0.45093599999999867,0.49070199999999886,0.48288800000000265,0.5168319999999937,0.5612129999999951,0.5254850000000033,0.5324980000000039,0.5482879999999994,0.47862499999999386,0.5342130000000083,0.4616489999999942,0.46525599999999656,0.4988840000000039,0.48523500000000297,0.46592200000000616,0.49699199999999166,0.5131910000000062,0.49569099999999366,0.46133600000000285,0.5051689999999951,0.5033329999999978,0.47080300000000364,0.5132940000000019,0.44228999999999985,0.44009200000000703,0.4564409999999981,0.4620919999999984,0.45552700000000357,0.4722659999999905,0.4626520000000056,0.4628670000000028,0.48857900000000143,0.44476099999999974,0.4692879999999917,0.4526299999999992,0.47862200000000144,0.4614909999999952,0.522697000000008,0.4710709999999949,0.46897500000000036,0.4587330000000094,0.48623800000000017,0.5116749999999968,0.5358269999999976,0.48446099999999603,0.5503220000000084,0.49280899999999406,0.4711110000000076,0.5047179999999969,0.47615600000000313,0.4981999999999971,0.547356999999991,0.5512740000000065,0.5165619999999933,0.4728860000000026,0.49477100000000007,0.5061070000000001,0.4798490000000015,0.4853389999999962,0.4941140000000104,0.49813699999999983,0.5186339999999916,0.540346999999997,0.5423710000000028,0.556153000000009,0.4895360000000011,0.4803139999999928,0.5093980000000045,0.47077499999998906,0.4537120000000101,0.4591350000000034,0.47923499999998853,0.5041750000000036,0.49903399999999465,0.5853090000000094,0.5676519999999954,0.5159820000000082,0.5847979999999922,0.46853799999999524,0.48592299999999966,0.517626000000007,0.5463809999999967,0.49340600000000734,0.5518079999999941,0.5506850000000014,0.5172440000000051,0.5206359999999961,0.5396570000000054,0.5127459999999928,0.5433100000000053,0.5349080000000015,0.5379349999999903,0.5157570000000078,0.5031599999999941,0.5217439999999982,0.5316210000000012,0.46875699999999654,0.49098200000000247,0.5149040000000014,0.5330110000000019,0.5299669999999992,0.47973899999999503,0.494679000000005,0.5012049999999988,0.5147130000000004,0.5332240000000041,0.5667919999999924,0.47791700000000503,0.47795100000000446,0.46121300000000076,0.5020200000000017,0.4530689999999993,0.47130199999999434,0.4902270000000044,0.4924429999999944,0.4510920000000027,0.4650359999999978,0.4982619999999969,0.45935099999999807,0.4485160000000121,0.49208199999999636,0.5340789999999913,0.466622000000001,0.474724000000009,0.48942300000000216,0.48934899999999004,0.49708499999999844,0.49509700000001544,0.48233999999999355,0.5071570000000065,0.4936749999999961,0.4805029999999988,0.4647060000000067,0.48576099999999656,0.45658699999998476,0.48721499999999196,0.49426500000001283,0.46479600000000687,0.46856800000000476,0.45455899999998906,0.443870000000004,0.4727959999999882,0.48374800000001983,0.4587980000000016,0.45655199999998786,0.45990399999999454,0.49141700000001265,0.45349899999999366,0.46085299999998597,0.47964800000002583,0.48529599999997686,0.45858100000000945,0.4975220000000036,0.5325619999999844,0.463183000000015,0.5074109999999905,0.5245209999999929,0.5210260000000062,0.482859000000019,0.4563089999999761,0.48624500000002513,0.4897359999999935,0.4803799999999967,0.5122969999999896,0.539890000000014,0.5156020000000012,0.5279500000000041,0.5136159999999848,0.5617450000000019,0.5618249999999989,0.5416069999999991,0.6004849999999919,0.5454360000000236,0.49628199999997946,0.48319900000001326,0.5171479999999917,0.5333820000000173,0.5712879999999814,0.5204339999999945,0.5515260000000239,0.554333999999983,0.5748670000000118,0.47004499999999894,0.4969370000000026,0.6211869999999919,0.6004039999999975,0.609484000000009,0.4904080000000022,0.517786000000001,0.5953399999999931,0.7207899999999938,0.6782890000000066,0.5558560000000057,0.5072600000000023,0.5521509999999807,0.4981200000000001,0.5191480000000013,0.5631899999999916,0.7065190000000143,0.6887040000000013,0.6035009999999943,0.5539090000000044,0.6843279999999936,0.6857420000000047,0.5582229999999981,0.5487160000000131,0.5531599999999912,0.5064490000000035,0.5153489999999863,0.5492859999999951,0.5085870000000057,0.5034809999999936,0.5726490000000126,0.6074169999999981,0.4733410000000049,0.5098010000000102,0.5180560000000014,0.49310699999998064,0.4821720000000198,0.545899999999989,0.5365490000000079,0.6130509999999845,0.5080870000000175,0.511825999999985,0.5349600000000123,0.4741499999999803,0.4477020000000209,0.4543419999999969,0.4528439999999989,0.4609439999999836,0.43385000000000673,0.4448720000000037,0.46831000000000245,0.46279799999999227,0.5301760000000115,0.5521139999999889,0.47650600000000054,0.5516900000000078,0.5757270000000005,0.5412609999999916,0.49659400000001597,0.5099379999999769,0.5117290000000025,0.504273000000012,0.5021839999999997,0.5566460000000006,0.5198759999999822,0.48823700000002646,0.4986159999999984,0.5940099999999973,0.5822589999999934,0.6003519999999867,0.5864310000000046,0.5386469999999974,0.5928000000000111,0.5635780000000068,0.5934890000000053,0.5036619999999914,0.49589399999999273,0.557060000000007,0.5494259999999827,0.5307740000000081],\"yaxis\":\"y\",\"type\":\"scatter\"}],                        {\"template\":{\"data\":{\"histogram2dcontour\":[{\"type\":\"histogram2dcontour\",\"colorbar\":{\"outlinewidth\":0,\"ticks\":\"\"},\"colorscale\":[[0.0,\"#0d0887\"],[0.1111111111111111,\"#46039f\"],[0.2222222222222222,\"#7201a8\"],[0.3333333333333333,\"#9c179e\"],[0.4444444444444444,\"#bd3786\"],[0.5555555555555556,\"#d8576b\"],[0.6666666666666666,\"#ed7953\"],[0.7777777777777778,\"#fb9f3a\"],[0.8888888888888888,\"#fdca26\"],[1.0,\"#f0f921\"]]}],\"choropleth\":[{\"type\":\"choropleth\",\"colorbar\":{\"outlinewidth\":0,\"ticks\":\"\"}}],\"histogram2d\":[{\"type\":\"histogram2d\",\"colorbar\":{\"outlinewidth\":0,\"ticks\":\"\"},\"colorscale\":[[0.0,\"#0d0887\"],[0.1111111111111111,\"#46039f\"],[0.2222222222222222,\"#7201a8\"],[0.3333333333333333,\"#9c179e\"],[0.4444444444444444,\"#bd3786\"],[0.5555555555555556,\"#d8576b\"],[0.6666666666666666,\"#ed7953\"],[0.7777777777777778,\"#fb9f3a\"],[0.8888888888888888,\"#fdca26\"],[1.0,\"#f0f921\"]]}],\"heatmap\":[{\"type\":\"heatmap\",\"colorbar\":{\"outlinewidth\":0,\"ticks\":\"\"},\"colorscale\":[[0.0,\"#0d0887\"],[0.1111111111111111,\"#46039f\"],[0.2222222222222222,\"#7201a8\"],[0.3333333333333333,\"#9c179e\"],[0.4444444444444444,\"#bd3786\"],[0.5555555555555556,\"#d8576b\"],[0.6666666666666666,\"#ed7953\"],[0.7777777777777778,\"#fb9f3a\"],[0.8888888888888888,\"#fdca26\"],[1.0,\"#f0f921\"]]}],\"heatmapgl\":[{\"type\":\"heatmapgl\",\"colorbar\":{\"outlinewidth\":0,\"ticks\":\"\"},\"colorscale\":[[0.0,\"#0d0887\"],[0.1111111111111111,\"#46039f\"],[0.2222222222222222,\"#7201a8\"],[0.3333333333333333,\"#9c179e\"],[0.4444444444444444,\"#bd3786\"],[0.5555555555555556,\"#d8576b\"],[0.6666666666666666,\"#ed7953\"],[0.7777777777777778,\"#fb9f3a\"],[0.8888888888888888,\"#fdca26\"],[1.0,\"#f0f921\"]]}],\"contourcarpet\":[{\"type\":\"contourcarpet\",\"colorbar\":{\"outlinewidth\":0,\"ticks\":\"\"}}],\"contour\":[{\"type\":\"contour\",\"colorbar\":{\"outlinewidth\":0,\"ticks\":\"\"},\"colorscale\":[[0.0,\"#0d0887\"],[0.1111111111111111,\"#46039f\"],[0.2222222222222222,\"#7201a8\"],[0.3333333333333333,\"#9c179e\"],[0.4444444444444444,\"#bd3786\"],[0.5555555555555556,\"#d8576b\"],[0.6666666666666666,\"#ed7953\"],[0.7777777777777778,\"#fb9f3a\"],[0.8888888888888888,\"#fdca26\"],[1.0,\"#f0f921\"]]}],\"surface\":[{\"type\":\"surface\",\"colorbar\":{\"outlinewidth\":0,\"ticks\":\"\"},\"colorscale\":[[0.0,\"#0d0887\"],[0.1111111111111111,\"#46039f\"],[0.2222222222222222,\"#7201a8\"],[0.3333333333333333,\"#9c179e\"],[0.4444444444444444,\"#bd3786\"],[0.5555555555555556,\"#d8576b\"],[0.6666666666666666,\"#ed7953\"],[0.7777777777777778,\"#fb9f3a\"],[0.8888888888888888,\"#fdca26\"],[1.0,\"#f0f921\"]]}],\"mesh3d\":[{\"type\":\"mesh3d\",\"colorbar\":{\"outlinewidth\":0,\"ticks\":\"\"}}],\"scatter\":[{\"fillpattern\":{\"fillmode\":\"overlay\",\"size\":10,\"solidity\":0.2},\"type\":\"scatter\"}],\"parcoords\":[{\"type\":\"parcoords\",\"line\":{\"colorbar\":{\"outlinewidth\":0,\"ticks\":\"\"}}}],\"scatterpolargl\":[{\"type\":\"scatterpolargl\",\"marker\":{\"colorbar\":{\"outlinewidth\":0,\"ticks\":\"\"}}}],\"bar\":[{\"error_x\":{\"color\":\"#2a3f5f\"},\"error_y\":{\"color\":\"#2a3f5f\"},\"marker\":{\"line\":{\"color\":\"#E5ECF6\",\"width\":0.5},\"pattern\":{\"fillmode\":\"overlay\",\"size\":10,\"solidity\":0.2}},\"type\":\"bar\"}],\"scattergeo\":[{\"type\":\"scattergeo\",\"marker\":{\"colorbar\":{\"outlinewidth\":0,\"ticks\":\"\"}}}],\"scatterpolar\":[{\"type\":\"scatterpolar\",\"marker\":{\"colorbar\":{\"outlinewidth\":0,\"ticks\":\"\"}}}],\"histogram\":[{\"marker\":{\"pattern\":{\"fillmode\":\"overlay\",\"size\":10,\"solidity\":0.2}},\"type\":\"histogram\"}],\"scattergl\":[{\"type\":\"scattergl\",\"marker\":{\"colorbar\":{\"outlinewidth\":0,\"ticks\":\"\"}}}],\"scatter3d\":[{\"type\":\"scatter3d\",\"line\":{\"colorbar\":{\"outlinewidth\":0,\"ticks\":\"\"}},\"marker\":{\"colorbar\":{\"outlinewidth\":0,\"ticks\":\"\"}}}],\"scattermapbox\":[{\"type\":\"scattermapbox\",\"marker\":{\"colorbar\":{\"outlinewidth\":0,\"ticks\":\"\"}}}],\"scatterternary\":[{\"type\":\"scatterternary\",\"marker\":{\"colorbar\":{\"outlinewidth\":0,\"ticks\":\"\"}}}],\"scattercarpet\":[{\"type\":\"scattercarpet\",\"marker\":{\"colorbar\":{\"outlinewidth\":0,\"ticks\":\"\"}}}],\"carpet\":[{\"aaxis\":{\"endlinecolor\":\"#2a3f5f\",\"gridcolor\":\"white\",\"linecolor\":\"white\",\"minorgridcolor\":\"white\",\"startlinecolor\":\"#2a3f5f\"},\"baxis\":{\"endlinecolor\":\"#2a3f5f\",\"gridcolor\":\"white\",\"linecolor\":\"white\",\"minorgridcolor\":\"white\",\"startlinecolor\":\"#2a3f5f\"},\"type\":\"carpet\"}],\"table\":[{\"cells\":{\"fill\":{\"color\":\"#EBF0F8\"},\"line\":{\"color\":\"white\"}},\"header\":{\"fill\":{\"color\":\"#C8D4E3\"},\"line\":{\"color\":\"white\"}},\"type\":\"table\"}],\"barpolar\":[{\"marker\":{\"line\":{\"color\":\"#E5ECF6\",\"width\":0.5},\"pattern\":{\"fillmode\":\"overlay\",\"size\":10,\"solidity\":0.2}},\"type\":\"barpolar\"}],\"pie\":[{\"automargin\":true,\"type\":\"pie\"}]},\"layout\":{\"autotypenumbers\":\"strict\",\"colorway\":[\"#636efa\",\"#EF553B\",\"#00cc96\",\"#ab63fa\",\"#FFA15A\",\"#19d3f3\",\"#FF6692\",\"#B6E880\",\"#FF97FF\",\"#FECB52\"],\"font\":{\"color\":\"#2a3f5f\"},\"hovermode\":\"closest\",\"hoverlabel\":{\"align\":\"left\"},\"paper_bgcolor\":\"white\",\"plot_bgcolor\":\"#E5ECF6\",\"polar\":{\"bgcolor\":\"#E5ECF6\",\"angularaxis\":{\"gridcolor\":\"white\",\"linecolor\":\"white\",\"ticks\":\"\"},\"radialaxis\":{\"gridcolor\":\"white\",\"linecolor\":\"white\",\"ticks\":\"\"}},\"ternary\":{\"bgcolor\":\"#E5ECF6\",\"aaxis\":{\"gridcolor\":\"white\",\"linecolor\":\"white\",\"ticks\":\"\"},\"baxis\":{\"gridcolor\":\"white\",\"linecolor\":\"white\",\"ticks\":\"\"},\"caxis\":{\"gridcolor\":\"white\",\"linecolor\":\"white\",\"ticks\":\"\"}},\"coloraxis\":{\"colorbar\":{\"outlinewidth\":0,\"ticks\":\"\"}},\"colorscale\":{\"sequential\":[[0.0,\"#0d0887\"],[0.1111111111111111,\"#46039f\"],[0.2222222222222222,\"#7201a8\"],[0.3333333333333333,\"#9c179e\"],[0.4444444444444444,\"#bd3786\"],[0.5555555555555556,\"#d8576b\"],[0.6666666666666666,\"#ed7953\"],[0.7777777777777778,\"#fb9f3a\"],[0.8888888888888888,\"#fdca26\"],[1.0,\"#f0f921\"]],\"sequentialminus\":[[0.0,\"#0d0887\"],[0.1111111111111111,\"#46039f\"],[0.2222222222222222,\"#7201a8\"],[0.3333333333333333,\"#9c179e\"],[0.4444444444444444,\"#bd3786\"],[0.5555555555555556,\"#d8576b\"],[0.6666666666666666,\"#ed7953\"],[0.7777777777777778,\"#fb9f3a\"],[0.8888888888888888,\"#fdca26\"],[1.0,\"#f0f921\"]],\"diverging\":[[0,\"#8e0152\"],[0.1,\"#c51b7d\"],[0.2,\"#de77ae\"],[0.3,\"#f1b6da\"],[0.4,\"#fde0ef\"],[0.5,\"#f7f7f7\"],[0.6,\"#e6f5d0\"],[0.7,\"#b8e186\"],[0.8,\"#7fbc41\"],[0.9,\"#4d9221\"],[1,\"#276419\"]]},\"xaxis\":{\"gridcolor\":\"white\",\"linecolor\":\"white\",\"ticks\":\"\",\"title\":{\"standoff\":15},\"zerolinecolor\":\"white\",\"automargin\":true,\"zerolinewidth\":2},\"yaxis\":{\"gridcolor\":\"white\",\"linecolor\":\"white\",\"ticks\":\"\",\"title\":{\"standoff\":15},\"zerolinecolor\":\"white\",\"automargin\":true,\"zerolinewidth\":2},\"scene\":{\"xaxis\":{\"backgroundcolor\":\"#E5ECF6\",\"gridcolor\":\"white\",\"linecolor\":\"white\",\"showbackground\":true,\"ticks\":\"\",\"zerolinecolor\":\"white\",\"gridwidth\":2},\"yaxis\":{\"backgroundcolor\":\"#E5ECF6\",\"gridcolor\":\"white\",\"linecolor\":\"white\",\"showbackground\":true,\"ticks\":\"\",\"zerolinecolor\":\"white\",\"gridwidth\":2},\"zaxis\":{\"backgroundcolor\":\"#E5ECF6\",\"gridcolor\":\"white\",\"linecolor\":\"white\",\"showbackground\":true,\"ticks\":\"\",\"zerolinecolor\":\"white\",\"gridwidth\":2}},\"shapedefaults\":{\"line\":{\"color\":\"#2a3f5f\"}},\"annotationdefaults\":{\"arrowcolor\":\"#2a3f5f\",\"arrowhead\":0,\"arrowwidth\":1},\"geo\":{\"bgcolor\":\"white\",\"landcolor\":\"#E5ECF6\",\"subunitcolor\":\"white\",\"showland\":true,\"showlakes\":true,\"lakecolor\":\"white\"},\"title\":{\"x\":0.05},\"mapbox\":{\"style\":\"light\"}}},\"xaxis\":{\"anchor\":\"y\",\"domain\":[0.0,1.0],\"title\":{\"text\":\"request\"}},\"yaxis\":{\"anchor\":\"x\",\"domain\":[0.0,1.0],\"title\":{\"text\":\"Energy by interval\"}},\"legend\":{\"tracegroupgap\":0},\"margin\":{\"t\":60}},                        {\"responsive\": true}                    ).then(function(){\n",
       "                            \n",
       "var gd = document.getElementById('6ff54153-3fd1-42e9-9f97-e77b6d8600dd');\n",
       "var x = new MutationObserver(function (mutations, observer) {{\n",
       "        var display = window.getComputedStyle(gd).display;\n",
       "        if (!display || display === 'none') {{\n",
       "            console.log([gd, 'removed!']);\n",
       "            Plotly.purge(gd);\n",
       "            observer.disconnect();\n",
       "        }}\n",
       "}});\n",
       "\n",
       "// Listen for the removal of the full notebook cells\n",
       "var notebookContainer = gd.closest('#notebook-container');\n",
       "if (notebookContainer) {{\n",
       "    x.observe(notebookContainer, {childList: true});\n",
       "}}\n",
       "\n",
       "// Listen for the clearing of the current output cell\n",
       "var outputEl = gd.closest('.output');\n",
       "if (outputEl) {{\n",
       "    x.observe(outputEl, {childList: true});\n",
       "}}\n",
       "\n",
       "                        })                };                });            </script>        </div>"
      ]
     },
     "metadata": {},
     "output_type": "display_data"
    }
   ],
   "source": [
    "alllogdf.plot(x=\"request\", y=\"Energy by interval\", kind=\"scatter\")"
   ]
  },
  {
   "cell_type": "markdown",
   "id": "8e6f6549",
   "metadata": {},
   "source": [
    "### Plotting log values"
   ]
  },
  {
   "cell_type": "code",
   "execution_count": 49,
   "id": "acd52e8f",
   "metadata": {
    "scrolled": false
   },
   "outputs": [
    {
     "data": {
      "application/vnd.plotly.v1+json": {
       "config": {
        "plotlyServerURL": "https://plot.ly"
       },
       "data": [
        {
         "hovertemplate": "variable=log energy<br>date=%{x}<br>value=%{y}<extra></extra>",
         "legendgroup": "log energy",
         "line": {
          "color": "#636efa",
          "dash": "solid"
         },
         "marker": {
          "symbol": "circle"
         },
         "mode": "lines",
         "name": "log energy",
         "orientation": "v",
         "showlegend": true,
         "type": "scatter",
         "x": [
          "2022-09-22T15:15:00",
          "2022-09-22T15:30:00",
          "2022-09-22T15:45:00",
          "2022-09-22T16:00:00",
          "2022-09-22T16:15:00",
          "2022-09-22T16:30:00",
          "2022-09-22T16:45:00",
          "2022-09-22T17:00:00",
          "2022-09-22T17:15:00",
          "2022-09-22T17:30:00",
          "2022-09-22T17:45:00",
          "2022-09-22T18:00:00",
          "2022-09-22T18:15:00",
          "2022-09-22T18:30:00",
          "2022-09-22T18:45:00",
          "2022-09-22T19:00:00",
          "2022-09-22T19:15:00",
          "2022-09-22T19:30:00",
          "2022-09-22T19:45:00",
          "2022-09-22T20:00:00",
          "2022-09-22T20:15:00",
          "2022-09-22T20:30:00",
          "2022-09-22T20:45:00",
          "2022-09-22T21:00:00",
          "2022-09-22T21:15:00",
          "2022-09-22T21:30:00",
          "2022-09-22T21:45:00",
          "2022-09-22T22:00:00",
          "2022-09-22T22:15:00",
          "2022-09-22T22:30:00",
          "2022-09-22T22:45:00",
          "2022-09-22T23:00:00",
          "2022-09-22T23:15:00",
          "2022-09-22T23:30:00",
          "2022-09-22T23:45:00",
          "2022-09-23T00:00:00",
          "2022-09-23T00:15:00",
          "2022-09-23T00:30:00",
          "2022-09-23T00:45:00",
          "2022-09-23T01:00:00",
          "2022-09-23T01:15:00",
          "2022-09-23T01:30:00",
          "2022-09-23T01:45:00",
          "2022-09-23T02:00:00",
          "2022-09-23T02:15:00",
          "2022-09-23T02:30:00",
          "2022-09-23T02:45:00",
          "2022-09-23T03:00:00",
          "2022-09-23T03:15:00",
          "2022-09-23T03:30:00",
          "2022-09-23T03:45:00",
          "2022-09-23T04:00:00",
          "2022-09-23T04:15:00",
          "2022-09-23T04:30:00",
          "2022-09-23T04:45:00",
          "2022-09-23T05:00:00",
          "2022-09-23T05:15:00",
          "2022-09-23T05:30:00",
          "2022-09-23T05:45:00",
          "2022-09-23T06:00:00",
          "2022-09-23T06:15:00",
          "2022-09-23T06:30:00",
          "2022-09-23T06:45:00",
          "2022-09-23T07:00:00",
          "2022-09-23T07:15:00",
          "2022-09-23T07:30:00",
          "2022-09-23T07:45:00",
          "2022-09-23T08:00:00",
          "2022-09-23T08:15:00",
          "2022-09-23T08:30:00",
          "2022-09-23T08:45:00",
          "2022-09-23T09:00:00",
          "2022-09-23T09:15:00",
          "2022-09-23T09:30:00",
          "2022-09-23T09:45:00",
          "2022-09-23T10:00:00",
          "2022-09-23T10:15:00",
          "2022-09-23T10:30:00",
          "2022-09-23T10:45:00",
          "2022-09-23T11:00:00",
          "2022-09-23T11:15:00",
          "2022-09-23T11:30:00",
          "2022-09-23T11:45:00",
          "2022-09-23T12:00:00",
          "2022-09-23T12:15:00",
          "2022-09-23T12:30:00",
          "2022-09-23T12:45:00",
          "2022-09-23T13:00:00",
          "2022-09-23T13:15:00",
          "2022-09-23T13:30:00",
          "2022-09-23T13:45:00",
          "2022-09-23T14:00:00",
          "2022-09-23T14:15:00",
          "2022-09-23T14:30:00",
          "2022-09-23T14:45:00",
          "2022-09-23T15:00:00",
          "2022-09-23T15:15:00",
          "2022-09-23T15:30:00",
          "2022-09-23T15:45:00",
          "2022-09-23T16:00:00",
          "2022-09-23T16:15:00",
          "2022-09-23T16:30:00",
          "2022-09-23T16:45:00",
          "2022-09-23T17:00:00",
          "2022-09-23T17:15:00",
          "2022-09-23T17:30:00",
          "2022-09-23T17:45:00",
          "2022-09-23T18:00:00",
          "2022-09-23T18:15:00",
          "2022-09-23T18:30:00",
          "2022-09-23T18:45:00",
          "2022-09-23T19:00:00",
          "2022-09-23T19:15:00",
          "2022-09-23T19:30:00",
          "2022-09-23T19:45:00",
          "2022-09-23T20:00:00",
          "2022-09-23T20:15:00",
          "2022-09-23T20:30:00",
          "2022-09-23T20:45:00",
          "2022-09-23T21:00:00",
          "2022-09-23T21:15:00",
          "2022-09-23T21:30:00",
          "2022-09-23T21:45:00",
          "2022-09-23T22:00:00",
          "2022-09-23T22:15:00",
          "2022-09-23T22:30:00",
          "2022-09-23T22:45:00",
          "2022-09-23T23:00:00",
          "2022-09-23T23:15:00",
          "2022-09-23T23:30:00",
          "2022-09-23T23:45:00",
          "2022-09-24T00:00:00",
          "2022-09-24T00:15:00",
          "2022-09-24T00:30:00",
          "2022-09-24T00:45:00",
          "2022-09-24T01:00:00",
          "2022-09-24T01:15:00",
          "2022-09-24T01:30:00",
          "2022-09-24T01:45:00",
          "2022-09-24T02:00:00",
          "2022-09-24T02:15:00",
          "2022-09-24T02:30:00",
          "2022-09-24T02:45:00",
          "2022-09-24T03:00:00",
          "2022-09-24T03:15:00",
          "2022-09-24T03:30:00",
          "2022-09-24T03:45:00",
          "2022-09-24T04:00:00",
          "2022-09-24T04:15:00",
          "2022-09-24T04:30:00",
          "2022-09-24T04:45:00",
          "2022-09-24T05:00:00",
          "2022-09-24T05:15:00",
          "2022-09-24T05:30:00",
          "2022-09-24T05:45:00",
          "2022-09-24T06:00:00",
          "2022-09-24T06:15:00",
          "2022-09-24T06:30:00",
          "2022-09-24T06:45:00",
          "2022-09-24T07:00:00",
          "2022-09-24T07:15:00",
          "2022-09-24T07:30:00",
          "2022-09-24T07:45:00",
          "2022-09-24T08:00:00",
          "2022-09-24T08:15:00",
          "2022-09-24T08:30:00",
          "2022-09-24T08:45:00",
          "2022-09-24T09:00:00",
          "2022-09-24T09:15:00",
          "2022-09-24T09:30:00",
          "2022-09-24T09:45:00",
          "2022-09-24T10:00:00",
          "2022-09-24T10:15:00",
          "2022-09-24T10:30:00",
          "2022-09-24T10:45:00",
          "2022-09-24T11:00:00",
          "2022-09-24T11:15:00",
          "2022-09-24T11:30:00",
          "2022-09-24T11:45:00",
          "2022-09-24T12:00:00",
          "2022-09-24T12:15:00",
          "2022-09-24T12:30:00",
          "2022-09-24T12:45:00",
          "2022-09-24T13:00:00",
          "2022-09-24T13:15:00",
          "2022-09-24T13:30:00",
          "2022-09-24T13:45:00",
          "2022-09-24T14:00:00",
          "2022-09-24T14:15:00",
          "2022-09-24T14:30:00",
          "2022-09-24T14:45:00",
          "2022-09-24T15:00:00",
          "2022-09-24T15:15:00",
          "2022-09-24T15:30:00",
          "2022-09-24T15:45:00",
          "2022-09-24T16:00:00",
          "2022-09-24T16:15:00",
          "2022-09-24T16:30:00",
          "2022-09-24T16:45:00",
          "2022-09-24T17:00:00",
          "2022-09-24T17:15:00",
          "2022-09-24T17:30:00",
          "2022-09-24T17:45:00",
          "2022-09-24T18:00:00",
          "2022-09-24T18:15:00",
          "2022-09-24T18:30:00",
          "2022-09-24T18:45:00",
          "2022-09-24T19:00:00",
          "2022-09-24T19:15:00",
          "2022-09-24T19:30:00",
          "2022-09-24T19:45:00",
          "2022-09-24T20:00:00",
          "2022-09-24T20:15:00",
          "2022-09-24T20:30:00",
          "2022-09-24T20:45:00",
          "2022-09-24T21:00:00",
          "2022-09-24T21:15:00",
          "2022-09-24T21:30:00",
          "2022-09-24T21:45:00",
          "2022-09-24T22:00:00",
          "2022-09-24T22:15:00",
          "2022-09-24T22:30:00",
          "2022-09-24T22:45:00",
          "2022-09-24T23:00:00",
          "2022-09-24T23:15:00",
          "2022-09-24T23:30:00",
          "2022-09-24T23:45:00",
          "2022-09-25T00:00:00",
          "2022-09-25T00:15:00",
          "2022-09-25T00:30:00",
          "2022-09-25T00:45:00",
          "2022-09-25T01:00:00",
          "2022-09-25T01:15:00",
          "2022-09-25T01:30:00",
          "2022-09-25T01:45:00",
          "2022-09-25T02:00:00",
          "2022-09-25T02:15:00",
          "2022-09-25T02:30:00",
          "2022-09-25T02:45:00",
          "2022-09-25T03:00:00",
          "2022-09-25T03:15:00",
          "2022-09-25T03:30:00",
          "2022-09-25T03:45:00",
          "2022-09-25T04:00:00",
          "2022-09-25T04:15:00",
          "2022-09-25T04:30:00",
          "2022-09-25T04:45:00",
          "2022-09-25T05:00:00",
          "2022-09-25T05:15:00",
          "2022-09-25T05:30:00",
          "2022-09-25T05:45:00",
          "2022-09-25T06:00:00",
          "2022-09-25T06:15:00",
          "2022-09-25T06:30:00",
          "2022-09-25T06:45:00",
          "2022-09-25T07:00:00",
          "2022-09-25T07:15:00",
          "2022-09-25T07:30:00",
          "2022-09-25T07:45:00",
          "2022-09-25T08:00:00",
          "2022-09-25T08:15:00",
          "2022-09-25T08:30:00",
          "2022-09-25T08:45:00",
          "2022-09-25T09:00:00",
          "2022-09-25T09:15:00",
          "2022-09-25T09:30:00",
          "2022-09-25T09:45:00",
          "2022-09-25T10:00:00",
          "2022-09-25T10:15:00",
          "2022-09-25T10:30:00",
          "2022-09-25T10:45:00",
          "2022-09-25T11:00:00",
          "2022-09-25T11:15:00",
          "2022-09-25T11:30:00",
          "2022-09-25T11:45:00",
          "2022-09-25T12:00:00",
          "2022-09-25T12:15:00",
          "2022-09-25T12:30:00",
          "2022-09-25T12:45:00",
          "2022-09-25T13:00:00",
          "2022-09-25T13:15:00",
          "2022-09-25T13:30:00",
          "2022-09-25T13:45:00",
          "2022-09-25T14:00:00",
          "2022-09-25T14:15:00",
          "2022-09-25T14:30:00",
          "2022-09-25T14:45:00",
          "2022-09-25T15:00:00",
          "2022-09-25T15:15:00",
          "2022-09-25T15:30:00",
          "2022-09-25T15:45:00",
          "2022-09-25T16:00:00",
          "2022-09-25T16:15:00",
          "2022-09-25T16:30:00",
          "2022-09-25T16:45:00",
          "2022-09-25T17:00:00",
          "2022-09-25T17:15:00",
          "2022-09-25T17:30:00",
          "2022-09-25T17:45:00",
          "2022-09-25T18:00:00",
          "2022-09-25T18:15:00",
          "2022-09-25T18:30:00",
          "2022-09-25T18:45:00",
          "2022-09-25T19:00:00",
          "2022-09-25T19:15:00",
          "2022-09-25T19:30:00",
          "2022-09-25T19:45:00",
          "2022-09-25T20:00:00",
          "2022-09-25T20:15:00",
          "2022-09-25T20:30:00",
          "2022-09-25T20:45:00",
          "2022-09-25T21:00:00",
          "2022-09-25T21:15:00",
          "2022-09-25T21:30:00",
          "2022-09-25T21:45:00",
          "2022-09-25T22:00:00",
          "2022-09-25T22:15:00",
          "2022-09-25T22:30:00",
          "2022-09-25T22:45:00",
          "2022-09-25T23:00:00",
          "2022-09-25T23:15:00",
          "2022-09-25T23:30:00",
          "2022-09-25T23:45:00",
          "2022-09-26T00:00:00",
          "2022-09-26T00:15:00",
          "2022-09-26T00:30:00",
          "2022-09-26T00:45:00",
          "2022-09-26T01:00:00",
          "2022-09-26T01:15:00",
          "2022-09-26T01:30:00",
          "2022-09-26T01:45:00",
          "2022-09-26T02:00:00",
          "2022-09-26T02:15:00",
          "2022-09-26T02:30:00",
          "2022-09-26T02:45:00",
          "2022-09-26T03:00:00",
          "2022-09-26T03:15:00",
          "2022-09-26T03:30:00",
          "2022-09-26T03:45:00",
          "2022-09-26T04:00:00",
          "2022-09-26T04:15:00",
          "2022-09-26T04:30:00",
          "2022-09-26T04:45:00",
          "2022-09-26T05:00:00",
          "2022-09-26T05:15:00",
          "2022-09-26T05:30:00",
          "2022-09-26T05:45:00",
          "2022-09-26T06:00:00",
          "2022-09-26T06:15:00",
          "2022-09-26T06:30:00",
          "2022-09-26T06:45:00",
          "2022-09-26T07:00:00",
          "2022-09-26T07:15:00",
          "2022-09-26T07:30:00",
          "2022-09-26T07:45:00",
          "2022-09-26T08:00:00",
          "2022-09-26T08:15:00",
          "2022-09-26T08:30:00",
          "2022-09-26T08:45:00",
          "2022-09-26T09:00:00",
          "2022-09-26T09:15:00",
          "2022-09-26T09:30:00",
          "2022-09-26T09:45:00",
          "2022-09-26T10:00:00",
          "2022-09-26T10:15:00",
          "2022-09-26T10:30:00",
          "2022-09-26T10:45:00",
          "2022-09-26T11:00:00",
          "2022-09-26T11:15:00",
          "2022-09-26T11:30:00",
          "2022-09-26T11:45:00",
          "2022-09-26T12:00:00",
          "2022-09-26T12:15:00",
          "2022-09-26T12:30:00",
          "2022-09-26T12:45:00",
          "2022-09-26T13:00:00"
         ],
         "xaxis": "x",
         "y": [
          -0.19323141318794157,
          -0.11860107623374892,
          -0.14025663499531177,
          -0.14778847355542576,
          -0.16012052579827168,
          -0.15190391207344187,
          -0.1517129467859267,
          -0.151479590349213,
          -0.16238694402502243,
          -0.14371952811150174,
          -0.1574862407920956,
          -0.15138111338660387,
          -0.14853678601444084,
          -0.1394326267163038,
          -0.1411104570797131,
          -0.1423304529827172,
          -0.14087551865563233,
          -0.14837357451662986,
          -0.14849643589193307,
          -0.15469416877262146,
          -0.20944533324044595,
          -0.24551787937920205,
          -0.2701931561795921,
          -0.2908505045903427,
          -0.3059206594927789,
          -0.31123857246166164,
          -0.2892168885860022,
          -0.29175676349314206,
          -0.30724118184527377,
          -0.30057075499762437,
          -0.2850762165978419,
          -0.26536096111340773,
          -0.26233037264335973,
          -0.24726874799033158,
          -0.33104037357361066,
          -0.34855043479200143,
          -0.24671423200655257,
          -0.2974919178919331,
          -0.330913812453115,
          -0.32433895199852364,
          -0.3250442980319376,
          -0.3452951151734105,
          -0.3084817795262439,
          -0.30932468791785317,
          -0.302172823897319,
          -0.2985511816665058,
          -0.30687567894655887,
          -0.3342577027630159,
          -0.3342276989126889,
          -0.3453576359038205,
          -0.32931728829763274,
          -0.33890889920157996,
          -0.28654725981178686,
          -0.3163155034869554,
          -0.3280971563434918,
          -0.3216336961747702,
          -0.30367681815047,
          -0.30418835006714506,
          -0.3039285739529765,
          -0.3247772508078763,
          -0.3066037330627899,
          -0.28219889549973964,
          -0.2949534955297172,
          -0.2948866920619365,
          -0.27717775952014473,
          -0.30396879846915353,
          -0.32660397285369397,
          -0.3360297260009049,
          -0.31229806886233,
          -0.3053061964840166,
          -0.2655490257606154,
          -0.3091361518994303,
          -0.2476196167340898,
          -0.2427809139159063,
          -0.165136325740306,
          -0.16240209323801358,
          -0.16806179295291862,
          -0.17471542427399364,
          -0.15364680318724833,
          -0.2627819048846621,
          -0.31706740712795867,
          -0.2877039378238794,
          -0.27272883774367573,
          -0.29353826236864744,
          -0.2885656652936477,
          -0.21273227314014867,
          -0.15877509406969878,
          -0.16147076846712155,
          -0.15796083389154184,
          -0.14735595699182302,
          -0.15796583236777528,
          -0.17711566407856788,
          -0.16296993847582106,
          -0.1616616628511499,
          -0.1879266457584237,
          -0.1598807262863922,
          -0.16099673062173148,
          -0.1472419517366559,
          -0.2922110286686901,
          -0.3415373624858324,
          -0.32220240100715664,
          -0.34392672509662964,
          -0.2922799755826092,
          -0.26030663952361144,
          -0.24000146214435134,
          -0.26672005823183553,
          -0.29936117233617365,
          -0.320108981817255,
          -0.3172449923138227,
          -0.2859470025127841,
          -0.2900206490193643,
          -0.3033684413931845,
          -0.2931653407706797,
          -0.345885091867425,
          -0.30918217192087133,
          -0.31615358689316303,
          -0.2866506045463021,
          -0.25087227748175356,
          -0.27943967642014134,
          -0.27368201904526834,
          -0.26099125911526666,
          -0.32000462064426155,
          -0.2722855476894634,
          -0.3356881008484144,
          -0.33230801744472316,
          -0.3020004243493244,
          -0.3140478810151603,
          -0.331686782462214,
          -0.3036506019785829,
          -0.2897209685960333,
          -0.3047889662790801,
          -0.33598265423344836,
          -0.2965633080415271,
          -0.2981445950388298,
          -0.32716077845541636,
          -0.2896338122678175,
          -0.3542928797439274,
          -0.3564565259779102,
          -0.3406153518217145,
          -0.33527155016974075,
          -0.3414858764220571,
          -0.3258133196020069,
          -0.334745556079272,
          -0.3345437810421575,
          -0.3110652037156673,
          -0.3518733019731569,
          -0.3285605508384685,
          -0.34425666469265526,
          -0.3200073427910897,
          -0.33583676416884317,
          -0.2817499925121235,
          -0.32691363090853137,
          -0.3288503079276311,
          -0.33844001678451585,
          -0.31315110360575393,
          -0.2910058017640276,
          -0.27097540633890815,
          -0.3147411787092468,
          -0.25938312522695867,
          -0.30732136940157906,
          -0.32687675527454113,
          -0.2969512065378117,
          -0.3222507387926949,
          -0.30259627679951484,
          -0.2617293234699965,
          -0.25863248987661597,
          -0.286877545118402,
          -0.3252435432752208,
          -0.3055957635883286,
          -0.2957576558934459,
          -0.3188954059241562,
          -0.31395480902623857,
          -0.30617284083510327,
          -0.3026511990846356,
          -0.28513901566469274,
          -0.2673272553871418,
          -0.2657035397838328,
          -0.25480571576512534,
          -0.3102153650938194,
          -0.3184747545350287,
          -0.292942764497388,
          -0.3271866079575993,
          -0.3432197341462205,
          -0.33805959957226855,
          -0.3194514716041673,
          -0.2974186930332895,
          -0.30186986417750244,
          -0.23261479790821757,
          -0.2459178276637383,
          -0.287365448444537,
          -0.2329941213279875,
          -0.32925518061172016,
          -0.3134325441625904,
          -0.2859839174766402,
          -0.26250441133718916,
          -0.30679557363215426,
          -0.2582120074982482,
          -0.2590967530192615,
          -0.2863045384234699,
          -0.28346580537623034,
          -0.26788218524533014,
          -0.29009771893562086,
          -0.2649523013994586,
          -0.271720906816378,
          -0.26927019802646823,
          -0.28755486894715915,
          -0.2982938915488121,
          -0.2825425365737209,
          -0.27439787196559945,
          -0.32905223384838916,
          -0.3089344293515067,
          -0.2882737343697344,
          -0.2732638281403952,
          -0.27575117221826345,
          -0.3189949744748705,
          -0.30567652581471316,
          -0.2999846051527924,
          -0.28843486272522084,
          -0.2730903115593846,
          -0.24657628824175762,
          -0.32064752090234394,
          -0.32061662539712626,
          -0.33609845994477977,
          -0.2992789806306426,
          -0.34383565220950896,
          -0.3267007172802149,
          -0.3096027729939877,
          -0.30764403159904335,
          -0.3457348749343495,
          -0.3325134256129097,
          -0.30254223307699923,
          -0.3378553338353534,
          -0.3482220596705628,
          -0.30796252085019005,
          -0.27239449816534,
          -0.3310347892170101,
          -0.32355881166884776,
          -0.3103156252204898,
          -0.31038129483859767,
          -0.30356934190126944,
          -0.3053097052326168,
          -0.3166467209540435,
          -0.29485757581712624,
          -0.30655886515834274,
          -0.31830389648788554,
          -0.33282172013987005,
          -0.3135773560700038,
          -0.340476457954511,
          -0.31227934944549385,
          -0.3060401418051185,
          -0.33273761810782815,
          -0.3292273740787011,
          -0.34240973903948757,
          -0.3527442067987777,
          -0.32532620637654985,
          -0.3153808175094678,
          -0.3383784839504916,
          -0.34050975038178155,
          -0.3373328131474873,
          -0.30854982368318024,
          -0.3434236662554041,
          -0.33643758105202315,
          -0.3190773620785348,
          -0.3139932882954643,
          -0.3385839429904899,
          -0.30318771036075853,
          -0.2736298250902483,
          -0.33424738870564563,
          -0.2946401220817412,
          -0.28023711947891866,
          -0.28314060419607634,
          -0.3161796693764053,
          -0.3407409653457253,
          -0.313144851442201,
          -0.31003797025850294,
          -0.31841508218180825,
          -0.2904781873351855,
          -0.2676947165832738,
          -0.28768540670405013,
          -0.27740720578497097,
          -0.2893614557268381,
          -0.2504607844754959,
          -0.2503989395372906,
          -0.26631573124734487,
          -0.22149783671835377,
          -0.26325620103797526,
          -0.3042714762482681,
          -0.31587397317609167,
          -0.28638515055192465,
          -0.2729616445002299,
          -0.24314489827189473,
          -0.28363433868608673,
          -0.25843400926117865,
          -0.25622848319802694,
          -0.24043262113180033,
          -0.3278605626681896,
          -0.30369866616933355,
          -0.2067776416223987,
          -0.22155642307077286,
          -0.21503769087072402,
          -0.30944245380873286,
          -0.2858496962822655,
          -0.2252349368743038,
          -0.14219124724395996,
          -0.16858522595139352,
          -0.2550377021324906,
          -0.294769382634662,
          -0.25794213694675056,
          -0.3026660205738556,
          -0.28470881475167686,
          -0.24934506512904628,
          -0.1508761544322538,
          -0.16196739462048299,
          -0.21932200594091594,
          -0.2565615783113689,
          -0.164735690024568,
          -0.16383925025805832,
          -0.25319227360285074,
          -0.26065237603427155,
          -0.2571492320467422,
          -0.29546428205839775,
          -0.2878985623363425,
          -0.26020146997596877,
          -0.29363474502625214,
          -0.29801691389060814,
          -0.24211149334002469,
          -0.2165130574903991,
          -0.32482587604632707,
          -0.29259931697569525,
          -0.2856232920376612,
          -0.3070588323100975,
          -0.3167980129518335,
          -0.2628869056940475,
          -0.27039061021643424,
          -0.21250339481722744,
          -0.294061916879675,
          -0.2908776563743542,
          -0.27167868980814625,
          -0.3240842451047571,
          -0.3490109655070334,
          -0.34261711454982424,
          -0.3440513821094831,
          -0.3363518337606335,
          -0.36266039821216817,
          -0.3517649276485913,
          -0.3294665684650875,
          -0.33460852653715056,
          -0.2755799357946884,
          -0.25797124027943413,
          -0.3219316265041729,
          -0.25830488804547885,
          -0.23978340286022118,
          -0.2665932644200964,
          -0.3039985320279834,
          -0.29248262369562206,
          -0.290959970592668,
          -0.2973342843987062,
          -0.2991371283861494,
          -0.25442090737909606,
          -0.2841002312453192,
          -0.31136931159037257,
          -0.302233789610383,
          -0.22620624372543696,
          -0.234883789834714,
          -0.22159403822835322,
          -0.23178308002264164,
          -0.2686957546190904,
          -0.22709180502872012,
          -0.2490459684815638,
          -0.226587326049862,
          -0.29786081430580275,
          -0.3046111463623657,
          -0.2540980251753682,
          -0.26009079269604446,
          -0.27509035923089287,
          -0.5859747822752074
         ],
         "yaxis": "y"
        },
        {
         "hovertemplate": "variable=log requests<br>date=%{x}<br>value=%{y}<extra></extra>",
         "legendgroup": "log requests",
         "line": {
          "color": "#EF553B",
          "dash": "solid"
         },
         "marker": {
          "symbol": "circle"
         },
         "mode": "lines",
         "name": "log requests",
         "orientation": "v",
         "showlegend": true,
         "type": "scatter",
         "x": [
          "2022-09-22T15:15:00",
          "2022-09-22T15:30:00",
          "2022-09-22T15:45:00",
          "2022-09-22T16:00:00",
          "2022-09-22T16:15:00",
          "2022-09-22T16:30:00",
          "2022-09-22T16:45:00",
          "2022-09-22T17:00:00",
          "2022-09-22T17:15:00",
          "2022-09-22T17:30:00",
          "2022-09-22T17:45:00",
          "2022-09-22T18:00:00",
          "2022-09-22T18:15:00",
          "2022-09-22T18:30:00",
          "2022-09-22T18:45:00",
          "2022-09-22T19:00:00",
          "2022-09-22T19:15:00",
          "2022-09-22T19:30:00",
          "2022-09-22T19:45:00",
          "2022-09-22T20:00:00",
          "2022-09-22T20:15:00",
          "2022-09-22T20:30:00",
          "2022-09-22T20:45:00",
          "2022-09-22T21:00:00",
          "2022-09-22T21:15:00",
          "2022-09-22T21:30:00",
          "2022-09-22T21:45:00",
          "2022-09-22T22:00:00",
          "2022-09-22T22:15:00",
          "2022-09-22T22:30:00",
          "2022-09-22T22:45:00",
          "2022-09-22T23:00:00",
          "2022-09-22T23:15:00",
          "2022-09-22T23:30:00",
          "2022-09-22T23:45:00",
          "2022-09-23T00:00:00",
          "2022-09-23T00:15:00",
          "2022-09-23T00:30:00",
          "2022-09-23T00:45:00",
          "2022-09-23T01:00:00",
          "2022-09-23T01:15:00",
          "2022-09-23T01:30:00",
          "2022-09-23T01:45:00",
          "2022-09-23T02:00:00",
          "2022-09-23T02:15:00",
          "2022-09-23T02:30:00",
          "2022-09-23T02:45:00",
          "2022-09-23T03:00:00",
          "2022-09-23T03:15:00",
          "2022-09-23T03:30:00",
          "2022-09-23T03:45:00",
          "2022-09-23T04:00:00",
          "2022-09-23T04:15:00",
          "2022-09-23T04:30:00",
          "2022-09-23T04:45:00",
          "2022-09-23T05:00:00",
          "2022-09-23T05:15:00",
          "2022-09-23T05:30:00",
          "2022-09-23T05:45:00",
          "2022-09-23T06:00:00",
          "2022-09-23T06:15:00",
          "2022-09-23T06:30:00",
          "2022-09-23T06:45:00",
          "2022-09-23T07:00:00",
          "2022-09-23T07:15:00",
          "2022-09-23T07:30:00",
          "2022-09-23T07:45:00",
          "2022-09-23T08:00:00",
          "2022-09-23T08:15:00",
          "2022-09-23T08:30:00",
          "2022-09-23T08:45:00",
          "2022-09-23T09:00:00",
          "2022-09-23T09:15:00",
          "2022-09-23T09:30:00",
          "2022-09-23T09:45:00",
          "2022-09-23T10:00:00",
          "2022-09-23T10:15:00",
          "2022-09-23T10:30:00",
          "2022-09-23T10:45:00",
          "2022-09-23T11:00:00",
          "2022-09-23T11:15:00",
          "2022-09-23T11:30:00",
          "2022-09-23T11:45:00",
          "2022-09-23T12:00:00",
          "2022-09-23T12:15:00",
          "2022-09-23T12:30:00",
          "2022-09-23T12:45:00",
          "2022-09-23T13:00:00",
          "2022-09-23T13:15:00",
          "2022-09-23T13:30:00",
          "2022-09-23T13:45:00",
          "2022-09-23T14:00:00",
          "2022-09-23T14:15:00",
          "2022-09-23T14:30:00",
          "2022-09-23T14:45:00",
          "2022-09-23T15:00:00",
          "2022-09-23T15:15:00",
          "2022-09-23T15:30:00",
          "2022-09-23T15:45:00",
          "2022-09-23T16:00:00",
          "2022-09-23T16:15:00",
          "2022-09-23T16:30:00",
          "2022-09-23T16:45:00",
          "2022-09-23T17:00:00",
          "2022-09-23T17:15:00",
          "2022-09-23T17:30:00",
          "2022-09-23T17:45:00",
          "2022-09-23T18:00:00",
          "2022-09-23T18:15:00",
          "2022-09-23T18:30:00",
          "2022-09-23T18:45:00",
          "2022-09-23T19:00:00",
          "2022-09-23T19:15:00",
          "2022-09-23T19:30:00",
          "2022-09-23T19:45:00",
          "2022-09-23T20:00:00",
          "2022-09-23T20:15:00",
          "2022-09-23T20:30:00",
          "2022-09-23T20:45:00",
          "2022-09-23T21:00:00",
          "2022-09-23T21:15:00",
          "2022-09-23T21:30:00",
          "2022-09-23T21:45:00",
          "2022-09-23T22:00:00",
          "2022-09-23T22:15:00",
          "2022-09-23T22:30:00",
          "2022-09-23T22:45:00",
          "2022-09-23T23:00:00",
          "2022-09-23T23:15:00",
          "2022-09-23T23:30:00",
          "2022-09-23T23:45:00",
          "2022-09-24T00:00:00",
          "2022-09-24T00:15:00",
          "2022-09-24T00:30:00",
          "2022-09-24T00:45:00",
          "2022-09-24T01:00:00",
          "2022-09-24T01:15:00",
          "2022-09-24T01:30:00",
          "2022-09-24T01:45:00",
          "2022-09-24T02:00:00",
          "2022-09-24T02:15:00",
          "2022-09-24T02:30:00",
          "2022-09-24T02:45:00",
          "2022-09-24T03:00:00",
          "2022-09-24T03:15:00",
          "2022-09-24T03:30:00",
          "2022-09-24T03:45:00",
          "2022-09-24T04:00:00",
          "2022-09-24T04:15:00",
          "2022-09-24T04:30:00",
          "2022-09-24T04:45:00",
          "2022-09-24T05:00:00",
          "2022-09-24T05:15:00",
          "2022-09-24T05:30:00",
          "2022-09-24T05:45:00",
          "2022-09-24T06:00:00",
          "2022-09-24T06:15:00",
          "2022-09-24T06:30:00",
          "2022-09-24T06:45:00",
          "2022-09-24T07:00:00",
          "2022-09-24T07:15:00",
          "2022-09-24T07:30:00",
          "2022-09-24T07:45:00",
          "2022-09-24T08:00:00",
          "2022-09-24T08:15:00",
          "2022-09-24T08:30:00",
          "2022-09-24T08:45:00",
          "2022-09-24T09:00:00",
          "2022-09-24T09:15:00",
          "2022-09-24T09:30:00",
          "2022-09-24T09:45:00",
          "2022-09-24T10:00:00",
          "2022-09-24T10:15:00",
          "2022-09-24T10:30:00",
          "2022-09-24T10:45:00",
          "2022-09-24T11:00:00",
          "2022-09-24T11:15:00",
          "2022-09-24T11:30:00",
          "2022-09-24T11:45:00",
          "2022-09-24T12:00:00",
          "2022-09-24T12:15:00",
          "2022-09-24T12:30:00",
          "2022-09-24T12:45:00",
          "2022-09-24T13:00:00",
          "2022-09-24T13:15:00",
          "2022-09-24T13:30:00",
          "2022-09-24T13:45:00",
          "2022-09-24T14:00:00",
          "2022-09-24T14:15:00",
          "2022-09-24T14:30:00",
          "2022-09-24T14:45:00",
          "2022-09-24T15:00:00",
          "2022-09-24T15:15:00",
          "2022-09-24T15:30:00",
          "2022-09-24T15:45:00",
          "2022-09-24T16:00:00",
          "2022-09-24T16:15:00",
          "2022-09-24T16:30:00",
          "2022-09-24T16:45:00",
          "2022-09-24T17:00:00",
          "2022-09-24T17:15:00",
          "2022-09-24T17:30:00",
          "2022-09-24T17:45:00",
          "2022-09-24T18:00:00",
          "2022-09-24T18:15:00",
          "2022-09-24T18:30:00",
          "2022-09-24T18:45:00",
          "2022-09-24T19:00:00",
          "2022-09-24T19:15:00",
          "2022-09-24T19:30:00",
          "2022-09-24T19:45:00",
          "2022-09-24T20:00:00",
          "2022-09-24T20:15:00",
          "2022-09-24T20:30:00",
          "2022-09-24T20:45:00",
          "2022-09-24T21:00:00",
          "2022-09-24T21:15:00",
          "2022-09-24T21:30:00",
          "2022-09-24T21:45:00",
          "2022-09-24T22:00:00",
          "2022-09-24T22:15:00",
          "2022-09-24T22:30:00",
          "2022-09-24T22:45:00",
          "2022-09-24T23:00:00",
          "2022-09-24T23:15:00",
          "2022-09-24T23:30:00",
          "2022-09-24T23:45:00",
          "2022-09-25T00:00:00",
          "2022-09-25T00:15:00",
          "2022-09-25T00:30:00",
          "2022-09-25T00:45:00",
          "2022-09-25T01:00:00",
          "2022-09-25T01:15:00",
          "2022-09-25T01:30:00",
          "2022-09-25T01:45:00",
          "2022-09-25T02:00:00",
          "2022-09-25T02:15:00",
          "2022-09-25T02:30:00",
          "2022-09-25T02:45:00",
          "2022-09-25T03:00:00",
          "2022-09-25T03:15:00",
          "2022-09-25T03:30:00",
          "2022-09-25T03:45:00",
          "2022-09-25T04:00:00",
          "2022-09-25T04:15:00",
          "2022-09-25T04:30:00",
          "2022-09-25T04:45:00",
          "2022-09-25T05:00:00",
          "2022-09-25T05:15:00",
          "2022-09-25T05:30:00",
          "2022-09-25T05:45:00",
          "2022-09-25T06:00:00",
          "2022-09-25T06:15:00",
          "2022-09-25T06:30:00",
          "2022-09-25T06:45:00",
          "2022-09-25T07:00:00",
          "2022-09-25T07:15:00",
          "2022-09-25T07:30:00",
          "2022-09-25T07:45:00",
          "2022-09-25T08:00:00",
          "2022-09-25T08:15:00",
          "2022-09-25T08:30:00",
          "2022-09-25T08:45:00",
          "2022-09-25T09:00:00",
          "2022-09-25T09:15:00",
          "2022-09-25T09:30:00",
          "2022-09-25T09:45:00",
          "2022-09-25T10:00:00",
          "2022-09-25T10:15:00",
          "2022-09-25T10:30:00",
          "2022-09-25T10:45:00",
          "2022-09-25T11:00:00",
          "2022-09-25T11:15:00",
          "2022-09-25T11:30:00",
          "2022-09-25T11:45:00",
          "2022-09-25T12:00:00",
          "2022-09-25T12:15:00",
          "2022-09-25T12:30:00",
          "2022-09-25T12:45:00",
          "2022-09-25T13:00:00",
          "2022-09-25T13:15:00",
          "2022-09-25T13:30:00",
          "2022-09-25T13:45:00",
          "2022-09-25T14:00:00",
          "2022-09-25T14:15:00",
          "2022-09-25T14:30:00",
          "2022-09-25T14:45:00",
          "2022-09-25T15:00:00",
          "2022-09-25T15:15:00",
          "2022-09-25T15:30:00",
          "2022-09-25T15:45:00",
          "2022-09-25T16:00:00",
          "2022-09-25T16:15:00",
          "2022-09-25T16:30:00",
          "2022-09-25T16:45:00",
          "2022-09-25T17:00:00",
          "2022-09-25T17:15:00",
          "2022-09-25T17:30:00",
          "2022-09-25T17:45:00",
          "2022-09-25T18:00:00",
          "2022-09-25T18:15:00",
          "2022-09-25T18:30:00",
          "2022-09-25T18:45:00",
          "2022-09-25T19:00:00",
          "2022-09-25T19:15:00",
          "2022-09-25T19:30:00",
          "2022-09-25T19:45:00",
          "2022-09-25T20:00:00",
          "2022-09-25T20:15:00",
          "2022-09-25T20:30:00",
          "2022-09-25T20:45:00",
          "2022-09-25T21:00:00",
          "2022-09-25T21:15:00",
          "2022-09-25T21:30:00",
          "2022-09-25T21:45:00",
          "2022-09-25T22:00:00",
          "2022-09-25T22:15:00",
          "2022-09-25T22:30:00",
          "2022-09-25T22:45:00",
          "2022-09-25T23:00:00",
          "2022-09-25T23:15:00",
          "2022-09-25T23:30:00",
          "2022-09-25T23:45:00",
          "2022-09-26T00:00:00",
          "2022-09-26T00:15:00",
          "2022-09-26T00:30:00",
          "2022-09-26T00:45:00",
          "2022-09-26T01:00:00",
          "2022-09-26T01:15:00",
          "2022-09-26T01:30:00",
          "2022-09-26T01:45:00",
          "2022-09-26T02:00:00",
          "2022-09-26T02:15:00",
          "2022-09-26T02:30:00",
          "2022-09-26T02:45:00",
          "2022-09-26T03:00:00",
          "2022-09-26T03:15:00",
          "2022-09-26T03:30:00",
          "2022-09-26T03:45:00",
          "2022-09-26T04:00:00",
          "2022-09-26T04:15:00",
          "2022-09-26T04:30:00",
          "2022-09-26T04:45:00",
          "2022-09-26T05:00:00",
          "2022-09-26T05:15:00",
          "2022-09-26T05:30:00",
          "2022-09-26T05:45:00",
          "2022-09-26T06:00:00",
          "2022-09-26T06:15:00",
          "2022-09-26T06:30:00",
          "2022-09-26T06:45:00",
          "2022-09-26T07:00:00",
          "2022-09-26T07:15:00",
          "2022-09-26T07:30:00",
          "2022-09-26T07:45:00",
          "2022-09-26T08:00:00",
          "2022-09-26T08:15:00",
          "2022-09-26T08:30:00",
          "2022-09-26T08:45:00",
          "2022-09-26T09:00:00",
          "2022-09-26T09:15:00",
          "2022-09-26T09:30:00",
          "2022-09-26T09:45:00",
          "2022-09-26T10:00:00",
          "2022-09-26T10:15:00",
          "2022-09-26T10:30:00",
          "2022-09-26T10:45:00",
          "2022-09-26T11:00:00",
          "2022-09-26T11:15:00",
          "2022-09-26T11:30:00",
          "2022-09-26T11:45:00",
          "2022-09-26T12:00:00",
          "2022-09-26T12:15:00",
          "2022-09-26T12:30:00",
          "2022-09-26T12:45:00",
          "2022-09-26T13:00:00"
         ],
         "xaxis": "x",
         "y": [
          2.507855871695831,
          2.4983105537896004,
          2.8457180179666586,
          2.756636108245848,
          2.550228353055094,
          2.545307116465824,
          2.5211380837040362,
          2.4899584794248346,
          2.5211380837040362,
          2.6314437690131722,
          2.552668216112193,
          2.550228353055094,
          2.603144372620182,
          2.603144372620182,
          2.5877109650189114,
          2.622214022966295,
          2.59659709562646,
          2.611723308007342,
          2.552668216112193,
          2.496929648073215,
          2.45178643552429,
          2.3443922736851106,
          2.27415784926368,
          2.0718820073061255,
          2.093421685162235,
          1.6901960800285136,
          2.110589710299249,
          2.0791812460476247,
          1.7781512503836436,
          2.110589710299249,
          2.143014800254095,
          2.1789769472931693,
          2.292256071356476,
          2.287801729930226,
          1.8260748027008264,
          1.3222192947339193,
          2.3729120029701067,
          2.143014800254095,
          1.6989700043360187,
          1.806179973983887,
          1.8195439355418688,
          1.414973347970818,
          1.8808135922807914,
          2.0043213737826426,
          2.0569048513364727,
          2.075546961392531,
          1.8260748027008264,
          1.6989700043360187,
          1.5563025007672873,
          1.5563025007672873,
          1.7323937598229686,
          1.6989700043360187,
          2.08278537031645,
          2.0644579892269186,
          1.8129133566428555,
          1.919078092376074,
          2.0293837776852097,
          2.0211892990699383,
          1.8388490907372552,
          1.7634279935629373,
          2.03342375548695,
          2.146128035678238,
          2.0086001717619175,
          2.143014800254095,
          2.1931245983544616,
          2.0681858617461617,
          1.7634279935629373,
          1.4771212547196624,
          1.845098040014257,
          1.9542425094393248,
          2.113943352306837,
          1.8325089127062364,
          2.130333768495006,
          2.2355284469075487,
          2.5024271199844326,
          2.4927603890268375,
          2.4712917110589387,
          2.4265112613645754,
          2.459392487759231,
          2.146128035678238,
          1.8325089127062364,
          2.03342375548695,
          2.2528530309798933,
          2.2121876044039577,
          2.184691430817599,
          2.399673721481038,
          2.597695185925512,
          2.6009728956867484,
          2.593286067020457,
          2.582063362911709,
          2.5921767573958667,
          2.4756711883244296,
          2.494154594018443,
          2.5352941200427703,
          2.383815365980431,
          2.462397997898956,
          2.506505032404872,
          2.57978359661681,
          2.0492180226701815,
          1.7708520116421442,
          1.7075701760979363,
          1.6434526764861874,
          2.075546961392531,
          2.376576957056512,
          2.4265112613645754,
          2.41161970596323,
          2.093421685162235,
          2,
          1.6989700043360187,
          2.0253058652647704,
          1.7634279935629373,
          1.9138138523837167,
          2.0211892990699383,
          1.2304489213782739,
          1.7242758696007892,
          1.9867717342662448,
          2.1789769472931693,
          2.278753600952829,
          2.0969100130080562,
          2.1335389083702174,
          2.255272505103306,
          1.99563519459755,
          2.2764618041732443,
          1.591064607026499,
          1.6127838567197355,
          1.99563519459755,
          1.6434526764861874,
          2.041392685158225,
          2.0170333392987803,
          2,
          2.1072099696478683,
          1.8325089127062364,
          2.08278537031645,
          2.1398790864012365,
          1.8976270912904414,
          2.093421685162235,
          0.9030899869919435,
          0.9030899869919435,
          1.3222192947339193,
          1.8388490907372552,
          1.8195439355418688,
          1.7993405494535817,
          1.5563025007672873,
          1.3222192947339193,
          1.6901960800285136,
          1.4771212547196624,
          1.6127838567197355,
          1.6434526764861874,
          1.7634279935629373,
          1.806179973983887,
          2.0644579892269186,
          1.7160033436347992,
          1.8195439355418688,
          1.5185139398778875,
          1.9242792860618816,
          2.143014800254095,
          2.161368002234975,
          1.8195439355418688,
          2.1271047983648077,
          1.9590413923210936,
          1.7853298350107671,
          1.9867717342662448,
          1.8129133566428555,
          2.0863598306747484,
          2.225309281725863,
          2.2528530309798933,
          2.08278537031645,
          1.8388490907372552,
          1.9242792860618816,
          2.110589710299249,
          1.8512583487190752,
          1.9912260756924949,
          1.8920946026904804,
          2.089905111439398,
          2.0492180226701815,
          1.9084850188786497,
          2.2068258760318495,
          2.322219294733919,
          2.0293837776852097,
          1.7708520116421442,
          1.9637878273455553,
          1.568201724066995,
          1.414973347970818,
          1.414973347970818,
          1.7708520116421442,
          1.6334684555795866,
          1.9344984512435677,
          2.2671717284030137,
          2.2600713879850747,
          2.2405492482825995,
          2.3710678622717363,
          1.9344984512435677,
          2.0170333392987803,
          2.167317334748176,
          2.0211892990699383,
          1.8750612633917,
          2.1958996524092336,
          2.1583624920952498,
          1.9822712330395684,
          2.155336037465062,
          2.294466226161593,
          2.0086001717619175,
          2.1986570869544226,
          2.2355284469075487,
          2.1522883443830563,
          1.8195439355418688,
          2.0718820073061255,
          1.863322860120456,
          2.05307844348342,
          1.5563025007672873,
          1.845098040014257,
          2.0681858617461617,
          2.2405492482825995,
          2.230448921378274,
          2.2810333672477277,
          2.0170333392987803,
          1.9030899869919435,
          2.100370545117563,
          2.303196057420489,
          2.3783979009481375,
          1.863322860120456,
          1.8976270912904414,
          1.380211241711606,
          2.0492180226701815,
          1.2787536009528289,
          1.662757831681574,
          1.7634279935629373,
          1.8692317197309762,
          1.2787536009528289,
          1.6232492903979006,
          1.9344984512435677,
          1.6127838567197355,
          1.3979400086720377,
          2.0681858617461617,
          2.103803720955957,
          1.9542425094393248,
          1.7634279935629373,
          1.9030899869919435,
          2.12057393120585,
          1.8129133566428555,
          1.6901960800285136,
          1.8573324964312685,
          2.0644579892269186,
          2.0492180226701815,
          1.7993405494535817,
          1.6334684555795866,
          2.0293837776852097,
          1.8388490907372552,
          1.9637878273455553,
          1.8195439355418688,
          1.5440680443502757,
          1.9395192526186185,
          1.3010299956639813,
          1.3010299956639813,
          1.8692317197309762,
          1.9138138523837167,
          1.792391689498254,
          1.4913616938342726,
          1.4913616938342726,
          2.0211892990699383,
          1.4771212547196624,
          1.4471580313422192,
          1.591064607026499,
          1.7075701760979363,
          1.5563025007672873,
          1.9084850188786497,
          2.03342375548695,
          1.7403626894942439,
          2.012837224705172,
          2.093421685162235,
          2.075546961392531,
          1.919078092376074,
          1.3617278360175928,
          1.6989700043360187,
          1.8920946026904804,
          1.9731278535996986,
          2.110589710299249,
          2.2624510897304293,
          2.3909351071033793,
          2.361727836017593,
          2.2528530309798933,
          2.271841606536499,
          2.2068258760318495,
          2.294466226161593,
          2.519827993775719,
          2.075546961392531,
          1.9294189257142929,
          1.8864907251724818,
          2,
          2.0681858617461617,
          2.2430380486862944,
          2.2095150145426308,
          2.1818435879447726,
          2.1271047983648077,
          2.1931245983544616,
          1.8692317197309762,
          1.9637878273455553,
          2.3364597338485296,
          2.374748346010104,
          2.4424797690644486,
          2.0718820073061255,
          1.9030899869919435,
          2.3096301674258988,
          2.5477747053878224,
          2.6074550232146687,
          2.361727836017593,
          2.1271047983648077,
          2.3502480183341627,
          2.1072099696478683,
          2.1958996524092336,
          2.287801729930226,
          2.5888317255942073,
          2.59659709562646,
          2.5010592622177517,
          2.315970345456918,
          2.6334684555795866,
          2.6627578316815743,
          2.376576957056512,
          2.376576957056512,
          2.385606273598312,
          2.184691430817599,
          2.1172712956557644,
          2.2013971243204513,
          2.155336037465062,
          1.9867717342662448,
          2.4608978427565478,
          2.361727836017593,
          1.6812412373755872,
          1.9542425094393248,
          2.342422680822206,
          2.1931245983544616,
          2.060697840353612,
          2.3384564936046046,
          2.359835482339888,
          2.575187844927661,
          2.093421685162235,
          2.2013971243204513,
          2.577491799837225,
          1.6720978579357175,
          1.6232492903979006,
          1.3424226808222062,
          1.3424226808222062,
          1.6434526764861874,
          1.3424226808222062,
          1.146128035678238,
          1.6720978579357175,
          1.462397997898956,
          2.1958996524092336,
          2.2479732663618064,
          1.7242758696007892,
          2.187520720836463,
          2.3820170425748683,
          2.2479732663618064,
          2.089905111439398,
          2.103803720955957,
          2.1903316981702914,
          2.143014800254095,
          2.05307844348342,
          2.307496037913213,
          2.1958996524092336,
          2.113943352306837,
          2.0170333392987803,
          2.3324384599156054,
          2.3283796034387376,
          2.4578818967339924,
          2.3180633349627615,
          2.1702617153949575,
          2.41161970596323,
          2.403120521175818,
          2.305351369446624,
          2.146128035678238,
          2.060697840353612,
          2.3138672203691533,
          2.320146286111054,
          2.1522883443830563,
          2.143014800254095
         ],
         "yaxis": "y"
        }
       ],
       "layout": {
        "legend": {
         "title": {
          "text": "variable"
         },
         "tracegroupgap": 0
        },
        "margin": {
         "t": 60
        },
        "template": {
         "data": {
          "bar": [
           {
            "error_x": {
             "color": "#2a3f5f"
            },
            "error_y": {
             "color": "#2a3f5f"
            },
            "marker": {
             "line": {
              "color": "#E5ECF6",
              "width": 0.5
             },
             "pattern": {
              "fillmode": "overlay",
              "size": 10,
              "solidity": 0.2
             }
            },
            "type": "bar"
           }
          ],
          "barpolar": [
           {
            "marker": {
             "line": {
              "color": "#E5ECF6",
              "width": 0.5
             },
             "pattern": {
              "fillmode": "overlay",
              "size": 10,
              "solidity": 0.2
             }
            },
            "type": "barpolar"
           }
          ],
          "carpet": [
           {
            "aaxis": {
             "endlinecolor": "#2a3f5f",
             "gridcolor": "white",
             "linecolor": "white",
             "minorgridcolor": "white",
             "startlinecolor": "#2a3f5f"
            },
            "baxis": {
             "endlinecolor": "#2a3f5f",
             "gridcolor": "white",
             "linecolor": "white",
             "minorgridcolor": "white",
             "startlinecolor": "#2a3f5f"
            },
            "type": "carpet"
           }
          ],
          "choropleth": [
           {
            "colorbar": {
             "outlinewidth": 0,
             "ticks": ""
            },
            "type": "choropleth"
           }
          ],
          "contour": [
           {
            "colorbar": {
             "outlinewidth": 0,
             "ticks": ""
            },
            "colorscale": [
             [
              0,
              "#0d0887"
             ],
             [
              0.1111111111111111,
              "#46039f"
             ],
             [
              0.2222222222222222,
              "#7201a8"
             ],
             [
              0.3333333333333333,
              "#9c179e"
             ],
             [
              0.4444444444444444,
              "#bd3786"
             ],
             [
              0.5555555555555556,
              "#d8576b"
             ],
             [
              0.6666666666666666,
              "#ed7953"
             ],
             [
              0.7777777777777778,
              "#fb9f3a"
             ],
             [
              0.8888888888888888,
              "#fdca26"
             ],
             [
              1,
              "#f0f921"
             ]
            ],
            "type": "contour"
           }
          ],
          "contourcarpet": [
           {
            "colorbar": {
             "outlinewidth": 0,
             "ticks": ""
            },
            "type": "contourcarpet"
           }
          ],
          "heatmap": [
           {
            "colorbar": {
             "outlinewidth": 0,
             "ticks": ""
            },
            "colorscale": [
             [
              0,
              "#0d0887"
             ],
             [
              0.1111111111111111,
              "#46039f"
             ],
             [
              0.2222222222222222,
              "#7201a8"
             ],
             [
              0.3333333333333333,
              "#9c179e"
             ],
             [
              0.4444444444444444,
              "#bd3786"
             ],
             [
              0.5555555555555556,
              "#d8576b"
             ],
             [
              0.6666666666666666,
              "#ed7953"
             ],
             [
              0.7777777777777778,
              "#fb9f3a"
             ],
             [
              0.8888888888888888,
              "#fdca26"
             ],
             [
              1,
              "#f0f921"
             ]
            ],
            "type": "heatmap"
           }
          ],
          "heatmapgl": [
           {
            "colorbar": {
             "outlinewidth": 0,
             "ticks": ""
            },
            "colorscale": [
             [
              0,
              "#0d0887"
             ],
             [
              0.1111111111111111,
              "#46039f"
             ],
             [
              0.2222222222222222,
              "#7201a8"
             ],
             [
              0.3333333333333333,
              "#9c179e"
             ],
             [
              0.4444444444444444,
              "#bd3786"
             ],
             [
              0.5555555555555556,
              "#d8576b"
             ],
             [
              0.6666666666666666,
              "#ed7953"
             ],
             [
              0.7777777777777778,
              "#fb9f3a"
             ],
             [
              0.8888888888888888,
              "#fdca26"
             ],
             [
              1,
              "#f0f921"
             ]
            ],
            "type": "heatmapgl"
           }
          ],
          "histogram": [
           {
            "marker": {
             "pattern": {
              "fillmode": "overlay",
              "size": 10,
              "solidity": 0.2
             }
            },
            "type": "histogram"
           }
          ],
          "histogram2d": [
           {
            "colorbar": {
             "outlinewidth": 0,
             "ticks": ""
            },
            "colorscale": [
             [
              0,
              "#0d0887"
             ],
             [
              0.1111111111111111,
              "#46039f"
             ],
             [
              0.2222222222222222,
              "#7201a8"
             ],
             [
              0.3333333333333333,
              "#9c179e"
             ],
             [
              0.4444444444444444,
              "#bd3786"
             ],
             [
              0.5555555555555556,
              "#d8576b"
             ],
             [
              0.6666666666666666,
              "#ed7953"
             ],
             [
              0.7777777777777778,
              "#fb9f3a"
             ],
             [
              0.8888888888888888,
              "#fdca26"
             ],
             [
              1,
              "#f0f921"
             ]
            ],
            "type": "histogram2d"
           }
          ],
          "histogram2dcontour": [
           {
            "colorbar": {
             "outlinewidth": 0,
             "ticks": ""
            },
            "colorscale": [
             [
              0,
              "#0d0887"
             ],
             [
              0.1111111111111111,
              "#46039f"
             ],
             [
              0.2222222222222222,
              "#7201a8"
             ],
             [
              0.3333333333333333,
              "#9c179e"
             ],
             [
              0.4444444444444444,
              "#bd3786"
             ],
             [
              0.5555555555555556,
              "#d8576b"
             ],
             [
              0.6666666666666666,
              "#ed7953"
             ],
             [
              0.7777777777777778,
              "#fb9f3a"
             ],
             [
              0.8888888888888888,
              "#fdca26"
             ],
             [
              1,
              "#f0f921"
             ]
            ],
            "type": "histogram2dcontour"
           }
          ],
          "mesh3d": [
           {
            "colorbar": {
             "outlinewidth": 0,
             "ticks": ""
            },
            "type": "mesh3d"
           }
          ],
          "parcoords": [
           {
            "line": {
             "colorbar": {
              "outlinewidth": 0,
              "ticks": ""
             }
            },
            "type": "parcoords"
           }
          ],
          "pie": [
           {
            "automargin": true,
            "type": "pie"
           }
          ],
          "scatter": [
           {
            "fillpattern": {
             "fillmode": "overlay",
             "size": 10,
             "solidity": 0.2
            },
            "type": "scatter"
           }
          ],
          "scatter3d": [
           {
            "line": {
             "colorbar": {
              "outlinewidth": 0,
              "ticks": ""
             }
            },
            "marker": {
             "colorbar": {
              "outlinewidth": 0,
              "ticks": ""
             }
            },
            "type": "scatter3d"
           }
          ],
          "scattercarpet": [
           {
            "marker": {
             "colorbar": {
              "outlinewidth": 0,
              "ticks": ""
             }
            },
            "type": "scattercarpet"
           }
          ],
          "scattergeo": [
           {
            "marker": {
             "colorbar": {
              "outlinewidth": 0,
              "ticks": ""
             }
            },
            "type": "scattergeo"
           }
          ],
          "scattergl": [
           {
            "marker": {
             "colorbar": {
              "outlinewidth": 0,
              "ticks": ""
             }
            },
            "type": "scattergl"
           }
          ],
          "scattermapbox": [
           {
            "marker": {
             "colorbar": {
              "outlinewidth": 0,
              "ticks": ""
             }
            },
            "type": "scattermapbox"
           }
          ],
          "scatterpolar": [
           {
            "marker": {
             "colorbar": {
              "outlinewidth": 0,
              "ticks": ""
             }
            },
            "type": "scatterpolar"
           }
          ],
          "scatterpolargl": [
           {
            "marker": {
             "colorbar": {
              "outlinewidth": 0,
              "ticks": ""
             }
            },
            "type": "scatterpolargl"
           }
          ],
          "scatterternary": [
           {
            "marker": {
             "colorbar": {
              "outlinewidth": 0,
              "ticks": ""
             }
            },
            "type": "scatterternary"
           }
          ],
          "surface": [
           {
            "colorbar": {
             "outlinewidth": 0,
             "ticks": ""
            },
            "colorscale": [
             [
              0,
              "#0d0887"
             ],
             [
              0.1111111111111111,
              "#46039f"
             ],
             [
              0.2222222222222222,
              "#7201a8"
             ],
             [
              0.3333333333333333,
              "#9c179e"
             ],
             [
              0.4444444444444444,
              "#bd3786"
             ],
             [
              0.5555555555555556,
              "#d8576b"
             ],
             [
              0.6666666666666666,
              "#ed7953"
             ],
             [
              0.7777777777777778,
              "#fb9f3a"
             ],
             [
              0.8888888888888888,
              "#fdca26"
             ],
             [
              1,
              "#f0f921"
             ]
            ],
            "type": "surface"
           }
          ],
          "table": [
           {
            "cells": {
             "fill": {
              "color": "#EBF0F8"
             },
             "line": {
              "color": "white"
             }
            },
            "header": {
             "fill": {
              "color": "#C8D4E3"
             },
             "line": {
              "color": "white"
             }
            },
            "type": "table"
           }
          ]
         },
         "layout": {
          "annotationdefaults": {
           "arrowcolor": "#2a3f5f",
           "arrowhead": 0,
           "arrowwidth": 1
          },
          "autotypenumbers": "strict",
          "coloraxis": {
           "colorbar": {
            "outlinewidth": 0,
            "ticks": ""
           }
          },
          "colorscale": {
           "diverging": [
            [
             0,
             "#8e0152"
            ],
            [
             0.1,
             "#c51b7d"
            ],
            [
             0.2,
             "#de77ae"
            ],
            [
             0.3,
             "#f1b6da"
            ],
            [
             0.4,
             "#fde0ef"
            ],
            [
             0.5,
             "#f7f7f7"
            ],
            [
             0.6,
             "#e6f5d0"
            ],
            [
             0.7,
             "#b8e186"
            ],
            [
             0.8,
             "#7fbc41"
            ],
            [
             0.9,
             "#4d9221"
            ],
            [
             1,
             "#276419"
            ]
           ],
           "sequential": [
            [
             0,
             "#0d0887"
            ],
            [
             0.1111111111111111,
             "#46039f"
            ],
            [
             0.2222222222222222,
             "#7201a8"
            ],
            [
             0.3333333333333333,
             "#9c179e"
            ],
            [
             0.4444444444444444,
             "#bd3786"
            ],
            [
             0.5555555555555556,
             "#d8576b"
            ],
            [
             0.6666666666666666,
             "#ed7953"
            ],
            [
             0.7777777777777778,
             "#fb9f3a"
            ],
            [
             0.8888888888888888,
             "#fdca26"
            ],
            [
             1,
             "#f0f921"
            ]
           ],
           "sequentialminus": [
            [
             0,
             "#0d0887"
            ],
            [
             0.1111111111111111,
             "#46039f"
            ],
            [
             0.2222222222222222,
             "#7201a8"
            ],
            [
             0.3333333333333333,
             "#9c179e"
            ],
            [
             0.4444444444444444,
             "#bd3786"
            ],
            [
             0.5555555555555556,
             "#d8576b"
            ],
            [
             0.6666666666666666,
             "#ed7953"
            ],
            [
             0.7777777777777778,
             "#fb9f3a"
            ],
            [
             0.8888888888888888,
             "#fdca26"
            ],
            [
             1,
             "#f0f921"
            ]
           ]
          },
          "colorway": [
           "#636efa",
           "#EF553B",
           "#00cc96",
           "#ab63fa",
           "#FFA15A",
           "#19d3f3",
           "#FF6692",
           "#B6E880",
           "#FF97FF",
           "#FECB52"
          ],
          "font": {
           "color": "#2a3f5f"
          },
          "geo": {
           "bgcolor": "white",
           "lakecolor": "white",
           "landcolor": "#E5ECF6",
           "showlakes": true,
           "showland": true,
           "subunitcolor": "white"
          },
          "hoverlabel": {
           "align": "left"
          },
          "hovermode": "closest",
          "mapbox": {
           "style": "light"
          },
          "paper_bgcolor": "white",
          "plot_bgcolor": "#E5ECF6",
          "polar": {
           "angularaxis": {
            "gridcolor": "white",
            "linecolor": "white",
            "ticks": ""
           },
           "bgcolor": "#E5ECF6",
           "radialaxis": {
            "gridcolor": "white",
            "linecolor": "white",
            "ticks": ""
           }
          },
          "scene": {
           "xaxis": {
            "backgroundcolor": "#E5ECF6",
            "gridcolor": "white",
            "gridwidth": 2,
            "linecolor": "white",
            "showbackground": true,
            "ticks": "",
            "zerolinecolor": "white"
           },
           "yaxis": {
            "backgroundcolor": "#E5ECF6",
            "gridcolor": "white",
            "gridwidth": 2,
            "linecolor": "white",
            "showbackground": true,
            "ticks": "",
            "zerolinecolor": "white"
           },
           "zaxis": {
            "backgroundcolor": "#E5ECF6",
            "gridcolor": "white",
            "gridwidth": 2,
            "linecolor": "white",
            "showbackground": true,
            "ticks": "",
            "zerolinecolor": "white"
           }
          },
          "shapedefaults": {
           "line": {
            "color": "#2a3f5f"
           }
          },
          "ternary": {
           "aaxis": {
            "gridcolor": "white",
            "linecolor": "white",
            "ticks": ""
           },
           "baxis": {
            "gridcolor": "white",
            "linecolor": "white",
            "ticks": ""
           },
           "bgcolor": "#E5ECF6",
           "caxis": {
            "gridcolor": "white",
            "linecolor": "white",
            "ticks": ""
           }
          },
          "title": {
           "x": 0.05
          },
          "xaxis": {
           "automargin": true,
           "gridcolor": "white",
           "linecolor": "white",
           "ticks": "",
           "title": {
            "standoff": 15
           },
           "zerolinecolor": "white",
           "zerolinewidth": 2
          },
          "yaxis": {
           "automargin": true,
           "gridcolor": "white",
           "linecolor": "white",
           "ticks": "",
           "title": {
            "standoff": 15
           },
           "zerolinecolor": "white",
           "zerolinewidth": 2
          }
         }
        },
        "xaxis": {
         "anchor": "y",
         "domain": [
          0,
          1
         ],
         "title": {
          "text": "date"
         }
        },
        "yaxis": {
         "anchor": "x",
         "domain": [
          0,
          1
         ],
         "title": {
          "text": "value"
         }
        }
       }
      },
      "text/html": [
       "<div>                            <div id=\"7715b4e4-ee04-4a3a-8097-a22e696a9321\" class=\"plotly-graph-div\" style=\"height:525px; width:100%;\"></div>            <script type=\"text/javascript\">                require([\"plotly\"], function(Plotly) {                    window.PLOTLYENV=window.PLOTLYENV || {};                                    if (document.getElementById(\"7715b4e4-ee04-4a3a-8097-a22e696a9321\")) {                    Plotly.newPlot(                        \"7715b4e4-ee04-4a3a-8097-a22e696a9321\",                        [{\"hovertemplate\":\"variable=log energy<br>date=%{x}<br>value=%{y}<extra></extra>\",\"legendgroup\":\"log energy\",\"line\":{\"color\":\"#636efa\",\"dash\":\"solid\"},\"marker\":{\"symbol\":\"circle\"},\"mode\":\"lines\",\"name\":\"log energy\",\"orientation\":\"v\",\"showlegend\":true,\"x\":[\"2022-09-22T15:15:00\",\"2022-09-22T15:30:00\",\"2022-09-22T15:45:00\",\"2022-09-22T16:00:00\",\"2022-09-22T16:15:00\",\"2022-09-22T16:30:00\",\"2022-09-22T16:45:00\",\"2022-09-22T17:00:00\",\"2022-09-22T17:15:00\",\"2022-09-22T17:30:00\",\"2022-09-22T17:45:00\",\"2022-09-22T18:00:00\",\"2022-09-22T18:15:00\",\"2022-09-22T18:30:00\",\"2022-09-22T18:45:00\",\"2022-09-22T19:00:00\",\"2022-09-22T19:15:00\",\"2022-09-22T19:30:00\",\"2022-09-22T19:45:00\",\"2022-09-22T20:00:00\",\"2022-09-22T20:15:00\",\"2022-09-22T20:30:00\",\"2022-09-22T20:45:00\",\"2022-09-22T21:00:00\",\"2022-09-22T21:15:00\",\"2022-09-22T21:30:00\",\"2022-09-22T21:45:00\",\"2022-09-22T22:00:00\",\"2022-09-22T22:15:00\",\"2022-09-22T22:30:00\",\"2022-09-22T22:45:00\",\"2022-09-22T23:00:00\",\"2022-09-22T23:15:00\",\"2022-09-22T23:30:00\",\"2022-09-22T23:45:00\",\"2022-09-23T00:00:00\",\"2022-09-23T00:15:00\",\"2022-09-23T00:30:00\",\"2022-09-23T00:45:00\",\"2022-09-23T01:00:00\",\"2022-09-23T01:15:00\",\"2022-09-23T01:30:00\",\"2022-09-23T01:45:00\",\"2022-09-23T02:00:00\",\"2022-09-23T02:15:00\",\"2022-09-23T02:30:00\",\"2022-09-23T02:45:00\",\"2022-09-23T03:00:00\",\"2022-09-23T03:15:00\",\"2022-09-23T03:30:00\",\"2022-09-23T03:45:00\",\"2022-09-23T04:00:00\",\"2022-09-23T04:15:00\",\"2022-09-23T04:30:00\",\"2022-09-23T04:45:00\",\"2022-09-23T05:00:00\",\"2022-09-23T05:15:00\",\"2022-09-23T05:30:00\",\"2022-09-23T05:45:00\",\"2022-09-23T06:00:00\",\"2022-09-23T06:15:00\",\"2022-09-23T06:30:00\",\"2022-09-23T06:45:00\",\"2022-09-23T07:00:00\",\"2022-09-23T07:15:00\",\"2022-09-23T07:30:00\",\"2022-09-23T07:45:00\",\"2022-09-23T08:00:00\",\"2022-09-23T08:15:00\",\"2022-09-23T08:30:00\",\"2022-09-23T08:45:00\",\"2022-09-23T09:00:00\",\"2022-09-23T09:15:00\",\"2022-09-23T09:30:00\",\"2022-09-23T09:45:00\",\"2022-09-23T10:00:00\",\"2022-09-23T10:15:00\",\"2022-09-23T10:30:00\",\"2022-09-23T10:45:00\",\"2022-09-23T11:00:00\",\"2022-09-23T11:15:00\",\"2022-09-23T11:30:00\",\"2022-09-23T11:45:00\",\"2022-09-23T12:00:00\",\"2022-09-23T12:15:00\",\"2022-09-23T12:30:00\",\"2022-09-23T12:45:00\",\"2022-09-23T13:00:00\",\"2022-09-23T13:15:00\",\"2022-09-23T13:30:00\",\"2022-09-23T13:45:00\",\"2022-09-23T14:00:00\",\"2022-09-23T14:15:00\",\"2022-09-23T14:30:00\",\"2022-09-23T14:45:00\",\"2022-09-23T15:00:00\",\"2022-09-23T15:15:00\",\"2022-09-23T15:30:00\",\"2022-09-23T15:45:00\",\"2022-09-23T16:00:00\",\"2022-09-23T16:15:00\",\"2022-09-23T16:30:00\",\"2022-09-23T16:45:00\",\"2022-09-23T17:00:00\",\"2022-09-23T17:15:00\",\"2022-09-23T17:30:00\",\"2022-09-23T17:45:00\",\"2022-09-23T18:00:00\",\"2022-09-23T18:15:00\",\"2022-09-23T18:30:00\",\"2022-09-23T18:45:00\",\"2022-09-23T19:00:00\",\"2022-09-23T19:15:00\",\"2022-09-23T19:30:00\",\"2022-09-23T19:45:00\",\"2022-09-23T20:00:00\",\"2022-09-23T20:15:00\",\"2022-09-23T20:30:00\",\"2022-09-23T20:45:00\",\"2022-09-23T21:00:00\",\"2022-09-23T21:15:00\",\"2022-09-23T21:30:00\",\"2022-09-23T21:45:00\",\"2022-09-23T22:00:00\",\"2022-09-23T22:15:00\",\"2022-09-23T22:30:00\",\"2022-09-23T22:45:00\",\"2022-09-23T23:00:00\",\"2022-09-23T23:15:00\",\"2022-09-23T23:30:00\",\"2022-09-23T23:45:00\",\"2022-09-24T00:00:00\",\"2022-09-24T00:15:00\",\"2022-09-24T00:30:00\",\"2022-09-24T00:45:00\",\"2022-09-24T01:00:00\",\"2022-09-24T01:15:00\",\"2022-09-24T01:30:00\",\"2022-09-24T01:45:00\",\"2022-09-24T02:00:00\",\"2022-09-24T02:15:00\",\"2022-09-24T02:30:00\",\"2022-09-24T02:45:00\",\"2022-09-24T03:00:00\",\"2022-09-24T03:15:00\",\"2022-09-24T03:30:00\",\"2022-09-24T03:45:00\",\"2022-09-24T04:00:00\",\"2022-09-24T04:15:00\",\"2022-09-24T04:30:00\",\"2022-09-24T04:45:00\",\"2022-09-24T05:00:00\",\"2022-09-24T05:15:00\",\"2022-09-24T05:30:00\",\"2022-09-24T05:45:00\",\"2022-09-24T06:00:00\",\"2022-09-24T06:15:00\",\"2022-09-24T06:30:00\",\"2022-09-24T06:45:00\",\"2022-09-24T07:00:00\",\"2022-09-24T07:15:00\",\"2022-09-24T07:30:00\",\"2022-09-24T07:45:00\",\"2022-09-24T08:00:00\",\"2022-09-24T08:15:00\",\"2022-09-24T08:30:00\",\"2022-09-24T08:45:00\",\"2022-09-24T09:00:00\",\"2022-09-24T09:15:00\",\"2022-09-24T09:30:00\",\"2022-09-24T09:45:00\",\"2022-09-24T10:00:00\",\"2022-09-24T10:15:00\",\"2022-09-24T10:30:00\",\"2022-09-24T10:45:00\",\"2022-09-24T11:00:00\",\"2022-09-24T11:15:00\",\"2022-09-24T11:30:00\",\"2022-09-24T11:45:00\",\"2022-09-24T12:00:00\",\"2022-09-24T12:15:00\",\"2022-09-24T12:30:00\",\"2022-09-24T12:45:00\",\"2022-09-24T13:00:00\",\"2022-09-24T13:15:00\",\"2022-09-24T13:30:00\",\"2022-09-24T13:45:00\",\"2022-09-24T14:00:00\",\"2022-09-24T14:15:00\",\"2022-09-24T14:30:00\",\"2022-09-24T14:45:00\",\"2022-09-24T15:00:00\",\"2022-09-24T15:15:00\",\"2022-09-24T15:30:00\",\"2022-09-24T15:45:00\",\"2022-09-24T16:00:00\",\"2022-09-24T16:15:00\",\"2022-09-24T16:30:00\",\"2022-09-24T16:45:00\",\"2022-09-24T17:00:00\",\"2022-09-24T17:15:00\",\"2022-09-24T17:30:00\",\"2022-09-24T17:45:00\",\"2022-09-24T18:00:00\",\"2022-09-24T18:15:00\",\"2022-09-24T18:30:00\",\"2022-09-24T18:45:00\",\"2022-09-24T19:00:00\",\"2022-09-24T19:15:00\",\"2022-09-24T19:30:00\",\"2022-09-24T19:45:00\",\"2022-09-24T20:00:00\",\"2022-09-24T20:15:00\",\"2022-09-24T20:30:00\",\"2022-09-24T20:45:00\",\"2022-09-24T21:00:00\",\"2022-09-24T21:15:00\",\"2022-09-24T21:30:00\",\"2022-09-24T21:45:00\",\"2022-09-24T22:00:00\",\"2022-09-24T22:15:00\",\"2022-09-24T22:30:00\",\"2022-09-24T22:45:00\",\"2022-09-24T23:00:00\",\"2022-09-24T23:15:00\",\"2022-09-24T23:30:00\",\"2022-09-24T23:45:00\",\"2022-09-25T00:00:00\",\"2022-09-25T00:15:00\",\"2022-09-25T00:30:00\",\"2022-09-25T00:45:00\",\"2022-09-25T01:00:00\",\"2022-09-25T01:15:00\",\"2022-09-25T01:30:00\",\"2022-09-25T01:45:00\",\"2022-09-25T02:00:00\",\"2022-09-25T02:15:00\",\"2022-09-25T02:30:00\",\"2022-09-25T02:45:00\",\"2022-09-25T03:00:00\",\"2022-09-25T03:15:00\",\"2022-09-25T03:30:00\",\"2022-09-25T03:45:00\",\"2022-09-25T04:00:00\",\"2022-09-25T04:15:00\",\"2022-09-25T04:30:00\",\"2022-09-25T04:45:00\",\"2022-09-25T05:00:00\",\"2022-09-25T05:15:00\",\"2022-09-25T05:30:00\",\"2022-09-25T05:45:00\",\"2022-09-25T06:00:00\",\"2022-09-25T06:15:00\",\"2022-09-25T06:30:00\",\"2022-09-25T06:45:00\",\"2022-09-25T07:00:00\",\"2022-09-25T07:15:00\",\"2022-09-25T07:30:00\",\"2022-09-25T07:45:00\",\"2022-09-25T08:00:00\",\"2022-09-25T08:15:00\",\"2022-09-25T08:30:00\",\"2022-09-25T08:45:00\",\"2022-09-25T09:00:00\",\"2022-09-25T09:15:00\",\"2022-09-25T09:30:00\",\"2022-09-25T09:45:00\",\"2022-09-25T10:00:00\",\"2022-09-25T10:15:00\",\"2022-09-25T10:30:00\",\"2022-09-25T10:45:00\",\"2022-09-25T11:00:00\",\"2022-09-25T11:15:00\",\"2022-09-25T11:30:00\",\"2022-09-25T11:45:00\",\"2022-09-25T12:00:00\",\"2022-09-25T12:15:00\",\"2022-09-25T12:30:00\",\"2022-09-25T12:45:00\",\"2022-09-25T13:00:00\",\"2022-09-25T13:15:00\",\"2022-09-25T13:30:00\",\"2022-09-25T13:45:00\",\"2022-09-25T14:00:00\",\"2022-09-25T14:15:00\",\"2022-09-25T14:30:00\",\"2022-09-25T14:45:00\",\"2022-09-25T15:00:00\",\"2022-09-25T15:15:00\",\"2022-09-25T15:30:00\",\"2022-09-25T15:45:00\",\"2022-09-25T16:00:00\",\"2022-09-25T16:15:00\",\"2022-09-25T16:30:00\",\"2022-09-25T16:45:00\",\"2022-09-25T17:00:00\",\"2022-09-25T17:15:00\",\"2022-09-25T17:30:00\",\"2022-09-25T17:45:00\",\"2022-09-25T18:00:00\",\"2022-09-25T18:15:00\",\"2022-09-25T18:30:00\",\"2022-09-25T18:45:00\",\"2022-09-25T19:00:00\",\"2022-09-25T19:15:00\",\"2022-09-25T19:30:00\",\"2022-09-25T19:45:00\",\"2022-09-25T20:00:00\",\"2022-09-25T20:15:00\",\"2022-09-25T20:30:00\",\"2022-09-25T20:45:00\",\"2022-09-25T21:00:00\",\"2022-09-25T21:15:00\",\"2022-09-25T21:30:00\",\"2022-09-25T21:45:00\",\"2022-09-25T22:00:00\",\"2022-09-25T22:15:00\",\"2022-09-25T22:30:00\",\"2022-09-25T22:45:00\",\"2022-09-25T23:00:00\",\"2022-09-25T23:15:00\",\"2022-09-25T23:30:00\",\"2022-09-25T23:45:00\",\"2022-09-26T00:00:00\",\"2022-09-26T00:15:00\",\"2022-09-26T00:30:00\",\"2022-09-26T00:45:00\",\"2022-09-26T01:00:00\",\"2022-09-26T01:15:00\",\"2022-09-26T01:30:00\",\"2022-09-26T01:45:00\",\"2022-09-26T02:00:00\",\"2022-09-26T02:15:00\",\"2022-09-26T02:30:00\",\"2022-09-26T02:45:00\",\"2022-09-26T03:00:00\",\"2022-09-26T03:15:00\",\"2022-09-26T03:30:00\",\"2022-09-26T03:45:00\",\"2022-09-26T04:00:00\",\"2022-09-26T04:15:00\",\"2022-09-26T04:30:00\",\"2022-09-26T04:45:00\",\"2022-09-26T05:00:00\",\"2022-09-26T05:15:00\",\"2022-09-26T05:30:00\",\"2022-09-26T05:45:00\",\"2022-09-26T06:00:00\",\"2022-09-26T06:15:00\",\"2022-09-26T06:30:00\",\"2022-09-26T06:45:00\",\"2022-09-26T07:00:00\",\"2022-09-26T07:15:00\",\"2022-09-26T07:30:00\",\"2022-09-26T07:45:00\",\"2022-09-26T08:00:00\",\"2022-09-26T08:15:00\",\"2022-09-26T08:30:00\",\"2022-09-26T08:45:00\",\"2022-09-26T09:00:00\",\"2022-09-26T09:15:00\",\"2022-09-26T09:30:00\",\"2022-09-26T09:45:00\",\"2022-09-26T10:00:00\",\"2022-09-26T10:15:00\",\"2022-09-26T10:30:00\",\"2022-09-26T10:45:00\",\"2022-09-26T11:00:00\",\"2022-09-26T11:15:00\",\"2022-09-26T11:30:00\",\"2022-09-26T11:45:00\",\"2022-09-26T12:00:00\",\"2022-09-26T12:15:00\",\"2022-09-26T12:30:00\",\"2022-09-26T12:45:00\",\"2022-09-26T13:00:00\"],\"xaxis\":\"x\",\"y\":[-0.19323141318794157,-0.11860107623374892,-0.14025663499531177,-0.14778847355542576,-0.16012052579827168,-0.15190391207344187,-0.1517129467859267,-0.151479590349213,-0.16238694402502243,-0.14371952811150174,-0.1574862407920956,-0.15138111338660387,-0.14853678601444084,-0.1394326267163038,-0.1411104570797131,-0.1423304529827172,-0.14087551865563233,-0.14837357451662986,-0.14849643589193307,-0.15469416877262146,-0.20944533324044595,-0.24551787937920205,-0.2701931561795921,-0.2908505045903427,-0.3059206594927789,-0.31123857246166164,-0.2892168885860022,-0.29175676349314206,-0.30724118184527377,-0.30057075499762437,-0.2850762165978419,-0.26536096111340773,-0.26233037264335973,-0.24726874799033158,-0.33104037357361066,-0.34855043479200143,-0.24671423200655257,-0.2974919178919331,-0.330913812453115,-0.32433895199852364,-0.3250442980319376,-0.3452951151734105,-0.3084817795262439,-0.30932468791785317,-0.302172823897319,-0.2985511816665058,-0.30687567894655887,-0.3342577027630159,-0.3342276989126889,-0.3453576359038205,-0.32931728829763274,-0.33890889920157996,-0.28654725981178686,-0.3163155034869554,-0.3280971563434918,-0.3216336961747702,-0.30367681815047,-0.30418835006714506,-0.3039285739529765,-0.3247772508078763,-0.3066037330627899,-0.28219889549973964,-0.2949534955297172,-0.2948866920619365,-0.27717775952014473,-0.30396879846915353,-0.32660397285369397,-0.3360297260009049,-0.31229806886233,-0.3053061964840166,-0.2655490257606154,-0.3091361518994303,-0.2476196167340898,-0.2427809139159063,-0.165136325740306,-0.16240209323801358,-0.16806179295291862,-0.17471542427399364,-0.15364680318724833,-0.2627819048846621,-0.31706740712795867,-0.2877039378238794,-0.27272883774367573,-0.29353826236864744,-0.2885656652936477,-0.21273227314014867,-0.15877509406969878,-0.16147076846712155,-0.15796083389154184,-0.14735595699182302,-0.15796583236777528,-0.17711566407856788,-0.16296993847582106,-0.1616616628511499,-0.1879266457584237,-0.1598807262863922,-0.16099673062173148,-0.1472419517366559,-0.2922110286686901,-0.3415373624858324,-0.32220240100715664,-0.34392672509662964,-0.2922799755826092,-0.26030663952361144,-0.24000146214435134,-0.26672005823183553,-0.29936117233617365,-0.320108981817255,-0.3172449923138227,-0.2859470025127841,-0.2900206490193643,-0.3033684413931845,-0.2931653407706797,-0.345885091867425,-0.30918217192087133,-0.31615358689316303,-0.2866506045463021,-0.25087227748175356,-0.27943967642014134,-0.27368201904526834,-0.26099125911526666,-0.32000462064426155,-0.2722855476894634,-0.3356881008484144,-0.33230801744472316,-0.3020004243493244,-0.3140478810151603,-0.331686782462214,-0.3036506019785829,-0.2897209685960333,-0.3047889662790801,-0.33598265423344836,-0.2965633080415271,-0.2981445950388298,-0.32716077845541636,-0.2896338122678175,-0.3542928797439274,-0.3564565259779102,-0.3406153518217145,-0.33527155016974075,-0.3414858764220571,-0.3258133196020069,-0.334745556079272,-0.3345437810421575,-0.3110652037156673,-0.3518733019731569,-0.3285605508384685,-0.34425666469265526,-0.3200073427910897,-0.33583676416884317,-0.2817499925121235,-0.32691363090853137,-0.3288503079276311,-0.33844001678451585,-0.31315110360575393,-0.2910058017640276,-0.27097540633890815,-0.3147411787092468,-0.25938312522695867,-0.30732136940157906,-0.32687675527454113,-0.2969512065378117,-0.3222507387926949,-0.30259627679951484,-0.2617293234699965,-0.25863248987661597,-0.286877545118402,-0.3252435432752208,-0.3055957635883286,-0.2957576558934459,-0.3188954059241562,-0.31395480902623857,-0.30617284083510327,-0.3026511990846356,-0.28513901566469274,-0.2673272553871418,-0.2657035397838328,-0.25480571576512534,-0.3102153650938194,-0.3184747545350287,-0.292942764497388,-0.3271866079575993,-0.3432197341462205,-0.33805959957226855,-0.3194514716041673,-0.2974186930332895,-0.30186986417750244,-0.23261479790821757,-0.2459178276637383,-0.287365448444537,-0.2329941213279875,-0.32925518061172016,-0.3134325441625904,-0.2859839174766402,-0.26250441133718916,-0.30679557363215426,-0.2582120074982482,-0.2590967530192615,-0.2863045384234699,-0.28346580537623034,-0.26788218524533014,-0.29009771893562086,-0.2649523013994586,-0.271720906816378,-0.26927019802646823,-0.28755486894715915,-0.2982938915488121,-0.2825425365737209,-0.27439787196559945,-0.32905223384838916,-0.3089344293515067,-0.2882737343697344,-0.2732638281403952,-0.27575117221826345,-0.3189949744748705,-0.30567652581471316,-0.2999846051527924,-0.28843486272522084,-0.2730903115593846,-0.24657628824175762,-0.32064752090234394,-0.32061662539712626,-0.33609845994477977,-0.2992789806306426,-0.34383565220950896,-0.3267007172802149,-0.3096027729939877,-0.30764403159904335,-0.3457348749343495,-0.3325134256129097,-0.30254223307699923,-0.3378553338353534,-0.3482220596705628,-0.30796252085019005,-0.27239449816534,-0.3310347892170101,-0.32355881166884776,-0.3103156252204898,-0.31038129483859767,-0.30356934190126944,-0.3053097052326168,-0.3166467209540435,-0.29485757581712624,-0.30655886515834274,-0.31830389648788554,-0.33282172013987005,-0.3135773560700038,-0.340476457954511,-0.31227934944549385,-0.3060401418051185,-0.33273761810782815,-0.3292273740787011,-0.34240973903948757,-0.3527442067987777,-0.32532620637654985,-0.3153808175094678,-0.3383784839504916,-0.34050975038178155,-0.3373328131474873,-0.30854982368318024,-0.3434236662554041,-0.33643758105202315,-0.3190773620785348,-0.3139932882954643,-0.3385839429904899,-0.30318771036075853,-0.2736298250902483,-0.33424738870564563,-0.2946401220817412,-0.28023711947891866,-0.28314060419607634,-0.3161796693764053,-0.3407409653457253,-0.313144851442201,-0.31003797025850294,-0.31841508218180825,-0.2904781873351855,-0.2676947165832738,-0.28768540670405013,-0.27740720578497097,-0.2893614557268381,-0.2504607844754959,-0.2503989395372906,-0.26631573124734487,-0.22149783671835377,-0.26325620103797526,-0.3042714762482681,-0.31587397317609167,-0.28638515055192465,-0.2729616445002299,-0.24314489827189473,-0.28363433868608673,-0.25843400926117865,-0.25622848319802694,-0.24043262113180033,-0.3278605626681896,-0.30369866616933355,-0.2067776416223987,-0.22155642307077286,-0.21503769087072402,-0.30944245380873286,-0.2858496962822655,-0.2252349368743038,-0.14219124724395996,-0.16858522595139352,-0.2550377021324906,-0.294769382634662,-0.25794213694675056,-0.3026660205738556,-0.28470881475167686,-0.24934506512904628,-0.1508761544322538,-0.16196739462048299,-0.21932200594091594,-0.2565615783113689,-0.164735690024568,-0.16383925025805832,-0.25319227360285074,-0.26065237603427155,-0.2571492320467422,-0.29546428205839775,-0.2878985623363425,-0.26020146997596877,-0.29363474502625214,-0.29801691389060814,-0.24211149334002469,-0.2165130574903991,-0.32482587604632707,-0.29259931697569525,-0.2856232920376612,-0.3070588323100975,-0.3167980129518335,-0.2628869056940475,-0.27039061021643424,-0.21250339481722744,-0.294061916879675,-0.2908776563743542,-0.27167868980814625,-0.3240842451047571,-0.3490109655070334,-0.34261711454982424,-0.3440513821094831,-0.3363518337606335,-0.36266039821216817,-0.3517649276485913,-0.3294665684650875,-0.33460852653715056,-0.2755799357946884,-0.25797124027943413,-0.3219316265041729,-0.25830488804547885,-0.23978340286022118,-0.2665932644200964,-0.3039985320279834,-0.29248262369562206,-0.290959970592668,-0.2973342843987062,-0.2991371283861494,-0.25442090737909606,-0.2841002312453192,-0.31136931159037257,-0.302233789610383,-0.22620624372543696,-0.234883789834714,-0.22159403822835322,-0.23178308002264164,-0.2686957546190904,-0.22709180502872012,-0.2490459684815638,-0.226587326049862,-0.29786081430580275,-0.3046111463623657,-0.2540980251753682,-0.26009079269604446,-0.27509035923089287,-0.5859747822752074],\"yaxis\":\"y\",\"type\":\"scatter\"},{\"hovertemplate\":\"variable=log requests<br>date=%{x}<br>value=%{y}<extra></extra>\",\"legendgroup\":\"log requests\",\"line\":{\"color\":\"#EF553B\",\"dash\":\"solid\"},\"marker\":{\"symbol\":\"circle\"},\"mode\":\"lines\",\"name\":\"log requests\",\"orientation\":\"v\",\"showlegend\":true,\"x\":[\"2022-09-22T15:15:00\",\"2022-09-22T15:30:00\",\"2022-09-22T15:45:00\",\"2022-09-22T16:00:00\",\"2022-09-22T16:15:00\",\"2022-09-22T16:30:00\",\"2022-09-22T16:45:00\",\"2022-09-22T17:00:00\",\"2022-09-22T17:15:00\",\"2022-09-22T17:30:00\",\"2022-09-22T17:45:00\",\"2022-09-22T18:00:00\",\"2022-09-22T18:15:00\",\"2022-09-22T18:30:00\",\"2022-09-22T18:45:00\",\"2022-09-22T19:00:00\",\"2022-09-22T19:15:00\",\"2022-09-22T19:30:00\",\"2022-09-22T19:45:00\",\"2022-09-22T20:00:00\",\"2022-09-22T20:15:00\",\"2022-09-22T20:30:00\",\"2022-09-22T20:45:00\",\"2022-09-22T21:00:00\",\"2022-09-22T21:15:00\",\"2022-09-22T21:30:00\",\"2022-09-22T21:45:00\",\"2022-09-22T22:00:00\",\"2022-09-22T22:15:00\",\"2022-09-22T22:30:00\",\"2022-09-22T22:45:00\",\"2022-09-22T23:00:00\",\"2022-09-22T23:15:00\",\"2022-09-22T23:30:00\",\"2022-09-22T23:45:00\",\"2022-09-23T00:00:00\",\"2022-09-23T00:15:00\",\"2022-09-23T00:30:00\",\"2022-09-23T00:45:00\",\"2022-09-23T01:00:00\",\"2022-09-23T01:15:00\",\"2022-09-23T01:30:00\",\"2022-09-23T01:45:00\",\"2022-09-23T02:00:00\",\"2022-09-23T02:15:00\",\"2022-09-23T02:30:00\",\"2022-09-23T02:45:00\",\"2022-09-23T03:00:00\",\"2022-09-23T03:15:00\",\"2022-09-23T03:30:00\",\"2022-09-23T03:45:00\",\"2022-09-23T04:00:00\",\"2022-09-23T04:15:00\",\"2022-09-23T04:30:00\",\"2022-09-23T04:45:00\",\"2022-09-23T05:00:00\",\"2022-09-23T05:15:00\",\"2022-09-23T05:30:00\",\"2022-09-23T05:45:00\",\"2022-09-23T06:00:00\",\"2022-09-23T06:15:00\",\"2022-09-23T06:30:00\",\"2022-09-23T06:45:00\",\"2022-09-23T07:00:00\",\"2022-09-23T07:15:00\",\"2022-09-23T07:30:00\",\"2022-09-23T07:45:00\",\"2022-09-23T08:00:00\",\"2022-09-23T08:15:00\",\"2022-09-23T08:30:00\",\"2022-09-23T08:45:00\",\"2022-09-23T09:00:00\",\"2022-09-23T09:15:00\",\"2022-09-23T09:30:00\",\"2022-09-23T09:45:00\",\"2022-09-23T10:00:00\",\"2022-09-23T10:15:00\",\"2022-09-23T10:30:00\",\"2022-09-23T10:45:00\",\"2022-09-23T11:00:00\",\"2022-09-23T11:15:00\",\"2022-09-23T11:30:00\",\"2022-09-23T11:45:00\",\"2022-09-23T12:00:00\",\"2022-09-23T12:15:00\",\"2022-09-23T12:30:00\",\"2022-09-23T12:45:00\",\"2022-09-23T13:00:00\",\"2022-09-23T13:15:00\",\"2022-09-23T13:30:00\",\"2022-09-23T13:45:00\",\"2022-09-23T14:00:00\",\"2022-09-23T14:15:00\",\"2022-09-23T14:30:00\",\"2022-09-23T14:45:00\",\"2022-09-23T15:00:00\",\"2022-09-23T15:15:00\",\"2022-09-23T15:30:00\",\"2022-09-23T15:45:00\",\"2022-09-23T16:00:00\",\"2022-09-23T16:15:00\",\"2022-09-23T16:30:00\",\"2022-09-23T16:45:00\",\"2022-09-23T17:00:00\",\"2022-09-23T17:15:00\",\"2022-09-23T17:30:00\",\"2022-09-23T17:45:00\",\"2022-09-23T18:00:00\",\"2022-09-23T18:15:00\",\"2022-09-23T18:30:00\",\"2022-09-23T18:45:00\",\"2022-09-23T19:00:00\",\"2022-09-23T19:15:00\",\"2022-09-23T19:30:00\",\"2022-09-23T19:45:00\",\"2022-09-23T20:00:00\",\"2022-09-23T20:15:00\",\"2022-09-23T20:30:00\",\"2022-09-23T20:45:00\",\"2022-09-23T21:00:00\",\"2022-09-23T21:15:00\",\"2022-09-23T21:30:00\",\"2022-09-23T21:45:00\",\"2022-09-23T22:00:00\",\"2022-09-23T22:15:00\",\"2022-09-23T22:30:00\",\"2022-09-23T22:45:00\",\"2022-09-23T23:00:00\",\"2022-09-23T23:15:00\",\"2022-09-23T23:30:00\",\"2022-09-23T23:45:00\",\"2022-09-24T00:00:00\",\"2022-09-24T00:15:00\",\"2022-09-24T00:30:00\",\"2022-09-24T00:45:00\",\"2022-09-24T01:00:00\",\"2022-09-24T01:15:00\",\"2022-09-24T01:30:00\",\"2022-09-24T01:45:00\",\"2022-09-24T02:00:00\",\"2022-09-24T02:15:00\",\"2022-09-24T02:30:00\",\"2022-09-24T02:45:00\",\"2022-09-24T03:00:00\",\"2022-09-24T03:15:00\",\"2022-09-24T03:30:00\",\"2022-09-24T03:45:00\",\"2022-09-24T04:00:00\",\"2022-09-24T04:15:00\",\"2022-09-24T04:30:00\",\"2022-09-24T04:45:00\",\"2022-09-24T05:00:00\",\"2022-09-24T05:15:00\",\"2022-09-24T05:30:00\",\"2022-09-24T05:45:00\",\"2022-09-24T06:00:00\",\"2022-09-24T06:15:00\",\"2022-09-24T06:30:00\",\"2022-09-24T06:45:00\",\"2022-09-24T07:00:00\",\"2022-09-24T07:15:00\",\"2022-09-24T07:30:00\",\"2022-09-24T07:45:00\",\"2022-09-24T08:00:00\",\"2022-09-24T08:15:00\",\"2022-09-24T08:30:00\",\"2022-09-24T08:45:00\",\"2022-09-24T09:00:00\",\"2022-09-24T09:15:00\",\"2022-09-24T09:30:00\",\"2022-09-24T09:45:00\",\"2022-09-24T10:00:00\",\"2022-09-24T10:15:00\",\"2022-09-24T10:30:00\",\"2022-09-24T10:45:00\",\"2022-09-24T11:00:00\",\"2022-09-24T11:15:00\",\"2022-09-24T11:30:00\",\"2022-09-24T11:45:00\",\"2022-09-24T12:00:00\",\"2022-09-24T12:15:00\",\"2022-09-24T12:30:00\",\"2022-09-24T12:45:00\",\"2022-09-24T13:00:00\",\"2022-09-24T13:15:00\",\"2022-09-24T13:30:00\",\"2022-09-24T13:45:00\",\"2022-09-24T14:00:00\",\"2022-09-24T14:15:00\",\"2022-09-24T14:30:00\",\"2022-09-24T14:45:00\",\"2022-09-24T15:00:00\",\"2022-09-24T15:15:00\",\"2022-09-24T15:30:00\",\"2022-09-24T15:45:00\",\"2022-09-24T16:00:00\",\"2022-09-24T16:15:00\",\"2022-09-24T16:30:00\",\"2022-09-24T16:45:00\",\"2022-09-24T17:00:00\",\"2022-09-24T17:15:00\",\"2022-09-24T17:30:00\",\"2022-09-24T17:45:00\",\"2022-09-24T18:00:00\",\"2022-09-24T18:15:00\",\"2022-09-24T18:30:00\",\"2022-09-24T18:45:00\",\"2022-09-24T19:00:00\",\"2022-09-24T19:15:00\",\"2022-09-24T19:30:00\",\"2022-09-24T19:45:00\",\"2022-09-24T20:00:00\",\"2022-09-24T20:15:00\",\"2022-09-24T20:30:00\",\"2022-09-24T20:45:00\",\"2022-09-24T21:00:00\",\"2022-09-24T21:15:00\",\"2022-09-24T21:30:00\",\"2022-09-24T21:45:00\",\"2022-09-24T22:00:00\",\"2022-09-24T22:15:00\",\"2022-09-24T22:30:00\",\"2022-09-24T22:45:00\",\"2022-09-24T23:00:00\",\"2022-09-24T23:15:00\",\"2022-09-24T23:30:00\",\"2022-09-24T23:45:00\",\"2022-09-25T00:00:00\",\"2022-09-25T00:15:00\",\"2022-09-25T00:30:00\",\"2022-09-25T00:45:00\",\"2022-09-25T01:00:00\",\"2022-09-25T01:15:00\",\"2022-09-25T01:30:00\",\"2022-09-25T01:45:00\",\"2022-09-25T02:00:00\",\"2022-09-25T02:15:00\",\"2022-09-25T02:30:00\",\"2022-09-25T02:45:00\",\"2022-09-25T03:00:00\",\"2022-09-25T03:15:00\",\"2022-09-25T03:30:00\",\"2022-09-25T03:45:00\",\"2022-09-25T04:00:00\",\"2022-09-25T04:15:00\",\"2022-09-25T04:30:00\",\"2022-09-25T04:45:00\",\"2022-09-25T05:00:00\",\"2022-09-25T05:15:00\",\"2022-09-25T05:30:00\",\"2022-09-25T05:45:00\",\"2022-09-25T06:00:00\",\"2022-09-25T06:15:00\",\"2022-09-25T06:30:00\",\"2022-09-25T06:45:00\",\"2022-09-25T07:00:00\",\"2022-09-25T07:15:00\",\"2022-09-25T07:30:00\",\"2022-09-25T07:45:00\",\"2022-09-25T08:00:00\",\"2022-09-25T08:15:00\",\"2022-09-25T08:30:00\",\"2022-09-25T08:45:00\",\"2022-09-25T09:00:00\",\"2022-09-25T09:15:00\",\"2022-09-25T09:30:00\",\"2022-09-25T09:45:00\",\"2022-09-25T10:00:00\",\"2022-09-25T10:15:00\",\"2022-09-25T10:30:00\",\"2022-09-25T10:45:00\",\"2022-09-25T11:00:00\",\"2022-09-25T11:15:00\",\"2022-09-25T11:30:00\",\"2022-09-25T11:45:00\",\"2022-09-25T12:00:00\",\"2022-09-25T12:15:00\",\"2022-09-25T12:30:00\",\"2022-09-25T12:45:00\",\"2022-09-25T13:00:00\",\"2022-09-25T13:15:00\",\"2022-09-25T13:30:00\",\"2022-09-25T13:45:00\",\"2022-09-25T14:00:00\",\"2022-09-25T14:15:00\",\"2022-09-25T14:30:00\",\"2022-09-25T14:45:00\",\"2022-09-25T15:00:00\",\"2022-09-25T15:15:00\",\"2022-09-25T15:30:00\",\"2022-09-25T15:45:00\",\"2022-09-25T16:00:00\",\"2022-09-25T16:15:00\",\"2022-09-25T16:30:00\",\"2022-09-25T16:45:00\",\"2022-09-25T17:00:00\",\"2022-09-25T17:15:00\",\"2022-09-25T17:30:00\",\"2022-09-25T17:45:00\",\"2022-09-25T18:00:00\",\"2022-09-25T18:15:00\",\"2022-09-25T18:30:00\",\"2022-09-25T18:45:00\",\"2022-09-25T19:00:00\",\"2022-09-25T19:15:00\",\"2022-09-25T19:30:00\",\"2022-09-25T19:45:00\",\"2022-09-25T20:00:00\",\"2022-09-25T20:15:00\",\"2022-09-25T20:30:00\",\"2022-09-25T20:45:00\",\"2022-09-25T21:00:00\",\"2022-09-25T21:15:00\",\"2022-09-25T21:30:00\",\"2022-09-25T21:45:00\",\"2022-09-25T22:00:00\",\"2022-09-25T22:15:00\",\"2022-09-25T22:30:00\",\"2022-09-25T22:45:00\",\"2022-09-25T23:00:00\",\"2022-09-25T23:15:00\",\"2022-09-25T23:30:00\",\"2022-09-25T23:45:00\",\"2022-09-26T00:00:00\",\"2022-09-26T00:15:00\",\"2022-09-26T00:30:00\",\"2022-09-26T00:45:00\",\"2022-09-26T01:00:00\",\"2022-09-26T01:15:00\",\"2022-09-26T01:30:00\",\"2022-09-26T01:45:00\",\"2022-09-26T02:00:00\",\"2022-09-26T02:15:00\",\"2022-09-26T02:30:00\",\"2022-09-26T02:45:00\",\"2022-09-26T03:00:00\",\"2022-09-26T03:15:00\",\"2022-09-26T03:30:00\",\"2022-09-26T03:45:00\",\"2022-09-26T04:00:00\",\"2022-09-26T04:15:00\",\"2022-09-26T04:30:00\",\"2022-09-26T04:45:00\",\"2022-09-26T05:00:00\",\"2022-09-26T05:15:00\",\"2022-09-26T05:30:00\",\"2022-09-26T05:45:00\",\"2022-09-26T06:00:00\",\"2022-09-26T06:15:00\",\"2022-09-26T06:30:00\",\"2022-09-26T06:45:00\",\"2022-09-26T07:00:00\",\"2022-09-26T07:15:00\",\"2022-09-26T07:30:00\",\"2022-09-26T07:45:00\",\"2022-09-26T08:00:00\",\"2022-09-26T08:15:00\",\"2022-09-26T08:30:00\",\"2022-09-26T08:45:00\",\"2022-09-26T09:00:00\",\"2022-09-26T09:15:00\",\"2022-09-26T09:30:00\",\"2022-09-26T09:45:00\",\"2022-09-26T10:00:00\",\"2022-09-26T10:15:00\",\"2022-09-26T10:30:00\",\"2022-09-26T10:45:00\",\"2022-09-26T11:00:00\",\"2022-09-26T11:15:00\",\"2022-09-26T11:30:00\",\"2022-09-26T11:45:00\",\"2022-09-26T12:00:00\",\"2022-09-26T12:15:00\",\"2022-09-26T12:30:00\",\"2022-09-26T12:45:00\",\"2022-09-26T13:00:00\"],\"xaxis\":\"x\",\"y\":[2.507855871695831,2.4983105537896004,2.8457180179666586,2.756636108245848,2.550228353055094,2.545307116465824,2.5211380837040362,2.4899584794248346,2.5211380837040362,2.6314437690131722,2.552668216112193,2.550228353055094,2.603144372620182,2.603144372620182,2.5877109650189114,2.622214022966295,2.59659709562646,2.611723308007342,2.552668216112193,2.496929648073215,2.45178643552429,2.3443922736851106,2.27415784926368,2.0718820073061255,2.093421685162235,1.6901960800285136,2.110589710299249,2.0791812460476247,1.7781512503836436,2.110589710299249,2.143014800254095,2.1789769472931693,2.292256071356476,2.287801729930226,1.8260748027008264,1.3222192947339193,2.3729120029701067,2.143014800254095,1.6989700043360187,1.806179973983887,1.8195439355418688,1.414973347970818,1.8808135922807914,2.0043213737826426,2.0569048513364727,2.075546961392531,1.8260748027008264,1.6989700043360187,1.5563025007672873,1.5563025007672873,1.7323937598229686,1.6989700043360187,2.08278537031645,2.0644579892269186,1.8129133566428555,1.919078092376074,2.0293837776852097,2.0211892990699383,1.8388490907372552,1.7634279935629373,2.03342375548695,2.146128035678238,2.0086001717619175,2.143014800254095,2.1931245983544616,2.0681858617461617,1.7634279935629373,1.4771212547196624,1.845098040014257,1.9542425094393248,2.113943352306837,1.8325089127062364,2.130333768495006,2.2355284469075487,2.5024271199844326,2.4927603890268375,2.4712917110589387,2.4265112613645754,2.459392487759231,2.146128035678238,1.8325089127062364,2.03342375548695,2.2528530309798933,2.2121876044039577,2.184691430817599,2.399673721481038,2.597695185925512,2.6009728956867484,2.593286067020457,2.582063362911709,2.5921767573958667,2.4756711883244296,2.494154594018443,2.5352941200427703,2.383815365980431,2.462397997898956,2.506505032404872,2.57978359661681,2.0492180226701815,1.7708520116421442,1.7075701760979363,1.6434526764861874,2.075546961392531,2.376576957056512,2.4265112613645754,2.41161970596323,2.093421685162235,2.0,1.6989700043360187,2.0253058652647704,1.7634279935629373,1.9138138523837167,2.0211892990699383,1.2304489213782739,1.7242758696007892,1.9867717342662448,2.1789769472931693,2.278753600952829,2.0969100130080562,2.1335389083702174,2.255272505103306,1.99563519459755,2.2764618041732443,1.591064607026499,1.6127838567197355,1.99563519459755,1.6434526764861874,2.041392685158225,2.0170333392987803,2.0,2.1072099696478683,1.8325089127062364,2.08278537031645,2.1398790864012365,1.8976270912904414,2.093421685162235,0.9030899869919435,0.9030899869919435,1.3222192947339193,1.8388490907372552,1.8195439355418688,1.7993405494535817,1.5563025007672873,1.3222192947339193,1.6901960800285136,1.4771212547196624,1.6127838567197355,1.6434526764861874,1.7634279935629373,1.806179973983887,2.0644579892269186,1.7160033436347992,1.8195439355418688,1.5185139398778875,1.9242792860618816,2.143014800254095,2.161368002234975,1.8195439355418688,2.1271047983648077,1.9590413923210936,1.7853298350107671,1.9867717342662448,1.8129133566428555,2.0863598306747484,2.225309281725863,2.2528530309798933,2.08278537031645,1.8388490907372552,1.9242792860618816,2.110589710299249,1.8512583487190752,1.9912260756924949,1.8920946026904804,2.089905111439398,2.0492180226701815,1.9084850188786497,2.2068258760318495,2.322219294733919,2.0293837776852097,1.7708520116421442,1.9637878273455553,1.568201724066995,1.414973347970818,1.414973347970818,1.7708520116421442,1.6334684555795866,1.9344984512435677,2.2671717284030137,2.2600713879850747,2.2405492482825995,2.3710678622717363,1.9344984512435677,2.0170333392987803,2.167317334748176,2.0211892990699383,1.8750612633917,2.1958996524092336,2.1583624920952498,1.9822712330395684,2.155336037465062,2.294466226161593,2.0086001717619175,2.1986570869544226,2.2355284469075487,2.1522883443830563,1.8195439355418688,2.0718820073061255,1.863322860120456,2.05307844348342,1.5563025007672873,1.845098040014257,2.0681858617461617,2.2405492482825995,2.230448921378274,2.2810333672477277,2.0170333392987803,1.9030899869919435,2.100370545117563,2.303196057420489,2.3783979009481375,1.863322860120456,1.8976270912904414,1.380211241711606,2.0492180226701815,1.2787536009528289,1.662757831681574,1.7634279935629373,1.8692317197309762,1.2787536009528289,1.6232492903979006,1.9344984512435677,1.6127838567197355,1.3979400086720377,2.0681858617461617,2.103803720955957,1.9542425094393248,1.7634279935629373,1.9030899869919435,2.12057393120585,1.8129133566428555,1.6901960800285136,1.8573324964312685,2.0644579892269186,2.0492180226701815,1.7993405494535817,1.6334684555795866,2.0293837776852097,1.8388490907372552,1.9637878273455553,1.8195439355418688,1.5440680443502757,1.9395192526186185,1.3010299956639813,1.3010299956639813,1.8692317197309762,1.9138138523837167,1.792391689498254,1.4913616938342726,1.4913616938342726,2.0211892990699383,1.4771212547196624,1.4471580313422192,1.591064607026499,1.7075701760979363,1.5563025007672873,1.9084850188786497,2.03342375548695,1.7403626894942439,2.012837224705172,2.093421685162235,2.075546961392531,1.919078092376074,1.3617278360175928,1.6989700043360187,1.8920946026904804,1.9731278535996986,2.110589710299249,2.2624510897304293,2.3909351071033793,2.361727836017593,2.2528530309798933,2.271841606536499,2.2068258760318495,2.294466226161593,2.519827993775719,2.075546961392531,1.9294189257142929,1.8864907251724818,2.0,2.0681858617461617,2.2430380486862944,2.2095150145426308,2.1818435879447726,2.1271047983648077,2.1931245983544616,1.8692317197309762,1.9637878273455553,2.3364597338485296,2.374748346010104,2.4424797690644486,2.0718820073061255,1.9030899869919435,2.3096301674258988,2.5477747053878224,2.6074550232146687,2.361727836017593,2.1271047983648077,2.3502480183341627,2.1072099696478683,2.1958996524092336,2.287801729930226,2.5888317255942073,2.59659709562646,2.5010592622177517,2.315970345456918,2.6334684555795866,2.6627578316815743,2.376576957056512,2.376576957056512,2.385606273598312,2.184691430817599,2.1172712956557644,2.2013971243204513,2.155336037465062,1.9867717342662448,2.4608978427565478,2.361727836017593,1.6812412373755872,1.9542425094393248,2.342422680822206,2.1931245983544616,2.060697840353612,2.3384564936046046,2.359835482339888,2.575187844927661,2.093421685162235,2.2013971243204513,2.577491799837225,1.6720978579357175,1.6232492903979006,1.3424226808222062,1.3424226808222062,1.6434526764861874,1.3424226808222062,1.146128035678238,1.6720978579357175,1.462397997898956,2.1958996524092336,2.2479732663618064,1.7242758696007892,2.187520720836463,2.3820170425748683,2.2479732663618064,2.089905111439398,2.103803720955957,2.1903316981702914,2.143014800254095,2.05307844348342,2.307496037913213,2.1958996524092336,2.113943352306837,2.0170333392987803,2.3324384599156054,2.3283796034387376,2.4578818967339924,2.3180633349627615,2.1702617153949575,2.41161970596323,2.403120521175818,2.305351369446624,2.146128035678238,2.060697840353612,2.3138672203691533,2.320146286111054,2.1522883443830563,2.143014800254095],\"yaxis\":\"y\",\"type\":\"scatter\"}],                        {\"template\":{\"data\":{\"histogram2dcontour\":[{\"type\":\"histogram2dcontour\",\"colorbar\":{\"outlinewidth\":0,\"ticks\":\"\"},\"colorscale\":[[0.0,\"#0d0887\"],[0.1111111111111111,\"#46039f\"],[0.2222222222222222,\"#7201a8\"],[0.3333333333333333,\"#9c179e\"],[0.4444444444444444,\"#bd3786\"],[0.5555555555555556,\"#d8576b\"],[0.6666666666666666,\"#ed7953\"],[0.7777777777777778,\"#fb9f3a\"],[0.8888888888888888,\"#fdca26\"],[1.0,\"#f0f921\"]]}],\"choropleth\":[{\"type\":\"choropleth\",\"colorbar\":{\"outlinewidth\":0,\"ticks\":\"\"}}],\"histogram2d\":[{\"type\":\"histogram2d\",\"colorbar\":{\"outlinewidth\":0,\"ticks\":\"\"},\"colorscale\":[[0.0,\"#0d0887\"],[0.1111111111111111,\"#46039f\"],[0.2222222222222222,\"#7201a8\"],[0.3333333333333333,\"#9c179e\"],[0.4444444444444444,\"#bd3786\"],[0.5555555555555556,\"#d8576b\"],[0.6666666666666666,\"#ed7953\"],[0.7777777777777778,\"#fb9f3a\"],[0.8888888888888888,\"#fdca26\"],[1.0,\"#f0f921\"]]}],\"heatmap\":[{\"type\":\"heatmap\",\"colorbar\":{\"outlinewidth\":0,\"ticks\":\"\"},\"colorscale\":[[0.0,\"#0d0887\"],[0.1111111111111111,\"#46039f\"],[0.2222222222222222,\"#7201a8\"],[0.3333333333333333,\"#9c179e\"],[0.4444444444444444,\"#bd3786\"],[0.5555555555555556,\"#d8576b\"],[0.6666666666666666,\"#ed7953\"],[0.7777777777777778,\"#fb9f3a\"],[0.8888888888888888,\"#fdca26\"],[1.0,\"#f0f921\"]]}],\"heatmapgl\":[{\"type\":\"heatmapgl\",\"colorbar\":{\"outlinewidth\":0,\"ticks\":\"\"},\"colorscale\":[[0.0,\"#0d0887\"],[0.1111111111111111,\"#46039f\"],[0.2222222222222222,\"#7201a8\"],[0.3333333333333333,\"#9c179e\"],[0.4444444444444444,\"#bd3786\"],[0.5555555555555556,\"#d8576b\"],[0.6666666666666666,\"#ed7953\"],[0.7777777777777778,\"#fb9f3a\"],[0.8888888888888888,\"#fdca26\"],[1.0,\"#f0f921\"]]}],\"contourcarpet\":[{\"type\":\"contourcarpet\",\"colorbar\":{\"outlinewidth\":0,\"ticks\":\"\"}}],\"contour\":[{\"type\":\"contour\",\"colorbar\":{\"outlinewidth\":0,\"ticks\":\"\"},\"colorscale\":[[0.0,\"#0d0887\"],[0.1111111111111111,\"#46039f\"],[0.2222222222222222,\"#7201a8\"],[0.3333333333333333,\"#9c179e\"],[0.4444444444444444,\"#bd3786\"],[0.5555555555555556,\"#d8576b\"],[0.6666666666666666,\"#ed7953\"],[0.7777777777777778,\"#fb9f3a\"],[0.8888888888888888,\"#fdca26\"],[1.0,\"#f0f921\"]]}],\"surface\":[{\"type\":\"surface\",\"colorbar\":{\"outlinewidth\":0,\"ticks\":\"\"},\"colorscale\":[[0.0,\"#0d0887\"],[0.1111111111111111,\"#46039f\"],[0.2222222222222222,\"#7201a8\"],[0.3333333333333333,\"#9c179e\"],[0.4444444444444444,\"#bd3786\"],[0.5555555555555556,\"#d8576b\"],[0.6666666666666666,\"#ed7953\"],[0.7777777777777778,\"#fb9f3a\"],[0.8888888888888888,\"#fdca26\"],[1.0,\"#f0f921\"]]}],\"mesh3d\":[{\"type\":\"mesh3d\",\"colorbar\":{\"outlinewidth\":0,\"ticks\":\"\"}}],\"scatter\":[{\"fillpattern\":{\"fillmode\":\"overlay\",\"size\":10,\"solidity\":0.2},\"type\":\"scatter\"}],\"parcoords\":[{\"type\":\"parcoords\",\"line\":{\"colorbar\":{\"outlinewidth\":0,\"ticks\":\"\"}}}],\"scatterpolargl\":[{\"type\":\"scatterpolargl\",\"marker\":{\"colorbar\":{\"outlinewidth\":0,\"ticks\":\"\"}}}],\"bar\":[{\"error_x\":{\"color\":\"#2a3f5f\"},\"error_y\":{\"color\":\"#2a3f5f\"},\"marker\":{\"line\":{\"color\":\"#E5ECF6\",\"width\":0.5},\"pattern\":{\"fillmode\":\"overlay\",\"size\":10,\"solidity\":0.2}},\"type\":\"bar\"}],\"scattergeo\":[{\"type\":\"scattergeo\",\"marker\":{\"colorbar\":{\"outlinewidth\":0,\"ticks\":\"\"}}}],\"scatterpolar\":[{\"type\":\"scatterpolar\",\"marker\":{\"colorbar\":{\"outlinewidth\":0,\"ticks\":\"\"}}}],\"histogram\":[{\"marker\":{\"pattern\":{\"fillmode\":\"overlay\",\"size\":10,\"solidity\":0.2}},\"type\":\"histogram\"}],\"scattergl\":[{\"type\":\"scattergl\",\"marker\":{\"colorbar\":{\"outlinewidth\":0,\"ticks\":\"\"}}}],\"scatter3d\":[{\"type\":\"scatter3d\",\"line\":{\"colorbar\":{\"outlinewidth\":0,\"ticks\":\"\"}},\"marker\":{\"colorbar\":{\"outlinewidth\":0,\"ticks\":\"\"}}}],\"scattermapbox\":[{\"type\":\"scattermapbox\",\"marker\":{\"colorbar\":{\"outlinewidth\":0,\"ticks\":\"\"}}}],\"scatterternary\":[{\"type\":\"scatterternary\",\"marker\":{\"colorbar\":{\"outlinewidth\":0,\"ticks\":\"\"}}}],\"scattercarpet\":[{\"type\":\"scattercarpet\",\"marker\":{\"colorbar\":{\"outlinewidth\":0,\"ticks\":\"\"}}}],\"carpet\":[{\"aaxis\":{\"endlinecolor\":\"#2a3f5f\",\"gridcolor\":\"white\",\"linecolor\":\"white\",\"minorgridcolor\":\"white\",\"startlinecolor\":\"#2a3f5f\"},\"baxis\":{\"endlinecolor\":\"#2a3f5f\",\"gridcolor\":\"white\",\"linecolor\":\"white\",\"minorgridcolor\":\"white\",\"startlinecolor\":\"#2a3f5f\"},\"type\":\"carpet\"}],\"table\":[{\"cells\":{\"fill\":{\"color\":\"#EBF0F8\"},\"line\":{\"color\":\"white\"}},\"header\":{\"fill\":{\"color\":\"#C8D4E3\"},\"line\":{\"color\":\"white\"}},\"type\":\"table\"}],\"barpolar\":[{\"marker\":{\"line\":{\"color\":\"#E5ECF6\",\"width\":0.5},\"pattern\":{\"fillmode\":\"overlay\",\"size\":10,\"solidity\":0.2}},\"type\":\"barpolar\"}],\"pie\":[{\"automargin\":true,\"type\":\"pie\"}]},\"layout\":{\"autotypenumbers\":\"strict\",\"colorway\":[\"#636efa\",\"#EF553B\",\"#00cc96\",\"#ab63fa\",\"#FFA15A\",\"#19d3f3\",\"#FF6692\",\"#B6E880\",\"#FF97FF\",\"#FECB52\"],\"font\":{\"color\":\"#2a3f5f\"},\"hovermode\":\"closest\",\"hoverlabel\":{\"align\":\"left\"},\"paper_bgcolor\":\"white\",\"plot_bgcolor\":\"#E5ECF6\",\"polar\":{\"bgcolor\":\"#E5ECF6\",\"angularaxis\":{\"gridcolor\":\"white\",\"linecolor\":\"white\",\"ticks\":\"\"},\"radialaxis\":{\"gridcolor\":\"white\",\"linecolor\":\"white\",\"ticks\":\"\"}},\"ternary\":{\"bgcolor\":\"#E5ECF6\",\"aaxis\":{\"gridcolor\":\"white\",\"linecolor\":\"white\",\"ticks\":\"\"},\"baxis\":{\"gridcolor\":\"white\",\"linecolor\":\"white\",\"ticks\":\"\"},\"caxis\":{\"gridcolor\":\"white\",\"linecolor\":\"white\",\"ticks\":\"\"}},\"coloraxis\":{\"colorbar\":{\"outlinewidth\":0,\"ticks\":\"\"}},\"colorscale\":{\"sequential\":[[0.0,\"#0d0887\"],[0.1111111111111111,\"#46039f\"],[0.2222222222222222,\"#7201a8\"],[0.3333333333333333,\"#9c179e\"],[0.4444444444444444,\"#bd3786\"],[0.5555555555555556,\"#d8576b\"],[0.6666666666666666,\"#ed7953\"],[0.7777777777777778,\"#fb9f3a\"],[0.8888888888888888,\"#fdca26\"],[1.0,\"#f0f921\"]],\"sequentialminus\":[[0.0,\"#0d0887\"],[0.1111111111111111,\"#46039f\"],[0.2222222222222222,\"#7201a8\"],[0.3333333333333333,\"#9c179e\"],[0.4444444444444444,\"#bd3786\"],[0.5555555555555556,\"#d8576b\"],[0.6666666666666666,\"#ed7953\"],[0.7777777777777778,\"#fb9f3a\"],[0.8888888888888888,\"#fdca26\"],[1.0,\"#f0f921\"]],\"diverging\":[[0,\"#8e0152\"],[0.1,\"#c51b7d\"],[0.2,\"#de77ae\"],[0.3,\"#f1b6da\"],[0.4,\"#fde0ef\"],[0.5,\"#f7f7f7\"],[0.6,\"#e6f5d0\"],[0.7,\"#b8e186\"],[0.8,\"#7fbc41\"],[0.9,\"#4d9221\"],[1,\"#276419\"]]},\"xaxis\":{\"gridcolor\":\"white\",\"linecolor\":\"white\",\"ticks\":\"\",\"title\":{\"standoff\":15},\"zerolinecolor\":\"white\",\"automargin\":true,\"zerolinewidth\":2},\"yaxis\":{\"gridcolor\":\"white\",\"linecolor\":\"white\",\"ticks\":\"\",\"title\":{\"standoff\":15},\"zerolinecolor\":\"white\",\"automargin\":true,\"zerolinewidth\":2},\"scene\":{\"xaxis\":{\"backgroundcolor\":\"#E5ECF6\",\"gridcolor\":\"white\",\"linecolor\":\"white\",\"showbackground\":true,\"ticks\":\"\",\"zerolinecolor\":\"white\",\"gridwidth\":2},\"yaxis\":{\"backgroundcolor\":\"#E5ECF6\",\"gridcolor\":\"white\",\"linecolor\":\"white\",\"showbackground\":true,\"ticks\":\"\",\"zerolinecolor\":\"white\",\"gridwidth\":2},\"zaxis\":{\"backgroundcolor\":\"#E5ECF6\",\"gridcolor\":\"white\",\"linecolor\":\"white\",\"showbackground\":true,\"ticks\":\"\",\"zerolinecolor\":\"white\",\"gridwidth\":2}},\"shapedefaults\":{\"line\":{\"color\":\"#2a3f5f\"}},\"annotationdefaults\":{\"arrowcolor\":\"#2a3f5f\",\"arrowhead\":0,\"arrowwidth\":1},\"geo\":{\"bgcolor\":\"white\",\"landcolor\":\"#E5ECF6\",\"subunitcolor\":\"white\",\"showland\":true,\"showlakes\":true,\"lakecolor\":\"white\"},\"title\":{\"x\":0.05},\"mapbox\":{\"style\":\"light\"}}},\"xaxis\":{\"anchor\":\"y\",\"domain\":[0.0,1.0],\"title\":{\"text\":\"date\"}},\"yaxis\":{\"anchor\":\"x\",\"domain\":[0.0,1.0],\"title\":{\"text\":\"value\"}},\"legend\":{\"title\":{\"text\":\"variable\"},\"tracegroupgap\":0},\"margin\":{\"t\":60}},                        {\"responsive\": true}                    ).then(function(){\n",
       "                            \n",
       "var gd = document.getElementById('7715b4e4-ee04-4a3a-8097-a22e696a9321');\n",
       "var x = new MutationObserver(function (mutations, observer) {{\n",
       "        var display = window.getComputedStyle(gd).display;\n",
       "        if (!display || display === 'none') {{\n",
       "            console.log([gd, 'removed!']);\n",
       "            Plotly.purge(gd);\n",
       "            observer.disconnect();\n",
       "        }}\n",
       "}});\n",
       "\n",
       "// Listen for the removal of the full notebook cells\n",
       "var notebookContainer = gd.closest('#notebook-container');\n",
       "if (notebookContainer) {{\n",
       "    x.observe(notebookContainer, {childList: true});\n",
       "}}\n",
       "\n",
       "// Listen for the clearing of the current output cell\n",
       "var outputEl = gd.closest('.output');\n",
       "if (outputEl) {{\n",
       "    x.observe(outputEl, {childList: true});\n",
       "}}\n",
       "\n",
       "                        })                };                });            </script>        </div>"
      ]
     },
     "metadata": {},
     "output_type": "display_data"
    }
   ],
   "source": [
    "alllogdf.plot(x=\"date\", y=[\"log energy\", \"log requests\"], kind=\"line\")"
   ]
  },
  {
   "cell_type": "markdown",
   "id": "b1884bc6",
   "metadata": {},
   "source": [
    "### Plotting normalized values"
   ]
  },
  {
   "cell_type": "code",
   "execution_count": 45,
   "id": "cf51a7e7",
   "metadata": {},
   "outputs": [
    {
     "data": {
      "application/vnd.plotly.v1+json": {
       "config": {
        "plotlyServerURL": "https://plot.ly"
       },
       "data": [
        {
         "hovertemplate": "variable=normalized energy<br>date=%{x}<br>value=%{y}<extra></extra>",
         "legendgroup": "normalized energy",
         "line": {
          "color": "#636efa",
          "dash": "solid"
         },
         "marker": {
          "symbol": "circle"
         },
         "mode": "lines",
         "name": "normalized energy",
         "orientation": "v",
         "showlegend": true,
         "type": "scatter",
         "x": [
          "2022-09-22T15:15:00",
          "2022-09-22T15:30:00",
          "2022-09-22T15:45:00",
          "2022-09-22T16:00:00",
          "2022-09-22T16:15:00",
          "2022-09-22T16:30:00",
          "2022-09-22T16:45:00",
          "2022-09-22T17:00:00",
          "2022-09-22T17:15:00",
          "2022-09-22T17:30:00",
          "2022-09-22T17:45:00",
          "2022-09-22T18:00:00",
          "2022-09-22T18:15:00",
          "2022-09-22T18:30:00",
          "2022-09-22T18:45:00",
          "2022-09-22T19:00:00",
          "2022-09-22T19:15:00",
          "2022-09-22T19:30:00",
          "2022-09-22T19:45:00",
          "2022-09-22T20:00:00",
          "2022-09-22T20:15:00",
          "2022-09-22T20:30:00",
          "2022-09-22T20:45:00",
          "2022-09-22T21:00:00",
          "2022-09-22T21:15:00",
          "2022-09-22T21:30:00",
          "2022-09-22T21:45:00",
          "2022-09-22T22:00:00",
          "2022-09-22T22:15:00",
          "2022-09-22T22:30:00",
          "2022-09-22T22:45:00",
          "2022-09-22T23:00:00",
          "2022-09-22T23:15:00",
          "2022-09-22T23:30:00",
          "2022-09-22T23:45:00",
          "2022-09-23T00:00:00",
          "2022-09-23T00:15:00",
          "2022-09-23T00:30:00",
          "2022-09-23T00:45:00",
          "2022-09-23T01:00:00",
          "2022-09-23T01:15:00",
          "2022-09-23T01:30:00",
          "2022-09-23T01:45:00",
          "2022-09-23T02:00:00",
          "2022-09-23T02:15:00",
          "2022-09-23T02:30:00",
          "2022-09-23T02:45:00",
          "2022-09-23T03:00:00",
          "2022-09-23T03:15:00",
          "2022-09-23T03:30:00",
          "2022-09-23T03:45:00",
          "2022-09-23T04:00:00",
          "2022-09-23T04:15:00",
          "2022-09-23T04:30:00",
          "2022-09-23T04:45:00",
          "2022-09-23T05:00:00",
          "2022-09-23T05:15:00",
          "2022-09-23T05:30:00",
          "2022-09-23T05:45:00",
          "2022-09-23T06:00:00",
          "2022-09-23T06:15:00",
          "2022-09-23T06:30:00",
          "2022-09-23T06:45:00",
          "2022-09-23T07:00:00",
          "2022-09-23T07:15:00",
          "2022-09-23T07:30:00",
          "2022-09-23T07:45:00",
          "2022-09-23T08:00:00",
          "2022-09-23T08:15:00",
          "2022-09-23T08:30:00",
          "2022-09-23T08:45:00",
          "2022-09-23T09:00:00",
          "2022-09-23T09:15:00",
          "2022-09-23T09:30:00",
          "2022-09-23T09:45:00",
          "2022-09-23T10:00:00",
          "2022-09-23T10:15:00",
          "2022-09-23T10:30:00",
          "2022-09-23T10:45:00",
          "2022-09-23T11:00:00",
          "2022-09-23T11:15:00",
          "2022-09-23T11:30:00",
          "2022-09-23T11:45:00",
          "2022-09-23T12:00:00",
          "2022-09-23T12:15:00",
          "2022-09-23T12:30:00",
          "2022-09-23T12:45:00",
          "2022-09-23T13:00:00",
          "2022-09-23T13:15:00",
          "2022-09-23T13:30:00",
          "2022-09-23T13:45:00",
          "2022-09-23T14:00:00",
          "2022-09-23T14:15:00",
          "2022-09-23T14:30:00",
          "2022-09-23T14:45:00",
          "2022-09-23T15:00:00",
          "2022-09-23T15:15:00",
          "2022-09-23T15:30:00",
          "2022-09-23T15:45:00",
          "2022-09-23T16:00:00",
          "2022-09-23T16:15:00",
          "2022-09-23T16:30:00",
          "2022-09-23T16:45:00",
          "2022-09-23T17:00:00",
          "2022-09-23T17:15:00",
          "2022-09-23T17:30:00",
          "2022-09-23T17:45:00",
          "2022-09-23T18:00:00",
          "2022-09-23T18:15:00",
          "2022-09-23T18:30:00",
          "2022-09-23T18:45:00",
          "2022-09-23T19:00:00",
          "2022-09-23T19:15:00",
          "2022-09-23T19:30:00",
          "2022-09-23T19:45:00",
          "2022-09-23T20:00:00",
          "2022-09-23T20:15:00",
          "2022-09-23T20:30:00",
          "2022-09-23T20:45:00",
          "2022-09-23T21:00:00",
          "2022-09-23T21:15:00",
          "2022-09-23T21:30:00",
          "2022-09-23T21:45:00",
          "2022-09-23T22:00:00",
          "2022-09-23T22:15:00",
          "2022-09-23T22:30:00",
          "2022-09-23T22:45:00",
          "2022-09-23T23:00:00",
          "2022-09-23T23:15:00",
          "2022-09-23T23:30:00",
          "2022-09-23T23:45:00",
          "2022-09-24T00:00:00",
          "2022-09-24T00:15:00",
          "2022-09-24T00:30:00",
          "2022-09-24T00:45:00",
          "2022-09-24T01:00:00",
          "2022-09-24T01:15:00",
          "2022-09-24T01:30:00",
          "2022-09-24T01:45:00",
          "2022-09-24T02:00:00",
          "2022-09-24T02:15:00",
          "2022-09-24T02:30:00",
          "2022-09-24T02:45:00",
          "2022-09-24T03:00:00",
          "2022-09-24T03:15:00",
          "2022-09-24T03:30:00",
          "2022-09-24T03:45:00",
          "2022-09-24T04:00:00",
          "2022-09-24T04:15:00",
          "2022-09-24T04:30:00",
          "2022-09-24T04:45:00",
          "2022-09-24T05:00:00",
          "2022-09-24T05:15:00",
          "2022-09-24T05:30:00",
          "2022-09-24T05:45:00",
          "2022-09-24T06:00:00",
          "2022-09-24T06:15:00",
          "2022-09-24T06:30:00",
          "2022-09-24T06:45:00",
          "2022-09-24T07:00:00",
          "2022-09-24T07:15:00",
          "2022-09-24T07:30:00",
          "2022-09-24T07:45:00",
          "2022-09-24T08:00:00",
          "2022-09-24T08:15:00",
          "2022-09-24T08:30:00",
          "2022-09-24T08:45:00",
          "2022-09-24T09:00:00",
          "2022-09-24T09:15:00",
          "2022-09-24T09:30:00",
          "2022-09-24T09:45:00",
          "2022-09-24T10:00:00",
          "2022-09-24T10:15:00",
          "2022-09-24T10:30:00",
          "2022-09-24T10:45:00",
          "2022-09-24T11:00:00",
          "2022-09-24T11:15:00",
          "2022-09-24T11:30:00",
          "2022-09-24T11:45:00",
          "2022-09-24T12:00:00",
          "2022-09-24T12:15:00",
          "2022-09-24T12:30:00",
          "2022-09-24T12:45:00",
          "2022-09-24T13:00:00",
          "2022-09-24T13:15:00",
          "2022-09-24T13:30:00",
          "2022-09-24T13:45:00",
          "2022-09-24T14:00:00",
          "2022-09-24T14:15:00",
          "2022-09-24T14:30:00",
          "2022-09-24T14:45:00",
          "2022-09-24T15:00:00",
          "2022-09-24T15:15:00",
          "2022-09-24T15:30:00",
          "2022-09-24T15:45:00",
          "2022-09-24T16:00:00",
          "2022-09-24T16:15:00",
          "2022-09-24T16:30:00",
          "2022-09-24T16:45:00",
          "2022-09-24T17:00:00",
          "2022-09-24T17:15:00",
          "2022-09-24T17:30:00",
          "2022-09-24T17:45:00",
          "2022-09-24T18:00:00",
          "2022-09-24T18:15:00",
          "2022-09-24T18:30:00",
          "2022-09-24T18:45:00",
          "2022-09-24T19:00:00",
          "2022-09-24T19:15:00",
          "2022-09-24T19:30:00",
          "2022-09-24T19:45:00",
          "2022-09-24T20:00:00",
          "2022-09-24T20:15:00",
          "2022-09-24T20:30:00",
          "2022-09-24T20:45:00",
          "2022-09-24T21:00:00",
          "2022-09-24T21:15:00",
          "2022-09-24T21:30:00",
          "2022-09-24T21:45:00",
          "2022-09-24T22:00:00",
          "2022-09-24T22:15:00",
          "2022-09-24T22:30:00",
          "2022-09-24T22:45:00",
          "2022-09-24T23:00:00",
          "2022-09-24T23:15:00",
          "2022-09-24T23:30:00",
          "2022-09-24T23:45:00",
          "2022-09-25T00:00:00",
          "2022-09-25T00:15:00",
          "2022-09-25T00:30:00",
          "2022-09-25T00:45:00",
          "2022-09-25T01:00:00",
          "2022-09-25T01:15:00",
          "2022-09-25T01:30:00",
          "2022-09-25T01:45:00",
          "2022-09-25T02:00:00",
          "2022-09-25T02:15:00",
          "2022-09-25T02:30:00",
          "2022-09-25T02:45:00",
          "2022-09-25T03:00:00",
          "2022-09-25T03:15:00",
          "2022-09-25T03:30:00",
          "2022-09-25T03:45:00",
          "2022-09-25T04:00:00",
          "2022-09-25T04:15:00",
          "2022-09-25T04:30:00",
          "2022-09-25T04:45:00",
          "2022-09-25T05:00:00",
          "2022-09-25T05:15:00",
          "2022-09-25T05:30:00",
          "2022-09-25T05:45:00",
          "2022-09-25T06:00:00",
          "2022-09-25T06:15:00",
          "2022-09-25T06:30:00",
          "2022-09-25T06:45:00",
          "2022-09-25T07:00:00",
          "2022-09-25T07:15:00",
          "2022-09-25T07:30:00",
          "2022-09-25T07:45:00",
          "2022-09-25T08:00:00",
          "2022-09-25T08:15:00",
          "2022-09-25T08:30:00",
          "2022-09-25T08:45:00",
          "2022-09-25T09:00:00",
          "2022-09-25T09:15:00",
          "2022-09-25T09:30:00",
          "2022-09-25T09:45:00",
          "2022-09-25T10:00:00",
          "2022-09-25T10:15:00",
          "2022-09-25T10:30:00",
          "2022-09-25T10:45:00",
          "2022-09-25T11:00:00",
          "2022-09-25T11:15:00",
          "2022-09-25T11:30:00",
          "2022-09-25T11:45:00",
          "2022-09-25T12:00:00",
          "2022-09-25T12:15:00",
          "2022-09-25T12:30:00",
          "2022-09-25T12:45:00",
          "2022-09-25T13:00:00",
          "2022-09-25T13:15:00",
          "2022-09-25T13:30:00",
          "2022-09-25T13:45:00",
          "2022-09-25T14:00:00",
          "2022-09-25T14:15:00",
          "2022-09-25T14:30:00",
          "2022-09-25T14:45:00",
          "2022-09-25T15:00:00",
          "2022-09-25T15:15:00",
          "2022-09-25T15:30:00",
          "2022-09-25T15:45:00",
          "2022-09-25T16:00:00",
          "2022-09-25T16:15:00",
          "2022-09-25T16:30:00",
          "2022-09-25T16:45:00",
          "2022-09-25T17:00:00",
          "2022-09-25T17:15:00",
          "2022-09-25T17:30:00",
          "2022-09-25T17:45:00",
          "2022-09-25T18:00:00",
          "2022-09-25T18:15:00",
          "2022-09-25T18:30:00",
          "2022-09-25T18:45:00",
          "2022-09-25T19:00:00",
          "2022-09-25T19:15:00",
          "2022-09-25T19:30:00",
          "2022-09-25T19:45:00",
          "2022-09-25T20:00:00",
          "2022-09-25T20:15:00",
          "2022-09-25T20:30:00",
          "2022-09-25T20:45:00",
          "2022-09-25T21:00:00",
          "2022-09-25T21:15:00",
          "2022-09-25T21:30:00",
          "2022-09-25T21:45:00",
          "2022-09-25T22:00:00",
          "2022-09-25T22:15:00",
          "2022-09-25T22:30:00",
          "2022-09-25T22:45:00",
          "2022-09-25T23:00:00",
          "2022-09-25T23:15:00",
          "2022-09-25T23:30:00",
          "2022-09-25T23:45:00",
          "2022-09-26T00:00:00",
          "2022-09-26T00:15:00",
          "2022-09-26T00:30:00",
          "2022-09-26T00:45:00",
          "2022-09-26T01:00:00",
          "2022-09-26T01:15:00",
          "2022-09-26T01:30:00",
          "2022-09-26T01:45:00",
          "2022-09-26T02:00:00",
          "2022-09-26T02:15:00",
          "2022-09-26T02:30:00",
          "2022-09-26T02:45:00",
          "2022-09-26T03:00:00",
          "2022-09-26T03:15:00",
          "2022-09-26T03:30:00",
          "2022-09-26T03:45:00",
          "2022-09-26T04:00:00",
          "2022-09-26T04:15:00",
          "2022-09-26T04:30:00",
          "2022-09-26T04:45:00",
          "2022-09-26T05:00:00",
          "2022-09-26T05:15:00",
          "2022-09-26T05:30:00",
          "2022-09-26T05:45:00",
          "2022-09-26T06:00:00",
          "2022-09-26T06:15:00",
          "2022-09-26T06:30:00",
          "2022-09-26T06:45:00",
          "2022-09-26T07:00:00",
          "2022-09-26T07:15:00",
          "2022-09-26T07:30:00",
          "2022-09-26T07:45:00",
          "2022-09-26T08:00:00",
          "2022-09-26T08:15:00",
          "2022-09-26T08:30:00",
          "2022-09-26T08:45:00",
          "2022-09-26T09:00:00",
          "2022-09-26T09:15:00",
          "2022-09-26T09:30:00",
          "2022-09-26T09:45:00",
          "2022-09-26T10:00:00",
          "2022-09-26T10:15:00",
          "2022-09-26T10:30:00",
          "2022-09-26T10:45:00",
          "2022-09-26T11:00:00",
          "2022-09-26T11:15:00",
          "2022-09-26T11:30:00",
          "2022-09-26T11:45:00",
          "2022-09-26T12:00:00",
          "2022-09-26T12:15:00",
          "2022-09-26T12:30:00",
          "2022-09-26T12:45:00",
          "2022-09-26T13:00:00"
         ],
         "xaxis": "x",
         "y": [
          0.8421116257678788,
          1,
          0.9513590223711438,
          0.9350021352780787,
          0.9088255970566017,
          0.9261837653165136,
          0.9265911106731054,
          0.92708912322197,
          0.904095134851023,
          0.9438034230150132,
          0.9143549817680098,
          0.9272993659866625,
          0.9333924641109038,
          0.9531657961302177,
          0.9494904897999428,
          0.9468269767747441,
          0.950004270556158,
          0.933743306724483,
          0.9334791892513374,
          0.9202522913176319,
          0.8112519299628792,
          0.7465917676817451,
          0.7053552774218973,
          0.6725902565618739,
          0.6496514569166583,
          0.6417450149469464,
          0.6751249958936968,
          0.6711882001248284,
          0.6476791169803913,
          0.6577037548043759,
          0.6815925889425415,
          0.7132472652015402,
          0.7182418448802574,
          0.7435879241812057,
          0.6131414868105494,
          0.5889123221970384,
          0.7445379586741555,
          0.6623829703360619,
          0.6133201931605395,
          0.6226759961893499,
          0.6216655169015449,
          0.5933431884629282,
          0.6458316086856534,
          0.6445793502184558,
          0.6552820209585793,
          0.6607693571170419,
          0.6482244341513125,
          0.6086160113005488,
          0.6086580598534838,
          0.5932577773397728,
          0.6155789888637048,
          0.6021326500443454,
          0.6792878026346084,
          0.6342866528694836,
          0.617310863637855,
          0.6265668013534367,
          0.65301665516902,
          0.652247955060603,
          0.6526382181925768,
          0.6220478959298301,
          0.6486304654906171,
          0.6861233205216648,
          0.6662658913964692,
          0.6663683847442593,
          0.6941020334417438,
          0.6525777733977217,
          0.6194369435958073,
          0.606137774711739,
          0.6401813343845408,
          0.6505712690121945,
          0.7129384711408937,
          0.6448592358989554,
          0.7429874182845427,
          0.75131171774909,
          0.8983896718241874,
          0.9040635984363194,
          0.892358332512075,
          0.8787911041030192,
          0.9224742945369685,
          0.7174954830656073,
          0.6331894484412472,
          0.6774810288755295,
          0.7012489734239987,
          0.6684405899937551,
          0.6761381032160585,
          0.8051351795276068,
          0.9116454781380445,
          0.9060044019578781,
          0.9133563286357227,
          0.9359337735291208,
          0.9133458164974866,
          0.8739476364114259,
          0.902882296902199,
          0.9056062547222481,
          0.8524608258598608,
          0.9093275516573095,
          0.9069938569692155,
          0.9361794947603601,
          0.6704865148976653,
          0.5984993922670147,
          0.6257468545711339,
          0.5952156630859663,
          0.670380079498047,
          0.7215965309943878,
          0.7561354751814964,
          0.7110186918957979,
          0.6595381229263164,
          0.6287704083308695,
          0.6329305870372197,
          0.6802273249893175,
          0.6738766794783412,
          0.6534805032686184,
          0.6690148155448278,
          0.5925376958706989,
          0.6447909070004255,
          0.6345231759797676,
          0.6791261785092391,
          0.7374435793830624,
          0.6904963700272702,
          0.6997115732071928,
          0.7204599060477638,
          0.6289215203179841,
          0.7019651128412446,
          0.6066147629841255,
          0.6113544233106619,
          0.6555421963798874,
          0.637607174534349,
          0.6122295588187066,
          0.6530560756873843,
          0.674341841595225,
          0.6513465392069822,
          0.6062034755757075,
          0.6638007949804475,
          0.6613882592556063,
          0.6186432771590994,
          0.6744771853749901,
          0.5811767024736373,
          0.5782884924936855,
          0.5997713609933946,
          0.607196872638873,
          0.5985703492000967,
          0.6205656844387378,
          0.6079327223153058,
          0.6082152360303574,
          0.6420012483164171,
          0.5844236391708547,
          0.6166525409809029,
          0.59476364114188,
          0.628917578266156,
          0.6064071482539932,
          0.686832889852512,
          0.6189954337899476,
          0.6162412535724849,
          0.6027830885976273,
          0.6389251338655105,
          0.6723497913997526,
          0.7040859367300648,
          0.6365901251601406,
          0.7231326171939271,
          0.6475595414079617,
          0.6190479944811373,
          0.6632081731874733,
          0.6256772116553373,
          0.6546434085608187,
          0.719236555960699,
          0.7243835616438441,
          0.6787713938438202,
          0.6213803751519366,
          0.6501376433100096,
          0.665033343188463,
          0.6305298774678907,
          0.6377438323313901,
          0.6492743339575051,
          0.6545606254722247,
          0.681494037646584,
          0.7100252948326231,
          0.712684865805989,
          0.730794651949685,
          0.6432587628527329,
          0.6311408955027663,
          0.6693577740547346,
          0.618606484675259,
          0.5961854078381263,
          0.603311323543909,
          0.6297230708583667,
          0.6624946618048074,
          0.6557392989717744,
          0.7691061397457499,
          0.7459045366446507,
          0.6780092638218299,
          0.7684346769159911,
          0.6156670280214122,
          0.6385112184225218,
          0.6801695082290424,
          0.7179540750960831,
          0.6483440097237374,
          0.7250852468709885,
          0.7236096054663137,
          0.6796675536283369,
          0.684124700239803,
          0.7091186229098982,
          0.6737571039059068,
          0.7139187280312805,
          0.7028783548503682,
          0.706855885154877,
          0.6777136099339808,
          0.6611609342662778,
          0.6855806313853003,
          0.6985591800532193,
          0.6159547978055866,
          0.6451588318386419,
          0.6765927531947062,
          0.700385664071485,
          0.6963857954732093,
          0.6303853355671561,
          0.6500167537203179,
          0.6585920304851992,
          0.6763417758943535,
          0.7006655497519846,
          0.7447744817844254,
          0.627991196084235,
          0.6280358726717314,
          0.6060418514503475,
          0.6596629545678547,
          0.5953404947275047,
          0.6192989717814714,
          0.6441667487927524,
          0.6470786110837283,
          0.5927426825662793,
          0.6110653395092116,
          0.6547248776321367,
          0.6035951512762366,
          0.5893577740547447,
          0.6466042508458938,
          0.7017890345257926,
          0.6131493709142287,
          0.6237955389113485,
          0.6431102789001704,
          0.6430130416214842,
          0.6531782792943707,
          0.6505660129430905,
          0.6338030945106843,
          0.666413061331765,
          0.6486974803718617,
          0.6313892447685671,
          0.6106317138070454,
          0.6382983476232666,
          0.5999632075161587,
          0.6402089287474024,
          0.6494727505666867,
          0.610749975362185,
          0.6157064485398045,
          0.5972983804736888,
          0.5832528497749797,
          0.6212621135967783,
          0.6356532308400116,
          0.6028684997207734,
          0.5999172169113863,
          0.6043218028317,
          0.6457304293551626,
          0.595905522157608,
          0.6055688052297703,
          0.6302657599947779,
          0.6376873295883536,
          0.6025833579711697,
          0.6537525048454433,
          0.6997956703130441,
          0.6086304654906408,
          0.6667468217206931,
          0.6892296573699851,
          0.6846371669787539,
          0.6344850694786885,
          0.5995979107124945,
          0.6389343319864986,
          0.6435215663085884,
          0.631227620643207,
          0.6731671101474846,
          0.7094247889359928,
          0.6775099372556764,
          0.6937354226208129,
          0.6749002989389109,
          0.7381426365756735,
          0.7382477579580157,
          0.7116809566045781,
          0.789047665976797,
          0.7167123287671542,
          0.6521231234190459,
          0.6349318353536523,
          0.6795414079695039,
          0.7008731644821357,
          0.7506823034722662,
          0.6838592687493767,
          0.7247146939982575,
          0.7284044545185545,
          0.7553851713150183,
          0.6176472520613632,
          0.6529838047370357,
          0.8162504516934291,
          0.7889412305771787,
          0.800872507473485,
          0.6444045859203077,
          0.6803797509937268,
          0.7822870470746599,
          0.947130514766261,
          0.8912834663775915,
          0.7304043888177204,
          0.6665484051115301,
          0.7255359547977802,
          0.6545382871784765,
          0.6821694425281709,
          0.7400413915442877,
          0.9283781741730092,
          0.9049689563417775,
          0.7930107420912509,
          0.7278459971748686,
          0.8992188167274315,
          0.9010768371604148,
          0.733514667717878,
          0.7210223054433337,
          0.7268617982326352,
          0.6654827370979973,
          0.677177490883987,
          0.7217712952925266,
          0.6682921060412018,
          0.6615827338129412,
          0.7524706809894716,
          0.7981564337571013,
          0.6219782530140335,
          0.669887323018311,
          0.6807345356591457,
          0.6479511185571836,
          0.6335823396077919,
          0.7173220327847165,
          0.7050346572057526,
          0.805559607108813,
          0.6676350974015538,
          0.6725482080089156,
          0.7029466837489075,
          0.623041292992977,
          0.5882881639893839,
          0.5970132387240851,
          0.5950448408396556,
          0.6056883808021859,
          0.5700863966361246,
          0.5845694950888652,
          0.615367432081735,
          0.60812456883807,
          0.6966604250846049,
          0.7254873361584558,
          0.6261371177030984,
          0.724930192832046,
          0.7565152261752248,
          0.711226306625921,
          0.652533096810244,
          0.6700673433855351,
          0.6724207483328438,
          0.6626234354981925,
          0.6598784534016618,
          0.7314424624683823,
          0.683126047107496,
          0.6415518544069202,
          0.6551900397490206,
          0.7805394040931601,
          0.765098387043781,
          0.7888729016786395,
          0.7705804671331488,
          0.7077914654577674,
          0.7789494431851924,
          0.7405512302486866,
          0.7798548010906412,
          0.6618205709404965,
          0.6516132847146844,
          0.7319864656220321,
          0.7219552577116161,
          0.6974462074176381,
          0.34089944482770124
         ],
         "yaxis": "y"
        },
        {
         "hovertemplate": "variable=normalized requests<br>date=%{x}<br>value=%{y}<extra></extra>",
         "legendgroup": "normalized requests",
         "line": {
          "color": "#EF553B",
          "dash": "solid"
         },
         "marker": {
          "symbol": "circle"
         },
         "mode": "lines",
         "name": "normalized requests",
         "orientation": "v",
         "showlegend": true,
         "type": "scatter",
         "x": [
          "2022-09-22T15:15:00",
          "2022-09-22T15:30:00",
          "2022-09-22T15:45:00",
          "2022-09-22T16:00:00",
          "2022-09-22T16:15:00",
          "2022-09-22T16:30:00",
          "2022-09-22T16:45:00",
          "2022-09-22T17:00:00",
          "2022-09-22T17:15:00",
          "2022-09-22T17:30:00",
          "2022-09-22T17:45:00",
          "2022-09-22T18:00:00",
          "2022-09-22T18:15:00",
          "2022-09-22T18:30:00",
          "2022-09-22T18:45:00",
          "2022-09-22T19:00:00",
          "2022-09-22T19:15:00",
          "2022-09-22T19:30:00",
          "2022-09-22T19:45:00",
          "2022-09-22T20:00:00",
          "2022-09-22T20:15:00",
          "2022-09-22T20:30:00",
          "2022-09-22T20:45:00",
          "2022-09-22T21:00:00",
          "2022-09-22T21:15:00",
          "2022-09-22T21:30:00",
          "2022-09-22T21:45:00",
          "2022-09-22T22:00:00",
          "2022-09-22T22:15:00",
          "2022-09-22T22:30:00",
          "2022-09-22T22:45:00",
          "2022-09-22T23:00:00",
          "2022-09-22T23:15:00",
          "2022-09-22T23:30:00",
          "2022-09-22T23:45:00",
          "2022-09-23T00:00:00",
          "2022-09-23T00:15:00",
          "2022-09-23T00:30:00",
          "2022-09-23T00:45:00",
          "2022-09-23T01:00:00",
          "2022-09-23T01:15:00",
          "2022-09-23T01:30:00",
          "2022-09-23T01:45:00",
          "2022-09-23T02:00:00",
          "2022-09-23T02:15:00",
          "2022-09-23T02:30:00",
          "2022-09-23T02:45:00",
          "2022-09-23T03:00:00",
          "2022-09-23T03:15:00",
          "2022-09-23T03:30:00",
          "2022-09-23T03:45:00",
          "2022-09-23T04:00:00",
          "2022-09-23T04:15:00",
          "2022-09-23T04:30:00",
          "2022-09-23T04:45:00",
          "2022-09-23T05:00:00",
          "2022-09-23T05:15:00",
          "2022-09-23T05:30:00",
          "2022-09-23T05:45:00",
          "2022-09-23T06:00:00",
          "2022-09-23T06:15:00",
          "2022-09-23T06:30:00",
          "2022-09-23T06:45:00",
          "2022-09-23T07:00:00",
          "2022-09-23T07:15:00",
          "2022-09-23T07:30:00",
          "2022-09-23T07:45:00",
          "2022-09-23T08:00:00",
          "2022-09-23T08:15:00",
          "2022-09-23T08:30:00",
          "2022-09-23T08:45:00",
          "2022-09-23T09:00:00",
          "2022-09-23T09:15:00",
          "2022-09-23T09:30:00",
          "2022-09-23T09:45:00",
          "2022-09-23T10:00:00",
          "2022-09-23T10:15:00",
          "2022-09-23T10:30:00",
          "2022-09-23T10:45:00",
          "2022-09-23T11:00:00",
          "2022-09-23T11:15:00",
          "2022-09-23T11:30:00",
          "2022-09-23T11:45:00",
          "2022-09-23T12:00:00",
          "2022-09-23T12:15:00",
          "2022-09-23T12:30:00",
          "2022-09-23T12:45:00",
          "2022-09-23T13:00:00",
          "2022-09-23T13:15:00",
          "2022-09-23T13:30:00",
          "2022-09-23T13:45:00",
          "2022-09-23T14:00:00",
          "2022-09-23T14:15:00",
          "2022-09-23T14:30:00",
          "2022-09-23T14:45:00",
          "2022-09-23T15:00:00",
          "2022-09-23T15:15:00",
          "2022-09-23T15:30:00",
          "2022-09-23T15:45:00",
          "2022-09-23T16:00:00",
          "2022-09-23T16:15:00",
          "2022-09-23T16:30:00",
          "2022-09-23T16:45:00",
          "2022-09-23T17:00:00",
          "2022-09-23T17:15:00",
          "2022-09-23T17:30:00",
          "2022-09-23T17:45:00",
          "2022-09-23T18:00:00",
          "2022-09-23T18:15:00",
          "2022-09-23T18:30:00",
          "2022-09-23T18:45:00",
          "2022-09-23T19:00:00",
          "2022-09-23T19:15:00",
          "2022-09-23T19:30:00",
          "2022-09-23T19:45:00",
          "2022-09-23T20:00:00",
          "2022-09-23T20:15:00",
          "2022-09-23T20:30:00",
          "2022-09-23T20:45:00",
          "2022-09-23T21:00:00",
          "2022-09-23T21:15:00",
          "2022-09-23T21:30:00",
          "2022-09-23T21:45:00",
          "2022-09-23T22:00:00",
          "2022-09-23T22:15:00",
          "2022-09-23T22:30:00",
          "2022-09-23T22:45:00",
          "2022-09-23T23:00:00",
          "2022-09-23T23:15:00",
          "2022-09-23T23:30:00",
          "2022-09-23T23:45:00",
          "2022-09-24T00:00:00",
          "2022-09-24T00:15:00",
          "2022-09-24T00:30:00",
          "2022-09-24T00:45:00",
          "2022-09-24T01:00:00",
          "2022-09-24T01:15:00",
          "2022-09-24T01:30:00",
          "2022-09-24T01:45:00",
          "2022-09-24T02:00:00",
          "2022-09-24T02:15:00",
          "2022-09-24T02:30:00",
          "2022-09-24T02:45:00",
          "2022-09-24T03:00:00",
          "2022-09-24T03:15:00",
          "2022-09-24T03:30:00",
          "2022-09-24T03:45:00",
          "2022-09-24T04:00:00",
          "2022-09-24T04:15:00",
          "2022-09-24T04:30:00",
          "2022-09-24T04:45:00",
          "2022-09-24T05:00:00",
          "2022-09-24T05:15:00",
          "2022-09-24T05:30:00",
          "2022-09-24T05:45:00",
          "2022-09-24T06:00:00",
          "2022-09-24T06:15:00",
          "2022-09-24T06:30:00",
          "2022-09-24T06:45:00",
          "2022-09-24T07:00:00",
          "2022-09-24T07:15:00",
          "2022-09-24T07:30:00",
          "2022-09-24T07:45:00",
          "2022-09-24T08:00:00",
          "2022-09-24T08:15:00",
          "2022-09-24T08:30:00",
          "2022-09-24T08:45:00",
          "2022-09-24T09:00:00",
          "2022-09-24T09:15:00",
          "2022-09-24T09:30:00",
          "2022-09-24T09:45:00",
          "2022-09-24T10:00:00",
          "2022-09-24T10:15:00",
          "2022-09-24T10:30:00",
          "2022-09-24T10:45:00",
          "2022-09-24T11:00:00",
          "2022-09-24T11:15:00",
          "2022-09-24T11:30:00",
          "2022-09-24T11:45:00",
          "2022-09-24T12:00:00",
          "2022-09-24T12:15:00",
          "2022-09-24T12:30:00",
          "2022-09-24T12:45:00",
          "2022-09-24T13:00:00",
          "2022-09-24T13:15:00",
          "2022-09-24T13:30:00",
          "2022-09-24T13:45:00",
          "2022-09-24T14:00:00",
          "2022-09-24T14:15:00",
          "2022-09-24T14:30:00",
          "2022-09-24T14:45:00",
          "2022-09-24T15:00:00",
          "2022-09-24T15:15:00",
          "2022-09-24T15:30:00",
          "2022-09-24T15:45:00",
          "2022-09-24T16:00:00",
          "2022-09-24T16:15:00",
          "2022-09-24T16:30:00",
          "2022-09-24T16:45:00",
          "2022-09-24T17:00:00",
          "2022-09-24T17:15:00",
          "2022-09-24T17:30:00",
          "2022-09-24T17:45:00",
          "2022-09-24T18:00:00",
          "2022-09-24T18:15:00",
          "2022-09-24T18:30:00",
          "2022-09-24T18:45:00",
          "2022-09-24T19:00:00",
          "2022-09-24T19:15:00",
          "2022-09-24T19:30:00",
          "2022-09-24T19:45:00",
          "2022-09-24T20:00:00",
          "2022-09-24T20:15:00",
          "2022-09-24T20:30:00",
          "2022-09-24T20:45:00",
          "2022-09-24T21:00:00",
          "2022-09-24T21:15:00",
          "2022-09-24T21:30:00",
          "2022-09-24T21:45:00",
          "2022-09-24T22:00:00",
          "2022-09-24T22:15:00",
          "2022-09-24T22:30:00",
          "2022-09-24T22:45:00",
          "2022-09-24T23:00:00",
          "2022-09-24T23:15:00",
          "2022-09-24T23:30:00",
          "2022-09-24T23:45:00",
          "2022-09-25T00:00:00",
          "2022-09-25T00:15:00",
          "2022-09-25T00:30:00",
          "2022-09-25T00:45:00",
          "2022-09-25T01:00:00",
          "2022-09-25T01:15:00",
          "2022-09-25T01:30:00",
          "2022-09-25T01:45:00",
          "2022-09-25T02:00:00",
          "2022-09-25T02:15:00",
          "2022-09-25T02:30:00",
          "2022-09-25T02:45:00",
          "2022-09-25T03:00:00",
          "2022-09-25T03:15:00",
          "2022-09-25T03:30:00",
          "2022-09-25T03:45:00",
          "2022-09-25T04:00:00",
          "2022-09-25T04:15:00",
          "2022-09-25T04:30:00",
          "2022-09-25T04:45:00",
          "2022-09-25T05:00:00",
          "2022-09-25T05:15:00",
          "2022-09-25T05:30:00",
          "2022-09-25T05:45:00",
          "2022-09-25T06:00:00",
          "2022-09-25T06:15:00",
          "2022-09-25T06:30:00",
          "2022-09-25T06:45:00",
          "2022-09-25T07:00:00",
          "2022-09-25T07:15:00",
          "2022-09-25T07:30:00",
          "2022-09-25T07:45:00",
          "2022-09-25T08:00:00",
          "2022-09-25T08:15:00",
          "2022-09-25T08:30:00",
          "2022-09-25T08:45:00",
          "2022-09-25T09:00:00",
          "2022-09-25T09:15:00",
          "2022-09-25T09:30:00",
          "2022-09-25T09:45:00",
          "2022-09-25T10:00:00",
          "2022-09-25T10:15:00",
          "2022-09-25T10:30:00",
          "2022-09-25T10:45:00",
          "2022-09-25T11:00:00",
          "2022-09-25T11:15:00",
          "2022-09-25T11:30:00",
          "2022-09-25T11:45:00",
          "2022-09-25T12:00:00",
          "2022-09-25T12:15:00",
          "2022-09-25T12:30:00",
          "2022-09-25T12:45:00",
          "2022-09-25T13:00:00",
          "2022-09-25T13:15:00",
          "2022-09-25T13:30:00",
          "2022-09-25T13:45:00",
          "2022-09-25T14:00:00",
          "2022-09-25T14:15:00",
          "2022-09-25T14:30:00",
          "2022-09-25T14:45:00",
          "2022-09-25T15:00:00",
          "2022-09-25T15:15:00",
          "2022-09-25T15:30:00",
          "2022-09-25T15:45:00",
          "2022-09-25T16:00:00",
          "2022-09-25T16:15:00",
          "2022-09-25T16:30:00",
          "2022-09-25T16:45:00",
          "2022-09-25T17:00:00",
          "2022-09-25T17:15:00",
          "2022-09-25T17:30:00",
          "2022-09-25T17:45:00",
          "2022-09-25T18:00:00",
          "2022-09-25T18:15:00",
          "2022-09-25T18:30:00",
          "2022-09-25T18:45:00",
          "2022-09-25T19:00:00",
          "2022-09-25T19:15:00",
          "2022-09-25T19:30:00",
          "2022-09-25T19:45:00",
          "2022-09-25T20:00:00",
          "2022-09-25T20:15:00",
          "2022-09-25T20:30:00",
          "2022-09-25T20:45:00",
          "2022-09-25T21:00:00",
          "2022-09-25T21:15:00",
          "2022-09-25T21:30:00",
          "2022-09-25T21:45:00",
          "2022-09-25T22:00:00",
          "2022-09-25T22:15:00",
          "2022-09-25T22:30:00",
          "2022-09-25T22:45:00",
          "2022-09-25T23:00:00",
          "2022-09-25T23:15:00",
          "2022-09-25T23:30:00",
          "2022-09-25T23:45:00",
          "2022-09-26T00:00:00",
          "2022-09-26T00:15:00",
          "2022-09-26T00:30:00",
          "2022-09-26T00:45:00",
          "2022-09-26T01:00:00",
          "2022-09-26T01:15:00",
          "2022-09-26T01:30:00",
          "2022-09-26T01:45:00",
          "2022-09-26T02:00:00",
          "2022-09-26T02:15:00",
          "2022-09-26T02:30:00",
          "2022-09-26T02:45:00",
          "2022-09-26T03:00:00",
          "2022-09-26T03:15:00",
          "2022-09-26T03:30:00",
          "2022-09-26T03:45:00",
          "2022-09-26T04:00:00",
          "2022-09-26T04:15:00",
          "2022-09-26T04:30:00",
          "2022-09-26T04:45:00",
          "2022-09-26T05:00:00",
          "2022-09-26T05:15:00",
          "2022-09-26T05:30:00",
          "2022-09-26T05:45:00",
          "2022-09-26T06:00:00",
          "2022-09-26T06:15:00",
          "2022-09-26T06:30:00",
          "2022-09-26T06:45:00",
          "2022-09-26T07:00:00",
          "2022-09-26T07:15:00",
          "2022-09-26T07:30:00",
          "2022-09-26T07:45:00",
          "2022-09-26T08:00:00",
          "2022-09-26T08:15:00",
          "2022-09-26T08:30:00",
          "2022-09-26T08:45:00",
          "2022-09-26T09:00:00",
          "2022-09-26T09:15:00",
          "2022-09-26T09:30:00",
          "2022-09-26T09:45:00",
          "2022-09-26T10:00:00",
          "2022-09-26T10:15:00",
          "2022-09-26T10:30:00",
          "2022-09-26T10:45:00",
          "2022-09-26T11:00:00",
          "2022-09-26T11:15:00",
          "2022-09-26T11:30:00",
          "2022-09-26T11:45:00",
          "2022-09-26T12:00:00",
          "2022-09-26T12:15:00",
          "2022-09-26T12:30:00",
          "2022-09-26T12:45:00",
          "2022-09-26T13:00:00"
         ],
         "xaxis": "x",
         "y": [
          0.4593437945791726,
          0.44935805991440797,
          1,
          0.8145506419400856,
          0.5064194008559201,
          0.5007132667617689,
          0.47360912981455067,
          0.44079885877318115,
          0.47360912981455067,
          0.6105563480741797,
          0.5092724679029957,
          0.5064194008559201,
          0.572039942938659,
          0.572039942938659,
          0.5520684736091298,
          0.5977175463623395,
          0.5634807417974322,
          0.5834522111269614,
          0.5092724679029957,
          0.4479315263908702,
          0.4037089871611983,
          0.3152639087018545,
          0.268188302425107,
          0.16833095577746077,
          0.1768901569186876,
          0.06990014265335236,
          0.1840228245363766,
          0.17118402282453637,
          0.08559201141226819,
          0.1840228245363766,
          0.19828815977175462,
          0.21540656205420827,
          0.2796005706134094,
          0.2767475035663338,
          0.09557774607703282,
          0.029957203994293864,
          0.33666191155492153,
          0.19828815977175462,
          0.07132667617689016,
          0.0912981455064194,
          0.09415121255349501,
          0.037089871611982884,
          0.10841654778887304,
          0.14407988587731813,
          0.16262482168330955,
          0.16975748930099857,
          0.09557774607703282,
          0.07132667617689016,
          0.05135520684736091,
          0.05135520684736091,
          0.07703281027104136,
          0.07132667617689016,
          0.17261055634807418,
          0.16547788873038516,
          0.09272467902995721,
          0.11840228245363767,
          0.15263908701854492,
          0.14978601997146934,
          0.09843081312410841,
          0.08273894436519258,
          0.15406562054208273,
          0.19971469329529243,
          0.14550641940085593,
          0.19828815977175462,
          0.2225392296718973,
          0.16690442225392296,
          0.08273894436519258,
          0.042796005706134094,
          0.09985734664764621,
          0.12838801711840228,
          0.18544935805991442,
          0.09700427960057062,
          0.19258202567760344,
          0.24536376604850213,
          0.4536376604850214,
          0.44365192582025675,
          0.4222539229671897,
          0.38088445078459343,
          0.4108416547788873,
          0.19971469329529243,
          0.09700427960057062,
          0.15406562054208273,
          0.2553495007132668,
          0.23252496433666192,
          0.21825962910128388,
          0.35805991440798857,
          0.5649072753209701,
          0.5691868758915835,
          0.5592011412268189,
          0.5449358059914408,
          0.557774607703281,
          0.42653352353780316,
          0.4450784593437946,
          0.4893009985734665,
          0.34522111269614836,
          0.4136947218259629,
          0.4579172610556348,
          0.5420827389443652,
          0.15977175463623394,
          0.08416547788873038,
          0.07275320970042796,
          0.06276747503566334,
          0.16975748930099857,
          0.33951497860199714,
          0.38088445078459343,
          0.3680456490727532,
          0.1768901569186876,
          0.14265335235378032,
          0.07132667617689016,
          0.15121255349500715,
          0.08273894436519258,
          0.11697574893009986,
          0.14978601997146934,
          0.024251069900142655,
          0.07560627674750357,
          0.1383737517831669,
          0.21540656205420827,
          0.2710413694721826,
          0.1783166904422254,
          0.19400855920114124,
          0.25677603423680456,
          0.14122681883024252,
          0.26961483594864477,
          0.05563480741797432,
          0.05848787446504993,
          0.14122681883024252,
          0.06276747503566334,
          0.15691868758915833,
          0.14835948644793154,
          0.14265335235378032,
          0.1825962910128388,
          0.09700427960057062,
          0.17261055634807418,
          0.19686162624821682,
          0.11269614835948645,
          0.1768901569186876,
          0.011412268188302425,
          0.011412268188302425,
          0.029957203994293864,
          0.09843081312410841,
          0.09415121255349501,
          0.0898716119828816,
          0.05135520684736091,
          0.029957203994293864,
          0.06990014265335236,
          0.042796005706134094,
          0.05848787446504993,
          0.06276747503566334,
          0.08273894436519258,
          0.0912981455064194,
          0.16547788873038516,
          0.07417974322396577,
          0.09415121255349501,
          0.047075606276747506,
          0.11982881597717546,
          0.19828815977175462,
          0.20684736091298145,
          0.09415121255349501,
          0.19115549215406563,
          0.12981455064194009,
          0.08701854493580599,
          0.1383737517831669,
          0.09272467902995721,
          0.17403708987161198,
          0.2396576319543509,
          0.2553495007132668,
          0.17261055634807418,
          0.09843081312410841,
          0.11982881597717546,
          0.1840228245363766,
          0.10128388017118402,
          0.1398002853067047,
          0.11126961483594865,
          0.1754636233951498,
          0.15977175463623394,
          0.11554921540656206,
          0.2296718972895863,
          0.2995720399429387,
          0.15263908701854492,
          0.08416547788873038,
          0.1312410841654779,
          0.052781740370898715,
          0.037089871611982884,
          0.037089871611982884,
          0.08416547788873038,
          0.06134094151212553,
          0.12268188302425106,
          0.26390870185449355,
          0.25962910128388017,
          0.24821683309557774,
          0.33523537803138376,
          0.12268188302425106,
          0.14835948644793154,
          0.20970042796005706,
          0.14978601997146934,
          0.10699001426533523,
          0.2239657631954351,
          0.20542082738944364,
          0.1369472182596291,
          0.20399429386590584,
          0.2810271041369472,
          0.14550641940085593,
          0.2253922967189729,
          0.24536376604850213,
          0.20256776034236804,
          0.09415121255349501,
          0.16833095577746077,
          0.10413694721825963,
          0.16119828815977175,
          0.05135520684736091,
          0.09985734664764621,
          0.16690442225392296,
          0.24821683309557774,
          0.24251069900142652,
          0.2724679029957204,
          0.14835948644793154,
          0.11412268188302425,
          0.1797432239657632,
          0.2867332382310984,
          0.340941512125535,
          0.10413694721825963,
          0.11269614835948645,
          0.034236804564907276,
          0.15977175463623394,
          0.02710413694721826,
          0.06562054208273894,
          0.08273894436519258,
          0.10556348074179743,
          0.02710413694721826,
          0.05991440798858773,
          0.12268188302425106,
          0.05848787446504993,
          0.03566333808844508,
          0.16690442225392296,
          0.181169757489301,
          0.12838801711840228,
          0.08273894436519258,
          0.11412268188302425,
          0.18830242510699002,
          0.09272467902995721,
          0.06990014265335236,
          0.10271041369472182,
          0.16547788873038516,
          0.15977175463623394,
          0.0898716119828816,
          0.06134094151212553,
          0.15263908701854492,
          0.09843081312410841,
          0.1312410841654779,
          0.09415121255349501,
          0.04992867332382311,
          0.12410841654778887,
          0.028530670470756064,
          0.028530670470756064,
          0.10556348074179743,
          0.11697574893009986,
          0.0884450784593438,
          0.0442225392296719,
          0.0442225392296719,
          0.14978601997146934,
          0.042796005706134094,
          0.039942938659058486,
          0.05563480741797432,
          0.07275320970042796,
          0.05135520684736091,
          0.11554921540656206,
          0.15406562054208273,
          0.07845934379457917,
          0.14693295292439373,
          0.1768901569186876,
          0.16975748930099857,
          0.11840228245363767,
          0.03281027104136947,
          0.07132667617689016,
          0.11126961483594865,
          0.1340941512125535,
          0.1840228245363766,
          0.26105563480741795,
          0.3509272467902996,
          0.3281027104136947,
          0.2553495007132668,
          0.26676176890156916,
          0.2296718972895863,
          0.2810271041369472,
          0.47218259629101283,
          0.16975748930099857,
          0.12125534950071326,
          0.10984308131241084,
          0.14265335235378032,
          0.16690442225392296,
          0.24964336661911554,
          0.23109843081312412,
          0.21683309557774608,
          0.19115549215406563,
          0.2225392296718973,
          0.10556348074179743,
          0.1312410841654779,
          0.3095577746077033,
          0.33808844507845937,
          0.39514978601997147,
          0.16833095577746077,
          0.11412268188302425,
          0.29101283880171186,
          0.5035663338088445,
          0.5777460770328102,
          0.3281027104136947,
          0.19115549215406563,
          0.3195435092724679,
          0.1825962910128388,
          0.2239657631954351,
          0.2767475035663338,
          0.5534950071326676,
          0.5634807417974322,
          0.4522111269614836,
          0.29529243937232524,
          0.6134094151212554,
          0.6562054208273894,
          0.33951497860199714,
          0.33951497860199714,
          0.3466476462196862,
          0.21825962910128388,
          0.18687589158345222,
          0.2268188302425107,
          0.20399429386590584,
          0.1383737517831669,
          0.4122681883024251,
          0.3281027104136947,
          0.06847360912981455,
          0.12838801711840228,
          0.31383737517831667,
          0.2225392296718973,
          0.16405135520684735,
          0.31098430813124106,
          0.32667617689015693,
          0.536376604850214,
          0.1768901569186876,
          0.2268188302425107,
          0.5392296718972895,
          0.06704707560627675,
          0.05991440798858773,
          0.03138373751783167,
          0.03138373751783167,
          0.06276747503566334,
          0.03138373751783167,
          0.019971469329529243,
          0.06704707560627675,
          0.04136947218259629,
          0.2239657631954351,
          0.2524964336661912,
          0.07560627674750357,
          0.21968616262482168,
          0.3437945791726106,
          0.2524964336661912,
          0.1754636233951498,
          0.181169757489301,
          0.2211126961483595,
          0.19828815977175462,
          0.16119828815977175,
          0.289586305278174,
          0.2239657631954351,
          0.18544935805991442,
          0.14835948644793154,
          0.3067047075606277,
          0.30385164051355207,
          0.4094151212553495,
          0.2967189728958631,
          0.21112696148359486,
          0.3680456490727532,
          0.3609129814550642,
          0.28815977175463625,
          0.19971469329529243,
          0.16405135520684735,
          0.29386590584878747,
          0.29814550641940085,
          0.20256776034236804,
          0.19828815977175462
         ],
         "yaxis": "y"
        }
       ],
       "layout": {
        "legend": {
         "title": {
          "text": "variable"
         },
         "tracegroupgap": 0
        },
        "margin": {
         "t": 60
        },
        "template": {
         "data": {
          "bar": [
           {
            "error_x": {
             "color": "#2a3f5f"
            },
            "error_y": {
             "color": "#2a3f5f"
            },
            "marker": {
             "line": {
              "color": "#E5ECF6",
              "width": 0.5
             },
             "pattern": {
              "fillmode": "overlay",
              "size": 10,
              "solidity": 0.2
             }
            },
            "type": "bar"
           }
          ],
          "barpolar": [
           {
            "marker": {
             "line": {
              "color": "#E5ECF6",
              "width": 0.5
             },
             "pattern": {
              "fillmode": "overlay",
              "size": 10,
              "solidity": 0.2
             }
            },
            "type": "barpolar"
           }
          ],
          "carpet": [
           {
            "aaxis": {
             "endlinecolor": "#2a3f5f",
             "gridcolor": "white",
             "linecolor": "white",
             "minorgridcolor": "white",
             "startlinecolor": "#2a3f5f"
            },
            "baxis": {
             "endlinecolor": "#2a3f5f",
             "gridcolor": "white",
             "linecolor": "white",
             "minorgridcolor": "white",
             "startlinecolor": "#2a3f5f"
            },
            "type": "carpet"
           }
          ],
          "choropleth": [
           {
            "colorbar": {
             "outlinewidth": 0,
             "ticks": ""
            },
            "type": "choropleth"
           }
          ],
          "contour": [
           {
            "colorbar": {
             "outlinewidth": 0,
             "ticks": ""
            },
            "colorscale": [
             [
              0,
              "#0d0887"
             ],
             [
              0.1111111111111111,
              "#46039f"
             ],
             [
              0.2222222222222222,
              "#7201a8"
             ],
             [
              0.3333333333333333,
              "#9c179e"
             ],
             [
              0.4444444444444444,
              "#bd3786"
             ],
             [
              0.5555555555555556,
              "#d8576b"
             ],
             [
              0.6666666666666666,
              "#ed7953"
             ],
             [
              0.7777777777777778,
              "#fb9f3a"
             ],
             [
              0.8888888888888888,
              "#fdca26"
             ],
             [
              1,
              "#f0f921"
             ]
            ],
            "type": "contour"
           }
          ],
          "contourcarpet": [
           {
            "colorbar": {
             "outlinewidth": 0,
             "ticks": ""
            },
            "type": "contourcarpet"
           }
          ],
          "heatmap": [
           {
            "colorbar": {
             "outlinewidth": 0,
             "ticks": ""
            },
            "colorscale": [
             [
              0,
              "#0d0887"
             ],
             [
              0.1111111111111111,
              "#46039f"
             ],
             [
              0.2222222222222222,
              "#7201a8"
             ],
             [
              0.3333333333333333,
              "#9c179e"
             ],
             [
              0.4444444444444444,
              "#bd3786"
             ],
             [
              0.5555555555555556,
              "#d8576b"
             ],
             [
              0.6666666666666666,
              "#ed7953"
             ],
             [
              0.7777777777777778,
              "#fb9f3a"
             ],
             [
              0.8888888888888888,
              "#fdca26"
             ],
             [
              1,
              "#f0f921"
             ]
            ],
            "type": "heatmap"
           }
          ],
          "heatmapgl": [
           {
            "colorbar": {
             "outlinewidth": 0,
             "ticks": ""
            },
            "colorscale": [
             [
              0,
              "#0d0887"
             ],
             [
              0.1111111111111111,
              "#46039f"
             ],
             [
              0.2222222222222222,
              "#7201a8"
             ],
             [
              0.3333333333333333,
              "#9c179e"
             ],
             [
              0.4444444444444444,
              "#bd3786"
             ],
             [
              0.5555555555555556,
              "#d8576b"
             ],
             [
              0.6666666666666666,
              "#ed7953"
             ],
             [
              0.7777777777777778,
              "#fb9f3a"
             ],
             [
              0.8888888888888888,
              "#fdca26"
             ],
             [
              1,
              "#f0f921"
             ]
            ],
            "type": "heatmapgl"
           }
          ],
          "histogram": [
           {
            "marker": {
             "pattern": {
              "fillmode": "overlay",
              "size": 10,
              "solidity": 0.2
             }
            },
            "type": "histogram"
           }
          ],
          "histogram2d": [
           {
            "colorbar": {
             "outlinewidth": 0,
             "ticks": ""
            },
            "colorscale": [
             [
              0,
              "#0d0887"
             ],
             [
              0.1111111111111111,
              "#46039f"
             ],
             [
              0.2222222222222222,
              "#7201a8"
             ],
             [
              0.3333333333333333,
              "#9c179e"
             ],
             [
              0.4444444444444444,
              "#bd3786"
             ],
             [
              0.5555555555555556,
              "#d8576b"
             ],
             [
              0.6666666666666666,
              "#ed7953"
             ],
             [
              0.7777777777777778,
              "#fb9f3a"
             ],
             [
              0.8888888888888888,
              "#fdca26"
             ],
             [
              1,
              "#f0f921"
             ]
            ],
            "type": "histogram2d"
           }
          ],
          "histogram2dcontour": [
           {
            "colorbar": {
             "outlinewidth": 0,
             "ticks": ""
            },
            "colorscale": [
             [
              0,
              "#0d0887"
             ],
             [
              0.1111111111111111,
              "#46039f"
             ],
             [
              0.2222222222222222,
              "#7201a8"
             ],
             [
              0.3333333333333333,
              "#9c179e"
             ],
             [
              0.4444444444444444,
              "#bd3786"
             ],
             [
              0.5555555555555556,
              "#d8576b"
             ],
             [
              0.6666666666666666,
              "#ed7953"
             ],
             [
              0.7777777777777778,
              "#fb9f3a"
             ],
             [
              0.8888888888888888,
              "#fdca26"
             ],
             [
              1,
              "#f0f921"
             ]
            ],
            "type": "histogram2dcontour"
           }
          ],
          "mesh3d": [
           {
            "colorbar": {
             "outlinewidth": 0,
             "ticks": ""
            },
            "type": "mesh3d"
           }
          ],
          "parcoords": [
           {
            "line": {
             "colorbar": {
              "outlinewidth": 0,
              "ticks": ""
             }
            },
            "type": "parcoords"
           }
          ],
          "pie": [
           {
            "automargin": true,
            "type": "pie"
           }
          ],
          "scatter": [
           {
            "fillpattern": {
             "fillmode": "overlay",
             "size": 10,
             "solidity": 0.2
            },
            "type": "scatter"
           }
          ],
          "scatter3d": [
           {
            "line": {
             "colorbar": {
              "outlinewidth": 0,
              "ticks": ""
             }
            },
            "marker": {
             "colorbar": {
              "outlinewidth": 0,
              "ticks": ""
             }
            },
            "type": "scatter3d"
           }
          ],
          "scattercarpet": [
           {
            "marker": {
             "colorbar": {
              "outlinewidth": 0,
              "ticks": ""
             }
            },
            "type": "scattercarpet"
           }
          ],
          "scattergeo": [
           {
            "marker": {
             "colorbar": {
              "outlinewidth": 0,
              "ticks": ""
             }
            },
            "type": "scattergeo"
           }
          ],
          "scattergl": [
           {
            "marker": {
             "colorbar": {
              "outlinewidth": 0,
              "ticks": ""
             }
            },
            "type": "scattergl"
           }
          ],
          "scattermapbox": [
           {
            "marker": {
             "colorbar": {
              "outlinewidth": 0,
              "ticks": ""
             }
            },
            "type": "scattermapbox"
           }
          ],
          "scatterpolar": [
           {
            "marker": {
             "colorbar": {
              "outlinewidth": 0,
              "ticks": ""
             }
            },
            "type": "scatterpolar"
           }
          ],
          "scatterpolargl": [
           {
            "marker": {
             "colorbar": {
              "outlinewidth": 0,
              "ticks": ""
             }
            },
            "type": "scatterpolargl"
           }
          ],
          "scatterternary": [
           {
            "marker": {
             "colorbar": {
              "outlinewidth": 0,
              "ticks": ""
             }
            },
            "type": "scatterternary"
           }
          ],
          "surface": [
           {
            "colorbar": {
             "outlinewidth": 0,
             "ticks": ""
            },
            "colorscale": [
             [
              0,
              "#0d0887"
             ],
             [
              0.1111111111111111,
              "#46039f"
             ],
             [
              0.2222222222222222,
              "#7201a8"
             ],
             [
              0.3333333333333333,
              "#9c179e"
             ],
             [
              0.4444444444444444,
              "#bd3786"
             ],
             [
              0.5555555555555556,
              "#d8576b"
             ],
             [
              0.6666666666666666,
              "#ed7953"
             ],
             [
              0.7777777777777778,
              "#fb9f3a"
             ],
             [
              0.8888888888888888,
              "#fdca26"
             ],
             [
              1,
              "#f0f921"
             ]
            ],
            "type": "surface"
           }
          ],
          "table": [
           {
            "cells": {
             "fill": {
              "color": "#EBF0F8"
             },
             "line": {
              "color": "white"
             }
            },
            "header": {
             "fill": {
              "color": "#C8D4E3"
             },
             "line": {
              "color": "white"
             }
            },
            "type": "table"
           }
          ]
         },
         "layout": {
          "annotationdefaults": {
           "arrowcolor": "#2a3f5f",
           "arrowhead": 0,
           "arrowwidth": 1
          },
          "autotypenumbers": "strict",
          "coloraxis": {
           "colorbar": {
            "outlinewidth": 0,
            "ticks": ""
           }
          },
          "colorscale": {
           "diverging": [
            [
             0,
             "#8e0152"
            ],
            [
             0.1,
             "#c51b7d"
            ],
            [
             0.2,
             "#de77ae"
            ],
            [
             0.3,
             "#f1b6da"
            ],
            [
             0.4,
             "#fde0ef"
            ],
            [
             0.5,
             "#f7f7f7"
            ],
            [
             0.6,
             "#e6f5d0"
            ],
            [
             0.7,
             "#b8e186"
            ],
            [
             0.8,
             "#7fbc41"
            ],
            [
             0.9,
             "#4d9221"
            ],
            [
             1,
             "#276419"
            ]
           ],
           "sequential": [
            [
             0,
             "#0d0887"
            ],
            [
             0.1111111111111111,
             "#46039f"
            ],
            [
             0.2222222222222222,
             "#7201a8"
            ],
            [
             0.3333333333333333,
             "#9c179e"
            ],
            [
             0.4444444444444444,
             "#bd3786"
            ],
            [
             0.5555555555555556,
             "#d8576b"
            ],
            [
             0.6666666666666666,
             "#ed7953"
            ],
            [
             0.7777777777777778,
             "#fb9f3a"
            ],
            [
             0.8888888888888888,
             "#fdca26"
            ],
            [
             1,
             "#f0f921"
            ]
           ],
           "sequentialminus": [
            [
             0,
             "#0d0887"
            ],
            [
             0.1111111111111111,
             "#46039f"
            ],
            [
             0.2222222222222222,
             "#7201a8"
            ],
            [
             0.3333333333333333,
             "#9c179e"
            ],
            [
             0.4444444444444444,
             "#bd3786"
            ],
            [
             0.5555555555555556,
             "#d8576b"
            ],
            [
             0.6666666666666666,
             "#ed7953"
            ],
            [
             0.7777777777777778,
             "#fb9f3a"
            ],
            [
             0.8888888888888888,
             "#fdca26"
            ],
            [
             1,
             "#f0f921"
            ]
           ]
          },
          "colorway": [
           "#636efa",
           "#EF553B",
           "#00cc96",
           "#ab63fa",
           "#FFA15A",
           "#19d3f3",
           "#FF6692",
           "#B6E880",
           "#FF97FF",
           "#FECB52"
          ],
          "font": {
           "color": "#2a3f5f"
          },
          "geo": {
           "bgcolor": "white",
           "lakecolor": "white",
           "landcolor": "#E5ECF6",
           "showlakes": true,
           "showland": true,
           "subunitcolor": "white"
          },
          "hoverlabel": {
           "align": "left"
          },
          "hovermode": "closest",
          "mapbox": {
           "style": "light"
          },
          "paper_bgcolor": "white",
          "plot_bgcolor": "#E5ECF6",
          "polar": {
           "angularaxis": {
            "gridcolor": "white",
            "linecolor": "white",
            "ticks": ""
           },
           "bgcolor": "#E5ECF6",
           "radialaxis": {
            "gridcolor": "white",
            "linecolor": "white",
            "ticks": ""
           }
          },
          "scene": {
           "xaxis": {
            "backgroundcolor": "#E5ECF6",
            "gridcolor": "white",
            "gridwidth": 2,
            "linecolor": "white",
            "showbackground": true,
            "ticks": "",
            "zerolinecolor": "white"
           },
           "yaxis": {
            "backgroundcolor": "#E5ECF6",
            "gridcolor": "white",
            "gridwidth": 2,
            "linecolor": "white",
            "showbackground": true,
            "ticks": "",
            "zerolinecolor": "white"
           },
           "zaxis": {
            "backgroundcolor": "#E5ECF6",
            "gridcolor": "white",
            "gridwidth": 2,
            "linecolor": "white",
            "showbackground": true,
            "ticks": "",
            "zerolinecolor": "white"
           }
          },
          "shapedefaults": {
           "line": {
            "color": "#2a3f5f"
           }
          },
          "ternary": {
           "aaxis": {
            "gridcolor": "white",
            "linecolor": "white",
            "ticks": ""
           },
           "baxis": {
            "gridcolor": "white",
            "linecolor": "white",
            "ticks": ""
           },
           "bgcolor": "#E5ECF6",
           "caxis": {
            "gridcolor": "white",
            "linecolor": "white",
            "ticks": ""
           }
          },
          "title": {
           "x": 0.05
          },
          "xaxis": {
           "automargin": true,
           "gridcolor": "white",
           "linecolor": "white",
           "ticks": "",
           "title": {
            "standoff": 15
           },
           "zerolinecolor": "white",
           "zerolinewidth": 2
          },
          "yaxis": {
           "automargin": true,
           "gridcolor": "white",
           "linecolor": "white",
           "ticks": "",
           "title": {
            "standoff": 15
           },
           "zerolinecolor": "white",
           "zerolinewidth": 2
          }
         }
        },
        "xaxis": {
         "anchor": "y",
         "domain": [
          0,
          1
         ],
         "title": {
          "text": "date"
         }
        },
        "yaxis": {
         "anchor": "x",
         "domain": [
          0,
          1
         ],
         "title": {
          "text": "value"
         }
        }
       }
      },
      "text/html": [
       "<div>                            <div id=\"69f5db44-9967-426e-a0e0-3f64ee052d46\" class=\"plotly-graph-div\" style=\"height:525px; width:100%;\"></div>            <script type=\"text/javascript\">                require([\"plotly\"], function(Plotly) {                    window.PLOTLYENV=window.PLOTLYENV || {};                                    if (document.getElementById(\"69f5db44-9967-426e-a0e0-3f64ee052d46\")) {                    Plotly.newPlot(                        \"69f5db44-9967-426e-a0e0-3f64ee052d46\",                        [{\"hovertemplate\":\"variable=normalized energy<br>date=%{x}<br>value=%{y}<extra></extra>\",\"legendgroup\":\"normalized energy\",\"line\":{\"color\":\"#636efa\",\"dash\":\"solid\"},\"marker\":{\"symbol\":\"circle\"},\"mode\":\"lines\",\"name\":\"normalized energy\",\"orientation\":\"v\",\"showlegend\":true,\"x\":[\"2022-09-22T15:15:00\",\"2022-09-22T15:30:00\",\"2022-09-22T15:45:00\",\"2022-09-22T16:00:00\",\"2022-09-22T16:15:00\",\"2022-09-22T16:30:00\",\"2022-09-22T16:45:00\",\"2022-09-22T17:00:00\",\"2022-09-22T17:15:00\",\"2022-09-22T17:30:00\",\"2022-09-22T17:45:00\",\"2022-09-22T18:00:00\",\"2022-09-22T18:15:00\",\"2022-09-22T18:30:00\",\"2022-09-22T18:45:00\",\"2022-09-22T19:00:00\",\"2022-09-22T19:15:00\",\"2022-09-22T19:30:00\",\"2022-09-22T19:45:00\",\"2022-09-22T20:00:00\",\"2022-09-22T20:15:00\",\"2022-09-22T20:30:00\",\"2022-09-22T20:45:00\",\"2022-09-22T21:00:00\",\"2022-09-22T21:15:00\",\"2022-09-22T21:30:00\",\"2022-09-22T21:45:00\",\"2022-09-22T22:00:00\",\"2022-09-22T22:15:00\",\"2022-09-22T22:30:00\",\"2022-09-22T22:45:00\",\"2022-09-22T23:00:00\",\"2022-09-22T23:15:00\",\"2022-09-22T23:30:00\",\"2022-09-22T23:45:00\",\"2022-09-23T00:00:00\",\"2022-09-23T00:15:00\",\"2022-09-23T00:30:00\",\"2022-09-23T00:45:00\",\"2022-09-23T01:00:00\",\"2022-09-23T01:15:00\",\"2022-09-23T01:30:00\",\"2022-09-23T01:45:00\",\"2022-09-23T02:00:00\",\"2022-09-23T02:15:00\",\"2022-09-23T02:30:00\",\"2022-09-23T02:45:00\",\"2022-09-23T03:00:00\",\"2022-09-23T03:15:00\",\"2022-09-23T03:30:00\",\"2022-09-23T03:45:00\",\"2022-09-23T04:00:00\",\"2022-09-23T04:15:00\",\"2022-09-23T04:30:00\",\"2022-09-23T04:45:00\",\"2022-09-23T05:00:00\",\"2022-09-23T05:15:00\",\"2022-09-23T05:30:00\",\"2022-09-23T05:45:00\",\"2022-09-23T06:00:00\",\"2022-09-23T06:15:00\",\"2022-09-23T06:30:00\",\"2022-09-23T06:45:00\",\"2022-09-23T07:00:00\",\"2022-09-23T07:15:00\",\"2022-09-23T07:30:00\",\"2022-09-23T07:45:00\",\"2022-09-23T08:00:00\",\"2022-09-23T08:15:00\",\"2022-09-23T08:30:00\",\"2022-09-23T08:45:00\",\"2022-09-23T09:00:00\",\"2022-09-23T09:15:00\",\"2022-09-23T09:30:00\",\"2022-09-23T09:45:00\",\"2022-09-23T10:00:00\",\"2022-09-23T10:15:00\",\"2022-09-23T10:30:00\",\"2022-09-23T10:45:00\",\"2022-09-23T11:00:00\",\"2022-09-23T11:15:00\",\"2022-09-23T11:30:00\",\"2022-09-23T11:45:00\",\"2022-09-23T12:00:00\",\"2022-09-23T12:15:00\",\"2022-09-23T12:30:00\",\"2022-09-23T12:45:00\",\"2022-09-23T13:00:00\",\"2022-09-23T13:15:00\",\"2022-09-23T13:30:00\",\"2022-09-23T13:45:00\",\"2022-09-23T14:00:00\",\"2022-09-23T14:15:00\",\"2022-09-23T14:30:00\",\"2022-09-23T14:45:00\",\"2022-09-23T15:00:00\",\"2022-09-23T15:15:00\",\"2022-09-23T15:30:00\",\"2022-09-23T15:45:00\",\"2022-09-23T16:00:00\",\"2022-09-23T16:15:00\",\"2022-09-23T16:30:00\",\"2022-09-23T16:45:00\",\"2022-09-23T17:00:00\",\"2022-09-23T17:15:00\",\"2022-09-23T17:30:00\",\"2022-09-23T17:45:00\",\"2022-09-23T18:00:00\",\"2022-09-23T18:15:00\",\"2022-09-23T18:30:00\",\"2022-09-23T18:45:00\",\"2022-09-23T19:00:00\",\"2022-09-23T19:15:00\",\"2022-09-23T19:30:00\",\"2022-09-23T19:45:00\",\"2022-09-23T20:00:00\",\"2022-09-23T20:15:00\",\"2022-09-23T20:30:00\",\"2022-09-23T20:45:00\",\"2022-09-23T21:00:00\",\"2022-09-23T21:15:00\",\"2022-09-23T21:30:00\",\"2022-09-23T21:45:00\",\"2022-09-23T22:00:00\",\"2022-09-23T22:15:00\",\"2022-09-23T22:30:00\",\"2022-09-23T22:45:00\",\"2022-09-23T23:00:00\",\"2022-09-23T23:15:00\",\"2022-09-23T23:30:00\",\"2022-09-23T23:45:00\",\"2022-09-24T00:00:00\",\"2022-09-24T00:15:00\",\"2022-09-24T00:30:00\",\"2022-09-24T00:45:00\",\"2022-09-24T01:00:00\",\"2022-09-24T01:15:00\",\"2022-09-24T01:30:00\",\"2022-09-24T01:45:00\",\"2022-09-24T02:00:00\",\"2022-09-24T02:15:00\",\"2022-09-24T02:30:00\",\"2022-09-24T02:45:00\",\"2022-09-24T03:00:00\",\"2022-09-24T03:15:00\",\"2022-09-24T03:30:00\",\"2022-09-24T03:45:00\",\"2022-09-24T04:00:00\",\"2022-09-24T04:15:00\",\"2022-09-24T04:30:00\",\"2022-09-24T04:45:00\",\"2022-09-24T05:00:00\",\"2022-09-24T05:15:00\",\"2022-09-24T05:30:00\",\"2022-09-24T05:45:00\",\"2022-09-24T06:00:00\",\"2022-09-24T06:15:00\",\"2022-09-24T06:30:00\",\"2022-09-24T06:45:00\",\"2022-09-24T07:00:00\",\"2022-09-24T07:15:00\",\"2022-09-24T07:30:00\",\"2022-09-24T07:45:00\",\"2022-09-24T08:00:00\",\"2022-09-24T08:15:00\",\"2022-09-24T08:30:00\",\"2022-09-24T08:45:00\",\"2022-09-24T09:00:00\",\"2022-09-24T09:15:00\",\"2022-09-24T09:30:00\",\"2022-09-24T09:45:00\",\"2022-09-24T10:00:00\",\"2022-09-24T10:15:00\",\"2022-09-24T10:30:00\",\"2022-09-24T10:45:00\",\"2022-09-24T11:00:00\",\"2022-09-24T11:15:00\",\"2022-09-24T11:30:00\",\"2022-09-24T11:45:00\",\"2022-09-24T12:00:00\",\"2022-09-24T12:15:00\",\"2022-09-24T12:30:00\",\"2022-09-24T12:45:00\",\"2022-09-24T13:00:00\",\"2022-09-24T13:15:00\",\"2022-09-24T13:30:00\",\"2022-09-24T13:45:00\",\"2022-09-24T14:00:00\",\"2022-09-24T14:15:00\",\"2022-09-24T14:30:00\",\"2022-09-24T14:45:00\",\"2022-09-24T15:00:00\",\"2022-09-24T15:15:00\",\"2022-09-24T15:30:00\",\"2022-09-24T15:45:00\",\"2022-09-24T16:00:00\",\"2022-09-24T16:15:00\",\"2022-09-24T16:30:00\",\"2022-09-24T16:45:00\",\"2022-09-24T17:00:00\",\"2022-09-24T17:15:00\",\"2022-09-24T17:30:00\",\"2022-09-24T17:45:00\",\"2022-09-24T18:00:00\",\"2022-09-24T18:15:00\",\"2022-09-24T18:30:00\",\"2022-09-24T18:45:00\",\"2022-09-24T19:00:00\",\"2022-09-24T19:15:00\",\"2022-09-24T19:30:00\",\"2022-09-24T19:45:00\",\"2022-09-24T20:00:00\",\"2022-09-24T20:15:00\",\"2022-09-24T20:30:00\",\"2022-09-24T20:45:00\",\"2022-09-24T21:00:00\",\"2022-09-24T21:15:00\",\"2022-09-24T21:30:00\",\"2022-09-24T21:45:00\",\"2022-09-24T22:00:00\",\"2022-09-24T22:15:00\",\"2022-09-24T22:30:00\",\"2022-09-24T22:45:00\",\"2022-09-24T23:00:00\",\"2022-09-24T23:15:00\",\"2022-09-24T23:30:00\",\"2022-09-24T23:45:00\",\"2022-09-25T00:00:00\",\"2022-09-25T00:15:00\",\"2022-09-25T00:30:00\",\"2022-09-25T00:45:00\",\"2022-09-25T01:00:00\",\"2022-09-25T01:15:00\",\"2022-09-25T01:30:00\",\"2022-09-25T01:45:00\",\"2022-09-25T02:00:00\",\"2022-09-25T02:15:00\",\"2022-09-25T02:30:00\",\"2022-09-25T02:45:00\",\"2022-09-25T03:00:00\",\"2022-09-25T03:15:00\",\"2022-09-25T03:30:00\",\"2022-09-25T03:45:00\",\"2022-09-25T04:00:00\",\"2022-09-25T04:15:00\",\"2022-09-25T04:30:00\",\"2022-09-25T04:45:00\",\"2022-09-25T05:00:00\",\"2022-09-25T05:15:00\",\"2022-09-25T05:30:00\",\"2022-09-25T05:45:00\",\"2022-09-25T06:00:00\",\"2022-09-25T06:15:00\",\"2022-09-25T06:30:00\",\"2022-09-25T06:45:00\",\"2022-09-25T07:00:00\",\"2022-09-25T07:15:00\",\"2022-09-25T07:30:00\",\"2022-09-25T07:45:00\",\"2022-09-25T08:00:00\",\"2022-09-25T08:15:00\",\"2022-09-25T08:30:00\",\"2022-09-25T08:45:00\",\"2022-09-25T09:00:00\",\"2022-09-25T09:15:00\",\"2022-09-25T09:30:00\",\"2022-09-25T09:45:00\",\"2022-09-25T10:00:00\",\"2022-09-25T10:15:00\",\"2022-09-25T10:30:00\",\"2022-09-25T10:45:00\",\"2022-09-25T11:00:00\",\"2022-09-25T11:15:00\",\"2022-09-25T11:30:00\",\"2022-09-25T11:45:00\",\"2022-09-25T12:00:00\",\"2022-09-25T12:15:00\",\"2022-09-25T12:30:00\",\"2022-09-25T12:45:00\",\"2022-09-25T13:00:00\",\"2022-09-25T13:15:00\",\"2022-09-25T13:30:00\",\"2022-09-25T13:45:00\",\"2022-09-25T14:00:00\",\"2022-09-25T14:15:00\",\"2022-09-25T14:30:00\",\"2022-09-25T14:45:00\",\"2022-09-25T15:00:00\",\"2022-09-25T15:15:00\",\"2022-09-25T15:30:00\",\"2022-09-25T15:45:00\",\"2022-09-25T16:00:00\",\"2022-09-25T16:15:00\",\"2022-09-25T16:30:00\",\"2022-09-25T16:45:00\",\"2022-09-25T17:00:00\",\"2022-09-25T17:15:00\",\"2022-09-25T17:30:00\",\"2022-09-25T17:45:00\",\"2022-09-25T18:00:00\",\"2022-09-25T18:15:00\",\"2022-09-25T18:30:00\",\"2022-09-25T18:45:00\",\"2022-09-25T19:00:00\",\"2022-09-25T19:15:00\",\"2022-09-25T19:30:00\",\"2022-09-25T19:45:00\",\"2022-09-25T20:00:00\",\"2022-09-25T20:15:00\",\"2022-09-25T20:30:00\",\"2022-09-25T20:45:00\",\"2022-09-25T21:00:00\",\"2022-09-25T21:15:00\",\"2022-09-25T21:30:00\",\"2022-09-25T21:45:00\",\"2022-09-25T22:00:00\",\"2022-09-25T22:15:00\",\"2022-09-25T22:30:00\",\"2022-09-25T22:45:00\",\"2022-09-25T23:00:00\",\"2022-09-25T23:15:00\",\"2022-09-25T23:30:00\",\"2022-09-25T23:45:00\",\"2022-09-26T00:00:00\",\"2022-09-26T00:15:00\",\"2022-09-26T00:30:00\",\"2022-09-26T00:45:00\",\"2022-09-26T01:00:00\",\"2022-09-26T01:15:00\",\"2022-09-26T01:30:00\",\"2022-09-26T01:45:00\",\"2022-09-26T02:00:00\",\"2022-09-26T02:15:00\",\"2022-09-26T02:30:00\",\"2022-09-26T02:45:00\",\"2022-09-26T03:00:00\",\"2022-09-26T03:15:00\",\"2022-09-26T03:30:00\",\"2022-09-26T03:45:00\",\"2022-09-26T04:00:00\",\"2022-09-26T04:15:00\",\"2022-09-26T04:30:00\",\"2022-09-26T04:45:00\",\"2022-09-26T05:00:00\",\"2022-09-26T05:15:00\",\"2022-09-26T05:30:00\",\"2022-09-26T05:45:00\",\"2022-09-26T06:00:00\",\"2022-09-26T06:15:00\",\"2022-09-26T06:30:00\",\"2022-09-26T06:45:00\",\"2022-09-26T07:00:00\",\"2022-09-26T07:15:00\",\"2022-09-26T07:30:00\",\"2022-09-26T07:45:00\",\"2022-09-26T08:00:00\",\"2022-09-26T08:15:00\",\"2022-09-26T08:30:00\",\"2022-09-26T08:45:00\",\"2022-09-26T09:00:00\",\"2022-09-26T09:15:00\",\"2022-09-26T09:30:00\",\"2022-09-26T09:45:00\",\"2022-09-26T10:00:00\",\"2022-09-26T10:15:00\",\"2022-09-26T10:30:00\",\"2022-09-26T10:45:00\",\"2022-09-26T11:00:00\",\"2022-09-26T11:15:00\",\"2022-09-26T11:30:00\",\"2022-09-26T11:45:00\",\"2022-09-26T12:00:00\",\"2022-09-26T12:15:00\",\"2022-09-26T12:30:00\",\"2022-09-26T12:45:00\",\"2022-09-26T13:00:00\"],\"xaxis\":\"x\",\"y\":[0.8421116257678788,1.0,0.9513590223711438,0.9350021352780787,0.9088255970566017,0.9261837653165136,0.9265911106731054,0.92708912322197,0.904095134851023,0.9438034230150132,0.9143549817680098,0.9272993659866625,0.9333924641109038,0.9531657961302177,0.9494904897999428,0.9468269767747441,0.950004270556158,0.933743306724483,0.9334791892513374,0.9202522913176319,0.8112519299628792,0.7465917676817451,0.7053552774218973,0.6725902565618739,0.6496514569166583,0.6417450149469464,0.6751249958936968,0.6711882001248284,0.6476791169803913,0.6577037548043759,0.6815925889425415,0.7132472652015402,0.7182418448802574,0.7435879241812057,0.6131414868105494,0.5889123221970384,0.7445379586741555,0.6623829703360619,0.6133201931605395,0.6226759961893499,0.6216655169015449,0.5933431884629282,0.6458316086856534,0.6445793502184558,0.6552820209585793,0.6607693571170419,0.6482244341513125,0.6086160113005488,0.6086580598534838,0.5932577773397728,0.6155789888637048,0.6021326500443454,0.6792878026346084,0.6342866528694836,0.617310863637855,0.6265668013534367,0.65301665516902,0.652247955060603,0.6526382181925768,0.6220478959298301,0.6486304654906171,0.6861233205216648,0.6662658913964692,0.6663683847442593,0.6941020334417438,0.6525777733977217,0.6194369435958073,0.606137774711739,0.6401813343845408,0.6505712690121945,0.7129384711408937,0.6448592358989554,0.7429874182845427,0.75131171774909,0.8983896718241874,0.9040635984363194,0.892358332512075,0.8787911041030192,0.9224742945369685,0.7174954830656073,0.6331894484412472,0.6774810288755295,0.7012489734239987,0.6684405899937551,0.6761381032160585,0.8051351795276068,0.9116454781380445,0.9060044019578781,0.9133563286357227,0.9359337735291208,0.9133458164974866,0.8739476364114259,0.902882296902199,0.9056062547222481,0.8524608258598608,0.9093275516573095,0.9069938569692155,0.9361794947603601,0.6704865148976653,0.5984993922670147,0.6257468545711339,0.5952156630859663,0.670380079498047,0.7215965309943878,0.7561354751814964,0.7110186918957979,0.6595381229263164,0.6287704083308695,0.6329305870372197,0.6802273249893175,0.6738766794783412,0.6534805032686184,0.6690148155448278,0.5925376958706989,0.6447909070004255,0.6345231759797676,0.6791261785092391,0.7374435793830624,0.6904963700272702,0.6997115732071928,0.7204599060477638,0.6289215203179841,0.7019651128412446,0.6066147629841255,0.6113544233106619,0.6555421963798874,0.637607174534349,0.6122295588187066,0.6530560756873843,0.674341841595225,0.6513465392069822,0.6062034755757075,0.6638007949804475,0.6613882592556063,0.6186432771590994,0.6744771853749901,0.5811767024736373,0.5782884924936855,0.5997713609933946,0.607196872638873,0.5985703492000967,0.6205656844387378,0.6079327223153058,0.6082152360303574,0.6420012483164171,0.5844236391708547,0.6166525409809029,0.59476364114188,0.628917578266156,0.6064071482539932,0.686832889852512,0.6189954337899476,0.6162412535724849,0.6027830885976273,0.6389251338655105,0.6723497913997526,0.7040859367300648,0.6365901251601406,0.7231326171939271,0.6475595414079617,0.6190479944811373,0.6632081731874733,0.6256772116553373,0.6546434085608187,0.719236555960699,0.7243835616438441,0.6787713938438202,0.6213803751519366,0.6501376433100096,0.665033343188463,0.6305298774678907,0.6377438323313901,0.6492743339575051,0.6545606254722247,0.681494037646584,0.7100252948326231,0.712684865805989,0.730794651949685,0.6432587628527329,0.6311408955027663,0.6693577740547346,0.618606484675259,0.5961854078381263,0.603311323543909,0.6297230708583667,0.6624946618048074,0.6557392989717744,0.7691061397457499,0.7459045366446507,0.6780092638218299,0.7684346769159911,0.6156670280214122,0.6385112184225218,0.6801695082290424,0.7179540750960831,0.6483440097237374,0.7250852468709885,0.7236096054663137,0.6796675536283369,0.684124700239803,0.7091186229098982,0.6737571039059068,0.7139187280312805,0.7028783548503682,0.706855885154877,0.6777136099339808,0.6611609342662778,0.6855806313853003,0.6985591800532193,0.6159547978055866,0.6451588318386419,0.6765927531947062,0.700385664071485,0.6963857954732093,0.6303853355671561,0.6500167537203179,0.6585920304851992,0.6763417758943535,0.7006655497519846,0.7447744817844254,0.627991196084235,0.6280358726717314,0.6060418514503475,0.6596629545678547,0.5953404947275047,0.6192989717814714,0.6441667487927524,0.6470786110837283,0.5927426825662793,0.6110653395092116,0.6547248776321367,0.6035951512762366,0.5893577740547447,0.6466042508458938,0.7017890345257926,0.6131493709142287,0.6237955389113485,0.6431102789001704,0.6430130416214842,0.6531782792943707,0.6505660129430905,0.6338030945106843,0.666413061331765,0.6486974803718617,0.6313892447685671,0.6106317138070454,0.6382983476232666,0.5999632075161587,0.6402089287474024,0.6494727505666867,0.610749975362185,0.6157064485398045,0.5972983804736888,0.5832528497749797,0.6212621135967783,0.6356532308400116,0.6028684997207734,0.5999172169113863,0.6043218028317,0.6457304293551626,0.595905522157608,0.6055688052297703,0.6302657599947779,0.6376873295883536,0.6025833579711697,0.6537525048454433,0.6997956703130441,0.6086304654906408,0.6667468217206931,0.6892296573699851,0.6846371669787539,0.6344850694786885,0.5995979107124945,0.6389343319864986,0.6435215663085884,0.631227620643207,0.6731671101474846,0.7094247889359928,0.6775099372556764,0.6937354226208129,0.6749002989389109,0.7381426365756735,0.7382477579580157,0.7116809566045781,0.789047665976797,0.7167123287671542,0.6521231234190459,0.6349318353536523,0.6795414079695039,0.7008731644821357,0.7506823034722662,0.6838592687493767,0.7247146939982575,0.7284044545185545,0.7553851713150183,0.6176472520613632,0.6529838047370357,0.8162504516934291,0.7889412305771787,0.800872507473485,0.6444045859203077,0.6803797509937268,0.7822870470746599,0.947130514766261,0.8912834663775915,0.7304043888177204,0.6665484051115301,0.7255359547977802,0.6545382871784765,0.6821694425281709,0.7400413915442877,0.9283781741730092,0.9049689563417775,0.7930107420912509,0.7278459971748686,0.8992188167274315,0.9010768371604148,0.733514667717878,0.7210223054433337,0.7268617982326352,0.6654827370979973,0.677177490883987,0.7217712952925266,0.6682921060412018,0.6615827338129412,0.7524706809894716,0.7981564337571013,0.6219782530140335,0.669887323018311,0.6807345356591457,0.6479511185571836,0.6335823396077919,0.7173220327847165,0.7050346572057526,0.805559607108813,0.6676350974015538,0.6725482080089156,0.7029466837489075,0.623041292992977,0.5882881639893839,0.5970132387240851,0.5950448408396556,0.6056883808021859,0.5700863966361246,0.5845694950888652,0.615367432081735,0.60812456883807,0.6966604250846049,0.7254873361584558,0.6261371177030984,0.724930192832046,0.7565152261752248,0.711226306625921,0.652533096810244,0.6700673433855351,0.6724207483328438,0.6626234354981925,0.6598784534016618,0.7314424624683823,0.683126047107496,0.6415518544069202,0.6551900397490206,0.7805394040931601,0.765098387043781,0.7888729016786395,0.7705804671331488,0.7077914654577674,0.7789494431851924,0.7405512302486866,0.7798548010906412,0.6618205709404965,0.6516132847146844,0.7319864656220321,0.7219552577116161,0.6974462074176381,0.34089944482770124],\"yaxis\":\"y\",\"type\":\"scatter\"},{\"hovertemplate\":\"variable=normalized requests<br>date=%{x}<br>value=%{y}<extra></extra>\",\"legendgroup\":\"normalized requests\",\"line\":{\"color\":\"#EF553B\",\"dash\":\"solid\"},\"marker\":{\"symbol\":\"circle\"},\"mode\":\"lines\",\"name\":\"normalized requests\",\"orientation\":\"v\",\"showlegend\":true,\"x\":[\"2022-09-22T15:15:00\",\"2022-09-22T15:30:00\",\"2022-09-22T15:45:00\",\"2022-09-22T16:00:00\",\"2022-09-22T16:15:00\",\"2022-09-22T16:30:00\",\"2022-09-22T16:45:00\",\"2022-09-22T17:00:00\",\"2022-09-22T17:15:00\",\"2022-09-22T17:30:00\",\"2022-09-22T17:45:00\",\"2022-09-22T18:00:00\",\"2022-09-22T18:15:00\",\"2022-09-22T18:30:00\",\"2022-09-22T18:45:00\",\"2022-09-22T19:00:00\",\"2022-09-22T19:15:00\",\"2022-09-22T19:30:00\",\"2022-09-22T19:45:00\",\"2022-09-22T20:00:00\",\"2022-09-22T20:15:00\",\"2022-09-22T20:30:00\",\"2022-09-22T20:45:00\",\"2022-09-22T21:00:00\",\"2022-09-22T21:15:00\",\"2022-09-22T21:30:00\",\"2022-09-22T21:45:00\",\"2022-09-22T22:00:00\",\"2022-09-22T22:15:00\",\"2022-09-22T22:30:00\",\"2022-09-22T22:45:00\",\"2022-09-22T23:00:00\",\"2022-09-22T23:15:00\",\"2022-09-22T23:30:00\",\"2022-09-22T23:45:00\",\"2022-09-23T00:00:00\",\"2022-09-23T00:15:00\",\"2022-09-23T00:30:00\",\"2022-09-23T00:45:00\",\"2022-09-23T01:00:00\",\"2022-09-23T01:15:00\",\"2022-09-23T01:30:00\",\"2022-09-23T01:45:00\",\"2022-09-23T02:00:00\",\"2022-09-23T02:15:00\",\"2022-09-23T02:30:00\",\"2022-09-23T02:45:00\",\"2022-09-23T03:00:00\",\"2022-09-23T03:15:00\",\"2022-09-23T03:30:00\",\"2022-09-23T03:45:00\",\"2022-09-23T04:00:00\",\"2022-09-23T04:15:00\",\"2022-09-23T04:30:00\",\"2022-09-23T04:45:00\",\"2022-09-23T05:00:00\",\"2022-09-23T05:15:00\",\"2022-09-23T05:30:00\",\"2022-09-23T05:45:00\",\"2022-09-23T06:00:00\",\"2022-09-23T06:15:00\",\"2022-09-23T06:30:00\",\"2022-09-23T06:45:00\",\"2022-09-23T07:00:00\",\"2022-09-23T07:15:00\",\"2022-09-23T07:30:00\",\"2022-09-23T07:45:00\",\"2022-09-23T08:00:00\",\"2022-09-23T08:15:00\",\"2022-09-23T08:30:00\",\"2022-09-23T08:45:00\",\"2022-09-23T09:00:00\",\"2022-09-23T09:15:00\",\"2022-09-23T09:30:00\",\"2022-09-23T09:45:00\",\"2022-09-23T10:00:00\",\"2022-09-23T10:15:00\",\"2022-09-23T10:30:00\",\"2022-09-23T10:45:00\",\"2022-09-23T11:00:00\",\"2022-09-23T11:15:00\",\"2022-09-23T11:30:00\",\"2022-09-23T11:45:00\",\"2022-09-23T12:00:00\",\"2022-09-23T12:15:00\",\"2022-09-23T12:30:00\",\"2022-09-23T12:45:00\",\"2022-09-23T13:00:00\",\"2022-09-23T13:15:00\",\"2022-09-23T13:30:00\",\"2022-09-23T13:45:00\",\"2022-09-23T14:00:00\",\"2022-09-23T14:15:00\",\"2022-09-23T14:30:00\",\"2022-09-23T14:45:00\",\"2022-09-23T15:00:00\",\"2022-09-23T15:15:00\",\"2022-09-23T15:30:00\",\"2022-09-23T15:45:00\",\"2022-09-23T16:00:00\",\"2022-09-23T16:15:00\",\"2022-09-23T16:30:00\",\"2022-09-23T16:45:00\",\"2022-09-23T17:00:00\",\"2022-09-23T17:15:00\",\"2022-09-23T17:30:00\",\"2022-09-23T17:45:00\",\"2022-09-23T18:00:00\",\"2022-09-23T18:15:00\",\"2022-09-23T18:30:00\",\"2022-09-23T18:45:00\",\"2022-09-23T19:00:00\",\"2022-09-23T19:15:00\",\"2022-09-23T19:30:00\",\"2022-09-23T19:45:00\",\"2022-09-23T20:00:00\",\"2022-09-23T20:15:00\",\"2022-09-23T20:30:00\",\"2022-09-23T20:45:00\",\"2022-09-23T21:00:00\",\"2022-09-23T21:15:00\",\"2022-09-23T21:30:00\",\"2022-09-23T21:45:00\",\"2022-09-23T22:00:00\",\"2022-09-23T22:15:00\",\"2022-09-23T22:30:00\",\"2022-09-23T22:45:00\",\"2022-09-23T23:00:00\",\"2022-09-23T23:15:00\",\"2022-09-23T23:30:00\",\"2022-09-23T23:45:00\",\"2022-09-24T00:00:00\",\"2022-09-24T00:15:00\",\"2022-09-24T00:30:00\",\"2022-09-24T00:45:00\",\"2022-09-24T01:00:00\",\"2022-09-24T01:15:00\",\"2022-09-24T01:30:00\",\"2022-09-24T01:45:00\",\"2022-09-24T02:00:00\",\"2022-09-24T02:15:00\",\"2022-09-24T02:30:00\",\"2022-09-24T02:45:00\",\"2022-09-24T03:00:00\",\"2022-09-24T03:15:00\",\"2022-09-24T03:30:00\",\"2022-09-24T03:45:00\",\"2022-09-24T04:00:00\",\"2022-09-24T04:15:00\",\"2022-09-24T04:30:00\",\"2022-09-24T04:45:00\",\"2022-09-24T05:00:00\",\"2022-09-24T05:15:00\",\"2022-09-24T05:30:00\",\"2022-09-24T05:45:00\",\"2022-09-24T06:00:00\",\"2022-09-24T06:15:00\",\"2022-09-24T06:30:00\",\"2022-09-24T06:45:00\",\"2022-09-24T07:00:00\",\"2022-09-24T07:15:00\",\"2022-09-24T07:30:00\",\"2022-09-24T07:45:00\",\"2022-09-24T08:00:00\",\"2022-09-24T08:15:00\",\"2022-09-24T08:30:00\",\"2022-09-24T08:45:00\",\"2022-09-24T09:00:00\",\"2022-09-24T09:15:00\",\"2022-09-24T09:30:00\",\"2022-09-24T09:45:00\",\"2022-09-24T10:00:00\",\"2022-09-24T10:15:00\",\"2022-09-24T10:30:00\",\"2022-09-24T10:45:00\",\"2022-09-24T11:00:00\",\"2022-09-24T11:15:00\",\"2022-09-24T11:30:00\",\"2022-09-24T11:45:00\",\"2022-09-24T12:00:00\",\"2022-09-24T12:15:00\",\"2022-09-24T12:30:00\",\"2022-09-24T12:45:00\",\"2022-09-24T13:00:00\",\"2022-09-24T13:15:00\",\"2022-09-24T13:30:00\",\"2022-09-24T13:45:00\",\"2022-09-24T14:00:00\",\"2022-09-24T14:15:00\",\"2022-09-24T14:30:00\",\"2022-09-24T14:45:00\",\"2022-09-24T15:00:00\",\"2022-09-24T15:15:00\",\"2022-09-24T15:30:00\",\"2022-09-24T15:45:00\",\"2022-09-24T16:00:00\",\"2022-09-24T16:15:00\",\"2022-09-24T16:30:00\",\"2022-09-24T16:45:00\",\"2022-09-24T17:00:00\",\"2022-09-24T17:15:00\",\"2022-09-24T17:30:00\",\"2022-09-24T17:45:00\",\"2022-09-24T18:00:00\",\"2022-09-24T18:15:00\",\"2022-09-24T18:30:00\",\"2022-09-24T18:45:00\",\"2022-09-24T19:00:00\",\"2022-09-24T19:15:00\",\"2022-09-24T19:30:00\",\"2022-09-24T19:45:00\",\"2022-09-24T20:00:00\",\"2022-09-24T20:15:00\",\"2022-09-24T20:30:00\",\"2022-09-24T20:45:00\",\"2022-09-24T21:00:00\",\"2022-09-24T21:15:00\",\"2022-09-24T21:30:00\",\"2022-09-24T21:45:00\",\"2022-09-24T22:00:00\",\"2022-09-24T22:15:00\",\"2022-09-24T22:30:00\",\"2022-09-24T22:45:00\",\"2022-09-24T23:00:00\",\"2022-09-24T23:15:00\",\"2022-09-24T23:30:00\",\"2022-09-24T23:45:00\",\"2022-09-25T00:00:00\",\"2022-09-25T00:15:00\",\"2022-09-25T00:30:00\",\"2022-09-25T00:45:00\",\"2022-09-25T01:00:00\",\"2022-09-25T01:15:00\",\"2022-09-25T01:30:00\",\"2022-09-25T01:45:00\",\"2022-09-25T02:00:00\",\"2022-09-25T02:15:00\",\"2022-09-25T02:30:00\",\"2022-09-25T02:45:00\",\"2022-09-25T03:00:00\",\"2022-09-25T03:15:00\",\"2022-09-25T03:30:00\",\"2022-09-25T03:45:00\",\"2022-09-25T04:00:00\",\"2022-09-25T04:15:00\",\"2022-09-25T04:30:00\",\"2022-09-25T04:45:00\",\"2022-09-25T05:00:00\",\"2022-09-25T05:15:00\",\"2022-09-25T05:30:00\",\"2022-09-25T05:45:00\",\"2022-09-25T06:00:00\",\"2022-09-25T06:15:00\",\"2022-09-25T06:30:00\",\"2022-09-25T06:45:00\",\"2022-09-25T07:00:00\",\"2022-09-25T07:15:00\",\"2022-09-25T07:30:00\",\"2022-09-25T07:45:00\",\"2022-09-25T08:00:00\",\"2022-09-25T08:15:00\",\"2022-09-25T08:30:00\",\"2022-09-25T08:45:00\",\"2022-09-25T09:00:00\",\"2022-09-25T09:15:00\",\"2022-09-25T09:30:00\",\"2022-09-25T09:45:00\",\"2022-09-25T10:00:00\",\"2022-09-25T10:15:00\",\"2022-09-25T10:30:00\",\"2022-09-25T10:45:00\",\"2022-09-25T11:00:00\",\"2022-09-25T11:15:00\",\"2022-09-25T11:30:00\",\"2022-09-25T11:45:00\",\"2022-09-25T12:00:00\",\"2022-09-25T12:15:00\",\"2022-09-25T12:30:00\",\"2022-09-25T12:45:00\",\"2022-09-25T13:00:00\",\"2022-09-25T13:15:00\",\"2022-09-25T13:30:00\",\"2022-09-25T13:45:00\",\"2022-09-25T14:00:00\",\"2022-09-25T14:15:00\",\"2022-09-25T14:30:00\",\"2022-09-25T14:45:00\",\"2022-09-25T15:00:00\",\"2022-09-25T15:15:00\",\"2022-09-25T15:30:00\",\"2022-09-25T15:45:00\",\"2022-09-25T16:00:00\",\"2022-09-25T16:15:00\",\"2022-09-25T16:30:00\",\"2022-09-25T16:45:00\",\"2022-09-25T17:00:00\",\"2022-09-25T17:15:00\",\"2022-09-25T17:30:00\",\"2022-09-25T17:45:00\",\"2022-09-25T18:00:00\",\"2022-09-25T18:15:00\",\"2022-09-25T18:30:00\",\"2022-09-25T18:45:00\",\"2022-09-25T19:00:00\",\"2022-09-25T19:15:00\",\"2022-09-25T19:30:00\",\"2022-09-25T19:45:00\",\"2022-09-25T20:00:00\",\"2022-09-25T20:15:00\",\"2022-09-25T20:30:00\",\"2022-09-25T20:45:00\",\"2022-09-25T21:00:00\",\"2022-09-25T21:15:00\",\"2022-09-25T21:30:00\",\"2022-09-25T21:45:00\",\"2022-09-25T22:00:00\",\"2022-09-25T22:15:00\",\"2022-09-25T22:30:00\",\"2022-09-25T22:45:00\",\"2022-09-25T23:00:00\",\"2022-09-25T23:15:00\",\"2022-09-25T23:30:00\",\"2022-09-25T23:45:00\",\"2022-09-26T00:00:00\",\"2022-09-26T00:15:00\",\"2022-09-26T00:30:00\",\"2022-09-26T00:45:00\",\"2022-09-26T01:00:00\",\"2022-09-26T01:15:00\",\"2022-09-26T01:30:00\",\"2022-09-26T01:45:00\",\"2022-09-26T02:00:00\",\"2022-09-26T02:15:00\",\"2022-09-26T02:30:00\",\"2022-09-26T02:45:00\",\"2022-09-26T03:00:00\",\"2022-09-26T03:15:00\",\"2022-09-26T03:30:00\",\"2022-09-26T03:45:00\",\"2022-09-26T04:00:00\",\"2022-09-26T04:15:00\",\"2022-09-26T04:30:00\",\"2022-09-26T04:45:00\",\"2022-09-26T05:00:00\",\"2022-09-26T05:15:00\",\"2022-09-26T05:30:00\",\"2022-09-26T05:45:00\",\"2022-09-26T06:00:00\",\"2022-09-26T06:15:00\",\"2022-09-26T06:30:00\",\"2022-09-26T06:45:00\",\"2022-09-26T07:00:00\",\"2022-09-26T07:15:00\",\"2022-09-26T07:30:00\",\"2022-09-26T07:45:00\",\"2022-09-26T08:00:00\",\"2022-09-26T08:15:00\",\"2022-09-26T08:30:00\",\"2022-09-26T08:45:00\",\"2022-09-26T09:00:00\",\"2022-09-26T09:15:00\",\"2022-09-26T09:30:00\",\"2022-09-26T09:45:00\",\"2022-09-26T10:00:00\",\"2022-09-26T10:15:00\",\"2022-09-26T10:30:00\",\"2022-09-26T10:45:00\",\"2022-09-26T11:00:00\",\"2022-09-26T11:15:00\",\"2022-09-26T11:30:00\",\"2022-09-26T11:45:00\",\"2022-09-26T12:00:00\",\"2022-09-26T12:15:00\",\"2022-09-26T12:30:00\",\"2022-09-26T12:45:00\",\"2022-09-26T13:00:00\"],\"xaxis\":\"x\",\"y\":[0.4593437945791726,0.44935805991440797,1.0,0.8145506419400856,0.5064194008559201,0.5007132667617689,0.47360912981455067,0.44079885877318115,0.47360912981455067,0.6105563480741797,0.5092724679029957,0.5064194008559201,0.572039942938659,0.572039942938659,0.5520684736091298,0.5977175463623395,0.5634807417974322,0.5834522111269614,0.5092724679029957,0.4479315263908702,0.4037089871611983,0.3152639087018545,0.268188302425107,0.16833095577746077,0.1768901569186876,0.06990014265335236,0.1840228245363766,0.17118402282453637,0.08559201141226819,0.1840228245363766,0.19828815977175462,0.21540656205420827,0.2796005706134094,0.2767475035663338,0.09557774607703282,0.029957203994293864,0.33666191155492153,0.19828815977175462,0.07132667617689016,0.0912981455064194,0.09415121255349501,0.037089871611982884,0.10841654778887304,0.14407988587731813,0.16262482168330955,0.16975748930099857,0.09557774607703282,0.07132667617689016,0.05135520684736091,0.05135520684736091,0.07703281027104136,0.07132667617689016,0.17261055634807418,0.16547788873038516,0.09272467902995721,0.11840228245363767,0.15263908701854492,0.14978601997146934,0.09843081312410841,0.08273894436519258,0.15406562054208273,0.19971469329529243,0.14550641940085593,0.19828815977175462,0.2225392296718973,0.16690442225392296,0.08273894436519258,0.042796005706134094,0.09985734664764621,0.12838801711840228,0.18544935805991442,0.09700427960057062,0.19258202567760344,0.24536376604850213,0.4536376604850214,0.44365192582025675,0.4222539229671897,0.38088445078459343,0.4108416547788873,0.19971469329529243,0.09700427960057062,0.15406562054208273,0.2553495007132668,0.23252496433666192,0.21825962910128388,0.35805991440798857,0.5649072753209701,0.5691868758915835,0.5592011412268189,0.5449358059914408,0.557774607703281,0.42653352353780316,0.4450784593437946,0.4893009985734665,0.34522111269614836,0.4136947218259629,0.4579172610556348,0.5420827389443652,0.15977175463623394,0.08416547788873038,0.07275320970042796,0.06276747503566334,0.16975748930099857,0.33951497860199714,0.38088445078459343,0.3680456490727532,0.1768901569186876,0.14265335235378032,0.07132667617689016,0.15121255349500715,0.08273894436519258,0.11697574893009986,0.14978601997146934,0.024251069900142655,0.07560627674750357,0.1383737517831669,0.21540656205420827,0.2710413694721826,0.1783166904422254,0.19400855920114124,0.25677603423680456,0.14122681883024252,0.26961483594864477,0.05563480741797432,0.05848787446504993,0.14122681883024252,0.06276747503566334,0.15691868758915833,0.14835948644793154,0.14265335235378032,0.1825962910128388,0.09700427960057062,0.17261055634807418,0.19686162624821682,0.11269614835948645,0.1768901569186876,0.011412268188302425,0.011412268188302425,0.029957203994293864,0.09843081312410841,0.09415121255349501,0.0898716119828816,0.05135520684736091,0.029957203994293864,0.06990014265335236,0.042796005706134094,0.05848787446504993,0.06276747503566334,0.08273894436519258,0.0912981455064194,0.16547788873038516,0.07417974322396577,0.09415121255349501,0.047075606276747506,0.11982881597717546,0.19828815977175462,0.20684736091298145,0.09415121255349501,0.19115549215406563,0.12981455064194009,0.08701854493580599,0.1383737517831669,0.09272467902995721,0.17403708987161198,0.2396576319543509,0.2553495007132668,0.17261055634807418,0.09843081312410841,0.11982881597717546,0.1840228245363766,0.10128388017118402,0.1398002853067047,0.11126961483594865,0.1754636233951498,0.15977175463623394,0.11554921540656206,0.2296718972895863,0.2995720399429387,0.15263908701854492,0.08416547788873038,0.1312410841654779,0.052781740370898715,0.037089871611982884,0.037089871611982884,0.08416547788873038,0.06134094151212553,0.12268188302425106,0.26390870185449355,0.25962910128388017,0.24821683309557774,0.33523537803138376,0.12268188302425106,0.14835948644793154,0.20970042796005706,0.14978601997146934,0.10699001426533523,0.2239657631954351,0.20542082738944364,0.1369472182596291,0.20399429386590584,0.2810271041369472,0.14550641940085593,0.2253922967189729,0.24536376604850213,0.20256776034236804,0.09415121255349501,0.16833095577746077,0.10413694721825963,0.16119828815977175,0.05135520684736091,0.09985734664764621,0.16690442225392296,0.24821683309557774,0.24251069900142652,0.2724679029957204,0.14835948644793154,0.11412268188302425,0.1797432239657632,0.2867332382310984,0.340941512125535,0.10413694721825963,0.11269614835948645,0.034236804564907276,0.15977175463623394,0.02710413694721826,0.06562054208273894,0.08273894436519258,0.10556348074179743,0.02710413694721826,0.05991440798858773,0.12268188302425106,0.05848787446504993,0.03566333808844508,0.16690442225392296,0.181169757489301,0.12838801711840228,0.08273894436519258,0.11412268188302425,0.18830242510699002,0.09272467902995721,0.06990014265335236,0.10271041369472182,0.16547788873038516,0.15977175463623394,0.0898716119828816,0.06134094151212553,0.15263908701854492,0.09843081312410841,0.1312410841654779,0.09415121255349501,0.04992867332382311,0.12410841654778887,0.028530670470756064,0.028530670470756064,0.10556348074179743,0.11697574893009986,0.0884450784593438,0.0442225392296719,0.0442225392296719,0.14978601997146934,0.042796005706134094,0.039942938659058486,0.05563480741797432,0.07275320970042796,0.05135520684736091,0.11554921540656206,0.15406562054208273,0.07845934379457917,0.14693295292439373,0.1768901569186876,0.16975748930099857,0.11840228245363767,0.03281027104136947,0.07132667617689016,0.11126961483594865,0.1340941512125535,0.1840228245363766,0.26105563480741795,0.3509272467902996,0.3281027104136947,0.2553495007132668,0.26676176890156916,0.2296718972895863,0.2810271041369472,0.47218259629101283,0.16975748930099857,0.12125534950071326,0.10984308131241084,0.14265335235378032,0.16690442225392296,0.24964336661911554,0.23109843081312412,0.21683309557774608,0.19115549215406563,0.2225392296718973,0.10556348074179743,0.1312410841654779,0.3095577746077033,0.33808844507845937,0.39514978601997147,0.16833095577746077,0.11412268188302425,0.29101283880171186,0.5035663338088445,0.5777460770328102,0.3281027104136947,0.19115549215406563,0.3195435092724679,0.1825962910128388,0.2239657631954351,0.2767475035663338,0.5534950071326676,0.5634807417974322,0.4522111269614836,0.29529243937232524,0.6134094151212554,0.6562054208273894,0.33951497860199714,0.33951497860199714,0.3466476462196862,0.21825962910128388,0.18687589158345222,0.2268188302425107,0.20399429386590584,0.1383737517831669,0.4122681883024251,0.3281027104136947,0.06847360912981455,0.12838801711840228,0.31383737517831667,0.2225392296718973,0.16405135520684735,0.31098430813124106,0.32667617689015693,0.536376604850214,0.1768901569186876,0.2268188302425107,0.5392296718972895,0.06704707560627675,0.05991440798858773,0.03138373751783167,0.03138373751783167,0.06276747503566334,0.03138373751783167,0.019971469329529243,0.06704707560627675,0.04136947218259629,0.2239657631954351,0.2524964336661912,0.07560627674750357,0.21968616262482168,0.3437945791726106,0.2524964336661912,0.1754636233951498,0.181169757489301,0.2211126961483595,0.19828815977175462,0.16119828815977175,0.289586305278174,0.2239657631954351,0.18544935805991442,0.14835948644793154,0.3067047075606277,0.30385164051355207,0.4094151212553495,0.2967189728958631,0.21112696148359486,0.3680456490727532,0.3609129814550642,0.28815977175463625,0.19971469329529243,0.16405135520684735,0.29386590584878747,0.29814550641940085,0.20256776034236804,0.19828815977175462],\"yaxis\":\"y\",\"type\":\"scatter\"}],                        {\"template\":{\"data\":{\"histogram2dcontour\":[{\"type\":\"histogram2dcontour\",\"colorbar\":{\"outlinewidth\":0,\"ticks\":\"\"},\"colorscale\":[[0.0,\"#0d0887\"],[0.1111111111111111,\"#46039f\"],[0.2222222222222222,\"#7201a8\"],[0.3333333333333333,\"#9c179e\"],[0.4444444444444444,\"#bd3786\"],[0.5555555555555556,\"#d8576b\"],[0.6666666666666666,\"#ed7953\"],[0.7777777777777778,\"#fb9f3a\"],[0.8888888888888888,\"#fdca26\"],[1.0,\"#f0f921\"]]}],\"choropleth\":[{\"type\":\"choropleth\",\"colorbar\":{\"outlinewidth\":0,\"ticks\":\"\"}}],\"histogram2d\":[{\"type\":\"histogram2d\",\"colorbar\":{\"outlinewidth\":0,\"ticks\":\"\"},\"colorscale\":[[0.0,\"#0d0887\"],[0.1111111111111111,\"#46039f\"],[0.2222222222222222,\"#7201a8\"],[0.3333333333333333,\"#9c179e\"],[0.4444444444444444,\"#bd3786\"],[0.5555555555555556,\"#d8576b\"],[0.6666666666666666,\"#ed7953\"],[0.7777777777777778,\"#fb9f3a\"],[0.8888888888888888,\"#fdca26\"],[1.0,\"#f0f921\"]]}],\"heatmap\":[{\"type\":\"heatmap\",\"colorbar\":{\"outlinewidth\":0,\"ticks\":\"\"},\"colorscale\":[[0.0,\"#0d0887\"],[0.1111111111111111,\"#46039f\"],[0.2222222222222222,\"#7201a8\"],[0.3333333333333333,\"#9c179e\"],[0.4444444444444444,\"#bd3786\"],[0.5555555555555556,\"#d8576b\"],[0.6666666666666666,\"#ed7953\"],[0.7777777777777778,\"#fb9f3a\"],[0.8888888888888888,\"#fdca26\"],[1.0,\"#f0f921\"]]}],\"heatmapgl\":[{\"type\":\"heatmapgl\",\"colorbar\":{\"outlinewidth\":0,\"ticks\":\"\"},\"colorscale\":[[0.0,\"#0d0887\"],[0.1111111111111111,\"#46039f\"],[0.2222222222222222,\"#7201a8\"],[0.3333333333333333,\"#9c179e\"],[0.4444444444444444,\"#bd3786\"],[0.5555555555555556,\"#d8576b\"],[0.6666666666666666,\"#ed7953\"],[0.7777777777777778,\"#fb9f3a\"],[0.8888888888888888,\"#fdca26\"],[1.0,\"#f0f921\"]]}],\"contourcarpet\":[{\"type\":\"contourcarpet\",\"colorbar\":{\"outlinewidth\":0,\"ticks\":\"\"}}],\"contour\":[{\"type\":\"contour\",\"colorbar\":{\"outlinewidth\":0,\"ticks\":\"\"},\"colorscale\":[[0.0,\"#0d0887\"],[0.1111111111111111,\"#46039f\"],[0.2222222222222222,\"#7201a8\"],[0.3333333333333333,\"#9c179e\"],[0.4444444444444444,\"#bd3786\"],[0.5555555555555556,\"#d8576b\"],[0.6666666666666666,\"#ed7953\"],[0.7777777777777778,\"#fb9f3a\"],[0.8888888888888888,\"#fdca26\"],[1.0,\"#f0f921\"]]}],\"surface\":[{\"type\":\"surface\",\"colorbar\":{\"outlinewidth\":0,\"ticks\":\"\"},\"colorscale\":[[0.0,\"#0d0887\"],[0.1111111111111111,\"#46039f\"],[0.2222222222222222,\"#7201a8\"],[0.3333333333333333,\"#9c179e\"],[0.4444444444444444,\"#bd3786\"],[0.5555555555555556,\"#d8576b\"],[0.6666666666666666,\"#ed7953\"],[0.7777777777777778,\"#fb9f3a\"],[0.8888888888888888,\"#fdca26\"],[1.0,\"#f0f921\"]]}],\"mesh3d\":[{\"type\":\"mesh3d\",\"colorbar\":{\"outlinewidth\":0,\"ticks\":\"\"}}],\"scatter\":[{\"fillpattern\":{\"fillmode\":\"overlay\",\"size\":10,\"solidity\":0.2},\"type\":\"scatter\"}],\"parcoords\":[{\"type\":\"parcoords\",\"line\":{\"colorbar\":{\"outlinewidth\":0,\"ticks\":\"\"}}}],\"scatterpolargl\":[{\"type\":\"scatterpolargl\",\"marker\":{\"colorbar\":{\"outlinewidth\":0,\"ticks\":\"\"}}}],\"bar\":[{\"error_x\":{\"color\":\"#2a3f5f\"},\"error_y\":{\"color\":\"#2a3f5f\"},\"marker\":{\"line\":{\"color\":\"#E5ECF6\",\"width\":0.5},\"pattern\":{\"fillmode\":\"overlay\",\"size\":10,\"solidity\":0.2}},\"type\":\"bar\"}],\"scattergeo\":[{\"type\":\"scattergeo\",\"marker\":{\"colorbar\":{\"outlinewidth\":0,\"ticks\":\"\"}}}],\"scatterpolar\":[{\"type\":\"scatterpolar\",\"marker\":{\"colorbar\":{\"outlinewidth\":0,\"ticks\":\"\"}}}],\"histogram\":[{\"marker\":{\"pattern\":{\"fillmode\":\"overlay\",\"size\":10,\"solidity\":0.2}},\"type\":\"histogram\"}],\"scattergl\":[{\"type\":\"scattergl\",\"marker\":{\"colorbar\":{\"outlinewidth\":0,\"ticks\":\"\"}}}],\"scatter3d\":[{\"type\":\"scatter3d\",\"line\":{\"colorbar\":{\"outlinewidth\":0,\"ticks\":\"\"}},\"marker\":{\"colorbar\":{\"outlinewidth\":0,\"ticks\":\"\"}}}],\"scattermapbox\":[{\"type\":\"scattermapbox\",\"marker\":{\"colorbar\":{\"outlinewidth\":0,\"ticks\":\"\"}}}],\"scatterternary\":[{\"type\":\"scatterternary\",\"marker\":{\"colorbar\":{\"outlinewidth\":0,\"ticks\":\"\"}}}],\"scattercarpet\":[{\"type\":\"scattercarpet\",\"marker\":{\"colorbar\":{\"outlinewidth\":0,\"ticks\":\"\"}}}],\"carpet\":[{\"aaxis\":{\"endlinecolor\":\"#2a3f5f\",\"gridcolor\":\"white\",\"linecolor\":\"white\",\"minorgridcolor\":\"white\",\"startlinecolor\":\"#2a3f5f\"},\"baxis\":{\"endlinecolor\":\"#2a3f5f\",\"gridcolor\":\"white\",\"linecolor\":\"white\",\"minorgridcolor\":\"white\",\"startlinecolor\":\"#2a3f5f\"},\"type\":\"carpet\"}],\"table\":[{\"cells\":{\"fill\":{\"color\":\"#EBF0F8\"},\"line\":{\"color\":\"white\"}},\"header\":{\"fill\":{\"color\":\"#C8D4E3\"},\"line\":{\"color\":\"white\"}},\"type\":\"table\"}],\"barpolar\":[{\"marker\":{\"line\":{\"color\":\"#E5ECF6\",\"width\":0.5},\"pattern\":{\"fillmode\":\"overlay\",\"size\":10,\"solidity\":0.2}},\"type\":\"barpolar\"}],\"pie\":[{\"automargin\":true,\"type\":\"pie\"}]},\"layout\":{\"autotypenumbers\":\"strict\",\"colorway\":[\"#636efa\",\"#EF553B\",\"#00cc96\",\"#ab63fa\",\"#FFA15A\",\"#19d3f3\",\"#FF6692\",\"#B6E880\",\"#FF97FF\",\"#FECB52\"],\"font\":{\"color\":\"#2a3f5f\"},\"hovermode\":\"closest\",\"hoverlabel\":{\"align\":\"left\"},\"paper_bgcolor\":\"white\",\"plot_bgcolor\":\"#E5ECF6\",\"polar\":{\"bgcolor\":\"#E5ECF6\",\"angularaxis\":{\"gridcolor\":\"white\",\"linecolor\":\"white\",\"ticks\":\"\"},\"radialaxis\":{\"gridcolor\":\"white\",\"linecolor\":\"white\",\"ticks\":\"\"}},\"ternary\":{\"bgcolor\":\"#E5ECF6\",\"aaxis\":{\"gridcolor\":\"white\",\"linecolor\":\"white\",\"ticks\":\"\"},\"baxis\":{\"gridcolor\":\"white\",\"linecolor\":\"white\",\"ticks\":\"\"},\"caxis\":{\"gridcolor\":\"white\",\"linecolor\":\"white\",\"ticks\":\"\"}},\"coloraxis\":{\"colorbar\":{\"outlinewidth\":0,\"ticks\":\"\"}},\"colorscale\":{\"sequential\":[[0.0,\"#0d0887\"],[0.1111111111111111,\"#46039f\"],[0.2222222222222222,\"#7201a8\"],[0.3333333333333333,\"#9c179e\"],[0.4444444444444444,\"#bd3786\"],[0.5555555555555556,\"#d8576b\"],[0.6666666666666666,\"#ed7953\"],[0.7777777777777778,\"#fb9f3a\"],[0.8888888888888888,\"#fdca26\"],[1.0,\"#f0f921\"]],\"sequentialminus\":[[0.0,\"#0d0887\"],[0.1111111111111111,\"#46039f\"],[0.2222222222222222,\"#7201a8\"],[0.3333333333333333,\"#9c179e\"],[0.4444444444444444,\"#bd3786\"],[0.5555555555555556,\"#d8576b\"],[0.6666666666666666,\"#ed7953\"],[0.7777777777777778,\"#fb9f3a\"],[0.8888888888888888,\"#fdca26\"],[1.0,\"#f0f921\"]],\"diverging\":[[0,\"#8e0152\"],[0.1,\"#c51b7d\"],[0.2,\"#de77ae\"],[0.3,\"#f1b6da\"],[0.4,\"#fde0ef\"],[0.5,\"#f7f7f7\"],[0.6,\"#e6f5d0\"],[0.7,\"#b8e186\"],[0.8,\"#7fbc41\"],[0.9,\"#4d9221\"],[1,\"#276419\"]]},\"xaxis\":{\"gridcolor\":\"white\",\"linecolor\":\"white\",\"ticks\":\"\",\"title\":{\"standoff\":15},\"zerolinecolor\":\"white\",\"automargin\":true,\"zerolinewidth\":2},\"yaxis\":{\"gridcolor\":\"white\",\"linecolor\":\"white\",\"ticks\":\"\",\"title\":{\"standoff\":15},\"zerolinecolor\":\"white\",\"automargin\":true,\"zerolinewidth\":2},\"scene\":{\"xaxis\":{\"backgroundcolor\":\"#E5ECF6\",\"gridcolor\":\"white\",\"linecolor\":\"white\",\"showbackground\":true,\"ticks\":\"\",\"zerolinecolor\":\"white\",\"gridwidth\":2},\"yaxis\":{\"backgroundcolor\":\"#E5ECF6\",\"gridcolor\":\"white\",\"linecolor\":\"white\",\"showbackground\":true,\"ticks\":\"\",\"zerolinecolor\":\"white\",\"gridwidth\":2},\"zaxis\":{\"backgroundcolor\":\"#E5ECF6\",\"gridcolor\":\"white\",\"linecolor\":\"white\",\"showbackground\":true,\"ticks\":\"\",\"zerolinecolor\":\"white\",\"gridwidth\":2}},\"shapedefaults\":{\"line\":{\"color\":\"#2a3f5f\"}},\"annotationdefaults\":{\"arrowcolor\":\"#2a3f5f\",\"arrowhead\":0,\"arrowwidth\":1},\"geo\":{\"bgcolor\":\"white\",\"landcolor\":\"#E5ECF6\",\"subunitcolor\":\"white\",\"showland\":true,\"showlakes\":true,\"lakecolor\":\"white\"},\"title\":{\"x\":0.05},\"mapbox\":{\"style\":\"light\"}}},\"xaxis\":{\"anchor\":\"y\",\"domain\":[0.0,1.0],\"title\":{\"text\":\"date\"}},\"yaxis\":{\"anchor\":\"x\",\"domain\":[0.0,1.0],\"title\":{\"text\":\"value\"}},\"legend\":{\"title\":{\"text\":\"variable\"},\"tracegroupgap\":0},\"margin\":{\"t\":60}},                        {\"responsive\": true}                    ).then(function(){\n",
       "                            \n",
       "var gd = document.getElementById('69f5db44-9967-426e-a0e0-3f64ee052d46');\n",
       "var x = new MutationObserver(function (mutations, observer) {{\n",
       "        var display = window.getComputedStyle(gd).display;\n",
       "        if (!display || display === 'none') {{\n",
       "            console.log([gd, 'removed!']);\n",
       "            Plotly.purge(gd);\n",
       "            observer.disconnect();\n",
       "        }}\n",
       "}});\n",
       "\n",
       "// Listen for the removal of the full notebook cells\n",
       "var notebookContainer = gd.closest('#notebook-container');\n",
       "if (notebookContainer) {{\n",
       "    x.observe(notebookContainer, {childList: true});\n",
       "}}\n",
       "\n",
       "// Listen for the clearing of the current output cell\n",
       "var outputEl = gd.closest('.output');\n",
       "if (outputEl) {{\n",
       "    x.observe(outputEl, {childList: true});\n",
       "}}\n",
       "\n",
       "                        })                };                });            </script>        </div>"
      ]
     },
     "metadata": {},
     "output_type": "display_data"
    }
   ],
   "source": [
    "alllogdf.plot(x=\"date\", y=[\"normalized energy\", \"normalized requests\"], kind=\"line\")"
   ]
  }
 ],
 "metadata": {
  "kernelspec": {
   "display_name": "Python 3 (ipykernel)",
   "language": "python",
   "name": "python3"
  },
  "language_info": {
   "codemirror_mode": {
    "name": "ipython",
    "version": 3
   },
   "file_extension": ".py",
   "mimetype": "text/x-python",
   "name": "python",
   "nbconvert_exporter": "python",
   "pygments_lexer": "ipython3",
   "version": "3.9.12"
  }
 },
 "nbformat": 4,
 "nbformat_minor": 5
}
