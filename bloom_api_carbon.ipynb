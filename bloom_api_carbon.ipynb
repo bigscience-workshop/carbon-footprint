{
 "cells": [
  {
   "cell_type": "code",
   "execution_count": 1,
   "id": "48f7fdd0",
   "metadata": {},
   "outputs": [],
   "source": [
    "import os\n",
    "import matplotlib\n",
    "import numpy as np\n",
    "import pandas as pd\n",
    "import csv\n",
    "import datetime\n",
    "from collections import Counter\n",
    "\n",
    "pd.set_option('display.max_columns', 1000)  # or 1000\n",
    "pd.set_option('display.max_rows', 1000)  # or 1000\n",
    "pd.set_option('display.max_colwidth', None) \n",
    "pd.options.plotting.backend = \"plotly\""
   ]
  },
  {
   "cell_type": "code",
   "execution_count": 2,
   "id": "8d88f29c",
   "metadata": {},
   "outputs": [],
   "source": [
    "directory = \"API-logs/\""
   ]
  },
  {
   "cell_type": "markdown",
   "id": "a34f4cf2",
   "metadata": {},
   "source": [
    "### Code Carbon logs"
   ]
  },
  {
   "cell_type": "code",
   "execution_count": 79,
   "id": "1b752384",
   "metadata": {},
   "outputs": [],
   "source": [
    "carbondf = pd.DataFrame(columns = ['date', 'timestamp', 'RAM energy', 'GPU energy', 'GPU power', 'CPU energy', 'Energy consumed'])"
   ]
  },
  {
   "cell_type": "code",
   "execution_count": 80,
   "id": "fd2c88a3",
   "metadata": {},
   "outputs": [
    {
     "data": {
      "text/plain": [
       "143138"
      ]
     },
     "execution_count": 80,
     "metadata": {},
     "output_type": "execute_result"
    }
   ],
   "source": [
    "ins=[]\n",
    "with open(directory+'carbon.log' , 'r') as f:\n",
    "    lines = f.readlines() # readlines creates a list of the lines\n",
    "    for line in lines:\n",
    "        if 'Sep' in line:\n",
    "            ins.append(lines.index(line))\n",
    "len(lines)"
   ]
  },
  {
   "cell_type": "code",
   "execution_count": 81,
   "id": "5f423497",
   "metadata": {},
   "outputs": [
    {
     "name": "stdout",
     "output_type": "stream",
     "text": [
      "13408\n",
      "36577\n",
      "36573\n",
      "36577\n",
      "20003\n"
     ]
    }
   ],
   "source": [
    "alldates, sep22, sep23, sep24, sep25, sep26= [], [], [], [], [], []\n",
    "sep22 = lines[ins[0]:ins[1]]\n",
    "print(len(sep22))\n",
    "alldates.append(sep22)\n",
    "sep23 = lines[ins[1]:ins[2]]\n",
    "print(len(sep23))\n",
    "alldates.append(sep23)\n",
    "sep24 = lines[ins[2]:ins[3]]\n",
    "alldates.append(sep24)\n",
    "print(len(sep24))\n",
    "sep25 = lines[ins[3]:ins[4]]\n",
    "alldates.append(sep25)\n",
    "print(len(sep25))\n",
    "sep26 = lines[ins[4]:len(lines)]\n",
    "alldates.append(sep26)\n",
    "print(len(sep26))"
   ]
  },
  {
   "cell_type": "code",
   "execution_count": 82,
   "id": "ae398086",
   "metadata": {},
   "outputs": [
    {
     "name": "stdout",
     "output_type": "stream",
     "text": [
      "22/Sep/2022\n",
      "13408\n",
      "23/Sep/2022\n",
      "36577\n",
      "24/Sep/2022\n",
      "36573\n",
      "25/Sep/2022\n",
      "36577\n",
      "26/Sep/2022\n",
      "20003\n"
     ]
    }
   ],
   "source": [
    "count=0\n",
    "for day in alldates: \n",
    "    date= day[0].replace('\\n','')\n",
    "    print(date)\n",
    "    print(len(day))\n",
    "    for i in range(1, len(day), 4):\n",
    "        for line in day[i:i + 4]:\n",
    "            try:\n",
    "                time = line.split('@')[1].split(']')[0].strip()\n",
    "            except:\n",
    "                continue\n",
    "            if 'RAM :' in line: \n",
    "                ram_nrj = line.split('Energy consumed for RAM :')[1].split('RAM')[0].replace('kWh.','')\n",
    "            elif 'GPUs'in line:\n",
    "                gpu_nrj = line.split('Energy consumed for all GPUs :')[1].split('All GPUs')[0].replace('kWh.','')\n",
    "                gpu_power = line.split('All GPUs Power : ')[1].replace('W','').strip()\n",
    "            elif 'CPUs' in line:\n",
    "                cpu_nrj= line.split('Energy consumed for all CPUs :')[1].split('All CPUs')[0].replace('kWh.','')\n",
    "            elif ' electricity used since the begining.' in line:\n",
    "                total_nrj = line.split(' electricity used since the begining.')[0].split(']')[1].replace(' of','').replace('kWh','')\n",
    "        carbondf.loc[count] = [date, time, ram_nrj, gpu_nrj, gpu_power, cpu_nrj, total_nrj]\n",
    "        count+=1"
   ]
  },
  {
   "cell_type": "code",
   "execution_count": 87,
   "id": "c1c382d1",
   "metadata": {},
   "outputs": [],
   "source": [
    "carbondf[\"Energy consumed\"] = pd.to_numeric(carbondf[\"Energy consumed\"])\n",
    "carbondf[\"GPU power\"] = pd.to_numeric(carbondf[\"GPU power\"])"
   ]
  },
  {
   "cell_type": "code",
   "execution_count": 88,
   "id": "f3d02df1",
   "metadata": {},
   "outputs": [
    {
     "data": {
      "text/plain": [
       "(35784, 7)"
      ]
     },
     "execution_count": 88,
     "metadata": {},
     "output_type": "execute_result"
    }
   ],
   "source": [
    "carbondf.shape"
   ]
  },
  {
   "cell_type": "code",
   "execution_count": 89,
   "id": "8f2ced67",
   "metadata": {},
   "outputs": [
    {
     "data": {
      "text/plain": [
       "23/Sep/2022    9144\n",
       "25/Sep/2022    9144\n",
       "24/Sep/2022    9143\n",
       "26/Sep/2022    5001\n",
       "22/Sep/2022    3352\n",
       "Name: date, dtype: int64"
      ]
     },
     "execution_count": 89,
     "metadata": {},
     "output_type": "execute_result"
    }
   ],
   "source": [
    "carbondf.date.value_counts()"
   ]
  },
  {
   "cell_type": "code",
   "execution_count": 90,
   "id": "1359b315",
   "metadata": {},
   "outputs": [],
   "source": [
    "#carbondf = carbondf.sort_values('Energy consumed')\n",
    "#carbondf = carbondf.reset_index(drop=True)"
   ]
  },
  {
   "cell_type": "code",
   "execution_count": 91,
   "id": "0cf1179f",
   "metadata": {},
   "outputs": [
    {
     "data": {
      "text/html": [
       "<div>\n",
       "<style scoped>\n",
       "    .dataframe tbody tr th:only-of-type {\n",
       "        vertical-align: middle;\n",
       "    }\n",
       "\n",
       "    .dataframe tbody tr th {\n",
       "        vertical-align: top;\n",
       "    }\n",
       "\n",
       "    .dataframe thead th {\n",
       "        text-align: right;\n",
       "    }\n",
       "</style>\n",
       "<table border=\"1\" class=\"dataframe\">\n",
       "  <thead>\n",
       "    <tr style=\"text-align: right;\">\n",
       "      <th></th>\n",
       "      <th>date</th>\n",
       "      <th>timestamp</th>\n",
       "      <th>RAM energy</th>\n",
       "      <th>GPU energy</th>\n",
       "      <th>GPU power</th>\n",
       "      <th>CPU energy</th>\n",
       "      <th>Energy consumed</th>\n",
       "    </tr>\n",
       "  </thead>\n",
       "  <tbody>\n",
       "    <tr>\n",
       "      <th>0</th>\n",
       "      <td>22/Sep/2022</td>\n",
       "      <td>15:12:02</td>\n",
       "      <td>0.001395</td>\n",
       "      <td>0.006703</td>\n",
       "      <td>2412.392</td>\n",
       "      <td>0.000125</td>\n",
       "      <td>0.008222</td>\n",
       "    </tr>\n",
       "    <tr>\n",
       "      <th>1</th>\n",
       "      <td>22/Sep/2022</td>\n",
       "      <td>15:12:12</td>\n",
       "      <td>0.002708</td>\n",
       "      <td>0.013103</td>\n",
       "      <td>2446.520</td>\n",
       "      <td>0.000243</td>\n",
       "      <td>0.016054</td>\n",
       "    </tr>\n",
       "    <tr>\n",
       "      <th>2</th>\n",
       "      <td>22/Sep/2022</td>\n",
       "      <td>15:12:22</td>\n",
       "      <td>0.004022</td>\n",
       "      <td>0.021320</td>\n",
       "      <td>3138.044</td>\n",
       "      <td>0.000361</td>\n",
       "      <td>0.025703</td>\n",
       "    </tr>\n",
       "    <tr>\n",
       "      <th>3</th>\n",
       "      <td>22/Sep/2022</td>\n",
       "      <td>15:12:32</td>\n",
       "      <td>0.005333</td>\n",
       "      <td>0.024947</td>\n",
       "      <td>1389.091</td>\n",
       "      <td>0.000478</td>\n",
       "      <td>0.030758</td>\n",
       "    </tr>\n",
       "    <tr>\n",
       "      <th>4</th>\n",
       "      <td>22/Sep/2022</td>\n",
       "      <td>15:12:42</td>\n",
       "      <td>0.006658</td>\n",
       "      <td>0.028631</td>\n",
       "      <td>1395.522</td>\n",
       "      <td>0.000597</td>\n",
       "      <td>0.035886</td>\n",
       "    </tr>\n",
       "  </tbody>\n",
       "</table>\n",
       "</div>"
      ],
      "text/plain": [
       "          date timestamp   RAM energy   GPU energy  GPU power   CPU energy  \\\n",
       "0  22/Sep/2022  15:12:02   0.001395     0.006703     2412.392   0.000125     \n",
       "1  22/Sep/2022  15:12:12   0.002708     0.013103     2446.520   0.000243     \n",
       "2  22/Sep/2022  15:12:22   0.004022     0.021320     3138.044   0.000361     \n",
       "3  22/Sep/2022  15:12:32   0.005333     0.024947     1389.091   0.000478     \n",
       "4  22/Sep/2022  15:12:42   0.006658     0.028631     1395.522   0.000597     \n",
       "\n",
       "   Energy consumed  \n",
       "0         0.008222  \n",
       "1         0.016054  \n",
       "2         0.025703  \n",
       "3         0.030758  \n",
       "4         0.035886  "
      ]
     },
     "execution_count": 91,
     "metadata": {},
     "output_type": "execute_result"
    }
   ],
   "source": [
    "carbondf.head()"
   ]
  },
  {
   "cell_type": "code",
   "execution_count": 92,
   "id": "811a7c50",
   "metadata": {},
   "outputs": [],
   "source": [
    "carbondf['time'] = carbondf['date'] + ' ' + carbondf['timestamp'].astype(str)"
   ]
  },
  {
   "cell_type": "code",
   "execution_count": 93,
   "id": "dda02fbd",
   "metadata": {},
   "outputs": [],
   "source": [
    "carbondf['time'] = pd.to_datetime(carbondf['time'] , format= \"%d/%b/%Y %H:%M:%S\")"
   ]
  },
  {
   "cell_type": "code",
   "execution_count": 94,
   "id": "752af6d0",
   "metadata": {},
   "outputs": [
    {
     "data": {
      "text/html": [
       "<div>\n",
       "<style scoped>\n",
       "    .dataframe tbody tr th:only-of-type {\n",
       "        vertical-align: middle;\n",
       "    }\n",
       "\n",
       "    .dataframe tbody tr th {\n",
       "        vertical-align: top;\n",
       "    }\n",
       "\n",
       "    .dataframe thead th {\n",
       "        text-align: right;\n",
       "    }\n",
       "</style>\n",
       "<table border=\"1\" class=\"dataframe\">\n",
       "  <thead>\n",
       "    <tr style=\"text-align: right;\">\n",
       "      <th></th>\n",
       "      <th>date</th>\n",
       "      <th>timestamp</th>\n",
       "      <th>RAM energy</th>\n",
       "      <th>GPU energy</th>\n",
       "      <th>GPU power</th>\n",
       "      <th>CPU energy</th>\n",
       "      <th>Energy consumed</th>\n",
       "      <th>time</th>\n",
       "    </tr>\n",
       "  </thead>\n",
       "  <tbody>\n",
       "    <tr>\n",
       "      <th>35779</th>\n",
       "      <td>26/Sep/2022</td>\n",
       "      <td>13:07:07</td>\n",
       "      <td>44.674263</td>\n",
       "      <td>149.981416</td>\n",
       "      <td>1321.076</td>\n",
       "      <td>3.991420</td>\n",
       "      <td>198.645777</td>\n",
       "      <td>2022-09-26 13:07:07</td>\n",
       "    </tr>\n",
       "    <tr>\n",
       "      <th>35780</th>\n",
       "      <td>26/Sep/2022</td>\n",
       "      <td>13:07:08</td>\n",
       "      <td>44.674263</td>\n",
       "      <td>149.985048</td>\n",
       "      <td>1379.301</td>\n",
       "      <td>3.991539</td>\n",
       "      <td>198.650850</td>\n",
       "      <td>2022-09-26 13:07:08</td>\n",
       "    </tr>\n",
       "    <tr>\n",
       "      <th>35781</th>\n",
       "      <td>26/Sep/2022</td>\n",
       "      <td>13:07:08</td>\n",
       "      <td>44.674263</td>\n",
       "      <td>149.985048</td>\n",
       "      <td>1379.301</td>\n",
       "      <td>3.991539</td>\n",
       "      <td>198.650850</td>\n",
       "      <td>2022-09-26 13:07:08</td>\n",
       "    </tr>\n",
       "    <tr>\n",
       "      <th>35782</th>\n",
       "      <td>26/Sep/2022</td>\n",
       "      <td>13:07:17</td>\n",
       "      <td>44.675578</td>\n",
       "      <td>149.991459</td>\n",
       "      <td>2447.144</td>\n",
       "      <td>3.991539</td>\n",
       "      <td>198.650850</td>\n",
       "      <td>2022-09-26 13:07:17</td>\n",
       "    </tr>\n",
       "    <tr>\n",
       "      <th>35783</th>\n",
       "      <td>26/Sep/2022</td>\n",
       "      <td>13:07:18</td>\n",
       "      <td>44.675578</td>\n",
       "      <td>149.991459</td>\n",
       "      <td>2447.144</td>\n",
       "      <td>3.991657</td>\n",
       "      <td>198.658694</td>\n",
       "      <td>2022-09-26 13:07:18</td>\n",
       "    </tr>\n",
       "  </tbody>\n",
       "</table>\n",
       "</div>"
      ],
      "text/plain": [
       "              date timestamp    RAM energy     GPU energy  GPU power  \\\n",
       "35779  26/Sep/2022  13:07:07   44.674263     149.981416     1321.076   \n",
       "35780  26/Sep/2022  13:07:08   44.674263     149.985048     1379.301   \n",
       "35781  26/Sep/2022  13:07:08   44.674263     149.985048     1379.301   \n",
       "35782  26/Sep/2022  13:07:17   44.675578     149.991459     2447.144   \n",
       "35783  26/Sep/2022  13:07:18   44.675578     149.991459     2447.144   \n",
       "\n",
       "        CPU energy  Energy consumed                time  \n",
       "35779   3.991420         198.645777 2022-09-26 13:07:07  \n",
       "35780   3.991539         198.650850 2022-09-26 13:07:08  \n",
       "35781   3.991539         198.650850 2022-09-26 13:07:08  \n",
       "35782   3.991539         198.650850 2022-09-26 13:07:17  \n",
       "35783   3.991657         198.658694 2022-09-26 13:07:18  "
      ]
     },
     "execution_count": 94,
     "metadata": {},
     "output_type": "execute_result"
    }
   ],
   "source": [
    "carbondf.tail()"
   ]
  },
  {
   "cell_type": "code",
   "execution_count": 124,
   "id": "0831c01f",
   "metadata": {},
   "outputs": [],
   "source": [
    "carbondf['date']= carbondf.index"
   ]
  },
  {
   "cell_type": "markdown",
   "id": "4f6559b5",
   "metadata": {},
   "source": [
    "## Energy consumption by 10 min"
   ]
  },
  {
   "cell_type": "code",
   "execution_count": 142,
   "id": "06301bbb",
   "metadata": {},
   "outputs": [
    {
     "data": {
      "text/html": [
       "<div>\n",
       "<style scoped>\n",
       "    .dataframe tbody tr th:only-of-type {\n",
       "        vertical-align: middle;\n",
       "    }\n",
       "\n",
       "    .dataframe tbody tr th {\n",
       "        vertical-align: top;\n",
       "    }\n",
       "\n",
       "    .dataframe thead th {\n",
       "        text-align: right;\n",
       "    }\n",
       "</style>\n",
       "<table border=\"1\" class=\"dataframe\">\n",
       "  <thead>\n",
       "    <tr style=\"text-align: right;\">\n",
       "      <th></th>\n",
       "      <th>date</th>\n",
       "      <th>timestamp</th>\n",
       "      <th>RAM energy</th>\n",
       "      <th>GPU energy</th>\n",
       "      <th>GPU power</th>\n",
       "      <th>CPU energy</th>\n",
       "      <th>Energy consumed</th>\n",
       "    </tr>\n",
       "    <tr>\n",
       "      <th>time</th>\n",
       "      <th></th>\n",
       "      <th></th>\n",
       "      <th></th>\n",
       "      <th></th>\n",
       "      <th></th>\n",
       "      <th></th>\n",
       "      <th></th>\n",
       "    </tr>\n",
       "  </thead>\n",
       "  <tbody>\n",
       "    <tr>\n",
       "      <th>2022-09-26 12:20:00</th>\n",
       "      <td>35544</td>\n",
       "      <td>12:29:57</td>\n",
       "      <td>44.379839</td>\n",
       "      <td>148.984825</td>\n",
       "      <td>3601.582</td>\n",
       "      <td>3.965095</td>\n",
       "      <td>197.319061</td>\n",
       "    </tr>\n",
       "    <tr>\n",
       "      <th>2022-09-26 12:30:00</th>\n",
       "      <td>35608</td>\n",
       "      <td>12:39:58</td>\n",
       "      <td>44.459049</td>\n",
       "      <td>149.254942</td>\n",
       "      <td>1900.962</td>\n",
       "      <td>3.972296</td>\n",
       "      <td>197.686286</td>\n",
       "    </tr>\n",
       "    <tr>\n",
       "      <th>2022-09-26 12:40:00</th>\n",
       "      <td>35671</td>\n",
       "      <td>12:49:57</td>\n",
       "      <td>44.538203</td>\n",
       "      <td>149.543014</td>\n",
       "      <td>2431.645</td>\n",
       "      <td>3.979260</td>\n",
       "      <td>198.052738</td>\n",
       "    </tr>\n",
       "    <tr>\n",
       "      <th>2022-09-26 12:50:00</th>\n",
       "      <td>35735</td>\n",
       "      <td>12:59:58</td>\n",
       "      <td>44.617507</td>\n",
       "      <td>149.795291</td>\n",
       "      <td>2402.331</td>\n",
       "      <td>3.986463</td>\n",
       "      <td>198.399261</td>\n",
       "    </tr>\n",
       "    <tr>\n",
       "      <th>2022-09-26 13:00:00</th>\n",
       "      <td>35783</td>\n",
       "      <td>13:07:18</td>\n",
       "      <td>44.675578</td>\n",
       "      <td>149.991459</td>\n",
       "      <td>2447.144</td>\n",
       "      <td>3.991657</td>\n",
       "      <td>198.658694</td>\n",
       "    </tr>\n",
       "  </tbody>\n",
       "</table>\n",
       "</div>"
      ],
      "text/plain": [
       "                      date timestamp    RAM energy     GPU energy  GPU power  \\\n",
       "time                                                                           \n",
       "2022-09-26 12:20:00  35544  12:29:57   44.379839     148.984825     3601.582   \n",
       "2022-09-26 12:30:00  35608  12:39:58   44.459049     149.254942     1900.962   \n",
       "2022-09-26 12:40:00  35671  12:49:57   44.538203     149.543014     2431.645   \n",
       "2022-09-26 12:50:00  35735  12:59:58   44.617507     149.795291     2402.331   \n",
       "2022-09-26 13:00:00  35783  13:07:18   44.675578     149.991459     2447.144   \n",
       "\n",
       "                      CPU energy  Energy consumed  \n",
       "time                                               \n",
       "2022-09-26 12:20:00   3.965095         197.319061  \n",
       "2022-09-26 12:30:00   3.972296         197.686286  \n",
       "2022-09-26 12:40:00   3.979260         198.052738  \n",
       "2022-09-26 12:50:00   3.986463         198.399261  \n",
       "2022-09-26 13:00:00   3.991657         198.658694  "
      ]
     },
     "execution_count": 142,
     "metadata": {},
     "output_type": "execute_result"
    }
   ],
   "source": [
    "carbonhourdf = carbondf.groupby(pd.Grouper(key = 'time', freq='10min')).last()\n",
    "carbonhourdf.tail()"
   ]
  },
  {
   "cell_type": "code",
   "execution_count": 143,
   "id": "0b945abe",
   "metadata": {},
   "outputs": [],
   "source": [
    "carbonhourdf['Energy by interval'] = carbonhourdf[\"Energy consumed\"].diff()"
   ]
  },
  {
   "cell_type": "code",
   "execution_count": 144,
   "id": "2475ce95",
   "metadata": {},
   "outputs": [
    {
     "data": {
      "text/plain": [
       "(556, 8)"
      ]
     },
     "execution_count": 144,
     "metadata": {},
     "output_type": "execute_result"
    }
   ],
   "source": [
    "carbonhourdf = carbonhourdf.iloc[7:-1 , :]\n",
    "carbonhourdf.shape"
   ]
  },
  {
   "cell_type": "code",
   "execution_count": 145,
   "id": "a5700c0f",
   "metadata": {},
   "outputs": [
    {
     "data": {
      "text/html": [
       "<div>\n",
       "<style scoped>\n",
       "    .dataframe tbody tr th:only-of-type {\n",
       "        vertical-align: middle;\n",
       "    }\n",
       "\n",
       "    .dataframe tbody tr th {\n",
       "        vertical-align: top;\n",
       "    }\n",
       "\n",
       "    .dataframe thead th {\n",
       "        text-align: right;\n",
       "    }\n",
       "</style>\n",
       "<table border=\"1\" class=\"dataframe\">\n",
       "  <thead>\n",
       "    <tr style=\"text-align: right;\">\n",
       "      <th></th>\n",
       "      <th>date</th>\n",
       "      <th>timestamp</th>\n",
       "      <th>RAM energy</th>\n",
       "      <th>GPU energy</th>\n",
       "      <th>GPU power</th>\n",
       "      <th>CPU energy</th>\n",
       "      <th>Energy consumed</th>\n",
       "      <th>Energy by interval</th>\n",
       "    </tr>\n",
       "    <tr>\n",
       "      <th>time</th>\n",
       "      <th></th>\n",
       "      <th></th>\n",
       "      <th></th>\n",
       "      <th></th>\n",
       "      <th></th>\n",
       "      <th></th>\n",
       "      <th></th>\n",
       "      <th></th>\n",
       "    </tr>\n",
       "  </thead>\n",
       "  <tbody>\n",
       "    <tr>\n",
       "      <th>2022-09-22 16:20:00</th>\n",
       "      <td>493</td>\n",
       "      <td>16:29:52</td>\n",
       "      <td>0.616152</td>\n",
       "      <td>2.986218</td>\n",
       "      <td>1763.207</td>\n",
       "      <td>0.055257</td>\n",
       "      <td>3.651571</td>\n",
       "      <td>0.460664</td>\n",
       "    </tr>\n",
       "    <tr>\n",
       "      <th>2022-09-22 16:30:00</th>\n",
       "      <td>556</td>\n",
       "      <td>16:39:52</td>\n",
       "      <td>0.695054</td>\n",
       "      <td>3.367438</td>\n",
       "      <td>1412.097</td>\n",
       "      <td>0.062223</td>\n",
       "      <td>4.123394</td>\n",
       "      <td>0.471823</td>\n",
       "    </tr>\n",
       "    <tr>\n",
       "      <th>2022-09-22 16:40:00</th>\n",
       "      <td>620</td>\n",
       "      <td>16:49:53</td>\n",
       "      <td>0.773883</td>\n",
       "      <td>3.757831</td>\n",
       "      <td>2599.632</td>\n",
       "      <td>0.069425</td>\n",
       "      <td>4.592904</td>\n",
       "      <td>0.469510</td>\n",
       "    </tr>\n",
       "    <tr>\n",
       "      <th>2022-09-22 16:50:00</th>\n",
       "      <td>683</td>\n",
       "      <td>16:59:52</td>\n",
       "      <td>0.852737</td>\n",
       "      <td>4.133765</td>\n",
       "      <td>1476.121</td>\n",
       "      <td>0.076390</td>\n",
       "      <td>5.061579</td>\n",
       "      <td>0.468675</td>\n",
       "    </tr>\n",
       "    <tr>\n",
       "      <th>2022-09-22 17:00:00</th>\n",
       "      <td>747</td>\n",
       "      <td>17:09:53</td>\n",
       "      <td>0.931576</td>\n",
       "      <td>4.517707</td>\n",
       "      <td>2447.751</td>\n",
       "      <td>0.083592</td>\n",
       "      <td>5.525039</td>\n",
       "      <td>0.463460</td>\n",
       "    </tr>\n",
       "  </tbody>\n",
       "</table>\n",
       "</div>"
      ],
      "text/plain": [
       "                     date timestamp   RAM energy   GPU energy  GPU power  \\\n",
       "time                                                                       \n",
       "2022-09-22 16:20:00   493  16:29:52   0.616152     2.986218     1763.207   \n",
       "2022-09-22 16:30:00   556  16:39:52   0.695054     3.367438     1412.097   \n",
       "2022-09-22 16:40:00   620  16:49:53   0.773883     3.757831     2599.632   \n",
       "2022-09-22 16:50:00   683  16:59:52   0.852737     4.133765     1476.121   \n",
       "2022-09-22 17:00:00   747  17:09:53   0.931576     4.517707     2447.751   \n",
       "\n",
       "                      CPU energy  Energy consumed  Energy by interval  \n",
       "time                                                                   \n",
       "2022-09-22 16:20:00   0.055257           3.651571            0.460664  \n",
       "2022-09-22 16:30:00   0.062223           4.123394            0.471823  \n",
       "2022-09-22 16:40:00   0.069425           4.592904            0.469510  \n",
       "2022-09-22 16:50:00   0.076390           5.061579            0.468675  \n",
       "2022-09-22 17:00:00   0.083592           5.525039            0.463460  "
      ]
     },
     "execution_count": 145,
     "metadata": {},
     "output_type": "execute_result"
    }
   ],
   "source": [
    "carbonhourdf.head()"
   ]
  },
  {
   "cell_type": "code",
   "execution_count": 146,
   "id": "a3f7c13e",
   "metadata": {},
   "outputs": [
    {
     "data": {
      "text/html": [
       "<div>\n",
       "<style scoped>\n",
       "    .dataframe tbody tr th:only-of-type {\n",
       "        vertical-align: middle;\n",
       "    }\n",
       "\n",
       "    .dataframe tbody tr th {\n",
       "        vertical-align: top;\n",
       "    }\n",
       "\n",
       "    .dataframe thead th {\n",
       "        text-align: right;\n",
       "    }\n",
       "</style>\n",
       "<table border=\"1\" class=\"dataframe\">\n",
       "  <thead>\n",
       "    <tr style=\"text-align: right;\">\n",
       "      <th></th>\n",
       "      <th>date</th>\n",
       "      <th>timestamp</th>\n",
       "      <th>RAM energy</th>\n",
       "      <th>GPU energy</th>\n",
       "      <th>GPU power</th>\n",
       "      <th>CPU energy</th>\n",
       "      <th>Energy consumed</th>\n",
       "      <th>Energy by interval</th>\n",
       "    </tr>\n",
       "    <tr>\n",
       "      <th>time</th>\n",
       "      <th></th>\n",
       "      <th></th>\n",
       "      <th></th>\n",
       "      <th></th>\n",
       "      <th></th>\n",
       "      <th></th>\n",
       "      <th></th>\n",
       "      <th></th>\n",
       "    </tr>\n",
       "  </thead>\n",
       "  <tbody>\n",
       "    <tr>\n",
       "      <th>2022-09-26 12:10:00</th>\n",
       "      <td>35481</td>\n",
       "      <td>12:19:58</td>\n",
       "      <td>44.300638</td>\n",
       "      <td>148.691290</td>\n",
       "      <td>2490.415</td>\n",
       "      <td>3.958129</td>\n",
       "      <td>196.950057</td>\n",
       "      <td>0.365278</td>\n",
       "    </tr>\n",
       "    <tr>\n",
       "      <th>2022-09-26 12:20:00</th>\n",
       "      <td>35544</td>\n",
       "      <td>12:29:57</td>\n",
       "      <td>44.379839</td>\n",
       "      <td>148.984825</td>\n",
       "      <td>3601.582</td>\n",
       "      <td>3.965095</td>\n",
       "      <td>197.319061</td>\n",
       "      <td>0.369004</td>\n",
       "    </tr>\n",
       "    <tr>\n",
       "      <th>2022-09-26 12:30:00</th>\n",
       "      <td>35608</td>\n",
       "      <td>12:39:58</td>\n",
       "      <td>44.459049</td>\n",
       "      <td>149.254942</td>\n",
       "      <td>1900.962</td>\n",
       "      <td>3.972296</td>\n",
       "      <td>197.686286</td>\n",
       "      <td>0.367225</td>\n",
       "    </tr>\n",
       "    <tr>\n",
       "      <th>2022-09-26 12:40:00</th>\n",
       "      <td>35671</td>\n",
       "      <td>12:49:57</td>\n",
       "      <td>44.538203</td>\n",
       "      <td>149.543014</td>\n",
       "      <td>2431.645</td>\n",
       "      <td>3.979260</td>\n",
       "      <td>198.052738</td>\n",
       "      <td>0.366452</td>\n",
       "    </tr>\n",
       "    <tr>\n",
       "      <th>2022-09-26 12:50:00</th>\n",
       "      <td>35735</td>\n",
       "      <td>12:59:58</td>\n",
       "      <td>44.617507</td>\n",
       "      <td>149.795291</td>\n",
       "      <td>2402.331</td>\n",
       "      <td>3.986463</td>\n",
       "      <td>198.399261</td>\n",
       "      <td>0.346523</td>\n",
       "    </tr>\n",
       "  </tbody>\n",
       "</table>\n",
       "</div>"
      ],
      "text/plain": [
       "                      date timestamp    RAM energy     GPU energy  GPU power  \\\n",
       "time                                                                           \n",
       "2022-09-26 12:10:00  35481  12:19:58   44.300638     148.691290     2490.415   \n",
       "2022-09-26 12:20:00  35544  12:29:57   44.379839     148.984825     3601.582   \n",
       "2022-09-26 12:30:00  35608  12:39:58   44.459049     149.254942     1900.962   \n",
       "2022-09-26 12:40:00  35671  12:49:57   44.538203     149.543014     2431.645   \n",
       "2022-09-26 12:50:00  35735  12:59:58   44.617507     149.795291     2402.331   \n",
       "\n",
       "                      CPU energy  Energy consumed  Energy by interval  \n",
       "time                                                                   \n",
       "2022-09-26 12:10:00   3.958129         196.950057            0.365278  \n",
       "2022-09-26 12:20:00   3.965095         197.319061            0.369004  \n",
       "2022-09-26 12:30:00   3.972296         197.686286            0.367225  \n",
       "2022-09-26 12:40:00   3.979260         198.052738            0.366452  \n",
       "2022-09-26 12:50:00   3.986463         198.399261            0.346523  "
      ]
     },
     "execution_count": 146,
     "metadata": {},
     "output_type": "execute_result"
    }
   ],
   "source": [
    "carbonhourdf.tail()"
   ]
  },
  {
   "cell_type": "code",
   "execution_count": 147,
   "id": "e8350544",
   "metadata": {},
   "outputs": [],
   "source": [
    "carbonhourdf['date']= carbonhourdf.index"
   ]
  },
  {
   "cell_type": "markdown",
   "id": "9537603a",
   "metadata": {},
   "source": [
    "### Server logs"
   ]
  },
  {
   "cell_type": "code",
   "execution_count": 148,
   "id": "0caa4cf1",
   "metadata": {},
   "outputs": [
    {
     "data": {
      "text/plain": [
       "54481"
      ]
     },
     "execution_count": 148,
     "metadata": {},
     "output_type": "execute_result"
    }
   ],
   "source": [
    "with open(directory+'time-server.log','r') as f:\n",
    "    lines = f.readlines() # readlines creates a list of the lines\n",
    "len(lines)"
   ]
  },
  {
   "cell_type": "code",
   "execution_count": 149,
   "id": "05746262",
   "metadata": {},
   "outputs": [],
   "source": [
    "requestdf = pd.DataFrame(columns = ['date', 'requests'])"
   ]
  },
  {
   "cell_type": "code",
   "execution_count": 150,
   "id": "113d7286",
   "metadata": {},
   "outputs": [],
   "source": [
    "import re\n",
    "count=0\n",
    "for line in lines:\n",
    "    if \"POST /generate HTTP/1.1\" in line:\n",
    "        time = line.split('[')[1].split(']')[0]\n",
    "        code = line.split(\"POST /generate HTTP/1.1\")[1]\n",
    "        code= re.sub(\"[^0-9]\", \"\", code)\n",
    "        code= code.replace('0400','400')\n",
    "        requestdf.loc[count] = [time, code]\n",
    "        count+=1"
   ]
  },
  {
   "cell_type": "code",
   "execution_count": 151,
   "id": "e0e8b5ae",
   "metadata": {},
   "outputs": [],
   "source": [
    "requestdf['date'] = pd.to_datetime(requestdf['date'] , format= \"%d/%b/%Y %H:%M:%S\")"
   ]
  },
  {
   "cell_type": "code",
   "execution_count": 152,
   "id": "1ec258be",
   "metadata": {},
   "outputs": [],
   "source": [
    "requestdf['requests'] = pd.to_numeric(requestdf['requests'])"
   ]
  },
  {
   "cell_type": "code",
   "execution_count": 153,
   "id": "e5334698",
   "metadata": {},
   "outputs": [
    {
     "data": {
      "text/plain": [
       "200    53332\n",
       "400     1149\n",
       "Name: requests, dtype: int64"
      ]
     },
     "execution_count": 153,
     "metadata": {},
     "output_type": "execute_result"
    }
   ],
   "source": [
    "requestdf.requests.value_counts()"
   ]
  },
  {
   "cell_type": "markdown",
   "id": "0cf2260f",
   "metadata": {},
   "source": [
    "200 = OK we answered\n",
    "\n",
    "400 = used bad request\n",
    "\n",
    "503 = refused because no more room in the queue"
   ]
  },
  {
   "cell_type": "markdown",
   "id": "30cafcb8",
   "metadata": {},
   "source": [
    "### Average number of requests per hour"
   ]
  },
  {
   "cell_type": "code",
   "execution_count": 154,
   "id": "9c263684",
   "metadata": {},
   "outputs": [
    {
     "data": {
      "text/plain": [
       "count      95.000000\n",
       "mean      573.484211\n",
       "std       369.459348\n",
       "min       112.000000\n",
       "25%       297.000000\n",
       "50%       472.000000\n",
       "75%       698.000000\n",
       "max      1609.000000\n",
       "Name: requests, dtype: float64"
      ]
     },
     "execution_count": 154,
     "metadata": {},
     "output_type": "execute_result"
    }
   ],
   "source": [
    "requesthourdf = requestdf.groupby(pd.Grouper(key = 'date', freq='60min')).count()\n",
    "requesthourdf['requests'].describe()"
   ]
  },
  {
   "cell_type": "markdown",
   "id": "d0b4d308",
   "metadata": {},
   "source": [
    "### Number of requests per 10 minutes"
   ]
  },
  {
   "cell_type": "code",
   "execution_count": 155,
   "id": "250cf1e2",
   "metadata": {},
   "outputs": [
    {
     "data": {
      "text/html": [
       "<div>\n",
       "<style scoped>\n",
       "    .dataframe tbody tr th:only-of-type {\n",
       "        vertical-align: middle;\n",
       "    }\n",
       "\n",
       "    .dataframe tbody tr th {\n",
       "        vertical-align: top;\n",
       "    }\n",
       "\n",
       "    .dataframe thead th {\n",
       "        text-align: right;\n",
       "    }\n",
       "</style>\n",
       "<table border=\"1\" class=\"dataframe\">\n",
       "  <thead>\n",
       "    <tr style=\"text-align: right;\">\n",
       "      <th></th>\n",
       "      <th>requests</th>\n",
       "    </tr>\n",
       "    <tr>\n",
       "      <th>date</th>\n",
       "      <th></th>\n",
       "    </tr>\n",
       "  </thead>\n",
       "  <tbody>\n",
       "    <tr>\n",
       "      <th>2022-09-26 12:10:00</th>\n",
       "      <td>129</td>\n",
       "    </tr>\n",
       "    <tr>\n",
       "      <th>2022-09-26 12:20:00</th>\n",
       "      <td>133</td>\n",
       "    </tr>\n",
       "    <tr>\n",
       "      <th>2022-09-26 12:30:00</th>\n",
       "      <td>137</td>\n",
       "    </tr>\n",
       "    <tr>\n",
       "      <th>2022-09-26 12:40:00</th>\n",
       "      <td>139</td>\n",
       "    </tr>\n",
       "    <tr>\n",
       "      <th>2022-09-26 12:50:00</th>\n",
       "      <td>75</td>\n",
       "    </tr>\n",
       "  </tbody>\n",
       "</table>\n",
       "</div>"
      ],
      "text/plain": [
       "                     requests\n",
       "date                         \n",
       "2022-09-26 12:10:00       129\n",
       "2022-09-26 12:20:00       133\n",
       "2022-09-26 12:30:00       137\n",
       "2022-09-26 12:40:00       139\n",
       "2022-09-26 12:50:00        75"
      ]
     },
     "execution_count": 155,
     "metadata": {},
     "output_type": "execute_result"
    }
   ],
   "source": [
    "requesthourdf = requestdf.groupby(pd.Grouper(key = 'date', freq='10min')).count()\n",
    "requesthourdf = requesthourdf.iloc[7:-2 , :]\n",
    "requesthourdf.tail()"
   ]
  },
  {
   "cell_type": "code",
   "execution_count": 156,
   "id": "93513052",
   "metadata": {},
   "outputs": [
    {
     "data": {
      "text/html": [
       "<div>\n",
       "<style scoped>\n",
       "    .dataframe tbody tr th:only-of-type {\n",
       "        vertical-align: middle;\n",
       "    }\n",
       "\n",
       "    .dataframe tbody tr th {\n",
       "        vertical-align: top;\n",
       "    }\n",
       "\n",
       "    .dataframe thead th {\n",
       "        text-align: right;\n",
       "    }\n",
       "</style>\n",
       "<table border=\"1\" class=\"dataframe\">\n",
       "  <thead>\n",
       "    <tr style=\"text-align: right;\">\n",
       "      <th></th>\n",
       "      <th>requests</th>\n",
       "    </tr>\n",
       "    <tr>\n",
       "      <th>date</th>\n",
       "      <th></th>\n",
       "    </tr>\n",
       "  </thead>\n",
       "  <tbody>\n",
       "    <tr>\n",
       "      <th>2022-09-22 16:20:00</th>\n",
       "      <td>237</td>\n",
       "    </tr>\n",
       "    <tr>\n",
       "      <th>2022-09-22 16:30:00</th>\n",
       "      <td>243</td>\n",
       "    </tr>\n",
       "    <tr>\n",
       "      <th>2022-09-22 16:40:00</th>\n",
       "      <td>213</td>\n",
       "    </tr>\n",
       "    <tr>\n",
       "      <th>2022-09-22 16:50:00</th>\n",
       "      <td>227</td>\n",
       "    </tr>\n",
       "    <tr>\n",
       "      <th>2022-09-22 17:00:00</th>\n",
       "      <td>208</td>\n",
       "    </tr>\n",
       "  </tbody>\n",
       "</table>\n",
       "</div>"
      ],
      "text/plain": [
       "                     requests\n",
       "date                         \n",
       "2022-09-22 16:20:00       237\n",
       "2022-09-22 16:30:00       243\n",
       "2022-09-22 16:40:00       213\n",
       "2022-09-22 16:50:00       227\n",
       "2022-09-22 17:00:00       208"
      ]
     },
     "execution_count": 156,
     "metadata": {},
     "output_type": "execute_result"
    }
   ],
   "source": [
    "requesthourdf.head()\n",
    "#2022-09-22 16:20:00"
   ]
  },
  {
   "cell_type": "code",
   "execution_count": 157,
   "id": "ce69fac6",
   "metadata": {},
   "outputs": [
    {
     "data": {
      "text/plain": [
       "(556, 1)"
      ]
     },
     "execution_count": 157,
     "metadata": {},
     "output_type": "execute_result"
    }
   ],
   "source": [
    "requesthourdf.shape"
   ]
  },
  {
   "cell_type": "markdown",
   "id": "3abe6bd2",
   "metadata": {},
   "source": [
    "### Merging the carbon and request DFs"
   ]
  },
  {
   "cell_type": "code",
   "execution_count": 158,
   "id": "ef18021f",
   "metadata": {},
   "outputs": [
    {
     "data": {
      "text/plain": [
       "(556, 9)"
      ]
     },
     "execution_count": 158,
     "metadata": {},
     "output_type": "execute_result"
    }
   ],
   "source": [
    "alllogdf = pd.concat([carbonhourdf,requesthourdf], axis=1)\n",
    "alllogdf['date']= alllogdf.index\n",
    "alllogdf.shape"
   ]
  },
  {
   "cell_type": "markdown",
   "id": "092849f1",
   "metadata": {},
   "source": [
    "Total time for logs:"
   ]
  },
  {
   "cell_type": "code",
   "execution_count": 159,
   "id": "7c4a1d34",
   "metadata": {},
   "outputs": [
    {
     "data": {
      "text/plain": [
       "Timedelta('3 days 20:30:00')"
      ]
     },
     "execution_count": 159,
     "metadata": {},
     "output_type": "execute_result"
    }
   ],
   "source": [
    "alllogdf_diff = alllogdf.iloc[[0, -1]]\n",
    "alllogdf_diff['date'].iloc[1] -  alllogdf_diff['date'].iloc[0]"
   ]
  },
  {
   "cell_type": "code",
   "execution_count": 160,
   "id": "a579b00f",
   "metadata": {},
   "outputs": [
    {
     "data": {
      "text/html": [
       "<div>\n",
       "<style scoped>\n",
       "    .dataframe tbody tr th:only-of-type {\n",
       "        vertical-align: middle;\n",
       "    }\n",
       "\n",
       "    .dataframe tbody tr th {\n",
       "        vertical-align: top;\n",
       "    }\n",
       "\n",
       "    .dataframe thead th {\n",
       "        text-align: right;\n",
       "    }\n",
       "</style>\n",
       "<table border=\"1\" class=\"dataframe\">\n",
       "  <thead>\n",
       "    <tr style=\"text-align: right;\">\n",
       "      <th></th>\n",
       "      <th>date</th>\n",
       "      <th>timestamp</th>\n",
       "      <th>RAM energy</th>\n",
       "      <th>GPU energy</th>\n",
       "      <th>GPU power</th>\n",
       "      <th>CPU energy</th>\n",
       "      <th>Energy consumed</th>\n",
       "      <th>Energy by interval</th>\n",
       "      <th>requests</th>\n",
       "    </tr>\n",
       "  </thead>\n",
       "  <tbody>\n",
       "    <tr>\n",
       "      <th>2022-09-26 12:10:00</th>\n",
       "      <td>2022-09-26 12:10:00</td>\n",
       "      <td>12:19:58</td>\n",
       "      <td>44.300638</td>\n",
       "      <td>148.691290</td>\n",
       "      <td>2490.415</td>\n",
       "      <td>3.958129</td>\n",
       "      <td>196.950057</td>\n",
       "      <td>0.365278</td>\n",
       "      <td>129</td>\n",
       "    </tr>\n",
       "    <tr>\n",
       "      <th>2022-09-26 12:20:00</th>\n",
       "      <td>2022-09-26 12:20:00</td>\n",
       "      <td>12:29:57</td>\n",
       "      <td>44.379839</td>\n",
       "      <td>148.984825</td>\n",
       "      <td>3601.582</td>\n",
       "      <td>3.965095</td>\n",
       "      <td>197.319061</td>\n",
       "      <td>0.369004</td>\n",
       "      <td>133</td>\n",
       "    </tr>\n",
       "    <tr>\n",
       "      <th>2022-09-26 12:30:00</th>\n",
       "      <td>2022-09-26 12:30:00</td>\n",
       "      <td>12:39:58</td>\n",
       "      <td>44.459049</td>\n",
       "      <td>149.254942</td>\n",
       "      <td>1900.962</td>\n",
       "      <td>3.972296</td>\n",
       "      <td>197.686286</td>\n",
       "      <td>0.367225</td>\n",
       "      <td>137</td>\n",
       "    </tr>\n",
       "    <tr>\n",
       "      <th>2022-09-26 12:40:00</th>\n",
       "      <td>2022-09-26 12:40:00</td>\n",
       "      <td>12:49:57</td>\n",
       "      <td>44.538203</td>\n",
       "      <td>149.543014</td>\n",
       "      <td>2431.645</td>\n",
       "      <td>3.979260</td>\n",
       "      <td>198.052738</td>\n",
       "      <td>0.366452</td>\n",
       "      <td>139</td>\n",
       "    </tr>\n",
       "    <tr>\n",
       "      <th>2022-09-26 12:50:00</th>\n",
       "      <td>2022-09-26 12:50:00</td>\n",
       "      <td>12:59:58</td>\n",
       "      <td>44.617507</td>\n",
       "      <td>149.795291</td>\n",
       "      <td>2402.331</td>\n",
       "      <td>3.986463</td>\n",
       "      <td>198.399261</td>\n",
       "      <td>0.346523</td>\n",
       "      <td>75</td>\n",
       "    </tr>\n",
       "  </tbody>\n",
       "</table>\n",
       "</div>"
      ],
      "text/plain": [
       "                                   date timestamp    RAM energy  \\\n",
       "2022-09-26 12:10:00 2022-09-26 12:10:00  12:19:58   44.300638     \n",
       "2022-09-26 12:20:00 2022-09-26 12:20:00  12:29:57   44.379839     \n",
       "2022-09-26 12:30:00 2022-09-26 12:30:00  12:39:58   44.459049     \n",
       "2022-09-26 12:40:00 2022-09-26 12:40:00  12:49:57   44.538203     \n",
       "2022-09-26 12:50:00 2022-09-26 12:50:00  12:59:58   44.617507     \n",
       "\n",
       "                        GPU energy  GPU power   CPU energy  Energy consumed  \\\n",
       "2022-09-26 12:10:00   148.691290     2490.415   3.958129         196.950057   \n",
       "2022-09-26 12:20:00   148.984825     3601.582   3.965095         197.319061   \n",
       "2022-09-26 12:30:00   149.254942     1900.962   3.972296         197.686286   \n",
       "2022-09-26 12:40:00   149.543014     2431.645   3.979260         198.052738   \n",
       "2022-09-26 12:50:00   149.795291     2402.331   3.986463         198.399261   \n",
       "\n",
       "                     Energy by interval  requests  \n",
       "2022-09-26 12:10:00            0.365278       129  \n",
       "2022-09-26 12:20:00            0.369004       133  \n",
       "2022-09-26 12:30:00            0.367225       137  \n",
       "2022-09-26 12:40:00            0.366452       139  \n",
       "2022-09-26 12:50:00            0.346523        75  "
      ]
     },
     "execution_count": 160,
     "metadata": {},
     "output_type": "execute_result"
    }
   ],
   "source": [
    "alllogdf.tail()"
   ]
  },
  {
   "cell_type": "markdown",
   "id": "f3187102",
   "metadata": {},
   "source": [
    "### Tons of carbon"
   ]
  },
  {
   "cell_type": "code",
   "execution_count": 161,
   "id": "58d58a76",
   "metadata": {},
   "outputs": [
    {
     "data": {
      "text/plain": [
       "0.078169308834"
      ]
     },
     "execution_count": 161,
     "metadata": {},
     "output_type": "execute_result"
    }
   ],
   "source": [
    "((198.399261 * 394.0) /1e6)"
   ]
  },
  {
   "cell_type": "markdown",
   "id": "73a9b3de",
   "metadata": {},
   "source": [
    "### Plotting raw values"
   ]
  },
  {
   "cell_type": "code",
   "execution_count": 163,
   "id": "ee575a39",
   "metadata": {},
   "outputs": [
    {
     "data": {
      "text/plain": [
       "count     556.000000\n",
       "mean     1708.257097\n",
       "std       554.411036\n",
       "min      1296.427000\n",
       "25%      1310.888500\n",
       "50%      1332.485000\n",
       "75%      2399.248250\n",
       "max      3719.218000\n",
       "Name: GPU power, dtype: float64"
      ]
     },
     "execution_count": 163,
     "metadata": {},
     "output_type": "execute_result"
    }
   ],
   "source": [
    "alllogdf[\"GPU power\"].describe()"
   ]
  },
  {
   "cell_type": "code",
   "execution_count": 162,
   "id": "9c122bdd",
   "metadata": {
    "scrolled": false
   },
   "outputs": [
    {
     "data": {
      "application/vnd.plotly.v1+json": {
       "config": {
        "plotlyServerURL": "https://plot.ly"
       },
       "data": [
        {
         "hovertemplate": "variable=GPU power<br>date=%{x}<br>value=%{y}<extra></extra>",
         "legendgroup": "GPU power",
         "line": {
          "color": "#636efa",
          "dash": "solid"
         },
         "marker": {
          "symbol": "circle"
         },
         "mode": "lines",
         "name": "GPU power",
         "orientation": "v",
         "showlegend": true,
         "type": "scatter",
         "x": [
          "2022-09-22T16:20:00",
          "2022-09-22T16:30:00",
          "2022-09-22T16:40:00",
          "2022-09-22T16:50:00",
          "2022-09-22T17:00:00",
          "2022-09-22T17:10:00",
          "2022-09-22T17:20:00",
          "2022-09-22T17:30:00",
          "2022-09-22T17:40:00",
          "2022-09-22T17:50:00",
          "2022-09-22T18:00:00",
          "2022-09-22T18:10:00",
          "2022-09-22T18:20:00",
          "2022-09-22T18:30:00",
          "2022-09-22T18:40:00",
          "2022-09-22T18:50:00",
          "2022-09-22T19:00:00",
          "2022-09-22T19:10:00",
          "2022-09-22T19:20:00",
          "2022-09-22T19:30:00",
          "2022-09-22T19:40:00",
          "2022-09-22T19:50:00",
          "2022-09-22T20:00:00",
          "2022-09-22T20:10:00",
          "2022-09-22T20:20:00",
          "2022-09-22T20:30:00",
          "2022-09-22T20:40:00",
          "2022-09-22T20:50:00",
          "2022-09-22T21:00:00",
          "2022-09-22T21:10:00",
          "2022-09-22T21:20:00",
          "2022-09-22T21:30:00",
          "2022-09-22T21:40:00",
          "2022-09-22T21:50:00",
          "2022-09-22T22:00:00",
          "2022-09-22T22:10:00",
          "2022-09-22T22:20:00",
          "2022-09-22T22:30:00",
          "2022-09-22T22:40:00",
          "2022-09-22T22:50:00",
          "2022-09-22T23:00:00",
          "2022-09-22T23:10:00",
          "2022-09-22T23:20:00",
          "2022-09-22T23:30:00",
          "2022-09-22T23:40:00",
          "2022-09-22T23:50:00",
          "2022-09-23T00:00:00",
          "2022-09-23T00:10:00",
          "2022-09-23T00:20:00",
          "2022-09-23T00:30:00",
          "2022-09-23T00:40:00",
          "2022-09-23T00:50:00",
          "2022-09-23T01:00:00",
          "2022-09-23T01:10:00",
          "2022-09-23T01:20:00",
          "2022-09-23T01:30:00",
          "2022-09-23T01:40:00",
          "2022-09-23T01:50:00",
          "2022-09-23T02:00:00",
          "2022-09-23T02:10:00",
          "2022-09-23T02:20:00",
          "2022-09-23T02:30:00",
          "2022-09-23T02:40:00",
          "2022-09-23T02:50:00",
          "2022-09-23T03:00:00",
          "2022-09-23T03:10:00",
          "2022-09-23T03:20:00",
          "2022-09-23T03:30:00",
          "2022-09-23T03:40:00",
          "2022-09-23T03:50:00",
          "2022-09-23T04:00:00",
          "2022-09-23T04:10:00",
          "2022-09-23T04:20:00",
          "2022-09-23T04:30:00",
          "2022-09-23T04:40:00",
          "2022-09-23T04:50:00",
          "2022-09-23T05:00:00",
          "2022-09-23T05:10:00",
          "2022-09-23T05:20:00",
          "2022-09-23T05:30:00",
          "2022-09-23T05:40:00",
          "2022-09-23T05:50:00",
          "2022-09-23T06:00:00",
          "2022-09-23T06:10:00",
          "2022-09-23T06:20:00",
          "2022-09-23T06:30:00",
          "2022-09-23T06:40:00",
          "2022-09-23T06:50:00",
          "2022-09-23T07:00:00",
          "2022-09-23T07:10:00",
          "2022-09-23T07:20:00",
          "2022-09-23T07:30:00",
          "2022-09-23T07:40:00",
          "2022-09-23T07:50:00",
          "2022-09-23T08:00:00",
          "2022-09-23T08:10:00",
          "2022-09-23T08:20:00",
          "2022-09-23T08:30:00",
          "2022-09-23T08:40:00",
          "2022-09-23T08:50:00",
          "2022-09-23T09:00:00",
          "2022-09-23T09:10:00",
          "2022-09-23T09:20:00",
          "2022-09-23T09:30:00",
          "2022-09-23T09:40:00",
          "2022-09-23T09:50:00",
          "2022-09-23T10:00:00",
          "2022-09-23T10:10:00",
          "2022-09-23T10:20:00",
          "2022-09-23T10:30:00",
          "2022-09-23T10:40:00",
          "2022-09-23T10:50:00",
          "2022-09-23T11:00:00",
          "2022-09-23T11:10:00",
          "2022-09-23T11:20:00",
          "2022-09-23T11:30:00",
          "2022-09-23T11:40:00",
          "2022-09-23T11:50:00",
          "2022-09-23T12:00:00",
          "2022-09-23T12:10:00",
          "2022-09-23T12:20:00",
          "2022-09-23T12:30:00",
          "2022-09-23T12:40:00",
          "2022-09-23T12:50:00",
          "2022-09-23T13:00:00",
          "2022-09-23T13:10:00",
          "2022-09-23T13:20:00",
          "2022-09-23T13:30:00",
          "2022-09-23T13:40:00",
          "2022-09-23T13:50:00",
          "2022-09-23T14:00:00",
          "2022-09-23T14:10:00",
          "2022-09-23T14:20:00",
          "2022-09-23T14:30:00",
          "2022-09-23T14:40:00",
          "2022-09-23T14:50:00",
          "2022-09-23T15:00:00",
          "2022-09-23T15:10:00",
          "2022-09-23T15:20:00",
          "2022-09-23T15:30:00",
          "2022-09-23T15:40:00",
          "2022-09-23T15:50:00",
          "2022-09-23T16:00:00",
          "2022-09-23T16:10:00",
          "2022-09-23T16:20:00",
          "2022-09-23T16:30:00",
          "2022-09-23T16:40:00",
          "2022-09-23T16:50:00",
          "2022-09-23T17:00:00",
          "2022-09-23T17:10:00",
          "2022-09-23T17:20:00",
          "2022-09-23T17:30:00",
          "2022-09-23T17:40:00",
          "2022-09-23T17:50:00",
          "2022-09-23T18:00:00",
          "2022-09-23T18:10:00",
          "2022-09-23T18:20:00",
          "2022-09-23T18:30:00",
          "2022-09-23T18:40:00",
          "2022-09-23T18:50:00",
          "2022-09-23T19:00:00",
          "2022-09-23T19:10:00",
          "2022-09-23T19:20:00",
          "2022-09-23T19:30:00",
          "2022-09-23T19:40:00",
          "2022-09-23T19:50:00",
          "2022-09-23T20:00:00",
          "2022-09-23T20:10:00",
          "2022-09-23T20:20:00",
          "2022-09-23T20:30:00",
          "2022-09-23T20:40:00",
          "2022-09-23T20:50:00",
          "2022-09-23T21:00:00",
          "2022-09-23T21:10:00",
          "2022-09-23T21:20:00",
          "2022-09-23T21:30:00",
          "2022-09-23T21:40:00",
          "2022-09-23T21:50:00",
          "2022-09-23T22:00:00",
          "2022-09-23T22:10:00",
          "2022-09-23T22:20:00",
          "2022-09-23T22:30:00",
          "2022-09-23T22:40:00",
          "2022-09-23T22:50:00",
          "2022-09-23T23:00:00",
          "2022-09-23T23:10:00",
          "2022-09-23T23:20:00",
          "2022-09-23T23:30:00",
          "2022-09-23T23:40:00",
          "2022-09-23T23:50:00",
          "2022-09-24T00:00:00",
          "2022-09-24T00:10:00",
          "2022-09-24T00:20:00",
          "2022-09-24T00:30:00",
          "2022-09-24T00:40:00",
          "2022-09-24T00:50:00",
          "2022-09-24T01:00:00",
          "2022-09-24T01:10:00",
          "2022-09-24T01:20:00",
          "2022-09-24T01:30:00",
          "2022-09-24T01:40:00",
          "2022-09-24T01:50:00",
          "2022-09-24T02:00:00",
          "2022-09-24T02:10:00",
          "2022-09-24T02:20:00",
          "2022-09-24T02:30:00",
          "2022-09-24T02:40:00",
          "2022-09-24T02:50:00",
          "2022-09-24T03:00:00",
          "2022-09-24T03:10:00",
          "2022-09-24T03:20:00",
          "2022-09-24T03:30:00",
          "2022-09-24T03:40:00",
          "2022-09-24T03:50:00",
          "2022-09-24T04:00:00",
          "2022-09-24T04:10:00",
          "2022-09-24T04:20:00",
          "2022-09-24T04:30:00",
          "2022-09-24T04:40:00",
          "2022-09-24T04:50:00",
          "2022-09-24T05:00:00",
          "2022-09-24T05:10:00",
          "2022-09-24T05:20:00",
          "2022-09-24T05:30:00",
          "2022-09-24T05:40:00",
          "2022-09-24T05:50:00",
          "2022-09-24T06:00:00",
          "2022-09-24T06:10:00",
          "2022-09-24T06:20:00",
          "2022-09-24T06:30:00",
          "2022-09-24T06:40:00",
          "2022-09-24T06:50:00",
          "2022-09-24T07:00:00",
          "2022-09-24T07:10:00",
          "2022-09-24T07:20:00",
          "2022-09-24T07:30:00",
          "2022-09-24T07:40:00",
          "2022-09-24T07:50:00",
          "2022-09-24T08:00:00",
          "2022-09-24T08:10:00",
          "2022-09-24T08:20:00",
          "2022-09-24T08:30:00",
          "2022-09-24T08:40:00",
          "2022-09-24T08:50:00",
          "2022-09-24T09:00:00",
          "2022-09-24T09:10:00",
          "2022-09-24T09:20:00",
          "2022-09-24T09:30:00",
          "2022-09-24T09:40:00",
          "2022-09-24T09:50:00",
          "2022-09-24T10:00:00",
          "2022-09-24T10:10:00",
          "2022-09-24T10:20:00",
          "2022-09-24T10:30:00",
          "2022-09-24T10:40:00",
          "2022-09-24T10:50:00",
          "2022-09-24T11:00:00",
          "2022-09-24T11:10:00",
          "2022-09-24T11:20:00",
          "2022-09-24T11:30:00",
          "2022-09-24T11:40:00",
          "2022-09-24T11:50:00",
          "2022-09-24T12:00:00",
          "2022-09-24T12:10:00",
          "2022-09-24T12:20:00",
          "2022-09-24T12:30:00",
          "2022-09-24T12:40:00",
          "2022-09-24T12:50:00",
          "2022-09-24T13:00:00",
          "2022-09-24T13:10:00",
          "2022-09-24T13:20:00",
          "2022-09-24T13:30:00",
          "2022-09-24T13:40:00",
          "2022-09-24T13:50:00",
          "2022-09-24T14:00:00",
          "2022-09-24T14:10:00",
          "2022-09-24T14:20:00",
          "2022-09-24T14:30:00",
          "2022-09-24T14:40:00",
          "2022-09-24T14:50:00",
          "2022-09-24T15:00:00",
          "2022-09-24T15:10:00",
          "2022-09-24T15:20:00",
          "2022-09-24T15:30:00",
          "2022-09-24T15:40:00",
          "2022-09-24T15:50:00",
          "2022-09-24T16:00:00",
          "2022-09-24T16:10:00",
          "2022-09-24T16:20:00",
          "2022-09-24T16:30:00",
          "2022-09-24T16:40:00",
          "2022-09-24T16:50:00",
          "2022-09-24T17:00:00",
          "2022-09-24T17:10:00",
          "2022-09-24T17:20:00",
          "2022-09-24T17:30:00",
          "2022-09-24T17:40:00",
          "2022-09-24T17:50:00",
          "2022-09-24T18:00:00",
          "2022-09-24T18:10:00",
          "2022-09-24T18:20:00",
          "2022-09-24T18:30:00",
          "2022-09-24T18:40:00",
          "2022-09-24T18:50:00",
          "2022-09-24T19:00:00",
          "2022-09-24T19:10:00",
          "2022-09-24T19:20:00",
          "2022-09-24T19:30:00",
          "2022-09-24T19:40:00",
          "2022-09-24T19:50:00",
          "2022-09-24T20:00:00",
          "2022-09-24T20:10:00",
          "2022-09-24T20:20:00",
          "2022-09-24T20:30:00",
          "2022-09-24T20:40:00",
          "2022-09-24T20:50:00",
          "2022-09-24T21:00:00",
          "2022-09-24T21:10:00",
          "2022-09-24T21:20:00",
          "2022-09-24T21:30:00",
          "2022-09-24T21:40:00",
          "2022-09-24T21:50:00",
          "2022-09-24T22:00:00",
          "2022-09-24T22:10:00",
          "2022-09-24T22:20:00",
          "2022-09-24T22:30:00",
          "2022-09-24T22:40:00",
          "2022-09-24T22:50:00",
          "2022-09-24T23:00:00",
          "2022-09-24T23:10:00",
          "2022-09-24T23:20:00",
          "2022-09-24T23:30:00",
          "2022-09-24T23:40:00",
          "2022-09-24T23:50:00",
          "2022-09-25T00:00:00",
          "2022-09-25T00:10:00",
          "2022-09-25T00:20:00",
          "2022-09-25T00:30:00",
          "2022-09-25T00:40:00",
          "2022-09-25T00:50:00",
          "2022-09-25T01:00:00",
          "2022-09-25T01:10:00",
          "2022-09-25T01:20:00",
          "2022-09-25T01:30:00",
          "2022-09-25T01:40:00",
          "2022-09-25T01:50:00",
          "2022-09-25T02:00:00",
          "2022-09-25T02:10:00",
          "2022-09-25T02:20:00",
          "2022-09-25T02:30:00",
          "2022-09-25T02:40:00",
          "2022-09-25T02:50:00",
          "2022-09-25T03:00:00",
          "2022-09-25T03:10:00",
          "2022-09-25T03:20:00",
          "2022-09-25T03:30:00",
          "2022-09-25T03:40:00",
          "2022-09-25T03:50:00",
          "2022-09-25T04:00:00",
          "2022-09-25T04:10:00",
          "2022-09-25T04:20:00",
          "2022-09-25T04:30:00",
          "2022-09-25T04:40:00",
          "2022-09-25T04:50:00",
          "2022-09-25T05:00:00",
          "2022-09-25T05:10:00",
          "2022-09-25T05:20:00",
          "2022-09-25T05:30:00",
          "2022-09-25T05:40:00",
          "2022-09-25T05:50:00",
          "2022-09-25T06:00:00",
          "2022-09-25T06:10:00",
          "2022-09-25T06:20:00",
          "2022-09-25T06:30:00",
          "2022-09-25T06:40:00",
          "2022-09-25T06:50:00",
          "2022-09-25T07:00:00",
          "2022-09-25T07:10:00",
          "2022-09-25T07:20:00",
          "2022-09-25T07:30:00",
          "2022-09-25T07:40:00",
          "2022-09-25T07:50:00",
          "2022-09-25T08:00:00",
          "2022-09-25T08:10:00",
          "2022-09-25T08:20:00",
          "2022-09-25T08:30:00",
          "2022-09-25T08:40:00",
          "2022-09-25T08:50:00",
          "2022-09-25T09:00:00",
          "2022-09-25T09:10:00",
          "2022-09-25T09:20:00",
          "2022-09-25T09:30:00",
          "2022-09-25T09:40:00",
          "2022-09-25T09:50:00",
          "2022-09-25T10:00:00",
          "2022-09-25T10:10:00",
          "2022-09-25T10:20:00",
          "2022-09-25T10:30:00",
          "2022-09-25T10:40:00",
          "2022-09-25T10:50:00",
          "2022-09-25T11:00:00",
          "2022-09-25T11:10:00",
          "2022-09-25T11:20:00",
          "2022-09-25T11:30:00",
          "2022-09-25T11:40:00",
          "2022-09-25T11:50:00",
          "2022-09-25T12:00:00",
          "2022-09-25T12:10:00",
          "2022-09-25T12:20:00",
          "2022-09-25T12:30:00",
          "2022-09-25T12:40:00",
          "2022-09-25T12:50:00",
          "2022-09-25T13:00:00",
          "2022-09-25T13:10:00",
          "2022-09-25T13:20:00",
          "2022-09-25T13:30:00",
          "2022-09-25T13:40:00",
          "2022-09-25T13:50:00",
          "2022-09-25T14:00:00",
          "2022-09-25T14:10:00",
          "2022-09-25T14:20:00",
          "2022-09-25T14:30:00",
          "2022-09-25T14:40:00",
          "2022-09-25T14:50:00",
          "2022-09-25T15:00:00",
          "2022-09-25T15:10:00",
          "2022-09-25T15:20:00",
          "2022-09-25T15:30:00",
          "2022-09-25T15:40:00",
          "2022-09-25T15:50:00",
          "2022-09-25T16:00:00",
          "2022-09-25T16:10:00",
          "2022-09-25T16:20:00",
          "2022-09-25T16:30:00",
          "2022-09-25T16:40:00",
          "2022-09-25T16:50:00",
          "2022-09-25T17:00:00",
          "2022-09-25T17:10:00",
          "2022-09-25T17:20:00",
          "2022-09-25T17:30:00",
          "2022-09-25T17:40:00",
          "2022-09-25T17:50:00",
          "2022-09-25T18:00:00",
          "2022-09-25T18:10:00",
          "2022-09-25T18:20:00",
          "2022-09-25T18:30:00",
          "2022-09-25T18:40:00",
          "2022-09-25T18:50:00",
          "2022-09-25T19:00:00",
          "2022-09-25T19:10:00",
          "2022-09-25T19:20:00",
          "2022-09-25T19:30:00",
          "2022-09-25T19:40:00",
          "2022-09-25T19:50:00",
          "2022-09-25T20:00:00",
          "2022-09-25T20:10:00",
          "2022-09-25T20:20:00",
          "2022-09-25T20:30:00",
          "2022-09-25T20:40:00",
          "2022-09-25T20:50:00",
          "2022-09-25T21:00:00",
          "2022-09-25T21:10:00",
          "2022-09-25T21:20:00",
          "2022-09-25T21:30:00",
          "2022-09-25T21:40:00",
          "2022-09-25T21:50:00",
          "2022-09-25T22:00:00",
          "2022-09-25T22:10:00",
          "2022-09-25T22:20:00",
          "2022-09-25T22:30:00",
          "2022-09-25T22:40:00",
          "2022-09-25T22:50:00",
          "2022-09-25T23:00:00",
          "2022-09-25T23:10:00",
          "2022-09-25T23:20:00",
          "2022-09-25T23:30:00",
          "2022-09-25T23:40:00",
          "2022-09-25T23:50:00",
          "2022-09-26T00:00:00",
          "2022-09-26T00:10:00",
          "2022-09-26T00:20:00",
          "2022-09-26T00:30:00",
          "2022-09-26T00:40:00",
          "2022-09-26T00:50:00",
          "2022-09-26T01:00:00",
          "2022-09-26T01:10:00",
          "2022-09-26T01:20:00",
          "2022-09-26T01:30:00",
          "2022-09-26T01:40:00",
          "2022-09-26T01:50:00",
          "2022-09-26T02:00:00",
          "2022-09-26T02:10:00",
          "2022-09-26T02:20:00",
          "2022-09-26T02:30:00",
          "2022-09-26T02:40:00",
          "2022-09-26T02:50:00",
          "2022-09-26T03:00:00",
          "2022-09-26T03:10:00",
          "2022-09-26T03:20:00",
          "2022-09-26T03:30:00",
          "2022-09-26T03:40:00",
          "2022-09-26T03:50:00",
          "2022-09-26T04:00:00",
          "2022-09-26T04:10:00",
          "2022-09-26T04:20:00",
          "2022-09-26T04:30:00",
          "2022-09-26T04:40:00",
          "2022-09-26T04:50:00",
          "2022-09-26T05:00:00",
          "2022-09-26T05:10:00",
          "2022-09-26T05:20:00",
          "2022-09-26T05:30:00",
          "2022-09-26T05:40:00",
          "2022-09-26T05:50:00",
          "2022-09-26T06:00:00",
          "2022-09-26T06:10:00",
          "2022-09-26T06:20:00",
          "2022-09-26T06:30:00",
          "2022-09-26T06:40:00",
          "2022-09-26T06:50:00",
          "2022-09-26T07:00:00",
          "2022-09-26T07:10:00",
          "2022-09-26T07:20:00",
          "2022-09-26T07:30:00",
          "2022-09-26T07:40:00",
          "2022-09-26T07:50:00",
          "2022-09-26T08:00:00",
          "2022-09-26T08:10:00",
          "2022-09-26T08:20:00",
          "2022-09-26T08:30:00",
          "2022-09-26T08:40:00",
          "2022-09-26T08:50:00",
          "2022-09-26T09:00:00",
          "2022-09-26T09:10:00",
          "2022-09-26T09:20:00",
          "2022-09-26T09:30:00",
          "2022-09-26T09:40:00",
          "2022-09-26T09:50:00",
          "2022-09-26T10:00:00",
          "2022-09-26T10:10:00",
          "2022-09-26T10:20:00",
          "2022-09-26T10:30:00",
          "2022-09-26T10:40:00",
          "2022-09-26T10:50:00",
          "2022-09-26T11:00:00",
          "2022-09-26T11:10:00",
          "2022-09-26T11:20:00",
          "2022-09-26T11:30:00",
          "2022-09-26T11:40:00",
          "2022-09-26T11:50:00",
          "2022-09-26T12:00:00",
          "2022-09-26T12:10:00",
          "2022-09-26T12:20:00",
          "2022-09-26T12:30:00",
          "2022-09-26T12:40:00",
          "2022-09-26T12:50:00"
         ],
         "xaxis": "x",
         "y": [
          1763.207,
          1412.097,
          2599.632,
          1476.121,
          2447.751,
          2504.093,
          2467.2520000000004,
          3342.273,
          2434.375,
          2505.098,
          2467.8160000000003,
          2525.574,
          2522.764,
          2629.348,
          3435.26,
          2535.6060000000007,
          2520.932,
          2447.5600000000004,
          2468.9560000000006,
          2518.282,
          2397.8250000000007,
          1645.904,
          1407.187,
          2490.002,
          2415.738,
          2437.6240000000003,
          1329.727,
          1309.782,
          1314.465,
          1342.451,
          1301.438,
          2437.281,
          1311.851,
          1306.056,
          1306.3100000000002,
          1312.114,
          1342.728,
          1326.264,
          2430.9740000000006,
          1312.411,
          1314.773,
          2406.835,
          1358.12,
          2409.88,
          1326.1830000000002,
          1300.378,
          1299.116,
          2453.747,
          1333.743,
          1318.688,
          1303.739,
          1299.773,
          1312.993,
          1329.561,
          1300.091,
          1297.713,
          1312.227,
          1300.004,
          1322.73,
          1308.6780000000003,
          2390.038,
          3569.977,
          1307.548,
          1312.725,
          1305.561,
          1298.51,
          1297.554,
          1311.853,
          1296.943,
          1306.057,
          1302.939,
          1321.48,
          1340.872,
          1308.238,
          1302.886,
          1320.638,
          1306.345,
          1310.695,
          1303.452,
          1298.258,
          2462.042,
          2438.079,
          1296.427,
          1302.65,
          1304.168,
          1312.448,
          1304.7230000000002,
          1336.013,
          1322.582,
          1319.303,
          1315.854,
          2336.877,
          1299.249,
          1326.964,
          1300.703,
          2369.896,
          1311.6,
          2394.022,
          1319.549,
          1330.966,
          2399.241,
          1932.294,
          2448.627,
          1316.898,
          2435.813,
          2434.503,
          1816.471,
          2493.582,
          2472.519,
          2435.55,
          2490.511,
          2495.502,
          1307.049,
          1307.07,
          1310.92,
          1318.696,
          1309.375,
          1330.235,
          1334.045,
          2387.237,
          1343.274,
          2525.813,
          1396.022,
          1418.735,
          2506.967,
          1420.955,
          2484.802,
          1409.147,
          1405.714,
          2504.36,
          1392.256,
          2465.062,
          2498.767,
          2522.262,
          1315.371,
          2472.725,
          2465.763,
          2502.869,
          2513.54,
          2583.908,
          1319.13,
          2384.488,
          1314.622,
          1304.795,
          1307.362,
          1303.883,
          2443.034000000001,
          1537.589,
          2423.606,
          1332.544,
          1332.519,
          1326.214,
          1317.082,
          1308.18,
          2461.3910000000005,
          1303.076,
          2390.347,
          1326.036,
          1308.508,
          2417.939,
          1308.463,
          1301.033,
          1311.957,
          1301.765,
          1302.754,
          1324.055,
          1318.5430000000003,
          1308.842,
          1327.968,
          2434.893,
          1320.387,
          1311.437,
          2365.156,
          2387.9490000000005,
          1352.094,
          1308.508,
          1340.6970000000003,
          1317.968,
          1302.15,
          1300.289,
          1312.388,
          1633.7110000000002,
          1306.409,
          1316.824,
          1317.084,
          2392.714,
          1318.067,
          1301.31,
          1329.997,
          1301.852,
          1313.262,
          1331.532,
          1307.63,
          1321.992,
          1307.3720000000003,
          1318.626,
          1311.073,
          1300.98,
          1299.671,
          1300.616,
          1305.683,
          2392.098,
          1310.364,
          1306.02,
          1312.592,
          1308.237,
          1304.174,
          1299.583,
          1301.858,
          1308.355,
          2401.872,
          1301.329,
          1304.619,
          1299.224,
          1302.515,
          1337.207,
          2399.27,
          1301.52,
          2407.905,
          1312.124,
          1309.426,
          2391.4460000000004,
          1303.204,
          1303.1580000000004,
          1300.594,
          1327.747,
          2509.5940000000005,
          2467.2580000000003,
          1316.824,
          1300.347,
          2416.888,
          1327.354,
          1311.375,
          1311.113,
          2419.097,
          2415.175,
          1300.041,
          1333.198,
          1308.789,
          1316.035,
          1320.255,
          2450.0950000000003,
          1326.559,
          2403.8160000000003,
          1302.358,
          1304.945,
          1325.216,
          2419.485,
          1315.389,
          2434.268,
          1350.664,
          1312.898,
          1332.08,
          1338.653,
          2666.946,
          1319.408,
          2497.668,
          1315.7250000000004,
          1325.068,
          1355.9730000000002,
          2451.199,
          1314.364,
          1304.992,
          1311.681,
          1307.612,
          1303.926,
          1299.957,
          1307.956,
          1299.334,
          1298.0100000000002,
          2370.142,
          2433.002,
          1730.832,
          1322.315,
          1328.808,
          3203.572,
          1334.879,
          2918.964,
          2403.018,
          1319.538,
          1342.305,
          1310.836,
          1338.661,
          1317.932,
          1321.509,
          1315.182,
          1316.26,
          1362.154,
          1332.37,
          1353.212,
          1334.342,
          1351.795,
          1341.466,
          1366.105,
          1358.573,
          1325.908,
          1341.7,
          2443.435,
          1347.455,
          2192.14,
          2446.996,
          2447.061,
          1338.208,
          1356.684,
          1349.289,
          1975.617,
          1322.491,
          1338.89,
          1338.809,
          1364.898,
          1340.245,
          1346.4720000000002,
          1388.244,
          2381.446,
          1316.29,
          1332.0290000000002,
          2386.599,
          2401.648,
          2431.44,
          1329.0120000000002,
          2707.4060000000004,
          1340.392,
          1341.803,
          1319.592,
          1323.878,
          1330.1940000000002,
          2404.781,
          1321.652,
          1349.1550000000002,
          1319.6,
          2460.329,
          1324.883,
          1319.326,
          1324.097,
          2421.7870000000003,
          1317.223,
          1799.72,
          1319.216,
          1326.807,
          1354.814,
          1317.349,
          1315.892,
          1325.824,
          1934.7920000000004,
          1355.268,
          1325.138,
          1317.445,
          1314.878,
          1347.239,
          1333.044,
          1326.178,
          2674.712,
          1321.839,
          1337.433,
          1320.373,
          1316.824,
          1333.901,
          2392.84,
          1682.57,
          1307.876,
          1331.446,
          1311.046,
          1308.809,
          1347.563,
          1304.999,
          2396.93,
          2397.524,
          1310.712,
          1309.279,
          2394.291,
          2388.201,
          1300.879,
          1302.792,
          1302.266,
          1317.749,
          1335.87,
          1314.966,
          1309.686,
          1306.916,
          1308.057,
          1307.448,
          1334.331,
          2338.458,
          1304.537,
          1299.168,
          2438.523,
          1307.501,
          1308.232,
          1324.529,
          1308.951,
          2434.639,
          1308.262,
          2447.334,
          1311.193,
          1304.575,
          1307.479,
          1331.408,
          1314.673,
          2394.055,
          2399.732,
          2320.386,
          1307.618,
          1300.097,
          1303.68,
          2401.821,
          1318.926,
          2414.928,
          2411.6490000000003,
          2515.022,
          2461.257,
          1309.795,
          1341.4100000000003,
          3719.2180000000008,
          1312.3780000000002,
          1326.474,
          2460.157,
          1324.473,
          2157.865,
          2391.3260000000005,
          2400.866,
          1314.372,
          2436.967,
          1337.135,
          1339.009,
          1316.155,
          1306.6,
          2377.773,
          1347.584,
          2447.536,
          1342.993,
          2902.821,
          1306.482,
          2294.042,
          2399.298,
          2441.34,
          1315.275,
          1309.757,
          1556.898,
          1318.162,
          2529.2200000000003,
          2445.557,
          1325.224,
          1340.038,
          2390.51,
          2569.766,
          1309.741,
          1332.136,
          2533.5750000000003,
          2532.915,
          2452.725,
          2499.154,
          1519.3190000000002,
          2437.107,
          1348.302,
          1710.5750000000005,
          1319.6800000000003,
          2442.94,
          1327.5260000000003,
          1318.533,
          2543.813,
          2474.741,
          2510.811,
          2433.434,
          1555.2070000000003,
          2372.288,
          2361.2960000000003,
          2597.407,
          2533.106,
          1336.35,
          2520.397,
          2438.154,
          1397.111,
          1912.209,
          2058.315,
          1319.137,
          2400.562,
          2419.377,
          1335.686,
          1324.422,
          2424.981,
          1311.518,
          2414.029,
          2497.302,
          1305.444,
          1301.119,
          2355.75,
          1309.09,
          1303.329,
          1310.613,
          1300.89,
          1316.345,
          1315.471,
          1343.652,
          2411.1,
          2527.023,
          1309.398,
          3272.5030000000006,
          1332.1980000000003,
          2376.28,
          1334.437,
          1309.799,
          1302.207,
          1301.4320000000002,
          1307.246,
          1301.398,
          1298.953,
          1300.215,
          1307.604,
          1298.988,
          1299.483,
          1297.228,
          2383.741,
          1301.344,
          1343.955,
          2479.119,
          1310.29,
          1307.0570000000002,
          2389.821,
          2160.952,
          2449.875,
          2053.103,
          2451.732,
          1312.393,
          1308.064,
          1332.451,
          1333.248,
          1307.408,
          1312.504,
          1320.672,
          1303.381,
          1344.399,
          2417.829,
          1346.9260000000002,
          1354.963,
          2417.342,
          1334.9110000000005,
          1334.743,
          2429.1910000000003,
          2492.3110000000006,
          1334.083,
          2487.9210000000003,
          1351.719,
          1320.561,
          1340.323,
          1355.834,
          2430.616,
          1329.506,
          2414.598,
          1310.906,
          1310.463,
          2418.653,
          2490.415,
          3601.582,
          1900.962,
          2431.645,
          2402.331
         ],
         "yaxis": "y"
        }
       ],
       "layout": {
        "legend": {
         "title": {
          "text": "variable"
         },
         "tracegroupgap": 0
        },
        "margin": {
         "t": 60
        },
        "template": {
         "data": {
          "bar": [
           {
            "error_x": {
             "color": "#2a3f5f"
            },
            "error_y": {
             "color": "#2a3f5f"
            },
            "marker": {
             "line": {
              "color": "#E5ECF6",
              "width": 0.5
             },
             "pattern": {
              "fillmode": "overlay",
              "size": 10,
              "solidity": 0.2
             }
            },
            "type": "bar"
           }
          ],
          "barpolar": [
           {
            "marker": {
             "line": {
              "color": "#E5ECF6",
              "width": 0.5
             },
             "pattern": {
              "fillmode": "overlay",
              "size": 10,
              "solidity": 0.2
             }
            },
            "type": "barpolar"
           }
          ],
          "carpet": [
           {
            "aaxis": {
             "endlinecolor": "#2a3f5f",
             "gridcolor": "white",
             "linecolor": "white",
             "minorgridcolor": "white",
             "startlinecolor": "#2a3f5f"
            },
            "baxis": {
             "endlinecolor": "#2a3f5f",
             "gridcolor": "white",
             "linecolor": "white",
             "minorgridcolor": "white",
             "startlinecolor": "#2a3f5f"
            },
            "type": "carpet"
           }
          ],
          "choropleth": [
           {
            "colorbar": {
             "outlinewidth": 0,
             "ticks": ""
            },
            "type": "choropleth"
           }
          ],
          "contour": [
           {
            "colorbar": {
             "outlinewidth": 0,
             "ticks": ""
            },
            "colorscale": [
             [
              0,
              "#0d0887"
             ],
             [
              0.1111111111111111,
              "#46039f"
             ],
             [
              0.2222222222222222,
              "#7201a8"
             ],
             [
              0.3333333333333333,
              "#9c179e"
             ],
             [
              0.4444444444444444,
              "#bd3786"
             ],
             [
              0.5555555555555556,
              "#d8576b"
             ],
             [
              0.6666666666666666,
              "#ed7953"
             ],
             [
              0.7777777777777778,
              "#fb9f3a"
             ],
             [
              0.8888888888888888,
              "#fdca26"
             ],
             [
              1,
              "#f0f921"
             ]
            ],
            "type": "contour"
           }
          ],
          "contourcarpet": [
           {
            "colorbar": {
             "outlinewidth": 0,
             "ticks": ""
            },
            "type": "contourcarpet"
           }
          ],
          "heatmap": [
           {
            "colorbar": {
             "outlinewidth": 0,
             "ticks": ""
            },
            "colorscale": [
             [
              0,
              "#0d0887"
             ],
             [
              0.1111111111111111,
              "#46039f"
             ],
             [
              0.2222222222222222,
              "#7201a8"
             ],
             [
              0.3333333333333333,
              "#9c179e"
             ],
             [
              0.4444444444444444,
              "#bd3786"
             ],
             [
              0.5555555555555556,
              "#d8576b"
             ],
             [
              0.6666666666666666,
              "#ed7953"
             ],
             [
              0.7777777777777778,
              "#fb9f3a"
             ],
             [
              0.8888888888888888,
              "#fdca26"
             ],
             [
              1,
              "#f0f921"
             ]
            ],
            "type": "heatmap"
           }
          ],
          "heatmapgl": [
           {
            "colorbar": {
             "outlinewidth": 0,
             "ticks": ""
            },
            "colorscale": [
             [
              0,
              "#0d0887"
             ],
             [
              0.1111111111111111,
              "#46039f"
             ],
             [
              0.2222222222222222,
              "#7201a8"
             ],
             [
              0.3333333333333333,
              "#9c179e"
             ],
             [
              0.4444444444444444,
              "#bd3786"
             ],
             [
              0.5555555555555556,
              "#d8576b"
             ],
             [
              0.6666666666666666,
              "#ed7953"
             ],
             [
              0.7777777777777778,
              "#fb9f3a"
             ],
             [
              0.8888888888888888,
              "#fdca26"
             ],
             [
              1,
              "#f0f921"
             ]
            ],
            "type": "heatmapgl"
           }
          ],
          "histogram": [
           {
            "marker": {
             "pattern": {
              "fillmode": "overlay",
              "size": 10,
              "solidity": 0.2
             }
            },
            "type": "histogram"
           }
          ],
          "histogram2d": [
           {
            "colorbar": {
             "outlinewidth": 0,
             "ticks": ""
            },
            "colorscale": [
             [
              0,
              "#0d0887"
             ],
             [
              0.1111111111111111,
              "#46039f"
             ],
             [
              0.2222222222222222,
              "#7201a8"
             ],
             [
              0.3333333333333333,
              "#9c179e"
             ],
             [
              0.4444444444444444,
              "#bd3786"
             ],
             [
              0.5555555555555556,
              "#d8576b"
             ],
             [
              0.6666666666666666,
              "#ed7953"
             ],
             [
              0.7777777777777778,
              "#fb9f3a"
             ],
             [
              0.8888888888888888,
              "#fdca26"
             ],
             [
              1,
              "#f0f921"
             ]
            ],
            "type": "histogram2d"
           }
          ],
          "histogram2dcontour": [
           {
            "colorbar": {
             "outlinewidth": 0,
             "ticks": ""
            },
            "colorscale": [
             [
              0,
              "#0d0887"
             ],
             [
              0.1111111111111111,
              "#46039f"
             ],
             [
              0.2222222222222222,
              "#7201a8"
             ],
             [
              0.3333333333333333,
              "#9c179e"
             ],
             [
              0.4444444444444444,
              "#bd3786"
             ],
             [
              0.5555555555555556,
              "#d8576b"
             ],
             [
              0.6666666666666666,
              "#ed7953"
             ],
             [
              0.7777777777777778,
              "#fb9f3a"
             ],
             [
              0.8888888888888888,
              "#fdca26"
             ],
             [
              1,
              "#f0f921"
             ]
            ],
            "type": "histogram2dcontour"
           }
          ],
          "mesh3d": [
           {
            "colorbar": {
             "outlinewidth": 0,
             "ticks": ""
            },
            "type": "mesh3d"
           }
          ],
          "parcoords": [
           {
            "line": {
             "colorbar": {
              "outlinewidth": 0,
              "ticks": ""
             }
            },
            "type": "parcoords"
           }
          ],
          "pie": [
           {
            "automargin": true,
            "type": "pie"
           }
          ],
          "scatter": [
           {
            "fillpattern": {
             "fillmode": "overlay",
             "size": 10,
             "solidity": 0.2
            },
            "type": "scatter"
           }
          ],
          "scatter3d": [
           {
            "line": {
             "colorbar": {
              "outlinewidth": 0,
              "ticks": ""
             }
            },
            "marker": {
             "colorbar": {
              "outlinewidth": 0,
              "ticks": ""
             }
            },
            "type": "scatter3d"
           }
          ],
          "scattercarpet": [
           {
            "marker": {
             "colorbar": {
              "outlinewidth": 0,
              "ticks": ""
             }
            },
            "type": "scattercarpet"
           }
          ],
          "scattergeo": [
           {
            "marker": {
             "colorbar": {
              "outlinewidth": 0,
              "ticks": ""
             }
            },
            "type": "scattergeo"
           }
          ],
          "scattergl": [
           {
            "marker": {
             "colorbar": {
              "outlinewidth": 0,
              "ticks": ""
             }
            },
            "type": "scattergl"
           }
          ],
          "scattermapbox": [
           {
            "marker": {
             "colorbar": {
              "outlinewidth": 0,
              "ticks": ""
             }
            },
            "type": "scattermapbox"
           }
          ],
          "scatterpolar": [
           {
            "marker": {
             "colorbar": {
              "outlinewidth": 0,
              "ticks": ""
             }
            },
            "type": "scatterpolar"
           }
          ],
          "scatterpolargl": [
           {
            "marker": {
             "colorbar": {
              "outlinewidth": 0,
              "ticks": ""
             }
            },
            "type": "scatterpolargl"
           }
          ],
          "scatterternary": [
           {
            "marker": {
             "colorbar": {
              "outlinewidth": 0,
              "ticks": ""
             }
            },
            "type": "scatterternary"
           }
          ],
          "surface": [
           {
            "colorbar": {
             "outlinewidth": 0,
             "ticks": ""
            },
            "colorscale": [
             [
              0,
              "#0d0887"
             ],
             [
              0.1111111111111111,
              "#46039f"
             ],
             [
              0.2222222222222222,
              "#7201a8"
             ],
             [
              0.3333333333333333,
              "#9c179e"
             ],
             [
              0.4444444444444444,
              "#bd3786"
             ],
             [
              0.5555555555555556,
              "#d8576b"
             ],
             [
              0.6666666666666666,
              "#ed7953"
             ],
             [
              0.7777777777777778,
              "#fb9f3a"
             ],
             [
              0.8888888888888888,
              "#fdca26"
             ],
             [
              1,
              "#f0f921"
             ]
            ],
            "type": "surface"
           }
          ],
          "table": [
           {
            "cells": {
             "fill": {
              "color": "#EBF0F8"
             },
             "line": {
              "color": "white"
             }
            },
            "header": {
             "fill": {
              "color": "#C8D4E3"
             },
             "line": {
              "color": "white"
             }
            },
            "type": "table"
           }
          ]
         },
         "layout": {
          "annotationdefaults": {
           "arrowcolor": "#2a3f5f",
           "arrowhead": 0,
           "arrowwidth": 1
          },
          "autotypenumbers": "strict",
          "coloraxis": {
           "colorbar": {
            "outlinewidth": 0,
            "ticks": ""
           }
          },
          "colorscale": {
           "diverging": [
            [
             0,
             "#8e0152"
            ],
            [
             0.1,
             "#c51b7d"
            ],
            [
             0.2,
             "#de77ae"
            ],
            [
             0.3,
             "#f1b6da"
            ],
            [
             0.4,
             "#fde0ef"
            ],
            [
             0.5,
             "#f7f7f7"
            ],
            [
             0.6,
             "#e6f5d0"
            ],
            [
             0.7,
             "#b8e186"
            ],
            [
             0.8,
             "#7fbc41"
            ],
            [
             0.9,
             "#4d9221"
            ],
            [
             1,
             "#276419"
            ]
           ],
           "sequential": [
            [
             0,
             "#0d0887"
            ],
            [
             0.1111111111111111,
             "#46039f"
            ],
            [
             0.2222222222222222,
             "#7201a8"
            ],
            [
             0.3333333333333333,
             "#9c179e"
            ],
            [
             0.4444444444444444,
             "#bd3786"
            ],
            [
             0.5555555555555556,
             "#d8576b"
            ],
            [
             0.6666666666666666,
             "#ed7953"
            ],
            [
             0.7777777777777778,
             "#fb9f3a"
            ],
            [
             0.8888888888888888,
             "#fdca26"
            ],
            [
             1,
             "#f0f921"
            ]
           ],
           "sequentialminus": [
            [
             0,
             "#0d0887"
            ],
            [
             0.1111111111111111,
             "#46039f"
            ],
            [
             0.2222222222222222,
             "#7201a8"
            ],
            [
             0.3333333333333333,
             "#9c179e"
            ],
            [
             0.4444444444444444,
             "#bd3786"
            ],
            [
             0.5555555555555556,
             "#d8576b"
            ],
            [
             0.6666666666666666,
             "#ed7953"
            ],
            [
             0.7777777777777778,
             "#fb9f3a"
            ],
            [
             0.8888888888888888,
             "#fdca26"
            ],
            [
             1,
             "#f0f921"
            ]
           ]
          },
          "colorway": [
           "#636efa",
           "#EF553B",
           "#00cc96",
           "#ab63fa",
           "#FFA15A",
           "#19d3f3",
           "#FF6692",
           "#B6E880",
           "#FF97FF",
           "#FECB52"
          ],
          "font": {
           "color": "#2a3f5f"
          },
          "geo": {
           "bgcolor": "white",
           "lakecolor": "white",
           "landcolor": "#E5ECF6",
           "showlakes": true,
           "showland": true,
           "subunitcolor": "white"
          },
          "hoverlabel": {
           "align": "left"
          },
          "hovermode": "closest",
          "mapbox": {
           "style": "light"
          },
          "paper_bgcolor": "white",
          "plot_bgcolor": "#E5ECF6",
          "polar": {
           "angularaxis": {
            "gridcolor": "white",
            "linecolor": "white",
            "ticks": ""
           },
           "bgcolor": "#E5ECF6",
           "radialaxis": {
            "gridcolor": "white",
            "linecolor": "white",
            "ticks": ""
           }
          },
          "scene": {
           "xaxis": {
            "backgroundcolor": "#E5ECF6",
            "gridcolor": "white",
            "gridwidth": 2,
            "linecolor": "white",
            "showbackground": true,
            "ticks": "",
            "zerolinecolor": "white"
           },
           "yaxis": {
            "backgroundcolor": "#E5ECF6",
            "gridcolor": "white",
            "gridwidth": 2,
            "linecolor": "white",
            "showbackground": true,
            "ticks": "",
            "zerolinecolor": "white"
           },
           "zaxis": {
            "backgroundcolor": "#E5ECF6",
            "gridcolor": "white",
            "gridwidth": 2,
            "linecolor": "white",
            "showbackground": true,
            "ticks": "",
            "zerolinecolor": "white"
           }
          },
          "shapedefaults": {
           "line": {
            "color": "#2a3f5f"
           }
          },
          "ternary": {
           "aaxis": {
            "gridcolor": "white",
            "linecolor": "white",
            "ticks": ""
           },
           "baxis": {
            "gridcolor": "white",
            "linecolor": "white",
            "ticks": ""
           },
           "bgcolor": "#E5ECF6",
           "caxis": {
            "gridcolor": "white",
            "linecolor": "white",
            "ticks": ""
           }
          },
          "title": {
           "x": 0.05
          },
          "xaxis": {
           "automargin": true,
           "gridcolor": "white",
           "linecolor": "white",
           "ticks": "",
           "title": {
            "standoff": 15
           },
           "zerolinecolor": "white",
           "zerolinewidth": 2
          },
          "yaxis": {
           "automargin": true,
           "gridcolor": "white",
           "linecolor": "white",
           "ticks": "",
           "title": {
            "standoff": 15
           },
           "zerolinecolor": "white",
           "zerolinewidth": 2
          }
         }
        },
        "xaxis": {
         "anchor": "y",
         "domain": [
          0,
          1
         ],
         "title": {
          "text": "Date"
         }
        },
        "yaxis": {
         "anchor": "x",
         "domain": [
          0,
          1
         ],
         "title": {
          "text": "GPU Power Used (W)"
         }
        }
       }
      },
      "text/html": [
       "<div>                            <div id=\"00fc4132-2ea9-4700-aca9-126d32716492\" class=\"plotly-graph-div\" style=\"height:525px; width:100%;\"></div>            <script type=\"text/javascript\">                require([\"plotly\"], function(Plotly) {                    window.PLOTLYENV=window.PLOTLYENV || {};                                    if (document.getElementById(\"00fc4132-2ea9-4700-aca9-126d32716492\")) {                    Plotly.newPlot(                        \"00fc4132-2ea9-4700-aca9-126d32716492\",                        [{\"hovertemplate\":\"variable=GPU power<br>date=%{x}<br>value=%{y}<extra></extra>\",\"legendgroup\":\"GPU power\",\"line\":{\"color\":\"#636efa\",\"dash\":\"solid\"},\"marker\":{\"symbol\":\"circle\"},\"mode\":\"lines\",\"name\":\"GPU power\",\"orientation\":\"v\",\"showlegend\":true,\"x\":[\"2022-09-22T16:20:00\",\"2022-09-22T16:30:00\",\"2022-09-22T16:40:00\",\"2022-09-22T16:50:00\",\"2022-09-22T17:00:00\",\"2022-09-22T17:10:00\",\"2022-09-22T17:20:00\",\"2022-09-22T17:30:00\",\"2022-09-22T17:40:00\",\"2022-09-22T17:50:00\",\"2022-09-22T18:00:00\",\"2022-09-22T18:10:00\",\"2022-09-22T18:20:00\",\"2022-09-22T18:30:00\",\"2022-09-22T18:40:00\",\"2022-09-22T18:50:00\",\"2022-09-22T19:00:00\",\"2022-09-22T19:10:00\",\"2022-09-22T19:20:00\",\"2022-09-22T19:30:00\",\"2022-09-22T19:40:00\",\"2022-09-22T19:50:00\",\"2022-09-22T20:00:00\",\"2022-09-22T20:10:00\",\"2022-09-22T20:20:00\",\"2022-09-22T20:30:00\",\"2022-09-22T20:40:00\",\"2022-09-22T20:50:00\",\"2022-09-22T21:00:00\",\"2022-09-22T21:10:00\",\"2022-09-22T21:20:00\",\"2022-09-22T21:30:00\",\"2022-09-22T21:40:00\",\"2022-09-22T21:50:00\",\"2022-09-22T22:00:00\",\"2022-09-22T22:10:00\",\"2022-09-22T22:20:00\",\"2022-09-22T22:30:00\",\"2022-09-22T22:40:00\",\"2022-09-22T22:50:00\",\"2022-09-22T23:00:00\",\"2022-09-22T23:10:00\",\"2022-09-22T23:20:00\",\"2022-09-22T23:30:00\",\"2022-09-22T23:40:00\",\"2022-09-22T23:50:00\",\"2022-09-23T00:00:00\",\"2022-09-23T00:10:00\",\"2022-09-23T00:20:00\",\"2022-09-23T00:30:00\",\"2022-09-23T00:40:00\",\"2022-09-23T00:50:00\",\"2022-09-23T01:00:00\",\"2022-09-23T01:10:00\",\"2022-09-23T01:20:00\",\"2022-09-23T01:30:00\",\"2022-09-23T01:40:00\",\"2022-09-23T01:50:00\",\"2022-09-23T02:00:00\",\"2022-09-23T02:10:00\",\"2022-09-23T02:20:00\",\"2022-09-23T02:30:00\",\"2022-09-23T02:40:00\",\"2022-09-23T02:50:00\",\"2022-09-23T03:00:00\",\"2022-09-23T03:10:00\",\"2022-09-23T03:20:00\",\"2022-09-23T03:30:00\",\"2022-09-23T03:40:00\",\"2022-09-23T03:50:00\",\"2022-09-23T04:00:00\",\"2022-09-23T04:10:00\",\"2022-09-23T04:20:00\",\"2022-09-23T04:30:00\",\"2022-09-23T04:40:00\",\"2022-09-23T04:50:00\",\"2022-09-23T05:00:00\",\"2022-09-23T05:10:00\",\"2022-09-23T05:20:00\",\"2022-09-23T05:30:00\",\"2022-09-23T05:40:00\",\"2022-09-23T05:50:00\",\"2022-09-23T06:00:00\",\"2022-09-23T06:10:00\",\"2022-09-23T06:20:00\",\"2022-09-23T06:30:00\",\"2022-09-23T06:40:00\",\"2022-09-23T06:50:00\",\"2022-09-23T07:00:00\",\"2022-09-23T07:10:00\",\"2022-09-23T07:20:00\",\"2022-09-23T07:30:00\",\"2022-09-23T07:40:00\",\"2022-09-23T07:50:00\",\"2022-09-23T08:00:00\",\"2022-09-23T08:10:00\",\"2022-09-23T08:20:00\",\"2022-09-23T08:30:00\",\"2022-09-23T08:40:00\",\"2022-09-23T08:50:00\",\"2022-09-23T09:00:00\",\"2022-09-23T09:10:00\",\"2022-09-23T09:20:00\",\"2022-09-23T09:30:00\",\"2022-09-23T09:40:00\",\"2022-09-23T09:50:00\",\"2022-09-23T10:00:00\",\"2022-09-23T10:10:00\",\"2022-09-23T10:20:00\",\"2022-09-23T10:30:00\",\"2022-09-23T10:40:00\",\"2022-09-23T10:50:00\",\"2022-09-23T11:00:00\",\"2022-09-23T11:10:00\",\"2022-09-23T11:20:00\",\"2022-09-23T11:30:00\",\"2022-09-23T11:40:00\",\"2022-09-23T11:50:00\",\"2022-09-23T12:00:00\",\"2022-09-23T12:10:00\",\"2022-09-23T12:20:00\",\"2022-09-23T12:30:00\",\"2022-09-23T12:40:00\",\"2022-09-23T12:50:00\",\"2022-09-23T13:00:00\",\"2022-09-23T13:10:00\",\"2022-09-23T13:20:00\",\"2022-09-23T13:30:00\",\"2022-09-23T13:40:00\",\"2022-09-23T13:50:00\",\"2022-09-23T14:00:00\",\"2022-09-23T14:10:00\",\"2022-09-23T14:20:00\",\"2022-09-23T14:30:00\",\"2022-09-23T14:40:00\",\"2022-09-23T14:50:00\",\"2022-09-23T15:00:00\",\"2022-09-23T15:10:00\",\"2022-09-23T15:20:00\",\"2022-09-23T15:30:00\",\"2022-09-23T15:40:00\",\"2022-09-23T15:50:00\",\"2022-09-23T16:00:00\",\"2022-09-23T16:10:00\",\"2022-09-23T16:20:00\",\"2022-09-23T16:30:00\",\"2022-09-23T16:40:00\",\"2022-09-23T16:50:00\",\"2022-09-23T17:00:00\",\"2022-09-23T17:10:00\",\"2022-09-23T17:20:00\",\"2022-09-23T17:30:00\",\"2022-09-23T17:40:00\",\"2022-09-23T17:50:00\",\"2022-09-23T18:00:00\",\"2022-09-23T18:10:00\",\"2022-09-23T18:20:00\",\"2022-09-23T18:30:00\",\"2022-09-23T18:40:00\",\"2022-09-23T18:50:00\",\"2022-09-23T19:00:00\",\"2022-09-23T19:10:00\",\"2022-09-23T19:20:00\",\"2022-09-23T19:30:00\",\"2022-09-23T19:40:00\",\"2022-09-23T19:50:00\",\"2022-09-23T20:00:00\",\"2022-09-23T20:10:00\",\"2022-09-23T20:20:00\",\"2022-09-23T20:30:00\",\"2022-09-23T20:40:00\",\"2022-09-23T20:50:00\",\"2022-09-23T21:00:00\",\"2022-09-23T21:10:00\",\"2022-09-23T21:20:00\",\"2022-09-23T21:30:00\",\"2022-09-23T21:40:00\",\"2022-09-23T21:50:00\",\"2022-09-23T22:00:00\",\"2022-09-23T22:10:00\",\"2022-09-23T22:20:00\",\"2022-09-23T22:30:00\",\"2022-09-23T22:40:00\",\"2022-09-23T22:50:00\",\"2022-09-23T23:00:00\",\"2022-09-23T23:10:00\",\"2022-09-23T23:20:00\",\"2022-09-23T23:30:00\",\"2022-09-23T23:40:00\",\"2022-09-23T23:50:00\",\"2022-09-24T00:00:00\",\"2022-09-24T00:10:00\",\"2022-09-24T00:20:00\",\"2022-09-24T00:30:00\",\"2022-09-24T00:40:00\",\"2022-09-24T00:50:00\",\"2022-09-24T01:00:00\",\"2022-09-24T01:10:00\",\"2022-09-24T01:20:00\",\"2022-09-24T01:30:00\",\"2022-09-24T01:40:00\",\"2022-09-24T01:50:00\",\"2022-09-24T02:00:00\",\"2022-09-24T02:10:00\",\"2022-09-24T02:20:00\",\"2022-09-24T02:30:00\",\"2022-09-24T02:40:00\",\"2022-09-24T02:50:00\",\"2022-09-24T03:00:00\",\"2022-09-24T03:10:00\",\"2022-09-24T03:20:00\",\"2022-09-24T03:30:00\",\"2022-09-24T03:40:00\",\"2022-09-24T03:50:00\",\"2022-09-24T04:00:00\",\"2022-09-24T04:10:00\",\"2022-09-24T04:20:00\",\"2022-09-24T04:30:00\",\"2022-09-24T04:40:00\",\"2022-09-24T04:50:00\",\"2022-09-24T05:00:00\",\"2022-09-24T05:10:00\",\"2022-09-24T05:20:00\",\"2022-09-24T05:30:00\",\"2022-09-24T05:40:00\",\"2022-09-24T05:50:00\",\"2022-09-24T06:00:00\",\"2022-09-24T06:10:00\",\"2022-09-24T06:20:00\",\"2022-09-24T06:30:00\",\"2022-09-24T06:40:00\",\"2022-09-24T06:50:00\",\"2022-09-24T07:00:00\",\"2022-09-24T07:10:00\",\"2022-09-24T07:20:00\",\"2022-09-24T07:30:00\",\"2022-09-24T07:40:00\",\"2022-09-24T07:50:00\",\"2022-09-24T08:00:00\",\"2022-09-24T08:10:00\",\"2022-09-24T08:20:00\",\"2022-09-24T08:30:00\",\"2022-09-24T08:40:00\",\"2022-09-24T08:50:00\",\"2022-09-24T09:00:00\",\"2022-09-24T09:10:00\",\"2022-09-24T09:20:00\",\"2022-09-24T09:30:00\",\"2022-09-24T09:40:00\",\"2022-09-24T09:50:00\",\"2022-09-24T10:00:00\",\"2022-09-24T10:10:00\",\"2022-09-24T10:20:00\",\"2022-09-24T10:30:00\",\"2022-09-24T10:40:00\",\"2022-09-24T10:50:00\",\"2022-09-24T11:00:00\",\"2022-09-24T11:10:00\",\"2022-09-24T11:20:00\",\"2022-09-24T11:30:00\",\"2022-09-24T11:40:00\",\"2022-09-24T11:50:00\",\"2022-09-24T12:00:00\",\"2022-09-24T12:10:00\",\"2022-09-24T12:20:00\",\"2022-09-24T12:30:00\",\"2022-09-24T12:40:00\",\"2022-09-24T12:50:00\",\"2022-09-24T13:00:00\",\"2022-09-24T13:10:00\",\"2022-09-24T13:20:00\",\"2022-09-24T13:30:00\",\"2022-09-24T13:40:00\",\"2022-09-24T13:50:00\",\"2022-09-24T14:00:00\",\"2022-09-24T14:10:00\",\"2022-09-24T14:20:00\",\"2022-09-24T14:30:00\",\"2022-09-24T14:40:00\",\"2022-09-24T14:50:00\",\"2022-09-24T15:00:00\",\"2022-09-24T15:10:00\",\"2022-09-24T15:20:00\",\"2022-09-24T15:30:00\",\"2022-09-24T15:40:00\",\"2022-09-24T15:50:00\",\"2022-09-24T16:00:00\",\"2022-09-24T16:10:00\",\"2022-09-24T16:20:00\",\"2022-09-24T16:30:00\",\"2022-09-24T16:40:00\",\"2022-09-24T16:50:00\",\"2022-09-24T17:00:00\",\"2022-09-24T17:10:00\",\"2022-09-24T17:20:00\",\"2022-09-24T17:30:00\",\"2022-09-24T17:40:00\",\"2022-09-24T17:50:00\",\"2022-09-24T18:00:00\",\"2022-09-24T18:10:00\",\"2022-09-24T18:20:00\",\"2022-09-24T18:30:00\",\"2022-09-24T18:40:00\",\"2022-09-24T18:50:00\",\"2022-09-24T19:00:00\",\"2022-09-24T19:10:00\",\"2022-09-24T19:20:00\",\"2022-09-24T19:30:00\",\"2022-09-24T19:40:00\",\"2022-09-24T19:50:00\",\"2022-09-24T20:00:00\",\"2022-09-24T20:10:00\",\"2022-09-24T20:20:00\",\"2022-09-24T20:30:00\",\"2022-09-24T20:40:00\",\"2022-09-24T20:50:00\",\"2022-09-24T21:00:00\",\"2022-09-24T21:10:00\",\"2022-09-24T21:20:00\",\"2022-09-24T21:30:00\",\"2022-09-24T21:40:00\",\"2022-09-24T21:50:00\",\"2022-09-24T22:00:00\",\"2022-09-24T22:10:00\",\"2022-09-24T22:20:00\",\"2022-09-24T22:30:00\",\"2022-09-24T22:40:00\",\"2022-09-24T22:50:00\",\"2022-09-24T23:00:00\",\"2022-09-24T23:10:00\",\"2022-09-24T23:20:00\",\"2022-09-24T23:30:00\",\"2022-09-24T23:40:00\",\"2022-09-24T23:50:00\",\"2022-09-25T00:00:00\",\"2022-09-25T00:10:00\",\"2022-09-25T00:20:00\",\"2022-09-25T00:30:00\",\"2022-09-25T00:40:00\",\"2022-09-25T00:50:00\",\"2022-09-25T01:00:00\",\"2022-09-25T01:10:00\",\"2022-09-25T01:20:00\",\"2022-09-25T01:30:00\",\"2022-09-25T01:40:00\",\"2022-09-25T01:50:00\",\"2022-09-25T02:00:00\",\"2022-09-25T02:10:00\",\"2022-09-25T02:20:00\",\"2022-09-25T02:30:00\",\"2022-09-25T02:40:00\",\"2022-09-25T02:50:00\",\"2022-09-25T03:00:00\",\"2022-09-25T03:10:00\",\"2022-09-25T03:20:00\",\"2022-09-25T03:30:00\",\"2022-09-25T03:40:00\",\"2022-09-25T03:50:00\",\"2022-09-25T04:00:00\",\"2022-09-25T04:10:00\",\"2022-09-25T04:20:00\",\"2022-09-25T04:30:00\",\"2022-09-25T04:40:00\",\"2022-09-25T04:50:00\",\"2022-09-25T05:00:00\",\"2022-09-25T05:10:00\",\"2022-09-25T05:20:00\",\"2022-09-25T05:30:00\",\"2022-09-25T05:40:00\",\"2022-09-25T05:50:00\",\"2022-09-25T06:00:00\",\"2022-09-25T06:10:00\",\"2022-09-25T06:20:00\",\"2022-09-25T06:30:00\",\"2022-09-25T06:40:00\",\"2022-09-25T06:50:00\",\"2022-09-25T07:00:00\",\"2022-09-25T07:10:00\",\"2022-09-25T07:20:00\",\"2022-09-25T07:30:00\",\"2022-09-25T07:40:00\",\"2022-09-25T07:50:00\",\"2022-09-25T08:00:00\",\"2022-09-25T08:10:00\",\"2022-09-25T08:20:00\",\"2022-09-25T08:30:00\",\"2022-09-25T08:40:00\",\"2022-09-25T08:50:00\",\"2022-09-25T09:00:00\",\"2022-09-25T09:10:00\",\"2022-09-25T09:20:00\",\"2022-09-25T09:30:00\",\"2022-09-25T09:40:00\",\"2022-09-25T09:50:00\",\"2022-09-25T10:00:00\",\"2022-09-25T10:10:00\",\"2022-09-25T10:20:00\",\"2022-09-25T10:30:00\",\"2022-09-25T10:40:00\",\"2022-09-25T10:50:00\",\"2022-09-25T11:00:00\",\"2022-09-25T11:10:00\",\"2022-09-25T11:20:00\",\"2022-09-25T11:30:00\",\"2022-09-25T11:40:00\",\"2022-09-25T11:50:00\",\"2022-09-25T12:00:00\",\"2022-09-25T12:10:00\",\"2022-09-25T12:20:00\",\"2022-09-25T12:30:00\",\"2022-09-25T12:40:00\",\"2022-09-25T12:50:00\",\"2022-09-25T13:00:00\",\"2022-09-25T13:10:00\",\"2022-09-25T13:20:00\",\"2022-09-25T13:30:00\",\"2022-09-25T13:40:00\",\"2022-09-25T13:50:00\",\"2022-09-25T14:00:00\",\"2022-09-25T14:10:00\",\"2022-09-25T14:20:00\",\"2022-09-25T14:30:00\",\"2022-09-25T14:40:00\",\"2022-09-25T14:50:00\",\"2022-09-25T15:00:00\",\"2022-09-25T15:10:00\",\"2022-09-25T15:20:00\",\"2022-09-25T15:30:00\",\"2022-09-25T15:40:00\",\"2022-09-25T15:50:00\",\"2022-09-25T16:00:00\",\"2022-09-25T16:10:00\",\"2022-09-25T16:20:00\",\"2022-09-25T16:30:00\",\"2022-09-25T16:40:00\",\"2022-09-25T16:50:00\",\"2022-09-25T17:00:00\",\"2022-09-25T17:10:00\",\"2022-09-25T17:20:00\",\"2022-09-25T17:30:00\",\"2022-09-25T17:40:00\",\"2022-09-25T17:50:00\",\"2022-09-25T18:00:00\",\"2022-09-25T18:10:00\",\"2022-09-25T18:20:00\",\"2022-09-25T18:30:00\",\"2022-09-25T18:40:00\",\"2022-09-25T18:50:00\",\"2022-09-25T19:00:00\",\"2022-09-25T19:10:00\",\"2022-09-25T19:20:00\",\"2022-09-25T19:30:00\",\"2022-09-25T19:40:00\",\"2022-09-25T19:50:00\",\"2022-09-25T20:00:00\",\"2022-09-25T20:10:00\",\"2022-09-25T20:20:00\",\"2022-09-25T20:30:00\",\"2022-09-25T20:40:00\",\"2022-09-25T20:50:00\",\"2022-09-25T21:00:00\",\"2022-09-25T21:10:00\",\"2022-09-25T21:20:00\",\"2022-09-25T21:30:00\",\"2022-09-25T21:40:00\",\"2022-09-25T21:50:00\",\"2022-09-25T22:00:00\",\"2022-09-25T22:10:00\",\"2022-09-25T22:20:00\",\"2022-09-25T22:30:00\",\"2022-09-25T22:40:00\",\"2022-09-25T22:50:00\",\"2022-09-25T23:00:00\",\"2022-09-25T23:10:00\",\"2022-09-25T23:20:00\",\"2022-09-25T23:30:00\",\"2022-09-25T23:40:00\",\"2022-09-25T23:50:00\",\"2022-09-26T00:00:00\",\"2022-09-26T00:10:00\",\"2022-09-26T00:20:00\",\"2022-09-26T00:30:00\",\"2022-09-26T00:40:00\",\"2022-09-26T00:50:00\",\"2022-09-26T01:00:00\",\"2022-09-26T01:10:00\",\"2022-09-26T01:20:00\",\"2022-09-26T01:30:00\",\"2022-09-26T01:40:00\",\"2022-09-26T01:50:00\",\"2022-09-26T02:00:00\",\"2022-09-26T02:10:00\",\"2022-09-26T02:20:00\",\"2022-09-26T02:30:00\",\"2022-09-26T02:40:00\",\"2022-09-26T02:50:00\",\"2022-09-26T03:00:00\",\"2022-09-26T03:10:00\",\"2022-09-26T03:20:00\",\"2022-09-26T03:30:00\",\"2022-09-26T03:40:00\",\"2022-09-26T03:50:00\",\"2022-09-26T04:00:00\",\"2022-09-26T04:10:00\",\"2022-09-26T04:20:00\",\"2022-09-26T04:30:00\",\"2022-09-26T04:40:00\",\"2022-09-26T04:50:00\",\"2022-09-26T05:00:00\",\"2022-09-26T05:10:00\",\"2022-09-26T05:20:00\",\"2022-09-26T05:30:00\",\"2022-09-26T05:40:00\",\"2022-09-26T05:50:00\",\"2022-09-26T06:00:00\",\"2022-09-26T06:10:00\",\"2022-09-26T06:20:00\",\"2022-09-26T06:30:00\",\"2022-09-26T06:40:00\",\"2022-09-26T06:50:00\",\"2022-09-26T07:00:00\",\"2022-09-26T07:10:00\",\"2022-09-26T07:20:00\",\"2022-09-26T07:30:00\",\"2022-09-26T07:40:00\",\"2022-09-26T07:50:00\",\"2022-09-26T08:00:00\",\"2022-09-26T08:10:00\",\"2022-09-26T08:20:00\",\"2022-09-26T08:30:00\",\"2022-09-26T08:40:00\",\"2022-09-26T08:50:00\",\"2022-09-26T09:00:00\",\"2022-09-26T09:10:00\",\"2022-09-26T09:20:00\",\"2022-09-26T09:30:00\",\"2022-09-26T09:40:00\",\"2022-09-26T09:50:00\",\"2022-09-26T10:00:00\",\"2022-09-26T10:10:00\",\"2022-09-26T10:20:00\",\"2022-09-26T10:30:00\",\"2022-09-26T10:40:00\",\"2022-09-26T10:50:00\",\"2022-09-26T11:00:00\",\"2022-09-26T11:10:00\",\"2022-09-26T11:20:00\",\"2022-09-26T11:30:00\",\"2022-09-26T11:40:00\",\"2022-09-26T11:50:00\",\"2022-09-26T12:00:00\",\"2022-09-26T12:10:00\",\"2022-09-26T12:20:00\",\"2022-09-26T12:30:00\",\"2022-09-26T12:40:00\",\"2022-09-26T12:50:00\"],\"xaxis\":\"x\",\"y\":[1763.207,1412.097,2599.632,1476.121,2447.751,2504.093,2467.2520000000004,3342.273,2434.375,2505.098,2467.8160000000003,2525.574,2522.764,2629.348,3435.26,2535.6060000000007,2520.932,2447.5600000000004,2468.9560000000006,2518.282,2397.8250000000007,1645.904,1407.187,2490.002,2415.738,2437.6240000000003,1329.727,1309.782,1314.465,1342.451,1301.438,2437.281,1311.851,1306.056,1306.3100000000002,1312.114,1342.728,1326.264,2430.9740000000006,1312.411,1314.773,2406.835,1358.12,2409.88,1326.1830000000002,1300.378,1299.116,2453.747,1333.743,1318.688,1303.739,1299.773,1312.993,1329.561,1300.091,1297.713,1312.227,1300.004,1322.73,1308.6780000000003,2390.038,3569.977,1307.548,1312.725,1305.561,1298.51,1297.554,1311.853,1296.943,1306.057,1302.939,1321.48,1340.872,1308.238,1302.886,1320.638,1306.345,1310.695,1303.452,1298.258,2462.042,2438.079,1296.427,1302.65,1304.168,1312.448,1304.7230000000002,1336.013,1322.582,1319.303,1315.854,2336.877,1299.249,1326.964,1300.703,2369.896,1311.6,2394.022,1319.549,1330.966,2399.241,1932.294,2448.627,1316.898,2435.813,2434.503,1816.471,2493.582,2472.519,2435.55,2490.511,2495.502,1307.049,1307.07,1310.92,1318.696,1309.375,1330.235,1334.045,2387.237,1343.274,2525.813,1396.022,1418.735,2506.967,1420.955,2484.802,1409.147,1405.714,2504.36,1392.256,2465.062,2498.767,2522.262,1315.371,2472.725,2465.763,2502.869,2513.54,2583.908,1319.13,2384.488,1314.622,1304.795,1307.362,1303.883,2443.034000000001,1537.589,2423.606,1332.544,1332.519,1326.214,1317.082,1308.18,2461.3910000000005,1303.076,2390.347,1326.036,1308.508,2417.939,1308.463,1301.033,1311.957,1301.765,1302.754,1324.055,1318.5430000000003,1308.842,1327.968,2434.893,1320.387,1311.437,2365.156,2387.9490000000005,1352.094,1308.508,1340.6970000000003,1317.968,1302.15,1300.289,1312.388,1633.7110000000002,1306.409,1316.824,1317.084,2392.714,1318.067,1301.31,1329.997,1301.852,1313.262,1331.532,1307.63,1321.992,1307.3720000000003,1318.626,1311.073,1300.98,1299.671,1300.616,1305.683,2392.098,1310.364,1306.02,1312.592,1308.237,1304.174,1299.583,1301.858,1308.355,2401.872,1301.329,1304.619,1299.224,1302.515,1337.207,2399.27,1301.52,2407.905,1312.124,1309.426,2391.4460000000004,1303.204,1303.1580000000004,1300.594,1327.747,2509.5940000000005,2467.2580000000003,1316.824,1300.347,2416.888,1327.354,1311.375,1311.113,2419.097,2415.175,1300.041,1333.198,1308.789,1316.035,1320.255,2450.0950000000003,1326.559,2403.8160000000003,1302.358,1304.945,1325.216,2419.485,1315.389,2434.268,1350.664,1312.898,1332.08,1338.653,2666.946,1319.408,2497.668,1315.7250000000004,1325.068,1355.9730000000002,2451.199,1314.364,1304.992,1311.681,1307.612,1303.926,1299.957,1307.956,1299.334,1298.0100000000002,2370.142,2433.002,1730.832,1322.315,1328.808,3203.572,1334.879,2918.964,2403.018,1319.538,1342.305,1310.836,1338.661,1317.932,1321.509,1315.182,1316.26,1362.154,1332.37,1353.212,1334.342,1351.795,1341.466,1366.105,1358.573,1325.908,1341.7,2443.435,1347.455,2192.14,2446.996,2447.061,1338.208,1356.684,1349.289,1975.617,1322.491,1338.89,1338.809,1364.898,1340.245,1346.4720000000002,1388.244,2381.446,1316.29,1332.0290000000002,2386.599,2401.648,2431.44,1329.0120000000002,2707.4060000000004,1340.392,1341.803,1319.592,1323.878,1330.1940000000002,2404.781,1321.652,1349.1550000000002,1319.6,2460.329,1324.883,1319.326,1324.097,2421.7870000000003,1317.223,1799.72,1319.216,1326.807,1354.814,1317.349,1315.892,1325.824,1934.7920000000004,1355.268,1325.138,1317.445,1314.878,1347.239,1333.044,1326.178,2674.712,1321.839,1337.433,1320.373,1316.824,1333.901,2392.84,1682.57,1307.876,1331.446,1311.046,1308.809,1347.563,1304.999,2396.93,2397.524,1310.712,1309.279,2394.291,2388.201,1300.879,1302.792,1302.266,1317.749,1335.87,1314.966,1309.686,1306.916,1308.057,1307.448,1334.331,2338.458,1304.537,1299.168,2438.523,1307.501,1308.232,1324.529,1308.951,2434.639,1308.262,2447.334,1311.193,1304.575,1307.479,1331.408,1314.673,2394.055,2399.732,2320.386,1307.618,1300.097,1303.68,2401.821,1318.926,2414.928,2411.6490000000003,2515.022,2461.257,1309.795,1341.4100000000003,3719.2180000000008,1312.3780000000002,1326.474,2460.157,1324.473,2157.865,2391.3260000000005,2400.866,1314.372,2436.967,1337.135,1339.009,1316.155,1306.6,2377.773,1347.584,2447.536,1342.993,2902.821,1306.482,2294.042,2399.298,2441.34,1315.275,1309.757,1556.898,1318.162,2529.2200000000003,2445.557,1325.224,1340.038,2390.51,2569.766,1309.741,1332.136,2533.5750000000003,2532.915,2452.725,2499.154,1519.3190000000002,2437.107,1348.302,1710.5750000000005,1319.6800000000003,2442.94,1327.5260000000003,1318.533,2543.813,2474.741,2510.811,2433.434,1555.2070000000003,2372.288,2361.2960000000003,2597.407,2533.106,1336.35,2520.397,2438.154,1397.111,1912.209,2058.315,1319.137,2400.562,2419.377,1335.686,1324.422,2424.981,1311.518,2414.029,2497.302,1305.444,1301.119,2355.75,1309.09,1303.329,1310.613,1300.89,1316.345,1315.471,1343.652,2411.1,2527.023,1309.398,3272.5030000000006,1332.1980000000003,2376.28,1334.437,1309.799,1302.207,1301.4320000000002,1307.246,1301.398,1298.953,1300.215,1307.604,1298.988,1299.483,1297.228,2383.741,1301.344,1343.955,2479.119,1310.29,1307.0570000000002,2389.821,2160.952,2449.875,2053.103,2451.732,1312.393,1308.064,1332.451,1333.248,1307.408,1312.504,1320.672,1303.381,1344.399,2417.829,1346.9260000000002,1354.963,2417.342,1334.9110000000005,1334.743,2429.1910000000003,2492.3110000000006,1334.083,2487.9210000000003,1351.719,1320.561,1340.323,1355.834,2430.616,1329.506,2414.598,1310.906,1310.463,2418.653,2490.415,3601.582,1900.962,2431.645,2402.331],\"yaxis\":\"y\",\"type\":\"scatter\"}],                        {\"template\":{\"data\":{\"histogram2dcontour\":[{\"type\":\"histogram2dcontour\",\"colorbar\":{\"outlinewidth\":0,\"ticks\":\"\"},\"colorscale\":[[0.0,\"#0d0887\"],[0.1111111111111111,\"#46039f\"],[0.2222222222222222,\"#7201a8\"],[0.3333333333333333,\"#9c179e\"],[0.4444444444444444,\"#bd3786\"],[0.5555555555555556,\"#d8576b\"],[0.6666666666666666,\"#ed7953\"],[0.7777777777777778,\"#fb9f3a\"],[0.8888888888888888,\"#fdca26\"],[1.0,\"#f0f921\"]]}],\"choropleth\":[{\"type\":\"choropleth\",\"colorbar\":{\"outlinewidth\":0,\"ticks\":\"\"}}],\"histogram2d\":[{\"type\":\"histogram2d\",\"colorbar\":{\"outlinewidth\":0,\"ticks\":\"\"},\"colorscale\":[[0.0,\"#0d0887\"],[0.1111111111111111,\"#46039f\"],[0.2222222222222222,\"#7201a8\"],[0.3333333333333333,\"#9c179e\"],[0.4444444444444444,\"#bd3786\"],[0.5555555555555556,\"#d8576b\"],[0.6666666666666666,\"#ed7953\"],[0.7777777777777778,\"#fb9f3a\"],[0.8888888888888888,\"#fdca26\"],[1.0,\"#f0f921\"]]}],\"heatmap\":[{\"type\":\"heatmap\",\"colorbar\":{\"outlinewidth\":0,\"ticks\":\"\"},\"colorscale\":[[0.0,\"#0d0887\"],[0.1111111111111111,\"#46039f\"],[0.2222222222222222,\"#7201a8\"],[0.3333333333333333,\"#9c179e\"],[0.4444444444444444,\"#bd3786\"],[0.5555555555555556,\"#d8576b\"],[0.6666666666666666,\"#ed7953\"],[0.7777777777777778,\"#fb9f3a\"],[0.8888888888888888,\"#fdca26\"],[1.0,\"#f0f921\"]]}],\"heatmapgl\":[{\"type\":\"heatmapgl\",\"colorbar\":{\"outlinewidth\":0,\"ticks\":\"\"},\"colorscale\":[[0.0,\"#0d0887\"],[0.1111111111111111,\"#46039f\"],[0.2222222222222222,\"#7201a8\"],[0.3333333333333333,\"#9c179e\"],[0.4444444444444444,\"#bd3786\"],[0.5555555555555556,\"#d8576b\"],[0.6666666666666666,\"#ed7953\"],[0.7777777777777778,\"#fb9f3a\"],[0.8888888888888888,\"#fdca26\"],[1.0,\"#f0f921\"]]}],\"contourcarpet\":[{\"type\":\"contourcarpet\",\"colorbar\":{\"outlinewidth\":0,\"ticks\":\"\"}}],\"contour\":[{\"type\":\"contour\",\"colorbar\":{\"outlinewidth\":0,\"ticks\":\"\"},\"colorscale\":[[0.0,\"#0d0887\"],[0.1111111111111111,\"#46039f\"],[0.2222222222222222,\"#7201a8\"],[0.3333333333333333,\"#9c179e\"],[0.4444444444444444,\"#bd3786\"],[0.5555555555555556,\"#d8576b\"],[0.6666666666666666,\"#ed7953\"],[0.7777777777777778,\"#fb9f3a\"],[0.8888888888888888,\"#fdca26\"],[1.0,\"#f0f921\"]]}],\"surface\":[{\"type\":\"surface\",\"colorbar\":{\"outlinewidth\":0,\"ticks\":\"\"},\"colorscale\":[[0.0,\"#0d0887\"],[0.1111111111111111,\"#46039f\"],[0.2222222222222222,\"#7201a8\"],[0.3333333333333333,\"#9c179e\"],[0.4444444444444444,\"#bd3786\"],[0.5555555555555556,\"#d8576b\"],[0.6666666666666666,\"#ed7953\"],[0.7777777777777778,\"#fb9f3a\"],[0.8888888888888888,\"#fdca26\"],[1.0,\"#f0f921\"]]}],\"mesh3d\":[{\"type\":\"mesh3d\",\"colorbar\":{\"outlinewidth\":0,\"ticks\":\"\"}}],\"scatter\":[{\"fillpattern\":{\"fillmode\":\"overlay\",\"size\":10,\"solidity\":0.2},\"type\":\"scatter\"}],\"parcoords\":[{\"type\":\"parcoords\",\"line\":{\"colorbar\":{\"outlinewidth\":0,\"ticks\":\"\"}}}],\"scatterpolargl\":[{\"type\":\"scatterpolargl\",\"marker\":{\"colorbar\":{\"outlinewidth\":0,\"ticks\":\"\"}}}],\"bar\":[{\"error_x\":{\"color\":\"#2a3f5f\"},\"error_y\":{\"color\":\"#2a3f5f\"},\"marker\":{\"line\":{\"color\":\"#E5ECF6\",\"width\":0.5},\"pattern\":{\"fillmode\":\"overlay\",\"size\":10,\"solidity\":0.2}},\"type\":\"bar\"}],\"scattergeo\":[{\"type\":\"scattergeo\",\"marker\":{\"colorbar\":{\"outlinewidth\":0,\"ticks\":\"\"}}}],\"scatterpolar\":[{\"type\":\"scatterpolar\",\"marker\":{\"colorbar\":{\"outlinewidth\":0,\"ticks\":\"\"}}}],\"histogram\":[{\"marker\":{\"pattern\":{\"fillmode\":\"overlay\",\"size\":10,\"solidity\":0.2}},\"type\":\"histogram\"}],\"scattergl\":[{\"type\":\"scattergl\",\"marker\":{\"colorbar\":{\"outlinewidth\":0,\"ticks\":\"\"}}}],\"scatter3d\":[{\"type\":\"scatter3d\",\"line\":{\"colorbar\":{\"outlinewidth\":0,\"ticks\":\"\"}},\"marker\":{\"colorbar\":{\"outlinewidth\":0,\"ticks\":\"\"}}}],\"scattermapbox\":[{\"type\":\"scattermapbox\",\"marker\":{\"colorbar\":{\"outlinewidth\":0,\"ticks\":\"\"}}}],\"scatterternary\":[{\"type\":\"scatterternary\",\"marker\":{\"colorbar\":{\"outlinewidth\":0,\"ticks\":\"\"}}}],\"scattercarpet\":[{\"type\":\"scattercarpet\",\"marker\":{\"colorbar\":{\"outlinewidth\":0,\"ticks\":\"\"}}}],\"carpet\":[{\"aaxis\":{\"endlinecolor\":\"#2a3f5f\",\"gridcolor\":\"white\",\"linecolor\":\"white\",\"minorgridcolor\":\"white\",\"startlinecolor\":\"#2a3f5f\"},\"baxis\":{\"endlinecolor\":\"#2a3f5f\",\"gridcolor\":\"white\",\"linecolor\":\"white\",\"minorgridcolor\":\"white\",\"startlinecolor\":\"#2a3f5f\"},\"type\":\"carpet\"}],\"table\":[{\"cells\":{\"fill\":{\"color\":\"#EBF0F8\"},\"line\":{\"color\":\"white\"}},\"header\":{\"fill\":{\"color\":\"#C8D4E3\"},\"line\":{\"color\":\"white\"}},\"type\":\"table\"}],\"barpolar\":[{\"marker\":{\"line\":{\"color\":\"#E5ECF6\",\"width\":0.5},\"pattern\":{\"fillmode\":\"overlay\",\"size\":10,\"solidity\":0.2}},\"type\":\"barpolar\"}],\"pie\":[{\"automargin\":true,\"type\":\"pie\"}]},\"layout\":{\"autotypenumbers\":\"strict\",\"colorway\":[\"#636efa\",\"#EF553B\",\"#00cc96\",\"#ab63fa\",\"#FFA15A\",\"#19d3f3\",\"#FF6692\",\"#B6E880\",\"#FF97FF\",\"#FECB52\"],\"font\":{\"color\":\"#2a3f5f\"},\"hovermode\":\"closest\",\"hoverlabel\":{\"align\":\"left\"},\"paper_bgcolor\":\"white\",\"plot_bgcolor\":\"#E5ECF6\",\"polar\":{\"bgcolor\":\"#E5ECF6\",\"angularaxis\":{\"gridcolor\":\"white\",\"linecolor\":\"white\",\"ticks\":\"\"},\"radialaxis\":{\"gridcolor\":\"white\",\"linecolor\":\"white\",\"ticks\":\"\"}},\"ternary\":{\"bgcolor\":\"#E5ECF6\",\"aaxis\":{\"gridcolor\":\"white\",\"linecolor\":\"white\",\"ticks\":\"\"},\"baxis\":{\"gridcolor\":\"white\",\"linecolor\":\"white\",\"ticks\":\"\"},\"caxis\":{\"gridcolor\":\"white\",\"linecolor\":\"white\",\"ticks\":\"\"}},\"coloraxis\":{\"colorbar\":{\"outlinewidth\":0,\"ticks\":\"\"}},\"colorscale\":{\"sequential\":[[0.0,\"#0d0887\"],[0.1111111111111111,\"#46039f\"],[0.2222222222222222,\"#7201a8\"],[0.3333333333333333,\"#9c179e\"],[0.4444444444444444,\"#bd3786\"],[0.5555555555555556,\"#d8576b\"],[0.6666666666666666,\"#ed7953\"],[0.7777777777777778,\"#fb9f3a\"],[0.8888888888888888,\"#fdca26\"],[1.0,\"#f0f921\"]],\"sequentialminus\":[[0.0,\"#0d0887\"],[0.1111111111111111,\"#46039f\"],[0.2222222222222222,\"#7201a8\"],[0.3333333333333333,\"#9c179e\"],[0.4444444444444444,\"#bd3786\"],[0.5555555555555556,\"#d8576b\"],[0.6666666666666666,\"#ed7953\"],[0.7777777777777778,\"#fb9f3a\"],[0.8888888888888888,\"#fdca26\"],[1.0,\"#f0f921\"]],\"diverging\":[[0,\"#8e0152\"],[0.1,\"#c51b7d\"],[0.2,\"#de77ae\"],[0.3,\"#f1b6da\"],[0.4,\"#fde0ef\"],[0.5,\"#f7f7f7\"],[0.6,\"#e6f5d0\"],[0.7,\"#b8e186\"],[0.8,\"#7fbc41\"],[0.9,\"#4d9221\"],[1,\"#276419\"]]},\"xaxis\":{\"gridcolor\":\"white\",\"linecolor\":\"white\",\"ticks\":\"\",\"title\":{\"standoff\":15},\"zerolinecolor\":\"white\",\"automargin\":true,\"zerolinewidth\":2},\"yaxis\":{\"gridcolor\":\"white\",\"linecolor\":\"white\",\"ticks\":\"\",\"title\":{\"standoff\":15},\"zerolinecolor\":\"white\",\"automargin\":true,\"zerolinewidth\":2},\"scene\":{\"xaxis\":{\"backgroundcolor\":\"#E5ECF6\",\"gridcolor\":\"white\",\"linecolor\":\"white\",\"showbackground\":true,\"ticks\":\"\",\"zerolinecolor\":\"white\",\"gridwidth\":2},\"yaxis\":{\"backgroundcolor\":\"#E5ECF6\",\"gridcolor\":\"white\",\"linecolor\":\"white\",\"showbackground\":true,\"ticks\":\"\",\"zerolinecolor\":\"white\",\"gridwidth\":2},\"zaxis\":{\"backgroundcolor\":\"#E5ECF6\",\"gridcolor\":\"white\",\"linecolor\":\"white\",\"showbackground\":true,\"ticks\":\"\",\"zerolinecolor\":\"white\",\"gridwidth\":2}},\"shapedefaults\":{\"line\":{\"color\":\"#2a3f5f\"}},\"annotationdefaults\":{\"arrowcolor\":\"#2a3f5f\",\"arrowhead\":0,\"arrowwidth\":1},\"geo\":{\"bgcolor\":\"white\",\"landcolor\":\"#E5ECF6\",\"subunitcolor\":\"white\",\"showland\":true,\"showlakes\":true,\"lakecolor\":\"white\"},\"title\":{\"x\":0.05},\"mapbox\":{\"style\":\"light\"}}},\"xaxis\":{\"anchor\":\"y\",\"domain\":[0.0,1.0],\"title\":{\"text\":\"Date\"}},\"yaxis\":{\"anchor\":\"x\",\"domain\":[0.0,1.0],\"title\":{\"text\":\"GPU Power Used (W)\"}},\"legend\":{\"title\":{\"text\":\"variable\"},\"tracegroupgap\":0},\"margin\":{\"t\":60}},                        {\"responsive\": true}                    ).then(function(){\n",
       "                            \n",
       "var gd = document.getElementById('00fc4132-2ea9-4700-aca9-126d32716492');\n",
       "var x = new MutationObserver(function (mutations, observer) {{\n",
       "        var display = window.getComputedStyle(gd).display;\n",
       "        if (!display || display === 'none') {{\n",
       "            console.log([gd, 'removed!']);\n",
       "            Plotly.purge(gd);\n",
       "            observer.disconnect();\n",
       "        }}\n",
       "}});\n",
       "\n",
       "// Listen for the removal of the full notebook cells\n",
       "var notebookContainer = gd.closest('#notebook-container');\n",
       "if (notebookContainer) {{\n",
       "    x.observe(notebookContainer, {childList: true});\n",
       "}}\n",
       "\n",
       "// Listen for the clearing of the current output cell\n",
       "var outputEl = gd.closest('.output');\n",
       "if (outputEl) {{\n",
       "    x.observe(outputEl, {childList: true});\n",
       "}}\n",
       "\n",
       "                        })                };                });            </script>        </div>"
      ]
     },
     "metadata": {},
     "output_type": "display_data"
    }
   ],
   "source": [
    "fig1= alllogdf.plot(x=\"date\", y=[\"GPU power\"], kind=\"line\")\n",
    "fig1.update_layout(\n",
    "    xaxis_title= \"Date\",\n",
    "    yaxis_title=\"GPU Power Used (W)\",\n",
    ")"
   ]
  },
  {
   "cell_type": "code",
   "execution_count": 122,
   "id": "d0b6eb5e",
   "metadata": {},
   "outputs": [
    {
     "data": {
      "application/vnd.plotly.v1+json": {
       "config": {
        "plotlyServerURL": "https://plot.ly"
       },
       "data": [
        {
         "hovertemplate": "requests=%{x}<br>Energy by interval=%{y}<extra></extra>",
         "legendgroup": "",
         "marker": {
          "color": "#636efa",
          "symbol": "circle"
         },
         "mode": "markers",
         "name": "",
         "orientation": "v",
         "showlegend": false,
         "type": "scatter",
         "x": [
          237,
          243,
          213,
          227,
          208,
          212,
          221,
          304,
          254,
          227,
          217,
          255,
          284,
          276,
          241,
          271,
          270,
          271,
          273,
          278,
          242,
          246,
          209,
          226,
          162,
          137,
          164,
          108,
          76,
          97,
          69,
          36,
          34,
          108,
          77,
          66,
          37,
          82,
          112,
          74,
          100,
          99,
          148,
          123,
          90,
          48,
          10,
          42,
          205,
          110,
          43,
          36,
          42,
          43,
          45,
          3,
          49,
          50,
          64,
          86,
          65,
          70,
          58,
          58,
          24,
          38,
          24,
          19,
          27,
          44,
          9,
          81,
          81,
          83,
          52,
          46,
          52,
          63,
          75,
          57,
          92,
          25,
          27,
          81,
          58,
          97,
          58,
          87,
          100,
          91,
          104,
          85,
          45,
          45,
          21,
          25,
          54,
          65,
          60,
          95,
          38,
          54,
          111,
          89,
          181,
          220,
          211,
          208,
          188,
          182,
          173,
          200,
          136,
          19,
          53,
          74,
          69,
          144,
          123,
          90,
          103,
          135,
          214,
          298,
          271,
          270,
          250,
          230,
          315,
          228,
          203,
          194,
          214,
          233,
          180,
          172,
          162,
          235,
          214,
          270,
          150,
          72,
          42,
          30,
          38,
          29,
          39,
          95,
          169,
          153,
          183,
          170,
          130,
          82,
          68,
          39,
          43,
          80,
          39,
          45,
          61,
          50,
          76,
          10,
          18,
          42,
          71,
          45,
          132,
          143,
          93,
          79,
          84,
          127,
          105,
          72,
          108,
          108,
          29,
          16,
          35,
          68,
          49,
          26,
          74,
          74,
          66,
          52,
          83,
          93,
          47,
          74,
          68,
          109,
          47,
          61,
          109,
          15,
          8,
          6,
          6,
          17,
          45,
          33,
          57,
          43,
          33,
          23,
          13,
          34,
          23,
          9,
          40,
          22,
          30,
          46,
          26,
          26,
          71,
          83,
          35,
          41,
          42,
          18,
          23,
          76,
          76,
          112,
          96,
          50,
          60,
          90,
          81,
          21,
          50,
          77,
          32,
          53,
          79,
          92,
          119,
          96,
          147,
          57,
          53,
          44,
          56,
          83,
          70,
          47,
          71,
          61,
          44,
          83,
          74,
          78,
          43,
          84,
          115,
          101,
          142,
          74,
          42,
          49,
          60,
          18,
          27,
          18,
          15,
          21,
          49,
          32,
          40,
          57,
          129,
          115,
          123,
          94,
          146,
          169,
          61,
          62,
          67,
          112,
          82,
          58,
          54,
          66,
          112,
          100,
          83,
          57,
          86,
          105,
          149,
          60,
          88,
          112,
          129,
          106,
          79,
          35,
          80,
          69,
          55,
          71,
          60,
          20,
          38,
          48,
          70,
          92,
          129,
          114,
          65,
          182,
          82,
          39,
          63,
          113,
          96,
          118,
          134,
          138,
          40,
          45,
          44,
          14,
          52,
          73,
          6,
          44,
          20,
          40,
          45,
          29,
          19,
          27,
          32,
          69,
          29,
          20,
          17,
          49,
          110,
          85,
          44,
          58,
          46,
          51,
          69,
          92,
          52,
          29,
          33,
          37,
          52,
          99,
          65,
          74,
          36,
          30,
          34,
          86,
          40,
          62,
          59,
          53,
          17,
          31,
          54,
          36,
          17,
          1,
          56,
          37,
          40,
          69,
          35,
          28,
          11,
          23,
          45,
          86,
          4,
          14,
          19,
          34,
          30,
          34,
          23,
          45,
          73,
          71,
          42,
          28,
          88,
          75,
          95,
          73,
          56,
          31,
          19,
          27,
          44,
          57,
          65,
          76,
          82,
          121,
          90,
          218,
          169,
          97,
          143,
          142,
          104,
          102,
          126,
          170,
          232,
          105,
          30,
          69,
          69,
          25,
          83,
          64,
          124,
          104,
          116,
          97,
          101,
          87,
          98,
          105,
          53,
          58,
          55,
          120,
          218,
          116,
          242,
          77,
          76,
          55,
          84,
          145,
          235,
          276,
          247,
          183,
          101,
          80,
          172,
          103,
          77,
          119,
          81,
          151,
          241,
          320,
          222,
          192,
          194,
          138,
          221,
          344,
          325,
          162,
          130,
          184,
          174,
          128,
          94,
          103,
          91,
          96,
          108,
          70,
          62,
          68,
          330,
          121,
          29,
          48,
          61,
          28,
          313,
          35,
          78,
          114,
          141,
          142,
          352,
          111,
          71,
          108,
          104,
          354,
          47,
          24,
          40,
          5,
          19,
          14,
          16,
          36,
          18,
          9,
          9,
          37,
          25,
          14,
          120,
          59,
          155,
          50,
          42,
          115,
          156,
          152,
          110,
          62,
          101,
          87,
          122,
          74,
          98,
          87,
          74,
          155,
          133,
          81,
          73,
          49,
          121,
          149,
          120,
          184,
          196,
          163,
          83,
          110,
          184,
          161,
          166,
          153,
          91,
          98,
          59,
          129,
          133,
          137,
          139,
          75
         ],
         "xaxis": "x",
         "y": [
          0.46066399999999996,
          0.4718230000000001,
          0.46950999999999965,
          0.4686750000000002,
          0.46345999999999954,
          0.45858300000000085,
          0.47153399999999923,
          0.48345600000000033,
          0.467587,
          0.46306199999999986,
          0.45532200000000067,
          0.47366699999999895,
          0.4870440000000009,
          0.4839380000000002,
          0.4956979999999991,
          0.4683330000000012,
          0.476621999999999,
          0.4778830000000003,
          0.48903100000000066,
          0.4727359999999994,
          0.4747059999999994,
          0.4735610000000001,
          0.458164,
          0.4645790000000005,
          0.3949750000000005,
          0.3730139999999995,
          0.3772570000000002,
          0.3546969999999998,
          0.33888199999999813,
          0.34315300000000093,
          0.32422400000000096,
          0.32555400000000034,
          0.3268519999999988,
          0.34976500000000144,
          0.33123999999999754,
          0.33632300000000015,
          0.3361280000000022,
          0.3282670000000003,
          0.35777399999999915,
          0.3331969999999984,
          0.36165300000000045,
          0.3567500000000017,
          0.3709959999999981,
          0.3787310000000019,
          0.3367249999999977,
          0.3170490000000008,
          0.29898700000000034,
          0.3231970000000004,
          0.39260499999999965,
          0.35213800000000006,
          0.3096369999999986,
          0.3090670000000024,
          0.3164699999999989,
          0.3173659999999998,
          0.3131389999999996,
          0.29662899999999937,
          0.3183920000000029,
          0.32802199999999715,
          0.3243260000000028,
          0.3377069999999982,
          0.3271940000000022,
          0.3465619999999987,
          0.31227699999999814,
          0.3373380000000026,
          0.29639999999999844,
          0.3241809999999994,
          0.3057949999999998,
          0.30976400000000126,
          0.2963880000000003,
          0.31380300000000005,
          0.2930969999999995,
          0.34824899999999914,
          0.3338470000000022,
          0.33241299999999896,
          0.30141300000000015,
          0.31867099999999837,
          0.3127410000000026,
          0.3254869999999954,
          0.3355670000000046,
          0.32330799999999726,
          0.33814900000000137,
          0.3315940000000026,
          0.31844199999999745,
          0.3275170000000003,
          0.3210589999999982,
          0.35326299999999833,
          0.321747000000002,
          0.3541919999999976,
          0.3373760000000061,
          0.3555649999999986,
          0.34241099999999847,
          0.3421960000000013,
          0.3105249999999984,
          0.31531400000000076,
          0.3020270000000025,
          0.32172299999999865,
          0.3247299999999953,
          0.3389620000000022,
          0.3359179999999995,
          0.36278500000000236,
          0.3125009999999975,
          0.35465900000000516,
          0.3890259999999941,
          0.3623100000000008,
          0.43003000000000213,
          0.46312400000000054,
          0.46464699999999937,
          0.4624469999999974,
          0.4400280000000052,
          0.45085399999999964,
          0.44889999999999475,
          0.4710540000000023,
          0.3997230000000016,
          0.3031689999999969,
          0.32501300000000555,
          0.3503729999999976,
          0.3316560000000024,
          0.36721899999999863,
          0.34936299999999676,
          0.33809300000000064,
          0.33580200000000104,
          0.3926700000000025,
          0.4424499999999938,
          0.47139300000000617,
          0.45689799999999536,
          0.4720000000000013,
          0.45568099999999845,
          0.4759829999999994,
          0.4718110000000024,
          0.45955399999999713,
          0.44639100000000553,
          0.4579400000000007,
          0.4478809999999953,
          0.47025500000000164,
          0.42193799999999726,
          0.4457400000000007,
          0.4603740000000016,
          0.4735820000000004,
          0.4483099999999993,
          0.48849400000000287,
          0.38820499999999925,
          0.3460139999999967,
          0.3050130000000024,
          0.31075399999999576,
          0.31591500000000394,
          0.3098639999999975,
          0.30234500000000253,
          0.35094099999999884,
          0.3705940000000041,
          0.37121799999999894,
          0.3827789999999993,
          0.3662470000000013,
          0.3405169999999984,
          0.3362639999999999,
          0.3063009999999977,
          0.3272260000000031,
          0.32665899999999937,
          0.35860699999999923,
          0.3180240000000012,
          0.35387599999999964,
          0.33507900000000035,
          0.3326359999999937,
          0.33873700000000895,
          0.3063899999999933,
          0.30332500000000095,
          0.3319230000000033,
          0.32403099999999085,
          0.32405400000000384,
          0.3516350000000017,
          0.3900720000000035,
          0.34656900000000235,
          0.3500569999999925,
          0.33255100000000937,
          0.4013399999999905,
          0.3468950000000035,
          0.3269779999999969,
          0.3372930000000025,
          0.34856700000000274,
          0.3091830000000044,
          0.3100689999999986,
          0.30765299999998774,
          0.33887700000001075,
          0.33387799999999856,
          0.31136399999999753,
          0.31489500000000703,
          0.3297399999999868,
          0.318279000000004,
          0.34176399999999774,
          0.33330000000000837,
          0.33381799999999373,
          0.3026260000000036,
          0.3433809999999937,
          0.3204980000000006,
          0.34700700000000495,
          0.3080970000000036,
          0.3190319999999929,
          0.3559620000000052,
          0.30870399999999165,
          0.2909180000000049,
          0.29856900000000053,
          0.2908180000000016,
          0.307146000000003,
          0.30641399999998953,
          0.3072970000000055,
          0.30390800000000695,
          0.31786400000000015,
          0.3112609999999876,
          0.3057930000000084,
          0.2965870000000024,
          0.3320489999999978,
          0.32281000000000404,
          0.3001259999999917,
          0.30558999999999514,
          0.30833300000000463,
          0.2976210000000066,
          0.3323429999999945,
          0.30128799999999956,
          0.31618699999999933,
          0.31644400000000417,
          0.3515569999999997,
          0.31283100000000275,
          0.32136299999999096,
          0.30585200000000157,
          0.30838400000000377,
          0.29671500000000606,
          0.33987199999999973,
          0.3177919999999972,
          0.38171400000000233,
          0.34799599999999486,
          0.3322430000000054,
          0.3212349999999873,
          0.3813050000000118,
          0.3406909999999925,
          0.31209900000000346,
          0.3111300000000057,
          0.3450889999999873,
          0.30900300000000414,
          0.32678200000000857,
          0.332177999999999,
          0.34428599999999676,
          0.36909299999999234,
          0.3666120000000035,
          0.3698969999999946,
          0.3313270000000017,
          0.3262990000000059,
          0.3148439999999937,
          0.3265140000000031,
          0.3340029999999956,
          0.32535900000000595,
          0.32659400000000005,
          0.32154300000000546,
          0.337151999999989,
          0.3207580000000121,
          0.3412969999999973,
          0.3258069999999975,
          0.3496669999999966,
          0.35350800000000504,
          0.36535999999999547,
          0.36384999999999934,
          0.36787200000000553,
          0.3481309999999951,
          0.32968600000000947,
          0.3160599999999931,
          0.33763199999999927,
          0.33602000000000487,
          0.30641399999998953,
          0.31329900000000066,
          0.304774000000009,
          0.3114089999999976,
          0.30696899999999516,
          0.31999199999999917,
          0.3403059999999982,
          0.32781700000001024,
          0.3350859999999898,
          0.39553000000000793,
          0.3948639999999983,
          0.36256699999999853,
          0.336078999999998,
          0.3704529999999977,
          0.3942480000000046,
          0.31042600000000675,
          0.33602899999999636,
          0.3080059999999918,
          0.35423500000000274,
          0.349962000000005,
          0.35980999999999597,
          0.3287820000000039,
          0.3489900000000006,
          0.36744199999999694,
          0.38187000000000637,
          0.3589179999999885,
          0.3271410000000117,
          0.3411049999999989,
          0.35101099999999974,
          0.36817700000000286,
          0.34093099999999765,
          0.35112900000000025,
          0.3639960000000002,
          0.3674970000000002,
          0.3561169999999976,
          0.349228999999994,
          0.3504350000000045,
          0.33531100000000436,
          0.333170999999993,
          0.3573680000000081,
          0.35866299999999285,
          0.33733399999999847,
          0.3141420000000039,
          0.31281299999999135,
          0.33278400000000374,
          0.35060699999999656,
          0.339808000000005,
          0.3575000000000017,
          0.3659990000000022,
          0.3141909999999939,
          0.32951599999999814,
          0.3375790000000052,
          0.32860100000000614,
          0.32970399999999245,
          0.3684340000000077,
          0.33825399999999206,
          0.3412490000000048,
          0.36525899999999467,
          0.3695770000000067,
          0.30987299999999607,
          0.3138050000000021,
          0.3154079999999908,
          0.3099510000000123,
          0.31770999999999106,
          0.34606999999999744,
          0.2913090000000125,
          0.3281080000000003,
          0.30830199999999763,
          0.3251190000000008,
          0.31995299999999816,
          0.3252679999999941,
          0.29831400000000485,
          0.31054799999999716,
          0.31255500000000325,
          0.34019499999999425,
          0.3025000000000091,
          0.30938700000000097,
          0.29598000000000013,
          0.32522699999999816,
          0.3404599999999931,
          0.3604739999999964,
          0.30131099999999833,
          0.322763000000009,
          0.31727200000000266,
          0.3277999999999963,
          0.3163629999999955,
          0.3346090000000004,
          0.33826000000000533,
          0.33126299999999276,
          0.3226590000000158,
          0.3256309999999871,
          0.3127619999999922,
          0.35110400000002073,
          0.32153099999999313,
          0.34757099999998786,
          0.3050760000000139,
          0.3195100000000082,
          0.30085099999999443,
          0.3301060000000007,
          0.3037750000000017,
          0.3217719999999815,
          0.3182549999999935,
          0.33207500000000323,
          0.3145580000000052,
          0.31242800000001125,
          0.30111299999998664,
          0.32552599999999643,
          0.29648800000001074,
          0.29752500000000737,
          0.30534900000000675,
          0.3137919999999781,
          0.3104069999999979,
          0.3369830000000036,
          0.29515600000001996,
          0.3153169999999932,
          0.2936339999999973,
          0.3075049999999919,
          0.3115270000000123,
          0.3425589999999943,
          0.2908299999999997,
          0.3123459999999909,
          0.30054699999999457,
          0.3276080000000263,
          0.31424099999998134,
          0.3319189999999992,
          0.2977170000000058,
          0.33279099999998607,
          0.33613900000000285,
          0.3611539999999991,
          0.300863000000021,
          0.3364949999999851,
          0.3332359999999994,
          0.3488240000000076,
          0.3534270000000106,
          0.34329599999998095,
          0.32157900000001405,
          0.3181329999999889,
          0.2994559999999922,
          0.32092099999999846,
          0.32121600000002104,
          0.33384399999999914,
          0.3204680000000053,
          0.3403669999999863,
          0.33184199999999464,
          0.3774449999999945,
          0.3233730000000037,
          0.35467400000001703,
          0.34328800000000115,
          0.34974399999998695,
          0.3485340000000008,
          0.38598799999999756,
          0.3573300000000188,
          0.3802519999999845,
          0.36213300000000004,
          0.396096,
          0.38386299999999096,
          0.3943840000000023,
          0.30255100000002244,
          0.3447829999999783,
          0.32561700000002247,
          0.32358899999999835,
          0.35114099999998416,
          0.3501850000000104,
          0.3735539999999844,
          0.3809310000000039,
          0.34269700000001535,
          0.3715259999999887,
          0.3577370000000144,
          0.3766109999999969,
          0.37475699999998824,
          0.37783300000000963,
          0.31225999999998066,
          0.32727400000001694,
          0.32744800000000396,
          0.40892800000000307,
          0.4388669999999877,
          0.3737959999999987,
          0.44585599999999204,
          0.32989299999999844,
          0.3241430000000207,
          0.3410509999999931,
          0.35259600000000546,
          0.4194789999999955,
          0.47071499999998423,
          0.5048470000000123,
          0.4235170000000039,
          0.39797400000000493,
          0.3311569999999904,
          0.33398500000001263,
          0.37443700000000035,
          0.35454499999997324,
          0.32128900000000726,
          0.359595000000013,
          0.32561699999999405,
          0.3971259999999859,
          0.46718400000000315,
          0.4932450000000017,
          0.4347940000000108,
          0.399312000000009,
          0.3868009999999913,
          0.37129699999999843,
          0.4430110000000127,
          0.4646709999999814,
          0.46238800000000424,
          0.3772329999999897,
          0.35484400000001415,
          0.37486200000000736,
          0.3752009999999757,
          0.35678500000000213,
          0.3276230000000169,
          0.35345499999999674,
          0.3512660000000096,
          0.359913999999975,
          0.34383600000001024,
          0.33789500000000317,
          0.3303369999999859,
          0.33984600000002274,
          0.4531559999999786,
          0.3870640000000094,
          0.31789000000000556,
          0.33617000000000985,
          0.32908199999999965,
          0.3109350000000006,
          0.39655799999999886,
          0.30366999999998256,
          0.3184710000000166,
          0.35244999999997617,
          0.357151000000016,
          0.36212000000000444,
          0.45097099999998136,
          0.3365090000000066,
          0.3228860000000111,
          0.36386199999998325,
          0.33316500000000815,
          0.38687300000000846,
          0.30880500000000666,
          0.3134319999999775,
          0.30156900000000064,
          0.3032709999999952,
          0.297204000000022,
          0.3028860000000009,
          0.3026739999999961,
          0.3082279999999855,
          0.28779700000001185,
          0.3001199999999926,
          0.290805000000006,
          0.32545999999999253,
          0.29831500000000233,
          0.30733299999999986,
          0.3620200000000011,
          0.3297579999999982,
          0.3905120000000011,
          0.33187800000001744,
          0.32033500000000004,
          0.37598299999999085,
          0.3762830000000008,
          0.389144999999985,
          0.3515600000000063,
          0.3289000000000044,
          0.334510999999992,
          0.34312099999999646,
          0.3606640000000141,
          0.32085899999998446,
          0.33447900000001596,
          0.34274899999999775,
          0.33160499999999615,
          0.3844760000000065,
          0.36786200000000235,
          0.3247389999999939,
          0.31551200000001245,
          0.31800399999997353,
          0.37254400000000487,
          0.40207800000001725,
          0.3921179999999822,
          0.39541600000001154,
          0.39507699999998636,
          0.4201050000000066,
          0.3391809999999964,
          0.365791999999999,
          0.40138200000001234,
          0.39491599999999494,
          0.3600800000000106,
          0.38239999999998986,
          0.37787600000001476,
          0.33687499999999204,
          0.3186719999999923,
          0.36527799999998933,
          0.3690040000000181,
          0.3672249999999906,
          0.36645200000000955,
          0.3465229999999906
         ],
         "yaxis": "y"
        }
       ],
       "layout": {
        "legend": {
         "tracegroupgap": 0
        },
        "margin": {
         "t": 60
        },
        "template": {
         "data": {
          "bar": [
           {
            "error_x": {
             "color": "#2a3f5f"
            },
            "error_y": {
             "color": "#2a3f5f"
            },
            "marker": {
             "line": {
              "color": "#E5ECF6",
              "width": 0.5
             },
             "pattern": {
              "fillmode": "overlay",
              "size": 10,
              "solidity": 0.2
             }
            },
            "type": "bar"
           }
          ],
          "barpolar": [
           {
            "marker": {
             "line": {
              "color": "#E5ECF6",
              "width": 0.5
             },
             "pattern": {
              "fillmode": "overlay",
              "size": 10,
              "solidity": 0.2
             }
            },
            "type": "barpolar"
           }
          ],
          "carpet": [
           {
            "aaxis": {
             "endlinecolor": "#2a3f5f",
             "gridcolor": "white",
             "linecolor": "white",
             "minorgridcolor": "white",
             "startlinecolor": "#2a3f5f"
            },
            "baxis": {
             "endlinecolor": "#2a3f5f",
             "gridcolor": "white",
             "linecolor": "white",
             "minorgridcolor": "white",
             "startlinecolor": "#2a3f5f"
            },
            "type": "carpet"
           }
          ],
          "choropleth": [
           {
            "colorbar": {
             "outlinewidth": 0,
             "ticks": ""
            },
            "type": "choropleth"
           }
          ],
          "contour": [
           {
            "colorbar": {
             "outlinewidth": 0,
             "ticks": ""
            },
            "colorscale": [
             [
              0,
              "#0d0887"
             ],
             [
              0.1111111111111111,
              "#46039f"
             ],
             [
              0.2222222222222222,
              "#7201a8"
             ],
             [
              0.3333333333333333,
              "#9c179e"
             ],
             [
              0.4444444444444444,
              "#bd3786"
             ],
             [
              0.5555555555555556,
              "#d8576b"
             ],
             [
              0.6666666666666666,
              "#ed7953"
             ],
             [
              0.7777777777777778,
              "#fb9f3a"
             ],
             [
              0.8888888888888888,
              "#fdca26"
             ],
             [
              1,
              "#f0f921"
             ]
            ],
            "type": "contour"
           }
          ],
          "contourcarpet": [
           {
            "colorbar": {
             "outlinewidth": 0,
             "ticks": ""
            },
            "type": "contourcarpet"
           }
          ],
          "heatmap": [
           {
            "colorbar": {
             "outlinewidth": 0,
             "ticks": ""
            },
            "colorscale": [
             [
              0,
              "#0d0887"
             ],
             [
              0.1111111111111111,
              "#46039f"
             ],
             [
              0.2222222222222222,
              "#7201a8"
             ],
             [
              0.3333333333333333,
              "#9c179e"
             ],
             [
              0.4444444444444444,
              "#bd3786"
             ],
             [
              0.5555555555555556,
              "#d8576b"
             ],
             [
              0.6666666666666666,
              "#ed7953"
             ],
             [
              0.7777777777777778,
              "#fb9f3a"
             ],
             [
              0.8888888888888888,
              "#fdca26"
             ],
             [
              1,
              "#f0f921"
             ]
            ],
            "type": "heatmap"
           }
          ],
          "heatmapgl": [
           {
            "colorbar": {
             "outlinewidth": 0,
             "ticks": ""
            },
            "colorscale": [
             [
              0,
              "#0d0887"
             ],
             [
              0.1111111111111111,
              "#46039f"
             ],
             [
              0.2222222222222222,
              "#7201a8"
             ],
             [
              0.3333333333333333,
              "#9c179e"
             ],
             [
              0.4444444444444444,
              "#bd3786"
             ],
             [
              0.5555555555555556,
              "#d8576b"
             ],
             [
              0.6666666666666666,
              "#ed7953"
             ],
             [
              0.7777777777777778,
              "#fb9f3a"
             ],
             [
              0.8888888888888888,
              "#fdca26"
             ],
             [
              1,
              "#f0f921"
             ]
            ],
            "type": "heatmapgl"
           }
          ],
          "histogram": [
           {
            "marker": {
             "pattern": {
              "fillmode": "overlay",
              "size": 10,
              "solidity": 0.2
             }
            },
            "type": "histogram"
           }
          ],
          "histogram2d": [
           {
            "colorbar": {
             "outlinewidth": 0,
             "ticks": ""
            },
            "colorscale": [
             [
              0,
              "#0d0887"
             ],
             [
              0.1111111111111111,
              "#46039f"
             ],
             [
              0.2222222222222222,
              "#7201a8"
             ],
             [
              0.3333333333333333,
              "#9c179e"
             ],
             [
              0.4444444444444444,
              "#bd3786"
             ],
             [
              0.5555555555555556,
              "#d8576b"
             ],
             [
              0.6666666666666666,
              "#ed7953"
             ],
             [
              0.7777777777777778,
              "#fb9f3a"
             ],
             [
              0.8888888888888888,
              "#fdca26"
             ],
             [
              1,
              "#f0f921"
             ]
            ],
            "type": "histogram2d"
           }
          ],
          "histogram2dcontour": [
           {
            "colorbar": {
             "outlinewidth": 0,
             "ticks": ""
            },
            "colorscale": [
             [
              0,
              "#0d0887"
             ],
             [
              0.1111111111111111,
              "#46039f"
             ],
             [
              0.2222222222222222,
              "#7201a8"
             ],
             [
              0.3333333333333333,
              "#9c179e"
             ],
             [
              0.4444444444444444,
              "#bd3786"
             ],
             [
              0.5555555555555556,
              "#d8576b"
             ],
             [
              0.6666666666666666,
              "#ed7953"
             ],
             [
              0.7777777777777778,
              "#fb9f3a"
             ],
             [
              0.8888888888888888,
              "#fdca26"
             ],
             [
              1,
              "#f0f921"
             ]
            ],
            "type": "histogram2dcontour"
           }
          ],
          "mesh3d": [
           {
            "colorbar": {
             "outlinewidth": 0,
             "ticks": ""
            },
            "type": "mesh3d"
           }
          ],
          "parcoords": [
           {
            "line": {
             "colorbar": {
              "outlinewidth": 0,
              "ticks": ""
             }
            },
            "type": "parcoords"
           }
          ],
          "pie": [
           {
            "automargin": true,
            "type": "pie"
           }
          ],
          "scatter": [
           {
            "fillpattern": {
             "fillmode": "overlay",
             "size": 10,
             "solidity": 0.2
            },
            "type": "scatter"
           }
          ],
          "scatter3d": [
           {
            "line": {
             "colorbar": {
              "outlinewidth": 0,
              "ticks": ""
             }
            },
            "marker": {
             "colorbar": {
              "outlinewidth": 0,
              "ticks": ""
             }
            },
            "type": "scatter3d"
           }
          ],
          "scattercarpet": [
           {
            "marker": {
             "colorbar": {
              "outlinewidth": 0,
              "ticks": ""
             }
            },
            "type": "scattercarpet"
           }
          ],
          "scattergeo": [
           {
            "marker": {
             "colorbar": {
              "outlinewidth": 0,
              "ticks": ""
             }
            },
            "type": "scattergeo"
           }
          ],
          "scattergl": [
           {
            "marker": {
             "colorbar": {
              "outlinewidth": 0,
              "ticks": ""
             }
            },
            "type": "scattergl"
           }
          ],
          "scattermapbox": [
           {
            "marker": {
             "colorbar": {
              "outlinewidth": 0,
              "ticks": ""
             }
            },
            "type": "scattermapbox"
           }
          ],
          "scatterpolar": [
           {
            "marker": {
             "colorbar": {
              "outlinewidth": 0,
              "ticks": ""
             }
            },
            "type": "scatterpolar"
           }
          ],
          "scatterpolargl": [
           {
            "marker": {
             "colorbar": {
              "outlinewidth": 0,
              "ticks": ""
             }
            },
            "type": "scatterpolargl"
           }
          ],
          "scatterternary": [
           {
            "marker": {
             "colorbar": {
              "outlinewidth": 0,
              "ticks": ""
             }
            },
            "type": "scatterternary"
           }
          ],
          "surface": [
           {
            "colorbar": {
             "outlinewidth": 0,
             "ticks": ""
            },
            "colorscale": [
             [
              0,
              "#0d0887"
             ],
             [
              0.1111111111111111,
              "#46039f"
             ],
             [
              0.2222222222222222,
              "#7201a8"
             ],
             [
              0.3333333333333333,
              "#9c179e"
             ],
             [
              0.4444444444444444,
              "#bd3786"
             ],
             [
              0.5555555555555556,
              "#d8576b"
             ],
             [
              0.6666666666666666,
              "#ed7953"
             ],
             [
              0.7777777777777778,
              "#fb9f3a"
             ],
             [
              0.8888888888888888,
              "#fdca26"
             ],
             [
              1,
              "#f0f921"
             ]
            ],
            "type": "surface"
           }
          ],
          "table": [
           {
            "cells": {
             "fill": {
              "color": "#EBF0F8"
             },
             "line": {
              "color": "white"
             }
            },
            "header": {
             "fill": {
              "color": "#C8D4E3"
             },
             "line": {
              "color": "white"
             }
            },
            "type": "table"
           }
          ]
         },
         "layout": {
          "annotationdefaults": {
           "arrowcolor": "#2a3f5f",
           "arrowhead": 0,
           "arrowwidth": 1
          },
          "autotypenumbers": "strict",
          "coloraxis": {
           "colorbar": {
            "outlinewidth": 0,
            "ticks": ""
           }
          },
          "colorscale": {
           "diverging": [
            [
             0,
             "#8e0152"
            ],
            [
             0.1,
             "#c51b7d"
            ],
            [
             0.2,
             "#de77ae"
            ],
            [
             0.3,
             "#f1b6da"
            ],
            [
             0.4,
             "#fde0ef"
            ],
            [
             0.5,
             "#f7f7f7"
            ],
            [
             0.6,
             "#e6f5d0"
            ],
            [
             0.7,
             "#b8e186"
            ],
            [
             0.8,
             "#7fbc41"
            ],
            [
             0.9,
             "#4d9221"
            ],
            [
             1,
             "#276419"
            ]
           ],
           "sequential": [
            [
             0,
             "#0d0887"
            ],
            [
             0.1111111111111111,
             "#46039f"
            ],
            [
             0.2222222222222222,
             "#7201a8"
            ],
            [
             0.3333333333333333,
             "#9c179e"
            ],
            [
             0.4444444444444444,
             "#bd3786"
            ],
            [
             0.5555555555555556,
             "#d8576b"
            ],
            [
             0.6666666666666666,
             "#ed7953"
            ],
            [
             0.7777777777777778,
             "#fb9f3a"
            ],
            [
             0.8888888888888888,
             "#fdca26"
            ],
            [
             1,
             "#f0f921"
            ]
           ],
           "sequentialminus": [
            [
             0,
             "#0d0887"
            ],
            [
             0.1111111111111111,
             "#46039f"
            ],
            [
             0.2222222222222222,
             "#7201a8"
            ],
            [
             0.3333333333333333,
             "#9c179e"
            ],
            [
             0.4444444444444444,
             "#bd3786"
            ],
            [
             0.5555555555555556,
             "#d8576b"
            ],
            [
             0.6666666666666666,
             "#ed7953"
            ],
            [
             0.7777777777777778,
             "#fb9f3a"
            ],
            [
             0.8888888888888888,
             "#fdca26"
            ],
            [
             1,
             "#f0f921"
            ]
           ]
          },
          "colorway": [
           "#636efa",
           "#EF553B",
           "#00cc96",
           "#ab63fa",
           "#FFA15A",
           "#19d3f3",
           "#FF6692",
           "#B6E880",
           "#FF97FF",
           "#FECB52"
          ],
          "font": {
           "color": "#2a3f5f"
          },
          "geo": {
           "bgcolor": "white",
           "lakecolor": "white",
           "landcolor": "#E5ECF6",
           "showlakes": true,
           "showland": true,
           "subunitcolor": "white"
          },
          "hoverlabel": {
           "align": "left"
          },
          "hovermode": "closest",
          "mapbox": {
           "style": "light"
          },
          "paper_bgcolor": "white",
          "plot_bgcolor": "#E5ECF6",
          "polar": {
           "angularaxis": {
            "gridcolor": "white",
            "linecolor": "white",
            "ticks": ""
           },
           "bgcolor": "#E5ECF6",
           "radialaxis": {
            "gridcolor": "white",
            "linecolor": "white",
            "ticks": ""
           }
          },
          "scene": {
           "xaxis": {
            "backgroundcolor": "#E5ECF6",
            "gridcolor": "white",
            "gridwidth": 2,
            "linecolor": "white",
            "showbackground": true,
            "ticks": "",
            "zerolinecolor": "white"
           },
           "yaxis": {
            "backgroundcolor": "#E5ECF6",
            "gridcolor": "white",
            "gridwidth": 2,
            "linecolor": "white",
            "showbackground": true,
            "ticks": "",
            "zerolinecolor": "white"
           },
           "zaxis": {
            "backgroundcolor": "#E5ECF6",
            "gridcolor": "white",
            "gridwidth": 2,
            "linecolor": "white",
            "showbackground": true,
            "ticks": "",
            "zerolinecolor": "white"
           }
          },
          "shapedefaults": {
           "line": {
            "color": "#2a3f5f"
           }
          },
          "ternary": {
           "aaxis": {
            "gridcolor": "white",
            "linecolor": "white",
            "ticks": ""
           },
           "baxis": {
            "gridcolor": "white",
            "linecolor": "white",
            "ticks": ""
           },
           "bgcolor": "#E5ECF6",
           "caxis": {
            "gridcolor": "white",
            "linecolor": "white",
            "ticks": ""
           }
          },
          "title": {
           "x": 0.05
          },
          "xaxis": {
           "automargin": true,
           "gridcolor": "white",
           "linecolor": "white",
           "ticks": "",
           "title": {
            "standoff": 15
           },
           "zerolinecolor": "white",
           "zerolinewidth": 2
          },
          "yaxis": {
           "automargin": true,
           "gridcolor": "white",
           "linecolor": "white",
           "ticks": "",
           "title": {
            "standoff": 15
           },
           "zerolinecolor": "white",
           "zerolinewidth": 2
          }
         }
        },
        "xaxis": {
         "anchor": "y",
         "domain": [
          0,
          1
         ],
         "title": {
          "text": "Number of requests received in a 10-minute interval"
         }
        },
        "yaxis": {
         "anchor": "x",
         "domain": [
          0,
          1
         ],
         "title": {
          "text": "Energy consumption (kWh)"
         }
        }
       }
      },
      "text/html": [
       "<div>                            <div id=\"5b190a6d-36f5-4975-9f7a-a5f2d0d288b8\" class=\"plotly-graph-div\" style=\"height:525px; width:100%;\"></div>            <script type=\"text/javascript\">                require([\"plotly\"], function(Plotly) {                    window.PLOTLYENV=window.PLOTLYENV || {};                                    if (document.getElementById(\"5b190a6d-36f5-4975-9f7a-a5f2d0d288b8\")) {                    Plotly.newPlot(                        \"5b190a6d-36f5-4975-9f7a-a5f2d0d288b8\",                        [{\"hovertemplate\":\"requests=%{x}<br>Energy by interval=%{y}<extra></extra>\",\"legendgroup\":\"\",\"marker\":{\"color\":\"#636efa\",\"symbol\":\"circle\"},\"mode\":\"markers\",\"name\":\"\",\"orientation\":\"v\",\"showlegend\":false,\"x\":[237,243,213,227,208,212,221,304,254,227,217,255,284,276,241,271,270,271,273,278,242,246,209,226,162,137,164,108,76,97,69,36,34,108,77,66,37,82,112,74,100,99,148,123,90,48,10,42,205,110,43,36,42,43,45,3,49,50,64,86,65,70,58,58,24,38,24,19,27,44,9,81,81,83,52,46,52,63,75,57,92,25,27,81,58,97,58,87,100,91,104,85,45,45,21,25,54,65,60,95,38,54,111,89,181,220,211,208,188,182,173,200,136,19,53,74,69,144,123,90,103,135,214,298,271,270,250,230,315,228,203,194,214,233,180,172,162,235,214,270,150,72,42,30,38,29,39,95,169,153,183,170,130,82,68,39,43,80,39,45,61,50,76,10,18,42,71,45,132,143,93,79,84,127,105,72,108,108,29,16,35,68,49,26,74,74,66,52,83,93,47,74,68,109,47,61,109,15,8,6,6,17,45,33,57,43,33,23,13,34,23,9,40,22,30,46,26,26,71,83,35,41,42,18,23,76,76,112,96,50,60,90,81,21,50,77,32,53,79,92,119,96,147,57,53,44,56,83,70,47,71,61,44,83,74,78,43,84,115,101,142,74,42,49,60,18,27,18,15,21,49,32,40,57,129,115,123,94,146,169,61,62,67,112,82,58,54,66,112,100,83,57,86,105,149,60,88,112,129,106,79,35,80,69,55,71,60,20,38,48,70,92,129,114,65,182,82,39,63,113,96,118,134,138,40,45,44,14,52,73,6,44,20,40,45,29,19,27,32,69,29,20,17,49,110,85,44,58,46,51,69,92,52,29,33,37,52,99,65,74,36,30,34,86,40,62,59,53,17,31,54,36,17,1,56,37,40,69,35,28,11,23,45,86,4,14,19,34,30,34,23,45,73,71,42,28,88,75,95,73,56,31,19,27,44,57,65,76,82,121,90,218,169,97,143,142,104,102,126,170,232,105,30,69,69,25,83,64,124,104,116,97,101,87,98,105,53,58,55,120,218,116,242,77,76,55,84,145,235,276,247,183,101,80,172,103,77,119,81,151,241,320,222,192,194,138,221,344,325,162,130,184,174,128,94,103,91,96,108,70,62,68,330,121,29,48,61,28,313,35,78,114,141,142,352,111,71,108,104,354,47,24,40,5,19,14,16,36,18,9,9,37,25,14,120,59,155,50,42,115,156,152,110,62,101,87,122,74,98,87,74,155,133,81,73,49,121,149,120,184,196,163,83,110,184,161,166,153,91,98,59,129,133,137,139,75],\"xaxis\":\"x\",\"y\":[0.46066399999999996,0.4718230000000001,0.46950999999999965,0.4686750000000002,0.46345999999999954,0.45858300000000085,0.47153399999999923,0.48345600000000033,0.467587,0.46306199999999986,0.45532200000000067,0.47366699999999895,0.4870440000000009,0.4839380000000002,0.4956979999999991,0.4683330000000012,0.476621999999999,0.4778830000000003,0.48903100000000066,0.4727359999999994,0.4747059999999994,0.4735610000000001,0.458164,0.4645790000000005,0.3949750000000005,0.3730139999999995,0.3772570000000002,0.3546969999999998,0.33888199999999813,0.34315300000000093,0.32422400000000096,0.32555400000000034,0.3268519999999988,0.34976500000000144,0.33123999999999754,0.33632300000000015,0.3361280000000022,0.3282670000000003,0.35777399999999915,0.3331969999999984,0.36165300000000045,0.3567500000000017,0.3709959999999981,0.3787310000000019,0.3367249999999977,0.3170490000000008,0.29898700000000034,0.3231970000000004,0.39260499999999965,0.35213800000000006,0.3096369999999986,0.3090670000000024,0.3164699999999989,0.3173659999999998,0.3131389999999996,0.29662899999999937,0.3183920000000029,0.32802199999999715,0.3243260000000028,0.3377069999999982,0.3271940000000022,0.3465619999999987,0.31227699999999814,0.3373380000000026,0.29639999999999844,0.3241809999999994,0.3057949999999998,0.30976400000000126,0.2963880000000003,0.31380300000000005,0.2930969999999995,0.34824899999999914,0.3338470000000022,0.33241299999999896,0.30141300000000015,0.31867099999999837,0.3127410000000026,0.3254869999999954,0.3355670000000046,0.32330799999999726,0.33814900000000137,0.3315940000000026,0.31844199999999745,0.3275170000000003,0.3210589999999982,0.35326299999999833,0.321747000000002,0.3541919999999976,0.3373760000000061,0.3555649999999986,0.34241099999999847,0.3421960000000013,0.3105249999999984,0.31531400000000076,0.3020270000000025,0.32172299999999865,0.3247299999999953,0.3389620000000022,0.3359179999999995,0.36278500000000236,0.3125009999999975,0.35465900000000516,0.3890259999999941,0.3623100000000008,0.43003000000000213,0.46312400000000054,0.46464699999999937,0.4624469999999974,0.4400280000000052,0.45085399999999964,0.44889999999999475,0.4710540000000023,0.3997230000000016,0.3031689999999969,0.32501300000000555,0.3503729999999976,0.3316560000000024,0.36721899999999863,0.34936299999999676,0.33809300000000064,0.33580200000000104,0.3926700000000025,0.4424499999999938,0.47139300000000617,0.45689799999999536,0.4720000000000013,0.45568099999999845,0.4759829999999994,0.4718110000000024,0.45955399999999713,0.44639100000000553,0.4579400000000007,0.4478809999999953,0.47025500000000164,0.42193799999999726,0.4457400000000007,0.4603740000000016,0.4735820000000004,0.4483099999999993,0.48849400000000287,0.38820499999999925,0.3460139999999967,0.3050130000000024,0.31075399999999576,0.31591500000000394,0.3098639999999975,0.30234500000000253,0.35094099999999884,0.3705940000000041,0.37121799999999894,0.3827789999999993,0.3662470000000013,0.3405169999999984,0.3362639999999999,0.3063009999999977,0.3272260000000031,0.32665899999999937,0.35860699999999923,0.3180240000000012,0.35387599999999964,0.33507900000000035,0.3326359999999937,0.33873700000000895,0.3063899999999933,0.30332500000000095,0.3319230000000033,0.32403099999999085,0.32405400000000384,0.3516350000000017,0.3900720000000035,0.34656900000000235,0.3500569999999925,0.33255100000000937,0.4013399999999905,0.3468950000000035,0.3269779999999969,0.3372930000000025,0.34856700000000274,0.3091830000000044,0.3100689999999986,0.30765299999998774,0.33887700000001075,0.33387799999999856,0.31136399999999753,0.31489500000000703,0.3297399999999868,0.318279000000004,0.34176399999999774,0.33330000000000837,0.33381799999999373,0.3026260000000036,0.3433809999999937,0.3204980000000006,0.34700700000000495,0.3080970000000036,0.3190319999999929,0.3559620000000052,0.30870399999999165,0.2909180000000049,0.29856900000000053,0.2908180000000016,0.307146000000003,0.30641399999998953,0.3072970000000055,0.30390800000000695,0.31786400000000015,0.3112609999999876,0.3057930000000084,0.2965870000000024,0.3320489999999978,0.32281000000000404,0.3001259999999917,0.30558999999999514,0.30833300000000463,0.2976210000000066,0.3323429999999945,0.30128799999999956,0.31618699999999933,0.31644400000000417,0.3515569999999997,0.31283100000000275,0.32136299999999096,0.30585200000000157,0.30838400000000377,0.29671500000000606,0.33987199999999973,0.3177919999999972,0.38171400000000233,0.34799599999999486,0.3322430000000054,0.3212349999999873,0.3813050000000118,0.3406909999999925,0.31209900000000346,0.3111300000000057,0.3450889999999873,0.30900300000000414,0.32678200000000857,0.332177999999999,0.34428599999999676,0.36909299999999234,0.3666120000000035,0.3698969999999946,0.3313270000000017,0.3262990000000059,0.3148439999999937,0.3265140000000031,0.3340029999999956,0.32535900000000595,0.32659400000000005,0.32154300000000546,0.337151999999989,0.3207580000000121,0.3412969999999973,0.3258069999999975,0.3496669999999966,0.35350800000000504,0.36535999999999547,0.36384999999999934,0.36787200000000553,0.3481309999999951,0.32968600000000947,0.3160599999999931,0.33763199999999927,0.33602000000000487,0.30641399999998953,0.31329900000000066,0.304774000000009,0.3114089999999976,0.30696899999999516,0.31999199999999917,0.3403059999999982,0.32781700000001024,0.3350859999999898,0.39553000000000793,0.3948639999999983,0.36256699999999853,0.336078999999998,0.3704529999999977,0.3942480000000046,0.31042600000000675,0.33602899999999636,0.3080059999999918,0.35423500000000274,0.349962000000005,0.35980999999999597,0.3287820000000039,0.3489900000000006,0.36744199999999694,0.38187000000000637,0.3589179999999885,0.3271410000000117,0.3411049999999989,0.35101099999999974,0.36817700000000286,0.34093099999999765,0.35112900000000025,0.3639960000000002,0.3674970000000002,0.3561169999999976,0.349228999999994,0.3504350000000045,0.33531100000000436,0.333170999999993,0.3573680000000081,0.35866299999999285,0.33733399999999847,0.3141420000000039,0.31281299999999135,0.33278400000000374,0.35060699999999656,0.339808000000005,0.3575000000000017,0.3659990000000022,0.3141909999999939,0.32951599999999814,0.3375790000000052,0.32860100000000614,0.32970399999999245,0.3684340000000077,0.33825399999999206,0.3412490000000048,0.36525899999999467,0.3695770000000067,0.30987299999999607,0.3138050000000021,0.3154079999999908,0.3099510000000123,0.31770999999999106,0.34606999999999744,0.2913090000000125,0.3281080000000003,0.30830199999999763,0.3251190000000008,0.31995299999999816,0.3252679999999941,0.29831400000000485,0.31054799999999716,0.31255500000000325,0.34019499999999425,0.3025000000000091,0.30938700000000097,0.29598000000000013,0.32522699999999816,0.3404599999999931,0.3604739999999964,0.30131099999999833,0.322763000000009,0.31727200000000266,0.3277999999999963,0.3163629999999955,0.3346090000000004,0.33826000000000533,0.33126299999999276,0.3226590000000158,0.3256309999999871,0.3127619999999922,0.35110400000002073,0.32153099999999313,0.34757099999998786,0.3050760000000139,0.3195100000000082,0.30085099999999443,0.3301060000000007,0.3037750000000017,0.3217719999999815,0.3182549999999935,0.33207500000000323,0.3145580000000052,0.31242800000001125,0.30111299999998664,0.32552599999999643,0.29648800000001074,0.29752500000000737,0.30534900000000675,0.3137919999999781,0.3104069999999979,0.3369830000000036,0.29515600000001996,0.3153169999999932,0.2936339999999973,0.3075049999999919,0.3115270000000123,0.3425589999999943,0.2908299999999997,0.3123459999999909,0.30054699999999457,0.3276080000000263,0.31424099999998134,0.3319189999999992,0.2977170000000058,0.33279099999998607,0.33613900000000285,0.3611539999999991,0.300863000000021,0.3364949999999851,0.3332359999999994,0.3488240000000076,0.3534270000000106,0.34329599999998095,0.32157900000001405,0.3181329999999889,0.2994559999999922,0.32092099999999846,0.32121600000002104,0.33384399999999914,0.3204680000000053,0.3403669999999863,0.33184199999999464,0.3774449999999945,0.3233730000000037,0.35467400000001703,0.34328800000000115,0.34974399999998695,0.3485340000000008,0.38598799999999756,0.3573300000000188,0.3802519999999845,0.36213300000000004,0.396096,0.38386299999999096,0.3943840000000023,0.30255100000002244,0.3447829999999783,0.32561700000002247,0.32358899999999835,0.35114099999998416,0.3501850000000104,0.3735539999999844,0.3809310000000039,0.34269700000001535,0.3715259999999887,0.3577370000000144,0.3766109999999969,0.37475699999998824,0.37783300000000963,0.31225999999998066,0.32727400000001694,0.32744800000000396,0.40892800000000307,0.4388669999999877,0.3737959999999987,0.44585599999999204,0.32989299999999844,0.3241430000000207,0.3410509999999931,0.35259600000000546,0.4194789999999955,0.47071499999998423,0.5048470000000123,0.4235170000000039,0.39797400000000493,0.3311569999999904,0.33398500000001263,0.37443700000000035,0.35454499999997324,0.32128900000000726,0.359595000000013,0.32561699999999405,0.3971259999999859,0.46718400000000315,0.4932450000000017,0.4347940000000108,0.399312000000009,0.3868009999999913,0.37129699999999843,0.4430110000000127,0.4646709999999814,0.46238800000000424,0.3772329999999897,0.35484400000001415,0.37486200000000736,0.3752009999999757,0.35678500000000213,0.3276230000000169,0.35345499999999674,0.3512660000000096,0.359913999999975,0.34383600000001024,0.33789500000000317,0.3303369999999859,0.33984600000002274,0.4531559999999786,0.3870640000000094,0.31789000000000556,0.33617000000000985,0.32908199999999965,0.3109350000000006,0.39655799999999886,0.30366999999998256,0.3184710000000166,0.35244999999997617,0.357151000000016,0.36212000000000444,0.45097099999998136,0.3365090000000066,0.3228860000000111,0.36386199999998325,0.33316500000000815,0.38687300000000846,0.30880500000000666,0.3134319999999775,0.30156900000000064,0.3032709999999952,0.297204000000022,0.3028860000000009,0.3026739999999961,0.3082279999999855,0.28779700000001185,0.3001199999999926,0.290805000000006,0.32545999999999253,0.29831500000000233,0.30733299999999986,0.3620200000000011,0.3297579999999982,0.3905120000000011,0.33187800000001744,0.32033500000000004,0.37598299999999085,0.3762830000000008,0.389144999999985,0.3515600000000063,0.3289000000000044,0.334510999999992,0.34312099999999646,0.3606640000000141,0.32085899999998446,0.33447900000001596,0.34274899999999775,0.33160499999999615,0.3844760000000065,0.36786200000000235,0.3247389999999939,0.31551200000001245,0.31800399999997353,0.37254400000000487,0.40207800000001725,0.3921179999999822,0.39541600000001154,0.39507699999998636,0.4201050000000066,0.3391809999999964,0.365791999999999,0.40138200000001234,0.39491599999999494,0.3600800000000106,0.38239999999998986,0.37787600000001476,0.33687499999999204,0.3186719999999923,0.36527799999998933,0.3690040000000181,0.3672249999999906,0.36645200000000955,0.3465229999999906],\"yaxis\":\"y\",\"type\":\"scatter\"}],                        {\"template\":{\"data\":{\"histogram2dcontour\":[{\"type\":\"histogram2dcontour\",\"colorbar\":{\"outlinewidth\":0,\"ticks\":\"\"},\"colorscale\":[[0.0,\"#0d0887\"],[0.1111111111111111,\"#46039f\"],[0.2222222222222222,\"#7201a8\"],[0.3333333333333333,\"#9c179e\"],[0.4444444444444444,\"#bd3786\"],[0.5555555555555556,\"#d8576b\"],[0.6666666666666666,\"#ed7953\"],[0.7777777777777778,\"#fb9f3a\"],[0.8888888888888888,\"#fdca26\"],[1.0,\"#f0f921\"]]}],\"choropleth\":[{\"type\":\"choropleth\",\"colorbar\":{\"outlinewidth\":0,\"ticks\":\"\"}}],\"histogram2d\":[{\"type\":\"histogram2d\",\"colorbar\":{\"outlinewidth\":0,\"ticks\":\"\"},\"colorscale\":[[0.0,\"#0d0887\"],[0.1111111111111111,\"#46039f\"],[0.2222222222222222,\"#7201a8\"],[0.3333333333333333,\"#9c179e\"],[0.4444444444444444,\"#bd3786\"],[0.5555555555555556,\"#d8576b\"],[0.6666666666666666,\"#ed7953\"],[0.7777777777777778,\"#fb9f3a\"],[0.8888888888888888,\"#fdca26\"],[1.0,\"#f0f921\"]]}],\"heatmap\":[{\"type\":\"heatmap\",\"colorbar\":{\"outlinewidth\":0,\"ticks\":\"\"},\"colorscale\":[[0.0,\"#0d0887\"],[0.1111111111111111,\"#46039f\"],[0.2222222222222222,\"#7201a8\"],[0.3333333333333333,\"#9c179e\"],[0.4444444444444444,\"#bd3786\"],[0.5555555555555556,\"#d8576b\"],[0.6666666666666666,\"#ed7953\"],[0.7777777777777778,\"#fb9f3a\"],[0.8888888888888888,\"#fdca26\"],[1.0,\"#f0f921\"]]}],\"heatmapgl\":[{\"type\":\"heatmapgl\",\"colorbar\":{\"outlinewidth\":0,\"ticks\":\"\"},\"colorscale\":[[0.0,\"#0d0887\"],[0.1111111111111111,\"#46039f\"],[0.2222222222222222,\"#7201a8\"],[0.3333333333333333,\"#9c179e\"],[0.4444444444444444,\"#bd3786\"],[0.5555555555555556,\"#d8576b\"],[0.6666666666666666,\"#ed7953\"],[0.7777777777777778,\"#fb9f3a\"],[0.8888888888888888,\"#fdca26\"],[1.0,\"#f0f921\"]]}],\"contourcarpet\":[{\"type\":\"contourcarpet\",\"colorbar\":{\"outlinewidth\":0,\"ticks\":\"\"}}],\"contour\":[{\"type\":\"contour\",\"colorbar\":{\"outlinewidth\":0,\"ticks\":\"\"},\"colorscale\":[[0.0,\"#0d0887\"],[0.1111111111111111,\"#46039f\"],[0.2222222222222222,\"#7201a8\"],[0.3333333333333333,\"#9c179e\"],[0.4444444444444444,\"#bd3786\"],[0.5555555555555556,\"#d8576b\"],[0.6666666666666666,\"#ed7953\"],[0.7777777777777778,\"#fb9f3a\"],[0.8888888888888888,\"#fdca26\"],[1.0,\"#f0f921\"]]}],\"surface\":[{\"type\":\"surface\",\"colorbar\":{\"outlinewidth\":0,\"ticks\":\"\"},\"colorscale\":[[0.0,\"#0d0887\"],[0.1111111111111111,\"#46039f\"],[0.2222222222222222,\"#7201a8\"],[0.3333333333333333,\"#9c179e\"],[0.4444444444444444,\"#bd3786\"],[0.5555555555555556,\"#d8576b\"],[0.6666666666666666,\"#ed7953\"],[0.7777777777777778,\"#fb9f3a\"],[0.8888888888888888,\"#fdca26\"],[1.0,\"#f0f921\"]]}],\"mesh3d\":[{\"type\":\"mesh3d\",\"colorbar\":{\"outlinewidth\":0,\"ticks\":\"\"}}],\"scatter\":[{\"fillpattern\":{\"fillmode\":\"overlay\",\"size\":10,\"solidity\":0.2},\"type\":\"scatter\"}],\"parcoords\":[{\"type\":\"parcoords\",\"line\":{\"colorbar\":{\"outlinewidth\":0,\"ticks\":\"\"}}}],\"scatterpolargl\":[{\"type\":\"scatterpolargl\",\"marker\":{\"colorbar\":{\"outlinewidth\":0,\"ticks\":\"\"}}}],\"bar\":[{\"error_x\":{\"color\":\"#2a3f5f\"},\"error_y\":{\"color\":\"#2a3f5f\"},\"marker\":{\"line\":{\"color\":\"#E5ECF6\",\"width\":0.5},\"pattern\":{\"fillmode\":\"overlay\",\"size\":10,\"solidity\":0.2}},\"type\":\"bar\"}],\"scattergeo\":[{\"type\":\"scattergeo\",\"marker\":{\"colorbar\":{\"outlinewidth\":0,\"ticks\":\"\"}}}],\"scatterpolar\":[{\"type\":\"scatterpolar\",\"marker\":{\"colorbar\":{\"outlinewidth\":0,\"ticks\":\"\"}}}],\"histogram\":[{\"marker\":{\"pattern\":{\"fillmode\":\"overlay\",\"size\":10,\"solidity\":0.2}},\"type\":\"histogram\"}],\"scattergl\":[{\"type\":\"scattergl\",\"marker\":{\"colorbar\":{\"outlinewidth\":0,\"ticks\":\"\"}}}],\"scatter3d\":[{\"type\":\"scatter3d\",\"line\":{\"colorbar\":{\"outlinewidth\":0,\"ticks\":\"\"}},\"marker\":{\"colorbar\":{\"outlinewidth\":0,\"ticks\":\"\"}}}],\"scattermapbox\":[{\"type\":\"scattermapbox\",\"marker\":{\"colorbar\":{\"outlinewidth\":0,\"ticks\":\"\"}}}],\"scatterternary\":[{\"type\":\"scatterternary\",\"marker\":{\"colorbar\":{\"outlinewidth\":0,\"ticks\":\"\"}}}],\"scattercarpet\":[{\"type\":\"scattercarpet\",\"marker\":{\"colorbar\":{\"outlinewidth\":0,\"ticks\":\"\"}}}],\"carpet\":[{\"aaxis\":{\"endlinecolor\":\"#2a3f5f\",\"gridcolor\":\"white\",\"linecolor\":\"white\",\"minorgridcolor\":\"white\",\"startlinecolor\":\"#2a3f5f\"},\"baxis\":{\"endlinecolor\":\"#2a3f5f\",\"gridcolor\":\"white\",\"linecolor\":\"white\",\"minorgridcolor\":\"white\",\"startlinecolor\":\"#2a3f5f\"},\"type\":\"carpet\"}],\"table\":[{\"cells\":{\"fill\":{\"color\":\"#EBF0F8\"},\"line\":{\"color\":\"white\"}},\"header\":{\"fill\":{\"color\":\"#C8D4E3\"},\"line\":{\"color\":\"white\"}},\"type\":\"table\"}],\"barpolar\":[{\"marker\":{\"line\":{\"color\":\"#E5ECF6\",\"width\":0.5},\"pattern\":{\"fillmode\":\"overlay\",\"size\":10,\"solidity\":0.2}},\"type\":\"barpolar\"}],\"pie\":[{\"automargin\":true,\"type\":\"pie\"}]},\"layout\":{\"autotypenumbers\":\"strict\",\"colorway\":[\"#636efa\",\"#EF553B\",\"#00cc96\",\"#ab63fa\",\"#FFA15A\",\"#19d3f3\",\"#FF6692\",\"#B6E880\",\"#FF97FF\",\"#FECB52\"],\"font\":{\"color\":\"#2a3f5f\"},\"hovermode\":\"closest\",\"hoverlabel\":{\"align\":\"left\"},\"paper_bgcolor\":\"white\",\"plot_bgcolor\":\"#E5ECF6\",\"polar\":{\"bgcolor\":\"#E5ECF6\",\"angularaxis\":{\"gridcolor\":\"white\",\"linecolor\":\"white\",\"ticks\":\"\"},\"radialaxis\":{\"gridcolor\":\"white\",\"linecolor\":\"white\",\"ticks\":\"\"}},\"ternary\":{\"bgcolor\":\"#E5ECF6\",\"aaxis\":{\"gridcolor\":\"white\",\"linecolor\":\"white\",\"ticks\":\"\"},\"baxis\":{\"gridcolor\":\"white\",\"linecolor\":\"white\",\"ticks\":\"\"},\"caxis\":{\"gridcolor\":\"white\",\"linecolor\":\"white\",\"ticks\":\"\"}},\"coloraxis\":{\"colorbar\":{\"outlinewidth\":0,\"ticks\":\"\"}},\"colorscale\":{\"sequential\":[[0.0,\"#0d0887\"],[0.1111111111111111,\"#46039f\"],[0.2222222222222222,\"#7201a8\"],[0.3333333333333333,\"#9c179e\"],[0.4444444444444444,\"#bd3786\"],[0.5555555555555556,\"#d8576b\"],[0.6666666666666666,\"#ed7953\"],[0.7777777777777778,\"#fb9f3a\"],[0.8888888888888888,\"#fdca26\"],[1.0,\"#f0f921\"]],\"sequentialminus\":[[0.0,\"#0d0887\"],[0.1111111111111111,\"#46039f\"],[0.2222222222222222,\"#7201a8\"],[0.3333333333333333,\"#9c179e\"],[0.4444444444444444,\"#bd3786\"],[0.5555555555555556,\"#d8576b\"],[0.6666666666666666,\"#ed7953\"],[0.7777777777777778,\"#fb9f3a\"],[0.8888888888888888,\"#fdca26\"],[1.0,\"#f0f921\"]],\"diverging\":[[0,\"#8e0152\"],[0.1,\"#c51b7d\"],[0.2,\"#de77ae\"],[0.3,\"#f1b6da\"],[0.4,\"#fde0ef\"],[0.5,\"#f7f7f7\"],[0.6,\"#e6f5d0\"],[0.7,\"#b8e186\"],[0.8,\"#7fbc41\"],[0.9,\"#4d9221\"],[1,\"#276419\"]]},\"xaxis\":{\"gridcolor\":\"white\",\"linecolor\":\"white\",\"ticks\":\"\",\"title\":{\"standoff\":15},\"zerolinecolor\":\"white\",\"automargin\":true,\"zerolinewidth\":2},\"yaxis\":{\"gridcolor\":\"white\",\"linecolor\":\"white\",\"ticks\":\"\",\"title\":{\"standoff\":15},\"zerolinecolor\":\"white\",\"automargin\":true,\"zerolinewidth\":2},\"scene\":{\"xaxis\":{\"backgroundcolor\":\"#E5ECF6\",\"gridcolor\":\"white\",\"linecolor\":\"white\",\"showbackground\":true,\"ticks\":\"\",\"zerolinecolor\":\"white\",\"gridwidth\":2},\"yaxis\":{\"backgroundcolor\":\"#E5ECF6\",\"gridcolor\":\"white\",\"linecolor\":\"white\",\"showbackground\":true,\"ticks\":\"\",\"zerolinecolor\":\"white\",\"gridwidth\":2},\"zaxis\":{\"backgroundcolor\":\"#E5ECF6\",\"gridcolor\":\"white\",\"linecolor\":\"white\",\"showbackground\":true,\"ticks\":\"\",\"zerolinecolor\":\"white\",\"gridwidth\":2}},\"shapedefaults\":{\"line\":{\"color\":\"#2a3f5f\"}},\"annotationdefaults\":{\"arrowcolor\":\"#2a3f5f\",\"arrowhead\":0,\"arrowwidth\":1},\"geo\":{\"bgcolor\":\"white\",\"landcolor\":\"#E5ECF6\",\"subunitcolor\":\"white\",\"showland\":true,\"showlakes\":true,\"lakecolor\":\"white\"},\"title\":{\"x\":0.05},\"mapbox\":{\"style\":\"light\"}}},\"xaxis\":{\"anchor\":\"y\",\"domain\":[0.0,1.0],\"title\":{\"text\":\"Number of requests received in a 10-minute interval\"}},\"yaxis\":{\"anchor\":\"x\",\"domain\":[0.0,1.0],\"title\":{\"text\":\"Energy consumption (kWh)\"}},\"legend\":{\"tracegroupgap\":0},\"margin\":{\"t\":60}},                        {\"responsive\": true}                    ).then(function(){\n",
       "                            \n",
       "var gd = document.getElementById('5b190a6d-36f5-4975-9f7a-a5f2d0d288b8');\n",
       "var x = new MutationObserver(function (mutations, observer) {{\n",
       "        var display = window.getComputedStyle(gd).display;\n",
       "        if (!display || display === 'none') {{\n",
       "            console.log([gd, 'removed!']);\n",
       "            Plotly.purge(gd);\n",
       "            observer.disconnect();\n",
       "        }}\n",
       "}});\n",
       "\n",
       "// Listen for the removal of the full notebook cells\n",
       "var notebookContainer = gd.closest('#notebook-container');\n",
       "if (notebookContainer) {{\n",
       "    x.observe(notebookContainer, {childList: true});\n",
       "}}\n",
       "\n",
       "// Listen for the clearing of the current output cell\n",
       "var outputEl = gd.closest('.output');\n",
       "if (outputEl) {{\n",
       "    x.observe(outputEl, {childList: true});\n",
       "}}\n",
       "\n",
       "                        })                };                });            </script>        </div>"
      ]
     },
     "metadata": {},
     "output_type": "display_data"
    }
   ],
   "source": [
    "fig= alllogdf.plot(kind=\"scatter\", x=\"requests\", y=\"Energy by interval\")\n",
    "fig.update_layout(\n",
    "    xaxis_title= \"Number of requests received in a 10-minute interval\",\n",
    "    yaxis_title=\"Energy consumption (kWh)\",\n",
    ")"
   ]
  },
  {
   "cell_type": "markdown",
   "id": "58db1ce8",
   "metadata": {},
   "source": [
    "### Trying to fit quadratic curve"
   ]
  },
  {
   "cell_type": "code",
   "execution_count": 38,
   "id": "90bb84ad",
   "metadata": {},
   "outputs": [],
   "source": [
    "x= alllogdf[\"requests\"]\n",
    "y= alllogdf[\"Energy by interval\"]"
   ]
  },
  {
   "cell_type": "code",
   "execution_count": 166,
   "id": "1f6165a7",
   "metadata": {},
   "outputs": [
    {
     "data": {
      "image/png": "[encoded data removed]",
      "text/plain": [
       "<Figure size 432x288 with 1 Axes>"
      ]
     },
     "metadata": {
      "needs_background": "light"
     },
     "output_type": "display_data"
    }
   ],
   "source": [
    "import numpy as np\n",
    "from scipy.optimize import curve_fit\n",
    "import matplotlib.pyplot as plt \n",
    "\n",
    "a, b, c = np.polyfit(x, y, 2)\n",
    "\n",
    "fit_equation = lambda x: a * x ** 2 + b * x + c\n",
    "\n",
    "def plot_fit(X, Y, f):\n",
    "    X_fit = np.linspace(min(X), max(X), 1000)\n",
    "    Y_fit = f(X_fit)\n",
    "\n",
    "    fig, ax1 = plt.subplots()\n",
    "    ax1.plot(X_fit, Y_fit, color='r', alpha=0.5, label='Polynomial fit')\n",
    "    ax1.scatter(X, Y, s=4, color='b', label='Data points')\n",
    "    ax1.set_title('Polynomial fit to data')\n",
    "    ax1.legend()\n",
    "    plt.show()\n",
    "    \n",
    "plot_fit(x, y, fit_equation)\n"
   ]
  },
  {
   "cell_type": "markdown",
   "id": "3aba5578",
   "metadata": {},
   "source": [
    "#### Calculating intercept:"
   ]
  },
  {
   "cell_type": "code",
   "execution_count": 167,
   "id": "e5949250",
   "metadata": {},
   "outputs": [
    {
     "data": {
      "text/plain": [
       "0.28842679888794365"
      ]
     },
     "execution_count": 167,
     "metadata": {},
     "output_type": "execute_result"
    }
   ],
   "source": [
    "fit_equation(0)"
   ]
  },
  {
   "cell_type": "code",
   "execution_count": null,
   "id": "a09b28d7",
   "metadata": {},
   "outputs": [],
   "source": []
  },
  {
   "cell_type": "code",
   "execution_count": null,
   "id": "78db1e39",
   "metadata": {},
   "outputs": [],
   "source": []
  }
 ],
 "metadata": {
  "kernelspec": {
   "display_name": "Python 3 (ipykernel)",
   "language": "python",
   "name": "python3"
  },
  "language_info": {
   "codemirror_mode": {
    "name": "ipython",
    "version": 3
   },
   "file_extension": ".py",
   "mimetype": "text/x-python",
   "name": "python",
   "nbconvert_exporter": "python",
   "pygments_lexer": "ipython3",
   "version": "3.9.12"
  }
 },
 "nbformat": 4,
 "nbformat_minor": 5
}
