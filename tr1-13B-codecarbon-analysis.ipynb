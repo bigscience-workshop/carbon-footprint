{
 "cells": [
  {
   "cell_type": "markdown",
   "metadata": {},
   "source": [
    "# tr1-13B-codecarbon : An Analysis of the logs"
   ]
  },
  {
   "cell_type": "markdown",
   "metadata": {},
   "source": [
    "# Introduction\n",
    "\n",
    "This notebook aims to analyse the CodeCarbon logs captured during training of tr1 13Bn parameters model on 512 GPUs.\n",
    "\n",
    "## Experimental Setup\n",
    "\n",
    "This set of records captures the startup time and 2499 iterations in 2 records per gpu, since there was also an intermediary checkpoint saved half-way and we flush the CC \n",
    "records on each checkpoint saving.\n",
    "\n",
    "The training had 168000 iterations. Therefore multiply the reported data by 67. This would be quite approximate since we were using 16 nodes when doing \n",
    "the ramp up, then 64 and only the last 3 weeks 128 nodes.\n",
    "\n",
    "Caveat emptor: I'm not sure whether CC-reports overlap since each report is per gpu and I think they may be measuring the same thing, other than the gpu itself. \n",
    "So this requires research.\n",
    "\n",
    "## Data\n",
    "The logs can be downloaded [here](https://huggingface.co/bigscience/tr1-13B-codecarbon) and should be put in the current folder.\n",
    "Each csv file contains a report for a single gpu. "
   ]
  },
  {
   "cell_type": "markdown",
   "metadata": {},
   "source": [
    "## Current results\n",
    "\n",
    "- 2 durations per GPU as expected\n",
    "- Issue with RAM/CPU power measurements, possibly inverted\n",
    "- Power distribution for GPU looking about right\n",
    "\n",
    "## Next steps\n",
    "- Figure the CPU number issue\n",
    "- Figure the overlap in the data captured\n",
    "- Get an estimation of energy per training step to be able to extrapolate to the full training."
   ]
  },
  {
   "cell_type": "code",
   "execution_count": 91,
   "metadata": {},
   "outputs": [],
   "source": [
    "import pandas as pd\n",
    "import matplotlib\n",
    "import os\n",
    "import numpy as np"
   ]
  },
  {
   "cell_type": "code",
   "execution_count": 199,
   "metadata": {},
   "outputs": [
    {
     "data": {
      "text/html": [
       "<div>\n",
       "<style scoped>\n",
       "    .dataframe tbody tr th:only-of-type {\n",
       "        vertical-align: middle;\n",
       "    }\n",
       "\n",
       "    .dataframe tbody tr th {\n",
       "        vertical-align: top;\n",
       "    }\n",
       "\n",
       "    .dataframe thead th {\n",
       "        text-align: right;\n",
       "    }\n",
       "</style>\n",
       "<table border=\"1\" class=\"dataframe\">\n",
       "  <thead>\n",
       "    <tr style=\"text-align: right;\">\n",
       "      <th></th>\n",
       "      <th>job_id</th>\n",
       "      <th>num_V100_32GB</th>\n",
       "      <th>num_V100_16GB</th>\n",
       "      <th>num_A100_40GB</th>\n",
       "      <th>num_A100_80GB</th>\n",
       "      <th>alloc_cpu</th>\n",
       "      <th>alloc_mem</th>\n",
       "      <th>alloc_energy</th>\n",
       "      <th>partition</th>\n",
       "      <th>group</th>\n",
       "      <th>elapsed</th>\n",
       "      <th>qos</th>\n",
       "      <th>jobname</th>\n",
       "      <th>start</th>\n",
       "      <th>end</th>\n",
       "      <th>account</th>\n",
       "      <th>file</th>\n",
       "    </tr>\n",
       "  </thead>\n",
       "  <tbody>\n",
       "    <tr>\n",
       "      <th>0</th>\n",
       "      <td>1591099</td>\n",
       "      <td>0</td>\n",
       "      <td>0</td>\n",
       "      <td>0</td>\n",
       "      <td>0</td>\n",
       "      <td>NaN</td>\n",
       "      <td>NaN</td>\n",
       "      <td>NaN</td>\n",
       "      <td>gpu_p2l</td>\n",
       "      <td>genhug01</td>\n",
       "      <td>00:00:00</td>\n",
       "      <td>qos_gpu-t4</td>\n",
       "      <td>second_lm_balanced_prompted</td>\n",
       "      <td>2021-05-14T23:59:03</td>\n",
       "      <td>2021-05-14T23:59:03</td>\n",
       "      <td>ajs@gpu</td>\n",
       "      <td>2022_08_25_victorsanh_jz_logs.txt</td>\n",
       "    </tr>\n",
       "    <tr>\n",
       "      <th>1</th>\n",
       "      <td>1591866</td>\n",
       "      <td>0</td>\n",
       "      <td>4</td>\n",
       "      <td>0</td>\n",
       "      <td>0</td>\n",
       "      <td>20.0</td>\n",
       "      <td>40G</td>\n",
       "      <td>36261.0</td>\n",
       "      <td>gpu_p13</td>\n",
       "      <td>genhug01</td>\n",
       "      <td>00:02:11</td>\n",
       "      <td>qos_gpu-t3</td>\n",
       "      <td>second_lm_balanced_prompted</td>\n",
       "      <td>2021-05-15T00:00:15</td>\n",
       "      <td>2021-05-15T00:02:26</td>\n",
       "      <td>ajs@gpu</td>\n",
       "      <td>2022_08_25_victorsanh_jz_logs.txt</td>\n",
       "    </tr>\n",
       "    <tr>\n",
       "      <th>2</th>\n",
       "      <td>1797289</td>\n",
       "      <td>0</td>\n",
       "      <td>0</td>\n",
       "      <td>0</td>\n",
       "      <td>0</td>\n",
       "      <td>2.0</td>\n",
       "      <td>4G</td>\n",
       "      <td>10554.0</td>\n",
       "      <td>cpu_p1</td>\n",
       "      <td>genhug01</td>\n",
       "      <td>00:00:30</td>\n",
       "      <td>qos_cpu-t3</td>\n",
       "      <td>bash</td>\n",
       "      <td>2021-05-21T17:44:19</td>\n",
       "      <td>2021-05-21T17:44:49</td>\n",
       "      <td>ajs@cpu</td>\n",
       "      <td>2022_08_25_victorsanh_jz_logs.txt</td>\n",
       "    </tr>\n",
       "    <tr>\n",
       "      <th>3</th>\n",
       "      <td>1820136</td>\n",
       "      <td>0</td>\n",
       "      <td>0</td>\n",
       "      <td>0</td>\n",
       "      <td>0</td>\n",
       "      <td>NaN</td>\n",
       "      <td>NaN</td>\n",
       "      <td>NaN</td>\n",
       "      <td>gpu_p2</td>\n",
       "      <td>genhug01</td>\n",
       "      <td>00:00:00</td>\n",
       "      <td>qos_gpu-t4</td>\n",
       "      <td>bash</td>\n",
       "      <td>2021-05-24T16:50:48</td>\n",
       "      <td>2021-05-24T16:50:48</td>\n",
       "      <td>ajs@gpu</td>\n",
       "      <td>2022_08_25_victorsanh_jz_logs.txt</td>\n",
       "    </tr>\n",
       "    <tr>\n",
       "      <th>4</th>\n",
       "      <td>1832144</td>\n",
       "      <td>0</td>\n",
       "      <td>0</td>\n",
       "      <td>0</td>\n",
       "      <td>0</td>\n",
       "      <td>NaN</td>\n",
       "      <td>NaN</td>\n",
       "      <td>NaN</td>\n",
       "      <td>prepost</td>\n",
       "      <td>genhug01</td>\n",
       "      <td>00:00:00</td>\n",
       "      <td>qos_cpu-t4</td>\n",
       "      <td>bash</td>\n",
       "      <td>2021-05-25T02:21:26</td>\n",
       "      <td>2021-05-25T02:21:26</td>\n",
       "      <td>ajs@cpu</td>\n",
       "      <td>2022_08_25_victorsanh_jz_logs.txt</td>\n",
       "    </tr>\n",
       "  </tbody>\n",
       "</table>\n",
       "</div>"
      ],
      "text/plain": [
       "    job_id  num_V100_32GB  num_V100_16GB  num_A100_40GB  num_A100_80GB  \\\n",
       "0  1591099  0              0              0              0               \n",
       "1  1591866  0              4              0              0               \n",
       "2  1797289  0              0              0              0               \n",
       "3  1820136  0              0              0              0               \n",
       "4  1832144  0              0              0              0               \n",
       "\n",
       "   alloc_cpu alloc_mem  alloc_energy partition     group   elapsed  \\\n",
       "0 NaN         NaN      NaN            gpu_p2l   genhug01  00:00:00   \n",
       "1  20.0       40G       36261.0       gpu_p13   genhug01  00:02:11   \n",
       "2  2.0        4G        10554.0       cpu_p1    genhug01  00:00:30   \n",
       "3 NaN         NaN      NaN            gpu_p2    genhug01  00:00:00   \n",
       "4 NaN         NaN      NaN            prepost   genhug01  00:00:00   \n",
       "\n",
       "          qos                      jobname                start  \\\n",
       "0  qos_gpu-t4  second_lm_balanced_prompted  2021-05-14T23:59:03   \n",
       "1  qos_gpu-t3  second_lm_balanced_prompted  2021-05-15T00:00:15   \n",
       "2  qos_cpu-t3  bash                         2021-05-21T17:44:19   \n",
       "3  qos_gpu-t4  bash                         2021-05-24T16:50:48   \n",
       "4  qos_cpu-t4  bash                         2021-05-25T02:21:26   \n",
       "\n",
       "                   end  account                               file  \n",
       "0  2021-05-14T23:59:03  ajs@gpu  2022_08_25_victorsanh_jz_logs.txt  \n",
       "1  2021-05-15T00:02:26  ajs@gpu  2022_08_25_victorsanh_jz_logs.txt  \n",
       "2  2021-05-21T17:44:49  ajs@cpu  2022_08_25_victorsanh_jz_logs.txt  \n",
       "3  2021-05-24T16:50:48  ajs@gpu  2022_08_25_victorsanh_jz_logs.txt  \n",
       "4  2021-05-25T02:21:26  ajs@cpu  2022_08_25_victorsanh_jz_logs.txt  "
      ]
     },
     "execution_count": 199,
     "metadata": {},
     "output_type": "execute_result"
    }
   ],
   "source": [
    "# Read files into a single DataFrame\n",
    "directory = \"Project-end/\"\n",
    "file_paths = [directory+x for x in os.listdir(directory) if x.endswith(\"logs.txt\")]\n",
    "df_list = [pd.read_csv(filename, sep=\"|\", header=None).assign(file=filename.split(\"/\")[1]) for filename in file_paths]\n",
    "df = pd.concat(df_list)\n",
    "df.columns= ['job_id', 'num_V100_32GB', 'num_V100_16GB', 'num_A100_40GB', 'num_A100_80GB', \\\n",
    "             'alloc_cpu', 'alloc_mem', 'alloc_energy', 'partition', 'group', 'elapsed',\\\n",
    "              'qos','jobname', 'start', 'end', 'workdir', 'account' ,'file']\n",
    "df=df.drop('workdir', axis=1)\n",
    "df.head()"
   ]
  },
  {
   "cell_type": "code",
   "execution_count": 200,
   "metadata": {},
   "outputs": [
    {
     "name": "stderr",
     "output_type": "stream",
     "text": [
      "/tmp/ipykernel_71483/2296578941.py:3: FutureWarning: Passing a negative integer is deprecated in version 1.0 and will not be supported in future version. Instead, use None to not limit the column width.\n",
      "  pd.set_option('display.max_colwidth', -1)\n"
     ]
    }
   ],
   "source": [
    "pd.set_option('display.max_columns', 1000)  # or 1000\n",
    "pd.set_option('display.max_rows', 1000)  # or 1000\n",
    "pd.set_option('display.max_colwidth', -1) "
   ]
  },
  {
   "cell_type": "code",
   "execution_count": 202,
   "metadata": {},
   "outputs": [],
   "source": [
    "df['start'] = pd.to_datetime(df['start'])\n",
    "df['end'] = pd.to_datetime(df['end'],  errors='coerce')"
   ]
  },
  {
   "cell_type": "code",
   "execution_count": 208,
   "metadata": {},
   "outputs": [],
   "source": [
    "#df['duration'] = df['elapsed'].str.replace('\\d+-','')\n",
    "df['duration'] = df['end'] - df['start']"
   ]
  },
  {
   "cell_type": "code",
   "execution_count": 205,
   "metadata": {},
   "outputs": [
    {
     "name": "stdout",
     "output_type": "stream",
     "text": [
      "3 days 00:05:37\n"
     ]
    }
   ],
   "source": [
    "print(pd.Timedelta(df.loc[41517]['end'] - df.loc[41517]['start']))"
   ]
  },
  {
   "cell_type": "code",
   "execution_count": 209,
   "metadata": {},
   "outputs": [
    {
     "data": {
      "text/html": [
       "<div>\n",
       "<style scoped>\n",
       "    .dataframe tbody tr th:only-of-type {\n",
       "        vertical-align: middle;\n",
       "    }\n",
       "\n",
       "    .dataframe tbody tr th {\n",
       "        vertical-align: top;\n",
       "    }\n",
       "\n",
       "    .dataframe thead th {\n",
       "        text-align: right;\n",
       "    }\n",
       "</style>\n",
       "<table border=\"1\" class=\"dataframe\">\n",
       "  <thead>\n",
       "    <tr style=\"text-align: right;\">\n",
       "      <th></th>\n",
       "      <th>job_id</th>\n",
       "      <th>num_V100_32GB</th>\n",
       "      <th>num_V100_16GB</th>\n",
       "      <th>num_A100_40GB</th>\n",
       "      <th>num_A100_80GB</th>\n",
       "      <th>alloc_cpu</th>\n",
       "      <th>alloc_mem</th>\n",
       "      <th>alloc_energy</th>\n",
       "      <th>partition</th>\n",
       "      <th>group</th>\n",
       "      <th>elapsed</th>\n",
       "      <th>qos</th>\n",
       "      <th>jobname</th>\n",
       "      <th>start</th>\n",
       "      <th>end</th>\n",
       "      <th>account</th>\n",
       "      <th>file</th>\n",
       "      <th>duration</th>\n",
       "    </tr>\n",
       "  </thead>\n",
       "  <tbody>\n",
       "    <tr>\n",
       "      <th>41517</th>\n",
       "      <td>726762</td>\n",
       "      <td>0</td>\n",
       "      <td>0</td>\n",
       "      <td>0</td>\n",
       "      <td>384</td>\n",
       "      <td>6144.0</td>\n",
       "      <td>22500G</td>\n",
       "      <td>NaN</td>\n",
       "      <td>gpu_p5</td>\n",
       "      <td>six</td>\n",
       "      <td>2-23:05:37</td>\n",
       "      <td>qos_gpu-gc</td>\n",
       "      <td>tr11-176B-ml</td>\n",
       "      <td>2022-03-25 11:09:19</td>\n",
       "      <td>2022-03-28 11:14:56</td>\n",
       "      <td>NaN</td>\n",
       "      <td>2022_08_02_thomas_wang_jz_logs.txt</td>\n",
       "      <td>3 days 00:05:37</td>\n",
       "    </tr>\n",
       "  </tbody>\n",
       "</table>\n",
       "</div>"
      ],
      "text/plain": [
       "       job_id  num_V100_32GB  num_V100_16GB  num_A100_40GB  num_A100_80GB  \\\n",
       "41517  726762  0              0              0              384             \n",
       "\n",
       "       alloc_cpu alloc_mem  alloc_energy partition group     elapsed  \\\n",
       "41517  6144.0     22500G   NaN            gpu_p5    six   2-23:05:37   \n",
       "\n",
       "              qos       jobname               start                 end  \\\n",
       "41517  qos_gpu-gc  tr11-176B-ml 2022-03-25 11:09:19 2022-03-28 11:14:56   \n",
       "\n",
       "      account                                file        duration  \n",
       "41517  NaN     2022_08_02_thomas_wang_jz_logs.txt 3 days 00:05:37  "
      ]
     },
     "execution_count": 209,
     "metadata": {},
     "output_type": "execute_result"
    }
   ],
   "source": [
    "df[df['job_id']=='726762']"
   ]
  },
  {
   "cell_type": "code",
   "execution_count": 210,
   "metadata": {},
   "outputs": [
    {
     "data": {
      "text/plain": [
       "0       0 days 00:00:00\n",
       "1       0 days 00:02:11\n",
       "2       0 days 00:00:30\n",
       "3       0 days 00:00:00\n",
       "4       0 days 00:00:00\n",
       "              ...      \n",
       "39026   0 days 00:09:47\n",
       "39027   0 days 00:11:51\n",
       "39028   0 days 00:20:09\n",
       "39029   0 days 00:20:54\n",
       "39030   0 days 00:10:45\n",
       "Name: duration, Length: 177192, dtype: timedelta64[ns]"
      ]
     },
     "execution_count": 210,
     "metadata": {},
     "output_type": "execute_result"
    }
   ],
   "source": [
    "df['duration']"
   ]
  },
  {
   "cell_type": "code",
   "execution_count": 211,
   "metadata": {},
   "outputs": [
    {
     "data": {
      "text/plain": [
       "Timedelta('5816 days 13:22:40')"
      ]
     },
     "execution_count": 211,
     "metadata": {},
     "output_type": "execute_result"
    }
   ],
   "source": [
    "df['duration'].sum()"
   ]
  },
  {
   "cell_type": "code",
   "execution_count": 135,
   "metadata": {},
   "outputs": [
    {
     "data": {
      "text/plain": [
       "2022_08_02_thomas_wang_jz_logs.txt      45967\n",
       "2022_08_08_luciles_logs.txt             39031\n",
       "2022_08_01_stas_jz_logs.txt             38111\n",
       "2022_08_25_victorsanh_jz_logs.txt       29049\n",
       "2022-08-24_tvn_jz_logs.txt              11385\n",
       "2022_08_01_muennighoff_jz_logs.txt      5139 \n",
       "2022_08_01_pierrec_jz_logs.txt          4813 \n",
       "new_hugo_laurencon_jz_logs.txt          2185 \n",
       "2022_08_24_thomwolf_jz_logs.txt         760  \n",
       "2022_08_02_younesb_jz_logs.txt          603  \n",
       "2022_08_24_roman_castagne_logs.txt      110  \n",
       "2022_08_01_sylvainv_jz_logs.txt         34   \n",
       "2022_08_08_danielhesslow_jz_logs.txt    5    \n",
       "Name: file, dtype: int64"
      ]
     },
     "execution_count": 135,
     "metadata": {},
     "output_type": "execute_result"
    }
   ],
   "source": [
    "df['file'].value_counts()"
   ]
  },
  {
   "cell_type": "code",
   "execution_count": null,
   "metadata": {},
   "outputs": [],
   "source": [
    "#FOCUS ON BLOOM TRAINING"
   ]
  },
  {
   "cell_type": "code",
   "execution_count": 212,
   "metadata": {},
   "outputs": [
    {
     "data": {
      "text/plain": [
       "(398, 18)"
      ]
     },
     "execution_count": 212,
     "metadata": {},
     "output_type": "execute_result"
    }
   ],
   "source": [
    "bloomdf = df[df['jobname'] == 'tr11-176B-ml']\n",
    "bloomdf.shape"
   ]
  },
  {
   "cell_type": "code",
   "execution_count": 216,
   "metadata": {},
   "outputs": [
    {
     "data": {
      "text/plain": [
       "384    316\n",
       "192    27 \n",
       "0      20 \n",
       "144    13 \n",
       "288    8  \n",
       "1      5  \n",
       "32     4  \n",
       "8      2  \n",
       "16     2  \n",
       "216    1  \n",
       "Name: num_A100_80GB, dtype: int64"
      ]
     },
     "execution_count": 216,
     "metadata": {},
     "output_type": "execute_result"
    }
   ],
   "source": [
    "bloomdf['num_A100_80GB'].value_counts()"
   ]
  },
  {
   "cell_type": "code",
   "execution_count": 215,
   "metadata": {
    "scrolled": true
   },
   "outputs": [
    {
     "data": {
      "text/plain": [
       "Timedelta('118 days 05:40:42')"
      ]
     },
     "execution_count": 215,
     "metadata": {},
     "output_type": "execute_result"
    }
   ],
   "source": [
    "bloomdf.duration.sum()"
   ]
  },
  {
   "cell_type": "code",
   "execution_count": null,
   "metadata": {},
   "outputs": [],
   "source": [
    "# OTHER TRAININGS"
   ]
  },
  {
   "cell_type": "code",
   "execution_count": 243,
   "metadata": {},
   "outputs": [
    {
     "data": {
      "text/plain": [
       "(6430, 18)"
      ]
     },
     "execution_count": 243,
     "metadata": {},
     "output_type": "execute_result"
    }
   ],
   "source": [
    "traindf = df[df['jobname'].str.startswith('tr')]\n",
    "traindf = traindf[traindf['jobname'] != 'tr11-176B-ml']\n",
    "traindf = traindf[~traindf['jobname'].str.contains('sync')]\n",
    "traindf = traindf[~traindf['jobname'].str.contains('slurm')]\n",
    "traindf = traindf[~traindf['jobname'].str.contains('move')]\n",
    "traindf = traindf[~traindf['jobname'].str.contains('eval')]\n",
    "traindf = traindf[~traindf['jobname'].str.contains('tokenizer')]\n",
    "traindf.shape"
   ]
  },
  {
   "cell_type": "code",
   "execution_count": 244,
   "metadata": {},
   "outputs": [
    {
     "data": {
      "text/plain": [
       "tr6e-1B3-prefix-lm                                        1435\n",
       "tr6f-1B3-prefix-lm                                        1431\n",
       "tr6g-1B3-prefix-lm                                        1008\n",
       "tr7d-1B3-alibi                                            433 \n",
       "tr11                                                      302 \n",
       "tr11-200B-ml                                              204 \n",
       "tr8-104B                                                  153 \n",
       "tr11f-6B3-ml                                              146 \n",
       "tr8b-104B-cl                                              131 \n",
       "tr8b-104B-bnb                                             123 \n",
       "tr8b-104B-emb-norm                                        117 \n",
       "tr13f-6B3-ml-t0                                           102 \n",
       "tr5c-1B3-multilingual-alpha-alibi                         81  \n",
       "tr11c-2B5-ml                                              78  \n",
       "tr5d-1B3-multilingual-equal-alibi                         73  \n",
       "tr11e-350M-ml                                             72  \n",
       "tr1-13B-round3                                            70  \n",
       "tr11d-760M-ml                                             69  \n",
       "tr11b-1B3-ml                                              63  \n",
       "tr8b-104B-cl-a100                                         50  \n",
       "tr8b-104B                                                 46  \n",
       "tr5b-1B3-multilingual-alpha                               42  \n",
       "tr7d-1B3-modeling-alibi-fp16                              21  \n",
       "tr8-104B-data-study-data-with-many-slashes                14  \n",
       "tr8b-104B-pile                                            14  \n",
       "tr13f-6B3-ml-t0-memcheck                                  14  \n",
       "tr7d-1B3-modeling-alibi-bf16                              12  \n",
       "tr11-176B-ml-spike                                        12  \n",
       "tr8-104B-mt5                                              12  \n",
       "training                                                  12  \n",
       "tr11e-350M-ml-t0                                          11  \n",
       "tr11f-6B3-ml-universal                                    8   \n",
       "tr11-176B-ml-universal                                    6   \n",
       "tr11b-1B3-ml-swiglu-a                                     5   \n",
       "train_tokenize_v2_toy                                     5   \n",
       "tr8b-104B-emb-norm-a100-bf16                              4   \n",
       "train_tokenize_v2                                         4   \n",
       "tr8-104B-tp4-pp32-bs1024                                  3   \n",
       "tr11e-350M-ml-continue-old                                3   \n",
       "tr8-104B-tp4-pp16-bs1024                                  3   \n",
       "tr8-104B-data-study-data-no-basic-junk                    3   \n",
       "tr8-104B-tp4-pp64-bs1024                                  3   \n",
       "tr8-104B-tp4-pp32-bs2048                                  2   \n",
       "tr8-104B-tp4-pp32                                         2   \n",
       "tr11b-1B3-ml-noswiglu                                     2   \n",
       "tr11b-1B3-ml-swiglu                                       2   \n",
       "tr7d-1B3-modeling-alibi-fp16-rampup                       2   \n",
       "tr11-200B-ml-2                                            2   \n",
       "tr11e-350M-ml-zero1                                       2   \n",
       "tr11e-350M-ml-swiglu                                      2   \n",
       "tr11e-350M-ml-noswiglu                                    1   \n",
       "tr8-104B-tp4-pp16                                         1   \n",
       "tr11b-1B3-ml-noswiglu-a                                   1   \n",
       "tr8-104B-tp4-pp8                                          1   \n",
       "tr5c-1B3-multilingual-equal-alibi                         1   \n",
       "trex_bs2560_hard_neg                                      1   \n",
       "tr8-104B-data-study-data-basic-junk-and-low-stopwords2    1   \n",
       "tr8-104B-data-study-data-basic-junk-and-low-stopwords     1   \n",
       "tr7d-1B3-modeling-alibi-bf16-rampup                       1   \n",
       "tr8-104B-data-study-TEMPLATE                              1   \n",
       "tr8-104B-data-study-data-basic-junk                       1   \n",
       "tr5b-1B3-multilingual-alpha-16                            1   \n",
       "tr8-104B-data-study-data-junk-with-stopwords              1   \n",
       "tr8-104B-data-study-data-with-only-slashes                1   \n",
       "tr8-104B-data-study-data-basic-junk-only2                 1   \n",
       "tr8-104B-data-study-data-basic-junk-only                  1   \n",
       "Name: jobname, dtype: int64"
      ]
     },
     "execution_count": 244,
     "metadata": {},
     "output_type": "execute_result"
    }
   ],
   "source": [
    "traindf['jobname'].value_counts()"
   ]
  },
  {
   "cell_type": "code",
   "execution_count": 245,
   "metadata": {},
   "outputs": [
    {
     "data": {
      "text/plain": [
       "Timedelta('488 days 13:34:21')"
      ]
     },
     "execution_count": 245,
     "metadata": {},
     "output_type": "execute_result"
    }
   ],
   "source": [
    "traindf.duration.sum()"
   ]
  },
  {
   "cell_type": "code",
   "execution_count": null,
   "metadata": {},
   "outputs": [],
   "source": [
    "# EVAL"
   ]
  },
  {
   "cell_type": "code",
   "execution_count": 247,
   "metadata": {},
   "outputs": [
    {
     "data": {
      "text/plain": [
       "(16041, 18)"
      ]
     },
     "execution_count": 247,
     "metadata": {},
     "output_type": "execute_result"
    }
   ],
   "source": [
    "evaldf = df[df['jobname'].str.contains('eval')]\n",
    "evaldf.shape"
   ]
  },
  {
   "cell_type": "code",
   "execution_count": 248,
   "metadata": {},
   "outputs": [
    {
     "data": {
      "text/plain": [
       "eval-tr3                                                                            3643\n",
       "evaluate_t0                                                                         2337\n",
       "eval_finetune-t5-xxl-lm-d4-091621                                                   747 \n",
       "score_eval_finetune-t5-xxl-lm-d4-091621                                             694 \n",
       "score_eval_finetune-t5-xxl-lm-d4-all-091621                                         671 \n",
       "eval_baseline                                                                       534 \n",
       "eval_finetune-t5-xxl-lm-d4-all-091621                                               531 \n",
       "eval_finetune-t5-xl-lm-d4-091621                                                    530 \n",
       "eval_finetune-t5-xxl-lm-d4-091621-512                                               530 \n",
       "eval_finetune-t5-xxl-lm-d4-gpt-091621                                               514 \n",
       "bs-eval-bloom-176b                                                                  504 \n",
       "score_eval_finetune-t5-xxl-lm-d4-og-091621                                          446 \n",
       "score_eval_finetune-t5-xl-lm-d4-091621                                              446 \n",
       "score_eval_finetune-t5-xxl-lm-d4-091621-512                                         446 \n",
       "score_eval_finetune-t5-xxl-lm-d4-gpt-091621                                         446 \n",
       "bs-eval-opt-175b                                                                    397 \n",
       "eai-eval                                                                            396 \n",
       "tr3n_harness_eval                                                                   324 \n",
       "eval                                                                                267 \n",
       "eval_finetune-t5-xxl-lm-d4-og-091621                                                265 \n",
       "score_eval_finetune-t5-xxl-lm-d4-all-og-091621                                      231 \n",
       "score_eval                                                                          128 \n",
       "eai-eval-opt-175b                                                                   127 \n",
       "biasfairness_evaluate                                                               116 \n",
       "run_evalharness-tr11-176B-a100-p1-muennighoff                                       73  \n",
       "run_evalharness-tr11-176B-a100                                                      48  \n",
       "bseval-tr13f-6B3                                                                    48  \n",
       "eai-eval-bloom-176b                                                                 48  \n",
       "run_evalharness-tr11-176b-ml                                                        44  \n",
       "tr3n_checkpoints_harness_eval                                                       32  \n",
       "eai-eval-opt-125m                                                                   26  \n",
       "tr3n_vs_tr3o_harness_eval                                                           26  \n",
       "tr3n_with_eosharness_eval                                                           25  \n",
       "run_evalharness-tr11-176b-ml-muennighoff                                            23  \n",
       "run_evalharness-tr13f-6B3-prefix                                                    20  \n",
       "tr13-base-eval                                                                      20  \n",
       "tr7b-350M-alibi-eval-1-seq-len.slurm                                                20  \n",
       "tr7a-1B3-alibi-eval                                                                 17  \n",
       "eval-array                                                                          17  \n",
       "run_evalharness-tr11-350M-ml                                                        15  \n",
       "eval-opt                                                                            14  \n",
       "lm-eval-tr5b-1B3-multilingual-alpha                                                 14  \n",
       "lm-eval-tr4c-1B3-rotary                                                             12  \n",
       "modelling-metadata-html-exp1-subexp1-evaluation-without-metadata                    12  \n",
       "run_bsevalharness-tr11e-350m-ml                                                     12  \n",
       "run_bsevalharness-tr11b-1b3-ml                                                      12  \n",
       "run_bsevalharness-tr11-176b-ml                                                      10  \n",
       "download_bs_eval                                                                    10  \n",
       "gpt_eval                                                                            9   \n",
       "thomas_run_evalharness-tr11-176b-ml                                                 9   \n",
       "run_evalharness-tr13f-6b3                                                           8   \n",
       "350M-alibi-check-eval-1-seq.slurm                                                   7   \n",
       "run_evalharness-tr11-176B-a100-p2                                                   7   \n",
       "run_evalharness-tr11c-6b3-ml                                                        7   \n",
       "eval_gpt_prefix_loss.slurm                                                          6   \n",
       "bs-eval-opt-125m                                                                    6   \n",
       "run_evalharness-tr11b-2b5-ml                                                        6   \n",
       "modelling-metadata-html-exp1-subexp2-evaluation-without-metadata                    6   \n",
       "eval_gpt_1B3_prefix_loss.slurm                                                      5   \n",
       "eval-harness-deepspeed                                                              5   \n",
       "lm-eval-swiglu                                                                      5   \n",
       "eval-bloom                                                                          5   \n",
       "eai-eval-opt                                                                        5   \n",
       "modelling-metadata-html-metadata-exp1-evaluation-without-metadata-create-dataset    5   \n",
       "tr3n_smoothed_harness_eval                                                          4   \n",
       "lm-eval-tr3m-1B3-emb-norm-pile                                                      4   \n",
       "lm-eval-tr3m-1B3-emb-norm                                                           4   \n",
       "run_bsevalharness-tr11c-2b5-ml                                                      4   \n",
       "350M-alibi-check-eval-2-seq.slurm                                                   4   \n",
       "run_evalharness-tr11d-760m-ml                                                       3   \n",
       "tr3n-1B3-pile-fancy-eval                                                            3   \n",
       "eval_gpt_rotary_prefix_loss.slurm                                                   3   \n",
       "bs-code-eval-bloom-176b                                                             3   \n",
       "run_bsevalharness-tr11b-2b5-ml                                                      3   \n",
       "run_evalharness-tr11-2B5-ml                                                         2   \n",
       "run_evalharness-tr11-1B3-ml                                                         2   \n",
       "eval-opt-int8-thresh-6                                                              2   \n",
       "run_evalharness-tr11e-350m-ml                                                       2   \n",
       "eval-bloom-bf16                                                                     2   \n",
       "eval-opt-fp16                                                                       2   \n",
       "eval-opt-int8                                                                       2   \n",
       "eval-harness-deepspeed-test                                                         2   \n",
       "lm-eval-tr7d-1B3-alibi-1                                                            2   \n",
       "run_bsevalharness-tr11-350M-ml                                                      2   \n",
       "run_evalharness-tr13c-6b3                                                           2   \n",
       "run_evalharness-tr11c-6b3-ml-169                                                    2   \n",
       "eval_finetune-t5-xxl-lm-d4-all-og-091621                                            1   \n",
       "lm-eval-tr4c-1B3-rotary-1                                                           1   \n",
       "lm-eval-tr7d-1B3-alibi                                                              1   \n",
       "download-bslmeval                                                                   1   \n",
       "eval-bloom-int8                                                                     1   \n",
       "bias_evaluate                                                                       1   \n",
       "eval-bloom-int8-thresh-0                                                            1   \n",
       "eval-bloom-int8-thresh-6                                                            1   \n",
       "eval-opt-fp16-4                                                                     1   \n",
       "run_evalharness-tr11-6B3-ml                                                         1   \n",
       "run_evalharness-tr11-760M-ml                                                        1   \n",
       "run_evalharness-tr11c-6b3                                                           1   \n",
       "tr4c-1B3-alibi-eval                                                                 1   \n",
       "Name: jobname, dtype: int64"
      ]
     },
     "execution_count": 248,
     "metadata": {},
     "output_type": "execute_result"
    }
   ],
   "source": [
    "evaldf['jobname'].value_counts()"
   ]
  },
  {
   "cell_type": "code",
   "execution_count": null,
   "metadata": {},
   "outputs": [],
   "source": [
    "# TOKENIZER"
   ]
  },
  {
   "cell_type": "code",
   "execution_count": 249,
   "metadata": {},
   "outputs": [
    {
     "data": {
      "text/plain": [
       "(103, 18)"
      ]
     },
     "execution_count": 249,
     "metadata": {},
     "output_type": "execute_result"
    }
   ],
   "source": [
    "tokendf = df[df['jobname'].str.contains('tokenizer')]\n",
    "tokendf.shape"
   ]
  },
  {
   "cell_type": "code",
   "execution_count": 250,
   "metadata": {},
   "outputs": [
    {
     "data": {
      "text/plain": [
       "train_tokenizer                                                 67\n",
       "modelling-metadata-example-load-model-and-tokenizer             11\n",
       "modelling-metadata-website-desc-load-model-and-tokenizer        8 \n",
       "modelling-metadata-html-download-tokenizer-and-model            6 \n",
       "compare_tokenizers                                              3 \n",
       "modelling-metadata-entity-beg-load-model-and-tokenizer          2 \n",
       "modelling-metadata-exp1-subexp3-load-model-and-tokenizer        2 \n",
       "modelling-metadata-entity-load-model-and-tokenizer              1 \n",
       "modelling-metadata-exp1-subexp1-load-model-and-tokenizer        1 \n",
       "modelling-metadata-exp1-subexp2-load-model-and-tokenizer        1 \n",
       "modelling-metadata-website-desc-load-model-and-tokenizer-25k    1 \n",
       "Name: jobname, dtype: int64"
      ]
     },
     "execution_count": 250,
     "metadata": {},
     "output_type": "execute_result"
    }
   ],
   "source": [
    "tokendf['jobname'].value_counts()"
   ]
  },
  {
   "cell_type": "code",
   "execution_count": null,
   "metadata": {},
   "outputs": [],
   "source": [
    "## DATA PROCESSING, DOWNLOADING, DEDUPLICATION"
   ]
  },
  {
   "cell_type": "code",
   "execution_count": 255,
   "metadata": {},
   "outputs": [
    {
     "data": {
      "text/plain": [
       "(29359, 18)"
      ]
     },
     "execution_count": 255,
     "metadata": {},
     "output_type": "execute_result"
    }
   ],
   "source": [
    "datadf = df[df['jobname'].str.contains('data')]\n",
    "datadf = datadf[~datadf['jobname'].str.contains('token')]\n",
    "datadf.shape\n"
   ]
  },
  {
   "cell_type": "code",
   "execution_count": 256,
   "metadata": {},
   "outputs": [
    {
     "data": {
      "text/plain": [
       "download_all_catalogue_datasets                                                     4507\n",
       "pseudo_crawl_clean_dataset                                                          4282\n",
       "preprocess_all_catalogue_datasets                                                   3146\n",
       "modelling-metadata-c4-dataset-toy-add-metadata-full                                 2925\n",
       "modelling-metadata-c4-dataset-toy-add-website-desc                                  2844\n",
       "modelling-metadata-c4-dataset-export-to-jsonlines                                   2801\n",
       "modelling-metadata-c4-dataset-toy-add-metadata-full-v3                              2761\n",
       "filter_short_document_all_catalogue_datasets                                        1900\n",
       "deduplicate_all_catalogue_datasets                                                  1121\n",
       "modelling-metadata-c4-dataset-toy-add-metadata-full-v2                              873 \n",
       "convert_datasets_to_jsonl                                                           609 \n",
       "yong-download_dataset                                                               373 \n",
       "modelling-metadata-c4-dataset-toy-add-metadata                                      159 \n",
       "modelling-metadata-c4-dataset-toy-add-metadata-timestamp                            125 \n",
       "modelling-metadata-c4-dataset-toy-add-metadata-entity                               80  \n",
       "modelling-metadata-c4-dataset-toy-add-metadata-url                                  80  \n",
       "modelling-metadata-c4-dataset-toy-add-metadata-website_description                  71  \n",
       "modelling-metadata-html-create-dataset-test                                         63  \n",
       "modelling-metadata-c4-dataset-toy-add-entities                                      62  \n",
       "modelling-metadata-html-do-train-test                                               32  \n",
       "modelling-metadata-c4-dataset-toy-add-metadata-html                                 30  \n",
       "modelling-metadata-sync-wandb                                                       26  \n",
       "tetraencoder_all_datasets                                                           23  \n",
       "download_dataset                                                                    20  \n",
       "preprocess_data_megatron                                                            18  \n",
       "modelling-metadata-example-load-dataset                                             17  \n",
       "modelling-metadata-joint-toy-1                                                      16  \n",
       "modelling-metadata-html-metadata-exp1-subexp1-transform-checkpoints                 16  \n",
       "modelling-metadata-html-metadata-exp1-subexp2-create-dataset                        14  \n",
       "tr8-104B-data-study-data-with-many-slashes                                          14  \n",
       "modelling-metadata-XX                                                               14  \n",
       "modelling-metadata-c4-dataset-toy-add-entities-cpu-2-bs-clip-max-num                13  \n",
       "modelling-metadata-html-download-dataset-test                                       12  \n",
       "modelling-metadata-html-exp1-subexp1-evaluation-without-metadata                    12  \n",
       "modelling-metadata-c4-dataset-create-toy                                            12  \n",
       "modelling-metadata-test-format                                                      12  \n",
       "load_dataset                                                                        11  \n",
       "dummy-data-processing                                                               10  \n",
       "modelling-metadata-c3-dataset-toy                                                   10  \n",
       "modelling-metadata-html-metadata-create-dataset                                     7   \n",
       "modelling-metadata-html-metadata-exp1-subexp1-create-dataset                        7   \n",
       "modelling-metadata-html-joint-toy-1                                                 6   \n",
       "sharding_dataset_fr                                                                 6   \n",
       "make_partial_bigscience_dataset                                                     6   \n",
       "modelling-metadata-c4-dataset-toy-add-entities-cpu-1-bs-clip-5000                   6   \n",
       "modelling-metadata-c4-dataset-toy-add-entities-cpu-1-bs-2-total-1000                6   \n",
       "modelling-metadata-html-create-toy-dataset                                          6   \n",
       "modelling-metadata-html-exp1-subexp2-evaluation-without-metadata                    6   \n",
       "modelling-metadata-c4-dataset-toy-add-entities-cpu-1-bs-1-total-1000                6   \n",
       "modelling-metadata-website-desc-create-dataset-25k                                  6   \n",
       "modelling-metadata-c4-dataset-toy-add-entities-cpu-2-bs-1-total-1000                6   \n",
       "reduce_all_datasets_options                                                         6   \n",
       "modelling-metadata-c4-dataset-toy-add-entities-cpu-2-bs-100-total-1000              6   \n",
       "modelling-metadata-c4-dataset-toy-add-entities-gpu-100                              6   \n",
       "modelling-metadata-c4-dataset-toy-add-entities-gpu-1000                             6   \n",
       "modelling-metadata-c4-dataset-toy-add-entities-gpu-2000                             6   \n",
       "modelling-metadata-c4-dataset-toy-add-entities-gpu                                  6   \n",
       "modelling-metadata-html-metadata-exp1-evaluation-without-metadata-create-dataset    5   \n",
       "modelling-metadata-html-exp1-subexp2-train                                          5   \n",
       "modelling-metadata-website-desc-load-dataset-25k                                    5   \n",
       "modelling-metadata-entity-beg-metadata-example-create-dataset                       5   \n",
       "pseudo_crawl_check_erros_in_dataset                                                 5   \n",
       "reduce_natural_questions_dataset                                                    5   \n",
       "modelling-metadata-dowload-wikipedia-dataset                                        4   \n",
       "modelling-metadata-html-joint_training_toy2-fp16                                    4   \n",
       "modelling-metadata-html-joint_training_toy3-fp16-multigpu                           4   \n",
       "modelling-metadata-html-example-train                                               4   \n",
       "preprocess_data_dedup_megatron                                                      4   \n",
       "convert_dataset_jsonl                                                               4   \n",
       "modelling-metadata-c4-dataset-toy-add-entities-cpu-2-bs-no-clip                     4   \n",
       "modelling-metadata-c4-dataset-toy-add-entities-cpu-1-bs-no-clip                     4   \n",
       "download_data                                                                       4   \n",
       "modelling-metadata-c4-dataset-gzip-data                                             3   \n",
       "joint-toy-4-test-gpt2-xl-mod-metadata                                               3   \n",
       "tr8-104B-data-study-data-no-basic-junk                                              3   \n",
       "all_datasets_bs2560_hard_neg                                                        3   \n",
       "modelling-metadata-website-desc-load-dataset                                        3   \n",
       "modelling-metadata-html-XX                                                          3   \n",
       "modelling-metadata-example-path                                                     3   \n",
       "modelling-metadata-website-desc-create-dataset                                      2   \n",
       "modelling-metadata-test-database-download                                           2   \n",
       "modelling-metadata-c4-push-to-hub                                                   2   \n",
       "convert_dataset_jsonl_dedup                                                         2   \n",
       "modelling-metadata-exp1-subexp2-load-dataset                                        2   \n",
       "modelling-metadata-exp1-subexp3-load-dataset                                        2   \n",
       "modelling-metadata-c4-dataset-toy-download-flair-model                              2   \n",
       "all_datasets                                                                        2   \n",
       "modelling-metadata-c4-dataset-toy-add-entities-cpu-1-bs-clip-5000-full              2   \n",
       "modelling-metadata-c4-dataset-toy-add-entities-cpu-1-bs-no-clip-full                2   \n",
       "modelling-metadata-html-exp1-subexp1-train                                          2   \n",
       "tr8-104B-data-study-data-junk-with-stopwords                                        1   \n",
       "tr8-104B-data-study-data-basic-junk-only                                            1   \n",
       "tr8-104B-data-study-data-with-only-slashes                                          1   \n",
       "modelling-metadata-website-desc-clean-train-25k                                     1   \n",
       "tr8-104B-data-study-data-basic-junk                                                 1   \n",
       "tr8-104B-data-study-TEMPLATE                                                        1   \n",
       "reduce_all_datasets                                                                 1   \n",
       "all_datasets_bs3072_hard_neg                                                        1   \n",
       "tr8-104B-data-study-data-basic-junk-only2                                           1   \n",
       "modelling-metadata-entity-metadata-example-create-dataset                           1   \n",
       "tr8-104B-data-study-data-basic-junk-and-low-stopwords                               1   \n",
       "tr8-104B-data-study-data-basic-junk-and-low-stopwords2                              1   \n",
       "modelling-metadata-entity-load-dataset                                              1   \n",
       "modelling-metadata-c4-import-dataset-retry                                          1   \n",
       "modelling-metadata-c4-import-dataset-more-time                                      1   \n",
       "modelling-metadata-c4-import-dataset                                                1   \n",
       "modelling-metadata-entity-example-train                                             1   \n",
       "modelling-metadata-website-desc-train                                               1   \n",
       "modelling-metadata-entity-beg-load-dataset                                          1   \n",
       "modelling-metadata-html-metadata-example-create-dataset                             1   \n",
       "modelling-metadata-c4-dataset_import-c4                                             1   \n",
       "modelling-metadata-html-metadata-exp1-subexp3-create-dataset                        1   \n",
       "modelling-metadata-html-exp1-subexp3-train                                          1   \n",
       "modelling-metadata-html-metadata-exp1-subexp2-transform-checkpoints                 1   \n",
       "modelling-metadata-html-metadata-exp1-subexp3-transform-checkpoints                 1   \n",
       "modelling-metadata-exp1-subexp1-load-dataset                                        1   \n",
       "Name: jobname, dtype: int64"
      ]
     },
     "execution_count": 256,
     "metadata": {},
     "output_type": "execute_result"
    }
   ],
   "source": [
    "datadf['jobname'].value_counts()"
   ]
  },
  {
   "cell_type": "code",
   "execution_count": 71,
   "metadata": {},
   "outputs": [
    {
     "data": {
      "text/plain": [
       "<AxesSubplot:>"
      ]
     },
     "execution_count": 71,
     "metadata": {},
     "output_type": "execute_result"
    },
    {
     "data": {
      "image/png": "[encoded data removed]",
      "text/plain": [
       "<Figure size 432x288 with 1 Axes>"
      ]
     },
     "metadata": {
      "needs_background": "light"
     },
     "output_type": "display_data"
    }
   ],
   "source": [
    "df['duration'].hist()"
   ]
  },
  {
   "cell_type": "code",
   "execution_count": 69,
   "metadata": {},
   "outputs": [
    {
     "data": {
      "text/plain": [
       "<AxesSubplot:>"
      ]
     },
     "execution_count": 69,
     "metadata": {},
     "output_type": "execute_result"
    },
    {
     "data": {
      "image/png": "[encoded data removed]",
      "text/plain": [
       "<Figure size 432x288 with 1 Axes>"
      ]
     },
     "metadata": {
      "needs_background": "light"
     },
     "output_type": "display_data"
    }
   ],
   "source": [
    "df['gpu_power'].hist()"
   ]
  },
  {
   "cell_type": "code",
   "execution_count": 66,
   "metadata": {},
   "outputs": [
    {
     "data": {
      "text/plain": [
       "<AxesSubplot:>"
      ]
     },
     "execution_count": 66,
     "metadata": {},
     "output_type": "execute_result"
    },
    {
     "data": {
      "image/png": "[encoded data removed]",
      "text/plain": [
       "<Figure size 432x288 with 1 Axes>"
      ]
     },
     "metadata": {
      "needs_background": "light"
     },
     "output_type": "display_data"
    }
   ],
   "source": [
    "df['cpu_power'].hist()"
   ]
  },
  {
   "cell_type": "code",
   "execution_count": 70,
   "metadata": {},
   "outputs": [
    {
     "data": {
      "text/plain": [
       "<AxesSubplot:>"
      ]
     },
     "execution_count": 70,
     "metadata": {},
     "output_type": "execute_result"
    },
    {
     "data": {
      "image/png": "[encoded data removed]",
      "text/plain": [
       "<Figure size 432x288 with 1 Axes>"
      ]
     },
     "metadata": {
      "needs_background": "light"
     },
     "output_type": "display_data"
    }
   ],
   "source": [
    "df['ram_power'].hist()"
   ]
  }
 ],
 "metadata": {
  "interpreter": {
   "hash": "aee8b7b246df8f9039afb4144a1f6fd8d2ca17a180786b69acc140d282b71a49"
  },
  "kernelspec": {
   "display_name": "Python 3 (ipykernel)",
   "language": "python",
   "name": "python3"
  },
  "language_info": {
   "codemirror_mode": {
    "name": "ipython",
    "version": 3
   },
   "file_extension": ".py",
   "mimetype": "text/x-python",
   "name": "python",
   "nbconvert_exporter": "python",
   "pygments_lexer": "ipython3",
   "version": "3.9.12"
  }
 },
 "nbformat": 4,
 "nbformat_minor": 2
}
